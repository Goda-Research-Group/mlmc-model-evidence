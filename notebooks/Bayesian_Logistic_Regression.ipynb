{
 "cells": [
  {
   "cell_type": "markdown",
   "metadata": {},
   "source": [
    "# Import Packages and Dataset"
   ]
  },
  {
   "cell_type": "code",
   "execution_count": 1,
   "metadata": {},
   "outputs": [],
   "source": [
    "import tensorflow as tf\n",
    "import tensorflow_probability as tfp\n",
    "tfd = tfp.distributions"
   ]
  },
  {
   "cell_type": "code",
   "execution_count": 2,
   "metadata": {},
   "outputs": [],
   "source": [
    "import numpy as np\n",
    "import pandas as pd\n",
    "from sklearn.datasets import load_breast_cancer\n",
    "from sklearn.linear_model import LogisticRegression\n",
    "from matplotlib import pyplot as plt"
   ]
  },
  {
   "cell_type": "code",
   "execution_count": 3,
   "metadata": {},
   "outputs": [],
   "source": [
    "# import breast cancer dataset for binary classification\n",
    "x,y = load_breast_cancer(return_X_y=True)\n",
    "dim_x = x.shape[1]"
   ]
  },
  {
   "cell_type": "markdown",
   "metadata": {},
   "source": [
    "# Utilities"
   ]
  },
  {
   "cell_type": "code",
   "execution_count": 4,
   "metadata": {},
   "outputs": [],
   "source": [
    "tf_float_type = tf.float64\n",
    "np_float_type = np.float64\n",
    "as_tf_float = lambda x: tf.cast(x, tf_float_type)"
   ]
  },
  {
   "cell_type": "code",
   "execution_count": 5,
   "metadata": {},
   "outputs": [],
   "source": [
    "def tf_logsumexp(ary, axis=1, keepdims=False):\n",
    "    return tf.math.reduce_logsumexp(ary, axis=axis, keepdims=keepdims)\n",
    "\n",
    "def tf_logmeanexp(ary, axis=1, keepdims=False):\n",
    "    return tf.math.reduce_logsumexp(ary, axis=axis, keepdims=keepdims) \\\n",
    "        - tf.math.log(as_tf_float(ary.shape[axis]))"
   ]
  },
  {
   "cell_type": "markdown",
   "metadata": {},
   "source": [
    "# Logistic Regression on Dataset"
   ]
  },
  {
   "cell_type": "code",
   "execution_count": 6,
   "metadata": {
    "scrolled": false
   },
   "outputs": [
    {
     "data": {
      "text/plain": [
       "array([[ 1.02743284,  0.18106721, -0.2734324 ,  0.02231185, -0.18160364,\n",
       "        -0.22197946, -0.54139022, -0.30176878, -0.27041253, -0.02992543,\n",
       "        -0.08151345,  1.25273389,  0.09216139, -0.10652557, -0.02567079,\n",
       "         0.07200057, -0.0321638 , -0.03869664, -0.03672253,  0.01478789,\n",
       "         0.12643447, -0.43542492, -0.1012318 , -0.01378675, -0.36257047,\n",
       "        -0.68317936, -1.42725958, -0.61444911, -0.74060591, -0.09397159]])"
      ]
     },
     "execution_count": 6,
     "metadata": {},
     "output_type": "execute_result"
    }
   ],
   "source": [
    "m = LogisticRegression(max_iter=10000).fit(x,y)\n",
    "m.coef_"
   ]
  },
  {
   "cell_type": "code",
   "execution_count": 7,
   "metadata": {},
   "outputs": [
    {
     "data": {
      "text/plain": [
       "0.9578207381370826"
      ]
     },
     "execution_count": 7,
     "metadata": {},
     "output_type": "execute_result"
    }
   ],
   "source": [
    "m.score(x,y)"
   ]
  },
  {
   "cell_type": "markdown",
   "metadata": {},
   "source": [
    "# Bayesian Logistic Regression on dataset"
   ]
  },
  {
   "cell_type": "markdown",
   "metadata": {},
   "source": [
    "## Variatioal Bayes by KL[q||p]"
   ]
  },
  {
   "cell_type": "code",
   "execution_count": 8,
   "metadata": {},
   "outputs": [],
   "source": [
    "def pointwise_ELBO(loc_beta, scale_beta, beta):\n",
    "    \"\"\"\n",
    "    Compute ELBO for n_MC samples of beta, where the shape of beta is [n_MC, dim_x].\n",
    "    \n",
    "    Arguments:\n",
    "    loc_beta: 1-d array of size [dim_x]\n",
    "    scale_beta: 1-d array of size [dim_x]\n",
    "    beta: 2-d array of size [n_MC, dim_x] representing the n_MC samples of beta taken from q_beta\n",
    "    \n",
    "    Returns:\n",
    "    elbo: n_MC MC-samples of elbo\n",
    "    \"\"\"\n",
    "    p_beta = tfp.distributions.Normal(loc=np.zeros([dim_x]), scale=np.ones([dim_x]))\n",
    "    q_beta = tfp.distributions.Normal(loc=loc_beta, scale=scale_beta)\n",
    "    z = beta @ x.T# of shape [n_MC, n_train]\n",
    "    p_y = tfd.Bernoulli(logits=z)\n",
    "    y_ = y.reshape([1, -1])\n",
    "    elbo = tf.reduce_sum( p_y.log_prob(y_), axis=1)\\\n",
    "            + tf.reduce_sum( p_beta.log_prob(beta), axis=1)\\\n",
    "            - tf.reduce_sum( q_beta.log_prob(beta), axis=1)\n",
    "    return elbo"
   ]
  },
  {
   "cell_type": "code",
   "execution_count": 9,
   "metadata": {},
   "outputs": [],
   "source": [
    "def ELBO(loc_beta, scale_beta, n_MC=1):\n",
    "    q_beta = tfp.distributions.Normal(loc=loc_beta, scale=scale_beta)\n",
    "    beta = q_beta.sample(n_MC)# of shape [n_MC, dim_x]\n",
    "    elbo = tf.reduce_mean( pointwise_ELBO(loc_beta, scale_beta, beta) )\n",
    "    return elbo"
   ]
  },
  {
   "cell_type": "code",
   "execution_count": 10,
   "metadata": {
    "scrolled": true
   },
   "outputs": [
    {
     "name": "stdout",
     "output_type": "stream",
     "text": [
      "tf.Tensor(-21087.871548940027, shape=(), dtype=float64)\n"
     ]
    }
   ],
   "source": [
    "loc = tf.Variable(np.zeros([dim_x]))\n",
    "invSPscale = tf.Variable(np.ones([dim_x])) # defined as inv_softplus(scale) to keep the positive constraint of scale\n",
    "    \n",
    "for t in range(4000):\n",
    "    rho_t = 5e-6/(10+t)**0.7\n",
    "    \n",
    "    with tf.GradientTape() as g:\n",
    "        g.watch([loc, invSPscale])\n",
    "        scale = tf.math.softplus(invSPscale) \n",
    "        score = ELBO(loc, scale, 100)\n",
    "    dloc, dinvSPscale = g.gradient(score, [loc, invSPscale])\n",
    "\n",
    "    loc = loc + rho_t*dloc\n",
    "    invSPscale = invSPscale + rho_t*dinvSPscale\n",
    "print(score)"
   ]
  },
  {
   "cell_type": "code",
   "execution_count": 11,
   "metadata": {
    "scrolled": false
   },
   "outputs": [
    {
     "data": {
      "text/plain": [
       "<tf.Tensor: shape=(30,), dtype=float64, numpy=\n",
       "array([ 1.18614511e-01,  2.19474852e-01,  7.24304508e-01,  9.50990080e-01,\n",
       "        1.23877964e-03,  3.84078417e-04, -7.28906150e-04, -3.67350539e-04,\n",
       "        2.34037957e-03,  9.26860835e-04,  6.75937878e-04,  1.73595398e-02,\n",
       "        3.58544653e-03, -2.46351425e-01,  1.06205200e-04,  1.65225184e-04,\n",
       "        1.62925466e-04,  7.59804435e-05,  2.90049026e-04,  4.64980009e-05,\n",
       "        1.13885264e-01,  2.80227607e-01,  6.90804311e-01, -9.17959652e-01,\n",
       "        1.62106894e-03,  4.17846498e-04, -9.51687636e-04, -1.59868074e-04,\n",
       "        3.38235394e-03,  1.02956243e-03])>"
      ]
     },
     "execution_count": 11,
     "metadata": {},
     "output_type": "execute_result"
    }
   ],
   "source": [
    "loc"
   ]
  },
  {
   "cell_type": "code",
   "execution_count": 12,
   "metadata": {
    "scrolled": true
   },
   "outputs": [
    {
     "data": {
      "text/plain": [
       "<tf.Tensor: shape=(30,), dtype=float64, numpy=\n",
       "array([1.29517033, 1.27114864, 0.80945935, 0.10263139, 1.31320424,\n",
       "       1.31321577, 1.31320426, 1.31320503, 1.31320853, 1.31321129,\n",
       "       1.31316065, 1.31294971, 1.31227143, 1.16356333, 1.31321075,\n",
       "       1.31321218, 1.3132122 , 1.31321115, 1.31321132, 1.31321171,\n",
       "       1.28909647, 1.24213144, 0.72407431, 0.07640721, 1.31321164,\n",
       "       1.31319891, 1.31320773, 1.31321931, 1.31320651, 1.31320305])>"
      ]
     },
     "execution_count": 12,
     "metadata": {},
     "output_type": "execute_result"
    }
   ],
   "source": [
    "scale"
   ]
  },
  {
   "cell_type": "code",
   "execution_count": 13,
   "metadata": {},
   "outputs": [
    {
     "data": {
      "text/plain": [
       "0.9068541300527241"
      ]
     },
     "execution_count": 13,
     "metadata": {},
     "output_type": "execute_result"
    }
   ],
   "source": [
    "np.mean((x @ loc.numpy()>0)==y) # accuracy of binary prediction"
   ]
  },
  {
   "cell_type": "markdown",
   "metadata": {},
   "source": [
    "## Variational Bayes by Renyi Divergence"
   ]
  },
  {
   "cell_type": "code",
   "execution_count": 14,
   "metadata": {},
   "outputs": [],
   "source": [
    "def KL_term(loc_beta, scale_beta, n_MC=1):\n",
    "    p_beta = tfp.distributions.Normal(loc=np.zeros([dim_x]), scale=np.ones([dim_x]))\n",
    "    q_beta = tfp.distributions.Normal(loc=loc_beta, scale=scale_beta)\n",
    "    beta = q_beta.sample(n_MC)# of shape [n_MC, dim_x]\n",
    "    z = tf.matmul(beta, x.T)# of shape [n_MC, n_train]\n",
    "    p_y = tfd.Bernoulli(logits=z)\n",
    "    y_ = y.reshape([1, -1])\n",
    "    pointwise_KL = tf.reduce_sum( p_beta.log_prob(beta), axis=1)\\\n",
    "                    - tf.reduce_sum( q_beta.log_prob(beta), axis=1)\n",
    "    return tf.reduce_mean(pointwise_KL)"
   ]
  },
  {
   "cell_type": "code",
   "execution_count": 15,
   "metadata": {},
   "outputs": [
    {
     "data": {
      "text/plain": [
       "<tf.Tensor: shape=(), dtype=float64, numpy=-7.769432408652717>"
      ]
     },
     "execution_count": 15,
     "metadata": {},
     "output_type": "execute_result"
    }
   ],
   "source": [
    "KL_term(loc, scale, 100)"
   ]
  },
  {
   "cell_type": "code",
   "execution_count": 16,
   "metadata": {},
   "outputs": [],
   "source": [
    "def pointwise_IWELBO(loc_beta, scale_beta, beta):\n",
    "    \"\"\"\n",
    "    Compute ELBO for n_MC samples of beta, where the shape of beta is [n_MC, dim_x].\n",
    "    \n",
    "    Arguments:\n",
    "    loc_beta: 1-d array of size [dim_x]\n",
    "    scale_beta: 1-d array of size [dim_x]\n",
    "    beta: 3-d array of size [n_MC_out, n_MC_in, dim_x] representing the n_MC samples of beta taken from q_beta\n",
    "    \n",
    "    Returns:\n",
    "    elbo: n_MC MC-samples of elbo\n",
    "    \"\"\"\n",
    "\n",
    "    p_beta = tfp.distributions.Normal(loc=np.zeros([dim_x]), scale=np.ones([dim_x]))\n",
    "    q_beta = tfp.distributions.Normal(loc=loc_beta, scale=scale_beta)\n",
    "    z = beta @ x.T# of shape [n_MC_out, n_MC_in, n_train]\n",
    "    p_y = tfd.Bernoulli(logits=z)\n",
    "    log_prob_ratio = tf.reduce_sum( p_y.log_prob(y), axis=2)\\\n",
    "                    + tf.reduce_sum( p_beta.log_prob(beta), axis=2)\\\n",
    "                    - tf.reduce_sum( q_beta.log_prob(beta), axis=2)# of shape [n_MC_out, n_MC_in]\n",
    "    iwelbo = tf_logmeanexp(log_prob_ratio, axis=1)\n",
    "    return iwelbo"
   ]
  },
  {
   "cell_type": "code",
   "execution_count": 17,
   "metadata": {},
   "outputs": [],
   "source": [
    "def IWELBO(loc_beta, scale_beta, n_MC_out=1, n_MC_in=1):\n",
    "    q_beta = tfp.distributions.Normal(loc=loc_beta, scale=scale_beta)\n",
    "    beta = q_beta.sample([n_MC_out, n_MC_in])# of shape [n_MC_out, n_MC_in, dim_x]\n",
    "    iwelbo = tf.reduce_mean( pointwise_IWELBO(loc_beta, scale_beta, beta) )\n",
    "    return iwelbo"
   ]
  },
  {
   "cell_type": "code",
   "execution_count": 18,
   "metadata": {
    "scrolled": false
   },
   "outputs": [
    {
     "data": {
      "text/plain": [
       "<tf.Tensor: shape=(), dtype=float64, numpy=-16336.587319149776>"
      ]
     },
     "execution_count": 18,
     "metadata": {},
     "output_type": "execute_result"
    }
   ],
   "source": [
    "IWELBO(loc, scale, n_MC_out=100, n_MC_in=1)"
   ]
  },
  {
   "cell_type": "code",
   "execution_count": 19,
   "metadata": {
    "scrolled": false
   },
   "outputs": [
    {
     "data": {
      "text/plain": [
       "<tf.Tensor: shape=(), dtype=float64, numpy=-19657.90617668756>"
      ]
     },
     "execution_count": 19,
     "metadata": {},
     "output_type": "execute_result"
    }
   ],
   "source": [
    "ELBO(loc, scale, n_MC=100)"
   ]
  },
  {
   "cell_type": "code",
   "execution_count": 20,
   "metadata": {},
   "outputs": [],
   "source": [
    "def pointwise_Renyi_Chi(loc_beta, scale_beta, beta, gamma):\n",
    "    \"\"\"\n",
    "    Compute ELBO for n_MC samples of beta, where the shape of beta is [n_MC, dim_x].\n",
    "    \n",
    "    Arguments:\n",
    "    loc_beta: 1-d array of size [dim_x]\n",
    "    scale_beta: 1-d array of size [dim_x]\n",
    "    beta: 3-d array of size [n_MC_out, n_MC_in, dim_x] representing the n_MC samples of beta taken from q_beta\n",
    "    \n",
    "    Returns:\n",
    "    elbo: n_MC MC-samples of elbo\n",
    "    \"\"\"\n",
    "\n",
    "    p_beta = tfp.distributions.Normal(loc=np.zeros([dim_x]), scale=np.ones([dim_x]))\n",
    "    q_beta = tfp.distributions.Normal(loc=loc_beta, scale=scale_beta)\n",
    "    z = beta @ x.T# of shape [n_MC_out, n_MC_in, n_train]\n",
    "    p_y = tfd.Bernoulli(logits=z)\n",
    "    log_prob_ratio = tf.reduce_sum( p_y.log_prob(y), axis=2)\\\n",
    "                    + tf.reduce_sum( p_beta.log_prob(beta), axis=2)\\\n",
    "                    - tf.reduce_sum( q_beta.log_prob(beta), axis=2)# of shape [n_MC_out, n_MC_in]\n",
    "    score = 1./gamma * tf_logmeanexp(gamma * log_prob_ratio, axis=1)\n",
    "    return score"
   ]
  },
  {
   "cell_type": "code",
   "execution_count": 21,
   "metadata": {},
   "outputs": [],
   "source": [
    "def Renyi_Chi(loc_beta, scale_beta, gamma, n_MC_out=1, n_MC_in=1):\n",
    "    q_beta = tfp.distributions.Normal(loc=loc_beta, scale=scale_beta)\n",
    "    beta = q_beta.sample([n_MC_out, n_MC_in])# of shape [n_MC_out, n_MC_in, dim_x]\n",
    "    score = tf.reduce_mean( pointwise_Renyi_Chi(loc_beta, scale_beta, beta, gamma) )\n",
    "    return score"
   ]
  },
  {
   "cell_type": "code",
   "execution_count": 22,
   "metadata": {
    "scrolled": false
   },
   "outputs": [
    {
     "data": {
      "text/plain": [
       "<tf.Tensor: shape=(), dtype=float64, numpy=-1936.1934821923628>"
      ]
     },
     "execution_count": 22,
     "metadata": {},
     "output_type": "execute_result"
    }
   ],
   "source": [
    "Renyi_Chi(loc, scale, gamma=1, n_MC_out=100, n_MC_in=100)"
   ]
  },
  {
   "cell_type": "code",
   "execution_count": 23,
   "metadata": {
    "scrolled": true
   },
   "outputs": [
    {
     "data": {
      "text/plain": [
       "<tf.Tensor: shape=(), dtype=float64, numpy=-1905.2577076402463>"
      ]
     },
     "execution_count": 23,
     "metadata": {},
     "output_type": "execute_result"
    }
   ],
   "source": [
    "IWELBO(loc, scale, n_MC_out=100, n_MC_in=100)"
   ]
  },
  {
   "cell_type": "code",
   "execution_count": 24,
   "metadata": {
    "scrolled": true
   },
   "outputs": [
    {
     "data": {
      "text/plain": [
       "<tf.Tensor: shape=(), dtype=float64, numpy=-1937.1951177488452>"
      ]
     },
     "execution_count": 24,
     "metadata": {},
     "output_type": "execute_result"
    }
   ],
   "source": [
    "Renyi_Chi(loc, scale, gamma=1./2, n_MC_out=100, n_MC_in=100)"
   ]
  },
  {
   "cell_type": "code",
   "execution_count": 25,
   "metadata": {
    "scrolled": true
   },
   "outputs": [
    {
     "name": "stdout",
     "output_type": "stream",
     "text": [
      "tf.Tensor(-1812.386259107549, shape=(), dtype=float64)\n"
     ]
    }
   ],
   "source": [
    "loc = tf.Variable(np.zeros([dim_x]))\n",
    "invSPscale = tf.Variable(np.ones([dim_x])) # defined as inv_softplus(scale) to keep the positive constraint of scale\n",
    "    \n",
    "for t in range(1000):\n",
    "    rho_t = 1e-4/(10+t)**0.7\n",
    "    \n",
    "    with tf.GradientTape() as g:\n",
    "        g.watch([loc, invSPscale])\n",
    "        scale = tf.math.softplus(invSPscale) \n",
    "        score = Renyi_Chi(loc, scale, gamma=1./2, n_MC_out=100, n_MC_in=20)\n",
    "    dloc, dinvSPscale = g.gradient(score, [loc, invSPscale])\n",
    "\n",
    "    loc = loc + rho_t*dloc\n",
    "    invSPscale = invSPscale + rho_t*dinvSPscale\n",
    "print(score)"
   ]
  },
  {
   "cell_type": "code",
   "execution_count": 26,
   "metadata": {
    "scrolled": false
   },
   "outputs": [
    {
     "data": {
      "text/plain": [
       "<tf.Tensor: shape=(30,), dtype=float64, numpy=\n",
       "array([ 2.19412505e-01,  2.40471042e-01,  1.22059265e+00,  3.03734080e-01,\n",
       "        1.69849507e-03, -2.44603835e-03, -6.05670650e-03, -2.47086106e-03,\n",
       "        3.29562010e-03,  1.43879480e-03,  1.53302510e-03,  1.75485893e-02,\n",
       "       -1.13403092e-02, -5.81751472e-01,  8.09681877e-05, -6.59305597e-04,\n",
       "       -9.30986260e-04, -1.76670772e-04,  2.16045528e-04, -1.57655599e-05,\n",
       "        2.35073983e-01,  2.71659462e-01,  1.19681384e+00, -5.10950595e-01,\n",
       "        1.87589753e-03, -9.39812204e-03, -1.48278659e-02, -3.63346585e-03,\n",
       "        3.55395187e-03,  9.16426615e-04])>"
      ]
     },
     "execution_count": 26,
     "metadata": {},
     "output_type": "execute_result"
    }
   ],
   "source": [
    "loc"
   ]
  },
  {
   "cell_type": "code",
   "execution_count": 27,
   "metadata": {
    "scrolled": true
   },
   "outputs": [
    {
     "data": {
      "text/plain": [
       "<tf.Tensor: shape=(30,), dtype=float64, numpy=\n",
       "array([1.31130282, 1.25132672, 1.15880874, 0.22322541, 1.31271033,\n",
       "       1.31265101, 1.31263738, 1.31268055, 1.31255814, 1.3126714 ,\n",
       "       1.31273162, 1.3123736 , 1.30716389, 0.99530731, 1.31267869,\n",
       "       1.31268723, 1.31265222, 1.31266927, 1.31269361, 1.31267036,\n",
       "       1.30852148, 1.18850286, 0.97892056, 0.1827517 , 1.31263726,\n",
       "       1.31250039, 1.31278489, 1.31267229, 1.31282826, 1.31261277])>"
      ]
     },
     "execution_count": 27,
     "metadata": {},
     "output_type": "execute_result"
    }
   ],
   "source": [
    "scale"
   ]
  },
  {
   "cell_type": "code",
   "execution_count": 28,
   "metadata": {},
   "outputs": [
    {
     "data": {
      "text/plain": [
       "0.9191564147627417"
      ]
     },
     "execution_count": 28,
     "metadata": {},
     "output_type": "execute_result"
    }
   ],
   "source": [
    "np.mean((x @ loc.numpy()>0)==y) # accuracy of binary prediction"
   ]
  },
  {
   "cell_type": "code",
   "execution_count": 29,
   "metadata": {
    "scrolled": false
   },
   "outputs": [
    {
     "data": {
      "text/plain": [
       "<tf.Tensor: shape=(30,), dtype=float64, numpy=\n",
       "array([ 2.19412505e-01,  2.40471042e-01,  1.22059265e+00,  3.03734080e-01,\n",
       "        1.69849507e-03, -2.44603835e-03, -6.05670650e-03, -2.47086106e-03,\n",
       "        3.29562010e-03,  1.43879480e-03,  1.53302510e-03,  1.75485893e-02,\n",
       "       -1.13403092e-02, -5.81751472e-01,  8.09681877e-05, -6.59305597e-04,\n",
       "       -9.30986260e-04, -1.76670772e-04,  2.16045528e-04, -1.57655599e-05,\n",
       "        2.35073983e-01,  2.71659462e-01,  1.19681384e+00, -5.10950595e-01,\n",
       "        1.87589753e-03, -9.39812204e-03, -1.48278659e-02, -3.63346585e-03,\n",
       "        3.55395187e-03,  9.16426615e-04])>"
      ]
     },
     "execution_count": 29,
     "metadata": {},
     "output_type": "execute_result"
    }
   ],
   "source": [
    "loc"
   ]
  },
  {
   "cell_type": "code",
   "execution_count": 30,
   "metadata": {
    "scrolled": true
   },
   "outputs": [
    {
     "data": {
      "text/plain": [
       "<tf.Tensor: shape=(30,), dtype=float64, numpy=\n",
       "array([1.31130282, 1.25132672, 1.15880874, 0.22322541, 1.31271033,\n",
       "       1.31265101, 1.31263738, 1.31268055, 1.31255814, 1.3126714 ,\n",
       "       1.31273162, 1.3123736 , 1.30716389, 0.99530731, 1.31267869,\n",
       "       1.31268723, 1.31265222, 1.31266927, 1.31269361, 1.31267036,\n",
       "       1.30852148, 1.18850286, 0.97892056, 0.1827517 , 1.31263726,\n",
       "       1.31250039, 1.31278489, 1.31267229, 1.31282826, 1.31261277])>"
      ]
     },
     "execution_count": 30,
     "metadata": {},
     "output_type": "execute_result"
    }
   ],
   "source": [
    "scale"
   ]
  },
  {
   "cell_type": "code",
   "execution_count": 31,
   "metadata": {},
   "outputs": [
    {
     "data": {
      "text/plain": [
       "0.9191564147627417"
      ]
     },
     "execution_count": 31,
     "metadata": {},
     "output_type": "execute_result"
    }
   ],
   "source": [
    "np.mean((x @ loc.numpy()>0)==y) # accuracy of binary prediction"
   ]
  },
  {
   "cell_type": "markdown",
   "metadata": {},
   "source": [
    "# MLMC codition check"
   ]
  },
  {
   "cell_type": "code",
   "execution_count": 32,
   "metadata": {},
   "outputs": [],
   "source": [
    "def pointwise_dRenyi_Chi(loc_beta, scale_beta, gamma, beta):\n",
    "    n_MC_in = beta.shape[1]\n",
    "    assert np.log2(n_MC_in)%1==0\n",
    "    if n_MC_in == 1:\n",
    "        scores = pointwise_Renyi_Chi(loc_beta, scale_beta, beta, gamma) \n",
    "    else:\n",
    "        scores = pointwise_Renyi_Chi(loc_beta, scale_beta, beta, gamma)\n",
    "        scores -= (1/2.) * pointwise_Renyi_Chi(loc_beta, scale_beta, beta[:,:n_MC_in//2 ,:], gamma)\n",
    "        scores -= (1/2.) * pointwise_Renyi_Chi(loc_beta, scale_beta, beta[:, n_MC_in//2:,:], gamma)\n",
    "    return scores"
   ]
  },
  {
   "cell_type": "code",
   "execution_count": 33,
   "metadata": {},
   "outputs": [],
   "source": [
    "def dRenyi_Chi(loc_beta, scale_beta, gamma, n_MC_out=1, level=1):\n",
    "    n_MC_in = 2**level\n",
    "    q_beta = tfp.distributions.Normal(loc=loc_beta, scale=scale_beta)\n",
    "    beta = q_beta.sample([n_MC_out, n_MC_in])# of shape [n_MC_out, n_MC_in, dim_x]\n",
    "    return tf.reduce_mean( pointwise_dRenyi_Chi(loc_beta, scale_beta, gamma, beta) )"
   ]
  },
  {
   "cell_type": "code",
   "execution_count": 34,
   "metadata": {},
   "outputs": [],
   "source": [
    "def conv_stats_dRenyi_Chi(loc_beta, scale_beta, gamma, n_MC_out=10, level=1):\n",
    "    n_MC_in = 2**level\n",
    "    q_beta = tfp.distributions.Normal(loc=loc_beta, scale=scale_beta)\n",
    "    beta = q_beta.sample([n_MC_out, n_MC_in])# of shape [n_MC_out, n_MC_in, dim_x]\n",
    "    scores = pointwise_dRenyi_Chi(loc_beta, scale_beta, gamma, beta).numpy()\n",
    "    mean = scores.mean()\n",
    "    abs_mean = np.abs(mean)\n",
    "    var = scores.var()\n",
    "    return {'mean':mean, 'abs_mean':abs_mean, 'var':var}"
   ]
  },
  {
   "cell_type": "code",
   "execution_count": 40,
   "metadata": {
    "scrolled": false
   },
   "outputs": [],
   "source": [
    "conv_stats = [conv_stats_dRenyi_Chi(loc, scale, gamma=1, n_MC_out=10, level=level) for level in range(15)]\n",
    "conv_stats = pd.DataFrame(conv_stats)"
   ]
  },
  {
   "cell_type": "code",
   "execution_count": 41,
   "metadata": {
    "scrolled": true
   },
   "outputs": [
    {
     "data": {
      "image/png": "[encoded data removed]",
      "text/plain": [
       "<Figure size 432x288 with 1 Axes>"
      ]
     },
     "metadata": {
      "needs_background": "light"
     },
     "output_type": "display_data"
    }
   ],
   "source": [
    "plt.plot(conv_stats[['abs_mean', 'var']])\n",
    "plt.yscale('log')"
   ]
  },
  {
   "cell_type": "code",
   "execution_count": 42,
   "metadata": {},
   "outputs": [
    {
     "data": {
      "text/html": [
       "<div>\n",
       "<style scoped>\n",
       "    .dataframe tbody tr th:only-of-type {\n",
       "        vertical-align: middle;\n",
       "    }\n",
       "\n",
       "    .dataframe tbody tr th {\n",
       "        vertical-align: top;\n",
       "    }\n",
       "\n",
       "    .dataframe thead th {\n",
       "        text-align: right;\n",
       "    }\n",
       "</style>\n",
       "<table border=\"1\" class=\"dataframe\">\n",
       "  <thead>\n",
       "    <tr style=\"text-align: right;\">\n",
       "      <th></th>\n",
       "      <th>mean</th>\n",
       "      <th>abs_mean</th>\n",
       "      <th>var</th>\n",
       "    </tr>\n",
       "  </thead>\n",
       "  <tbody>\n",
       "    <tr>\n",
       "      <th>0</th>\n",
       "      <td>-33217.793464</td>\n",
       "      <td>33217.793464</td>\n",
       "      <td>6.391500e+08</td>\n",
       "    </tr>\n",
       "    <tr>\n",
       "      <th>1</th>\n",
       "      <td>27622.412537</td>\n",
       "      <td>27622.412537</td>\n",
       "      <td>6.693445e+08</td>\n",
       "    </tr>\n",
       "    <tr>\n",
       "      <th>2</th>\n",
       "      <td>12408.656853</td>\n",
       "      <td>12408.656853</td>\n",
       "      <td>8.564797e+07</td>\n",
       "    </tr>\n",
       "    <tr>\n",
       "      <th>3</th>\n",
       "      <td>8072.069043</td>\n",
       "      <td>8072.069043</td>\n",
       "      <td>8.039011e+07</td>\n",
       "    </tr>\n",
       "    <tr>\n",
       "      <th>4</th>\n",
       "      <td>2605.125894</td>\n",
       "      <td>2605.125894</td>\n",
       "      <td>8.691902e+06</td>\n",
       "    </tr>\n",
       "    <tr>\n",
       "      <th>5</th>\n",
       "      <td>839.497488</td>\n",
       "      <td>839.497488</td>\n",
       "      <td>9.468311e+05</td>\n",
       "    </tr>\n",
       "    <tr>\n",
       "      <th>6</th>\n",
       "      <td>357.208856</td>\n",
       "      <td>357.208856</td>\n",
       "      <td>6.317665e+04</td>\n",
       "    </tr>\n",
       "    <tr>\n",
       "      <th>7</th>\n",
       "      <td>153.781957</td>\n",
       "      <td>153.781957</td>\n",
       "      <td>1.557447e+04</td>\n",
       "    </tr>\n",
       "    <tr>\n",
       "      <th>8</th>\n",
       "      <td>85.855964</td>\n",
       "      <td>85.855964</td>\n",
       "      <td>1.082130e+04</td>\n",
       "    </tr>\n",
       "    <tr>\n",
       "      <th>9</th>\n",
       "      <td>82.667540</td>\n",
       "      <td>82.667540</td>\n",
       "      <td>4.205092e+03</td>\n",
       "    </tr>\n",
       "    <tr>\n",
       "      <th>10</th>\n",
       "      <td>48.570613</td>\n",
       "      <td>48.570613</td>\n",
       "      <td>1.377612e+03</td>\n",
       "    </tr>\n",
       "    <tr>\n",
       "      <th>11</th>\n",
       "      <td>58.232867</td>\n",
       "      <td>58.232867</td>\n",
       "      <td>1.659909e+03</td>\n",
       "    </tr>\n",
       "    <tr>\n",
       "      <th>12</th>\n",
       "      <td>53.407406</td>\n",
       "      <td>53.407406</td>\n",
       "      <td>8.939667e+02</td>\n",
       "    </tr>\n",
       "    <tr>\n",
       "      <th>13</th>\n",
       "      <td>41.549312</td>\n",
       "      <td>41.549312</td>\n",
       "      <td>8.511188e+02</td>\n",
       "    </tr>\n",
       "    <tr>\n",
       "      <th>14</th>\n",
       "      <td>57.592840</td>\n",
       "      <td>57.592840</td>\n",
       "      <td>3.461754e+02</td>\n",
       "    </tr>\n",
       "  </tbody>\n",
       "</table>\n",
       "</div>"
      ],
      "text/plain": [
       "            mean      abs_mean           var\n",
       "0  -33217.793464  33217.793464  6.391500e+08\n",
       "1   27622.412537  27622.412537  6.693445e+08\n",
       "2   12408.656853  12408.656853  8.564797e+07\n",
       "3    8072.069043   8072.069043  8.039011e+07\n",
       "4    2605.125894   2605.125894  8.691902e+06\n",
       "5     839.497488    839.497488  9.468311e+05\n",
       "6     357.208856    357.208856  6.317665e+04\n",
       "7     153.781957    153.781957  1.557447e+04\n",
       "8      85.855964     85.855964  1.082130e+04\n",
       "9      82.667540     82.667540  4.205092e+03\n",
       "10     48.570613     48.570613  1.377612e+03\n",
       "11     58.232867     58.232867  1.659909e+03\n",
       "12     53.407406     53.407406  8.939667e+02\n",
       "13     41.549312     41.549312  8.511188e+02\n",
       "14     57.592840     57.592840  3.461754e+02"
      ]
     },
     "execution_count": 42,
     "metadata": {},
     "output_type": "execute_result"
    }
   ],
   "source": [
    "conv_stats"
   ]
  }
 ],
 "metadata": {
  "kernelspec": {
   "display_name": "Python 3",
   "language": "python",
   "name": "python3"
  },
  "language_info": {
   "codemirror_mode": {
    "name": "ipython",
    "version": 3
   },
   "file_extension": ".py",
   "mimetype": "text/x-python",
   "name": "python",
   "nbconvert_exporter": "python",
   "pygments_lexer": "ipython3",
   "version": "3.6.9"
  }
 },
 "nbformat": 4,
 "nbformat_minor": 4
}
