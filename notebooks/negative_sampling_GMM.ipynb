{
 "cells": [
  {
   "cell_type": "markdown",
   "metadata": {},
   "source": [
    "# ToDo: implement NCE and try it on D=100"
   ]
  },
  {
   "cell_type": "code",
   "execution_count": 36,
   "metadata": {},
   "outputs": [],
   "source": [
    "import os\n",
    "#os.environ[\"CUDA_VISIBLE_DEVICES\"] = \"-1\"\n",
    "import tensorflow as tf\n",
    "import numpy as np\n",
    "from matplotlib import pyplot as plt\n",
    "from time import time"
   ]
  },
  {
   "cell_type": "code",
   "execution_count": 37,
   "metadata": {},
   "outputs": [],
   "source": [
    "# Utilities\n",
    "\n",
    "tf_float_type = tf.float64\n",
    "np_float_type = np.float64\n",
    "\n",
    "as_tf_float = lambda x: tf.cast(x, tf_float_type)\n",
    "\n",
    "def tf_reduce_logmeanexp(ary, axis=1, keepdims=False):\n",
    "    return tf.math.reduce_logsumexp(ary, axis=axis, keepdims=keepdims) \\\n",
    "        - tf.math.log(as_tf_float(ary.shape[axis]))"
   ]
  },
  {
   "cell_type": "code",
   "execution_count": 38,
   "metadata": {},
   "outputs": [],
   "source": [
    "# config toy dataset\n",
    "N = 1000\n",
    "D = 200\n",
    "B = 100\n",
    "V_true = np.random.randn(N*D).reshape([N,D])\n",
    "V_true /= np.linalg.norm(V_true, axis=1, keepdims=True)\n",
    "V = tf.Variable(V_true, dtype=tf.float64)"
   ]
  },
  {
   "cell_type": "code",
   "execution_count": 39,
   "metadata": {},
   "outputs": [],
   "source": [
    "# generator of  toy dataset\n",
    "def generate(n, V):\n",
    "    N,D = V.shape\n",
    "    p = np.exp(V@V.T).reshape([-1])\n",
    "    p /= p.sum()\n",
    "    x = np.random.choice(N**2,n,p=p,replace=False)\n",
    "    x = np.array([x//N, x%N]).T\n",
    "    return x"
   ]
  },
  {
   "cell_type": "code",
   "execution_count": 40,
   "metadata": {},
   "outputs": [],
   "source": [
    "# toy dataset\n",
    "x = generate(B, V_true)"
   ]
  },
  {
   "cell_type": "code",
   "execution_count": 41,
   "metadata": {
    "scrolled": true
   },
   "outputs": [
    {
     "data": {
      "text/plain": [
       "2.7182818284590453e-06"
      ]
     },
     "execution_count": 41,
     "metadata": {},
     "output_type": "execute_result"
    }
   ],
   "source": [
    "# mean (joint) log likelihood.\n",
    "log_prob = (V_true[x[:,0]] * V_true[x[:,0]]).sum(axis=1) - np.log(N*N)\n",
    "np.mean(np.exp(log_prob))"
   ]
  },
  {
   "cell_type": "code",
   "execution_count": 42,
   "metadata": {},
   "outputs": [],
   "source": [
    "class simpleWord2Vec:\n",
    "    \n",
    "    def __init__(self, N, D, neg_prob=None):\n",
    "        self.N = N\n",
    "        self.D = D\n",
    "        self.neg_prob = neg_prob\n",
    "        self.V = tf.Variable(0.3*np.random.randn(N*D).reshape([N,D]))\n",
    "        \n",
    "    def V_norm(self):\n",
    "        return self.V / tf.linalg.norm(self.V, axis=1, keepdims=True)\n",
    "        \n",
    "    def set_vec(self, V):\n",
    "        assert(type(V) == np.ndarray)\n",
    "        assert((self.N, self.D) == V.shape)\n",
    "        self.V = tf.Variable(V)\n",
    "    \n",
    "    def neg_sample_x(self, B, n_MC):\n",
    "        if self.neg_prob is None:\n",
    "            x_neg = np.random.choice(self.N, size=B*n_MC)\n",
    "        else:\n",
    "            x_neg = np.random.choice(self.N, size=B*n_MC, p=self.neg_prob)\n",
    "        x_neg = x_neg.reshape([n_MC, B])\n",
    "        return x_neg\n",
    "    \n",
    "    def _losses(self, x, x_neg):\n",
    "        V1 = tf.gather(self.V_norm(), x[:,0])\n",
    "        V2 = tf.gather(self.V_norm(), x[:,1])\n",
    "        V3 = tf.gather(self.V_norm(), x_neg)\n",
    "        log_prob = \\\n",
    "            tf.reduce_sum(V1*V2, axis=1)\\\n",
    "            - tf_reduce_logmeanexp(tf.einsum('mnd,nd->mn',V3,V2), axis=0)\\\n",
    "            - tf.math.log(as_tf_float(self.N))\n",
    "        return - log_prob\n",
    "\n",
    "    def loss(self, x, n_MC=64):\n",
    "        B,D = x.shape\n",
    "        x_neg = self.neg_sample_x(B, n_MC)\n",
    "        return tf.reduce_mean(self._losses(x, x_neg))\n",
    "    \n",
    "    def fit(self, x, optimizer, n_MC=64):\n",
    "        with tf.GradientTape() as g:\n",
    "            g.watch([self.V])\n",
    "            loss = model.loss(x, n_MC)\n",
    "        grad = g.gradient(loss, self.V)\n",
    "        del g\n",
    "        grad = tf.convert_to_tensor(grad)\n",
    "        optimizer.apply_gradients(zip([grad],[self.V]))"
   ]
  },
  {
   "cell_type": "code",
   "execution_count": 43,
   "metadata": {},
   "outputs": [],
   "source": [
    "class mlmcWord2Vec(simpleWord2Vec):\n",
    "    \n",
    "    def _dlosses(self, x, x_neg):\n",
    "        n_MC,B = x_neg.shape\n",
    "        if n_MC==1:\n",
    "            out = self._losses(x, x_neg)\n",
    "        else:\n",
    "            assert(n_MC%2==0)\n",
    "            out = self._losses(x, x_neg)\\\n",
    "                    - (1/2.) * self._losses(x, x_neg[:n_MC//2 ])\\\n",
    "                    - (1/2.) * self._losses(x, x_neg[ n_MC//2:])\n",
    "        return out\n",
    "    \n",
    "    def dloss(self, x, n_MC):\n",
    "        B,D = x.shape\n",
    "        x_neg = self.neg_sample_x(B, n_MC)\n",
    "        return tf.reduce_mean(self._dlosses(x, x_neg))    \n",
    "    \n",
    "    def _losses_full(self, x):\n",
    "        V1 = tf.gather(self.V_norm(), x[:,0])\n",
    "        V2 = tf.gather(self.V_norm(), x[:,1])\n",
    "        log_prob = \\\n",
    "            tf.reduce_sum(V1*V2, axis=1)\\\n",
    "            - tf.reduce_logsumexp(V2@tf.transpose(self.V_norm()), axis=1)\n",
    "        return - log_prob\n",
    "\n",
    "    def loss_full(self, x):\n",
    "        return tf.reduce_mean(self._losses_full(x))\n",
    "\n",
    "    def loss_mlmc(self, x, max_level=6, w0=1-2.**(-3/2), b=2, randomize=False):\n",
    "        N = x.shape[0]\n",
    "\n",
    "        # determine proportions of the number of samples among levels\n",
    "        if max_level==0:\n",
    "            levels = np.array([0])\n",
    "            weights = np.array([1.])\n",
    "        else:\n",
    "            weights = 2.**(-(b+1)/2*np.arange(max_level))\n",
    "            weights /= sum(weights)\n",
    "            weights = np.concatenate([[w0], (1-w0)*weights])\n",
    "            levels = np.arange(max_level+1, dtype=np.int64)\n",
    "\n",
    "        # determine the N_l's\n",
    "        if randomize==True:\n",
    "            Ns = np.random.multinomial(n=N, pvals=weights)    \n",
    "        elif randomize==False:\n",
    "            Ns = np.array([np.math.ceil(w*N) for w in weights], dtype=np.int)\n",
    "            Ns[0] = N - sum(Ns[1:])\n",
    "        else:\n",
    "            raise(ValueError(\"Invarid argument for 'randomize' of function LMELBO_MLMC. It must be True or False.\"))\n",
    "\n",
    "        # compute dLMELBO's using disjoint samples at each level and sum them up\n",
    "        offset = 0\n",
    "        out = 0\n",
    "        for l in levels:\n",
    "            if Ns[l]==0:\n",
    "                continue\n",
    "            x_tmp = x[offset:offset+Ns[l]]\n",
    "            if randomize==True:\n",
    "                out += self.dloss(x_tmp, 2**l) * Ns[l] / N / weights[l]   \n",
    "            elif randomize==False:\n",
    "                out += self.dloss(x_tmp, 2**l)\n",
    "            offset += Ns[l]\n",
    "        return out\n",
    "\n",
    "    def fit(self, x, optimizer, n_MC=64, mlmc=True, w0=1-2.**(-3/2), b=2):\n",
    "        with tf.GradientTape() as g:\n",
    "            g.watch([self.V])\n",
    "            if mlmc:\n",
    "                max_level = np.ceil(np.log2(n_MC))\n",
    "                loss = model.loss_mlmc(x, max_level, w0, b, randomize=True)\n",
    "            else:\n",
    "                loss = model.loss(x, n_MC)\n",
    "        grad = g.gradient(loss, self.V)\n",
    "        del g\n",
    "        grad = tf.convert_to_tensor(grad)\n",
    "        optimizer.apply_gradients(zip([grad],[self.V]))"
   ]
  },
  {
   "cell_type": "markdown",
   "metadata": {},
   "source": [
    "# Convergence Plots"
   ]
  },
  {
   "cell_type": "code",
   "execution_count": 44,
   "metadata": {},
   "outputs": [],
   "source": [
    "# model with true param\n",
    "model = mlmcWord2Vec(N,D)\n",
    "model.set_vec(V_true) "
   ]
  },
  {
   "cell_type": "code",
   "execution_count": 45,
   "metadata": {
    "scrolled": true
   },
   "outputs": [],
   "source": [
    "levels = np.arange(12, dtype=np.int64)\n",
    "res = []\n",
    "res_grad = []\n",
    "K=10\n",
    "for l in levels:\n",
    "    ave = 0\n",
    "    ave_grad = 0\n",
    "    for k in range(K):\n",
    "        x = generate(B, V_true)\n",
    "        with tf.GradientTape() as g:\n",
    "            g.watch([model.V])\n",
    "            dl = model.dloss(x, 2**l)\n",
    "        grad = g.gradient(dl, model.V)\n",
    "        del g\n",
    "        grad = tf.convert_to_tensor(grad)\n",
    "        \n",
    "        ave += 1/K * dl**2\n",
    "        ave_grad += 1/K * np.sum(grad**2)\n",
    "        \n",
    "    res.append(ave)\n",
    "    res_grad.append(ave_grad)"
   ]
  },
  {
   "cell_type": "code",
   "execution_count": 46,
   "metadata": {
    "scrolled": false
   },
   "outputs": [
    {
     "data": {
      "text/plain": [
       "<matplotlib.legend.Legend at 0x7f82a86d3b38>"
      ]
     },
     "execution_count": 46,
     "metadata": {},
     "output_type": "execute_result"
    },
    {
     "data": {
      "image/png": "[encoded data removed]",
      "text/plain": [
       "<Figure size 432x288 with 1 Axes>"
      ]
     },
     "metadata": {
      "needs_background": "light"
     },
     "output_type": "display_data"
    }
   ],
   "source": [
    "plt.plot(levels, res)\n",
    "plt.plot(levels, [res[1]*4.**(-l+1) for l in levels], c='gray')\n",
    "plt.yscale('log')\n",
    "plt.legend([r'$E[|f|^2]$', r'$O(2^{-2\\ell})$'])"
   ]
  },
  {
   "cell_type": "code",
   "execution_count": 54,
   "metadata": {},
   "outputs": [
    {
     "name": "stdout",
     "output_type": "stream",
     "text": [
      "26.3 ms ± 5.9 ms per loop (mean ± std. dev. of 7 runs, 1 loop each)\n"
     ]
    }
   ],
   "source": [
    "%%timeit -n 1 -c 1\n",
    "d = 100\n",
    "A = np.random.randn(d*d).reshape([d,d])\n",
    "A = A.T @ A\n",
    "np.linalg.inv(A)"
   ]
  },
  {
   "cell_type": "code",
   "execution_count": 47,
   "metadata": {},
   "outputs": [
    {
     "data": {
      "text/plain": [
       "<matplotlib.legend.Legend at 0x7f82f057f198>"
      ]
     },
     "execution_count": 47,
     "metadata": {},
     "output_type": "execute_result"
    },
    {
     "data": {
      "image/png": "[encoded data removed]",
      "text/plain": [
       "<Figure size 432x288 with 1 Axes>"
      ]
     },
     "metadata": {
      "needs_background": "light"
     },
     "output_type": "display_data"
    }
   ],
   "source": [
    "plt.plot(levels, res_grad)\n",
    "plt.plot(levels, [res_grad[1]*4.**(-l+1) for l in levels], c='gray')\n",
    "\n",
    "plt.yscale('log')\n",
    "plt.legend([r'$E[||\\nabla f||_2]$', r'$O(2^{-2\\ell})$'])"
   ]
  },
  {
   "cell_type": "markdown",
   "metadata": {},
   "source": [
    "# Training Example"
   ]
  },
  {
   "cell_type": "code",
   "execution_count": 28,
   "metadata": {
    "scrolled": false
   },
   "outputs": [
    {
     "data": {
      "text/plain": [
       "(6.901717891750699, 6.901917961778598)"
      ]
     },
     "execution_count": 28,
     "metadata": {},
     "output_type": "execute_result"
    }
   ],
   "source": [
    "model.set_vec(V_true) \n",
    "x = generate(1000, V_true) \n",
    "model.loss(x).numpy(), tf.reduce_mean(model.loss_full(x)).numpy()"
   ]
  },
  {
   "cell_type": "code",
   "execution_count": 35,
   "metadata": {
    "scrolled": false
   },
   "outputs": [
    {
     "name": "stdout",
     "output_type": "stream",
     "text": [
      "initial loss: 6.9036302612154214 initial true loss: 6.905240672948426\n",
      "loss at #iter=200: 6.908419964625547 \ttrue loss: 6.908311480836843\n",
      "loss at #iter=400: 6.910227992034069 \ttrue loss: 6.91018720746889\n",
      "loss at #iter=600: 6.910269579056089 \ttrue loss: 6.910405976999455\n",
      "loss at #iter=800: 6.911360759586107 \ttrue loss: 6.911342108295714\n",
      "loss at #iter=1000: 6.910499724673976 \ttrue loss: 6.910662388086645\n",
      "loss at #iter=1200: 6.907570872532326 \ttrue loss: 6.907591792601519\n",
      "loss at #iter=1400: 6.908937966404215 \ttrue loss: 6.9090281491762555\n",
      "loss at #iter=1600: 6.910536234674514 \ttrue loss: 6.910760609602574\n",
      "loss at #iter=1800: 6.90784031201866 \ttrue loss: 6.908047084273797\n",
      "loss at #iter=2000: 6.908360508501256 \ttrue loss: 6.908495666157134\n"
     ]
    }
   ],
   "source": [
    "model = mlmcWord2Vec(N,D)\n",
    "\n",
    "optimizer = tf.keras.optimizers.Adam(0.003)\n",
    "\n",
    "print('initial loss:', model.loss(x).numpy(), 'initial true loss:',tf.reduce_mean(model.loss_full(x)).numpy())\n",
    "\n",
    "n_iter = 2000\n",
    "for i in range(n_iter):\n",
    "    x = generate(B*10, V_true)\n",
    "    model.fit(x, optimizer, mlmc=False, n_MC=32, w0=0.4, b=1.3)#MLMC under performs NMC when using same n_MC\n",
    "    if (i+1)%(n_iter//10)==0:\n",
    "        x = generate(B*100, V_true)\n",
    "        print('loss at #iter={}:'.format(i+1), model.loss(x).numpy(),\n",
    "             '\\ttrue loss:', tf.reduce_mean(model.loss_full(x)).numpy()) "
   ]
  },
  {
   "cell_type": "code",
   "execution_count": 30,
   "metadata": {
    "scrolled": false
   },
   "outputs": [
    {
     "data": {
      "text/plain": [
       "(6.908295582740615, 6.909031697198908)"
      ]
     },
     "execution_count": 30,
     "metadata": {},
     "output_type": "execute_result"
    }
   ],
   "source": [
    "x = generate(1000, V_true)\n",
    "model.loss(x).numpy(), tf.reduce_mean(model.loss_full(x)).numpy()"
   ]
  },
  {
   "cell_type": "code",
   "execution_count": 31,
   "metadata": {
    "scrolled": true
   },
   "outputs": [
    {
     "data": {
      "text/plain": [
       "(98.83306212562029, 77.46154089277458)"
      ]
     },
     "execution_count": 31,
     "metadata": {},
     "output_type": "execute_result"
    }
   ],
   "source": [
    "V = model.V.numpy()\n",
    "V /= np.linalg.norm(V, axis=1, keepdims=True)\n",
    "np.linalg.norm(V@V.T - V_true@V_true.T), np.linalg.norm(V_true@V_true.T)"
   ]
  },
  {
   "cell_type": "markdown",
   "metadata": {},
   "source": [
    "# Evaluate runtime (variance per reciprocal runtime)"
   ]
  },
  {
   "cell_type": "code",
   "execution_count": 47,
   "metadata": {},
   "outputs": [],
   "source": [
    "## TODO ##\n",
    "# - divide the functionality to smaller functions\n",
    "# - add simple nested MC\n",
    "# - run in a 1-core environment\n",
    "\n",
    "model = mlmcWord2Vec(N,D)\n",
    "\n",
    "levels = [l for l in range(12)]\n",
    "T = []\n",
    "V = []\n",
    "V_grad = []\n",
    "\n",
    "for l in levels:\n",
    "    times = []\n",
    "    losses = []\n",
    "    losses_grad = []\n",
    "    for i in range(100):\n",
    "        x = generate(10, V_true)\n",
    "        s = time()\n",
    "        with tf.GradientTape() as g:\n",
    "            g.watch([model.V])\n",
    "            loss = model.loss_mlmc(x, max_level=l, w0=0.4, b=1.3, randomize=True)\n",
    "        grad = g.gradient(loss, model.V)\n",
    "        del g\n",
    "        grad = tf.convert_to_tensor(grad)\n",
    "        t = time()\n",
    "        times.append(t-s)\n",
    "        losses.append(loss)\n",
    "        losses_grad.append(grad)\n",
    "    T.append(np.mean(times))\n",
    "    V.append(np.var(losses))\n",
    "    V_grad.append(np.mean(np.var(losses_grad, axis=0)))"
   ]
  },
  {
   "cell_type": "code",
   "execution_count": 48,
   "metadata": {},
   "outputs": [
    {
     "data": {
      "text/plain": [
       "[<matplotlib.lines.Line2D at 0x7f1cd835e8d0>]"
      ]
     },
     "execution_count": 48,
     "metadata": {},
     "output_type": "execute_result"
    },
    {
     "data": {
      "image/png": "[encoded data removed]",
      "text/plain": [
       "<Figure size 432x288 with 1 Axes>"
      ]
     },
     "metadata": {
      "needs_background": "light"
     },
     "output_type": "display_data"
    }
   ],
   "source": [
    "plt.plot(np.array(T)*np.array(V))"
   ]
  },
  {
   "cell_type": "code",
   "execution_count": 49,
   "metadata": {},
   "outputs": [
    {
     "data": {
      "text/plain": [
       "[<matplotlib.lines.Line2D at 0x7f1cfc275ba8>]"
      ]
     },
     "execution_count": 49,
     "metadata": {},
     "output_type": "execute_result"
    },
    {
     "data": {
      "image/png": "[encoded data removed]",
      "text/plain": [
       "<Figure size 432x288 with 1 Axes>"
      ]
     },
     "metadata": {
      "needs_background": "light"
     },
     "output_type": "display_data"
    }
   ],
   "source": [
    "plt.plot(np.array(T)*np.array(V_grad))"
   ]
  },
  {
   "cell_type": "code",
   "execution_count": null,
   "metadata": {},
   "outputs": [],
   "source": []
  }
 ],
 "metadata": {
  "kernelspec": {
   "display_name": "Python 3",
   "language": "python",
   "name": "python3"
  },
  "language_info": {
   "codemirror_mode": {
    "name": "ipython",
    "version": 3
   },
   "file_extension": ".py",
   "mimetype": "text/x-python",
   "name": "python",
   "nbconvert_exporter": "python",
   "pygments_lexer": "ipython3",
   "version": "3.6.9"
  }
 },
 "nbformat": 4,
 "nbformat_minor": 4
}
