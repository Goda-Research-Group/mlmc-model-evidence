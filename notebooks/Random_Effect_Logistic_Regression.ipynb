{
 "cells": [
  {
   "cell_type": "markdown",
   "metadata": {},
   "source": [
    "# Random Effect Logistic Regression by MLMC Variational Bayes"
   ]
  },
  {
   "cell_type": "markdown",
   "metadata": {},
   "source": [
    "## Model Description"
   ]
  },
  {
   "cell_type": "markdown",
   "metadata": {},
   "source": [
    "##### Random Effect Models:\n",
    "For $n=1,2,...$,\n",
    "<br>&nbsp;&nbsp;&nbsp;&nbsp;\n",
    "$Z_n \\sim N(0,\\tau^2)$\n",
    "<br>&nbsp;&nbsp;&nbsp;&nbsp;\n",
    "$Y_{n,t} \\sim \\text{Bernoulli}\\left(\\frac{1}{1+\\exp(- Z_n - \\beta_0 - \\beta^T x_{n,t})}\\right)$\n",
    "<br>\n",
    "for $t=1, ..., T$. This model carries out dimentionality reduction of binary observations $y_{n,k}$'s. Here, the dimention of $\\beta$ and $x_{n,t}$ is $D$.<br>\n",
    "As variational approximation of the posterior $p(z_n|y_n)$, we use $q(z_n)= N(z_n;\\mu_n, \\sigma_n^2)$."
   ]
  },
  {
   "cell_type": "markdown",
   "metadata": {},
   "source": [
    "To constrain the parameter $\\tau^2>0$, we parametrize $\\tau^2$ as $\\tau^2 = \\mathrm{softplus}(\\alpha)$, where $\\mathrm{softplus}(x) := \\log(1+\\exp(x))>0$."
   ]
  },
  {
   "cell_type": "markdown",
   "metadata": {},
   "source": [
    "##### Possible Extension:\n",
    "\n",
    "By adding $\\bar x_n=\\frac{1}{T}\\sum_t x_{n,t}$ to the predictors as \n",
    "<br>&nbsp;&nbsp;&nbsp;&nbsp;\n",
    "$Y_{n,t} \\sim \\text{Bernoulli}\\left(\\frac{1}{1+\\exp(- Z_n - \\beta_0 - \\beta^T x_{n,t}- \\gamma\\bar x_n)}\\right)$,\n",
    "<br>\n",
    "we can obtain correlated random effect models."
   ]
  },
  {
   "cell_type": "markdown",
   "metadata": {},
   "source": [
    "#### We do not consider the use of Renyi divergences"
   ]
  },
  {
   "cell_type": "markdown",
   "metadata": {},
   "source": [
    "## Import Packages"
   ]
  },
  {
   "cell_type": "code",
   "execution_count": 1,
   "metadata": {},
   "outputs": [],
   "source": [
    "# Turn GPUs off\n",
    "import os\n",
    "os.environ[\"CUDA_VISIBLE_DEVICES\"] = \"-1\""
   ]
  },
  {
   "cell_type": "code",
   "execution_count": 115,
   "metadata": {},
   "outputs": [],
   "source": [
    "import tensorflow as tf\n",
    "import tensorflow_probability as tfp\n",
    "import numpy as np\n",
    "import pandas as pd\n",
    "from scipy.stats import bernoulli, norm\n",
    "from matplotlib import pyplot as plt\n",
    "import time\n",
    "import datetime\n",
    "np.random.seed(0)"
   ]
  },
  {
   "cell_type": "code",
   "execution_count": 3,
   "metadata": {},
   "outputs": [
    {
     "name": "stdout",
     "output_type": "stream",
     "text": [
      "WARNING:tensorflow:From <ipython-input-3-17bb7203622b>:1: is_gpu_available (from tensorflow.python.framework.test_util) is deprecated and will be removed in a future version.\n",
      "Instructions for updating:\n",
      "Use `tf.config.list_physical_devices('GPU')` instead.\n"
     ]
    },
    {
     "data": {
      "text/plain": [
       "False"
      ]
     },
     "execution_count": 3,
     "metadata": {},
     "output_type": "execute_result"
    }
   ],
   "source": [
    "tf.test.is_gpu_available()"
   ]
  },
  {
   "cell_type": "markdown",
   "metadata": {},
   "source": [
    "## Utilities"
   ]
  },
  {
   "cell_type": "code",
   "execution_count": 118,
   "metadata": {},
   "outputs": [],
   "source": [
    "sigmoid = lambda x: 1/(1+np.exp(-x))\n",
    "softplus = lambda x: np.log(1+np.exp(x))\n",
    "as_tf_float = lambda x: tf.cast(x, tf.float64)\n",
    "\n",
    "def tf_logsumexp(ary, axis=1, keepdims=False):\n",
    "    return tf.math.reduce_logsumexp(ary, axis=axis, keepdims=keepdims)\n",
    "\n",
    "def tf_logmeanexp(ary, axis=1, keepdims=False):\n",
    "    return tf.math.reduce_logsumexp(ary, axis=axis, keepdims=keepdims) \\\n",
    "        - tf.math.log(as_tf_float(ary.shape[axis]))\n",
    "\n",
    "def timestamp():\n",
    "    now = datetime.datetime.now()\n",
    "    return now.strftime(\"%Y%m%d%H%M%S\")  "
   ]
  },
  {
   "cell_type": "markdown",
   "metadata": {},
   "source": [
    "## Generate Toy Dataset"
   ]
  },
  {
   "cell_type": "code",
   "execution_count": 6,
   "metadata": {},
   "outputs": [],
   "source": [
    "N = 1000\n",
    "D = 3\n",
    "T = 2"
   ]
  },
  {
   "cell_type": "code",
   "execution_count": 5,
   "metadata": {},
   "outputs": [],
   "source": [
    "# Paramters\n",
    "alpha = np.float64(1.)\n",
    "beta0 = np.float64(0.)\n",
    "beta  = np.array([0.25, 0.50, 0.75]) #np.random.randn(D) / np.sqrt(D)\n",
    "param0 = {\n",
    "    'alpha': alpha,\n",
    "    'beta0': beta0,\n",
    "    'beta': beta\n",
    "}"
   ]
  },
  {
   "cell_type": "markdown",
   "metadata": {},
   "source": [
    "To constrain the parameter $\\tau^2>0$, we parametrize $\\tau^2$ as $\\tau^2 = \\mathrm{softplus}(\\alpha)$, where $\\mathrm{softplus}(x) := \\log(1+\\exp(x))>0$."
   ]
  },
  {
   "cell_type": "code",
   "execution_count": 7,
   "metadata": {},
   "outputs": [],
   "source": [
    "# We assume that we have infinite amount of data.\n",
    "# Thus, generator of the data is implemented.\n",
    "def generate_data(N, D, T, beta0, beta, alpha):\n",
    "    \"\"\"\n",
    "    Genarate N samples of data from the model with parameter [beta0, beta, alpha]. \n",
    "    Returns:\n",
    "    x: 3-d array of size [N, T, D]\n",
    "    y: 2-d array of size [N, T]\n",
    "    z: 1-d array of size [n_MC, N]\n",
    "    \"\"\"\n",
    "\n",
    "    z = np.random.randn(N) * softplus(alpha)**(1/2.)\n",
    "    x = np.random.randn(N*T*D).reshape([N,T,D])\n",
    "    y = bernoulli(p=sigmoid(beta0+x@beta+z.reshape([N,1]))).rvs()\n",
    "    return x,y,z"
   ]
  },
  {
   "cell_type": "markdown",
   "metadata": {},
   "source": [
    "## Sigmoid Normal Integral Approximation of Evidence\n",
    "\n",
    "Ref: Barber Bishop(1998), PRML(2006)"
   ]
  },
  {
   "cell_type": "markdown",
   "metadata": {},
   "source": [
    "Sigmoid normal integral approximation is:\n",
    "$$\\int \\sigma(z + \\mu)N(z;0,\\tau^2)\\mathrm{d}z \n",
    "\\approx \\sigma(\\kappa \\mu) \\ \\ \\ \n",
    "\\text{where}\\ \\ \\ \n",
    "\\kappa = \\left(\\frac{1}{1 + \\pi\\tau^2/8}\\right)^{\\frac{1}{2}}$$\n",
    "This is applied to the probability of y: \n",
    "$$Pr(Y=1|X=x) = \\int \\sigma(z + \\beta_0 + \\beta^T x)N(z;0,\\tau^2)\\mathrm{d}z,$$\n",
    "where $\\tau^2 = \\mathrm{softmax}(\\alpha)$."
   ]
  },
  {
   "cell_type": "code",
   "execution_count": 904,
   "metadata": {},
   "outputs": [],
   "source": [
    "def sigmoid_normal_prob(x, beta0, beta, alpha):\n",
    "    # Compute p(Y=1|X=x) for N samples of x_n\n",
    "    N, T, D  = x.shape\n",
    "    kappa = 1 / (1 + np.pi*tf.math.softplus(alpha)/8)**(1/2)\n",
    "    return tf.math.sigmoid( kappa * (beta0 + tf.reshape( x@tf.reshape(beta, [D,1]), [N, T])) )"
   ]
  },
  {
   "cell_type": "code",
   "execution_count": 905,
   "metadata": {},
   "outputs": [],
   "source": [
    "def sigmoid_normal_likelihood(x, y, beta0, beta, alpha):\n",
    "    # Compute log p(Y=y|X=x) for N samples of (x_n, y_n) and sum them up\n",
    "    pred_prob = sigmoid_normal_prob(x, beta0, beta, alpha)\n",
    "    score = tf.reduce_mean(tf.reduce_sum(\n",
    "        tf.math.log(pred_prob)*y + tf.math.log(1-pred_prob)*(1-y), \n",
    "        axis=1))\n",
    "    return score"
   ]
  },
  {
   "cell_type": "markdown",
   "metadata": {},
   "source": [
    "## Laplace Approximation of Posterior"
   ]
  },
  {
   "cell_type": "markdown",
   "metadata": {},
   "source": [
    "Laplace approximation of $p(z|x,y)$ is:\n",
    "$$p(z|x,y) \\approx \\exp\\left[\\frac{1}{2}\\left(\\frac{\\mathrm{d}^2}{\\mathrm{d}z^2}\\log p(\\hat z|x,y) \\right)(z - \\hat z)^2 + \\text{const.}\\right] = N\\left(z;\\hat z, \\left(-\\frac{\\mathrm{d}^2}{\\mathrm{d}z^2}\\log p(\\hat z|x,y) \\right)^{-1}\\right),$$\n",
    "where $\\hat z$ is the maximum a postriori (MAP), so that $\\hat z = \\arg\\max_{z}\\log p(z|x,y) = \\arg\\max_{z}\\log p(x,y|z)p(z)$"
   ]
  },
  {
   "cell_type": "code",
   "execution_count": 10,
   "metadata": {},
   "outputs": [],
   "source": [
    "def laplace_approx(x, y, beta0, beta, alpha):\n",
    "    \"\"\"\n",
    "    Compute the mean and the varince of the \n",
    "    Laplace approximation of p(z|x,y) for each sample point.\n",
    "    \n",
    "    Arguments:\n",
    "    x: 3-d array of size [N, T, D]\n",
    "    y: 2-d array of size [N, T]\n",
    "    beta0: scalar\n",
    "    beta: 1-d array of size [D]\n",
    "    alpha: scalar\n",
    "     \n",
    "    Returns:\n",
    "    mu: 1-d array of size [N]\n",
    "    sigma: 1-d array of size [N]\n",
    "    \"\"\"\n",
    "    \n",
    "    N, T, D  = x.shape\n",
    "    z = np.zeros([N, 1])\n",
    "    _sig = lambda z: sigmoid( z + beta0 + x@beta )\n",
    "    \n",
    "    # Newton optimization to calculate the MAP of z|x,y\n",
    "    for i in range(10):\n",
    "        sig = _sig(z)\n",
    "        hessian = 1/softplus(alpha) + np.sum( sig*(1-sig), axis=1, keepdims=True)\n",
    "        grad    = z/softplus(alpha) + np.sum( sig - y,     axis=1, keepdims=True)\n",
    "        z -= grad / hessian\n",
    "        \n",
    "    mu = z.reshape([N])\n",
    "    sigma = (1 / hessian).reshape([N])**(1/2)\n",
    "    return mu, sigma"
   ]
  },
  {
   "cell_type": "markdown",
   "metadata": {},
   "source": [
    "## IW-ELBO approximation of Evidence"
   ]
  },
  {
   "cell_type": "markdown",
   "metadata": {},
   "source": [
    "Importance weighted evidence lower bound (IW-ELBO) is an approximation of the evidence, and its Monte Carlo estimator is defined as:\n",
    "$$\\mathrm{IW}\\text{-}\\mathrm{ELBO}(x,z_{1:K}):=\\frac{1}{N}\\sum_{n=1}^{N}\\log \\frac{1}{K}\\sum_{k=1}^{K}\\left(\\frac{p(x_n,z_{nk})}{q(z_{nk};x_n)}\\right),$$\n",
    "where $z_{nk}$ is sampled as $z_{nk}\\sim q(z;x_n)$."
   ]
  },
  {
   "cell_type": "code",
   "execution_count": 739,
   "metadata": {},
   "outputs": [],
   "source": [
    "def pointwise_IWELBO(x, y, z, beta0, beta, alpha, mu, sigma):\n",
    "    \"\"\"\n",
    "    Compute IWELBOs using n_MC inner Monte Carlo samples of Z's at each sample point. \n",
    "    \n",
    "    Arguments:\n",
    "    x: 3-d array of size [N, T, D]\n",
    "    y: 2-d array of size [N, T]\n",
    "    z: 1-d array of size [n_MC, N]\n",
    "    beta0: scalar\n",
    "    beta: 1-d array of size [D]\n",
    "    alpha: scalar\n",
    "    mu: 1-d array of size [N]\n",
    "    sigma: 1-d array of size [N]\n",
    "     \n",
    "    Returns:\n",
    "    iwelbos: 1-d array of size [N]\n",
    "    \"\"\"\n",
    "\n",
    "    (N, T, D), (n_MC, n) = x.shape, z.shape\n",
    "    y = as_tf_float( tf.reshape(y, [1,N,T]) )\n",
    "    mu = tf.reshape(mu, [1,N])\n",
    "    sigma = tf.reshape(sigma, [1,N])\n",
    "    \n",
    "    y_logits = tf.convert_to_tensor( beta0\\\n",
    "                                    + tf.reshape( x@tf.reshape(beta, [D,1]), [1, N, T])\\\n",
    "                                    + tf.reshape(z, [n_MC, N, 1]) \n",
    "                                   )\n",
    "    p_y = tfp.distributions.Bernoulli(logits=y_logits)\n",
    "    p_z = tfp.distributions.Normal(loc=np.zeros([1, N]), scale=tf.math.softplus(alpha)**(1/2.))\n",
    "    q_z = tfp.distributions.Normal(loc=mu, scale=sigma)\n",
    "    \n",
    "    log_prob_ratio = \\\n",
    "        tf.reduce_sum( p_y.log_prob(y), axis=2)\\\n",
    "        + p_z.log_prob(z)\\\n",
    "        - q_z.log_prob(z)\n",
    "    \n",
    "    iwelbos = tf_logmeanexp(log_prob_ratio, axis=0)\n",
    "    return iwelbos"
   ]
  },
  {
   "cell_type": "code",
   "execution_count": 740,
   "metadata": {},
   "outputs": [],
   "source": [
    "def IWELBO(x, y, beta0, beta, alpha, mu, sigma, n_MC):\n",
    "    \"\"\"\n",
    "    Compute IWELBO\n",
    "    \n",
    "    Arguments:\n",
    "    x: 3-d array of size [N, T, D]\n",
    "    y: 2-d array of size [N, T]\n",
    "    beta0: scalar\n",
    "    beta: 1-d array of size [D]\n",
    "    alpha: scalar\n",
    "    mu: 1-d array of size [N]\n",
    "    sigma: 1-d array of size [N]\n",
    "     \n",
    "    Returns:\n",
    "    iwelbo: scalar value of average of iwelbo's at each sample point.\n",
    "    \"\"\"\n",
    "\n",
    "    N, = mu.shape\n",
    "    z = norm(loc=mu, scale=sigma).rvs([n_MC, N])\n",
    "    iwelbo = tf.reduce_mean( pointwise_IWELBO(x, y, z, beta0, beta, alpha, mu, sigma) )\n",
    "    return iwelbo"
   ]
  },
  {
   "cell_type": "markdown",
   "metadata": {},
   "source": [
    "## MLMC"
   ]
  },
  {
   "cell_type": "code",
   "execution_count": 741,
   "metadata": {},
   "outputs": [],
   "source": [
    "def pointwise_dIWELBO(x, y, z, beta0, beta, alpha, mu, sigma):\n",
    "    \"\"\"\n",
    "    Compute the coupled differences of IWELBO's at each sample point.\n",
    "    Differences between \"IWELBO with n_MC inner Monte Carlo samples\" \n",
    "    and \"IWELBO with n_MC/2 inner Monte Carlo samples\" are taken.\n",
    "    \n",
    "    Note that difference is not taken when n_MC = 1. \n",
    "    In that case, IWELBO with n_MC = 1 is Evaluated.\n",
    "    \n",
    "    Arguments:\n",
    "    x: 3-d array of size [N, T, D]\n",
    "    y: 2-d array of size [N, T]\n",
    "    z: 1-d array of size [n_MC, N]\n",
    "    beta0: scalar\n",
    "    beta: 1-d array of size [D]\n",
    "    alpha: scalar\n",
    "    mu: 1-d array of [N]\n",
    "    sigma: 1-d array of [N]\n",
    "     \n",
    "    Returns:\n",
    "    scores: 1-d array of size [N]\n",
    "    \"\"\"\n",
    "    \n",
    "    (N, T, D), (n_MC, N) = x.shape, z.shape\n",
    "    assert np.log2(n_MC)%1==0\n",
    "    \n",
    "    if n_MC == 1:\n",
    "        scores = pointwise_IWELBO(x, y, z, beta0, beta, alpha, mu, sigma)\n",
    "    else:\n",
    "        scores = pointwise_IWELBO(x, y, z, beta0, beta, alpha, mu, sigma)\n",
    "        scores -= (1/2.) * pointwise_IWELBO(x, y, z[:n_MC//2 ], beta0, beta, alpha, mu, sigma)\n",
    "        scores -= (1/2.) * pointwise_IWELBO(x, y, z[ n_MC//2:], beta0, beta, alpha, mu, sigma)\n",
    "    return scores"
   ]
  },
  {
   "cell_type": "code",
   "execution_count": 742,
   "metadata": {},
   "outputs": [],
   "source": [
    "def dIWELBO(x, y, beta0, beta, alpha, mu, sigma, level):\n",
    "    \"\"\"\n",
    "    Compute average of the coupled differences of IWELBO's with n_MC.\n",
    "    Differences between \"IWELBO with n_MC inner Monte Carlo samples\" \n",
    "    and \"IWELBO with n_MC/2 inner Monte Carlo samples\" are taken.\n",
    "    \n",
    "    Note that difference is not taken when n_MC = 1. \n",
    "    In that case, average IWELBO with n_MC = 1 is Evaluated.\n",
    "    \n",
    "    Arguments:\n",
    "    x: 3-d array of size [N, T, D]\n",
    "    y: 2-d array of size [N, T]\n",
    "    beta0: scalar\n",
    "    beta: 1-d array of size [D]\n",
    "    alpha: scalar\n",
    "    mu: 1-d array of size [N]\n",
    "    sigma: 1-d array of size [N]\n",
    "     \n",
    "    Returns:\n",
    "    score: scalar value of average of differnece of iwelbo's at each sample point (except when n_MC=1).\n",
    "    \"\"\"\n",
    "\n",
    "    N, = mu.shape\n",
    "    n_MC = 2**level\n",
    "    z = norm(loc=mu, scale=sigma).rvs([n_MC, N])\n",
    "    \n",
    "    score = tf.reduce_mean( pointwise_dIWELBO(x, y, z, beta0, beta, alpha, mu, sigma) )\n",
    "    return score"
   ]
  },
  {
   "cell_type": "code",
   "execution_count": 973,
   "metadata": {},
   "outputs": [],
   "source": [
    "def IWELBO_MLMC(x, y, beta0, beta, alpha, mu, sigma, max_level=8, w0=1-2.**(-3/2), b=2, randomize=False):\n",
    "    \"\"\"\n",
    "    Compute IWELBO by MLMC\n",
    "    \n",
    "    Arguments:\n",
    "    x: 3-d array of size [N, T, D]\n",
    "    y: 2-d array of size [N, T]\n",
    "    beta0: scalar\n",
    "    beta: 1-d array of size [D]\n",
    "    alpha: scalar\n",
    "    mu: 1-d array of size [N]\n",
    "    sigma: 1-d array of size [N]\n",
    "    max_level: integer\n",
    "    w0: the proportion of total samples in (x,y) used at the level 0.\n",
    "        in other words, 100*(1-w0) % of the total samples are used for estimating the correction term.\n",
    "    b: scalar. the second moment of the coupled difference estimator (dIWELBO) must decrease at a rate of O(2^(-b*level)).\n",
    "    randomize: whether to use randomization of MLMC.\n",
    "    \n",
    "    Returns:\n",
    "    iwelbo: scalar estimate of average iwelbo over sample points.\n",
    "    \"\"\"\n",
    "    \n",
    "    N, T, D = x.shape\n",
    "    \n",
    "    # determine proportions of the number of smaples among levels\n",
    "    if max_level==0:\n",
    "        levels = np.array([0])\n",
    "        weights = np.array([1.])\n",
    "    else:\n",
    "        weights = 2.**(-(b+1)/2*np.arange(max_level))\n",
    "        weights /= sum(weights)\n",
    "        weights = np.concatenate([[w0], (1-w0)*weights])\n",
    "        levels = np.arange(max_level+1)\n",
    "    \n",
    "    # determine the N_l's\n",
    "    if randomize==True:\n",
    "        Ns = np.random.multinomial(n=N, pvals=weights)    \n",
    "    elif randomize==False:\n",
    "        Ns = np.array([np.math.ceil(w*N) for w in weights], dtype=np.int)\n",
    "        Ns[0] = N - sum(Ns[1:])\n",
    "    else:\n",
    "        raise(Exception(\"Invarid argument for 'randomize' of function IWELBO_MLMC. It must be True or False.\"))\n",
    "    \n",
    "    # compute dIWELBO's using disjoint samples at each level and sum them up\n",
    "    offset = 0\n",
    "    iwelbo = 0\n",
    "    for i, l in enumerate(levels):\n",
    "        if Ns[i]==0:\n",
    "            continue\n",
    "        x_tmp = x[offset:offset+Ns[i]]\n",
    "        y_tmp = y[offset:offset+Ns[i]]\n",
    "        mu_tmp = mu[offset:offset+Ns[i]]\n",
    "        sigma_tmp = sigma[offset:offset+Ns[i]]\n",
    "                       \n",
    "        if randomize==True:\n",
    "            iwelbo += dIWELBO(x_tmp, y_tmp, beta0, beta, alpha, mu_tmp, sigma_tmp, level=l) * Ns[i] / N / weights[i]   \n",
    "        elif randomize==False:\n",
    "            iwelbo += dIWELBO(x_tmp, y_tmp, beta0, beta, alpha, mu_tmp, sigma_tmp, level=l)\n",
    "        \n",
    "        offset += Ns[i]\n",
    "    \n",
    "    return iwelbo"
   ]
  },
  {
   "cell_type": "markdown",
   "metadata": {},
   "source": [
    "## SUMO"
   ]
  },
  {
   "cell_type": "code",
   "execution_count": 1018,
   "metadata": {},
   "outputs": [],
   "source": [
    "def conditional_IWELBO_SUMO(x, y, beta0, beta, alpha, mu, sigma, K):\n",
    "    \"\"\"\n",
    "    Compute IWELBO by SUMO for one sample point, given K\n",
    "    \n",
    "    Arguments:\n",
    "    x: 3-d array of size [N, T, D]\n",
    "    y: 2-d array of size [N, T]\n",
    "    beta0: scalar\n",
    "    beta: 1-d array of size [D]\n",
    "    alpha: scalar\n",
    "    mu: 1-d array of size [N]\n",
    "    sigma: 1-d array of size [N]\n",
    "    K: integer \n",
    "    \n",
    "    Returns:\n",
    "    iwelbo: scalar estimate of iwelbo at the given sample point.\n",
    "    \"\"\"\n",
    "    N,T,D = x.shape\n",
    "    z = tf.random.normal(mean=mu, stddev=sigma, shape=[K,N], dtype=tf.float64)\n",
    "\n",
    "    # compute prob ratio of shape [K,N]\n",
    "    y_logit = beta0 + tf.reshape( x @ tf.reshape(beta,[D,1]), [1,N,T] ) + tf.reshape(z,[K,N,1]) \n",
    "    p_y = tfp.distributions.Bernoulli(logits=y_logit)\n",
    "    p_z = tfp.distributions.Normal(loc=0, scale=tf.math.softplus(alpha)**(1/2.))\n",
    "    q_z = tfp.distributions.Normal(loc=mu, scale=sigma)\n",
    "    \n",
    "    log_prob_ratio = \\\n",
    "        tf.reduce_sum( p_y.log_prob(y), axis=2)\\\n",
    "        + p_z.log_prob(z)\\\n",
    "        - q_z.log_prob(z)\n",
    "    \n",
    "    # compute SUMO est.\n",
    "    ks = tf.reshape( tf.cast( tf.range(0,K) + 1, tf.float64), [K,1])\n",
    "    cum_iwelbo = tf.math.cumulative_logsumexp(log_prob_ratio, axis=0) - tf.math.log(ks)\n",
    "    inv_weights = ks\n",
    "    iwelbo = cum_iwelbo[0,:] - tf.reduce_sum(inv_weights[1:] * (cum_iwelbo[1:] - cum_iwelbo[:K-1]) , axis=0)\n",
    "    \n",
    "    return iwelbo"
   ]
  },
  {
   "cell_type": "code",
   "execution_count": 1030,
   "metadata": {},
   "outputs": [],
   "source": [
    "def IWELBO_SUMO(x, y, beta0, beta, alpha, mu, sigma, K_max=64):\n",
    "    \"\"\"\n",
    "    Compute IWELBO by MLMC\n",
    "    \n",
    "    Arguments:\n",
    "    x: 3-d array of size [N, T, D]\n",
    "    y: 2-d array of size [N, T]\n",
    "    beta0: scalar\n",
    "    beta: 1-d array of size [D]\n",
    "    alpha: scalar\n",
    "    mu: 1-d array of size [N]\n",
    "    sigma: 1-d array of size [N]\n",
    "    K_max: integer \n",
    "    \n",
    "    Returns:\n",
    "    iwelbo: scalar estimate of average iwelbo over sample points.\n",
    "    \"\"\"\n",
    "    \n",
    "    N,T,D = x.shape\n",
    "    \n",
    "    Us = tf.random.uniform(shape=[N], dtype=tf.float64)\n",
    "    Ks = tf.minimum(1/Us, tf.cast(K_max, tf.float64))\n",
    "    Ks = tf.cast(tf.math.floor(Ks), tf.int64)\n",
    "    unique, _, counts =  tf.unique_with_counts(tf.sort(Ks))\n",
    "    \n",
    "    offset = 0\n",
    "    iwelbo = 0\n",
    "    for K, cnt in zip(unique, counts):\n",
    "        x_tmp = x[offset:offset+cnt]\n",
    "        y_tmp = y[offset:offset+cnt]\n",
    "        mu_tmp = mu[offset:offset+cnt]\n",
    "        sigma_tmp = sigma[offset:offset+cnt]\n",
    "        iwelbo += (1/N) * tf.reduce_sum( conditional_IWELBO_SUMO(x_tmp, y_tmp, beta0, beta, alpha, mu_tmp, sigma_tmp, K) ) \n",
    "        offset += cnt\n",
    "    \n",
    "    return iwelbo"
   ]
  },
  {
   "cell_type": "markdown",
   "metadata": {},
   "source": [
    "## Make sure that implementations are consistent"
   ]
  },
  {
   "cell_type": "code",
   "execution_count": 1031,
   "metadata": {},
   "outputs": [],
   "source": [
    "x,y,_ = generate_data(N=10000, D=3, T=2, beta0=beta0, beta=beta, alpha=alpha)\n",
    "mu, sigma = laplace_approx(x, y, beta0, beta, alpha)    "
   ]
  },
  {
   "cell_type": "code",
   "execution_count": 1032,
   "metadata": {},
   "outputs": [],
   "source": [
    "signorm_likelihood = sigmoid_normal_likelihood(x, y, beta0, beta, alpha).numpy()\n",
    "elbo_likelihood = IWELBO(x, y, beta0, beta, alpha, mu, sigma, n_MC=1).numpy()\n",
    "iwelbo_likelihood = IWELBO(x, y, beta0, beta, alpha, mu, sigma, n_MC=64).numpy()\n",
    "iwelbo_likelihood_mlmc = IWELBO_MLMC(x, y, beta0, beta, alpha, mu, sigma, max_level=6, w0=0.9, randomize=False).numpy()\n",
    "iwelbo_likelihood_randmlmc = IWELBO_MLMC(x, y, beta0, beta, alpha, mu, sigma, max_level=6, w0=0.9, randomize=True).numpy()\n",
    "iwelbo_likelihood_sumo = IWELBO_SUMO(x, y, beta0, beta, alpha, mu, sigma, K_max=64).numpy()"
   ]
  },
  {
   "cell_type": "code",
   "execution_count": 1033,
   "metadata": {},
   "outputs": [
    {
     "data": {
      "text/plain": [
       "(-1.2734548648659394, -1.2596759139686995, -1.257160526733057)"
      ]
     },
     "execution_count": 1033,
     "metadata": {},
     "output_type": "execute_result"
    }
   ],
   "source": [
    "signorm_likelihood, elbo_likelihood, iwelbo_likelihood"
   ]
  },
  {
   "cell_type": "code",
   "execution_count": 1034,
   "metadata": {},
   "outputs": [
    {
     "data": {
      "text/plain": [
       "(-1.2573891946132743, -1.257232262969239, -1.2601967199117012)"
      ]
     },
     "execution_count": 1034,
     "metadata": {},
     "output_type": "execute_result"
    }
   ],
   "source": [
    "iwelbo_likelihood_mlmc, iwelbo_likelihood_randmlmc, iwelbo_likelihood_sumo "
   ]
  },
  {
   "cell_type": "markdown",
   "metadata": {},
   "source": [
    "## MLMC codition check for objective"
   ]
  },
  {
   "cell_type": "code",
   "execution_count": 1035,
   "metadata": {},
   "outputs": [],
   "source": [
    "def conv_stats_dIWELBO(x, y, beta0, beta, alpha, mu, sigma, level=1):\n",
    "    # Compute dIWELBO (and IWELBO) for each sample and \n",
    "    # summarize them into several statistics.\n",
    "\n",
    "    N, = mu.shape\n",
    "    n_MC = 2**level\n",
    "    z = norm(loc=mu, scale=sigma).rvs([n_MC, N])\n",
    "    \n",
    "    diwelbos = pointwise_dIWELBO(x, y, z, beta0, beta, alpha, mu, sigma).numpy()\n",
    "    iwelbos = pointwise_IWELBO(x, y, z, beta0, beta, alpha, mu, sigma).numpy()\n",
    "    \n",
    "    return {'mean_dIWELBO':np.mean(diwelbos), \n",
    "            'mean_abs_dIWELBO':np.mean(np.abs(diwelbos)), \n",
    "            'mean_squared_dIWELBO':np.mean(diwelbos**2),\n",
    "            'var_dIWELBO':np.var(diwelbos), \n",
    "            'var_IWELBO':np.var(iwelbos)}"
   ]
  },
  {
   "cell_type": "code",
   "execution_count": 20,
   "metadata": {},
   "outputs": [],
   "source": [
    "def tmp(l):\n",
    "    N0 = 2000000\n",
    "    x,y,_ = generate_data(N=N0//2**l, D=3, T=2, beta0=beta0, beta=beta, alpha=alpha)\n",
    "    mu, sigma = laplace_approx(x, y, beta0, beta, alpha)\n",
    "    return conv_stats_dIWELBO(x, y, beta0, beta, alpha, mu, sigma, level=l)\n",
    "L=13\n",
    "conv_stats = [tmp(l) for l in range(L)]\n",
    "conv_stats = pd.DataFrame(conv_stats)"
   ]
  },
  {
   "cell_type": "code",
   "execution_count": 21,
   "metadata": {},
   "outputs": [
    {
     "data": {
      "image/png": "[encoded data removed]",
      "text/plain": [
       "<Figure size 432x288 with 1 Axes>"
      ]
     },
     "metadata": {
      "needs_background": "light"
     },
     "output_type": "display_data"
    }
   ],
   "source": [
    "# plot results\n",
    "plt.plot(conv_stats[['mean_abs_dIWELBO', 'var_dIWELBO', 'var_IWELBO']])\n",
    "\n",
    "# plot O(2^{-l/2}), O(2^{-l}), O(2^{-2l})\n",
    "s,t = conv_stats[['mean_abs_dIWELBO', 'var_dIWELBO']].iloc[0]\n",
    "plt.plot(t*2.**(-np.arange(L)/2), c='grey')\n",
    "plt.plot(t*2.**(-np.arange(L)), c='grey')\n",
    "plt.plot(t*2.**(-np.arange(L)*2), c='grey')\n",
    "\n",
    "plt.legend([r'$\\mathrm{E} | \\Delta \\mathrm{IW}$-$\\mathrm{ELBO}|$', \n",
    "            r'$\\mathrm{Var}[\\Delta \\mathrm{IW}$-$\\mathrm{ELBO}]$', \n",
    "            r'$\\mathrm{Var}[\\mathrm{IW}$-$\\mathrm{ELBO}]$',\n",
    "            r'$O(2^{-\\ell/2}), O(2^{-\\ell}), O(2^{-2\\ell})$'])\n",
    "plt.xlabel('Level')\n",
    "plt.yscale('log')"
   ]
  },
  {
   "cell_type": "code",
   "execution_count": 22,
   "metadata": {},
   "outputs": [
    {
     "data": {
      "text/html": [
       "<div>\n",
       "<style scoped>\n",
       "    .dataframe tbody tr th:only-of-type {\n",
       "        vertical-align: middle;\n",
       "    }\n",
       "\n",
       "    .dataframe tbody tr th {\n",
       "        vertical-align: top;\n",
       "    }\n",
       "\n",
       "    .dataframe thead th {\n",
       "        text-align: right;\n",
       "    }\n",
       "</style>\n",
       "<table border=\"1\" class=\"dataframe\">\n",
       "  <thead>\n",
       "    <tr style=\"text-align: right;\">\n",
       "      <th></th>\n",
       "      <th>mean_dIWELBO</th>\n",
       "      <th>mean_abs_dIWELBO</th>\n",
       "      <th>mean_squared_dIWELBO</th>\n",
       "      <th>var_dIWELBO</th>\n",
       "      <th>var_IWELBO</th>\n",
       "    </tr>\n",
       "  </thead>\n",
       "  <tbody>\n",
       "    <tr>\n",
       "      <th>0</th>\n",
       "      <td>-1.252470e+00</td>\n",
       "      <td>1.252512e+00</td>\n",
       "      <td>1.801067e+00</td>\n",
       "      <td>2.323846e-01</td>\n",
       "      <td>0.232385</td>\n",
       "    </tr>\n",
       "    <tr>\n",
       "      <th>1</th>\n",
       "      <td>7.671857e-04</td>\n",
       "      <td>7.671857e-04</td>\n",
       "      <td>1.988989e-05</td>\n",
       "      <td>1.930132e-05</td>\n",
       "      <td>0.231417</td>\n",
       "    </tr>\n",
       "    <tr>\n",
       "      <th>2</th>\n",
       "      <td>4.311868e-04</td>\n",
       "      <td>4.311868e-04</td>\n",
       "      <td>5.169763e-06</td>\n",
       "      <td>4.983841e-06</td>\n",
       "      <td>0.230641</td>\n",
       "    </tr>\n",
       "    <tr>\n",
       "      <th>3</th>\n",
       "      <td>2.382265e-04</td>\n",
       "      <td>2.382265e-04</td>\n",
       "      <td>1.177528e-06</td>\n",
       "      <td>1.120776e-06</td>\n",
       "      <td>0.228240</td>\n",
       "    </tr>\n",
       "    <tr>\n",
       "      <th>4</th>\n",
       "      <td>1.259226e-04</td>\n",
       "      <td>1.259226e-04</td>\n",
       "      <td>2.496758e-07</td>\n",
       "      <td>2.338192e-07</td>\n",
       "      <td>0.228010</td>\n",
       "    </tr>\n",
       "    <tr>\n",
       "      <th>5</th>\n",
       "      <td>6.376771e-05</td>\n",
       "      <td>6.376771e-05</td>\n",
       "      <td>3.992232e-08</td>\n",
       "      <td>3.585600e-08</td>\n",
       "      <td>0.226713</td>\n",
       "    </tr>\n",
       "    <tr>\n",
       "      <th>6</th>\n",
       "      <td>3.297783e-05</td>\n",
       "      <td>3.297783e-05</td>\n",
       "      <td>8.306979e-09</td>\n",
       "      <td>7.219442e-09</td>\n",
       "      <td>0.229950</td>\n",
       "    </tr>\n",
       "    <tr>\n",
       "      <th>7</th>\n",
       "      <td>1.674977e-05</td>\n",
       "      <td>1.674977e-05</td>\n",
       "      <td>1.611728e-09</td>\n",
       "      <td>1.331173e-09</td>\n",
       "      <td>0.232394</td>\n",
       "    </tr>\n",
       "    <tr>\n",
       "      <th>8</th>\n",
       "      <td>8.578666e-06</td>\n",
       "      <td>8.578666e-06</td>\n",
       "      <td>3.895025e-10</td>\n",
       "      <td>3.159090e-10</td>\n",
       "      <td>0.232688</td>\n",
       "    </tr>\n",
       "    <tr>\n",
       "      <th>9</th>\n",
       "      <td>4.022756e-06</td>\n",
       "      <td>4.022756e-06</td>\n",
       "      <td>7.619544e-11</td>\n",
       "      <td>6.001288e-11</td>\n",
       "      <td>0.245891</td>\n",
       "    </tr>\n",
       "    <tr>\n",
       "      <th>10</th>\n",
       "      <td>2.039363e-06</td>\n",
       "      <td>2.039363e-06</td>\n",
       "      <td>1.827020e-11</td>\n",
       "      <td>1.411121e-11</td>\n",
       "      <td>0.251991</td>\n",
       "    </tr>\n",
       "    <tr>\n",
       "      <th>11</th>\n",
       "      <td>1.149126e-06</td>\n",
       "      <td>1.149126e-06</td>\n",
       "      <td>5.048343e-12</td>\n",
       "      <td>3.727852e-12</td>\n",
       "      <td>0.241208</td>\n",
       "    </tr>\n",
       "    <tr>\n",
       "      <th>12</th>\n",
       "      <td>5.054833e-07</td>\n",
       "      <td>5.054833e-07</td>\n",
       "      <td>1.050113e-12</td>\n",
       "      <td>7.945994e-13</td>\n",
       "      <td>0.215115</td>\n",
       "    </tr>\n",
       "  </tbody>\n",
       "</table>\n",
       "</div>"
      ],
      "text/plain": [
       "    mean_dIWELBO  mean_abs_dIWELBO  mean_squared_dIWELBO   var_dIWELBO  \\\n",
       "0  -1.252470e+00      1.252512e+00          1.801067e+00  2.323846e-01   \n",
       "1   7.671857e-04      7.671857e-04          1.988989e-05  1.930132e-05   \n",
       "2   4.311868e-04      4.311868e-04          5.169763e-06  4.983841e-06   \n",
       "3   2.382265e-04      2.382265e-04          1.177528e-06  1.120776e-06   \n",
       "4   1.259226e-04      1.259226e-04          2.496758e-07  2.338192e-07   \n",
       "5   6.376771e-05      6.376771e-05          3.992232e-08  3.585600e-08   \n",
       "6   3.297783e-05      3.297783e-05          8.306979e-09  7.219442e-09   \n",
       "7   1.674977e-05      1.674977e-05          1.611728e-09  1.331173e-09   \n",
       "8   8.578666e-06      8.578666e-06          3.895025e-10  3.159090e-10   \n",
       "9   4.022756e-06      4.022756e-06          7.619544e-11  6.001288e-11   \n",
       "10  2.039363e-06      2.039363e-06          1.827020e-11  1.411121e-11   \n",
       "11  1.149126e-06      1.149126e-06          5.048343e-12  3.727852e-12   \n",
       "12  5.054833e-07      5.054833e-07          1.050113e-12  7.945994e-13   \n",
       "\n",
       "    var_IWELBO  \n",
       "0     0.232385  \n",
       "1     0.231417  \n",
       "2     0.230641  \n",
       "3     0.228240  \n",
       "4     0.228010  \n",
       "5     0.226713  \n",
       "6     0.229950  \n",
       "7     0.232394  \n",
       "8     0.232688  \n",
       "9     0.245891  \n",
       "10    0.251991  \n",
       "11    0.241208  \n",
       "12    0.215115  "
      ]
     },
     "execution_count": 22,
     "metadata": {},
     "output_type": "execute_result"
    }
   ],
   "source": [
    "conv_stats"
   ]
  },
  {
   "cell_type": "markdown",
   "metadata": {},
   "source": [
    "## MLMC codition check for gradients"
   ]
  },
  {
   "cell_type": "code",
   "execution_count": 23,
   "metadata": {},
   "outputs": [],
   "source": [
    "def conv_stats_grad_dIWELBO(x, y, beta0, beta, alpha, mu, sigma, level=1):\n",
    "    # Compute the gradient of dIWELBO (and IWELBO) for each sample and \n",
    "    # summarize them into several statistics.\n",
    "\n",
    "    N, = mu.shape\n",
    "    n_MC = 2**level\n",
    "    z = norm(loc=mu, scale=sigma).rvs([n_MC, N]).T\n",
    "    \n",
    "    param = tf.concat([beta, [beta0], [alpha]], axis=0)\n",
    "    param = tf.Variable(param, dtype=tf.float64)\n",
    "    params = tf.reshape(param, [1,D+2]) * np.ones([N,1])\n",
    "\n",
    "    mu, sigma = laplace_approx(x, y, beta0, beta, alpha)        \n",
    "    \n",
    "    # Define a gradient function to be vectorized (vectorization for better performance)\n",
    "    def get_grad(args):\n",
    "        # get gradient of dIWELBO (and IWELBO) given one sample\n",
    "        param, x_, y_, z_, mu, sigma = args\n",
    "        z_ = tf.reshape(z_, [-1,1])\n",
    "        with tf.GradientTape(persistent=True) as g:\n",
    "            g.watch(param)\n",
    "            beta_ = param[0,:D]\n",
    "            beta0_ = param[0,D]\n",
    "            alpha_ = param[0,D+1]\n",
    "            diwelbos = pointwise_dIWELBO(x_, y_, z_, beta0_, beta_, alpha_, mu, sigma)\n",
    "            iwelbos = pointwise_IWELBO(x_, y_, z_, beta0_, beta_, alpha_, mu, sigma)    \n",
    "        a = g.gradient(diwelbos, param)\n",
    "        b = g.gradient(iwelbos, param)\n",
    "        del g\n",
    "        return a,b\n",
    "    \n",
    "    # Compute the gradient of dIWELBO (and IWELBO) for each sample\n",
    "    args = [tf.expand_dims(arg, axis=1) for arg in [params, x, y, z, mu, sigma]]\n",
    "    grads = tf.vectorized_map(get_grad, args)\n",
    "    \n",
    "    grad_diwelbos = tf.squeeze(grads[0])#[:D+1]\n",
    "    grad_iwelbos = tf.squeeze(grads[1])#[:D+1]\n",
    "    \n",
    "    # return summary statistics of the gradients\n",
    "    return {'norm_mean_grad_dIWELBO': np.linalg.norm(np.mean(grad_diwelbos, axis=0)), \n",
    "            'mean_norm_grad_dIWELBO': np.mean(np.linalg.norm(grad_diwelbos, axis=1)), \n",
    "            'mean_squared_norm_grad_dIWELBO': np.mean(np.linalg.norm(grad_diwelbos, axis=1)**2),\n",
    "            'trace_covariance_grad_dIWELBO': np.sum(np.var(grad_diwelbos, axis=0)), \n",
    "            'trace_covariance_grad_IWELBO': np.sum(np.var(grad_iwelbos, axis=0))}"
   ]
  },
  {
   "cell_type": "code",
   "execution_count": 24,
   "metadata": {},
   "outputs": [],
   "source": [
    "def tmp(l):\n",
    "    N0 = 2000000\n",
    "    x,y,_ = generate_data(N=N0//2**l, D=3, T=2, beta0=beta0, beta=beta, alpha=alpha)\n",
    "    mu, sigma = laplace_approx(x, y, beta0, beta, alpha)\n",
    "    return conv_stats_grad_dIWELBO(x, y, beta0, beta, alpha, mu, sigma, level=l)\n",
    "L=13\n",
    "conv_stats = [tmp(l) for l in range(L)]\n",
    "conv_stats = pd.DataFrame(conv_stats)"
   ]
  },
  {
   "cell_type": "code",
   "execution_count": 25,
   "metadata": {
    "scrolled": true
   },
   "outputs": [
    {
     "data": {
      "image/png": "[encoded data removed]",
      "text/plain": [
       "<Figure size 432x288 with 1 Axes>"
      ]
     },
     "metadata": {
      "needs_background": "light"
     },
     "output_type": "display_data"
    }
   ],
   "source": [
    "# plot results\n",
    "plt.plot(conv_stats[['norm_mean_grad_dIWELBO', 'trace_covariance_grad_dIWELBO', 'trace_covariance_grad_IWELBO']])\n",
    "\n",
    "# plot O(2^{-l/2}), O(2^{-l}), O(2^{-2l})\n",
    "s,t = conv_stats[['norm_mean_grad_dIWELBO', 'trace_covariance_grad_dIWELBO']].iloc[0]\n",
    "plt.plot(t*2.**(-np.arange(L)/2), c='grey')\n",
    "plt.plot(t*2.**(-np.arange(L)), c='grey')\n",
    "plt.plot(t*2.**(-np.arange(L)*2), c='grey')\n",
    "\n",
    "plt.legend([r'$||\\mathrm{E} [\\nabla (\\Delta \\mathrm{IW}$-$\\mathrm{ELBO})]||_2$', \n",
    "            r'$\\mathrm{tr}(\\mathrm{Cov}[\\nabla(\\Delta \\mathrm{IW}$-$\\mathrm{ELBO})])$', \n",
    "            r'$\\mathrm{tr}(\\mathrm{Cov}[\\nabla(\\mathrm{IW}$-$\\mathrm{ELBO})])$',\n",
    "            r'$O(2^{-\\ell/2}), O(2^{-\\ell}), O(2^{-2\\ell})$'])\n",
    "plt.xlabel('Level')\n",
    "plt.yscale('log')"
   ]
  },
  {
   "cell_type": "code",
   "execution_count": 26,
   "metadata": {},
   "outputs": [
    {
     "data": {
      "text/html": [
       "<div>\n",
       "<style scoped>\n",
       "    .dataframe tbody tr th:only-of-type {\n",
       "        vertical-align: middle;\n",
       "    }\n",
       "\n",
       "    .dataframe tbody tr th {\n",
       "        vertical-align: top;\n",
       "    }\n",
       "\n",
       "    .dataframe thead th {\n",
       "        text-align: right;\n",
       "    }\n",
       "</style>\n",
       "<table border=\"1\" class=\"dataframe\">\n",
       "  <thead>\n",
       "    <tr style=\"text-align: right;\">\n",
       "      <th></th>\n",
       "      <th>norm_mean_grad_dIWELBO</th>\n",
       "      <th>mean_norm_grad_dIWELBO</th>\n",
       "      <th>mean_squared_norm_grad_dIWELBO</th>\n",
       "      <th>trace_covariance_grad_dIWELBO</th>\n",
       "      <th>trace_covariance_grad_IWELBO</th>\n",
       "    </tr>\n",
       "  </thead>\n",
       "  <tbody>\n",
       "    <tr>\n",
       "      <th>0</th>\n",
       "      <td>0.015100</td>\n",
       "      <td>1.101499</td>\n",
       "      <td>1.508885e+00</td>\n",
       "      <td>1.508657e+00</td>\n",
       "      <td>1.508657</td>\n",
       "    </tr>\n",
       "    <tr>\n",
       "      <th>1</th>\n",
       "      <td>0.006300</td>\n",
       "      <td>0.012311</td>\n",
       "      <td>1.607364e-03</td>\n",
       "      <td>1.567672e-03</td>\n",
       "      <td>1.306163</td>\n",
       "    </tr>\n",
       "    <tr>\n",
       "      <th>2</th>\n",
       "      <td>0.003910</td>\n",
       "      <td>0.006936</td>\n",
       "      <td>4.678649e-04</td>\n",
       "      <td>4.525792e-04</td>\n",
       "      <td>1.200785</td>\n",
       "    </tr>\n",
       "    <tr>\n",
       "      <th>3</th>\n",
       "      <td>0.002239</td>\n",
       "      <td>0.003802</td>\n",
       "      <td>1.289700e-04</td>\n",
       "      <td>1.239559e-04</td>\n",
       "      <td>1.143741</td>\n",
       "    </tr>\n",
       "    <tr>\n",
       "      <th>4</th>\n",
       "      <td>0.001218</td>\n",
       "      <td>0.002033</td>\n",
       "      <td>2.756476e-05</td>\n",
       "      <td>2.608055e-05</td>\n",
       "      <td>1.114655</td>\n",
       "    </tr>\n",
       "    <tr>\n",
       "      <th>5</th>\n",
       "      <td>0.000637</td>\n",
       "      <td>0.001060</td>\n",
       "      <td>6.088934e-06</td>\n",
       "      <td>5.683427e-06</td>\n",
       "      <td>1.098381</td>\n",
       "    </tr>\n",
       "    <tr>\n",
       "      <th>6</th>\n",
       "      <td>0.000332</td>\n",
       "      <td>0.000543</td>\n",
       "      <td>1.487500e-06</td>\n",
       "      <td>1.377301e-06</td>\n",
       "      <td>1.091956</td>\n",
       "    </tr>\n",
       "    <tr>\n",
       "      <th>7</th>\n",
       "      <td>0.000164</td>\n",
       "      <td>0.000272</td>\n",
       "      <td>3.413345e-07</td>\n",
       "      <td>3.144101e-07</td>\n",
       "      <td>1.085481</td>\n",
       "    </tr>\n",
       "    <tr>\n",
       "      <th>8</th>\n",
       "      <td>0.000087</td>\n",
       "      <td>0.000142</td>\n",
       "      <td>7.334293e-08</td>\n",
       "      <td>6.580657e-08</td>\n",
       "      <td>1.090025</td>\n",
       "    </tr>\n",
       "    <tr>\n",
       "      <th>9</th>\n",
       "      <td>0.000043</td>\n",
       "      <td>0.000071</td>\n",
       "      <td>1.620525e-08</td>\n",
       "      <td>1.433604e-08</td>\n",
       "      <td>1.091163</td>\n",
       "    </tr>\n",
       "    <tr>\n",
       "      <th>10</th>\n",
       "      <td>0.000022</td>\n",
       "      <td>0.000035</td>\n",
       "      <td>4.048990e-09</td>\n",
       "      <td>3.585658e-09</td>\n",
       "      <td>1.094589</td>\n",
       "    </tr>\n",
       "    <tr>\n",
       "      <th>11</th>\n",
       "      <td>0.000011</td>\n",
       "      <td>0.000017</td>\n",
       "      <td>8.680983e-10</td>\n",
       "      <td>7.534851e-10</td>\n",
       "      <td>1.129827</td>\n",
       "    </tr>\n",
       "    <tr>\n",
       "      <th>12</th>\n",
       "      <td>0.000006</td>\n",
       "      <td>0.000010</td>\n",
       "      <td>3.336425e-10</td>\n",
       "      <td>2.924970e-10</td>\n",
       "      <td>1.117060</td>\n",
       "    </tr>\n",
       "  </tbody>\n",
       "</table>\n",
       "</div>"
      ],
      "text/plain": [
       "    norm_mean_grad_dIWELBO  mean_norm_grad_dIWELBO  \\\n",
       "0                 0.015100                1.101499   \n",
       "1                 0.006300                0.012311   \n",
       "2                 0.003910                0.006936   \n",
       "3                 0.002239                0.003802   \n",
       "4                 0.001218                0.002033   \n",
       "5                 0.000637                0.001060   \n",
       "6                 0.000332                0.000543   \n",
       "7                 0.000164                0.000272   \n",
       "8                 0.000087                0.000142   \n",
       "9                 0.000043                0.000071   \n",
       "10                0.000022                0.000035   \n",
       "11                0.000011                0.000017   \n",
       "12                0.000006                0.000010   \n",
       "\n",
       "    mean_squared_norm_grad_dIWELBO  trace_covariance_grad_dIWELBO  \\\n",
       "0                     1.508885e+00                   1.508657e+00   \n",
       "1                     1.607364e-03                   1.567672e-03   \n",
       "2                     4.678649e-04                   4.525792e-04   \n",
       "3                     1.289700e-04                   1.239559e-04   \n",
       "4                     2.756476e-05                   2.608055e-05   \n",
       "5                     6.088934e-06                   5.683427e-06   \n",
       "6                     1.487500e-06                   1.377301e-06   \n",
       "7                     3.413345e-07                   3.144101e-07   \n",
       "8                     7.334293e-08                   6.580657e-08   \n",
       "9                     1.620525e-08                   1.433604e-08   \n",
       "10                    4.048990e-09                   3.585658e-09   \n",
       "11                    8.680983e-10                   7.534851e-10   \n",
       "12                    3.336425e-10                   2.924970e-10   \n",
       "\n",
       "    trace_covariance_grad_IWELBO  \n",
       "0                       1.508657  \n",
       "1                       1.306163  \n",
       "2                       1.200785  \n",
       "3                       1.143741  \n",
       "4                       1.114655  \n",
       "5                       1.098381  \n",
       "6                       1.091956  \n",
       "7                       1.085481  \n",
       "8                       1.090025  \n",
       "9                       1.091163  \n",
       "10                      1.094589  \n",
       "11                      1.129827  \n",
       "12                      1.117060  "
      ]
     },
     "execution_count": 26,
     "metadata": {},
     "output_type": "execute_result"
    }
   ],
   "source": [
    "conv_stats"
   ]
  },
  {
   "cell_type": "markdown",
   "metadata": {},
   "source": [
    "## Cost comparison of objective"
   ]
  },
  {
   "cell_type": "code",
   "execution_count": 1036,
   "metadata": {},
   "outputs": [],
   "source": [
    "L = 13\n",
    "objectives = {\n",
    "    'NMC':      lambda x,y,mu,sigma,level: IWELBO(x, y, beta0, beta, alpha, mu, sigma, n_MC=2**level),\n",
    "    'MLMC':     lambda x,y,mu,sigma,level: IWELBO_MLMC(x, y, beta0, beta, alpha, mu, sigma, max_level=level, w0=0.90, b=1.8, randomize=False),\n",
    "    'RandMLMC': lambda x,y,mu,sigma,level: IWELBO_MLMC(x, y, beta0, beta, alpha, mu, sigma, max_level=level, w0=0.90, b=1.8, randomize=True),\n",
    "    'SUMO':     lambda x,y,mu,sigma,level: IWELBO_SUMO(x, y, beta0, beta, alpha, mu, sigma, K_max=2**level)\n",
    "}\n",
    "results = {'NMC':[], 'MLMC':[], 'RandMLMC':[], 'SUMO':[]}\n",
    "runtime = {'NMC':[], 'MLMC':[], 'RandMLMC':[], 'SUMO':[]}\n",
    "\n",
    "for name, obj in objectives.items():\n",
    "    \n",
    "    # evaluate variance\n",
    "    for i in range(100):\n",
    "        results[name].append([])\n",
    "        x,y,_ = generate_data(N=4000, D=3, T=2, beta0=beta0, beta=beta, alpha=alpha)\n",
    "        mu, sigma = laplace_approx(x, y, beta0, beta, alpha)\n",
    "        for level in range(L):\n",
    "            results[name][i].append( obj(x,y,mu,sigma,level).numpy() )\n",
    "    \n",
    "    # evaluate runtime\n",
    "    x,y,_ = generate_data(N=20000, D=3, T=2, beta0=beta0, beta=beta, alpha=alpha)\n",
    "    mu, sigma = laplace_approx(x, y, beta0, beta, alpha)    \n",
    "    for level in range(L):\n",
    "        if level>10 and name=='NMC':\n",
    "            start = time.time()\n",
    "            obj(*[vec[:200] for vec in [x,y,mu,sigma]], level)\n",
    "            end = time.time()\n",
    "            runtime[name].append((end - start)*100)\n",
    "        else:\n",
    "            start = time.time()\n",
    "            obj(x,y,mu,sigma,level)\n",
    "            end = time.time()\n",
    "            runtime[name].append(end - start)"
   ]
  },
  {
   "cell_type": "code",
   "execution_count": 1037,
   "metadata": {},
   "outputs": [
    {
     "data": {
      "image/png": "[encoded data removed]",
      "text/plain": [
       "<Figure size 432x288 with 1 Axes>"
      ]
     },
     "metadata": {
      "needs_background": "light"
     },
     "output_type": "display_data"
    }
   ],
   "source": [
    "for ests, rtime in zip(results.values(), runtime.values()):\n",
    "    var_per_recip_runtime = np.array(ests).var(axis=0) * np.array(rtime)\n",
    "    plt.plot(var_per_recip_runtime)\n",
    "plt.legend([name for name in results.keys()])\n",
    "plt.xlabel('Level')\n",
    "plt.ylabel('Variance per Reciprocal Runtime')\n",
    "plt.yscale('log')"
   ]
  },
  {
   "cell_type": "markdown",
   "metadata": {},
   "source": [
    "Variance per \"reciprocal of the runtime\" is considered because the varince is propotional to the  \"reciprocal of the runtime\". As we increase the computational complexity (runtime), the decrease in varince is inversely propotional to the complexity. "
   ]
  },
  {
   "cell_type": "markdown",
   "metadata": {},
   "source": [
    "## Cost comparison of gradients"
   ]
  },
  {
   "cell_type": "code",
   "execution_count": 1038,
   "metadata": {},
   "outputs": [],
   "source": [
    "L = 13\n",
    "objectives = {\n",
    "    'NMC':      lambda x,y,beta0,beta,alpha,mu,sigma,level: IWELBO(x, y, beta0, beta, alpha, mu, sigma, n_MC=2**level),\n",
    "    'MLMC':     lambda x,y,beta0,beta,alpha,mu,sigma,level: IWELBO_MLMC(x, y, beta0, beta, alpha, mu, sigma, max_level=level, w0=0.90, b=1.8, randomize=False),\n",
    "    'RandMLMC': lambda x,y,beta0,beta,alpha,mu,sigma,level: IWELBO_MLMC(x, y, beta0, beta, alpha, mu, sigma, max_level=level, w0=0.90, b=1.8, randomize=True),\n",
    "    'SUMO':     lambda x,y,beta0,beta,alpha,mu,sigma,level: IWELBO_SUMO(x, y, beta0, beta, alpha, mu, sigma, K_max=2**level)\n",
    "}\n",
    "\n",
    "def d(f):\n",
    "    # return the derivative of f\n",
    "    # returned value is a function\n",
    "    def df(x,y,mu,sigma,level):\n",
    "        param = tf.concat([beta, [beta0], [alpha]], axis=0)\n",
    "        param = tf.Variable(param, dtype=tf.float64)\n",
    "        with tf.GradientTape(persistent=True) as g:\n",
    "            g.watch(param)\n",
    "            beta_ = param[:D]\n",
    "            beta0_ = param[D]\n",
    "            alpha_ = param[D+1]\n",
    "            target = f(x,y,beta0_,beta_,alpha_,mu,sigma,level)\n",
    "        est = g.gradient(target, param)\n",
    "        return est\n",
    "    return df\n",
    "\n",
    "results = {'NMC':[], 'MLMC':[], 'RandMLMC':[], 'SUMO':[]}\n",
    "runtime = {'NMC':[], 'MLMC':[], 'RandMLMC':[], 'SUMO':[]}\n",
    "\n",
    "for name, obj in objectives.items():\n",
    "    \n",
    "    # evaluate variance\n",
    "    for i in range(100):\n",
    "        results[name].append([])\n",
    "        x,y,_ = generate_data(N=4000, D=3, T=2, beta0=beta0, beta=beta, alpha=alpha)\n",
    "        mu, sigma = laplace_approx(x, y, beta0, beta, alpha)\n",
    "        for level in range(L):\n",
    "            results[name][i].append( d(obj)(x,y,mu,sigma,level).numpy() )\n",
    "    \n",
    "    # evaluate runtime\n",
    "    x,y,_ = generate_data(N=20000, D=3, T=2, beta0=beta0, beta=beta, alpha=alpha)\n",
    "    mu, sigma = laplace_approx(x, y, beta0, beta, alpha)    \n",
    "    for level in range(L):\n",
    "        # Avoid the memery runout by \n",
    "        # manipulating the case of NMC with large n_MC (large level)\n",
    "        if level>10 and name=='NMC':\n",
    "            start = time.time()\n",
    "            d(obj)(*[vec[:200] for vec in [x,y,mu,sigma]], level)\n",
    "            end = time.time()\n",
    "            runtime[name].append((end - start)*100)\n",
    "        else:\n",
    "            start = time.time()\n",
    "            d(obj)(x,y,mu,sigma,level)\n",
    "            end = time.time()\n",
    "            runtime[name].append(end - start)"
   ]
  },
  {
   "cell_type": "code",
   "execution_count": 1039,
   "metadata": {},
   "outputs": [
    {
     "data": {
      "image/png": "[encoded data removed]",
      "text/plain": [
       "<Figure size 432x288 with 1 Axes>"
      ]
     },
     "metadata": {
      "needs_background": "light"
     },
     "output_type": "display_data"
    }
   ],
   "source": [
    "for ests, rtime in zip(results.values(), runtime.values()):\n",
    "    var_per_recip_runtime = np.array(ests).var(axis=0).sum(axis=1) * np.array(rtime)\n",
    "    plt.plot(var_per_recip_runtime)\n",
    "plt.legend([name for name in results.keys()])\n",
    "plt.xlabel('Level')\n",
    "plt.ylabel(r'Variance ( tr(Cov) ) per Reciprocal Runtime')\n",
    "plt.yscale('log')"
   ]
  },
  {
   "cell_type": "markdown",
   "metadata": {},
   "source": [
    "## Maximum Likelihood by Different Approximation"
   ]
  },
  {
   "cell_type": "code",
   "execution_count": 31,
   "metadata": {},
   "outputs": [],
   "source": [
    "def get_mlmc_cost(N, max_level, b, w0):\n",
    "    # compute the cost of MLMC estimation \n",
    "    # when the size of x (and that of y) is N\n",
    "    if max_level==0:\n",
    "        levels = np.array([0])\n",
    "        weights = np.array([1.])\n",
    "    else:\n",
    "        weights = 2.**(-(b+1)/2*np.arange(max_level))\n",
    "        weights /= sum(weights)\n",
    "        weights = np.concatenate([[w0], (1-w0)*weights])\n",
    "        levels = np.arange(max_level+1)\n",
    "    cost = np.ceil(N * weights[0])\\\n",
    "            + N * sum( np.ceil(weights[1:] * (2**levels[1:] + 2**(levels[1:]-1))) )\n",
    "    return cost"
   ]
  },
  {
   "cell_type": "code",
   "execution_count": 1040,
   "metadata": {},
   "outputs": [
    {
     "name": "stdout",
     "output_type": "stream",
     "text": [
      "training iwelbo512_sumo.... #iter:0 \n",
      "#iter: 0,\tloss: 1.3777691415543314\n",
      "#iter: 200,\tloss: 1.2269578182586887\n",
      "#iter: 400,\tloss: 1.2230405716550432\n",
      "#iter: 600,\tloss: 1.267018983605652\n",
      "#iter: 800,\tloss: 1.2595438022859071\n",
      "#iter: 1000,\tloss: 1.2736328903554504\n",
      "#iter: 1200,\tloss: 1.2724648270707575\n",
      "#iter: 1400,\tloss: 1.2545488789811652\n",
      "#iter: 1600,\tloss: 1.2813006611397513\n",
      "#iter: 1800,\tloss: 1.1840541576668155\n",
      "#iter: 2000,\tloss: 1.254389840228472\n",
      "training iwelbo512_sumo.... #iter:1 \n",
      "training iwelbo512_sumo.... #iter:2 \n",
      "training iwelbo512_sumo.... #iter:3 \n",
      "training iwelbo512_sumo.... #iter:4 \n",
      "training iwelbo512_sumo.... #iter:5 \n",
      "training iwelbo512_sumo.... #iter:6 \n",
      "training iwelbo512_sumo.... #iter:7 \n",
      "training iwelbo512_sumo.... #iter:8 \n",
      "training iwelbo512_sumo.... #iter:9 \n",
      "\n"
     ]
    }
   ],
   "source": [
    "objectives = {\n",
    "    #\"signorm\":   lambda x, y, beta0, beta, alpha, mu, sigma: sigmoid_normal_likelihood(x, y, beta0, beta, alpha),\n",
    "    #\"elbo\":      lambda x, y, beta0, beta, alpha, mu, sigma: IWELBO(x, y, beta0, beta, alpha, mu, sigma, n_MC=1),\n",
    "    #\"iwelbo8\":   lambda x, y, beta0, beta, alpha, mu, sigma: IWELBO(x, y, beta0, beta, alpha, mu, sigma, n_MC=8),\n",
    "    #\"iwelbo64\":  lambda x, y, beta0, beta, alpha, mu, sigma: IWELBO(x, y, beta0, beta, alpha, mu, sigma, n_MC=64),\n",
    "    #\"iwelbo512\": lambda x, y, beta0, beta, alpha, mu, sigma: IWELBO(x, y, beta0, beta, alpha, mu, sigma, n_MC=512),\n",
    "    #\"iwelbo512_mlmc\": lambda x, y, beta0, beta, alpha, mu, sigma: IWELBO_MLMC(x, y, beta0, beta, alpha, mu, sigma, max_level=9, w0=0.90, b=1.8, randomize=False),\n",
    "    #\"iwelbo512_randmlmc\": lambda x, y, beta0, beta, alpha, mu, sigma: IWELBO_MLMC(x, y, beta0, beta, alpha, mu, sigma, max_level=9, w0=0.90, b=1.8, randomize=True),\n",
    "    \"iwelbo512_sumo\": lambda x, y, beta0, beta, alpha, mu, sigma: IWELBO_SUMO(x, y, beta0, beta, alpha, mu, sigma, K_max=512),\n",
    "\n",
    "}\n",
    "N,T,D = (1000, 2, 3) if tf.test.is_gpu_available() else (200, 2, 3)\n",
    "\n",
    "n_repeat = 10\n",
    "params_repeated = {name:[] for name in objectives.keys()}\n",
    "\n",
    "for name, obj in objectives.items():\n",
    "    alpha_s = []\n",
    "    beta0_s = []\n",
    "    beta_s = []\n",
    "    for i in range(n_repeat):\n",
    "        print(\"training {}.... #iter:{} \".format(name,i))\n",
    "\n",
    "        beta0_ = tf.Variable(0., dtype=tf.float64)\n",
    "        beta_  = tf.Variable(np.zeros([D]), dtype=tf.float64)\n",
    "        alpha_   = tf.Variable(1., dtype=tf.float64)\n",
    "\n",
    "        # Gradient Descent\n",
    "        for t in range(2001):\n",
    "\n",
    "            rho_t = 0.5/(1+t)**0.7\n",
    "            x,y,_ = generate_data(N, D, T, beta0, beta, alpha)\n",
    "            # balance the cost of mlmc and nmc when level=9 (n_MC=512)\n",
    "            if 'mlmc' in name:\n",
    "                cost_nmc  = N * 2**9\n",
    "                cost_mlmc = get_mlmc_cost(N, max_level=9, b=1.8, w0=0.9)\n",
    "                N_mlmc = np.math.ceil(N * (cost_nmc / cost_mlmc))\n",
    "                x,y,_ = generate_data(N_mlmc, D, T, beta0, beta, alpha)    \n",
    "\n",
    "            with tf.GradientTape() as g:\n",
    "                g.watch([beta0_, beta_, alpha_])\n",
    "                mu, sigma = laplace_approx(x, y, beta0_.numpy(), beta_.numpy(), alpha_.numpy())\n",
    "                score = obj(x, y, beta0_, beta_, alpha_, mu, sigma)\n",
    "            dbeta0_, dbeta_, dalpha_ = g.gradient(score, [beta0_, beta_, alpha_])\n",
    "\n",
    "            beta0_ = beta0_ + rho_t*dbeta0_\n",
    "            beta_ = beta_ + rho_t*dbeta_\n",
    "            alpha_ = alpha_ + dalpha_\n",
    "            if t%200==0 and i==0:\n",
    "                print(\"#iter: {},\\tloss: {}\".format(t, -score.numpy()))\n",
    "        alpha_s.append(alpha_.numpy())\n",
    "        beta0_s.append(beta0_.numpy())\n",
    "        beta_s.append(beta_.numpy())\n",
    "    print()\n",
    "    params_repeated[name] = {\n",
    "            'alpha': np.array(alpha_s),\n",
    "            'beta0': np.array(beta0_s),\n",
    "            'beta': np.array(beta_s)\n",
    "    }"
   ]
  },
  {
   "cell_type": "code",
   "execution_count": 33,
   "metadata": {
    "scrolled": true
   },
   "outputs": [],
   "source": [
    "def expand(key, val):\n",
    "    # expand {\"name\":array([1,2,3,4,5])}\n",
    "    # into {\"name1\":1, \"name2\":2, ..., \"name5\":5}\n",
    "    if type(val)==np.ndarray:\n",
    "        return {key+str(i+1): x for i,x in enumerate(val)} \n",
    "    else:\n",
    "        return {key:val} \n",
    "\n",
    "def expand_param(param):\n",
    "    expanded_param = {}\n",
    "    for key, val in param.items():\n",
    "        expanded_param.update(expand(key,val))\n",
    "    return expanded_param"
   ]
  },
  {
   "cell_type": "code",
   "execution_count": 1079,
   "metadata": {},
   "outputs": [],
   "source": [
    "params = {'ground_truth': expand_param(param0)}\n",
    "params['ground_truth'].update({'MSE':0})\n",
    "for name in objectives.keys():\n",
    "    param_repeated = params_repeated[name]\n",
    "    param_mean   = expand_param({name: array.mean(axis=0) for name, array in  param_repeated.items()})\n",
    "    param_var = expand_param({name: array.std(axis=0) for name, array in  param_repeated.items()})\n",
    "    param = {name_:'{:.5f} ± {:.5f}'.format(mean,var**(1/2.)) \n",
    "             for name_, mean, var \n",
    "             in zip( param_mean.keys(), param_mean.values(), param_var.values() )}\n",
    "    error = [var+(mean-true_mean)**2 \n",
    "             for var, mean, true_mean \n",
    "             in zip( param_var.values(), param_mean.values(), params['ground_truth'].values() )]\n",
    "    MSE = sum(error)\n",
    "    param.update({'MSE':MSE})\n",
    "    params.update({name :param})"
   ]
  },
  {
   "cell_type": "code",
   "execution_count": 1086,
   "metadata": {},
   "outputs": [
    {
     "data": {
      "text/html": [
       "<div>\n",
       "<style scoped>\n",
       "    .dataframe tbody tr th:only-of-type {\n",
       "        vertical-align: middle;\n",
       "    }\n",
       "\n",
       "    .dataframe tbody tr th {\n",
       "        vertical-align: top;\n",
       "    }\n",
       "\n",
       "    .dataframe thead th {\n",
       "        text-align: right;\n",
       "    }\n",
       "</style>\n",
       "<table border=\"1\" class=\"dataframe\">\n",
       "  <thead>\n",
       "    <tr style=\"text-align: right;\">\n",
       "      <th></th>\n",
       "      <th>alpha</th>\n",
       "      <th>beta0</th>\n",
       "      <th>beta1</th>\n",
       "      <th>beta2</th>\n",
       "      <th>beta3</th>\n",
       "      <th>MSE</th>\n",
       "    </tr>\n",
       "  </thead>\n",
       "  <tbody>\n",
       "    <tr>\n",
       "      <th>ground_truth</th>\n",
       "      <td>1.0</td>\n",
       "      <td>0.0</td>\n",
       "      <td>0.25</td>\n",
       "      <td>0.5</td>\n",
       "      <td>0.75</td>\n",
       "      <td>0</td>\n",
       "    </tr>\n",
       "    <tr>\n",
       "      <th>signorm</th>\n",
       "      <td>-0.26360 ± 0.24372</td>\n",
       "      <td>-0.00024 ± 0.05176</td>\n",
       "      <td>0.22195 ± 0.04362</td>\n",
       "      <td>0.44201 ± 0.05179</td>\n",
       "      <td>0.66286 ± 0.06393</td>\n",
       "      <td>1.67917</td>\n",
       "    </tr>\n",
       "    <tr>\n",
       "      <th>elbo</th>\n",
       "      <td>-0.38183 ± 0.49376</td>\n",
       "      <td>-0.00086 ± 0.05657</td>\n",
       "      <td>0.22192 ± 0.04540</td>\n",
       "      <td>0.44177 ± 0.07323</td>\n",
       "      <td>0.66361 ± 0.10381</td>\n",
       "      <td>2.18629</td>\n",
       "    </tr>\n",
       "    <tr>\n",
       "      <th>iwelbo8</th>\n",
       "      <td>0.53578 ± 0.28867</td>\n",
       "      <td>-0.00142 ± 0.04664</td>\n",
       "      <td>0.23454 ± 0.05152</td>\n",
       "      <td>0.47111 ± 0.06654</td>\n",
       "      <td>0.70606 ± 0.04678</td>\n",
       "      <td>0.313283</td>\n",
       "    </tr>\n",
       "    <tr>\n",
       "      <th>iwelbo64</th>\n",
       "      <td>0.87306 ± 0.26040</td>\n",
       "      <td>-0.00002 ± 0.05260</td>\n",
       "      <td>0.24151 ± 0.05073</td>\n",
       "      <td>0.48091 ± 0.05563</td>\n",
       "      <td>0.71940 ± 0.04901</td>\n",
       "      <td>0.0961301</td>\n",
       "    </tr>\n",
       "    <tr>\n",
       "      <th>iwelbo512</th>\n",
       "      <td>0.89452 ± 0.22600</td>\n",
       "      <td>0.00089 ± 0.05757</td>\n",
       "      <td>0.24021 ± 0.05118</td>\n",
       "      <td>0.48183 ± 0.05445</td>\n",
       "      <td>0.72211 ± 0.05102</td>\n",
       "      <td>0.0749109</td>\n",
       "    </tr>\n",
       "    <tr>\n",
       "      <th>iwelbo512_mlmc</th>\n",
       "      <td>0.88082 ± 0.14854</td>\n",
       "      <td>-0.00020 ± 0.02742</td>\n",
       "      <td>0.24061 ± 0.02597</td>\n",
       "      <td>0.48083 ± 0.02546</td>\n",
       "      <td>0.72105 ± 0.02794</td>\n",
       "      <td>0.0404173</td>\n",
       "    </tr>\n",
       "    <tr>\n",
       "      <th>iwelbo512_randmlmc</th>\n",
       "      <td>0.89161 ± 0.19199</td>\n",
       "      <td>-0.00007 ± 0.02189</td>\n",
       "      <td>0.24062 ± 0.02450</td>\n",
       "      <td>0.48149 ± 0.03108</td>\n",
       "      <td>0.72211 ± 0.03523</td>\n",
       "      <td>0.0531041</td>\n",
       "    </tr>\n",
       "    <tr>\n",
       "      <th>iwelbo512_sumo</th>\n",
       "      <td>-2.90995 ± 1.96398</td>\n",
       "      <td>-0.00120 ± 0.06797</td>\n",
       "      <td>0.21035 ± 0.07966</td>\n",
       "      <td>0.41891 ± 0.11520</td>\n",
       "      <td>0.62779 ± 0.13129</td>\n",
       "      <td>19.2095</td>\n",
       "    </tr>\n",
       "  </tbody>\n",
       "</table>\n",
       "</div>"
      ],
      "text/plain": [
       "                                 alpha               beta0              beta1  \\\n",
       "ground_truth                       1.0                 0.0               0.25   \n",
       "signorm             -0.26360 ± 0.24372  -0.00024 ± 0.05176  0.22195 ± 0.04362   \n",
       "elbo                -0.38183 ± 0.49376  -0.00086 ± 0.05657  0.22192 ± 0.04540   \n",
       "iwelbo8              0.53578 ± 0.28867  -0.00142 ± 0.04664  0.23454 ± 0.05152   \n",
       "iwelbo64             0.87306 ± 0.26040  -0.00002 ± 0.05260  0.24151 ± 0.05073   \n",
       "iwelbo512            0.89452 ± 0.22600   0.00089 ± 0.05757  0.24021 ± 0.05118   \n",
       "iwelbo512_mlmc       0.88082 ± 0.14854  -0.00020 ± 0.02742  0.24061 ± 0.02597   \n",
       "iwelbo512_randmlmc   0.89161 ± 0.19199  -0.00007 ± 0.02189  0.24062 ± 0.02450   \n",
       "iwelbo512_sumo      -2.90995 ± 1.96398  -0.00120 ± 0.06797  0.21035 ± 0.07966   \n",
       "\n",
       "                                beta2              beta3        MSE  \n",
       "ground_truth                      0.5               0.75          0  \n",
       "signorm             0.44201 ± 0.05179  0.66286 ± 0.06393    1.67917  \n",
       "elbo                0.44177 ± 0.07323  0.66361 ± 0.10381    2.18629  \n",
       "iwelbo8             0.47111 ± 0.06654  0.70606 ± 0.04678   0.313283  \n",
       "iwelbo64            0.48091 ± 0.05563  0.71940 ± 0.04901  0.0961301  \n",
       "iwelbo512           0.48183 ± 0.05445  0.72211 ± 0.05102  0.0749109  \n",
       "iwelbo512_mlmc      0.48083 ± 0.02546  0.72105 ± 0.02794  0.0404173  \n",
       "iwelbo512_randmlmc  0.48149 ± 0.03108  0.72211 ± 0.03523  0.0531041  \n",
       "iwelbo512_sumo      0.41891 ± 0.11520  0.62779 ± 0.13129    19.2095  "
      ]
     },
     "execution_count": 1086,
     "metadata": {},
     "output_type": "execute_result"
    }
   ],
   "source": [
    "data = pd.DataFrame(params).T\n",
    "data"
   ]
  },
  {
   "cell_type": "code",
   "execution_count": 124,
   "metadata": {},
   "outputs": [],
   "source": [
    "data.to_csv('../out/random_effect_logistic_regression/MLE_error_{}.csv'.format(timestamp()))"
   ]
  },
  {
   "cell_type": "markdown",
   "metadata": {},
   "source": [
    "#### Bottom Line: \n",
    "- IWELBO with large number of inner MC samples gives better estiamte than ELBO or sigmoid normal integral approximation, even for this simple model. \n",
    "- MLMC is more effective than nested MC when used for maximum likelihood estimation."
   ]
  }
 ],
 "metadata": {
  "kernelspec": {
   "display_name": "Python 3",
   "language": "python",
   "name": "python3"
  },
  "language_info": {
   "codemirror_mode": {
    "name": "ipython",
    "version": 3
   },
   "file_extension": ".py",
   "mimetype": "text/x-python",
   "name": "python",
   "nbconvert_exporter": "python",
   "pygments_lexer": "ipython3",
   "version": "3.6.9"
  }
 },
 "nbformat": 4,
 "nbformat_minor": 4
}
