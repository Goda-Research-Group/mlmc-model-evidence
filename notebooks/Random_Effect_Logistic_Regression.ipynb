{
 "cells": [
  {
   "cell_type": "markdown",
   "metadata": {},
   "source": [
    "# Random Effect Logistic Regression by MLMC Variational Bayes"
   ]
  },
  {
   "cell_type": "markdown",
   "metadata": {},
   "source": [
    "## Model Description"
   ]
  },
  {
   "cell_type": "markdown",
   "metadata": {},
   "source": [
    "##### Random Effect Models:\n",
    "For $n=1,...,N$,\n",
    "<br>&nbsp;&nbsp;&nbsp;&nbsp;\n",
    "$Z_n \\sim N(0,\\tau^2)$\n",
    "<br>&nbsp;&nbsp;&nbsp;&nbsp;\n",
    "$Y_{n,t} \\sim \\text{Bernoulli}\\left(\\frac{1}{1+\\exp(- Z_n - \\beta_0 - \\beta^T x_{n,t})}\\right)$\n",
    "<br>\n",
    "for $t=1, ..., T$. This model carries out dimentionality reduction of binary observations $y_{n,k}$'s. Here, the dimention of $\\beta$ and $x_{n,t}$ is $D$.<br>\n",
    "As variational approximation of the posterior $p(z_n|y_n)$, we use $q(z_n)= N(z_n;\\mu_n, \\sigma_n^2)$"
   ]
  },
  {
   "cell_type": "markdown",
   "metadata": {},
   "source": [
    "##### Possible Extension:\n",
    "\n",
    "By adding $\\bar x_n=\\frac{1}{T}\\sum_t x_{n,t}$ to the predictors as \n",
    "<br>&nbsp;&nbsp;&nbsp;&nbsp;\n",
    "$Y_{n,t} \\sim \\text{Bernoulli}\\left(\\frac{1}{1+\\exp(- Z_n - \\beta_0 - \\beta^T x_{n,t}- \\gamma\\bar x_n)}\\right)$,\n",
    "<br>\n",
    "we can obtain correlated random effect models."
   ]
  },
  {
   "cell_type": "markdown",
   "metadata": {},
   "source": [
    "#### We do not consider the use of Renyi divergences"
   ]
  },
  {
   "cell_type": "markdown",
   "metadata": {},
   "source": [
    "## Import Packages"
   ]
  },
  {
   "cell_type": "code",
   "execution_count": 1,
   "metadata": {},
   "outputs": [],
   "source": [
    "# Turn GPUs off\n",
    "import os\n",
    "os.environ[\"CUDA_VISIBLE_DEVICES\"] = \"-1\""
   ]
  },
  {
   "cell_type": "code",
   "execution_count": 2,
   "metadata": {},
   "outputs": [],
   "source": [
    "import tensorflow as tf\n",
    "import tensorflow_probability as tfp\n",
    "import numpy as np\n",
    "import pandas as pd\n",
    "from scipy.stats import bernoulli, norm\n",
    "from matplotlib import pyplot as plt"
   ]
  },
  {
   "cell_type": "code",
   "execution_count": 94,
   "metadata": {},
   "outputs": [
    {
     "data": {
      "text/plain": [
       "False"
      ]
     },
     "execution_count": 94,
     "metadata": {},
     "output_type": "execute_result"
    }
   ],
   "source": [
    "tf.test.is_gpu_available()"
   ]
  },
  {
   "cell_type": "markdown",
   "metadata": {},
   "source": [
    "## Utilities"
   ]
  },
  {
   "cell_type": "code",
   "execution_count": 3,
   "metadata": {},
   "outputs": [],
   "source": [
    "sigmoid = lambda x:1/(1+np.exp(-x))\n",
    "\n",
    "as_tf_float = lambda x: tf.cast(x, tf.float64)\n",
    "\n",
    "def tf_logsumexp(ary, axis=1, keepdims=False):\n",
    "    return tf.math.reduce_logsumexp(ary, axis=axis, keepdims=keepdims)\n",
    "\n",
    "def tf_logmeanexp(ary, axis=1, keepdims=False):\n",
    "    return tf.math.reduce_logsumexp(ary, axis=axis, keepdims=keepdims) \\\n",
    "        - tf.math.log(as_tf_float(ary.shape[axis]))"
   ]
  },
  {
   "cell_type": "markdown",
   "metadata": {},
   "source": [
    "## Generate Toy Dataset"
   ]
  },
  {
   "cell_type": "code",
   "execution_count": 4,
   "metadata": {},
   "outputs": [],
   "source": [
    "N = 1000\n",
    "D = 3\n",
    "T = 2"
   ]
  },
  {
   "cell_type": "code",
   "execution_count": 5,
   "metadata": {},
   "outputs": [],
   "source": [
    "# data\n",
    "# We assume that we have infinite amount of data.\n",
    "# Thus, generator of the data is implemented.\n",
    "def generate_data(N, D, T, beta0, beta, ln_tau):\n",
    "    z = np.random.randn(N) * np.exp(ln_tau)\n",
    "    x = np.random.randn(N*T*D).reshape([N,T,D])\n",
    "    y = bernoulli(p=sigmoid(beta0+x@beta+z.reshape([N,1]))).rvs()\n",
    "    return x,y,z"
   ]
  },
  {
   "cell_type": "code",
   "execution_count": 6,
   "metadata": {},
   "outputs": [],
   "source": [
    "# paramters\n",
    "ln_tau = np.float64(0.7)\n",
    "beta0 = np.float64(0.)\n",
    "beta  = np.random.randn(D) / np.sqrt(D)\n",
    "param0 = {\n",
    "    'ln_tau': ln_tau,\n",
    "    'beta0': beta0,\n",
    "    'beta': beta\n",
    "}"
   ]
  },
  {
   "cell_type": "code",
   "execution_count": 7,
   "metadata": {
    "scrolled": true
   },
   "outputs": [],
   "source": [
    "x,y,z = generate_data(N, D, T, beta0, beta, ln_tau)"
   ]
  },
  {
   "cell_type": "markdown",
   "metadata": {},
   "source": [
    "## Sigmoid Normal Integral Approximation of Evidence\n",
    "\n",
    "Ref: Barber Bishop(1998), PRML(2006)"
   ]
  },
  {
   "cell_type": "code",
   "execution_count": 8,
   "metadata": {},
   "outputs": [],
   "source": [
    "def sigmoid_normal_prob(x, beta0, beta, ln_tau):\n",
    "    N, T, D  = x.shape\n",
    "    kappa = 1 / (1 + np.pi*tf.exp(ln_tau*2)/8)**(1/2)\n",
    "    return tf.math.sigmoid( kappa * (beta0 + tf.reshape( x@tf.reshape(beta, [D,1]), [N, T])) )"
   ]
  },
  {
   "cell_type": "code",
   "execution_count": 9,
   "metadata": {},
   "outputs": [],
   "source": [
    "def sigmoid_normal_likelihood(x, y, beta0, beta, ln_tau):\n",
    "    pred_prob = sigmoid_normal_prob(x, beta0, beta, ln_tau)\n",
    "    score = tf.reduce_mean(tf.reduce_sum(\n",
    "        tf.math.log(pred_prob)*y + tf.math.log(1-pred_prob)*(1-y), \n",
    "        axis=1))\n",
    "    return score"
   ]
  },
  {
   "cell_type": "markdown",
   "metadata": {},
   "source": [
    "## Laplace Approximation of Posterior"
   ]
  },
  {
   "cell_type": "code",
   "execution_count": 10,
   "metadata": {},
   "outputs": [],
   "source": [
    "def laplace_approx(x, y, beta0, beta, ln_tau):\n",
    "    N, T, D  = x.shape\n",
    "    z = np.zeros([N, 1])\n",
    "    _sig = lambda z: sigmoid( z + beta0 + x@beta )\n",
    "    for i in range(10):\n",
    "        sig = _sig(z)\n",
    "        hessian = 1/np.exp(ln_tau*2) + np.sum( sig*(1-sig), axis=1, keepdims=True)\n",
    "        grad    = z/np.exp(ln_tau*2) + np.sum( sig - y,     axis=1, keepdims=True)\n",
    "        z -= grad / hessian\n",
    "    mu = z.reshape([N])\n",
    "    sigma = (1 / hessian).reshape([N])**(1/2)\n",
    "    return mu, sigma"
   ]
  },
  {
   "cell_type": "code",
   "execution_count": 11,
   "metadata": {},
   "outputs": [],
   "source": [
    "mu, sigma = laplace_approx(x, y, beta0, beta, ln_tau)"
   ]
  },
  {
   "cell_type": "code",
   "execution_count": 12,
   "metadata": {},
   "outputs": [
    {
     "data": {
      "text/plain": [
       "(4.040722523167153, 2.0913584603307)"
      ]
     },
     "execution_count": 12,
     "metadata": {},
     "output_type": "execute_result"
    }
   ],
   "source": [
    "z.var(), (z-mu).var()"
   ]
  },
  {
   "cell_type": "markdown",
   "metadata": {},
   "source": [
    "## IWELBO approximation of Evidence"
   ]
  },
  {
   "cell_type": "code",
   "execution_count": 13,
   "metadata": {},
   "outputs": [],
   "source": [
    "def pointwise_IWELBO(x, y, z, beta0, beta, ln_tau, mu, sigma):\n",
    "    \"\"\"\n",
    "    Compute IWELBOs for i = 1,...,n using n_MC samples Zn. \n",
    "    Here, we assume that n<N where N is the size of data.\n",
    "    \n",
    "    Arguments:\n",
    "    x: 3-d array of size [N, T, D]\n",
    "    y: 2-d array of size [N, T]\n",
    "    z: 1-d array of size [n_MC, N]\n",
    "    beta: 1-d array of size [D]\n",
    "    mu: 1-d array of [N]\n",
    "    sigma**2: 1-d array of [N]\n",
    "    \n",
    "    Returns:\n",
    "    iwelbo: iwelbo, whose size is [N]\n",
    "    \"\"\"\n",
    "\n",
    "    (N, T, D), (n_MC, n) = x.shape, z.shape\n",
    "    y = as_tf_float( tf.reshape(y, [1,N,T]) )\n",
    "    mu = tf.reshape(mu, [1,N])\n",
    "    sigma = tf.reshape(sigma, [1,N])\n",
    "    \n",
    "    y_logits = tf.convert_to_tensor( beta0\\\n",
    "                                    + tf.reshape( x@tf.reshape(beta, [D,1]), [1, N, T])\\\n",
    "                                    + tf.reshape(z, [n_MC, N, 1]) \n",
    "                                   )\n",
    "    p_y = tfp.distributions.Bernoulli(logits=y_logits)\n",
    "    p_z = tfp.distributions.Normal(loc=np.zeros([1, N]), scale=tf.exp(ln_tau))\n",
    "    q_z = tfp.distributions.Normal(loc=mu, scale=sigma)\n",
    "    \n",
    "    log_prob_ratio = \\\n",
    "        tf.reduce_sum( p_y.log_prob(y), axis=2)\\\n",
    "        + p_z.log_prob(z)\\\n",
    "        - q_z.log_prob(z)\n",
    "    \n",
    "    iwelbo = tf_logmeanexp(log_prob_ratio, axis=0)\n",
    "    return iwelbo"
   ]
  },
  {
   "cell_type": "code",
   "execution_count": 14,
   "metadata": {},
   "outputs": [],
   "source": [
    "def IWELBO(x, y, beta0, beta, ln_tau, mu, sigma, n_MC):\n",
    "    N, = mu.shape\n",
    "    z = norm(loc=mu, scale=sigma).rvs([n_MC, N])\n",
    "    iwelbo = tf.reduce_mean( pointwise_IWELBO(x, y, z, beta0, beta, ln_tau, mu, sigma) )\n",
    "    return iwelbo"
   ]
  },
  {
   "cell_type": "code",
   "execution_count": 15,
   "metadata": {},
   "outputs": [],
   "source": [
    "signorm_likelihood = sigmoid_normal_likelihood(x, y, beta0, beta, ln_tau).numpy()\n",
    "elbo_likelihood = IWELBO(x, y, beta0, beta, ln_tau, mu, sigma, n_MC=1).numpy()\n",
    "iwelbo_likelihood = IWELBO(x, y, beta0, beta, ln_tau, mu, sigma, n_MC=64).numpy()"
   ]
  },
  {
   "cell_type": "code",
   "execution_count": 126,
   "metadata": {},
   "outputs": [
    {
     "data": {
      "text/plain": [
       "(-1.2551747154340933, -1.2160373696810574, -1.2045896910231413)"
      ]
     },
     "execution_count": 126,
     "metadata": {},
     "output_type": "execute_result"
    }
   ],
   "source": [
    "signorm_likelihood, elbo_likelihood, iwelbo_likelihood"
   ]
  },
  {
   "cell_type": "markdown",
   "metadata": {},
   "source": [
    "## Maximum Likelihood by Different Approximation"
   ]
  },
  {
   "cell_type": "code",
   "execution_count": 211,
   "metadata": {},
   "outputs": [
    {
     "name": "stdout",
     "output_type": "stream",
     "text": [
      "training signorm...\n",
      "#iter: 0,\tloss: 1.3862943611198904\n",
      "#iter: 200,\tloss: 1.2217970323912979\n",
      "#iter: 400,\tloss: 1.237592319718629\n",
      "#iter: 600,\tloss: 1.3017981438105557\n",
      "#iter: 800,\tloss: 1.27793907350506\n",
      "#iter: 1000,\tloss: 1.293333759457593\n",
      "#iter: 1200,\tloss: 1.2156717556754963\n",
      "#iter: 1400,\tloss: 1.308241073614156\n",
      "#iter: 1600,\tloss: 1.2951134878649435\n",
      "#iter: 1800,\tloss: 1.2591591275898113\n",
      "#iter: 2000,\tloss: 1.2131721435804903\n",
      "\n",
      "training elbo...\n",
      "#iter: 0,\tloss: 1.3559846013419303\n",
      "#iter: 200,\tloss: 1.352333755944922\n",
      "#iter: 400,\tloss: 1.3232539331865383\n",
      "#iter: 600,\tloss: 1.2142758573708725\n",
      "#iter: 800,\tloss: 1.2728658999639826\n",
      "#iter: 1000,\tloss: 1.252530686934901\n",
      "#iter: 1200,\tloss: 1.3728023136581877\n",
      "#iter: 1400,\tloss: 1.3931981043795685\n",
      "#iter: 1600,\tloss: 1.2946185025280095\n",
      "#iter: 1800,\tloss: 1.312024261335532\n",
      "#iter: 2000,\tloss: 1.2812556448652321\n",
      "\n",
      "training iwelbo8...\n",
      "#iter: 0,\tloss: 1.3609091796448791\n",
      "#iter: 200,\tloss: 1.20924912331626\n",
      "#iter: 400,\tloss: 1.2273941103203396\n",
      "#iter: 600,\tloss: 1.1751503463589978\n",
      "#iter: 800,\tloss: 1.2180657400357777\n",
      "#iter: 1000,\tloss: 1.2438198279305137\n",
      "#iter: 1200,\tloss: 1.28027962919228\n",
      "#iter: 1400,\tloss: 1.2479240172288726\n",
      "#iter: 1600,\tloss: 1.2309711423728829\n",
      "#iter: 1800,\tloss: 1.183820445418628\n",
      "#iter: 2000,\tloss: 1.2685673295723243\n",
      "\n",
      "training iwelbo64...\n",
      "#iter: 0,\tloss: 1.3771262965001143\n",
      "#iter: 200,\tloss: 1.2086724674498572\n",
      "#iter: 400,\tloss: 1.2865288388017577\n",
      "#iter: 600,\tloss: 1.2833430540036357\n",
      "#iter: 800,\tloss: 1.1592099130052242\n",
      "#iter: 1000,\tloss: 1.2008038863841373\n",
      "#iter: 1200,\tloss: 1.2179137673514777\n",
      "#iter: 1400,\tloss: 1.2600895817598745\n",
      "#iter: 1600,\tloss: 1.1806472143670013\n",
      "#iter: 1800,\tloss: 1.2229835412998282\n",
      "#iter: 2000,\tloss: 1.1651664590113904\n",
      "\n",
      "training iwelbo512...\n",
      "#iter: 0,\tloss: 1.352821509715243\n",
      "#iter: 200,\tloss: 1.2825622738469207\n",
      "#iter: 400,\tloss: 1.2454807834361505\n",
      "#iter: 600,\tloss: 1.1911994089974804\n",
      "#iter: 800,\tloss: 1.2054845624456456\n",
      "#iter: 1000,\tloss: 1.2033402126013184\n",
      "#iter: 1200,\tloss: 1.2079681895182892\n",
      "#iter: 1400,\tloss: 1.1880111983618717\n",
      "#iter: 1600,\tloss: 1.259011681039675\n",
      "#iter: 1800,\tloss: 1.2451508793524244\n",
      "#iter: 2000,\tloss: 1.1791000720231208\n",
      "\n"
     ]
    }
   ],
   "source": [
    "objectives = {\n",
    "    \"signorm\": lambda beta0, beta, ln_tau, mu, sigma: sigmoid_normal_likelihood(x, y, beta0, beta, ln_tau),\n",
    "    \"elbo\": lambda beta0, beta, ln_tau, mu, sigma: IWELBO(x, y, beta0, beta, ln_tau, mu, sigma, n_MC=1),\n",
    "    \"iwelbo8\": lambda beta0, beta, ln_tau, mu, sigma: IWELBO(x, y, beta0, beta, ln_tau, mu, sigma, n_MC=8),\n",
    "    \"iwelbo64\": lambda beta0, beta, ln_tau, mu, sigma: IWELBO(x, y, beta0, beta, ln_tau, mu, sigma, n_MC=64),\n",
    "    \"iwelbo512\": lambda beta0, beta, ln_tau, mu, sigma: IWELBO(x, y, beta0, beta, ln_tau, mu, sigma, n_MC=512)\n",
    "}\n",
    "params = {\"ground_truth\": param0}\n",
    "\n",
    "N,T,D = (1000, 2, 3) if tf.test.is_gpu_available() else (100, 2, 3)\n",
    "\n",
    "for obj_name, obj_func in objectives.items():\n",
    "    \n",
    "    print(\"training {}...\".format(obj_name))\n",
    "    \n",
    "    beta0_ = tf.Variable(0, dtype=tf.float64)\n",
    "    beta_  = tf.Variable(np.zeros([D]), dtype=tf.float64)\n",
    "    ln_tau_   = tf.Variable(0, dtype=tf.float64)\n",
    "    \n",
    "    # Gradient Descent\n",
    "    for t in range(2001):\n",
    "        \n",
    "        rho_t = 0.5/(1+t)**0.7\n",
    "        x,y,_ = generate_data(N, D, T, beta0, beta, ln_tau)\n",
    "\n",
    "        with tf.GradientTape() as g:\n",
    "            g.watch([beta0_, beta_, ln_tau_])\n",
    "            mu, sigma = laplace_approx(x, y, beta0_.numpy(), beta_.numpy(), ln_tau_.numpy())\n",
    "            score = obj_func(beta0_, beta_, ln_tau_, mu, sigma)\n",
    "        dbeta0_, dbeta_, dln_tau_ = g.gradient(score, [beta0_, beta_, ln_tau_])\n",
    "\n",
    "        beta0_ = beta0_ + rho_t*dbeta0_\n",
    "        beta_ = beta_ + rho_t*dbeta_\n",
    "        ln_tau_ = ln_tau_ + dln_tau_\n",
    "        if t%200==0:\n",
    "            print(\"#iter: {},\\tloss: {}\".format(t, -score.numpy()))\n",
    "    \n",
    "    params[obj_name] = {\n",
    "        'ln_tau': ln_tau_.numpy(),\n",
    "        'beta0': beta0_.numpy(),\n",
    "        'beta': beta_.numpy()\n",
    "    }\n",
    "    print()"
   ]
  },
  {
   "cell_type": "code",
   "execution_count": 212,
   "metadata": {
    "scrolled": true
   },
   "outputs": [],
   "source": [
    "def expand(key, val):\n",
    "    # expand {\"name\":array([1,2,3,4,5])}\n",
    "    # into {\"name1\":1, \"name2\":2, ..., \"name5\":5}\n",
    "    if type(val)==np.ndarray:\n",
    "        return {key+str(i+1): x for i,x in enumerate(val)} \n",
    "    else:\n",
    "        return {key:val} \n",
    "\n",
    "def expand_param(param):\n",
    "    expanded_param = {}\n",
    "    for key, val in param.items():\n",
    "        expanded_param.update(expand(key,val))\n",
    "    return expanded_param"
   ]
  },
  {
   "cell_type": "code",
   "execution_count": 213,
   "metadata": {},
   "outputs": [
    {
     "data": {
      "text/html": [
       "<div>\n",
       "<style scoped>\n",
       "    .dataframe tbody tr th:only-of-type {\n",
       "        vertical-align: middle;\n",
       "    }\n",
       "\n",
       "    .dataframe tbody tr th {\n",
       "        vertical-align: top;\n",
       "    }\n",
       "\n",
       "    .dataframe thead th {\n",
       "        text-align: right;\n",
       "    }\n",
       "</style>\n",
       "<table border=\"1\" class=\"dataframe\">\n",
       "  <thead>\n",
       "    <tr style=\"text-align: right;\">\n",
       "      <th></th>\n",
       "      <th>ln_tau</th>\n",
       "      <th>beta0</th>\n",
       "      <th>beta1</th>\n",
       "      <th>beta2</th>\n",
       "      <th>beta3</th>\n",
       "    </tr>\n",
       "  </thead>\n",
       "  <tbody>\n",
       "    <tr>\n",
       "      <th>ground_truth</th>\n",
       "      <td>0.700000</td>\n",
       "      <td>0.000000</td>\n",
       "      <td>-0.618226</td>\n",
       "      <td>-0.661070</td>\n",
       "      <td>0.656738</td>\n",
       "    </tr>\n",
       "    <tr>\n",
       "      <th>signorm</th>\n",
       "      <td>-1.031685</td>\n",
       "      <td>-0.001254</td>\n",
       "      <td>-0.382790</td>\n",
       "      <td>-0.413907</td>\n",
       "      <td>0.416211</td>\n",
       "    </tr>\n",
       "    <tr>\n",
       "      <th>elbo</th>\n",
       "      <td>-2.617233</td>\n",
       "      <td>0.000441</td>\n",
       "      <td>-0.395766</td>\n",
       "      <td>-0.419168</td>\n",
       "      <td>0.414593</td>\n",
       "    </tr>\n",
       "    <tr>\n",
       "      <th>iwelbo8</th>\n",
       "      <td>0.384991</td>\n",
       "      <td>0.002555</td>\n",
       "      <td>-0.521739</td>\n",
       "      <td>-0.546659</td>\n",
       "      <td>0.548213</td>\n",
       "    </tr>\n",
       "    <tr>\n",
       "      <th>iwelbo64</th>\n",
       "      <td>0.659334</td>\n",
       "      <td>-0.006210</td>\n",
       "      <td>-0.544958</td>\n",
       "      <td>-0.590992</td>\n",
       "      <td>0.577070</td>\n",
       "    </tr>\n",
       "    <tr>\n",
       "      <th>iwelbo512</th>\n",
       "      <td>0.806160</td>\n",
       "      <td>-0.004337</td>\n",
       "      <td>-0.551321</td>\n",
       "      <td>-0.588699</td>\n",
       "      <td>0.583678</td>\n",
       "    </tr>\n",
       "  </tbody>\n",
       "</table>\n",
       "</div>"
      ],
      "text/plain": [
       "                ln_tau     beta0     beta1     beta2     beta3\n",
       "ground_truth  0.700000  0.000000 -0.618226 -0.661070  0.656738\n",
       "signorm      -1.031685 -0.001254 -0.382790 -0.413907  0.416211\n",
       "elbo         -2.617233  0.000441 -0.395766 -0.419168  0.414593\n",
       "iwelbo8       0.384991  0.002555 -0.521739 -0.546659  0.548213\n",
       "iwelbo64      0.659334 -0.006210 -0.544958 -0.590992  0.577070\n",
       "iwelbo512     0.806160 -0.004337 -0.551321 -0.588699  0.583678"
      ]
     },
     "execution_count": 213,
     "metadata": {},
     "output_type": "execute_result"
    }
   ],
   "source": [
    "pd.DataFrame({key: expand_param(param) for key,param in params.items()}).T"
   ]
  },
  {
   "cell_type": "markdown",
   "metadata": {},
   "source": [
    "##### Bottom Line: IWELBO gives better estiamte than elbo or sigmoid normal integral approximation, even for simple this model. "
   ]
  },
  {
   "cell_type": "code",
   "execution_count": 202,
   "metadata": {},
   "outputs": [],
   "source": [
    "class AdamOptimizer:\n",
    "    \n",
    "    def __init__(self, learning_rate=0.001, beta1=0.9, beta2=0.999, epsilon=1e-08):\n",
    "        self.learning_rate = learning_rate\n",
    "        self.beta1 = beta1\n",
    "        self.beta2 = beta2\n",
    "        self.epsilon = epsilon\n",
    "        self.ms_and_vs = 'uninitialized'\n",
    "        self.t = 1\n",
    "        \n",
    "    def apply_gradients(self, grads, weights):\n",
    "        \n",
    "        if self.ms_and_vs == 'uninitialized':\n",
    "            self.ms = [0 for _ in weights]\n",
    "            self.vs = [0 for _ in weights]\n",
    "\n",
    "        weights_new = []\n",
    "        ms_new = []\n",
    "        vs_new = []\n",
    "        \n",
    "        for g, w, m, v in zip(grads, weights, self.ms, self.vs):\n",
    "            m = self.beta1 * m + (1 - self.beta1) * g\n",
    "            v = self.beta2 * v + (1 - self.beta2) * np.power(g, 2)\n",
    "            m_hat = m / (1 - np.power(self.beta1, self.t))\n",
    "            v_hat = v / (1 - np.power(self.beta2, self.t))\n",
    "            w.assign_sub( self.learning_rate * m_hat / (np.sqrt(v_hat) + self.epsilon)  )\n",
    "            \n",
    "            ms_new.append(m)\n",
    "            vs_new.append(v)\n",
    "            weights_new.append(w)\n",
    "            \n",
    "        self.ms = ms_new\n",
    "        self.vs = vs_new\n",
    "        self.t += 1\n",
    "        return weights_new"
   ]
  },
  {
   "cell_type": "code",
   "execution_count": 209,
   "metadata": {},
   "outputs": [
    {
     "name": "stdout",
     "output_type": "stream",
     "text": [
      "training signorm...\n",
      "#iter: 0,\tloss: 1.3862943611198904\n",
      "#iter: 200,\tloss: 1.3551366335215687\n",
      "#iter: 400,\tloss: 1.3161046370038891\n",
      "#iter: 600,\tloss: 1.292064100559634\n",
      "#iter: 800,\tloss: 1.2549904949612898\n",
      "#iter: 1000,\tloss: 1.306765028729184\n",
      "#iter: 1200,\tloss: 1.3057486276918246\n",
      "#iter: 1400,\tloss: 1.3383679797877923\n",
      "#iter: 1600,\tloss: 1.2904242818107678\n",
      "#iter: 1800,\tloss: 1.3044501919772995\n",
      "#iter: 2000,\tloss: 1.3672212871118155\n",
      "\n",
      "training elbo...\n",
      "#iter: 0,\tloss: 1.9059660546817634\n",
      "#iter: 200,\tloss: 1.758962148718304\n",
      "#iter: 400,\tloss: 1.7240334886935704\n",
      "#iter: 600,\tloss: 1.3957022926594274\n",
      "#iter: 800,\tloss: 1.3907655813152235\n",
      "#iter: 1000,\tloss: 1.3791367111618758\n",
      "#iter: 1200,\tloss: 1.4455348164718256\n",
      "#iter: 1400,\tloss: 1.3150371548992927\n",
      "#iter: 1600,\tloss: 1.359940167436805\n",
      "#iter: 1800,\tloss: 1.3227918753386971\n",
      "#iter: 2000,\tloss: 1.34352729767596\n",
      "\n",
      "training iwelbo8...\n",
      "#iter: 0,\tloss: 1.7776374362884935\n",
      "#iter: 200,\tloss: 1.4915073884367767\n",
      "#iter: 400,\tloss: 1.411943190960556\n",
      "#iter: 600,\tloss: 1.326100916504076\n",
      "#iter: 800,\tloss: 1.255221395693692\n",
      "#iter: 1000,\tloss: 1.3161018707205443\n",
      "#iter: 1200,\tloss: 1.1857373380418383\n",
      "#iter: 1400,\tloss: 1.2434358103806076\n",
      "#iter: 1600,\tloss: 1.2478091210613056\n",
      "#iter: 1800,\tloss: 1.2786299753784252\n",
      "#iter: 2000,\tloss: 1.293873045376398\n",
      "\n",
      "training iwelbo64...\n",
      "#iter: 0,\tloss: 1.558397966562419\n",
      "#iter: 200,\tloss: 1.4260216671370662\n",
      "#iter: 400,\tloss: 1.3265861966875172\n",
      "#iter: 600,\tloss: 1.2756732597997402\n",
      "#iter: 800,\tloss: 1.275957580828254\n",
      "#iter: 1000,\tloss: 1.292906562747438\n",
      "#iter: 1200,\tloss: 1.3009831921484771\n",
      "#iter: 1400,\tloss: 1.295302388084161\n",
      "#iter: 1600,\tloss: 1.196603141778506\n",
      "#iter: 1800,\tloss: 1.2522872449898386\n",
      "#iter: 2000,\tloss: 1.2289615489431163\n",
      "\n",
      "training iwelbo512...\n",
      "#iter: 0,\tloss: 1.509320093394324\n",
      "#iter: 200,\tloss: 1.281131109384075\n",
      "#iter: 400,\tloss: 1.2384375257242146\n",
      "#iter: 600,\tloss: 1.3147098830473678\n",
      "#iter: 800,\tloss: 1.2894543351188537\n",
      "#iter: 1000,\tloss: 1.3279116888676505\n",
      "#iter: 1200,\tloss: 1.3040408377635395\n",
      "#iter: 1400,\tloss: 1.278431115159047\n",
      "#iter: 1600,\tloss: 1.286377818984999\n",
      "#iter: 1800,\tloss: 1.291762064242859\n",
      "#iter: 2000,\tloss: 1.2679619930316313\n",
      "\n"
     ]
    }
   ],
   "source": [
    "objectives = {\n",
    "    \"signorm\": lambda beta0, beta, ln_tau, mu, sigma: sigmoid_normal_likelihood(x, y, beta0, beta, ln_tau),\n",
    "    \"elbo\": lambda beta0, beta, ln_tau, mu, sigma: IWELBO(x, y, beta0, beta, ln_tau, mu, sigma, n_MC=1),\n",
    "    \"iwelbo8\": lambda beta0, beta, ln_tau, mu, sigma: IWELBO(x, y, beta0, beta, ln_tau, mu, sigma, n_MC=8),\n",
    "    \"iwelbo64\": lambda beta0, beta, ln_tau, mu, sigma: IWELBO(x, y, beta0, beta, ln_tau, mu, sigma, n_MC=64),\n",
    "    \"iwelbo512\": lambda beta0, beta, ln_tau, mu, sigma: IWELBO(x, y, beta0, beta, ln_tau, mu, sigma, n_MC=512)\n",
    "}\n",
    "params = {\"ground_truth\": param0}\n",
    "\n",
    "N,T,D = 1000 if tf.test.is_gpu_available() else 100, 2, 3\n",
    "\n",
    "optimizer = AdamOptimizer(learning_rate=0.0003)\n",
    "\n",
    "for obj_name, obj_func in objectives.items():\n",
    "    \n",
    "    print(\"training {}...\".format(obj_name))\n",
    "    \n",
    "    beta0_ = tf.Variable(0, dtype=tf.float64)\n",
    "    beta_  = tf.Variable(np.zeros([D]), dtype=tf.float64)\n",
    "    ln_tau_   = tf.Variable(0, dtype=tf.float64)\n",
    "    \n",
    "    weights = [beta0_, beta_, ln_tau_]\n",
    "    \n",
    "    # Adam\n",
    "    for t in range(2001):\n",
    "        \n",
    "        x,y,_ = generate_data(N, D, T, beta0, beta, ln_tau)\n",
    "\n",
    "        with tf.GradientTape() as g:\n",
    "            g.watch(weights)\n",
    "            score = obj_func(*weights, mu, sigma)\n",
    "            loss = - score\n",
    "            \n",
    "        grads = g.gradient(loss, weights)\n",
    "        optimizer.apply_gradients(grads, weights)\n",
    "        \n",
    "        if t%200==0:\n",
    "            print(\"#iter: {},\\tloss: {}\".format(t, -score.numpy()))\n",
    "    \n",
    "    params[obj_name] = {\n",
    "        'ln_tau': ln_tau_.numpy(),\n",
    "        'beta0': beta0_.numpy(),\n",
    "        'beta': beta_.numpy()\n",
    "    }\n",
    "    print()"
   ]
  },
  {
   "cell_type": "code",
   "execution_count": 210,
   "metadata": {},
   "outputs": [
    {
     "data": {
      "text/html": [
       "<div>\n",
       "<style scoped>\n",
       "    .dataframe tbody tr th:only-of-type {\n",
       "        vertical-align: middle;\n",
       "    }\n",
       "\n",
       "    .dataframe tbody tr th {\n",
       "        vertical-align: top;\n",
       "    }\n",
       "\n",
       "    .dataframe thead th {\n",
       "        text-align: right;\n",
       "    }\n",
       "</style>\n",
       "<table border=\"1\" class=\"dataframe\">\n",
       "  <thead>\n",
       "    <tr style=\"text-align: right;\">\n",
       "      <th></th>\n",
       "      <th>ln_tau</th>\n",
       "      <th>beta0</th>\n",
       "      <th>beta1</th>\n",
       "      <th>beta2</th>\n",
       "      <th>beta3</th>\n",
       "    </tr>\n",
       "  </thead>\n",
       "  <tbody>\n",
       "    <tr>\n",
       "      <th>ground_truth</th>\n",
       "      <td>0.700000</td>\n",
       "      <td>0.000000</td>\n",
       "      <td>-0.618226</td>\n",
       "      <td>-0.661070</td>\n",
       "      <td>0.656738</td>\n",
       "    </tr>\n",
       "    <tr>\n",
       "      <th>signorm</th>\n",
       "      <td>-0.544431</td>\n",
       "      <td>-0.004982</td>\n",
       "      <td>-0.398758</td>\n",
       "      <td>-0.433869</td>\n",
       "      <td>0.427887</td>\n",
       "    </tr>\n",
       "    <tr>\n",
       "      <th>elbo</th>\n",
       "      <td>-0.978721</td>\n",
       "      <td>0.009331</td>\n",
       "      <td>-0.379436</td>\n",
       "      <td>-0.410909</td>\n",
       "      <td>0.418437</td>\n",
       "    </tr>\n",
       "    <tr>\n",
       "      <th>iwelbo8</th>\n",
       "      <td>-1.025497</td>\n",
       "      <td>-0.004721</td>\n",
       "      <td>-0.381419</td>\n",
       "      <td>-0.424836</td>\n",
       "      <td>0.417281</td>\n",
       "    </tr>\n",
       "    <tr>\n",
       "      <th>iwelbo64</th>\n",
       "      <td>-0.880616</td>\n",
       "      <td>0.000940</td>\n",
       "      <td>-0.397441</td>\n",
       "      <td>-0.429447</td>\n",
       "      <td>0.419870</td>\n",
       "    </tr>\n",
       "    <tr>\n",
       "      <th>iwelbo512</th>\n",
       "      <td>-0.697200</td>\n",
       "      <td>0.003073</td>\n",
       "      <td>-0.406940</td>\n",
       "      <td>-0.425994</td>\n",
       "      <td>0.437277</td>\n",
       "    </tr>\n",
       "  </tbody>\n",
       "</table>\n",
       "</div>"
      ],
      "text/plain": [
       "                ln_tau     beta0     beta1     beta2     beta3\n",
       "ground_truth  0.700000  0.000000 -0.618226 -0.661070  0.656738\n",
       "signorm      -0.544431 -0.004982 -0.398758 -0.433869  0.427887\n",
       "elbo         -0.978721  0.009331 -0.379436 -0.410909  0.418437\n",
       "iwelbo8      -1.025497 -0.004721 -0.381419 -0.424836  0.417281\n",
       "iwelbo64     -0.880616  0.000940 -0.397441 -0.429447  0.419870\n",
       "iwelbo512    -0.697200  0.003073 -0.406940 -0.425994  0.437277"
      ]
     },
     "execution_count": 210,
     "metadata": {},
     "output_type": "execute_result"
    }
   ],
   "source": [
    "pd.DataFrame({key: expand_param(param) for key,param in params.items()}).T"
   ]
  },
  {
   "cell_type": "markdown",
   "metadata": {},
   "source": [
    "#### Adam does not work at all"
   ]
  },
  {
   "cell_type": "markdown",
   "metadata": {},
   "source": [
    "## MLMC"
   ]
  },
  {
   "cell_type": "code",
   "execution_count": 25,
   "metadata": {},
   "outputs": [],
   "source": [
    "def pointwise_dIWELBO(x, y, z, beta0, beta, ln_tau, mu, sigma):\n",
    "    \n",
    "    (N, T, D), (n_MC, N) = x.shape, z.shape\n",
    "    assert np.log2(n_MC)%1==0\n",
    "    \n",
    "    if n_MC == 1:\n",
    "        scores = pointwise_IWELBO(x, y, z, beta0, beta, ln_tau, mu, sigma)\n",
    "    else:\n",
    "        scores = pointwise_IWELBO(x, y, z, beta0, beta, ln_tau, mu, sigma)\n",
    "        scores -= (1/2.) * pointwise_IWELBO(x, y, z[:n_MC//2 ], beta0, beta, ln_tau, mu, sigma)\n",
    "        scores -= (1/2.) * pointwise_IWELBO(x, y, z[ n_MC//2:], beta0, beta, ln_tau, mu, sigma)\n",
    "    return scores"
   ]
  },
  {
   "cell_type": "code",
   "execution_count": 26,
   "metadata": {},
   "outputs": [],
   "source": [
    "def dIWELBO(x, y, beta0, beta, ln_tau, mu, sigma, level):\n",
    "    \n",
    "    N, = mu.shape\n",
    "    n_MC = 2**level\n",
    "    z = norm(loc=mu, scale=sigma).rvs([n_MC, N])\n",
    "    \n",
    "    diwelbo = tf.reduce_mean( pointwise_dIWELBO(x, y, z, beta0, beta, ln_tau, mu, sigma) )\n",
    "    return diwelbo"
   ]
  },
  {
   "cell_type": "code",
   "execution_count": 27,
   "metadata": {
    "scrolled": true
   },
   "outputs": [
    {
     "data": {
      "text/plain": [
       "<tf.Tensor: shape=(3, 2), dtype=float32, numpy=\n",
       "array([[ 0.14800048,  2.90518   ],\n",
       "       [-0.07132575,  1.7107816 ],\n",
       "       [ 0.06704418, -0.21650064]], dtype=float32)>"
      ]
     },
     "execution_count": 27,
     "metadata": {},
     "output_type": "execute_result"
    }
   ],
   "source": [
    "tf.random.normal(mean=[0,1], stddev=[0.1,1], shape=[3,2])"
   ]
  },
  {
   "cell_type": "code",
   "execution_count": 64,
   "metadata": {},
   "outputs": [],
   "source": [
    "def IWELBO_MLMC(x, y, beta0, beta, ln_tau, mu, sigma, max_level=8, w0=1-2.**(-3/2), b=2, randomize=False):\n",
    "    \n",
    "    N, T, D = x.shape\n",
    "\n",
    "    levels = np.arange(max_level)\n",
    "    weights = 2.**(-(b+1)/2*levels)\n",
    "    weights /= sum(weights)\n",
    "    weights = np.concatenate([[w0], (1-w0)*weights])\n",
    "    \n",
    "    if randomize==True:\n",
    "         Ns = np.random.multinomial(n=N, pvals=weights)\n",
    "        \n",
    "    elif randomize==False:\n",
    "        Ns = np.zeros_like(levels)\n",
    "        Ns = np.array([np.math.ceil(w*N) for w in weights], dtype=np.int)\n",
    "        Ns[0] = N - sum(Ns[1:])\n",
    "    \n",
    "    else:\n",
    "        raise(Exception(\"Invarid argument for 'randomize' of function IWELBO_MLMC. It must be True or False.\"))\n",
    "    \n",
    "    N_offset = 0\n",
    "    score = 0\n",
    "    for i, l in enumerate(levels):\n",
    "        if Ns[i]==0:\n",
    "            continue\n",
    "        x_tmp = x[N_offset:N_offset+Ns[i]]\n",
    "        y_tmp = y[N_offset:N_offset+Ns[i]]\n",
    "        mu_tmp = mu[N_offset:N_offset+Ns[i]]\n",
    "        sigma_tmp = sigma[N_offset:N_offset+Ns[i]]\n",
    "                       \n",
    "        if randomize==True:\n",
    "            score += dIWELBO(x_tmp, y_tmp, beta0, beta, ln_tau, mu_tmp, sigma_tmp, level=l) * Ns[i] / N / weights[i]   \n",
    "        elif randomize==False:\n",
    "            score += dIWELBO(x_tmp, y_tmp, beta0, beta, ln_tau, mu_tmp, sigma_tmp, level=l)\n",
    "        \n",
    "        N_offset += Ns[i]\n",
    "    return score"
   ]
  },
  {
   "cell_type": "code",
   "execution_count": 29,
   "metadata": {},
   "outputs": [
    {
     "data": {
      "text/plain": [
       "<tf.Tensor: shape=(), dtype=float64, numpy=-1.2507511357956038>"
      ]
     },
     "execution_count": 29,
     "metadata": {},
     "output_type": "execute_result"
    }
   ],
   "source": [
    "IWELBO_MLMC(x, y, beta0, beta, ln_tau, mu, sigma, max_level=10, w0=0.90, randomize=True)"
   ]
  },
  {
   "cell_type": "code",
   "execution_count": 30,
   "metadata": {},
   "outputs": [
    {
     "data": {
      "text/plain": [
       "<tf.Tensor: shape=(), dtype=float64, numpy=-1.2222752474444256>"
      ]
     },
     "execution_count": 30,
     "metadata": {},
     "output_type": "execute_result"
    }
   ],
   "source": [
    "IWELBO(x, y, beta0, beta, ln_tau, mu, sigma, n_MC=64)"
   ]
  },
  {
   "cell_type": "markdown",
   "metadata": {},
   "source": [
    "## MLMC codition check for objective"
   ]
  },
  {
   "cell_type": "code",
   "execution_count": 31,
   "metadata": {},
   "outputs": [],
   "source": [
    "def conv_stats_dIWELBO(x, y, beta0, beta, ln_tau, mu, sigma, level=1):\n",
    "    \n",
    "    N, = mu.shape\n",
    "    n_MC = 2**level\n",
    "    z = norm(loc=mu, scale=sigma).rvs([n_MC, N])\n",
    "    \n",
    "    diwelbos = pointwise_dIWELBO(x, y, z, beta0, beta, ln_tau, mu, sigma).numpy()\n",
    "    iwelbos = pointwise_IWELBO(x, y, z, beta0, beta, ln_tau, mu, sigma).numpy()\n",
    "    \n",
    "    return {'mean_dIWELBO':np.mean(diwelbos), \n",
    "            'mean_abs_dIWELBO':np.mean(np.abs(diwelbos)), \n",
    "            'mean_squared_dIWELBO':np.mean(diwelbos**2),\n",
    "            'var_dIWELBO':np.var(diwelbos), \n",
    "            'var_IWELBO':np.var(iwelbos)}"
   ]
  },
  {
   "cell_type": "code",
   "execution_count": 33,
   "metadata": {},
   "outputs": [],
   "source": [
    "def tmp(l):\n",
    "    N0 = 2000000\n",
    "    x,y,_ = generate_data(N=N0//2**l, D=3, T=2, beta0=beta0, beta=beta, ln_tau=ln_tau)\n",
    "    mu, sigma = laplace_approx(x, y, beta0, beta, ln_tau)\n",
    "    return conv_stats_dIWELBO(x, y, beta0, beta, ln_tau, mu, sigma, level=l)\n",
    "\n",
    "conv_stats = [tmp(l) for l in range(10)]\n",
    "conv_stats = pd.DataFrame(conv_stats)"
   ]
  },
  {
   "cell_type": "code",
   "execution_count": 34,
   "metadata": {},
   "outputs": [
    {
     "data": {
      "image/png": "[encoded data removed]",
      "text/plain": [
       "<Figure size 432x288 with 1 Axes>"
      ]
     },
     "metadata": {
      "needs_background": "light"
     },
     "output_type": "display_data"
    }
   ],
   "source": [
    "plt.plot(conv_stats[['mean_abs_dIWELBO', 'var_dIWELBO', 'var_IWELBO']])\n",
    "plt.legend([r'$\\mathrm{E} | \\Delta \\mathrm{IW}$-$\\mathrm{ELBO}|$', \n",
    "            r'$\\mathrm{Var}[\\Delta \\mathrm{IW}$-$\\mathrm{ELBO}]$', \n",
    "            r'$\\mathrm{Var}[\\mathrm{IW}$-$\\mathrm{ELBO}]$'])\n",
    "plt.yscale('log')"
   ]
  },
  {
   "cell_type": "code",
   "execution_count": 35,
   "metadata": {},
   "outputs": [
    {
     "data": {
      "text/html": [
       "<div>\n",
       "<style scoped>\n",
       "    .dataframe tbody tr th:only-of-type {\n",
       "        vertical-align: middle;\n",
       "    }\n",
       "\n",
       "    .dataframe tbody tr th {\n",
       "        vertical-align: top;\n",
       "    }\n",
       "\n",
       "    .dataframe thead th {\n",
       "        text-align: right;\n",
       "    }\n",
       "</style>\n",
       "<table border=\"1\" class=\"dataframe\">\n",
       "  <thead>\n",
       "    <tr style=\"text-align: right;\">\n",
       "      <th></th>\n",
       "      <th>mean_dIWELBO</th>\n",
       "      <th>mean_abs_dIWELBO</th>\n",
       "      <th>mean_squared_dIWELBO</th>\n",
       "      <th>var_dIWELBO</th>\n",
       "      <th>var_IWELBO</th>\n",
       "    </tr>\n",
       "  </thead>\n",
       "  <tbody>\n",
       "    <tr>\n",
       "      <th>0</th>\n",
       "      <td>-1.232805</td>\n",
       "      <td>1.234559</td>\n",
       "      <td>1.798791e+00</td>\n",
       "      <td>2.789842e-01</td>\n",
       "      <td>0.278984</td>\n",
       "    </tr>\n",
       "    <tr>\n",
       "      <th>1</th>\n",
       "      <td>0.006465</td>\n",
       "      <td>0.006465</td>\n",
       "      <td>7.374356e-04</td>\n",
       "      <td>6.956457e-04</td>\n",
       "      <td>0.269283</td>\n",
       "    </tr>\n",
       "    <tr>\n",
       "      <th>2</th>\n",
       "      <td>0.003608</td>\n",
       "      <td>0.003608</td>\n",
       "      <td>2.205888e-04</td>\n",
       "      <td>2.075699e-04</td>\n",
       "      <td>0.264818</td>\n",
       "    </tr>\n",
       "    <tr>\n",
       "      <th>3</th>\n",
       "      <td>0.002160</td>\n",
       "      <td>0.002160</td>\n",
       "      <td>8.327397e-05</td>\n",
       "      <td>7.860695e-05</td>\n",
       "      <td>0.261204</td>\n",
       "    </tr>\n",
       "    <tr>\n",
       "      <th>4</th>\n",
       "      <td>0.001286</td>\n",
       "      <td>0.001286</td>\n",
       "      <td>5.282083e-05</td>\n",
       "      <td>5.116791e-05</td>\n",
       "      <td>0.257436</td>\n",
       "    </tr>\n",
       "    <tr>\n",
       "      <th>5</th>\n",
       "      <td>0.000757</td>\n",
       "      <td>0.000757</td>\n",
       "      <td>1.643310e-05</td>\n",
       "      <td>1.585988e-05</td>\n",
       "      <td>0.256269</td>\n",
       "    </tr>\n",
       "    <tr>\n",
       "      <th>6</th>\n",
       "      <td>0.000406</td>\n",
       "      <td>0.000406</td>\n",
       "      <td>4.732589e-06</td>\n",
       "      <td>4.567600e-06</td>\n",
       "      <td>0.263609</td>\n",
       "    </tr>\n",
       "    <tr>\n",
       "      <th>7</th>\n",
       "      <td>0.000234</td>\n",
       "      <td>0.000234</td>\n",
       "      <td>3.641679e-06</td>\n",
       "      <td>3.586863e-06</td>\n",
       "      <td>0.264146</td>\n",
       "    </tr>\n",
       "    <tr>\n",
       "      <th>8</th>\n",
       "      <td>0.000131</td>\n",
       "      <td>0.000131</td>\n",
       "      <td>2.786725e-06</td>\n",
       "      <td>2.769487e-06</td>\n",
       "      <td>0.250253</td>\n",
       "    </tr>\n",
       "    <tr>\n",
       "      <th>9</th>\n",
       "      <td>0.000064</td>\n",
       "      <td>0.000064</td>\n",
       "      <td>5.348454e-08</td>\n",
       "      <td>4.945005e-08</td>\n",
       "      <td>0.254525</td>\n",
       "    </tr>\n",
       "  </tbody>\n",
       "</table>\n",
       "</div>"
      ],
      "text/plain": [
       "   mean_dIWELBO  mean_abs_dIWELBO  mean_squared_dIWELBO   var_dIWELBO  \\\n",
       "0     -1.232805          1.234559          1.798791e+00  2.789842e-01   \n",
       "1      0.006465          0.006465          7.374356e-04  6.956457e-04   \n",
       "2      0.003608          0.003608          2.205888e-04  2.075699e-04   \n",
       "3      0.002160          0.002160          8.327397e-05  7.860695e-05   \n",
       "4      0.001286          0.001286          5.282083e-05  5.116791e-05   \n",
       "5      0.000757          0.000757          1.643310e-05  1.585988e-05   \n",
       "6      0.000406          0.000406          4.732589e-06  4.567600e-06   \n",
       "7      0.000234          0.000234          3.641679e-06  3.586863e-06   \n",
       "8      0.000131          0.000131          2.786725e-06  2.769487e-06   \n",
       "9      0.000064          0.000064          5.348454e-08  4.945005e-08   \n",
       "\n",
       "   var_IWELBO  \n",
       "0    0.278984  \n",
       "1    0.269283  \n",
       "2    0.264818  \n",
       "3    0.261204  \n",
       "4    0.257436  \n",
       "5    0.256269  \n",
       "6    0.263609  \n",
       "7    0.264146  \n",
       "8    0.250253  \n",
       "9    0.254525  "
      ]
     },
     "execution_count": 35,
     "metadata": {},
     "output_type": "execute_result"
    }
   ],
   "source": [
    "conv_stats"
   ]
  },
  {
   "cell_type": "markdown",
   "metadata": {},
   "source": [
    "## MLMC codition check for gradients"
   ]
  },
  {
   "cell_type": "code",
   "execution_count": 36,
   "metadata": {},
   "outputs": [],
   "source": [
    "def conv_stats_grad_dIWELBO(x, y, beta0, beta, ln_tau, mu, sigma, level=1):\n",
    "    \n",
    "    N, = mu.shape\n",
    "    n_MC = 2**level\n",
    "    z = norm(loc=mu, scale=sigma).rvs([n_MC, N]).T\n",
    "    \n",
    "    param = tf.concat([beta, [beta0], [ln_tau]], axis=0)\n",
    "    param = tf.Variable(param, dtype=tf.float64)\n",
    "    params = tf.reshape(param, [1,D+2]) * np.ones([N,1])\n",
    "\n",
    "    mu, sigma = laplace_approx(x, y, beta0, beta, ln_tau)        \n",
    "    \n",
    "    def get_grad(args):\n",
    "        \n",
    "        param, x_, y_, z_, mu, sigma = args\n",
    "        z_ = tf.reshape(z_, [-1,1])\n",
    "        \n",
    "        with tf.GradientTape(persistent=True) as g:\n",
    "            g.watch(param)\n",
    "            beta_ = param[0,:D]\n",
    "            beta0_ = param[0,D]\n",
    "            ln_tau_ = param[0,D+1]\n",
    "            diwelbos = pointwise_dIWELBO(x_, y_, z_, beta0_, beta_, ln_tau_, mu, sigma)\n",
    "            iwelbos = pointwise_IWELBO(x_, y_, z_, beta0_, beta_, ln_tau_, mu, sigma)\n",
    "            \n",
    "        a = g.gradient(diwelbos, param)\n",
    "        b = g.gradient(iwelbos, param)\n",
    "        \n",
    "        del g\n",
    "        \n",
    "        return a,b\n",
    "    \n",
    "    args = [tf.expand_dims(arg, axis=1) for arg in [params, x, y, z, mu, sigma]]\n",
    "    grads = tf.vectorized_map(get_grad, args)\n",
    "    \n",
    "    grad_diwelbos = tf.squeeze(grads[0])\n",
    "    grad_iwelbos = tf.squeeze(grads[1])\n",
    "    \n",
    "    return {'norm_mean_grad_dIWELBO': np.linalg.norm(np.mean(grad_diwelbos, axis=0)), \n",
    "            'mean_norm_grad_dIWELBO': np.mean(np.linalg.norm(grad_diwelbos, axis=1)), \n",
    "            'mean_squared_norm_grad_dIWELBO': np.mean(np.linalg.norm(grad_diwelbos, axis=1)**2),\n",
    "            'trace_covariance_grad_dIWELBO': np.sum(np.var(grad_diwelbos, axis=0)), \n",
    "            'trace_covariance_grad_IWELBO': np.sum(np.var(grad_iwelbos, axis=0))}"
   ]
  },
  {
   "cell_type": "code",
   "execution_count": 37,
   "metadata": {},
   "outputs": [],
   "source": [
    "def tmp(l):\n",
    "    N0 = 2000000\n",
    "    x,y,_ = generate_data(N=N0//2**l, D=3, T=2, beta0=beta0, beta=beta, ln_tau=ln_tau)\n",
    "    mu, sigma = laplace_approx(x, y, beta0, beta, ln_tau)\n",
    "    return conv_stats_grad_dIWELBO(x, y, beta0, beta, ln_tau, mu, sigma, level=l)\n",
    "\n",
    "conv_stats = [tmp(l) for l in range(10)]\n",
    "conv_stats = pd.DataFrame(conv_stats)"
   ]
  },
  {
   "cell_type": "code",
   "execution_count": 63,
   "metadata": {},
   "outputs": [
    {
     "data": {
      "image/png": "[encoded data removed]",
      "text/plain": [
       "<Figure size 432x288 with 1 Axes>"
      ]
     },
     "metadata": {
      "needs_background": "light"
     },
     "output_type": "display_data"
    }
   ],
   "source": [
    "plt.plot(conv_stats[['norm_mean_grad_dIWELBO', 'trace_covariance_grad_dIWELBO', 'trace_covariance_grad_IWELBO']])\n",
    "plt.legend([r'$||\\mathrm{E} [\\nabla (\\Delta \\mathrm{IW}$-$\\mathrm{ELBO})]||_2^2$', \n",
    "            r'$\\mathrm{tr}(\\mathrm{Cov}[\\Delta \\mathrm{IW}$-$\\mathrm{ELBO}])$', \n",
    "            r'$\\mathrm{tr}(\\mathrm{Cov}[\\Delta \\mathrm{IW}$-$\\mathrm{ELBO}])$'])\n",
    "plt.yscale('log')"
   ]
  },
  {
   "cell_type": "markdown",
   "metadata": {},
   "source": [
    "$b\\approx1$ for $V_\\ell\\propto 2^{-b\\ell}$!?"
   ]
  },
  {
   "cell_type": "code",
   "execution_count": 39,
   "metadata": {},
   "outputs": [
    {
     "data": {
      "text/html": [
       "<div>\n",
       "<style scoped>\n",
       "    .dataframe tbody tr th:only-of-type {\n",
       "        vertical-align: middle;\n",
       "    }\n",
       "\n",
       "    .dataframe tbody tr th {\n",
       "        vertical-align: top;\n",
       "    }\n",
       "\n",
       "    .dataframe thead th {\n",
       "        text-align: right;\n",
       "    }\n",
       "</style>\n",
       "<table border=\"1\" class=\"dataframe\">\n",
       "  <thead>\n",
       "    <tr style=\"text-align: right;\">\n",
       "      <th></th>\n",
       "      <th>norm_mean_grad_dIWELBO</th>\n",
       "      <th>mean_norm_grad_dIWELBO</th>\n",
       "      <th>mean_squared_norm_grad_dIWELBO</th>\n",
       "      <th>trace_covariance_grad_dIWELBO</th>\n",
       "      <th>trace_covariance_grad_IWELBO</th>\n",
       "    </tr>\n",
       "  </thead>\n",
       "  <tbody>\n",
       "    <tr>\n",
       "      <th>0</th>\n",
       "      <td>0.161872</td>\n",
       "      <td>1.350972</td>\n",
       "      <td>2.436254</td>\n",
       "      <td>2.410052</td>\n",
       "      <td>2.410052</td>\n",
       "    </tr>\n",
       "    <tr>\n",
       "      <th>1</th>\n",
       "      <td>0.052166</td>\n",
       "      <td>0.075348</td>\n",
       "      <td>0.051878</td>\n",
       "      <td>0.049157</td>\n",
       "      <td>1.837297</td>\n",
       "    </tr>\n",
       "    <tr>\n",
       "      <th>2</th>\n",
       "      <td>0.039383</td>\n",
       "      <td>0.048425</td>\n",
       "      <td>0.025012</td>\n",
       "      <td>0.023461</td>\n",
       "      <td>1.478819</td>\n",
       "    </tr>\n",
       "    <tr>\n",
       "      <th>3</th>\n",
       "      <td>0.027193</td>\n",
       "      <td>0.031394</td>\n",
       "      <td>0.012612</td>\n",
       "      <td>0.011872</td>\n",
       "      <td>1.256417</td>\n",
       "    </tr>\n",
       "    <tr>\n",
       "      <th>4</th>\n",
       "      <td>0.017273</td>\n",
       "      <td>0.019341</td>\n",
       "      <td>0.006346</td>\n",
       "      <td>0.006047</td>\n",
       "      <td>1.100748</td>\n",
       "    </tr>\n",
       "    <tr>\n",
       "      <th>5</th>\n",
       "      <td>0.010605</td>\n",
       "      <td>0.011623</td>\n",
       "      <td>0.002791</td>\n",
       "      <td>0.002678</td>\n",
       "      <td>1.008295</td>\n",
       "    </tr>\n",
       "    <tr>\n",
       "      <th>6</th>\n",
       "      <td>0.006407</td>\n",
       "      <td>0.006927</td>\n",
       "      <td>0.001949</td>\n",
       "      <td>0.001907</td>\n",
       "      <td>0.954304</td>\n",
       "    </tr>\n",
       "    <tr>\n",
       "      <th>7</th>\n",
       "      <td>0.003513</td>\n",
       "      <td>0.003770</td>\n",
       "      <td>0.000343</td>\n",
       "      <td>0.000331</td>\n",
       "      <td>0.915277</td>\n",
       "    </tr>\n",
       "    <tr>\n",
       "      <th>8</th>\n",
       "      <td>0.002227</td>\n",
       "      <td>0.002354</td>\n",
       "      <td>0.000553</td>\n",
       "      <td>0.000548</td>\n",
       "      <td>0.921422</td>\n",
       "    </tr>\n",
       "    <tr>\n",
       "      <th>9</th>\n",
       "      <td>0.001259</td>\n",
       "      <td>0.001327</td>\n",
       "      <td>0.000238</td>\n",
       "      <td>0.000237</td>\n",
       "      <td>0.893999</td>\n",
       "    </tr>\n",
       "  </tbody>\n",
       "</table>\n",
       "</div>"
      ],
      "text/plain": [
       "   norm_mean_grad_dIWELBO  mean_norm_grad_dIWELBO  \\\n",
       "0                0.161872                1.350972   \n",
       "1                0.052166                0.075348   \n",
       "2                0.039383                0.048425   \n",
       "3                0.027193                0.031394   \n",
       "4                0.017273                0.019341   \n",
       "5                0.010605                0.011623   \n",
       "6                0.006407                0.006927   \n",
       "7                0.003513                0.003770   \n",
       "8                0.002227                0.002354   \n",
       "9                0.001259                0.001327   \n",
       "\n",
       "   mean_squared_norm_grad_dIWELBO  trace_covariance_grad_dIWELBO  \\\n",
       "0                        2.436254                       2.410052   \n",
       "1                        0.051878                       0.049157   \n",
       "2                        0.025012                       0.023461   \n",
       "3                        0.012612                       0.011872   \n",
       "4                        0.006346                       0.006047   \n",
       "5                        0.002791                       0.002678   \n",
       "6                        0.001949                       0.001907   \n",
       "7                        0.000343                       0.000331   \n",
       "8                        0.000553                       0.000548   \n",
       "9                        0.000238                       0.000237   \n",
       "\n",
       "   trace_covariance_grad_IWELBO  \n",
       "0                      2.410052  \n",
       "1                      1.837297  \n",
       "2                      1.478819  \n",
       "3                      1.256417  \n",
       "4                      1.100748  \n",
       "5                      1.008295  \n",
       "6                      0.954304  \n",
       "7                      0.915277  \n",
       "8                      0.921422  \n",
       "9                      0.893999  "
      ]
     },
     "execution_count": 39,
     "metadata": {},
     "output_type": "execute_result"
    }
   ],
   "source": [
    "conv_stats"
   ]
  },
  {
   "cell_type": "markdown",
   "metadata": {},
   "source": [
    "## Cost comparison of objective"
   ]
  },
  {
   "cell_type": "code",
   "execution_count": 65,
   "metadata": {},
   "outputs": [],
   "source": [
    "NMC_ests = []\n",
    "MLMC_ests = []\n",
    "RandMLMC_ests = []\n",
    "for i in range(100):\n",
    "    N0 = 4000\n",
    "    x,y,_ = generate_data(N=N0, D=3, T=2, beta0=beta0, beta=beta, ln_tau=ln_tau)\n",
    "    mu, sigma = laplace_approx(x, y, beta0, beta, ln_tau)\n",
    "    NMC_ests.append( IWELBO(x, y, beta0, beta, ln_tau, mu, sigma, n_MC=512).numpy() )\n",
    "    MLMC_ests.append( IWELBO_MLMC(x, y, beta0, beta, ln_tau, mu, sigma, max_level=9, w0=0.90, randomize=False).numpy() )\n",
    "    RandMLMC_ests.append( IWELBO_MLMC(x, y, beta0, beta, ln_tau, mu, sigma, max_level=9, w0=0.90, randomize=True).numpy() )"
   ]
  },
  {
   "cell_type": "code",
   "execution_count": 66,
   "metadata": {
    "scrolled": false
   },
   "outputs": [
    {
     "name": "stdout",
     "output_type": "stream",
     "text": [
      "std-div of NMC estimator:       0.0024924731194345654\n",
      "std-div of MLMC estimator:      0.0027603319503505283\n",
      "std-div of RandMLMC estimator:  0.003223633615106453\n"
     ]
    }
   ],
   "source": [
    "print(\"std-div of NMC estimator:      \", np.std(NMC_ests))\n",
    "print(\"std-div of MLMC estimator:     \", np.std(MLMC_ests))\n",
    "print(\"std-div of RandMLMC estimator: \", np.std(RandMLMC_ests))"
   ]
  },
  {
   "cell_type": "code",
   "execution_count": 56,
   "metadata": {},
   "outputs": [
    {
     "name": "stdout",
     "output_type": "stream",
     "text": [
      "2.12 s ± 5.02 ms per loop (mean ± std. dev. of 7 runs, 1 loop each)\n"
     ]
    }
   ],
   "source": [
    "%%timeit\n",
    "IWELBO(x, y, beta0, beta, ln_tau, mu, sigma, n_MC=2**9)"
   ]
  },
  {
   "cell_type": "code",
   "execution_count": 57,
   "metadata": {},
   "outputs": [
    {
     "name": "stdout",
     "output_type": "stream",
     "text": [
      "73.5 ms ± 441 µs per loop (mean ± std. dev. of 7 runs, 10 loops each)\n"
     ]
    }
   ],
   "source": [
    "%%timeit\n",
    "IWELBO_MLMC(x, y, beta0, beta, ln_tau, mu, sigma, max_level=9, w0=0.90, randomize=False)"
   ]
  },
  {
   "cell_type": "code",
   "execution_count": 58,
   "metadata": {},
   "outputs": [
    {
     "name": "stdout",
     "output_type": "stream",
     "text": [
      "73.4 ms ± 629 µs per loop (mean ± std. dev. of 7 runs, 10 loops each)\n"
     ]
    }
   ],
   "source": [
    "%%timeit\n",
    "IWELBO_MLMC(x, y, beta0, beta, ln_tau, mu, sigma, max_level=9, w0=0.90, randomize=True)"
   ]
  },
  {
   "cell_type": "markdown",
   "metadata": {},
   "source": [
    "## Cost comparison of gradients"
   ]
  },
  {
   "cell_type": "code",
   "execution_count": 87,
   "metadata": {},
   "outputs": [],
   "source": [
    "NMC_ests = []\n",
    "MLMC_ests = []\n",
    "RandMLMC_ests = []\n",
    "for i in range(100):\n",
    "    N0 = 2000\n",
    "    x,y,_ = generate_data(N=N0, D=3, T=2, beta0=beta0, beta=beta, ln_tau=ln_tau)\n",
    "    mu, sigma = laplace_approx(x, y, beta0, beta, ln_tau)\n",
    "    \n",
    "    param = tf.concat([beta, [beta0], [ln_tau]], axis=0)\n",
    "    param = tf.Variable(param, dtype=tf.float64)\n",
    "    \n",
    "    with tf.GradientTape(persistent=True) as g:\n",
    "        g.watch(param)\n",
    "        beta_ = param[:D]\n",
    "        beta0_ = param[D]\n",
    "        ln_tau_ = param[D+1]\n",
    "        nmc_est = IWELBO(x, y, beta0_, beta_, ln_tau_, mu, sigma, n_MC=2**12)\n",
    "        mlmc_est = IWELBO_MLMC(x, y, beta0_, beta_, ln_tau_, mu, sigma, max_level=12, w0=0.8, b=1,  randomize=False)\n",
    "        randmlmc_est = IWELBO_MLMC(x, y, beta0_, beta_, ln_tau_, mu, sigma, max_level=12, w0=0.8, b=1, randomize=True)\n",
    "            \n",
    "    nmc_est = g.gradient(nmc_est, param)\n",
    "    mlmc_est = g.gradient(mlmc_est, param)\n",
    "    randmlmc_est = g.gradient(randmlmc_est, param)\n",
    "    \n",
    "    del g\n",
    "        \n",
    "    NMC_ests.append( nmc_est )\n",
    "    MLMC_ests.append( mlmc_est )\n",
    "    RandMLMC_ests.append( randmlmc_est )"
   ]
  },
  {
   "cell_type": "code",
   "execution_count": 88,
   "metadata": {
    "scrolled": true
   },
   "outputs": [
    {
     "name": "stdout",
     "output_type": "stream",
     "text": [
      "E||grad||^2 of NMC estimator:       0.21549826403397726\n",
      "E||grad||^2 of MLMC estimator:      0.5024365180633751\n",
      "E||grad||^2 of RandMLMC estimator:  0.544721565232442\n"
     ]
    }
   ],
   "source": [
    "print(\"E||grad||^2 of NMC estimator:      \", np.mean(np.linalg.norm(NMC_ests)))\n",
    "print(\"E||grad||^2 of MLMC estimator:     \", np.mean(np.linalg.norm(MLMC_ests)))\n",
    "print(\"E||grad||^2 of RandMLMC estimator: \", np.mean(np.linalg.norm(RandMLMC_ests)))"
   ]
  },
  {
   "cell_type": "code",
   "execution_count": 89,
   "metadata": {},
   "outputs": [
    {
     "name": "stdout",
     "output_type": "stream",
     "text": [
      "1.22 s ± 6.46 ms per loop (mean ± std. dev. of 7 runs, 1 loop each)\n"
     ]
    }
   ],
   "source": [
    "%%timeit\n",
    "with tf.GradientTape(persistent=True) as g:\n",
    "    g.watch(param)\n",
    "    beta_ = param[:D]\n",
    "    beta0_ = param[D]\n",
    "    ln_tau_ = param[D+1]\n",
    "    nmc_est = IWELBO(x, y, beta0_, beta_, ln_tau_, mu, sigma, n_MC=2**12)\n",
    "\n",
    "nmc_est = g.gradient(nmc_est, param)"
   ]
  },
  {
   "cell_type": "code",
   "execution_count": 92,
   "metadata": {},
   "outputs": [
    {
     "name": "stdout",
     "output_type": "stream",
     "text": [
      "164 ms ± 1.4 ms per loop (mean ± std. dev. of 7 runs, 10 loops each)\n"
     ]
    }
   ],
   "source": [
    "%%timeit\n",
    "with tf.GradientTape(persistent=True) as g:\n",
    "    g.watch(param)\n",
    "    beta_ = param[:D]\n",
    "    beta0_ = param[D]\n",
    "    ln_tau_ = param[D+1]\n",
    "    mlmc_est = IWELBO_MLMC(x, y, beta0_, beta_, ln_tau_, mu, sigma, max_level=12, w0=0.8, b=1, randomize=False)\n",
    "\n",
    "mlmc_est = g.gradient(mlmc_est, param)"
   ]
  },
  {
   "cell_type": "code",
   "execution_count": 93,
   "metadata": {},
   "outputs": [
    {
     "name": "stdout",
     "output_type": "stream",
     "text": [
      "137 ms ± 6.15 ms per loop (mean ± std. dev. of 7 runs, 10 loops each)\n"
     ]
    }
   ],
   "source": [
    "%%timeit\n",
    "with tf.GradientTape(persistent=True) as g:\n",
    "    g.watch(param)\n",
    "    beta_ = param[:D]\n",
    "    beta0_ = param[D]\n",
    "    ln_tau_ = param[D+1]\n",
    "    randmlmc_est = IWELBO_MLMC(x, y, beta0_, beta_, ln_tau_, mu, sigma, max_level=12, w0=0.8, b=1, randomize=True)\n",
    "\n",
    "randmlmc_est = g.gradient(randmlmc_est, param)"
   ]
  },
  {
   "cell_type": "markdown",
   "metadata": {},
   "source": [
    "#### For finding nice configuration where MLMC wins NMC "
   ]
  },
  {
   "cell_type": "code",
   "execution_count": null,
   "metadata": {},
   "outputs": [],
   "source": [
    "N,_ = y.shape\n",
    "n_MC = 2\n",
    "z = norm(loc=mu, scale=sigma).rvs([n_MC, N])\n",
    "\n",
    "diwelbos = pointwise_dIWELBO(x, y, z, beta0, beta, ln_tau, mu, sigma).numpy()\n",
    "score1 = np.var(NMC_ests) / diwelbos.mean()**2\n",
    "score2 = np.var(MLMC_ests) / np.var(NMC_ests)\n",
    "print(score1, score2)\n",
    "\n",
    "print(np.std(x@beta, axis=1).mean(), z.std())"
   ]
  }
 ],
 "metadata": {
  "kernelspec": {
   "display_name": "Python 3",
   "language": "python",
   "name": "python3"
  },
  "language_info": {
   "codemirror_mode": {
    "name": "ipython",
    "version": 3
   },
   "file_extension": ".py",
   "mimetype": "text/x-python",
   "name": "python",
   "nbconvert_exporter": "python",
   "pygments_lexer": "ipython3",
   "version": "3.6.9"
  }
 },
 "nbformat": 4,
 "nbformat_minor": 4
}
