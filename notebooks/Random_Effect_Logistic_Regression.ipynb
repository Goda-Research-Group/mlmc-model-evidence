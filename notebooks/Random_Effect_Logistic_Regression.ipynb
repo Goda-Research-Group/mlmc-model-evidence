{
 "cells": [
  {
   "cell_type": "markdown",
   "metadata": {},
   "source": [
    "# Random Effect Logistic Regression by MLMC Variational Bayes"
   ]
  },
  {
   "cell_type": "markdown",
   "metadata": {},
   "source": [
    "## Model Description"
   ]
  },
  {
   "cell_type": "markdown",
   "metadata": {},
   "source": [
    "##### Random Effect Models:\n",
    "For $n=1,...,N$,\n",
    "<br>&nbsp;&nbsp;&nbsp;&nbsp;\n",
    "$Z_n \\sim N(0,\\tau^2)$\n",
    "<br>&nbsp;&nbsp;&nbsp;&nbsp;\n",
    "$Y_{n,t} \\sim \\text{Bernoulli}\\left(\\frac{1}{1+\\exp(- Z_n - \\beta_0 - \\beta^T x_{n,t})}\\right)$\n",
    "<br>\n",
    "for $t=1, ..., T$. This model carries out dimentionality reduction of binary observations $y_{n,k}$'s. Here, the dimention of $\\beta$ and $x_{n,t}$ is $D$.<br>\n",
    "As variational approximation of the posterior $p(z_n|y_n)$, we use $q(z_n)= N(z_n;\\mu_n, \\sigma_n^2)$."
   ]
  },
  {
   "cell_type": "markdown",
   "metadata": {},
   "source": [
    "To constrain the parameter $\\tau^2>0$, we parametrize $\\tau^2$ as $\\tau^2 = \\mathrm{softplus}(\\alpha)$, where $\\mathrm{softplus}(x) := \\log(1+\\exp(x))>0$."
   ]
  },
  {
   "cell_type": "markdown",
   "metadata": {},
   "source": [
    "##### Possible Extension:\n",
    "\n",
    "By adding $\\bar x_n=\\frac{1}{T}\\sum_t x_{n,t}$ to the predictors as \n",
    "<br>&nbsp;&nbsp;&nbsp;&nbsp;\n",
    "$Y_{n,t} \\sim \\text{Bernoulli}\\left(\\frac{1}{1+\\exp(- Z_n - \\beta_0 - \\beta^T x_{n,t}- \\gamma\\bar x_n)}\\right)$,\n",
    "<br>\n",
    "we can obtain correlated random effect models."
   ]
  },
  {
   "cell_type": "markdown",
   "metadata": {},
   "source": [
    "#### We do not consider the use of Renyi divergences"
   ]
  },
  {
   "cell_type": "markdown",
   "metadata": {},
   "source": [
    "## Import Packages"
   ]
  },
  {
   "cell_type": "code",
   "execution_count": 1,
   "metadata": {},
   "outputs": [],
   "source": [
    "# Turn GPUs off\n",
    "import os\n",
    "os.environ[\"CUDA_VISIBLE_DEVICES\"] = \"-1\""
   ]
  },
  {
   "cell_type": "code",
   "execution_count": 2,
   "metadata": {},
   "outputs": [],
   "source": [
    "import tensorflow as tf\n",
    "import tensorflow_probability as tfp\n",
    "import numpy as np\n",
    "import pandas as pd\n",
    "from scipy.stats import bernoulli, norm\n",
    "from matplotlib import pyplot as plt"
   ]
  },
  {
   "cell_type": "code",
   "execution_count": 3,
   "metadata": {},
   "outputs": [
    {
     "name": "stdout",
     "output_type": "stream",
     "text": [
      "WARNING:tensorflow:From <ipython-input-3-17bb7203622b>:1: is_gpu_available (from tensorflow.python.framework.test_util) is deprecated and will be removed in a future version.\n",
      "Instructions for updating:\n",
      "Use `tf.config.list_physical_devices('GPU')` instead.\n"
     ]
    },
    {
     "data": {
      "text/plain": [
       "False"
      ]
     },
     "execution_count": 3,
     "metadata": {},
     "output_type": "execute_result"
    }
   ],
   "source": [
    "tf.test.is_gpu_available()"
   ]
  },
  {
   "cell_type": "markdown",
   "metadata": {},
   "source": [
    "## Utilities"
   ]
  },
  {
   "cell_type": "code",
   "execution_count": 4,
   "metadata": {},
   "outputs": [],
   "source": [
    "sigmoid = lambda x: 1/(1+np.exp(-x))\n",
    "softplus = lambda x: np.log(1+np.exp(x))\n",
    "as_tf_float = lambda x: tf.cast(x, tf.float64)\n",
    "\n",
    "def tf_logsumexp(ary, axis=1, keepdims=False):\n",
    "    return tf.math.reduce_logsumexp(ary, axis=axis, keepdims=keepdims)\n",
    "\n",
    "def tf_logmeanexp(ary, axis=1, keepdims=False):\n",
    "    return tf.math.reduce_logsumexp(ary, axis=axis, keepdims=keepdims) \\\n",
    "        - tf.math.log(as_tf_float(ary.shape[axis]))"
   ]
  },
  {
   "cell_type": "markdown",
   "metadata": {},
   "source": [
    "## Generate Toy Dataset"
   ]
  },
  {
   "cell_type": "code",
   "execution_count": 5,
   "metadata": {},
   "outputs": [],
   "source": [
    "N = 1000\n",
    "D = 3\n",
    "T = 2"
   ]
  },
  {
   "cell_type": "code",
   "execution_count": 6,
   "metadata": {},
   "outputs": [],
   "source": [
    "# data\n",
    "# We assume that we have infinite amount of data.\n",
    "# Thus, generator of the data is implemented.\n",
    "def generate_data(N, D, T, beta0, beta, alpha):\n",
    "    z = np.random.randn(N) * softplus(alpha)**(1/2.)\n",
    "    x = np.random.randn(N*T*D).reshape([N,T,D])\n",
    "    y = bernoulli(p=sigmoid(beta0+x@beta+z.reshape([N,1]))).rvs()\n",
    "    return x,y,z"
   ]
  },
  {
   "cell_type": "markdown",
   "metadata": {},
   "source": [
    "To constrain the parameter $\\tau^2>0$, we parametrize $\\tau^2$ as $\\tau^2 = \\mathrm{softplus}(\\alpha)$, where $\\mathrm{softplus}(x) := \\log(1+\\exp(x))>0$."
   ]
  },
  {
   "cell_type": "code",
   "execution_count": 7,
   "metadata": {},
   "outputs": [],
   "source": [
    "# paramters\n",
    "alpha = np.float64(1.)\n",
    "beta0 = np.float64(0.)\n",
    "beta  = np.array([0.25, 0.50, 0.75]) #np.random.randn(D) / np.sqrt(D)\n",
    "param0 = {\n",
    "    'alpha': alpha,\n",
    "    'beta0': beta0,\n",
    "    'beta': beta\n",
    "}"
   ]
  },
  {
   "cell_type": "code",
   "execution_count": 8,
   "metadata": {
    "scrolled": true
   },
   "outputs": [],
   "source": [
    "x,y,z = generate_data(N, D, T, beta0, beta, alpha)"
   ]
  },
  {
   "cell_type": "markdown",
   "metadata": {},
   "source": [
    "## Sigmoid Normal Integral Approximation of Evidence\n",
    "\n",
    "Ref: Barber Bishop(1998), PRML(2006)"
   ]
  },
  {
   "cell_type": "code",
   "execution_count": 9,
   "metadata": {},
   "outputs": [],
   "source": [
    "def sigmoid_normal_prob(x, beta0, beta, alpha):\n",
    "    N, T, D  = x.shape\n",
    "    kappa = 1 / (1 + np.pi*tf.math.softplus(alpha)/8)**(1/2)\n",
    "    return tf.math.sigmoid( kappa * (beta0 + tf.reshape( x@tf.reshape(beta, [D,1]), [N, T])) )"
   ]
  },
  {
   "cell_type": "code",
   "execution_count": 10,
   "metadata": {},
   "outputs": [],
   "source": [
    "def sigmoid_normal_likelihood(x, y, beta0, beta, alpha):\n",
    "    pred_prob = sigmoid_normal_prob(x, beta0, beta, alpha)\n",
    "    score = tf.reduce_mean(tf.reduce_sum(\n",
    "        tf.math.log(pred_prob)*y + tf.math.log(1-pred_prob)*(1-y), \n",
    "        axis=1))\n",
    "    return score"
   ]
  },
  {
   "cell_type": "markdown",
   "metadata": {},
   "source": [
    "## Laplace Approximation of Posterior"
   ]
  },
  {
   "cell_type": "code",
   "execution_count": 11,
   "metadata": {},
   "outputs": [],
   "source": [
    "def laplace_approx(x, y, beta0, beta, alpha):\n",
    "    N, T, D  = x.shape\n",
    "    z = np.zeros([N, 1])\n",
    "    _sig = lambda z: sigmoid( z + beta0 + x@beta )\n",
    "    for i in range(10):\n",
    "        sig = _sig(z)\n",
    "        hessian = 1/softplus(alpha) + np.sum( sig*(1-sig), axis=1, keepdims=True)\n",
    "        grad    = z/softplus(alpha) + np.sum( sig - y,     axis=1, keepdims=True)\n",
    "        z -= grad / hessian\n",
    "    mu = z.reshape([N])\n",
    "    sigma = (1 / hessian).reshape([N])**(1/2)\n",
    "    return mu, sigma"
   ]
  },
  {
   "cell_type": "code",
   "execution_count": 12,
   "metadata": {},
   "outputs": [],
   "source": [
    "mu, sigma = laplace_approx(x, y, beta0, beta, alpha)"
   ]
  },
  {
   "cell_type": "code",
   "execution_count": 13,
   "metadata": {},
   "outputs": [
    {
     "data": {
      "text/plain": [
       "(1.3397058448829098, 0.8929260613228073)"
      ]
     },
     "execution_count": 13,
     "metadata": {},
     "output_type": "execute_result"
    }
   ],
   "source": [
    "z.var(), (z-mu).var()"
   ]
  },
  {
   "cell_type": "markdown",
   "metadata": {},
   "source": [
    "## IWELBO approximation of Evidence"
   ]
  },
  {
   "cell_type": "code",
   "execution_count": 14,
   "metadata": {},
   "outputs": [],
   "source": [
    "def pointwise_IWELBO(x, y, z, beta0, beta, alpha, mu, sigma):\n",
    "    \"\"\"\n",
    "    Compute IWELBOs for i = 1,...,n using n_MC samples Zn. \n",
    "    Here, we assume that n<N where N is the size of data.\n",
    "    \n",
    "    Arguments:\n",
    "    x: 3-d array of size [N, T, D]\n",
    "    y: 2-d array of size [N, T]\n",
    "    z: 1-d array of size [n_MC, N]\n",
    "    beta: 1-d array of size [D]\n",
    "    mu: 1-d array of [N]\n",
    "    sigma**2: 1-d array of [N]\n",
    "    \n",
    "    Returns:\n",
    "    iwelbo: iwelbo, whose size is [N]\n",
    "    \"\"\"\n",
    "\n",
    "    (N, T, D), (n_MC, n) = x.shape, z.shape\n",
    "    y = as_tf_float( tf.reshape(y, [1,N,T]) )\n",
    "    mu = tf.reshape(mu, [1,N])\n",
    "    sigma = tf.reshape(sigma, [1,N])\n",
    "    \n",
    "    y_logits = tf.convert_to_tensor( beta0\\\n",
    "                                    + tf.reshape( x@tf.reshape(beta, [D,1]), [1, N, T])\\\n",
    "                                    + tf.reshape(z, [n_MC, N, 1]) \n",
    "                                   )\n",
    "    p_y = tfp.distributions.Bernoulli(logits=y_logits)\n",
    "    p_z = tfp.distributions.Normal(loc=np.zeros([1, N]), scale=tf.math.softplus(alpha)**(1/2.))\n",
    "    q_z = tfp.distributions.Normal(loc=mu, scale=sigma)\n",
    "    \n",
    "    log_prob_ratio = \\\n",
    "        tf.reduce_sum( p_y.log_prob(y), axis=2)\\\n",
    "        + p_z.log_prob(z)\\\n",
    "        - q_z.log_prob(z)\n",
    "    \n",
    "    iwelbo = tf_logmeanexp(log_prob_ratio, axis=0)\n",
    "    return iwelbo"
   ]
  },
  {
   "cell_type": "code",
   "execution_count": 15,
   "metadata": {},
   "outputs": [],
   "source": [
    "def IWELBO(x, y, beta0, beta, alpha, mu, sigma, n_MC):\n",
    "    N, = mu.shape\n",
    "    z = norm(loc=mu, scale=sigma).rvs([n_MC, N])\n",
    "    iwelbo = tf.reduce_mean( pointwise_IWELBO(x, y, z, beta0, beta, alpha, mu, sigma) )\n",
    "    return iwelbo"
   ]
  },
  {
   "cell_type": "code",
   "execution_count": 16,
   "metadata": {},
   "outputs": [],
   "source": [
    "signorm_likelihood = sigmoid_normal_likelihood(x, y, beta0, beta, alpha).numpy()\n",
    "elbo_likelihood = IWELBO(x, y, beta0, beta, alpha, mu, sigma, n_MC=1).numpy()\n",
    "iwelbo_likelihood = IWELBO(x, y, beta0, beta, alpha, mu, sigma, n_MC=64).numpy()"
   ]
  },
  {
   "cell_type": "code",
   "execution_count": 17,
   "metadata": {},
   "outputs": [
    {
     "data": {
      "text/plain": [
       "(-1.2537851586028887, -1.2441461612473648, -1.2408525062520097)"
      ]
     },
     "execution_count": 17,
     "metadata": {},
     "output_type": "execute_result"
    }
   ],
   "source": [
    "signorm_likelihood, elbo_likelihood, iwelbo_likelihood"
   ]
  },
  {
   "cell_type": "markdown",
   "metadata": {},
   "source": [
    "## Maximum Likelihood by Different Approximation"
   ]
  },
  {
   "cell_type": "code",
   "execution_count": 18,
   "metadata": {},
   "outputs": [
    {
     "name": "stdout",
     "output_type": "stream",
     "text": [
      "training signorm...\n",
      "#iter: 0,\tloss: 1.3862943611198892\n",
      "#iter: 200,\tloss: 1.2764051104604273\n",
      "#iter: 400,\tloss: 1.2830506012069267\n",
      "#iter: 600,\tloss: 1.2884141553904707\n",
      "#iter: 800,\tloss: 1.256733339338382\n",
      "#iter: 1000,\tloss: 1.2820771707668448\n",
      "#iter: 1200,\tloss: 1.295985654530279\n",
      "#iter: 1400,\tloss: 1.2768946971694917\n",
      "#iter: 1600,\tloss: 1.2966394218907993\n",
      "#iter: 1800,\tloss: 1.269488621673243\n",
      "#iter: 2000,\tloss: 1.2396142878411889\n",
      "\n",
      "training elbo...\n",
      "#iter: 0,\tloss: 1.3743908717632272\n",
      "#iter: 200,\tloss: 1.2428931185984269\n",
      "#iter: 400,\tloss: 1.2508545938644144\n",
      "#iter: 600,\tloss: 1.2372606903312586\n",
      "#iter: 800,\tloss: 1.315222451946805\n",
      "#iter: 1000,\tloss: 1.2578036060238247\n",
      "#iter: 1200,\tloss: 1.2207850277851229\n",
      "#iter: 1400,\tloss: 1.2803948986562892\n",
      "#iter: 1600,\tloss: 1.2733402996722734\n",
      "#iter: 1800,\tloss: 1.237424985885707\n",
      "#iter: 2000,\tloss: 1.2861242524538112\n",
      "\n",
      "training iwelbo8...\n",
      "#iter: 0,\tloss: 1.3600032473847563\n",
      "#iter: 200,\tloss: 1.250557652012957\n",
      "#iter: 400,\tloss: 1.2087822506843775\n",
      "#iter: 600,\tloss: 1.253028377638725\n",
      "#iter: 800,\tloss: 1.213132620637446\n",
      "#iter: 1000,\tloss: 1.2156509503761024\n",
      "#iter: 1200,\tloss: 1.2298150348481975\n",
      "#iter: 1400,\tloss: 1.2910719669319612\n",
      "#iter: 1600,\tloss: 1.2755080175221614\n",
      "#iter: 1800,\tloss: 1.2663917778088183\n",
      "#iter: 2000,\tloss: 1.2819598848172293\n",
      "\n",
      "training iwelbo64...\n",
      "#iter: 0,\tloss: 1.370477664471922\n",
      "#iter: 200,\tloss: 1.2445471704274038\n",
      "#iter: 400,\tloss: 1.2791018977920665\n",
      "#iter: 600,\tloss: 1.260731708784501\n",
      "#iter: 800,\tloss: 1.25667038254047\n",
      "#iter: 1000,\tloss: 1.225749447176309\n",
      "#iter: 1200,\tloss: 1.2368678541752467\n",
      "#iter: 1400,\tloss: 1.2795758684541203\n",
      "#iter: 1600,\tloss: 1.2846855570171047\n",
      "#iter: 1800,\tloss: 1.2792277547316462\n",
      "#iter: 2000,\tloss: 1.1752413892904756\n",
      "\n",
      "training iwelbo512...\n",
      "#iter: 0,\tloss: 1.3830833663270021\n",
      "#iter: 200,\tloss: 1.2571362875083123\n",
      "#iter: 400,\tloss: 1.2920706545504528\n",
      "#iter: 600,\tloss: 1.2400826156080056\n",
      "#iter: 800,\tloss: 1.2290335225712103\n",
      "#iter: 1000,\tloss: 1.3023707262096627\n",
      "#iter: 1200,\tloss: 1.258419036360495\n",
      "#iter: 1400,\tloss: 1.2245222247435663\n",
      "#iter: 1600,\tloss: 1.3029149997294853\n",
      "#iter: 1800,\tloss: 1.2527785584516529\n",
      "#iter: 2000,\tloss: 1.2743895834261176\n",
      "\n"
     ]
    }
   ],
   "source": [
    "objectives = {\n",
    "    \"signorm\": lambda beta0, beta, alpha, mu, sigma: sigmoid_normal_likelihood(x, y, beta0, beta, alpha),\n",
    "    \"elbo\": lambda beta0, beta, alpha, mu, sigma: IWELBO(x, y, beta0, beta, alpha, mu, sigma, n_MC=1),\n",
    "    \"iwelbo8\": lambda beta0, beta, alpha, mu, sigma: IWELBO(x, y, beta0, beta, alpha, mu, sigma, n_MC=8),\n",
    "    \"iwelbo64\": lambda beta0, beta, alpha, mu, sigma: IWELBO(x, y, beta0, beta, alpha, mu, sigma, n_MC=64),\n",
    "    \"iwelbo512\": lambda beta0, beta, alpha, mu, sigma: IWELBO(x, y, beta0, beta, alpha, mu, sigma, n_MC=512)\n",
    "}\n",
    "params = {\"ground_truth\": param0}\n",
    "\n",
    "N,T,D = (1000, 2, 3) if tf.test.is_gpu_available() else (200, 2, 3)\n",
    "\n",
    "for obj_name, obj_func in objectives.items():\n",
    "    \n",
    "    print(\"training {}...\".format(obj_name))\n",
    "    \n",
    "    beta0_ = tf.Variable(0., dtype=tf.float64)\n",
    "    beta_  = tf.Variable(np.zeros([D]), dtype=tf.float64)\n",
    "    alpha_   = tf.Variable(1., dtype=tf.float64)\n",
    "    \n",
    "    # Gradient Descent\n",
    "    for t in range(2001):\n",
    "        \n",
    "        rho_t = 0.5/(1+t)**0.7\n",
    "        x,y,_ = generate_data(N, D, T, beta0, beta, alpha)\n",
    "\n",
    "        with tf.GradientTape() as g:\n",
    "            g.watch([beta0_, beta_, alpha_])\n",
    "            mu, sigma = laplace_approx(x, y, beta0_.numpy(), beta_.numpy(), alpha_.numpy())\n",
    "            score = obj_func(beta0_, beta_, alpha_, mu, sigma)\n",
    "        dbeta0_, dbeta_, dalpha_ = g.gradient(score, [beta0_, beta_, alpha_])\n",
    "\n",
    "        beta0_ = beta0_ + rho_t*dbeta0_\n",
    "        beta_ = beta_ + rho_t*dbeta_\n",
    "        alpha_ = alpha_ + dalpha_\n",
    "        if t%200==0:\n",
    "            print(\"#iter: {},\\tloss: {}\".format(t, -score.numpy()))\n",
    "    \n",
    "    params[obj_name] = {\n",
    "        'alpha': alpha_.numpy(),\n",
    "        'beta0': beta0_.numpy(),\n",
    "        'beta': beta_.numpy()\n",
    "    }\n",
    "    print()"
   ]
  },
  {
   "cell_type": "code",
   "execution_count": 19,
   "metadata": {
    "scrolled": true
   },
   "outputs": [],
   "source": [
    "def expand(key, val):\n",
    "    # expand {\"name\":array([1,2,3,4,5])}\n",
    "    # into {\"name1\":1, \"name2\":2, ..., \"name5\":5}\n",
    "    if type(val)==np.ndarray:\n",
    "        return {key+str(i+1): x for i,x in enumerate(val)} \n",
    "    else:\n",
    "        return {key:val} \n",
    "\n",
    "def expand_param(param):\n",
    "    expanded_param = {}\n",
    "    for key, val in param.items():\n",
    "        expanded_param.update(expand(key,val))\n",
    "    return expanded_param"
   ]
  },
  {
   "cell_type": "code",
   "execution_count": 20,
   "metadata": {},
   "outputs": [
    {
     "data": {
      "text/html": [
       "<div>\n",
       "<style scoped>\n",
       "    .dataframe tbody tr th:only-of-type {\n",
       "        vertical-align: middle;\n",
       "    }\n",
       "\n",
       "    .dataframe tbody tr th {\n",
       "        vertical-align: top;\n",
       "    }\n",
       "\n",
       "    .dataframe thead th {\n",
       "        text-align: right;\n",
       "    }\n",
       "</style>\n",
       "<table border=\"1\" class=\"dataframe\">\n",
       "  <thead>\n",
       "    <tr style=\"text-align: right;\">\n",
       "      <th></th>\n",
       "      <th>alpha</th>\n",
       "      <th>beta0</th>\n",
       "      <th>beta1</th>\n",
       "      <th>beta2</th>\n",
       "      <th>beta3</th>\n",
       "    </tr>\n",
       "  </thead>\n",
       "  <tbody>\n",
       "    <tr>\n",
       "      <th>ground_truth</th>\n",
       "      <td>1.000000</td>\n",
       "      <td>0.000000</td>\n",
       "      <td>0.250000</td>\n",
       "      <td>0.500000</td>\n",
       "      <td>0.750000</td>\n",
       "    </tr>\n",
       "    <tr>\n",
       "      <th>signorm</th>\n",
       "      <td>-0.208311</td>\n",
       "      <td>0.000553</td>\n",
       "      <td>0.218559</td>\n",
       "      <td>0.443597</td>\n",
       "      <td>0.663208</td>\n",
       "    </tr>\n",
       "    <tr>\n",
       "      <th>elbo</th>\n",
       "      <td>-0.002154</td>\n",
       "      <td>0.000647</td>\n",
       "      <td>0.221000</td>\n",
       "      <td>0.438776</td>\n",
       "      <td>0.668253</td>\n",
       "    </tr>\n",
       "    <tr>\n",
       "      <th>iwelbo8</th>\n",
       "      <td>0.526015</td>\n",
       "      <td>0.005060</td>\n",
       "      <td>0.236472</td>\n",
       "      <td>0.474831</td>\n",
       "      <td>0.710727</td>\n",
       "    </tr>\n",
       "    <tr>\n",
       "      <th>iwelbo64</th>\n",
       "      <td>0.866380</td>\n",
       "      <td>-0.000003</td>\n",
       "      <td>0.239485</td>\n",
       "      <td>0.487641</td>\n",
       "      <td>0.719437</td>\n",
       "    </tr>\n",
       "    <tr>\n",
       "      <th>iwelbo512</th>\n",
       "      <td>0.843545</td>\n",
       "      <td>0.001886</td>\n",
       "      <td>0.239473</td>\n",
       "      <td>0.480555</td>\n",
       "      <td>0.719610</td>\n",
       "    </tr>\n",
       "  </tbody>\n",
       "</table>\n",
       "</div>"
      ],
      "text/plain": [
       "                 alpha     beta0     beta1     beta2     beta3\n",
       "ground_truth  1.000000  0.000000  0.250000  0.500000  0.750000\n",
       "signorm      -0.208311  0.000553  0.218559  0.443597  0.663208\n",
       "elbo         -0.002154  0.000647  0.221000  0.438776  0.668253\n",
       "iwelbo8       0.526015  0.005060  0.236472  0.474831  0.710727\n",
       "iwelbo64      0.866380 -0.000003  0.239485  0.487641  0.719437\n",
       "iwelbo512     0.843545  0.001886  0.239473  0.480555  0.719610"
      ]
     },
     "execution_count": 20,
     "metadata": {},
     "output_type": "execute_result"
    }
   ],
   "source": [
    "pd.DataFrame({key: expand_param(param) for key,param in params.items()}).T"
   ]
  },
  {
   "cell_type": "markdown",
   "metadata": {},
   "source": [
    "##### Bottom Line: IWELBO gives better estiamte than elbo or sigmoid normal integral approximation, even for simple this model. "
   ]
  },
  {
   "cell_type": "markdown",
   "metadata": {},
   "source": [
    "## MLMC"
   ]
  },
  {
   "cell_type": "code",
   "execution_count": 21,
   "metadata": {},
   "outputs": [],
   "source": [
    "def pointwise_dIWELBO(x, y, z, beta0, beta, alpha, mu, sigma):\n",
    "    \n",
    "    (N, T, D), (n_MC, N) = x.shape, z.shape\n",
    "    assert np.log2(n_MC)%1==0\n",
    "    \n",
    "    if n_MC == 1:\n",
    "        scores = pointwise_IWELBO(x, y, z, beta0, beta, alpha, mu, sigma)\n",
    "    else:\n",
    "        scores = pointwise_IWELBO(x, y, z, beta0, beta, alpha, mu, sigma)\n",
    "        scores -= (1/2.) * pointwise_IWELBO(x, y, z[:n_MC//2 ], beta0, beta, alpha, mu, sigma)\n",
    "        scores -= (1/2.) * pointwise_IWELBO(x, y, z[ n_MC//2:], beta0, beta, alpha, mu, sigma)\n",
    "    return scores"
   ]
  },
  {
   "cell_type": "code",
   "execution_count": 22,
   "metadata": {},
   "outputs": [],
   "source": [
    "def dIWELBO(x, y, beta0, beta, alpha, mu, sigma, level):\n",
    "    \n",
    "    N, = mu.shape\n",
    "    n_MC = 2**level\n",
    "    z = norm(loc=mu, scale=sigma).rvs([n_MC, N])\n",
    "    \n",
    "    diwelbo = tf.reduce_mean( pointwise_dIWELBO(x, y, z, beta0, beta, alpha, mu, sigma) )\n",
    "    return diwelbo"
   ]
  },
  {
   "cell_type": "code",
   "execution_count": 23,
   "metadata": {},
   "outputs": [],
   "source": [
    "def IWELBO_MLMC(x, y, beta0, beta, alpha, mu, sigma, max_level=8, w0=1-2.**(-3/2), b=2, randomize=False):\n",
    "    \n",
    "    N, T, D = x.shape\n",
    "\n",
    "    levels = np.arange(max_level)\n",
    "    weights = 2.**(-(b+1)/2*levels)\n",
    "    weights /= sum(weights)\n",
    "    weights = np.concatenate([[w0], (1-w0)*weights])\n",
    "    \n",
    "    if randomize==True:\n",
    "         Ns = np.random.multinomial(n=N, pvals=weights)\n",
    "        \n",
    "    elif randomize==False:\n",
    "        Ns = np.zeros_like(levels)\n",
    "        Ns = np.array([np.math.ceil(w*N) for w in weights], dtype=np.int)\n",
    "        Ns[0] = N - sum(Ns[1:])\n",
    "    \n",
    "    else:\n",
    "        raise(Exception(\"Invarid argument for 'randomize' of function IWELBO_MLMC. It must be True or False.\"))\n",
    "    \n",
    "    N_offset = 0\n",
    "    score = 0\n",
    "    for i, l in enumerate(levels):\n",
    "        if Ns[i]==0:\n",
    "            continue\n",
    "        x_tmp = x[N_offset:N_offset+Ns[i]]\n",
    "        y_tmp = y[N_offset:N_offset+Ns[i]]\n",
    "        mu_tmp = mu[N_offset:N_offset+Ns[i]]\n",
    "        sigma_tmp = sigma[N_offset:N_offset+Ns[i]]\n",
    "                       \n",
    "        if randomize==True:\n",
    "            score += dIWELBO(x_tmp, y_tmp, beta0, beta, alpha, mu_tmp, sigma_tmp, level=l) * Ns[i] / N / weights[i]   \n",
    "        elif randomize==False:\n",
    "            score += dIWELBO(x_tmp, y_tmp, beta0, beta, alpha, mu_tmp, sigma_tmp, level=l)\n",
    "        \n",
    "        N_offset += Ns[i]\n",
    "    return score"
   ]
  },
  {
   "cell_type": "code",
   "execution_count": 24,
   "metadata": {},
   "outputs": [],
   "source": [
    "x,y,_ = generate_data(N=10000, D=3, T=2, beta0=beta0, beta=beta, alpha=alpha)\n",
    "mu, sigma = laplace_approx(x, y, beta0, beta, alpha)    "
   ]
  },
  {
   "cell_type": "code",
   "execution_count": 25,
   "metadata": {},
   "outputs": [
    {
     "data": {
      "text/plain": [
       "<tf.Tensor: shape=(), dtype=float64, numpy=-1.2407524465890887>"
      ]
     },
     "execution_count": 25,
     "metadata": {},
     "output_type": "execute_result"
    }
   ],
   "source": [
    "IWELBO_MLMC(x, y, beta0, beta, alpha, mu, sigma, max_level=6, w0=0.9, randomize=True)"
   ]
  },
  {
   "cell_type": "code",
   "execution_count": 26,
   "metadata": {},
   "outputs": [
    {
     "data": {
      "text/plain": [
       "<tf.Tensor: shape=(), dtype=float64, numpy=-1.252102382350694>"
      ]
     },
     "execution_count": 26,
     "metadata": {},
     "output_type": "execute_result"
    }
   ],
   "source": [
    "IWELBO(x, y, beta0, beta, alpha, mu, sigma, n_MC=64)"
   ]
  },
  {
   "cell_type": "markdown",
   "metadata": {},
   "source": [
    "## MLMC codition check for objective"
   ]
  },
  {
   "cell_type": "code",
   "execution_count": 27,
   "metadata": {},
   "outputs": [],
   "source": [
    "def conv_stats_dIWELBO(x, y, beta0, beta, alpha, mu, sigma, level=1):\n",
    "    \n",
    "    N, = mu.shape\n",
    "    n_MC = 2**level\n",
    "    z = norm(loc=mu, scale=sigma).rvs([n_MC, N])\n",
    "    \n",
    "    diwelbos = pointwise_dIWELBO(x, y, z, beta0, beta, alpha, mu, sigma).numpy()\n",
    "    iwelbos = pointwise_IWELBO(x, y, z, beta0, beta, alpha, mu, sigma).numpy()\n",
    "    \n",
    "    return {'mean_dIWELBO':np.mean(diwelbos), \n",
    "            'mean_abs_dIWELBO':np.mean(np.abs(diwelbos)), \n",
    "            'mean_squared_dIWELBO':np.mean(diwelbos**2),\n",
    "            'var_dIWELBO':np.var(diwelbos), \n",
    "            'var_IWELBO':np.var(iwelbos)}"
   ]
  },
  {
   "cell_type": "code",
   "execution_count": 28,
   "metadata": {},
   "outputs": [],
   "source": [
    "def tmp(l):\n",
    "    N0 = 2000000\n",
    "    x,y,_ = generate_data(N=N0//2**l, D=3, T=2, beta0=beta0, beta=beta, alpha=alpha)\n",
    "    mu, sigma = laplace_approx(x, y, beta0, beta, alpha)\n",
    "    return conv_stats_dIWELBO(x, y, beta0, beta, alpha, mu, sigma, level=l)\n",
    "L=10\n",
    "conv_stats = [tmp(l) for l in range(10)]\n",
    "conv_stats = pd.DataFrame(conv_stats)"
   ]
  },
  {
   "cell_type": "code",
   "execution_count": 29,
   "metadata": {},
   "outputs": [
    {
     "data": {
      "image/png": "[encoded data removed]",
      "text/plain": [
       "<Figure size 432x288 with 1 Axes>"
      ]
     },
     "metadata": {
      "needs_background": "light"
     },
     "output_type": "display_data"
    }
   ],
   "source": [
    "plt.plot(conv_stats[['mean_abs_dIWELBO', 'var_dIWELBO', 'var_IWELBO']])\n",
    "s,t = conv_stats[['mean_abs_dIWELBO', 'var_dIWELBO']].iloc[0]\n",
    "plt.plot(t*2.**(-np.arange(L)/2), c='grey')\n",
    "plt.plot(t*2.**(-np.arange(L)), c='grey')\n",
    "plt.plot(t*2.**(-np.arange(L)*2), c='grey')\n",
    "\n",
    "plt.legend([r'$\\mathrm{E} | \\Delta \\mathrm{IW}$-$\\mathrm{ELBO}|$', \n",
    "            r'$\\mathrm{Var}[\\Delta \\mathrm{IW}$-$\\mathrm{ELBO}]$', \n",
    "            r'$\\mathrm{Var}[\\mathrm{IW}$-$\\mathrm{ELBO}]$',\n",
    "            r'$O(2^{-\\ell}), O(2^{-2\\ell})$'])\n",
    "plt.yscale('log')"
   ]
  },
  {
   "cell_type": "code",
   "execution_count": 30,
   "metadata": {},
   "outputs": [
    {
     "data": {
      "text/html": [
       "<div>\n",
       "<style scoped>\n",
       "    .dataframe tbody tr th:only-of-type {\n",
       "        vertical-align: middle;\n",
       "    }\n",
       "\n",
       "    .dataframe tbody tr th {\n",
       "        vertical-align: top;\n",
       "    }\n",
       "\n",
       "    .dataframe thead th {\n",
       "        text-align: right;\n",
       "    }\n",
       "</style>\n",
       "<table border=\"1\" class=\"dataframe\">\n",
       "  <thead>\n",
       "    <tr style=\"text-align: right;\">\n",
       "      <th></th>\n",
       "      <th>mean_dIWELBO</th>\n",
       "      <th>mean_abs_dIWELBO</th>\n",
       "      <th>mean_squared_dIWELBO</th>\n",
       "      <th>var_dIWELBO</th>\n",
       "      <th>var_IWELBO</th>\n",
       "    </tr>\n",
       "  </thead>\n",
       "  <tbody>\n",
       "    <tr>\n",
       "      <th>0</th>\n",
       "      <td>-1.252263</td>\n",
       "      <td>1.252310</td>\n",
       "      <td>1.800676e+00</td>\n",
       "      <td>2.325122e-01</td>\n",
       "      <td>0.232512</td>\n",
       "    </tr>\n",
       "    <tr>\n",
       "      <th>1</th>\n",
       "      <td>0.000767</td>\n",
       "      <td>0.000767</td>\n",
       "      <td>1.945001e-05</td>\n",
       "      <td>1.886109e-05</td>\n",
       "      <td>0.230647</td>\n",
       "    </tr>\n",
       "    <tr>\n",
       "      <th>2</th>\n",
       "      <td>0.000428</td>\n",
       "      <td>0.000428</td>\n",
       "      <td>4.768592e-06</td>\n",
       "      <td>4.585403e-06</td>\n",
       "      <td>0.230394</td>\n",
       "    </tr>\n",
       "    <tr>\n",
       "      <th>3</th>\n",
       "      <td>0.000235</td>\n",
       "      <td>0.000235</td>\n",
       "      <td>1.286218e-06</td>\n",
       "      <td>1.230824e-06</td>\n",
       "      <td>0.231225</td>\n",
       "    </tr>\n",
       "    <tr>\n",
       "      <th>4</th>\n",
       "      <td>0.000126</td>\n",
       "      <td>0.000126</td>\n",
       "      <td>2.880005e-07</td>\n",
       "      <td>2.720700e-07</td>\n",
       "      <td>0.231421</td>\n",
       "    </tr>\n",
       "    <tr>\n",
       "      <th>5</th>\n",
       "      <td>0.000065</td>\n",
       "      <td>0.000065</td>\n",
       "      <td>3.895691e-08</td>\n",
       "      <td>3.479051e-08</td>\n",
       "      <td>0.231804</td>\n",
       "    </tr>\n",
       "    <tr>\n",
       "      <th>6</th>\n",
       "      <td>0.000033</td>\n",
       "      <td>0.000033</td>\n",
       "      <td>1.050383e-08</td>\n",
       "      <td>9.392084e-09</td>\n",
       "      <td>0.230873</td>\n",
       "    </tr>\n",
       "    <tr>\n",
       "      <th>7</th>\n",
       "      <td>0.000017</td>\n",
       "      <td>0.000017</td>\n",
       "      <td>1.987878e-09</td>\n",
       "      <td>1.706066e-09</td>\n",
       "      <td>0.229345</td>\n",
       "    </tr>\n",
       "    <tr>\n",
       "      <th>8</th>\n",
       "      <td>0.000008</td>\n",
       "      <td>0.000008</td>\n",
       "      <td>3.430174e-10</td>\n",
       "      <td>2.733883e-10</td>\n",
       "      <td>0.227751</td>\n",
       "    </tr>\n",
       "    <tr>\n",
       "      <th>9</th>\n",
       "      <td>0.000004</td>\n",
       "      <td>0.000004</td>\n",
       "      <td>7.493598e-11</td>\n",
       "      <td>5.767478e-11</td>\n",
       "      <td>0.222917</td>\n",
       "    </tr>\n",
       "  </tbody>\n",
       "</table>\n",
       "</div>"
      ],
      "text/plain": [
       "   mean_dIWELBO  mean_abs_dIWELBO  mean_squared_dIWELBO   var_dIWELBO  \\\n",
       "0     -1.252263          1.252310          1.800676e+00  2.325122e-01   \n",
       "1      0.000767          0.000767          1.945001e-05  1.886109e-05   \n",
       "2      0.000428          0.000428          4.768592e-06  4.585403e-06   \n",
       "3      0.000235          0.000235          1.286218e-06  1.230824e-06   \n",
       "4      0.000126          0.000126          2.880005e-07  2.720700e-07   \n",
       "5      0.000065          0.000065          3.895691e-08  3.479051e-08   \n",
       "6      0.000033          0.000033          1.050383e-08  9.392084e-09   \n",
       "7      0.000017          0.000017          1.987878e-09  1.706066e-09   \n",
       "8      0.000008          0.000008          3.430174e-10  2.733883e-10   \n",
       "9      0.000004          0.000004          7.493598e-11  5.767478e-11   \n",
       "\n",
       "   var_IWELBO  \n",
       "0    0.232512  \n",
       "1    0.230647  \n",
       "2    0.230394  \n",
       "3    0.231225  \n",
       "4    0.231421  \n",
       "5    0.231804  \n",
       "6    0.230873  \n",
       "7    0.229345  \n",
       "8    0.227751  \n",
       "9    0.222917  "
      ]
     },
     "execution_count": 30,
     "metadata": {},
     "output_type": "execute_result"
    }
   ],
   "source": [
    "conv_stats"
   ]
  },
  {
   "cell_type": "markdown",
   "metadata": {},
   "source": [
    "## MLMC codition check for gradients"
   ]
  },
  {
   "cell_type": "code",
   "execution_count": 31,
   "metadata": {},
   "outputs": [],
   "source": [
    "def conv_stats_grad_dIWELBO(x, y, beta0, beta, alpha, mu, sigma, level=1):\n",
    "    \n",
    "    N, = mu.shape\n",
    "    n_MC = 2**level\n",
    "    z = norm(loc=mu, scale=sigma).rvs([n_MC, N]).T\n",
    "    \n",
    "    param = tf.concat([beta, [beta0], [alpha]], axis=0)\n",
    "    param = tf.Variable(param, dtype=tf.float64)\n",
    "    params = tf.reshape(param, [1,D+2]) * np.ones([N,1])\n",
    "\n",
    "    mu, sigma = laplace_approx(x, y, beta0, beta, alpha)        \n",
    "    \n",
    "    def get_grad(args):\n",
    "        \n",
    "        param, x_, y_, z_, mu, sigma = args\n",
    "        z_ = tf.reshape(z_, [-1,1])\n",
    "        \n",
    "        with tf.GradientTape(persistent=True) as g:\n",
    "            g.watch(param)\n",
    "            beta_ = param[0,:D]\n",
    "            beta0_ = param[0,D]\n",
    "            alpha_ = param[0,D+1]\n",
    "            diwelbos = pointwise_dIWELBO(x_, y_, z_, beta0_, beta_, alpha_, mu, sigma)\n",
    "            iwelbos = pointwise_IWELBO(x_, y_, z_, beta0_, beta_, alpha_, mu, sigma)\n",
    "            \n",
    "        a = g.gradient(diwelbos, param)\n",
    "        b = g.gradient(iwelbos, param)\n",
    "        \n",
    "        del g\n",
    "        \n",
    "        return a,b\n",
    "    \n",
    "    args = [tf.expand_dims(arg, axis=1) for arg in [params, x, y, z, mu, sigma]]\n",
    "    grads = tf.vectorized_map(get_grad, args)\n",
    "    \n",
    "    grad_diwelbos = tf.squeeze(grads[0])#[:D+1]\n",
    "    grad_iwelbos = tf.squeeze(grads[1])#[:D+1]\n",
    "    \n",
    "    return {'norm_mean_grad_dIWELBO': np.linalg.norm(np.mean(grad_diwelbos, axis=0)), \n",
    "            'mean_norm_grad_dIWELBO': np.mean(np.linalg.norm(grad_diwelbos, axis=1)), \n",
    "            'mean_squared_norm_grad_dIWELBO': np.mean(np.linalg.norm(grad_diwelbos, axis=1)**2),\n",
    "            'trace_covariance_grad_dIWELBO': np.sum(np.var(grad_diwelbos, axis=0)), \n",
    "            'trace_covariance_grad_IWELBO': np.sum(np.var(grad_iwelbos, axis=0))}"
   ]
  },
  {
   "cell_type": "code",
   "execution_count": 32,
   "metadata": {},
   "outputs": [],
   "source": [
    "def tmp(l):\n",
    "    N0 = 2000000\n",
    "    x,y,_ = generate_data(N=N0//2**l, D=3, T=2, beta0=beta0, beta=beta, alpha=alpha)\n",
    "    mu, sigma = laplace_approx(x, y, beta0, beta, alpha)\n",
    "    return conv_stats_grad_dIWELBO(x, y, beta0, beta, alpha, mu, sigma, level=l)\n",
    "L=10\n",
    "conv_stats = [tmp(l) for l in range(L)]\n",
    "conv_stats = pd.DataFrame(conv_stats)"
   ]
  },
  {
   "cell_type": "code",
   "execution_count": 33,
   "metadata": {
    "scrolled": true
   },
   "outputs": [
    {
     "data": {
      "image/png": "[encoded data removed]",
      "text/plain": [
       "<Figure size 432x288 with 1 Axes>"
      ]
     },
     "metadata": {
      "needs_background": "light"
     },
     "output_type": "display_data"
    }
   ],
   "source": [
    "plt.plot(conv_stats[['norm_mean_grad_dIWELBO', 'trace_covariance_grad_dIWELBO', 'trace_covariance_grad_IWELBO']])\n",
    "s,t = conv_stats[['norm_mean_grad_dIWELBO', 'trace_covariance_grad_dIWELBO']].iloc[0]\n",
    "plt.plot(t*2.**(-np.arange(L)/2), c='grey')\n",
    "plt.plot(t*2.**(-np.arange(L)), c='grey')\n",
    "plt.plot(t*2.**(-np.arange(L)*2), c='grey')\n",
    "\n",
    "plt.legend([r'$||\\mathrm{E} [\\nabla (\\Delta \\mathrm{IW}$-$\\mathrm{ELBO})]||_2^2$', \n",
    "            r'$\\mathrm{tr}(\\mathrm{Cov}[\\Delta \\mathrm{IW}$-$\\mathrm{ELBO}])$', \n",
    "            r'$\\mathrm{tr}(\\mathrm{Cov}[\\Delta \\mathrm{IW}$-$\\mathrm{ELBO}])$',\n",
    "            r'$O(2^{-\\ell/2}), O(2^{-\\ell}), O(2^{-2\\ell})$'])\n",
    "plt.yscale('log')"
   ]
  },
  {
   "cell_type": "markdown",
   "metadata": {},
   "source": [
    "## A Dark side of MLMC (when alpha=4.0):\n",
    "When we take gradient w.r.t. $\\theta_1: \\ \\tau=\\exp\\theta_1$, $b\\approx1$ for $V_\\ell\\propto 2^{-b\\ell}$. \n",
    "<br>\n",
    "However, taking gradient w.r.t. $\\theta_2: \\ \\tau^2=:\\mathrm{softplus}(\\theta_2)$, we obtain $b\\gtrapprox1$ for $V_\\ell\\propto 2^{-b\\ell}$"
   ]
  },
  {
   "cell_type": "code",
   "execution_count": 34,
   "metadata": {},
   "outputs": [
    {
     "data": {
      "text/html": [
       "<div>\n",
       "<style scoped>\n",
       "    .dataframe tbody tr th:only-of-type {\n",
       "        vertical-align: middle;\n",
       "    }\n",
       "\n",
       "    .dataframe tbody tr th {\n",
       "        vertical-align: top;\n",
       "    }\n",
       "\n",
       "    .dataframe thead th {\n",
       "        text-align: right;\n",
       "    }\n",
       "</style>\n",
       "<table border=\"1\" class=\"dataframe\">\n",
       "  <thead>\n",
       "    <tr style=\"text-align: right;\">\n",
       "      <th></th>\n",
       "      <th>norm_mean_grad_dIWELBO</th>\n",
       "      <th>mean_norm_grad_dIWELBO</th>\n",
       "      <th>mean_squared_norm_grad_dIWELBO</th>\n",
       "      <th>trace_covariance_grad_dIWELBO</th>\n",
       "      <th>trace_covariance_grad_IWELBO</th>\n",
       "    </tr>\n",
       "  </thead>\n",
       "  <tbody>\n",
       "    <tr>\n",
       "      <th>0</th>\n",
       "      <td>0.015352</td>\n",
       "      <td>1.101441</td>\n",
       "      <td>1.508566e+00</td>\n",
       "      <td>1.508330e+00</td>\n",
       "      <td>1.508330</td>\n",
       "    </tr>\n",
       "    <tr>\n",
       "      <th>1</th>\n",
       "      <td>0.006292</td>\n",
       "      <td>0.012224</td>\n",
       "      <td>1.610630e-03</td>\n",
       "      <td>1.571034e-03</td>\n",
       "      <td>1.303246</td>\n",
       "    </tr>\n",
       "    <tr>\n",
       "      <th>2</th>\n",
       "      <td>0.003936</td>\n",
       "      <td>0.006977</td>\n",
       "      <td>4.707152e-04</td>\n",
       "      <td>4.552221e-04</td>\n",
       "      <td>1.200819</td>\n",
       "    </tr>\n",
       "    <tr>\n",
       "      <th>3</th>\n",
       "      <td>0.002249</td>\n",
       "      <td>0.003834</td>\n",
       "      <td>1.231552e-04</td>\n",
       "      <td>1.180978e-04</td>\n",
       "      <td>1.146078</td>\n",
       "    </tr>\n",
       "    <tr>\n",
       "      <th>4</th>\n",
       "      <td>0.001247</td>\n",
       "      <td>0.002072</td>\n",
       "      <td>3.398444e-05</td>\n",
       "      <td>3.242847e-05</td>\n",
       "      <td>1.114302</td>\n",
       "    </tr>\n",
       "    <tr>\n",
       "      <th>5</th>\n",
       "      <td>0.000630</td>\n",
       "      <td>0.001043</td>\n",
       "      <td>5.998376e-06</td>\n",
       "      <td>5.601865e-06</td>\n",
       "      <td>1.098911</td>\n",
       "    </tr>\n",
       "    <tr>\n",
       "      <th>6</th>\n",
       "      <td>0.000337</td>\n",
       "      <td>0.000556</td>\n",
       "      <td>1.810033e-06</td>\n",
       "      <td>1.696173e-06</td>\n",
       "      <td>1.101958</td>\n",
       "    </tr>\n",
       "    <tr>\n",
       "      <th>7</th>\n",
       "      <td>0.000166</td>\n",
       "      <td>0.000276</td>\n",
       "      <td>3.412157e-07</td>\n",
       "      <td>3.136983e-07</td>\n",
       "      <td>1.081176</td>\n",
       "    </tr>\n",
       "    <tr>\n",
       "      <th>8</th>\n",
       "      <td>0.000090</td>\n",
       "      <td>0.000146</td>\n",
       "      <td>7.908050e-08</td>\n",
       "      <td>7.101491e-08</td>\n",
       "      <td>1.079425</td>\n",
       "    </tr>\n",
       "    <tr>\n",
       "      <th>9</th>\n",
       "      <td>0.000043</td>\n",
       "      <td>0.000070</td>\n",
       "      <td>1.711037e-08</td>\n",
       "      <td>1.529486e-08</td>\n",
       "      <td>1.096172</td>\n",
       "    </tr>\n",
       "  </tbody>\n",
       "</table>\n",
       "</div>"
      ],
      "text/plain": [
       "   norm_mean_grad_dIWELBO  mean_norm_grad_dIWELBO  \\\n",
       "0                0.015352                1.101441   \n",
       "1                0.006292                0.012224   \n",
       "2                0.003936                0.006977   \n",
       "3                0.002249                0.003834   \n",
       "4                0.001247                0.002072   \n",
       "5                0.000630                0.001043   \n",
       "6                0.000337                0.000556   \n",
       "7                0.000166                0.000276   \n",
       "8                0.000090                0.000146   \n",
       "9                0.000043                0.000070   \n",
       "\n",
       "   mean_squared_norm_grad_dIWELBO  trace_covariance_grad_dIWELBO  \\\n",
       "0                    1.508566e+00                   1.508330e+00   \n",
       "1                    1.610630e-03                   1.571034e-03   \n",
       "2                    4.707152e-04                   4.552221e-04   \n",
       "3                    1.231552e-04                   1.180978e-04   \n",
       "4                    3.398444e-05                   3.242847e-05   \n",
       "5                    5.998376e-06                   5.601865e-06   \n",
       "6                    1.810033e-06                   1.696173e-06   \n",
       "7                    3.412157e-07                   3.136983e-07   \n",
       "8                    7.908050e-08                   7.101491e-08   \n",
       "9                    1.711037e-08                   1.529486e-08   \n",
       "\n",
       "   trace_covariance_grad_IWELBO  \n",
       "0                      1.508330  \n",
       "1                      1.303246  \n",
       "2                      1.200819  \n",
       "3                      1.146078  \n",
       "4                      1.114302  \n",
       "5                      1.098911  \n",
       "6                      1.101958  \n",
       "7                      1.081176  \n",
       "8                      1.079425  \n",
       "9                      1.096172  "
      ]
     },
     "execution_count": 34,
     "metadata": {},
     "output_type": "execute_result"
    }
   ],
   "source": [
    "conv_stats"
   ]
  },
  {
   "cell_type": "markdown",
   "metadata": {},
   "source": [
    "## Cost comparison of objective"
   ]
  },
  {
   "cell_type": "code",
   "execution_count": 35,
   "metadata": {},
   "outputs": [],
   "source": [
    "NMC_ests = []\n",
    "MLMC_ests = []\n",
    "RandMLMC_ests = []\n",
    "for i in range(100):\n",
    "    x,y,_ = generate_data(N=4000, D=3, T=2, beta0=beta0, beta=beta, alpha=alpha)\n",
    "    mu, sigma = laplace_approx(x, y, beta0, beta, alpha)\n",
    "    NMC_ests.append( IWELBO(x, y, beta0, beta, alpha, mu, sigma, n_MC=2**9).numpy() )\n",
    "    MLMC_ests.append( IWELBO_MLMC(x, y, beta0, beta, alpha, mu, sigma, max_level=9, w0=0.90, b=1.8, randomize=False).numpy() )\n",
    "    RandMLMC_ests.append( IWELBO_MLMC(x, y, beta0, beta, alpha, mu, sigma, max_level=9, w0=0.90, b=1.8, randomize=True).numpy() )"
   ]
  },
  {
   "cell_type": "code",
   "execution_count": 36,
   "metadata": {},
   "outputs": [
    {
     "name": "stdout",
     "output_type": "stream",
     "text": [
      "std-div of NMC estimator:       0.006713016375223209\n",
      "std-div of MLMC estimator:      0.007406710594555743\n",
      "std-div of RandMLMC estimator:  0.009858264842051018\n"
     ]
    }
   ],
   "source": [
    "print(\"std-div of NMC estimator:      \", np.std(NMC_ests))\n",
    "print(\"std-div of MLMC estimator:     \", np.std(MLMC_ests))\n",
    "print(\"std-div of RandMLMC estimator: \", np.std(RandMLMC_ests))"
   ]
  },
  {
   "cell_type": "code",
   "execution_count": 37,
   "metadata": {},
   "outputs": [],
   "source": [
    "x,y,_ = generate_data(N=20000, D=3, T=2, beta0=beta0, beta=beta, alpha=alpha)\n",
    "mu, sigma = laplace_approx(x, y, beta0, beta, alpha)"
   ]
  },
  {
   "cell_type": "code",
   "execution_count": 38,
   "metadata": {},
   "outputs": [
    {
     "name": "stdout",
     "output_type": "stream",
     "text": [
      "1.08 s ± 39.9 ms per loop (mean ± std. dev. of 7 runs, 1 loop each)\n"
     ]
    }
   ],
   "source": [
    "%%timeit\n",
    "IWELBO(x, y, beta0, beta, alpha, mu, sigma, n_MC=2**9)"
   ]
  },
  {
   "cell_type": "code",
   "execution_count": 39,
   "metadata": {},
   "outputs": [
    {
     "name": "stdout",
     "output_type": "stream",
     "text": [
      "66 ms ± 264 µs per loop (mean ± std. dev. of 7 runs, 10 loops each)\n"
     ]
    }
   ],
   "source": [
    "%%timeit\n",
    "IWELBO_MLMC(x, y, beta0, beta, alpha, mu, sigma, max_level=9, w0=0.90, b=1.8, randomize=False)"
   ]
  },
  {
   "cell_type": "code",
   "execution_count": 40,
   "metadata": {},
   "outputs": [
    {
     "name": "stdout",
     "output_type": "stream",
     "text": [
      "66 ms ± 805 µs per loop (mean ± std. dev. of 7 runs, 10 loops each)\n"
     ]
    }
   ],
   "source": [
    "%%timeit\n",
    "IWELBO_MLMC(x, y, beta0, beta, alpha, mu, sigma, max_level=9, w0=0.90, b=1.8, randomize=True)"
   ]
  },
  {
   "cell_type": "markdown",
   "metadata": {},
   "source": [
    "## Cost comparison of gradients"
   ]
  },
  {
   "cell_type": "code",
   "execution_count": 41,
   "metadata": {},
   "outputs": [],
   "source": [
    "NMC_ests = []\n",
    "MLMC_ests = []\n",
    "RandMLMC_ests = []\n",
    "for i in range(100):\n",
    "    N0 = 2000\n",
    "    x,y,_ = generate_data(N=N0, D=3, T=2, beta0=beta0, beta=beta, alpha=alpha)\n",
    "    mu, sigma = laplace_approx(x, y, beta0, beta, alpha)\n",
    "    \n",
    "    param = tf.concat([beta, [beta0], [alpha]], axis=0)\n",
    "    param = tf.Variable(param, dtype=tf.float64)\n",
    "    \n",
    "    with tf.GradientTape(persistent=True) as g:\n",
    "        g.watch(param)\n",
    "        beta_ = param[:D]\n",
    "        beta0_ = param[D]\n",
    "        alpha_ = param[D+1]\n",
    "        nmc_est = IWELBO(x, y, beta0_, beta_, alpha_, mu, sigma, n_MC=2**9)\n",
    "        mlmc_est = IWELBO_MLMC(x, y, beta0_, beta_, alpha_, mu, sigma, max_level=9, w0=0.8, b=1.8,  randomize=False)\n",
    "        randmlmc_est = IWELBO_MLMC(x, y, beta0_, beta_, alpha_, mu, sigma, max_level=9, w0=0.8, b=1.8, randomize=True)\n",
    "            \n",
    "    nmc_est = g.gradient(nmc_est, param)\n",
    "    mlmc_est = g.gradient(mlmc_est, param)\n",
    "    randmlmc_est = g.gradient(randmlmc_est, param)\n",
    "    \n",
    "    del g\n",
    "        \n",
    "    NMC_ests.append( nmc_est )\n",
    "    MLMC_ests.append( mlmc_est )\n",
    "    RandMLMC_ests.append( randmlmc_est )"
   ]
  },
  {
   "cell_type": "code",
   "execution_count": 42,
   "metadata": {
    "scrolled": true
   },
   "outputs": [
    {
     "name": "stdout",
     "output_type": "stream",
     "text": [
      "E||grad||^2 of NMC estimator:       0.23403062884984704\n",
      "E||grad||^2 of MLMC estimator:      0.2967444345494138\n",
      "E||grad||^2 of RandMLMC estimator:  0.3069922596410454\n"
     ]
    }
   ],
   "source": [
    "print(\"E||grad||^2 of NMC estimator:      \", np.mean(np.linalg.norm(NMC_ests)))\n",
    "print(\"E||grad||^2 of MLMC estimator:     \", np.mean(np.linalg.norm(MLMC_ests)))\n",
    "print(\"E||grad||^2 of RandMLMC estimator: \", np.mean(np.linalg.norm(RandMLMC_ests)))"
   ]
  },
  {
   "cell_type": "code",
   "execution_count": 43,
   "metadata": {},
   "outputs": [],
   "source": [
    "x,y,_ = generate_data(N=20000, D=3, T=2, beta0=beta0, beta=beta, alpha=alpha)\n",
    "mu, sigma = laplace_approx(x, y, beta0, beta, alpha)"
   ]
  },
  {
   "cell_type": "code",
   "execution_count": 44,
   "metadata": {},
   "outputs": [
    {
     "name": "stdout",
     "output_type": "stream",
     "text": [
      "1.45 s ± 2.57 ms per loop (mean ± std. dev. of 7 runs, 1 loop each)\n"
     ]
    }
   ],
   "source": [
    "%%timeit\n",
    "with tf.GradientTape(persistent=True) as g:\n",
    "    g.watch(param)\n",
    "    beta_ = param[:D]\n",
    "    beta0_ = param[D]\n",
    "    alpha_ = param[D+1]\n",
    "    nmc_est = IWELBO(x, y, beta0_, beta_, alpha_, mu, sigma, n_MC=2**9)\n",
    "\n",
    "nmc_est = g.gradient(nmc_est, param)"
   ]
  },
  {
   "cell_type": "code",
   "execution_count": 45,
   "metadata": {},
   "outputs": [
    {
     "name": "stdout",
     "output_type": "stream",
     "text": [
      "147 ms ± 545 µs per loop (mean ± std. dev. of 7 runs, 10 loops each)\n"
     ]
    }
   ],
   "source": [
    "%%timeit\n",
    "with tf.GradientTape(persistent=True) as g:\n",
    "    g.watch(param)\n",
    "    beta_ = param[:D]\n",
    "    beta0_ = param[D]\n",
    "    alpha_ = param[D+1]\n",
    "    mlmc_est = IWELBO_MLMC(x, y, beta0_, beta_, alpha_, mu, sigma, max_level=9, w0=0.8, b=1.8, randomize=False)\n",
    "\n",
    "mlmc_est = g.gradient(mlmc_est, param)"
   ]
  },
  {
   "cell_type": "code",
   "execution_count": 46,
   "metadata": {},
   "outputs": [
    {
     "name": "stdout",
     "output_type": "stream",
     "text": [
      "150 ms ± 1.13 ms per loop (mean ± std. dev. of 7 runs, 10 loops each)\n"
     ]
    }
   ],
   "source": [
    "%%timeit\n",
    "with tf.GradientTape(persistent=True) as g:\n",
    "    g.watch(param)\n",
    "    beta_ = param[:D]\n",
    "    beta0_ = param[D]\n",
    "    alpha_ = param[D+1]\n",
    "    randmlmc_est = IWELBO_MLMC(x, y, beta0_, beta_, alpha_, mu, sigma, max_level=9, w0=0.8, b=1.8, randomize=True)\n",
    "\n",
    "randmlmc_est = g.gradient(randmlmc_est, param)"
   ]
  },
  {
   "cell_type": "code",
   "execution_count": null,
   "metadata": {},
   "outputs": [],
   "source": []
  }
 ],
 "metadata": {
  "kernelspec": {
   "display_name": "Python 3",
   "language": "python",
   "name": "python3"
  },
  "language_info": {
   "codemirror_mode": {
    "name": "ipython",
    "version": 3
   },
   "file_extension": ".py",
   "mimetype": "text/x-python",
   "name": "python",
   "nbconvert_exporter": "python",
   "pygments_lexer": "ipython3",
   "version": "3.6.9"
  }
 },
 "nbformat": 4,
 "nbformat_minor": 4
}
