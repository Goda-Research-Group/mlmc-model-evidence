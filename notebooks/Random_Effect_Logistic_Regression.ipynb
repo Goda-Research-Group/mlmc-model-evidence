{
 "cells": [
  {
   "cell_type": "markdown",
   "metadata": {},
   "source": [
    "# Random Effect Logistic Regression by MLMC Variational Bayes"
   ]
  },
  {
   "cell_type": "markdown",
   "metadata": {},
   "source": [
    "## Model Description"
   ]
  },
  {
   "cell_type": "markdown",
   "metadata": {},
   "source": [
    "##### Random Effect Models:\n",
    "For $n=1,...,N$,\n",
    "<br>&nbsp;&nbsp;&nbsp;&nbsp;\n",
    "$Z_n \\sim N(0,\\tau^2)$\n",
    "<br>&nbsp;&nbsp;&nbsp;&nbsp;\n",
    "$Y_{n,t} \\sim \\text{Bernoulli}\\left(\\frac{1}{1+\\exp(- Z_n - \\beta_0 - \\beta^T x_{n,t})}\\right)$\n",
    "<br>\n",
    "for $t=1, ..., T$. This model carries out dimentionality reduction of binary observations $y_{n,k}$'s. Here, the dimention of $\\beta$ and $x_{n,t}$ is $D$.<br>\n",
    "As variational approximation of the posterior $p(z_n|y_n)$, we use $q(z_n)= N(z_n;\\mu_n, \\sigma_n^2)$"
   ]
  },
  {
   "cell_type": "markdown",
   "metadata": {},
   "source": [
    "##### Possible Extension:\n",
    "\n",
    "By adding $\\bar x_n=\\frac{1}{T}\\sum_t x_{n,t}$ to the predictors as \n",
    "<br>&nbsp;&nbsp;&nbsp;&nbsp;\n",
    "$Y_{n,t} \\sim \\text{Bernoulli}\\left(\\frac{1}{1+\\exp(- Z_n - \\beta_0 - \\beta^T x_{n,t}- \\gamma\\bar x_n)}\\right)$,\n",
    "<br>\n",
    "we can obtain correlated random effect models."
   ]
  },
  {
   "cell_type": "markdown",
   "metadata": {},
   "source": [
    "#### We do not consider the use of Renyi divergences"
   ]
  },
  {
   "cell_type": "markdown",
   "metadata": {},
   "source": [
    "## Import Packages"
   ]
  },
  {
   "cell_type": "code",
   "execution_count": 1,
   "metadata": {},
   "outputs": [],
   "source": [
    "import tensorflow as tf\n",
    "import tensorflow_probability as tfp\n",
    "import numpy as np\n",
    "import pandas as pd\n",
    "from scipy.stats import bernoulli, norm\n",
    "from matplotlib import pyplot as plt"
   ]
  },
  {
   "cell_type": "markdown",
   "metadata": {},
   "source": [
    "## Utilities"
   ]
  },
  {
   "cell_type": "code",
   "execution_count": 3,
   "metadata": {},
   "outputs": [],
   "source": [
    "sigmoid = lambda x:1/(1+np.exp(-x))\n",
    "\n",
    "as_tf_float = lambda x: tf.cast(x, tf.float64)\n",
    "\n",
    "def tf_logsumexp(ary, axis=1, keepdims=False):\n",
    "    return tf.math.reduce_logsumexp(ary, axis=axis, keepdims=keepdims)\n",
    "\n",
    "def tf_logmeanexp(ary, axis=1, keepdims=False):\n",
    "    return tf.math.reduce_logsumexp(ary, axis=axis, keepdims=keepdims) \\\n",
    "        - tf.math.log(as_tf_float(ary.shape[axis]))"
   ]
  },
  {
   "cell_type": "markdown",
   "metadata": {},
   "source": [
    "## Generate Toy Dataset"
   ]
  },
  {
   "cell_type": "code",
   "execution_count": 4,
   "metadata": {},
   "outputs": [],
   "source": [
    "N = 1000\n",
    "D = 3\n",
    "T = 2"
   ]
  },
  {
   "cell_type": "code",
   "execution_count": 5,
   "metadata": {},
   "outputs": [],
   "source": [
    "# data\n",
    "# We assume that we have infinite amount of data.\n",
    "# Thus, generator of the data is implemented.\n",
    "def generate_data(N, D, T, beta0, beta, ln_tau):\n",
    "    z = np.random.randn(N) * np.exp(ln_tau)\n",
    "    x = np.random.randn(N*T*D).reshape([N,T,D])\n",
    "    y = bernoulli(p=sigmoid(beta0+x@beta+z.reshape([N,1]))).rvs()\n",
    "    return x,y,z"
   ]
  },
  {
   "cell_type": "code",
   "execution_count": 6,
   "metadata": {},
   "outputs": [],
   "source": [
    "# paramters\n",
    "ln_tau = np.float64(0.7)\n",
    "beta0 = np.float64(0.)\n",
    "beta  = np.random.randn(D) / np.sqrt(D)\n",
    "param0 = {\n",
    "    'ln_tau': ln_tau,\n",
    "    'beta0': beta0,\n",
    "    'beta': beta\n",
    "}"
   ]
  },
  {
   "cell_type": "code",
   "execution_count": 7,
   "metadata": {
    "scrolled": true
   },
   "outputs": [],
   "source": [
    "x,y,z = generate_data(N, D, T, beta0, beta, ln_tau)"
   ]
  },
  {
   "cell_type": "markdown",
   "metadata": {},
   "source": [
    "## Sigmoid Normal Integral Approximation of Evidence\n",
    "\n",
    "Ref: Barber Bishop(1998), PRML(2006)"
   ]
  },
  {
   "cell_type": "code",
   "execution_count": 8,
   "metadata": {},
   "outputs": [],
   "source": [
    "def sigmoid_normal_prob(x, beta0, beta, ln_tau):\n",
    "    N, T, D  = x.shape\n",
    "    kappa = 1 / (1 + np.pi*tf.exp(ln_tau*2)/8)**(1/2)\n",
    "    return tf.math.sigmoid( kappa * (beta0 + tf.reshape( x@tf.reshape(beta, [D,1]), [N, T])) )"
   ]
  },
  {
   "cell_type": "code",
   "execution_count": 9,
   "metadata": {},
   "outputs": [],
   "source": [
    "def sigmoid_normal_likelihood(x, y, beta0, beta, ln_tau):\n",
    "    pred_prob = sigmoid_normal_prob(x, beta0, beta, ln_tau)\n",
    "    score = tf.reduce_mean(tf.reduce_sum(\n",
    "        tf.math.log(pred_prob)*y + tf.math.log(1-pred_prob)*(1-y), \n",
    "        axis=1))\n",
    "    return score"
   ]
  },
  {
   "cell_type": "markdown",
   "metadata": {},
   "source": [
    "## Laplace Approximation of Posterior"
   ]
  },
  {
   "cell_type": "code",
   "execution_count": 10,
   "metadata": {},
   "outputs": [],
   "source": [
    "def laplace_approx(x, y, beta0, beta, ln_tau):\n",
    "    N, T, D  = x.shape\n",
    "    z = np.zeros([N, 1])\n",
    "    _sig = lambda z: sigmoid( z + beta0 + x@beta )\n",
    "    for i in range(10):\n",
    "        sig = _sig(z)\n",
    "        hessian = 1/np.exp(ln_tau*2) + np.sum( sig*(1-sig), axis=1, keepdims=True)\n",
    "        grad    = z/np.exp(ln_tau*2) + np.sum( sig - y,     axis=1, keepdims=True)\n",
    "        z -= grad / hessian\n",
    "    mu = z.reshape([N])\n",
    "    sigma = (1 / hessian).reshape([N])**(1/2)\n",
    "    return mu, sigma"
   ]
  },
  {
   "cell_type": "code",
   "execution_count": 11,
   "metadata": {},
   "outputs": [],
   "source": [
    "mu, sigma = laplace_approx(x, y, beta0, beta, ln_tau)"
   ]
  },
  {
   "cell_type": "code",
   "execution_count": 12,
   "metadata": {},
   "outputs": [
    {
     "data": {
      "text/plain": [
       "(3.928849989477483, 2.1424583009621827)"
      ]
     },
     "execution_count": 12,
     "metadata": {},
     "output_type": "execute_result"
    }
   ],
   "source": [
    "z.var(), (z-mu).var()"
   ]
  },
  {
   "cell_type": "markdown",
   "metadata": {},
   "source": [
    "## IWELBO approximation of Evidence"
   ]
  },
  {
   "cell_type": "code",
   "execution_count": 13,
   "metadata": {},
   "outputs": [],
   "source": [
    "def pointwise_IWELBO(x, y, z, beta0, beta, ln_tau, mu, sigma):\n",
    "    \"\"\"\n",
    "    Compute IWELBOs for i = 1,...,n using n_MC samples Zn. \n",
    "    Here, we assume that n<N where N is the size of data.\n",
    "    \n",
    "    Arguments:\n",
    "    x: 3-d array of size [N, T, D]\n",
    "    y: 2-d array of size [N, T]\n",
    "    z: 1-d array of size [n_MC, N]\n",
    "    beta: 1-d array of size [D]\n",
    "    mu: 1-d array of [N]\n",
    "    sigma**2: 1-d array of [N]\n",
    "    \n",
    "    Returns:\n",
    "    iwelbo: iwelbo, whose size is [N]\n",
    "    \"\"\"\n",
    "\n",
    "    (N, T, D), (n_MC, n) = x.shape, z.shape\n",
    "    y = np.float64( y.reshape([1,N,T]) )\n",
    "    mu = mu.reshape([1,N])\n",
    "    sigma = sigma.reshape([1,N])\n",
    "    \n",
    "    y_logits = tf.convert_to_tensor( beta0\\\n",
    "                                    + tf.reshape( x@tf.reshape(beta, [D,1]), [1, N, T])\\\n",
    "                                    + tf.reshape(z, [n_MC, N, 1]) \n",
    "                                   )\n",
    "    p_y = tfp.distributions.Bernoulli(logits=y_logits)\n",
    "    p_z = tfp.distributions.Normal(loc=np.zeros([1, N]), scale=tf.exp(ln_tau))\n",
    "    q_z = tfp.distributions.Normal(loc=mu, scale=sigma)\n",
    "    \n",
    "    log_prob_ratio = \\\n",
    "        tf.reduce_sum( p_y.log_prob(y), axis=2)\\\n",
    "        + p_z.log_prob(z)\\\n",
    "        - q_z.log_prob(z)\n",
    "    \n",
    "    iwelbo = tf_logmeanexp(log_prob_ratio, axis=0)\n",
    "    return iwelbo"
   ]
  },
  {
   "cell_type": "code",
   "execution_count": 14,
   "metadata": {},
   "outputs": [],
   "source": [
    "def IWELBO(x, y, beta0, beta, ln_tau, mu, sigma, n_MC):\n",
    "    N, = mu.shape\n",
    "    z = norm(loc=mu, scale=sigma).rvs([n_MC, N])\n",
    "    iwelbo = tf.reduce_mean( pointwise_IWELBO(x, y, z, beta0, beta, ln_tau, mu, sigma) )\n",
    "    return iwelbo"
   ]
  },
  {
   "cell_type": "code",
   "execution_count": 15,
   "metadata": {},
   "outputs": [],
   "source": [
    "signorm_likelihood = sigmoid_normal_likelihood(x, y, beta0, beta, ln_tau).numpy()\n",
    "elbo_likelihood = IWELBO(x, y, beta0, beta, ln_tau, mu, sigma, n_MC=1).numpy()\n",
    "iwelbo_likelihood = IWELBO(x, y, beta0, beta, ln_tau, mu, sigma, n_MC=64).numpy()"
   ]
  },
  {
   "cell_type": "code",
   "execution_count": 16,
   "metadata": {},
   "outputs": [
    {
     "data": {
      "text/plain": [
       "(-1.0952656839171677, -1.0601973996791316, -1.0478776195923623)"
      ]
     },
     "execution_count": 16,
     "metadata": {},
     "output_type": "execute_result"
    }
   ],
   "source": [
    "signorm_likelihood, elbo_likelihood, iwelbo_likelihood"
   ]
  },
  {
   "cell_type": "markdown",
   "metadata": {},
   "source": [
    "## Maximum Likelihood by Different Approximation"
   ]
  },
  {
   "cell_type": "code",
   "execution_count": 17,
   "metadata": {},
   "outputs": [
    {
     "name": "stdout",
     "output_type": "stream",
     "text": [
      "training signorm...\n",
      "#iter: 0,\tloss: 1.3862943611198904\n",
      "#iter: 200,\tloss: 1.1972973100753581\n",
      "#iter: 400,\tloss: 1.3765428296780922\n",
      "#iter: 600,\tloss: 1.2863817101036361\n",
      "#iter: 800,\tloss: 1.4237331319111957\n",
      "#iter: 1000,\tloss: 1.2646627380388522\n",
      "#iter: 1200,\tloss: 1.296606908636212\n",
      "#iter: 1400,\tloss: 1.1923068583568535\n",
      "#iter: 1600,\tloss: 1.2963300498464612\n",
      "#iter: 1800,\tloss: 1.2265708550856242\n",
      "#iter: 2000,\tloss: 1.246692349962158\n",
      "\n",
      "training elbo...\n",
      "#iter: 0,\tloss: 1.3339215307286465\n",
      "#iter: 200,\tloss: 1.2470361868106368\n",
      "#iter: 400,\tloss: 1.2299446957709543\n",
      "#iter: 600,\tloss: 1.2072082662756634\n",
      "#iter: 800,\tloss: 1.2166464987359218\n",
      "#iter: 1000,\tloss: 1.2681727374622223\n",
      "#iter: 1200,\tloss: 1.2822739446734972\n",
      "#iter: 1400,\tloss: 1.231007925737668\n",
      "#iter: 1600,\tloss: 1.1907385799239807\n",
      "#iter: 1800,\tloss: 1.2673998690341393\n",
      "#iter: 2000,\tloss: 1.2812046282884773\n",
      "\n",
      "training iwelbo8...\n",
      "#iter: 0,\tloss: 1.3672195993895213\n",
      "#iter: 200,\tloss: 1.2475841711412685\n",
      "#iter: 400,\tloss: 1.2272840120154995\n",
      "#iter: 600,\tloss: 1.306596686879311\n",
      "#iter: 800,\tloss: 1.0869674692358695\n",
      "#iter: 1000,\tloss: 1.2738258502332505\n",
      "#iter: 1200,\tloss: 1.226527162966116\n",
      "#iter: 1400,\tloss: 1.2281456487999243\n",
      "#iter: 1600,\tloss: 1.2304449172166927\n",
      "#iter: 1800,\tloss: 1.1608601200529458\n",
      "#iter: 2000,\tloss: 1.255340579674186\n",
      "\n",
      "training iwelbo64...\n",
      "#iter: 0,\tloss: 1.3138900751201321\n",
      "#iter: 200,\tloss: 1.2186831193239493\n",
      "#iter: 400,\tloss: 1.150378473750767\n",
      "#iter: 600,\tloss: 1.2457166335683538\n",
      "#iter: 800,\tloss: 1.1918454148254094\n",
      "#iter: 1000,\tloss: 1.2088999280789872\n",
      "#iter: 1200,\tloss: 1.2470698580069333\n",
      "#iter: 1400,\tloss: 1.2611272099780308\n",
      "#iter: 1600,\tloss: 1.171719588344559\n",
      "#iter: 1800,\tloss: 1.1799366870426733\n",
      "#iter: 2000,\tloss: 1.1693243269870093\n",
      "\n",
      "training iwelbo512...\n",
      "#iter: 0,\tloss: 1.3628542862549176\n",
      "#iter: 200,\tloss: 1.2831169783703018\n",
      "#iter: 400,\tloss: 1.2199991670104386\n",
      "#iter: 600,\tloss: 1.2243035790729258\n",
      "#iter: 800,\tloss: 1.1344862574880215\n",
      "#iter: 1000,\tloss: 1.2274269140797516\n",
      "#iter: 1200,\tloss: 1.1362096779951434\n",
      "#iter: 1400,\tloss: 1.1754646486577007\n",
      "#iter: 1600,\tloss: 1.1643276557921134\n",
      "#iter: 1800,\tloss: 1.1405681471160944\n",
      "#iter: 2000,\tloss: 1.1849639553037221\n",
      "\n"
     ]
    }
   ],
   "source": [
    "objectives = {\n",
    "    \"signorm\": lambda beta0, beta, ln_tau, mu, sigma: sigmoid_normal_likelihood(x, y, beta0, beta, ln_tau),\n",
    "    \"elbo\": lambda beta0, beta, ln_tau, mu, sigma: IWELBO(x, y, beta0, beta, ln_tau, mu, sigma, n_MC=1),\n",
    "    \"iwelbo8\": lambda beta0, beta, ln_tau, mu, sigma: IWELBO(x, y, beta0, beta, ln_tau, mu, sigma, n_MC=8),\n",
    "    \"iwelbo64\": lambda beta0, beta, ln_tau, mu, sigma: IWELBO(x, y, beta0, beta, ln_tau, mu, sigma, n_MC=64),\n",
    "    \"iwelbo512\": lambda beta0, beta, ln_tau, mu, sigma: IWELBO(x, y, beta0, beta, ln_tau, mu, sigma, n_MC=512)\n",
    "}\n",
    "params = {\"ground_truth\": param0}\n",
    "\n",
    "N,T,D = 100, 2, 3\n",
    "\n",
    "for obj_name, obj_func in objectives.items():\n",
    "    \n",
    "    print(\"training {}...\".format(obj_name))\n",
    "    \n",
    "    beta0_ = tf.Variable(0, dtype=tf.float64)\n",
    "    beta_  = tf.Variable(np.zeros([D]), dtype=tf.float64)\n",
    "    ln_tau_   = tf.Variable(0, dtype=tf.float64)\n",
    "    \n",
    "    # Gradient Descent\n",
    "    for t in range(2001):\n",
    "        \n",
    "        rho_t = 0.5/(1+t)**0.7\n",
    "        x,y,_ = generate_data(N, D, T, beta0, beta, ln_tau)\n",
    "\n",
    "        with tf.GradientTape() as g:\n",
    "            g.watch([beta0_, beta_, ln_tau_])\n",
    "            mu, sigma = laplace_approx(x, y, beta0_.numpy(), beta_.numpy(), ln_tau_.numpy())\n",
    "            score = obj_func(beta0_, beta_, ln_tau_, mu, sigma)\n",
    "        dbeta0_, dbeta_, dln_tau_ = g.gradient(score, [beta0_, beta_, ln_tau_])\n",
    "\n",
    "        beta0_ = beta0_ + rho_t*dbeta0_\n",
    "        beta_ = beta_ + rho_t*dbeta_\n",
    "        ln_tau_ = ln_tau_ + dln_tau_\n",
    "        if t%200==0:\n",
    "            print(\"#iter: {},\\tloss: {}\".format(t, -score.numpy()))\n",
    "    \n",
    "    params[obj_name] = {\n",
    "        'ln_tau': ln_tau_.numpy(),\n",
    "        'beta0': beta0_.numpy(),\n",
    "        'beta': beta_.numpy()\n",
    "    }\n",
    "    print()"
   ]
  },
  {
   "cell_type": "code",
   "execution_count": 18,
   "metadata": {
    "scrolled": true
   },
   "outputs": [],
   "source": [
    "def expand(key, val):\n",
    "    # expand {\"name\":array([1,2,3,4,5])}\n",
    "    # into {\"name1\":1, \"name2\":2, ..., \"name5\":5}\n",
    "    if type(val)==np.ndarray:\n",
    "        return {key+str(i+1): x for i,x in enumerate(val)} \n",
    "    else:\n",
    "        return {key:val} \n",
    "\n",
    "def expand_param(param):\n",
    "    expanded_param = {}\n",
    "    for key, val in param.items():\n",
    "        expanded_param.update(expand(key,val))\n",
    "    return expanded_param"
   ]
  },
  {
   "cell_type": "code",
   "execution_count": 19,
   "metadata": {},
   "outputs": [
    {
     "data": {
      "text/html": [
       "<div>\n",
       "<style scoped>\n",
       "    .dataframe tbody tr th:only-of-type {\n",
       "        vertical-align: middle;\n",
       "    }\n",
       "\n",
       "    .dataframe tbody tr th {\n",
       "        vertical-align: top;\n",
       "    }\n",
       "\n",
       "    .dataframe thead th {\n",
       "        text-align: right;\n",
       "    }\n",
       "</style>\n",
       "<table border=\"1\" class=\"dataframe\">\n",
       "  <thead>\n",
       "    <tr style=\"text-align: right;\">\n",
       "      <th></th>\n",
       "      <th>ln_tau</th>\n",
       "      <th>beta0</th>\n",
       "      <th>beta1</th>\n",
       "      <th>beta2</th>\n",
       "      <th>beta3</th>\n",
       "    </tr>\n",
       "  </thead>\n",
       "  <tbody>\n",
       "    <tr>\n",
       "      <th>ground_truth</th>\n",
       "      <td>0.700000</td>\n",
       "      <td>0.000000</td>\n",
       "      <td>-0.430122</td>\n",
       "      <td>0.673026</td>\n",
       "      <td>0.869993</td>\n",
       "    </tr>\n",
       "    <tr>\n",
       "      <th>signorm</th>\n",
       "      <td>-0.987636</td>\n",
       "      <td>0.004602</td>\n",
       "      <td>-0.268291</td>\n",
       "      <td>0.435698</td>\n",
       "      <td>0.549871</td>\n",
       "    </tr>\n",
       "    <tr>\n",
       "      <th>elbo</th>\n",
       "      <td>-4.357932</td>\n",
       "      <td>0.005055</td>\n",
       "      <td>-0.298313</td>\n",
       "      <td>0.468683</td>\n",
       "      <td>0.612275</td>\n",
       "    </tr>\n",
       "    <tr>\n",
       "      <th>iwelbo8</th>\n",
       "      <td>0.532295</td>\n",
       "      <td>-0.003339</td>\n",
       "      <td>-0.368858</td>\n",
       "      <td>0.572142</td>\n",
       "      <td>0.750772</td>\n",
       "    </tr>\n",
       "    <tr>\n",
       "      <th>iwelbo64</th>\n",
       "      <td>0.714111</td>\n",
       "      <td>-0.001580</td>\n",
       "      <td>-0.389843</td>\n",
       "      <td>0.610216</td>\n",
       "      <td>0.796548</td>\n",
       "    </tr>\n",
       "    <tr>\n",
       "      <th>iwelbo512</th>\n",
       "      <td>0.645257</td>\n",
       "      <td>0.009477</td>\n",
       "      <td>-0.401040</td>\n",
       "      <td>0.622878</td>\n",
       "      <td>0.817333</td>\n",
       "    </tr>\n",
       "  </tbody>\n",
       "</table>\n",
       "</div>"
      ],
      "text/plain": [
       "                ln_tau     beta0     beta1     beta2     beta3\n",
       "ground_truth  0.700000  0.000000 -0.430122  0.673026  0.869993\n",
       "signorm      -0.987636  0.004602 -0.268291  0.435698  0.549871\n",
       "elbo         -4.357932  0.005055 -0.298313  0.468683  0.612275\n",
       "iwelbo8       0.532295 -0.003339 -0.368858  0.572142  0.750772\n",
       "iwelbo64      0.714111 -0.001580 -0.389843  0.610216  0.796548\n",
       "iwelbo512     0.645257  0.009477 -0.401040  0.622878  0.817333"
      ]
     },
     "execution_count": 19,
     "metadata": {},
     "output_type": "execute_result"
    }
   ],
   "source": [
    "pd.DataFrame({key: expand_param(param) for key,param in params.items()}).T"
   ]
  },
  {
   "cell_type": "markdown",
   "metadata": {},
   "source": [
    "##### Bottom Line: IWELBO gives better estiamte than elbo or sigmoid normal integral approximation, even for simple this model. "
   ]
  },
  {
   "cell_type": "markdown",
   "metadata": {},
   "source": [
    "## MLMC"
   ]
  },
  {
   "cell_type": "code",
   "execution_count": 23,
   "metadata": {},
   "outputs": [],
   "source": [
    "def pointwise_dIWELBO(x, y, z, beta0, beta, ln_tau, mu, sigma):\n",
    "    \n",
    "    (N, T, D), (n_MC, N) = x.shape, z.shape\n",
    "    assert np.log2(n_MC)%1==0\n",
    "    \n",
    "    if n_MC == 1:\n",
    "        scores = pointwise_IWELBO(x, y, z, beta0, beta, ln_tau, mu, sigma)\n",
    "    else:\n",
    "        scores = pointwise_IWELBO(x, y, z, beta0, beta, ln_tau, mu, sigma)\n",
    "        scores -= (1/2.) * pointwise_IWELBO(x, y, z[:n_MC//2 ], beta0, beta, ln_tau, mu, sigma)\n",
    "        scores -= (1/2.) * pointwise_IWELBO(x, y, z[ n_MC//2:], beta0, beta, ln_tau, mu, sigma)\n",
    "    return scores"
   ]
  },
  {
   "cell_type": "code",
   "execution_count": 24,
   "metadata": {},
   "outputs": [],
   "source": [
    "def dIWELBO(x, y, beta0, beta, ln_tau, mu, sigma, level):\n",
    "    \n",
    "    N, = mu.shape\n",
    "    n_MC = 2**level\n",
    "    z = norm(loc=mu, scale=sigma).rvs([n_MC, N])\n",
    "    \n",
    "    diwelbo = tf.reduce_mean( pointwise_dIWELBO(x, y, z, beta0, beta, ln_tau, mu, sigma) )\n",
    "    return diwelbo"
   ]
  },
  {
   "cell_type": "code",
   "execution_count": 25,
   "metadata": {},
   "outputs": [],
   "source": [
    "def IWELBO_MLMC(x, y, beta0, beta, ln_tau, mu, sigma, max_level=8, w0=1-2.**(-3/2), randomize=False):\n",
    "    \n",
    "    N, T, D = x.shape\n",
    "\n",
    "    levels = np.arange(max_level)\n",
    "    weights = 2.**(-3/2*levels)\n",
    "    weights /= sum(weights)\n",
    "    weights = np.concatenate([[w0], (1-w0)*weights])\n",
    "    \n",
    "    if randomize==True:\n",
    "         Ns = np.random.multinomial(n=N, pvals=weights)\n",
    "        \n",
    "    elif randomize==False:\n",
    "        Ns = np.zeros_like(levels)\n",
    "        Ns = np.array([np.math.ceil(w*N) for w in weights], dtype=np.int)\n",
    "        Ns[0] = N - sum(Ns[1:])\n",
    "    \n",
    "    else:\n",
    "        raise(Exception(\"Invarid argument for 'randomize' of function IWELBO_MLMC. It must be True or False.\"))\n",
    "    \n",
    "    N_offset = 0\n",
    "    score = 0\n",
    "    for i, l in enumerate(levels):\n",
    "        if Ns[i]==0:\n",
    "            continue\n",
    "        x_tmp = x[N_offset:N_offset+Ns[i]]\n",
    "        y_tmp = y[N_offset:N_offset+Ns[i]]\n",
    "        mu_tmp = mu[N_offset:N_offset+Ns[i]]\n",
    "        sigma_tmp = sigma[N_offset:N_offset+Ns[i]]\n",
    "                       \n",
    "        if randomize==True:\n",
    "            score += dIWELBO(x_tmp, y_tmp, beta0, beta, ln_tau, mu_tmp, sigma_tmp, level=l) * Ns[i] / N / weights[i]   \n",
    "        elif randomize==False:\n",
    "            score += dIWELBO(x_tmp, y_tmp, beta0, beta, ln_tau, mu_tmp, sigma_tmp, level=l)\n",
    "        \n",
    "        N_offset += Ns[i]\n",
    "    return score"
   ]
  },
  {
   "cell_type": "code",
   "execution_count": 26,
   "metadata": {},
   "outputs": [
    {
     "data": {
      "text/plain": [
       "<tf.Tensor: shape=(), dtype=float64, numpy=-1.0742302070986356>"
      ]
     },
     "execution_count": 26,
     "metadata": {},
     "output_type": "execute_result"
    }
   ],
   "source": [
    "IWELBO_MLMC(x, y, beta0, beta, ln_tau, mu, sigma, max_level=10, w0=0.90, randomize=True)"
   ]
  },
  {
   "cell_type": "code",
   "execution_count": 27,
   "metadata": {},
   "outputs": [
    {
     "data": {
      "text/plain": [
       "<tf.Tensor: shape=(), dtype=float64, numpy=-1.0483677316301432>"
      ]
     },
     "execution_count": 27,
     "metadata": {},
     "output_type": "execute_result"
    }
   ],
   "source": [
    "IWELBO(x, y, beta0, beta, ln_tau, mu, sigma, n_MC=64)"
   ]
  },
  {
   "cell_type": "markdown",
   "metadata": {},
   "source": [
    "## MLMC codition check for objective"
   ]
  },
  {
   "cell_type": "code",
   "execution_count": 47,
   "metadata": {},
   "outputs": [],
   "source": [
    "def conv_stats_dIWELBO(x, y, beta0, beta, ln_tau, mu, sigma, level=1):\n",
    "    \n",
    "    N, = mu.shape\n",
    "    n_MC = 2**level\n",
    "    z = norm(loc=mu, scale=sigma).rvs([n_MC, N])\n",
    "    \n",
    "    diwelbos = pointwise_dIWELBO(x, y, z, beta0, beta, ln_tau, mu, sigma).numpy()\n",
    "    iwelbos = pointwise_IWELBO(x, y, z, beta0, beta, ln_tau, mu, sigma).numpy()\n",
    "    \n",
    "    return {'mean_dIWELBO':np.mean(diwelbos), \n",
    "            'mean_abs_dIWELBO':np.mean(np.abs(diwelbos)), \n",
    "            'mean_squared_dIWELBO':np.mean(diwelbos**2),\n",
    "            'var_dIWELBO':np.var(diwelbos), \n",
    "            'var_IWELBO':np.var(iwelbos)}"
   ]
  },
  {
   "cell_type": "code",
   "execution_count": 71,
   "metadata": {},
   "outputs": [],
   "source": [
    "def tmp(l):\n",
    "    N0 = 200000 if tf.test.is_gpu_available() else 10000 \n",
    "    x,y,_ = generate_data(N=N0//2**l, D=3, T=2, beta0=beta0, beta=beta, ln_tau=ln_tau)\n",
    "    mu, sigma = laplace_approx(x, y, beta0, beta, ln_tau)\n",
    "    return conv_stats_dIWELBO(x, y, beta0, beta, ln_tau, mu, sigma, level=l)\n",
    "\n",
    "conv_stats = [tmp(l) for l in range(10)]\n",
    "conv_stats = pd.DataFrame(conv_stats)"
   ]
  },
  {
   "cell_type": "code",
   "execution_count": 78,
   "metadata": {},
   "outputs": [
    {
     "data": {
      "image/png": "[encoded data removed]",
      "text/plain": [
       "<Figure size 432x288 with 1 Axes>"
      ]
     },
     "metadata": {
      "needs_background": "light"
     },
     "output_type": "display_data"
    }
   ],
   "source": [
    "plt.plot(conv_stats[['mean_abs_dIWELBO', 'var_dIWELBO', 'var_IWELBO']])\n",
    "plt.legend([r'$\\mathrm{E} | \\Delta \\mathrm{IW}$-$\\mathrm{ELBO}|$', \n",
    "            r'$\\mathrm{Var}[\\Delta \\mathrm{IW}$-$\\mathrm{ELBO}]$', \n",
    "            r'$\\mathrm{Var}[\\mathrm{IW}$-$\\mathrm{ELBO}]$'])\n",
    "plt.yscale('log')"
   ]
  },
  {
   "cell_type": "code",
   "execution_count": 36,
   "metadata": {},
   "outputs": [
    {
     "data": {
      "text/html": [
       "<div>\n",
       "<style scoped>\n",
       "    .dataframe tbody tr th:only-of-type {\n",
       "        vertical-align: middle;\n",
       "    }\n",
       "\n",
       "    .dataframe tbody tr th {\n",
       "        vertical-align: top;\n",
       "    }\n",
       "\n",
       "    .dataframe thead th {\n",
       "        text-align: right;\n",
       "    }\n",
       "</style>\n",
       "<table border=\"1\" class=\"dataframe\">\n",
       "  <thead>\n",
       "    <tr style=\"text-align: right;\">\n",
       "      <th></th>\n",
       "      <th>mean_dIWELBO</th>\n",
       "      <th>mean_abs_dIWELBO</th>\n",
       "      <th>mean_squared_dIWELBO</th>\n",
       "      <th>var_dIWELBO</th>\n",
       "      <th>var_IWELBO</th>\n",
       "    </tr>\n",
       "  </thead>\n",
       "  <tbody>\n",
       "    <tr>\n",
       "      <th>0</th>\n",
       "      <td>-1.105712</td>\n",
       "      <td>1.107827</td>\n",
       "      <td>1.610085e+00</td>\n",
       "      <td>3.874866e-01</td>\n",
       "      <td>0.387487</td>\n",
       "    </tr>\n",
       "    <tr>\n",
       "      <th>1</th>\n",
       "      <td>0.005920</td>\n",
       "      <td>0.005920</td>\n",
       "      <td>7.786304e-04</td>\n",
       "      <td>7.435898e-04</td>\n",
       "      <td>0.393635</td>\n",
       "    </tr>\n",
       "    <tr>\n",
       "      <th>2</th>\n",
       "      <td>0.003090</td>\n",
       "      <td>0.003090</td>\n",
       "      <td>1.625274e-04</td>\n",
       "      <td>1.529779e-04</td>\n",
       "      <td>0.395425</td>\n",
       "    </tr>\n",
       "    <tr>\n",
       "      <th>3</th>\n",
       "      <td>0.001801</td>\n",
       "      <td>0.001801</td>\n",
       "      <td>5.492146e-05</td>\n",
       "      <td>5.167855e-05</td>\n",
       "      <td>0.393086</td>\n",
       "    </tr>\n",
       "    <tr>\n",
       "      <th>4</th>\n",
       "      <td>0.000976</td>\n",
       "      <td>0.000976</td>\n",
       "      <td>1.321623e-05</td>\n",
       "      <td>1.226341e-05</td>\n",
       "      <td>0.395515</td>\n",
       "    </tr>\n",
       "    <tr>\n",
       "      <th>5</th>\n",
       "      <td>0.000615</td>\n",
       "      <td>0.000615</td>\n",
       "      <td>1.140798e-05</td>\n",
       "      <td>1.102940e-05</td>\n",
       "      <td>0.394883</td>\n",
       "    </tr>\n",
       "    <tr>\n",
       "      <th>6</th>\n",
       "      <td>0.000329</td>\n",
       "      <td>0.000329</td>\n",
       "      <td>2.764867e-06</td>\n",
       "      <td>2.656589e-06</td>\n",
       "      <td>0.388482</td>\n",
       "    </tr>\n",
       "    <tr>\n",
       "      <th>7</th>\n",
       "      <td>0.000158</td>\n",
       "      <td>0.000158</td>\n",
       "      <td>3.289712e-07</td>\n",
       "      <td>3.038934e-07</td>\n",
       "      <td>0.390376</td>\n",
       "    </tr>\n",
       "    <tr>\n",
       "      <th>8</th>\n",
       "      <td>0.000083</td>\n",
       "      <td>0.000083</td>\n",
       "      <td>1.581575e-07</td>\n",
       "      <td>1.512942e-07</td>\n",
       "      <td>0.394209</td>\n",
       "    </tr>\n",
       "    <tr>\n",
       "      <th>9</th>\n",
       "      <td>0.000046</td>\n",
       "      <td>0.000046</td>\n",
       "      <td>1.094377e-07</td>\n",
       "      <td>1.073244e-07</td>\n",
       "      <td>0.396185</td>\n",
       "    </tr>\n",
       "  </tbody>\n",
       "</table>\n",
       "</div>"
      ],
      "text/plain": [
       "   mean_dIWELBO  mean_abs_dIWELBO  mean_squared_dIWELBO   var_dIWELBO  \\\n",
       "0     -1.105712          1.107827          1.610085e+00  3.874866e-01   \n",
       "1      0.005920          0.005920          7.786304e-04  7.435898e-04   \n",
       "2      0.003090          0.003090          1.625274e-04  1.529779e-04   \n",
       "3      0.001801          0.001801          5.492146e-05  5.167855e-05   \n",
       "4      0.000976          0.000976          1.321623e-05  1.226341e-05   \n",
       "5      0.000615          0.000615          1.140798e-05  1.102940e-05   \n",
       "6      0.000329          0.000329          2.764867e-06  2.656589e-06   \n",
       "7      0.000158          0.000158          3.289712e-07  3.038934e-07   \n",
       "8      0.000083          0.000083          1.581575e-07  1.512942e-07   \n",
       "9      0.000046          0.000046          1.094377e-07  1.073244e-07   \n",
       "\n",
       "   var_IWELBO  \n",
       "0    0.387487  \n",
       "1    0.393635  \n",
       "2    0.395425  \n",
       "3    0.393086  \n",
       "4    0.395515  \n",
       "5    0.394883  \n",
       "6    0.388482  \n",
       "7    0.390376  \n",
       "8    0.394209  \n",
       "9    0.396185  "
      ]
     },
     "execution_count": 36,
     "metadata": {},
     "output_type": "execute_result"
    }
   ],
   "source": [
    "conv_stats"
   ]
  },
  {
   "cell_type": "markdown",
   "metadata": {},
   "source": [
    "## MLMC codition check for gradients"
   ]
  },
  {
   "cell_type": "code",
   "execution_count": 65,
   "metadata": {},
   "outputs": [],
   "source": [
    "def conv_stats_grad_dIWELBO(x, y, beta0, beta, ln_tau, mu, sigma, level=1):\n",
    "    \n",
    "    N, = mu.shape\n",
    "    n_MC = 2**level\n",
    "    z = norm(loc=mu, scale=sigma).rvs([n_MC, N])\n",
    "    \n",
    "    param = tf.concat([beta, [beta0], [ln_tau]], axis=0)\n",
    "    param = tf.Variable(param, dtype=tf.float64)\n",
    "\n",
    "    with tf.GradientTape(persistent=True) as g:\n",
    "        g.watch(param)\n",
    "        beta_  = param[:D]\n",
    "        beta0_ = param[D]\n",
    "        ln_tau_  = param[D+1]\n",
    "        mu, sigma = laplace_approx(x, y, beta0_.numpy(), beta_.numpy(), ln_tau_.numpy())\n",
    "        diwelbos = pointwise_dIWELBO(x, y, z, beta0_, beta_, ln_tau_, mu, sigma)\n",
    "        iwelbos = pointwise_IWELBO(x, y, z, beta0_, beta_, ln_tau_, mu, sigma)\n",
    "    \n",
    "    grad_iwelbos = g.jacobian(iwelbos, param)\n",
    "    grad_diwelbos = g.jacobian(diwelbos, param)\n",
    "    \n",
    "    del g\n",
    "    \n",
    "    return {'norm_mean_grad_dIWELBO': np.linalg.norm(np.mean(grad_diwelbos, axis=0)), \n",
    "            'mean_norm_grad_dIWELBO': np.mean(np.linalg.norm(grad_diwelbos, axis=1)), \n",
    "            'mean_squared_norm_grad_dIWELBO': np.mean(np.linalg.norm(grad_diwelbos, axis=1)**2),\n",
    "            'trace_covariance_grad_dIWELBO': np.sum(np.var(grad_diwelbos, axis=0)), \n",
    "            'trace_covariance_grad_IWELBO': np.sum(np.var(grad_iwelbos, axis=0))}"
   ]
  },
  {
   "cell_type": "code",
   "execution_count": null,
   "metadata": {},
   "outputs": [],
   "source": [
    "def tmp(l):\n",
    "    N0 = 200000 if tf.test.is_gpu_available() else 10000 \n",
    "    x,y,_ = generate_data(N=N0//2**l, D=3, T=2, beta0=beta0, beta=beta, ln_tau=ln_tau)\n",
    "    mu, sigma = laplace_approx(x, y, beta0, beta, ln_tau)\n",
    "    return conv_stats_grad_dIWELBO(x, y, beta0, beta, ln_tau, mu, sigma, level=l)\n",
    "\n",
    "conv_stats = [tmp(l) for l in range(10)]\n",
    "conv_stats = pd.DataFrame(conv_stats)"
   ]
  },
  {
   "cell_type": "code",
   "execution_count": null,
   "metadata": {},
   "outputs": [],
   "source": [
    "plt.plot(conv_stats[['norm_mean_grad_dIWELBO', 'trace_covariance_grad_dIWELBO', 'trace_covariance_grad_IWELBO']])\n",
    "plt.legend([r'$||\\mathrm{E} [\\nabla (\\Delta \\mathrm{IW}$-$\\mathrm{ELBO})]||_2^2$', \n",
    "            r'$\\mathrm{tr}(\\mathrm{Cov}[\\Delta \\mathrm{IW}$-$\\mathrm{ELBO}]) \\ = \\ \\mathrm{E}||\\nabla(\\Delta \\mathrm{IW}$-$\\mathrm{ELBO})||_2^2$', \n",
    "            r'$\\mathrm{tr}(\\mathrm{Cov}[\\Delta \\mathrm{IW}$-$\\mathrm{ELBO}]) \\ = \\ \\mathrm{E}||\\nabla(\\mathrm{IW}$-$\\mathrm{ELBO})||_2^2$'])\n",
    "plt.yscale('log')"
   ]
  },
  {
   "cell_type": "code",
   "execution_count": 36,
   "metadata": {},
   "outputs": [
    {
     "data": {
      "text/html": [
       "<div>\n",
       "<style scoped>\n",
       "    .dataframe tbody tr th:only-of-type {\n",
       "        vertical-align: middle;\n",
       "    }\n",
       "\n",
       "    .dataframe tbody tr th {\n",
       "        vertical-align: top;\n",
       "    }\n",
       "\n",
       "    .dataframe thead th {\n",
       "        text-align: right;\n",
       "    }\n",
       "</style>\n",
       "<table border=\"1\" class=\"dataframe\">\n",
       "  <thead>\n",
       "    <tr style=\"text-align: right;\">\n",
       "      <th></th>\n",
       "      <th>mean_dIWELBO</th>\n",
       "      <th>mean_abs_dIWELBO</th>\n",
       "      <th>mean_squared_dIWELBO</th>\n",
       "      <th>var_dIWELBO</th>\n",
       "      <th>var_IWELBO</th>\n",
       "    </tr>\n",
       "  </thead>\n",
       "  <tbody>\n",
       "    <tr>\n",
       "      <th>0</th>\n",
       "      <td>-1.105712</td>\n",
       "      <td>1.107827</td>\n",
       "      <td>1.610085e+00</td>\n",
       "      <td>3.874866e-01</td>\n",
       "      <td>0.387487</td>\n",
       "    </tr>\n",
       "    <tr>\n",
       "      <th>1</th>\n",
       "      <td>0.005920</td>\n",
       "      <td>0.005920</td>\n",
       "      <td>7.786304e-04</td>\n",
       "      <td>7.435898e-04</td>\n",
       "      <td>0.393635</td>\n",
       "    </tr>\n",
       "    <tr>\n",
       "      <th>2</th>\n",
       "      <td>0.003090</td>\n",
       "      <td>0.003090</td>\n",
       "      <td>1.625274e-04</td>\n",
       "      <td>1.529779e-04</td>\n",
       "      <td>0.395425</td>\n",
       "    </tr>\n",
       "    <tr>\n",
       "      <th>3</th>\n",
       "      <td>0.001801</td>\n",
       "      <td>0.001801</td>\n",
       "      <td>5.492146e-05</td>\n",
       "      <td>5.167855e-05</td>\n",
       "      <td>0.393086</td>\n",
       "    </tr>\n",
       "    <tr>\n",
       "      <th>4</th>\n",
       "      <td>0.000976</td>\n",
       "      <td>0.000976</td>\n",
       "      <td>1.321623e-05</td>\n",
       "      <td>1.226341e-05</td>\n",
       "      <td>0.395515</td>\n",
       "    </tr>\n",
       "    <tr>\n",
       "      <th>5</th>\n",
       "      <td>0.000615</td>\n",
       "      <td>0.000615</td>\n",
       "      <td>1.140798e-05</td>\n",
       "      <td>1.102940e-05</td>\n",
       "      <td>0.394883</td>\n",
       "    </tr>\n",
       "    <tr>\n",
       "      <th>6</th>\n",
       "      <td>0.000329</td>\n",
       "      <td>0.000329</td>\n",
       "      <td>2.764867e-06</td>\n",
       "      <td>2.656589e-06</td>\n",
       "      <td>0.388482</td>\n",
       "    </tr>\n",
       "    <tr>\n",
       "      <th>7</th>\n",
       "      <td>0.000158</td>\n",
       "      <td>0.000158</td>\n",
       "      <td>3.289712e-07</td>\n",
       "      <td>3.038934e-07</td>\n",
       "      <td>0.390376</td>\n",
       "    </tr>\n",
       "    <tr>\n",
       "      <th>8</th>\n",
       "      <td>0.000083</td>\n",
       "      <td>0.000083</td>\n",
       "      <td>1.581575e-07</td>\n",
       "      <td>1.512942e-07</td>\n",
       "      <td>0.394209</td>\n",
       "    </tr>\n",
       "    <tr>\n",
       "      <th>9</th>\n",
       "      <td>0.000046</td>\n",
       "      <td>0.000046</td>\n",
       "      <td>1.094377e-07</td>\n",
       "      <td>1.073244e-07</td>\n",
       "      <td>0.396185</td>\n",
       "    </tr>\n",
       "  </tbody>\n",
       "</table>\n",
       "</div>"
      ],
      "text/plain": [
       "   mean_dIWELBO  mean_abs_dIWELBO  mean_squared_dIWELBO   var_dIWELBO  \\\n",
       "0     -1.105712          1.107827          1.610085e+00  3.874866e-01   \n",
       "1      0.005920          0.005920          7.786304e-04  7.435898e-04   \n",
       "2      0.003090          0.003090          1.625274e-04  1.529779e-04   \n",
       "3      0.001801          0.001801          5.492146e-05  5.167855e-05   \n",
       "4      0.000976          0.000976          1.321623e-05  1.226341e-05   \n",
       "5      0.000615          0.000615          1.140798e-05  1.102940e-05   \n",
       "6      0.000329          0.000329          2.764867e-06  2.656589e-06   \n",
       "7      0.000158          0.000158          3.289712e-07  3.038934e-07   \n",
       "8      0.000083          0.000083          1.581575e-07  1.512942e-07   \n",
       "9      0.000046          0.000046          1.094377e-07  1.073244e-07   \n",
       "\n",
       "   var_IWELBO  \n",
       "0    0.387487  \n",
       "1    0.393635  \n",
       "2    0.395425  \n",
       "3    0.393086  \n",
       "4    0.395515  \n",
       "5    0.394883  \n",
       "6    0.388482  \n",
       "7    0.390376  \n",
       "8    0.394209  \n",
       "9    0.396185  "
      ]
     },
     "execution_count": 36,
     "metadata": {},
     "output_type": "execute_result"
    }
   ],
   "source": [
    "conv_stats"
   ]
  },
  {
   "cell_type": "markdown",
   "metadata": {},
   "source": [
    "## Comparison"
   ]
  },
  {
   "cell_type": "code",
   "execution_count": 182,
   "metadata": {},
   "outputs": [],
   "source": [
    "NMC_ests = []\n",
    "MLMC_ests = []\n",
    "RandMLMC_ests = []\n",
    "for i in range(10):\n",
    "    N0 = 200000 if tf.test.is_gpu_available() else 10000 \n",
    "    x,y,_ = generate_data(N=N0, D=3, T=2, beta0=beta0, beta=beta, ln_tau=ln_tau)\n",
    "    mu, sigma = laplace_approx(x, y, beta0, beta, ln_tau)\n",
    "    NMC_ests.append( IWELBO(x, y, beta0, beta, ln_tau, mu, sigma, n_MC=512).numpy() )\n",
    "    MLMC_ests.append( IWELBO_MLMC(x, y, beta0, beta, ln_tau, mu, sigma, max_level=9, w0=0.9, randomize=False).numpy() )\n",
    "    RandMLMC_ests.append( IWELBO_MLMC(x, y, beta0, beta, ln_tau, mu, sigma, max_level=9, w0=0.9, randomize=True).numpy() )"
   ]
  },
  {
   "cell_type": "code",
   "execution_count": 183,
   "metadata": {
    "scrolled": true
   },
   "outputs": [
    {
     "name": "stdout",
     "output_type": "stream",
     "text": [
      "std-div of NMC estimator:       0.002744448413707762\n",
      "std-div of MLMC estimator:      0.002959000711463536\n",
      "std-div of RandMLMC estimator:  0.01612633467973764\n"
     ]
    }
   ],
   "source": [
    "print(\"std-div of NMC estimator:      \", np.std(NMC_ests))\n",
    "print(\"std-div of MLMC estimator:     \", np.std(MLMC_ests))\n",
    "print(\"std-div of RandMLMC estimator: \", np.std(RandMLMC_ests))"
   ]
  },
  {
   "cell_type": "code",
   "execution_count": 179,
   "metadata": {},
   "outputs": [
    {
     "name": "stdout",
     "output_type": "stream",
     "text": [
      "955 ms ± 2.41 ms per loop (mean ± std. dev. of 7 runs, 1 loop each)\n"
     ]
    }
   ],
   "source": [
    "%%timeit\n",
    "IWELBO(x, y, beta0, beta, ln_tau, mu, sigma, n_MC=512)"
   ]
  },
  {
   "cell_type": "code",
   "execution_count": 176,
   "metadata": {},
   "outputs": [
    {
     "name": "stdout",
     "output_type": "stream",
     "text": [
      "54.2 ms ± 1.29 ms per loop (mean ± std. dev. of 7 runs, 10 loops each)\n"
     ]
    }
   ],
   "source": [
    "%%timeit\n",
    "IWELBO_MLMC(x, y, beta0, beta, ln_tau, mu, sigma, max_level=9, randomize=False)"
   ]
  },
  {
   "cell_type": "code",
   "execution_count": 176,
   "metadata": {},
   "outputs": [
    {
     "name": "stdout",
     "output_type": "stream",
     "text": [
      "54.2 ms ± 1.29 ms per loop (mean ± std. dev. of 7 runs, 10 loops each)\n"
     ]
    }
   ],
   "source": [
    "%%timeit\n",
    "IWELBO_MLMC(x, y, beta0, beta, ln_tau, mu, sigma, max_level=9, randomize=True)"
   ]
  },
  {
   "cell_type": "markdown",
   "metadata": {},
   "source": [
    "#### For finding nice configuration where MLMC wins NMC "
   ]
  },
  {
   "cell_type": "code",
   "execution_count": 31,
   "metadata": {},
   "outputs": [
    {
     "name": "stdout",
     "output_type": "stream",
     "text": [
      "0.04788357011927915 1.9797961449704604\n",
      "0.5448827651998229 2.0100303328671436\n"
     ]
    }
   ],
   "source": [
    "N,_ = y.shape\n",
    "n_MC = 2\n",
    "z = norm(loc=mu, scale=sigma).rvs([n_MC, N])\n",
    "\n",
    "diwelbos = pointwise_dIWELBO(x, y, z, beta0, beta, ln_tau, mu, sigma).numpy()\n",
    "score1 = np.var(NMC_ests) / diwelbos.mean()**2\n",
    "score2 = np.var(MLMC_ests) / np.var(NMC_ests)\n",
    "print(score1, score2)\n",
    "\n",
    "print(np.std(x@beta, axis=1).mean(), z_.std())"
   ]
  }
 ],
 "metadata": {
  "kernelspec": {
   "display_name": "Python 3",
   "language": "python",
   "name": "python3"
  },
  "language_info": {
   "codemirror_mode": {
    "name": "ipython",
    "version": 3
   },
   "file_extension": ".py",
   "mimetype": "text/x-python",
   "name": "python",
   "nbconvert_exporter": "python",
   "pygments_lexer": "ipython3",
   "version": "3.6.9"
  }
 },
 "nbformat": 4,
 "nbformat_minor": 4
}
