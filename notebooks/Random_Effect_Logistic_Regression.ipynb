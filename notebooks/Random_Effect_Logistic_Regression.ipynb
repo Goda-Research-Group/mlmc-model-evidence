{
 "cells": [
  {
   "cell_type": "markdown",
   "metadata": {},
   "source": [
    "# Random Effect Logistic Regression by MLMC Variational Bayes"
   ]
  },
  {
   "cell_type": "markdown",
   "metadata": {},
   "source": [
    "## Model Description"
   ]
  },
  {
   "cell_type": "markdown",
   "metadata": {},
   "source": [
    "##### Random Effect Models:\n",
    "For $n=1,...,N$,\n",
    "<br>&nbsp;&nbsp;&nbsp;&nbsp;\n",
    "$Z_n \\sim N(0,\\tau^2)$\n",
    "<br>&nbsp;&nbsp;&nbsp;&nbsp;\n",
    "$Y_{n,t} \\sim \\text{Bernoulli}\\left(\\frac{1}{1+\\exp(- Z_n - \\beta_0 - \\beta^T x_{n,t})}\\right)$\n",
    "<br>\n",
    "for $t=1, ..., T$. This model carries out dimentionality reduction of binary observations $y_{n,k}$'s. Here, the dimention of $\\beta$ and $x_{n,t}$ is $D$.<br>\n",
    "As variational approximation of the posterior $p(z_n|y_n)$, we use $q(z_n)= N(z_n;\\mu_n, \\sigma_n^2)$."
   ]
  },
  {
   "cell_type": "markdown",
   "metadata": {},
   "source": [
    "To constrain the parameter $\\tau^2>0$, we parametrize $\\tau^2$ as $\\tau^2 = \\mathrm{softplus}(\\alpha)$, where $\\mathrm{softplus}(x) := \\log(1+\\exp(x))>0$."
   ]
  },
  {
   "cell_type": "markdown",
   "metadata": {},
   "source": [
    "##### Possible Extension:\n",
    "\n",
    "By adding $\\bar x_n=\\frac{1}{T}\\sum_t x_{n,t}$ to the predictors as \n",
    "<br>&nbsp;&nbsp;&nbsp;&nbsp;\n",
    "$Y_{n,t} \\sim \\text{Bernoulli}\\left(\\frac{1}{1+\\exp(- Z_n - \\beta_0 - \\beta^T x_{n,t}- \\gamma\\bar x_n)}\\right)$,\n",
    "<br>\n",
    "we can obtain correlated random effect models."
   ]
  },
  {
   "cell_type": "markdown",
   "metadata": {},
   "source": [
    "#### We do not consider the use of Renyi divergences"
   ]
  },
  {
   "cell_type": "markdown",
   "metadata": {},
   "source": [
    "## Import Packages"
   ]
  },
  {
   "cell_type": "code",
   "execution_count": 1,
   "metadata": {},
   "outputs": [],
   "source": [
    "# Turn GPUs off\n",
    "import os\n",
    "os.environ[\"CUDA_VISIBLE_DEVICES\"] = \"-1\""
   ]
  },
  {
   "cell_type": "code",
   "execution_count": 2,
   "metadata": {},
   "outputs": [],
   "source": [
    "import tensorflow as tf\n",
    "import tensorflow_probability as tfp\n",
    "import numpy as np\n",
    "import pandas as pd\n",
    "from scipy.stats import bernoulli, norm\n",
    "from matplotlib import pyplot as plt"
   ]
  },
  {
   "cell_type": "code",
   "execution_count": 3,
   "metadata": {},
   "outputs": [
    {
     "name": "stdout",
     "output_type": "stream",
     "text": [
      "WARNING:tensorflow:From <ipython-input-3-17bb7203622b>:1: is_gpu_available (from tensorflow.python.framework.test_util) is deprecated and will be removed in a future version.\n",
      "Instructions for updating:\n",
      "Use `tf.config.list_physical_devices('GPU')` instead.\n"
     ]
    },
    {
     "data": {
      "text/plain": [
       "False"
      ]
     },
     "execution_count": 3,
     "metadata": {},
     "output_type": "execute_result"
    }
   ],
   "source": [
    "tf.test.is_gpu_available()"
   ]
  },
  {
   "cell_type": "markdown",
   "metadata": {},
   "source": [
    "## Utilities"
   ]
  },
  {
   "cell_type": "code",
   "execution_count": 4,
   "metadata": {},
   "outputs": [],
   "source": [
    "sigmoid = lambda x: 1/(1+np.exp(-x))\n",
    "softplus = lambda x: np.log(1+np.exp(x))\n",
    "as_tf_float = lambda x: tf.cast(x, tf.float64)\n",
    "\n",
    "def tf_logsumexp(ary, axis=1, keepdims=False):\n",
    "    return tf.math.reduce_logsumexp(ary, axis=axis, keepdims=keepdims)\n",
    "\n",
    "def tf_logmeanexp(ary, axis=1, keepdims=False):\n",
    "    return tf.math.reduce_logsumexp(ary, axis=axis, keepdims=keepdims) \\\n",
    "        - tf.math.log(as_tf_float(ary.shape[axis]))"
   ]
  },
  {
   "cell_type": "markdown",
   "metadata": {},
   "source": [
    "## Generate Toy Dataset"
   ]
  },
  {
   "cell_type": "code",
   "execution_count": 5,
   "metadata": {},
   "outputs": [],
   "source": [
    "N = 1000\n",
    "D = 3\n",
    "T = 2"
   ]
  },
  {
   "cell_type": "code",
   "execution_count": 6,
   "metadata": {},
   "outputs": [],
   "source": [
    "# data\n",
    "# We assume that we have infinite amount of data.\n",
    "# Thus, generator of the data is implemented.\n",
    "def generate_data(N, D, T, beta0, beta, alpha):\n",
    "    z = np.random.randn(N) * softplus(alpha)**(1/2.)\n",
    "    x = np.random.randn(N*T*D).reshape([N,T,D])\n",
    "    y = bernoulli(p=sigmoid(beta0+x@beta+z.reshape([N,1]))).rvs()\n",
    "    return x,y,z"
   ]
  },
  {
   "cell_type": "markdown",
   "metadata": {},
   "source": [
    "To constrain the parameter $\\tau^2>0$, we parametrize $\\tau^2$ as $\\tau^2 = \\mathrm{softplus}(\\alpha)$, where $\\mathrm{softplus}(x) := \\log(1+\\exp(x))>0$."
   ]
  },
  {
   "cell_type": "code",
   "execution_count": 7,
   "metadata": {},
   "outputs": [],
   "source": [
    "# paramters\n",
    "alpha = np.float64(4.)\n",
    "beta0 = np.float64(0.)\n",
    "beta  = np.random.randn(D) / np.sqrt(D)\n",
    "param0 = {\n",
    "    'alpha': alpha,\n",
    "    'beta0': beta0,\n",
    "    'beta': beta\n",
    "}"
   ]
  },
  {
   "cell_type": "code",
   "execution_count": 8,
   "metadata": {
    "scrolled": true
   },
   "outputs": [],
   "source": [
    "x,y,z = generate_data(N, D, T, beta0, beta, alpha)"
   ]
  },
  {
   "cell_type": "markdown",
   "metadata": {},
   "source": [
    "## Sigmoid Normal Integral Approximation of Evidence\n",
    "\n",
    "Ref: Barber Bishop(1998), PRML(2006)"
   ]
  },
  {
   "cell_type": "code",
   "execution_count": 9,
   "metadata": {},
   "outputs": [],
   "source": [
    "def sigmoid_normal_prob(x, beta0, beta, alpha):\n",
    "    N, T, D  = x.shape\n",
    "    kappa = 1 / (1 + np.pi*tf.math.softplus(alpha)/8)**(1/2)\n",
    "    return tf.math.sigmoid( kappa * (beta0 + tf.reshape( x@tf.reshape(beta, [D,1]), [N, T])) )"
   ]
  },
  {
   "cell_type": "code",
   "execution_count": 10,
   "metadata": {},
   "outputs": [],
   "source": [
    "def sigmoid_normal_likelihood(x, y, beta0, beta, alpha):\n",
    "    pred_prob = sigmoid_normal_prob(x, beta0, beta, alpha)\n",
    "    score = tf.reduce_mean(tf.reduce_sum(\n",
    "        tf.math.log(pred_prob)*y + tf.math.log(1-pred_prob)*(1-y), \n",
    "        axis=1))\n",
    "    return score"
   ]
  },
  {
   "cell_type": "markdown",
   "metadata": {},
   "source": [
    "## Laplace Approximation of Posterior"
   ]
  },
  {
   "cell_type": "code",
   "execution_count": 11,
   "metadata": {},
   "outputs": [],
   "source": [
    "def laplace_approx(x, y, beta0, beta, alpha):\n",
    "    N, T, D  = x.shape\n",
    "    z = np.zeros([N, 1])\n",
    "    _sig = lambda z: sigmoid( z + beta0 + x@beta )\n",
    "    for i in range(10):\n",
    "        sig = _sig(z)\n",
    "        hessian = 1/softplus(alpha) + np.sum( sig*(1-sig), axis=1, keepdims=True)\n",
    "        grad    = z/softplus(alpha) + np.sum( sig - y,     axis=1, keepdims=True)\n",
    "        z -= grad / hessian\n",
    "    mu = z.reshape([N])\n",
    "    sigma = (1 / hessian).reshape([N])**(1/2)\n",
    "    return mu, sigma"
   ]
  },
  {
   "cell_type": "code",
   "execution_count": 12,
   "metadata": {},
   "outputs": [],
   "source": [
    "mu, sigma = laplace_approx(x, y, beta0, beta, alpha)"
   ]
  },
  {
   "cell_type": "code",
   "execution_count": 13,
   "metadata": {},
   "outputs": [
    {
     "data": {
      "text/plain": [
       "(4.143633743589595, 2.0612395684360387)"
      ]
     },
     "execution_count": 13,
     "metadata": {},
     "output_type": "execute_result"
    }
   ],
   "source": [
    "z.var(), (z-mu).var()"
   ]
  },
  {
   "cell_type": "markdown",
   "metadata": {},
   "source": [
    "## IWELBO approximation of Evidence"
   ]
  },
  {
   "cell_type": "code",
   "execution_count": 14,
   "metadata": {},
   "outputs": [],
   "source": [
    "def pointwise_IWELBO(x, y, z, beta0, beta, alpha, mu, sigma):\n",
    "    \"\"\"\n",
    "    Compute IWELBOs for i = 1,...,n using n_MC samples Zn. \n",
    "    Here, we assume that n<N where N is the size of data.\n",
    "    \n",
    "    Arguments:\n",
    "    x: 3-d array of size [N, T, D]\n",
    "    y: 2-d array of size [N, T]\n",
    "    z: 1-d array of size [n_MC, N]\n",
    "    beta: 1-d array of size [D]\n",
    "    mu: 1-d array of [N]\n",
    "    sigma**2: 1-d array of [N]\n",
    "    \n",
    "    Returns:\n",
    "    iwelbo: iwelbo, whose size is [N]\n",
    "    \"\"\"\n",
    "\n",
    "    (N, T, D), (n_MC, n) = x.shape, z.shape\n",
    "    y = as_tf_float( tf.reshape(y, [1,N,T]) )\n",
    "    mu = tf.reshape(mu, [1,N])\n",
    "    sigma = tf.reshape(sigma, [1,N])\n",
    "    \n",
    "    y_logits = tf.convert_to_tensor( beta0\\\n",
    "                                    + tf.reshape( x@tf.reshape(beta, [D,1]), [1, N, T])\\\n",
    "                                    + tf.reshape(z, [n_MC, N, 1]) \n",
    "                                   )\n",
    "    p_y = tfp.distributions.Bernoulli(logits=y_logits)\n",
    "    p_z = tfp.distributions.Normal(loc=np.zeros([1, N]), scale=tf.math.softplus(alpha)**(1/2.))\n",
    "    q_z = tfp.distributions.Normal(loc=mu, scale=sigma)\n",
    "    \n",
    "    log_prob_ratio = \\\n",
    "        tf.reduce_sum( p_y.log_prob(y), axis=2)\\\n",
    "        + p_z.log_prob(z)\\\n",
    "        - q_z.log_prob(z)\n",
    "    \n",
    "    iwelbo = tf_logmeanexp(log_prob_ratio, axis=0)\n",
    "    return iwelbo"
   ]
  },
  {
   "cell_type": "code",
   "execution_count": 15,
   "metadata": {},
   "outputs": [],
   "source": [
    "def IWELBO(x, y, beta0, beta, alpha, mu, sigma, n_MC):\n",
    "    N, = mu.shape\n",
    "    z = norm(loc=mu, scale=sigma).rvs([n_MC, N])\n",
    "    iwelbo = tf.reduce_mean( pointwise_IWELBO(x, y, z, beta0, beta, alpha, mu, sigma) )\n",
    "    return iwelbo"
   ]
  },
  {
   "cell_type": "code",
   "execution_count": 16,
   "metadata": {},
   "outputs": [],
   "source": [
    "signorm_likelihood = sigmoid_normal_likelihood(x, y, beta0, beta, alpha).numpy()\n",
    "elbo_likelihood = IWELBO(x, y, beta0, beta, alpha, mu, sigma, n_MC=1).numpy()\n",
    "iwelbo_likelihood = IWELBO(x, y, beta0, beta, alpha, mu, sigma, n_MC=64).numpy()"
   ]
  },
  {
   "cell_type": "code",
   "execution_count": 17,
   "metadata": {},
   "outputs": [
    {
     "data": {
      "text/plain": [
       "(-1.2847267502723065, -1.2512783976367923, -1.2291615676265808)"
      ]
     },
     "execution_count": 17,
     "metadata": {},
     "output_type": "execute_result"
    }
   ],
   "source": [
    "signorm_likelihood, elbo_likelihood, iwelbo_likelihood"
   ]
  },
  {
   "cell_type": "markdown",
   "metadata": {},
   "source": [
    "## Maximum Likelihood by Different Approximation"
   ]
  },
  {
   "cell_type": "code",
   "execution_count": 18,
   "metadata": {},
   "outputs": [
    {
     "name": "stdout",
     "output_type": "stream",
     "text": [
      "training signorm...\n",
      "#iter: 0,\tloss: 1.3862943611198892\n",
      "#iter: 200,\tloss: 1.3338499316608192\n",
      "#iter: 400,\tloss: 1.2233954337681603\n",
      "#iter: 600,\tloss: 1.3211332752467222\n",
      "#iter: 800,\tloss: 1.3194620191368733\n",
      "#iter: 1000,\tloss: 1.3010750886336444\n",
      "#iter: 1200,\tloss: 1.277781155383243\n",
      "#iter: 1400,\tloss: 1.3180988694657436\n",
      "#iter: 1600,\tloss: 1.3298549877572186\n",
      "#iter: 1800,\tloss: 1.2757703866722734\n",
      "#iter: 2000,\tloss: 1.2794990581094574\n",
      "\n",
      "training elbo...\n",
      "#iter: 0,\tloss: 1.3416447708365735\n",
      "#iter: 200,\tloss: 1.23367775208622\n",
      "#iter: 400,\tloss: 1.3118062453864912\n",
      "#iter: 600,\tloss: 1.2243050627561685\n",
      "#iter: 800,\tloss: 1.236567895027745\n",
      "#iter: 1000,\tloss: 1.2160665651814317\n",
      "#iter: 1200,\tloss: 1.216889043716758\n",
      "#iter: 1400,\tloss: 1.2531154427446582\n",
      "#iter: 1600,\tloss: 1.2305513866203504\n",
      "#iter: 1800,\tloss: 1.256499890484457\n",
      "#iter: 2000,\tloss: 1.2540414866439926\n",
      "\n",
      "training iwelbo8...\n",
      "#iter: 0,\tloss: 1.3280620267221166\n",
      "#iter: 200,\tloss: 1.2472004017257066\n",
      "#iter: 400,\tloss: 1.2915956360053458\n",
      "#iter: 600,\tloss: 1.2425769985835275\n",
      "#iter: 800,\tloss: 1.2186765289017907\n",
      "#iter: 1000,\tloss: 1.2833900558759672\n",
      "#iter: 1200,\tloss: 1.2052158133716302\n",
      "#iter: 1400,\tloss: 1.2660714715529324\n",
      "#iter: 1600,\tloss: 1.2082814523515237\n",
      "#iter: 1800,\tloss: 1.24953997892806\n",
      "#iter: 2000,\tloss: 1.264099788191427\n",
      "\n",
      "training iwelbo64...\n",
      "#iter: 0,\tloss: 1.3372247747442265\n",
      "#iter: 200,\tloss: 1.2486411899740262\n",
      "#iter: 400,\tloss: 1.246422219788408\n",
      "#iter: 600,\tloss: 1.2298940123276885\n",
      "#iter: 800,\tloss: 1.2252000358596213\n",
      "#iter: 1000,\tloss: 1.2561046649758152\n",
      "#iter: 1200,\tloss: 1.2171278312532379\n",
      "#iter: 1400,\tloss: 1.2816552451468375\n",
      "#iter: 1600,\tloss: 1.2328643192449973\n",
      "#iter: 1800,\tloss: 1.2136628667843152\n",
      "#iter: 2000,\tloss: 1.2550543887324954\n",
      "\n",
      "training iwelbo512...\n",
      "#iter: 0,\tloss: 1.332080121444606\n",
      "#iter: 200,\tloss: 1.289743574907066\n",
      "#iter: 400,\tloss: 1.205385429283509\n",
      "#iter: 600,\tloss: 1.233951474893548\n",
      "#iter: 800,\tloss: 1.2224126041443102\n",
      "#iter: 1000,\tloss: 1.1961302457384015\n",
      "#iter: 1200,\tloss: 1.237565866301775\n",
      "#iter: 1400,\tloss: 1.1924404279782232\n",
      "#iter: 1600,\tloss: 1.2549437273039703\n",
      "#iter: 1800,\tloss: 1.2589945452876798\n",
      "#iter: 2000,\tloss: 1.2118366028738032\n",
      "\n"
     ]
    }
   ],
   "source": [
    "objectives = {\n",
    "    \"signorm\": lambda beta0, beta, alpha, mu, sigma: sigmoid_normal_likelihood(x, y, beta0, beta, alpha),\n",
    "    \"elbo\": lambda beta0, beta, alpha, mu, sigma: IWELBO(x, y, beta0, beta, alpha, mu, sigma, n_MC=1),\n",
    "    \"iwelbo8\": lambda beta0, beta, alpha, mu, sigma: IWELBO(x, y, beta0, beta, alpha, mu, sigma, n_MC=8),\n",
    "    \"iwelbo64\": lambda beta0, beta, alpha, mu, sigma: IWELBO(x, y, beta0, beta, alpha, mu, sigma, n_MC=64),\n",
    "    \"iwelbo512\": lambda beta0, beta, alpha, mu, sigma: IWELBO(x, y, beta0, beta, alpha, mu, sigma, n_MC=512)\n",
    "}\n",
    "params = {\"ground_truth\": param0}\n",
    "\n",
    "N,T,D = (1000, 2, 3) if tf.test.is_gpu_available() else (200, 2, 3)\n",
    "\n",
    "for obj_name, obj_func in objectives.items():\n",
    "    \n",
    "    print(\"training {}...\".format(obj_name))\n",
    "    \n",
    "    beta0_ = tf.Variable(0., dtype=tf.float64)\n",
    "    beta_  = tf.Variable(np.zeros([D]), dtype=tf.float64)\n",
    "    alpha_   = tf.Variable(1., dtype=tf.float64)\n",
    "    \n",
    "    # Gradient Descent\n",
    "    for t in range(2001):\n",
    "        \n",
    "        rho_t = 0.5/(1+t)**0.7\n",
    "        x,y,_ = generate_data(N, D, T, beta0, beta, alpha)\n",
    "\n",
    "        with tf.GradientTape() as g:\n",
    "            g.watch([beta0_, beta_, alpha_])\n",
    "            mu, sigma = laplace_approx(x, y, beta0_.numpy(), beta_.numpy(), alpha_.numpy())\n",
    "            score = obj_func(beta0_, beta_, alpha_, mu, sigma)\n",
    "        dbeta0_, dbeta_, dalpha_ = g.gradient(score, [beta0_, beta_, alpha_])\n",
    "\n",
    "        beta0_ = beta0_ + rho_t*dbeta0_\n",
    "        beta_ = beta_ + rho_t*dbeta_\n",
    "        alpha_ = alpha_ + dalpha_\n",
    "        if t%200==0:\n",
    "            print(\"#iter: {},\\tloss: {}\".format(t, -score.numpy()))\n",
    "    \n",
    "    params[obj_name] = {\n",
    "        'alpha': alpha_.numpy(),\n",
    "        'beta0': beta0_.numpy(),\n",
    "        'beta': beta_.numpy()\n",
    "    }\n",
    "    print()"
   ]
  },
  {
   "cell_type": "code",
   "execution_count": 19,
   "metadata": {
    "scrolled": true
   },
   "outputs": [],
   "source": [
    "def expand(key, val):\n",
    "    # expand {\"name\":array([1,2,3,4,5])}\n",
    "    # into {\"name1\":1, \"name2\":2, ..., \"name5\":5}\n",
    "    if type(val)==np.ndarray:\n",
    "        return {key+str(i+1): x for i,x in enumerate(val)} \n",
    "    else:\n",
    "        return {key:val} \n",
    "\n",
    "def expand_param(param):\n",
    "    expanded_param = {}\n",
    "    for key, val in param.items():\n",
    "        expanded_param.update(expand(key,val))\n",
    "    return expanded_param"
   ]
  },
  {
   "cell_type": "code",
   "execution_count": 20,
   "metadata": {},
   "outputs": [
    {
     "data": {
      "text/html": [
       "<div>\n",
       "<style scoped>\n",
       "    .dataframe tbody tr th:only-of-type {\n",
       "        vertical-align: middle;\n",
       "    }\n",
       "\n",
       "    .dataframe tbody tr th {\n",
       "        vertical-align: top;\n",
       "    }\n",
       "\n",
       "    .dataframe thead th {\n",
       "        text-align: right;\n",
       "    }\n",
       "</style>\n",
       "<table border=\"1\" class=\"dataframe\">\n",
       "  <thead>\n",
       "    <tr style=\"text-align: right;\">\n",
       "      <th></th>\n",
       "      <th>alpha</th>\n",
       "      <th>beta0</th>\n",
       "      <th>beta1</th>\n",
       "      <th>beta2</th>\n",
       "      <th>beta3</th>\n",
       "    </tr>\n",
       "  </thead>\n",
       "  <tbody>\n",
       "    <tr>\n",
       "      <th>ground_truth</th>\n",
       "      <td>4.000000</td>\n",
       "      <td>0.000000</td>\n",
       "      <td>-0.510683</td>\n",
       "      <td>0.624459</td>\n",
       "      <td>-0.606740</td>\n",
       "    </tr>\n",
       "    <tr>\n",
       "      <th>signorm</th>\n",
       "      <td>0.037412</td>\n",
       "      <td>-0.003436</td>\n",
       "      <td>-0.356226</td>\n",
       "      <td>0.430398</td>\n",
       "      <td>-0.424138</td>\n",
       "    </tr>\n",
       "    <tr>\n",
       "      <th>elbo</th>\n",
       "      <td>0.759746</td>\n",
       "      <td>0.005266</td>\n",
       "      <td>-0.385563</td>\n",
       "      <td>0.467172</td>\n",
       "      <td>-0.450814</td>\n",
       "    </tr>\n",
       "    <tr>\n",
       "      <th>iwelbo8</th>\n",
       "      <td>2.289314</td>\n",
       "      <td>0.006456</td>\n",
       "      <td>-0.427965</td>\n",
       "      <td>0.531240</td>\n",
       "      <td>-0.511883</td>\n",
       "    </tr>\n",
       "    <tr>\n",
       "      <th>iwelbo64</th>\n",
       "      <td>3.285273</td>\n",
       "      <td>-0.002133</td>\n",
       "      <td>-0.442995</td>\n",
       "      <td>0.543898</td>\n",
       "      <td>-0.530270</td>\n",
       "    </tr>\n",
       "    <tr>\n",
       "      <th>iwelbo512</th>\n",
       "      <td>3.494036</td>\n",
       "      <td>-0.002588</td>\n",
       "      <td>-0.454266</td>\n",
       "      <td>0.555779</td>\n",
       "      <td>-0.540395</td>\n",
       "    </tr>\n",
       "  </tbody>\n",
       "</table>\n",
       "</div>"
      ],
      "text/plain": [
       "                 alpha     beta0     beta1     beta2     beta3\n",
       "ground_truth  4.000000  0.000000 -0.510683  0.624459 -0.606740\n",
       "signorm       0.037412 -0.003436 -0.356226  0.430398 -0.424138\n",
       "elbo          0.759746  0.005266 -0.385563  0.467172 -0.450814\n",
       "iwelbo8       2.289314  0.006456 -0.427965  0.531240 -0.511883\n",
       "iwelbo64      3.285273 -0.002133 -0.442995  0.543898 -0.530270\n",
       "iwelbo512     3.494036 -0.002588 -0.454266  0.555779 -0.540395"
      ]
     },
     "execution_count": 20,
     "metadata": {},
     "output_type": "execute_result"
    }
   ],
   "source": [
    "pd.DataFrame({key: expand_param(param) for key,param in params.items()}).T"
   ]
  },
  {
   "cell_type": "markdown",
   "metadata": {},
   "source": [
    "##### Bottom Line: IWELBO gives better estiamte than elbo or sigmoid normal integral approximation, even for simple this model. "
   ]
  },
  {
   "cell_type": "markdown",
   "metadata": {},
   "source": [
    "## MLMC"
   ]
  },
  {
   "cell_type": "code",
   "execution_count": 21,
   "metadata": {},
   "outputs": [],
   "source": [
    "def pointwise_dIWELBO(x, y, z, beta0, beta, alpha, mu, sigma):\n",
    "    \n",
    "    (N, T, D), (n_MC, N) = x.shape, z.shape\n",
    "    assert np.log2(n_MC)%1==0\n",
    "    \n",
    "    if n_MC == 1:\n",
    "        scores = pointwise_IWELBO(x, y, z, beta0, beta, alpha, mu, sigma)\n",
    "    else:\n",
    "        scores = pointwise_IWELBO(x, y, z, beta0, beta, alpha, mu, sigma)\n",
    "        scores -= (1/2.) * pointwise_IWELBO(x, y, z[:n_MC//2 ], beta0, beta, alpha, mu, sigma)\n",
    "        scores -= (1/2.) * pointwise_IWELBO(x, y, z[ n_MC//2:], beta0, beta, alpha, mu, sigma)\n",
    "    return scores"
   ]
  },
  {
   "cell_type": "code",
   "execution_count": 22,
   "metadata": {},
   "outputs": [],
   "source": [
    "def dIWELBO(x, y, beta0, beta, alpha, mu, sigma, level):\n",
    "    \n",
    "    N, = mu.shape\n",
    "    n_MC = 2**level\n",
    "    z = norm(loc=mu, scale=sigma).rvs([n_MC, N])\n",
    "    \n",
    "    diwelbo = tf.reduce_mean( pointwise_dIWELBO(x, y, z, beta0, beta, alpha, mu, sigma) )\n",
    "    return diwelbo"
   ]
  },
  {
   "cell_type": "code",
   "execution_count": 23,
   "metadata": {},
   "outputs": [],
   "source": [
    "def IWELBO_MLMC(x, y, beta0, beta, alpha, mu, sigma, max_level=8, w0=1-2.**(-3/2), b=2, randomize=False):\n",
    "    \n",
    "    N, T, D = x.shape\n",
    "\n",
    "    levels = np.arange(max_level)\n",
    "    weights = 2.**(-(b+1)/2*levels)\n",
    "    weights /= sum(weights)\n",
    "    weights = np.concatenate([[w0], (1-w0)*weights])\n",
    "    \n",
    "    if randomize==True:\n",
    "         Ns = np.random.multinomial(n=N, pvals=weights)\n",
    "        \n",
    "    elif randomize==False:\n",
    "        Ns = np.zeros_like(levels)\n",
    "        Ns = np.array([np.math.ceil(w*N) for w in weights], dtype=np.int)\n",
    "        Ns[0] = N - sum(Ns[1:])\n",
    "    \n",
    "    else:\n",
    "        raise(Exception(\"Invarid argument for 'randomize' of function IWELBO_MLMC. It must be True or False.\"))\n",
    "    \n",
    "    N_offset = 0\n",
    "    score = 0\n",
    "    for i, l in enumerate(levels):\n",
    "        if Ns[i]==0:\n",
    "            continue\n",
    "        x_tmp = x[N_offset:N_offset+Ns[i]]\n",
    "        y_tmp = y[N_offset:N_offset+Ns[i]]\n",
    "        mu_tmp = mu[N_offset:N_offset+Ns[i]]\n",
    "        sigma_tmp = sigma[N_offset:N_offset+Ns[i]]\n",
    "                       \n",
    "        if randomize==True:\n",
    "            score += dIWELBO(x_tmp, y_tmp, beta0, beta, alpha, mu_tmp, sigma_tmp, level=l) * Ns[i] / N / weights[i]   \n",
    "        elif randomize==False:\n",
    "            score += dIWELBO(x_tmp, y_tmp, beta0, beta, alpha, mu_tmp, sigma_tmp, level=l)\n",
    "        \n",
    "        N_offset += Ns[i]\n",
    "    return score"
   ]
  },
  {
   "cell_type": "code",
   "execution_count": 24,
   "metadata": {},
   "outputs": [],
   "source": [
    "x,y,_ = generate_data(N=10000, D=3, T=2, beta0=beta0, beta=beta, alpha=alpha)\n",
    "mu, sigma = laplace_approx(x, y, beta0, beta, alpha)    "
   ]
  },
  {
   "cell_type": "code",
   "execution_count": 25,
   "metadata": {},
   "outputs": [
    {
     "data": {
      "text/plain": [
       "<tf.Tensor: shape=(), dtype=float64, numpy=-1.2419192634593363>"
      ]
     },
     "execution_count": 25,
     "metadata": {},
     "output_type": "execute_result"
    }
   ],
   "source": [
    "IWELBO_MLMC(x, y, beta0, beta, alpha, mu, sigma, max_level=6, w0=0.9, randomize=True)"
   ]
  },
  {
   "cell_type": "code",
   "execution_count": 26,
   "metadata": {},
   "outputs": [
    {
     "data": {
      "text/plain": [
       "<tf.Tensor: shape=(), dtype=float64, numpy=-1.2396203109690793>"
      ]
     },
     "execution_count": 26,
     "metadata": {},
     "output_type": "execute_result"
    }
   ],
   "source": [
    "IWELBO(x, y, beta0, beta, alpha, mu, sigma, n_MC=64)"
   ]
  },
  {
   "cell_type": "markdown",
   "metadata": {},
   "source": [
    "## MLMC codition check for objective"
   ]
  },
  {
   "cell_type": "code",
   "execution_count": 27,
   "metadata": {},
   "outputs": [],
   "source": [
    "def conv_stats_dIWELBO(x, y, beta0, beta, alpha, mu, sigma, level=1):\n",
    "    \n",
    "    N, = mu.shape\n",
    "    n_MC = 2**level\n",
    "    z = norm(loc=mu, scale=sigma).rvs([n_MC, N])\n",
    "    \n",
    "    diwelbos = pointwise_dIWELBO(x, y, z, beta0, beta, alpha, mu, sigma).numpy()\n",
    "    iwelbos = pointwise_IWELBO(x, y, z, beta0, beta, alpha, mu, sigma).numpy()\n",
    "    \n",
    "    return {'mean_dIWELBO':np.mean(diwelbos), \n",
    "            'mean_abs_dIWELBO':np.mean(np.abs(diwelbos)), \n",
    "            'mean_squared_dIWELBO':np.mean(diwelbos**2),\n",
    "            'var_dIWELBO':np.var(diwelbos), \n",
    "            'var_IWELBO':np.var(iwelbos)}"
   ]
  },
  {
   "cell_type": "code",
   "execution_count": 28,
   "metadata": {},
   "outputs": [],
   "source": [
    "def tmp(l):\n",
    "    N0 = 2000000\n",
    "    x,y,_ = generate_data(N=N0//2**l, D=3, T=2, beta0=beta0, beta=beta, alpha=alpha)\n",
    "    mu, sigma = laplace_approx(x, y, beta0, beta, alpha)\n",
    "    return conv_stats_dIWELBO(x, y, beta0, beta, alpha, mu, sigma, level=l)\n",
    "L=10\n",
    "conv_stats = [tmp(l) for l in range(10)]\n",
    "conv_stats = pd.DataFrame(conv_stats)"
   ]
  },
  {
   "cell_type": "code",
   "execution_count": 29,
   "metadata": {},
   "outputs": [
    {
     "data": {
      "image/png": "[encoded data removed]",
      "text/plain": [
       "<Figure size 432x288 with 1 Axes>"
      ]
     },
     "metadata": {
      "needs_background": "light"
     },
     "output_type": "display_data"
    }
   ],
   "source": [
    "plt.plot(conv_stats[['mean_abs_dIWELBO', 'var_dIWELBO', 'var_IWELBO']])\n",
    "s,t = conv_stats[['mean_abs_dIWELBO', 'var_dIWELBO']].iloc[0]\n",
    "plt.plot(s*2.**(-np.arange(L)), c='grey')\n",
    "plt.plot(t*2.**(-np.arange(L)*2), c='grey')\n",
    "\n",
    "plt.legend([r'$\\mathrm{E} | \\Delta \\mathrm{IW}$-$\\mathrm{ELBO}|$', \n",
    "            r'$\\mathrm{Var}[\\Delta \\mathrm{IW}$-$\\mathrm{ELBO}]$', \n",
    "            r'$\\mathrm{Var}[\\mathrm{IW}$-$\\mathrm{ELBO}]$',\n",
    "            r'$O(2^{-\\ell}), O(2^{-2\\ell})$'])\n",
    "plt.yscale('log')"
   ]
  },
  {
   "cell_type": "code",
   "execution_count": 30,
   "metadata": {},
   "outputs": [
    {
     "data": {
      "text/html": [
       "<div>\n",
       "<style scoped>\n",
       "    .dataframe tbody tr th:only-of-type {\n",
       "        vertical-align: middle;\n",
       "    }\n",
       "\n",
       "    .dataframe tbody tr th {\n",
       "        vertical-align: top;\n",
       "    }\n",
       "\n",
       "    .dataframe thead th {\n",
       "        text-align: right;\n",
       "    }\n",
       "</style>\n",
       "<table border=\"1\" class=\"dataframe\">\n",
       "  <thead>\n",
       "    <tr style=\"text-align: right;\">\n",
       "      <th></th>\n",
       "      <th>mean_dIWELBO</th>\n",
       "      <th>mean_abs_dIWELBO</th>\n",
       "      <th>mean_squared_dIWELBO</th>\n",
       "      <th>var_dIWELBO</th>\n",
       "      <th>var_IWELBO</th>\n",
       "    </tr>\n",
       "  </thead>\n",
       "  <tbody>\n",
       "    <tr>\n",
       "      <th>0</th>\n",
       "      <td>-1.247732</td>\n",
       "      <td>1.249388</td>\n",
       "      <td>1.816552e+00</td>\n",
       "      <td>2.597161e-01</td>\n",
       "      <td>0.259716</td>\n",
       "    </tr>\n",
       "    <tr>\n",
       "      <th>1</th>\n",
       "      <td>0.006423</td>\n",
       "      <td>0.006423</td>\n",
       "      <td>7.015809e-04</td>\n",
       "      <td>6.603281e-04</td>\n",
       "      <td>0.250904</td>\n",
       "    </tr>\n",
       "    <tr>\n",
       "      <th>2</th>\n",
       "      <td>0.003685</td>\n",
       "      <td>0.003685</td>\n",
       "      <td>2.313465e-04</td>\n",
       "      <td>2.177688e-04</td>\n",
       "      <td>0.245774</td>\n",
       "    </tr>\n",
       "    <tr>\n",
       "      <th>3</th>\n",
       "      <td>0.002253</td>\n",
       "      <td>0.002253</td>\n",
       "      <td>9.858101e-05</td>\n",
       "      <td>9.350556e-05</td>\n",
       "      <td>0.243564</td>\n",
       "    </tr>\n",
       "    <tr>\n",
       "      <th>4</th>\n",
       "      <td>0.001314</td>\n",
       "      <td>0.001314</td>\n",
       "      <td>3.642310e-05</td>\n",
       "      <td>3.469664e-05</td>\n",
       "      <td>0.238542</td>\n",
       "    </tr>\n",
       "    <tr>\n",
       "      <th>5</th>\n",
       "      <td>0.000752</td>\n",
       "      <td>0.000752</td>\n",
       "      <td>1.558370e-05</td>\n",
       "      <td>1.501760e-05</td>\n",
       "      <td>0.237795</td>\n",
       "    </tr>\n",
       "    <tr>\n",
       "      <th>6</th>\n",
       "      <td>0.000403</td>\n",
       "      <td>0.000403</td>\n",
       "      <td>2.941728e-06</td>\n",
       "      <td>2.779193e-06</td>\n",
       "      <td>0.242994</td>\n",
       "    </tr>\n",
       "    <tr>\n",
       "      <th>7</th>\n",
       "      <td>0.000231</td>\n",
       "      <td>0.000231</td>\n",
       "      <td>1.358146e-06</td>\n",
       "      <td>1.304927e-06</td>\n",
       "      <td>0.247169</td>\n",
       "    </tr>\n",
       "    <tr>\n",
       "      <th>8</th>\n",
       "      <td>0.000111</td>\n",
       "      <td>0.000111</td>\n",
       "      <td>1.766984e-07</td>\n",
       "      <td>1.644637e-07</td>\n",
       "      <td>0.233854</td>\n",
       "    </tr>\n",
       "    <tr>\n",
       "      <th>9</th>\n",
       "      <td>0.000057</td>\n",
       "      <td>0.000057</td>\n",
       "      <td>2.029065e-08</td>\n",
       "      <td>1.703959e-08</td>\n",
       "      <td>0.236216</td>\n",
       "    </tr>\n",
       "  </tbody>\n",
       "</table>\n",
       "</div>"
      ],
      "text/plain": [
       "   mean_dIWELBO  mean_abs_dIWELBO  mean_squared_dIWELBO   var_dIWELBO  \\\n",
       "0     -1.247732          1.249388          1.816552e+00  2.597161e-01   \n",
       "1      0.006423          0.006423          7.015809e-04  6.603281e-04   \n",
       "2      0.003685          0.003685          2.313465e-04  2.177688e-04   \n",
       "3      0.002253          0.002253          9.858101e-05  9.350556e-05   \n",
       "4      0.001314          0.001314          3.642310e-05  3.469664e-05   \n",
       "5      0.000752          0.000752          1.558370e-05  1.501760e-05   \n",
       "6      0.000403          0.000403          2.941728e-06  2.779193e-06   \n",
       "7      0.000231          0.000231          1.358146e-06  1.304927e-06   \n",
       "8      0.000111          0.000111          1.766984e-07  1.644637e-07   \n",
       "9      0.000057          0.000057          2.029065e-08  1.703959e-08   \n",
       "\n",
       "   var_IWELBO  \n",
       "0    0.259716  \n",
       "1    0.250904  \n",
       "2    0.245774  \n",
       "3    0.243564  \n",
       "4    0.238542  \n",
       "5    0.237795  \n",
       "6    0.242994  \n",
       "7    0.247169  \n",
       "8    0.233854  \n",
       "9    0.236216  "
      ]
     },
     "execution_count": 30,
     "metadata": {},
     "output_type": "execute_result"
    }
   ],
   "source": [
    "conv_stats"
   ]
  },
  {
   "cell_type": "markdown",
   "metadata": {},
   "source": [
    "## MLMC codition check for gradients"
   ]
  },
  {
   "cell_type": "code",
   "execution_count": 31,
   "metadata": {},
   "outputs": [],
   "source": [
    "def conv_stats_grad_dIWELBO(x, y, beta0, beta, alpha, mu, sigma, level=1):\n",
    "    \n",
    "    N, = mu.shape\n",
    "    n_MC = 2**level\n",
    "    z = norm(loc=mu, scale=sigma).rvs([n_MC, N]).T\n",
    "    \n",
    "    param = tf.concat([beta, [beta0], [alpha]], axis=0)\n",
    "    param = tf.Variable(param, dtype=tf.float64)\n",
    "    params = tf.reshape(param, [1,D+2]) * np.ones([N,1])\n",
    "\n",
    "    mu, sigma = laplace_approx(x, y, beta0, beta, alpha)        \n",
    "    \n",
    "    def get_grad(args):\n",
    "        \n",
    "        param, x_, y_, z_, mu, sigma = args\n",
    "        z_ = tf.reshape(z_, [-1,1])\n",
    "        \n",
    "        with tf.GradientTape(persistent=True) as g:\n",
    "            g.watch(param)\n",
    "            beta_ = param[0,:D]\n",
    "            beta0_ = param[0,D]\n",
    "            alpha_ = param[0,D+1]\n",
    "            diwelbos = pointwise_dIWELBO(x_, y_, z_, beta0_, beta_, alpha_, mu, sigma)\n",
    "            iwelbos = pointwise_IWELBO(x_, y_, z_, beta0_, beta_, alpha_, mu, sigma)\n",
    "            \n",
    "        a = g.gradient(diwelbos, param)\n",
    "        b = g.gradient(iwelbos, param)\n",
    "        \n",
    "        del g\n",
    "        \n",
    "        return a,b\n",
    "    \n",
    "    args = [tf.expand_dims(arg, axis=1) for arg in [params, x, y, z, mu, sigma]]\n",
    "    grads = tf.vectorized_map(get_grad, args)\n",
    "    \n",
    "    grad_diwelbos = tf.squeeze(grads[0])\n",
    "    grad_iwelbos = tf.squeeze(grads[1])\n",
    "    \n",
    "    return {'norm_mean_grad_dIWELBO': np.linalg.norm(np.mean(grad_diwelbos, axis=0)), \n",
    "            'mean_norm_grad_dIWELBO': np.mean(np.linalg.norm(grad_diwelbos, axis=1)), \n",
    "            'mean_squared_norm_grad_dIWELBO': np.mean(np.linalg.norm(grad_diwelbos, axis=1)**2),\n",
    "            'trace_covariance_grad_dIWELBO': np.sum(np.var(grad_diwelbos, axis=0)), \n",
    "            'trace_covariance_grad_IWELBO': np.sum(np.var(grad_iwelbos, axis=0))}"
   ]
  },
  {
   "cell_type": "code",
   "execution_count": 32,
   "metadata": {},
   "outputs": [],
   "source": [
    "def tmp(l):\n",
    "    N0 = 2000000\n",
    "    x,y,_ = generate_data(N=N0//2**l, D=3, T=2, beta0=beta0, beta=beta, alpha=alpha)\n",
    "    mu, sigma = laplace_approx(x, y, beta0, beta, alpha)\n",
    "    return conv_stats_grad_dIWELBO(x, y, beta0, beta, alpha, mu, sigma, level=l)\n",
    "L=10\n",
    "conv_stats = [tmp(l) for l in range(L)]\n",
    "conv_stats = pd.DataFrame(conv_stats)"
   ]
  },
  {
   "cell_type": "code",
   "execution_count": 33,
   "metadata": {
    "scrolled": true
   },
   "outputs": [
    {
     "data": {
      "image/png": "[encoded data removed]",
      "text/plain": [
       "<Figure size 432x288 with 1 Axes>"
      ]
     },
     "metadata": {
      "needs_background": "light"
     },
     "output_type": "display_data"
    }
   ],
   "source": [
    "plt.plot(conv_stats[['norm_mean_grad_dIWELBO', 'trace_covariance_grad_dIWELBO', 'trace_covariance_grad_IWELBO']])\n",
    "s,t = conv_stats[['norm_mean_grad_dIWELBO', 'trace_covariance_grad_dIWELBO']].iloc[0]\n",
    "plt.plot(s*2.**(-np.arange(L)/2), c='grey')\n",
    "plt.plot(t*2.**(-np.arange(L)), c='grey')\n",
    "\n",
    "plt.legend([r'$||\\mathrm{E} [\\nabla (\\Delta \\mathrm{IW}$-$\\mathrm{ELBO})]||_2^2$', \n",
    "            r'$\\mathrm{tr}(\\mathrm{Cov}[\\Delta \\mathrm{IW}$-$\\mathrm{ELBO}])$', \n",
    "            r'$\\mathrm{tr}(\\mathrm{Cov}[\\Delta \\mathrm{IW}$-$\\mathrm{ELBO}])$',\n",
    "            r'$O(2^{-\\ell/2}), O(2^{-\\ell})$'])\n",
    "plt.yscale('log')"
   ]
  },
  {
   "cell_type": "markdown",
   "metadata": {},
   "source": [
    "When we take gradient w.r.t. $\\theta_1: \\ \\tau=\\exp\\theta_1$, $b\\approx1$ for $V_\\ell\\propto 2^{-b\\ell}$. \n",
    "<br>\n",
    "However, taking gradient w.r.t. $\\theta_2: \\ \\tau^2=:\\mathrm{softplus}(\\theta_2)$, we obtain $b\\gtrapprox1$ for $V_\\ell\\propto 2^{-b\\ell}$"
   ]
  },
  {
   "cell_type": "code",
   "execution_count": 34,
   "metadata": {},
   "outputs": [
    {
     "data": {
      "text/html": [
       "<div>\n",
       "<style scoped>\n",
       "    .dataframe tbody tr th:only-of-type {\n",
       "        vertical-align: middle;\n",
       "    }\n",
       "\n",
       "    .dataframe tbody tr th {\n",
       "        vertical-align: top;\n",
       "    }\n",
       "\n",
       "    .dataframe thead th {\n",
       "        text-align: right;\n",
       "    }\n",
       "</style>\n",
       "<table border=\"1\" class=\"dataframe\">\n",
       "  <thead>\n",
       "    <tr style=\"text-align: right;\">\n",
       "      <th></th>\n",
       "      <th>norm_mean_grad_dIWELBO</th>\n",
       "      <th>mean_norm_grad_dIWELBO</th>\n",
       "      <th>mean_squared_norm_grad_dIWELBO</th>\n",
       "      <th>trace_covariance_grad_dIWELBO</th>\n",
       "      <th>trace_covariance_grad_IWELBO</th>\n",
       "    </tr>\n",
       "  </thead>\n",
       "  <tbody>\n",
       "    <tr>\n",
       "      <th>0</th>\n",
       "      <td>0.021287</td>\n",
       "      <td>0.906735</td>\n",
       "      <td>1.201837e+00</td>\n",
       "      <td>1.201384e+00</td>\n",
       "      <td>1.201384</td>\n",
       "    </tr>\n",
       "    <tr>\n",
       "      <th>1</th>\n",
       "      <td>0.007821</td>\n",
       "      <td>0.034185</td>\n",
       "      <td>8.175977e-03</td>\n",
       "      <td>8.114804e-03</td>\n",
       "      <td>0.946134</td>\n",
       "    </tr>\n",
       "    <tr>\n",
       "      <th>2</th>\n",
       "      <td>0.005121</td>\n",
       "      <td>0.017873</td>\n",
       "      <td>1.836496e-03</td>\n",
       "      <td>1.810275e-03</td>\n",
       "      <td>0.827359</td>\n",
       "    </tr>\n",
       "    <tr>\n",
       "      <th>3</th>\n",
       "      <td>0.003436</td>\n",
       "      <td>0.010165</td>\n",
       "      <td>6.143921e-04</td>\n",
       "      <td>6.025861e-04</td>\n",
       "      <td>0.767039</td>\n",
       "    </tr>\n",
       "    <tr>\n",
       "      <th>4</th>\n",
       "      <td>0.002229</td>\n",
       "      <td>0.005797</td>\n",
       "      <td>2.289225e-04</td>\n",
       "      <td>2.239560e-04</td>\n",
       "      <td>0.735874</td>\n",
       "    </tr>\n",
       "    <tr>\n",
       "      <th>5</th>\n",
       "      <td>0.001326</td>\n",
       "      <td>0.003238</td>\n",
       "      <td>8.598297e-05</td>\n",
       "      <td>8.422567e-05</td>\n",
       "      <td>0.719336</td>\n",
       "    </tr>\n",
       "    <tr>\n",
       "      <th>6</th>\n",
       "      <td>0.000870</td>\n",
       "      <td>0.001876</td>\n",
       "      <td>7.927947e-05</td>\n",
       "      <td>7.852307e-05</td>\n",
       "      <td>0.717869</td>\n",
       "    </tr>\n",
       "    <tr>\n",
       "      <th>7</th>\n",
       "      <td>0.000464</td>\n",
       "      <td>0.000970</td>\n",
       "      <td>2.057220e-05</td>\n",
       "      <td>2.035689e-05</td>\n",
       "      <td>0.699719</td>\n",
       "    </tr>\n",
       "    <tr>\n",
       "      <th>8</th>\n",
       "      <td>0.000239</td>\n",
       "      <td>0.000505</td>\n",
       "      <td>2.181499e-06</td>\n",
       "      <td>2.124587e-06</td>\n",
       "      <td>0.703890</td>\n",
       "    </tr>\n",
       "    <tr>\n",
       "      <th>9</th>\n",
       "      <td>0.000131</td>\n",
       "      <td>0.000269</td>\n",
       "      <td>6.501393e-07</td>\n",
       "      <td>6.330477e-07</td>\n",
       "      <td>0.707692</td>\n",
       "    </tr>\n",
       "  </tbody>\n",
       "</table>\n",
       "</div>"
      ],
      "text/plain": [
       "   norm_mean_grad_dIWELBO  mean_norm_grad_dIWELBO  \\\n",
       "0                0.021287                0.906735   \n",
       "1                0.007821                0.034185   \n",
       "2                0.005121                0.017873   \n",
       "3                0.003436                0.010165   \n",
       "4                0.002229                0.005797   \n",
       "5                0.001326                0.003238   \n",
       "6                0.000870                0.001876   \n",
       "7                0.000464                0.000970   \n",
       "8                0.000239                0.000505   \n",
       "9                0.000131                0.000269   \n",
       "\n",
       "   mean_squared_norm_grad_dIWELBO  trace_covariance_grad_dIWELBO  \\\n",
       "0                    1.201837e+00                   1.201384e+00   \n",
       "1                    8.175977e-03                   8.114804e-03   \n",
       "2                    1.836496e-03                   1.810275e-03   \n",
       "3                    6.143921e-04                   6.025861e-04   \n",
       "4                    2.289225e-04                   2.239560e-04   \n",
       "5                    8.598297e-05                   8.422567e-05   \n",
       "6                    7.927947e-05                   7.852307e-05   \n",
       "7                    2.057220e-05                   2.035689e-05   \n",
       "8                    2.181499e-06                   2.124587e-06   \n",
       "9                    6.501393e-07                   6.330477e-07   \n",
       "\n",
       "   trace_covariance_grad_IWELBO  \n",
       "0                      1.201384  \n",
       "1                      0.946134  \n",
       "2                      0.827359  \n",
       "3                      0.767039  \n",
       "4                      0.735874  \n",
       "5                      0.719336  \n",
       "6                      0.717869  \n",
       "7                      0.699719  \n",
       "8                      0.703890  \n",
       "9                      0.707692  "
      ]
     },
     "execution_count": 34,
     "metadata": {},
     "output_type": "execute_result"
    }
   ],
   "source": [
    "conv_stats"
   ]
  },
  {
   "cell_type": "markdown",
   "metadata": {},
   "source": [
    "## Cost comparison of objective"
   ]
  },
  {
   "cell_type": "code",
   "execution_count": 35,
   "metadata": {},
   "outputs": [],
   "source": [
    "NMC_ests = []\n",
    "MLMC_ests = []\n",
    "RandMLMC_ests = []\n",
    "for i in range(100):\n",
    "    x,y,_ = generate_data(N=4000, D=3, T=2, beta0=beta0, beta=beta, alpha=alpha)\n",
    "    mu, sigma = laplace_approx(x, y, beta0, beta, alpha)\n",
    "    NMC_ests.append( IWELBO(x, y, beta0, beta, alpha, mu, sigma, n_MC=2**9).numpy() )\n",
    "    MLMC_ests.append( IWELBO_MLMC(x, y, beta0, beta, alpha, mu, sigma, max_level=9, w0=0.90, b=1.8, randomize=False).numpy() )\n",
    "    RandMLMC_ests.append( IWELBO_MLMC(x, y, beta0, beta, alpha, mu, sigma, max_level=9, w0=0.90, b=1.8, randomize=True).numpy() )"
   ]
  },
  {
   "cell_type": "code",
   "execution_count": 36,
   "metadata": {},
   "outputs": [
    {
     "name": "stdout",
     "output_type": "stream",
     "text": [
      "std-div of NMC estimator:       0.008230205099250482\n",
      "std-div of MLMC estimator:      0.009498309694484059\n",
      "std-div of RandMLMC estimator:  0.011435872766900113\n"
     ]
    }
   ],
   "source": [
    "print(\"std-div of NMC estimator:      \", np.std(NMC_ests))\n",
    "print(\"std-div of MLMC estimator:     \", np.std(MLMC_ests))\n",
    "print(\"std-div of RandMLMC estimator: \", np.std(RandMLMC_ests))"
   ]
  },
  {
   "cell_type": "code",
   "execution_count": 37,
   "metadata": {},
   "outputs": [
    {
     "name": "stdout",
     "output_type": "stream",
     "text": [
      "184 ms ± 3.27 ms per loop (mean ± std. dev. of 7 runs, 10 loops each)\n"
     ]
    }
   ],
   "source": [
    "%%timeit\n",
    "IWELBO(x, y, beta0, beta, alpha, mu, sigma, n_MC=2**9)"
   ]
  },
  {
   "cell_type": "code",
   "execution_count": 38,
   "metadata": {},
   "outputs": [
    {
     "name": "stdout",
     "output_type": "stream",
     "text": [
      "55.5 ms ± 564 µs per loop (mean ± std. dev. of 7 runs, 10 loops each)\n"
     ]
    }
   ],
   "source": [
    "%%timeit\n",
    "IWELBO_MLMC(x, y, beta0, beta, alpha, mu, sigma, max_level=9, w0=0.90, b=1.8, randomize=False)"
   ]
  },
  {
   "cell_type": "code",
   "execution_count": 39,
   "metadata": {},
   "outputs": [
    {
     "name": "stdout",
     "output_type": "stream",
     "text": [
      "48 ms ± 1.38 ms per loop (mean ± std. dev. of 7 runs, 10 loops each)\n"
     ]
    }
   ],
   "source": [
    "%%timeit\n",
    "IWELBO_MLMC(x, y, beta0, beta, alpha, mu, sigma, max_level=9, w0=0.90, b=1.8, randomize=True)"
   ]
  },
  {
   "cell_type": "markdown",
   "metadata": {},
   "source": [
    "## Cost comparison of gradients"
   ]
  },
  {
   "cell_type": "code",
   "execution_count": 40,
   "metadata": {},
   "outputs": [],
   "source": [
    "NMC_ests = []\n",
    "MLMC_ests = []\n",
    "RandMLMC_ests = []\n",
    "for i in range(100):\n",
    "    N0 = 2000\n",
    "    x,y,_ = generate_data(N=N0, D=3, T=2, beta0=beta0, beta=beta, alpha=alpha)\n",
    "    mu, sigma = laplace_approx(x, y, beta0, beta, alpha)\n",
    "    \n",
    "    param = tf.concat([beta, [beta0], [alpha]], axis=0)\n",
    "    param = tf.Variable(param, dtype=tf.float64)\n",
    "    \n",
    "    with tf.GradientTape(persistent=True) as g:\n",
    "        g.watch(param)\n",
    "        beta_ = param[:D]\n",
    "        beta0_ = param[D]\n",
    "        alpha_ = param[D+1]\n",
    "        nmc_est = IWELBO(x, y, beta0_, beta_, alpha_, mu, sigma, n_MC=2**12)\n",
    "        mlmc_est = IWELBO_MLMC(x, y, beta0_, beta_, alpha_, mu, sigma, max_level=12, w0=0.8, b=1,  randomize=False)\n",
    "        randmlmc_est = IWELBO_MLMC(x, y, beta0_, beta_, alpha_, mu, sigma, max_level=12, w0=0.8, b=1, randomize=True)\n",
    "            \n",
    "    nmc_est = g.gradient(nmc_est, param)\n",
    "    mlmc_est = g.gradient(mlmc_est, param)\n",
    "    randmlmc_est = g.gradient(randmlmc_est, param)\n",
    "    \n",
    "    del g\n",
    "        \n",
    "    NMC_ests.append( nmc_est )\n",
    "    MLMC_ests.append( mlmc_est )\n",
    "    RandMLMC_ests.append( randmlmc_est )"
   ]
  },
  {
   "cell_type": "code",
   "execution_count": 41,
   "metadata": {
    "scrolled": true
   },
   "outputs": [
    {
     "name": "stdout",
     "output_type": "stream",
     "text": [
      "E||grad||^2 of NMC estimator:       0.18583349912920039\n",
      "E||grad||^2 of MLMC estimator:      0.2938377708735826\n",
      "E||grad||^2 of RandMLMC estimator:  0.2873820105197591\n"
     ]
    }
   ],
   "source": [
    "print(\"E||grad||^2 of NMC estimator:      \", np.mean(np.linalg.norm(NMC_ests)))\n",
    "print(\"E||grad||^2 of MLMC estimator:     \", np.mean(np.linalg.norm(MLMC_ests)))\n",
    "print(\"E||grad||^2 of RandMLMC estimator: \", np.mean(np.linalg.norm(RandMLMC_ests)))"
   ]
  },
  {
   "cell_type": "code",
   "execution_count": 42,
   "metadata": {},
   "outputs": [
    {
     "name": "stdout",
     "output_type": "stream",
     "text": [
      "1.14 s ± 2.98 ms per loop (mean ± std. dev. of 7 runs, 1 loop each)\n"
     ]
    }
   ],
   "source": [
    "%%timeit\n",
    "with tf.GradientTape(persistent=True) as g:\n",
    "    g.watch(param)\n",
    "    beta_ = param[:D]\n",
    "    beta0_ = param[D]\n",
    "    alpha_ = param[D+1]\n",
    "    nmc_est = IWELBO(x, y, beta0_, beta_, alpha_, mu, sigma, n_MC=2**12)\n",
    "\n",
    "nmc_est = g.gradient(nmc_est, param)"
   ]
  },
  {
   "cell_type": "code",
   "execution_count": 43,
   "metadata": {},
   "outputs": [
    {
     "name": "stdout",
     "output_type": "stream",
     "text": [
      "168 ms ± 790 µs per loop (mean ± std. dev. of 7 runs, 10 loops each)\n"
     ]
    }
   ],
   "source": [
    "%%timeit\n",
    "with tf.GradientTape(persistent=True) as g:\n",
    "    g.watch(param)\n",
    "    beta_ = param[:D]\n",
    "    beta0_ = param[D]\n",
    "    alpha_ = param[D+1]\n",
    "    mlmc_est = IWELBO_MLMC(x, y, beta0_, beta_, alpha_, mu, sigma, max_level=12, w0=0.8, b=1, randomize=False)\n",
    "\n",
    "mlmc_est = g.gradient(mlmc_est, param)"
   ]
  },
  {
   "cell_type": "code",
   "execution_count": 44,
   "metadata": {},
   "outputs": [
    {
     "name": "stdout",
     "output_type": "stream",
     "text": [
      "141 ms ± 4.18 ms per loop (mean ± std. dev. of 7 runs, 10 loops each)\n"
     ]
    }
   ],
   "source": [
    "%%timeit\n",
    "with tf.GradientTape(persistent=True) as g:\n",
    "    g.watch(param)\n",
    "    beta_ = param[:D]\n",
    "    beta0_ = param[D]\n",
    "    alpha_ = param[D+1]\n",
    "    randmlmc_est = IWELBO_MLMC(x, y, beta0_, beta_, alpha_, mu, sigma, max_level=12, w0=0.8, b=1, randomize=True)\n",
    "\n",
    "randmlmc_est = g.gradient(randmlmc_est, param)"
   ]
  }
 ],
 "metadata": {
  "kernelspec": {
   "display_name": "Python 3",
   "language": "python",
   "name": "python3"
  },
  "language_info": {
   "codemirror_mode": {
    "name": "ipython",
    "version": 3
   },
   "file_extension": ".py",
   "mimetype": "text/x-python",
   "name": "python",
   "nbconvert_exporter": "python",
   "pygments_lexer": "ipython3",
   "version": "3.6.9"
  }
 },
 "nbformat": 4,
 "nbformat_minor": 4
}
