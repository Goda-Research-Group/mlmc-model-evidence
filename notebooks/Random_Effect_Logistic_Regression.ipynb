{
 "cells": [
  {
   "cell_type": "markdown",
   "metadata": {},
   "source": [
    "# Random Effect Logistic Regression by MLMC Variational Bayes"
   ]
  },
  {
   "cell_type": "markdown",
   "metadata": {},
   "source": [
    "## Model Description"
   ]
  },
  {
   "cell_type": "markdown",
   "metadata": {},
   "source": [
    "##### Random Effect Models:\n",
    "For $n=1,...,N$,\n",
    "<br>&nbsp;&nbsp;&nbsp;&nbsp;\n",
    "$Z_n \\sim N(0,\\tau^2)$\n",
    "<br>&nbsp;&nbsp;&nbsp;&nbsp;\n",
    "$Y_{n,t} \\sim \\text{Bernoulli}\\left(\\frac{1}{1+\\exp(- Z_n - \\beta_0 - \\beta^T x_{n,t})}\\right)$\n",
    "<br>\n",
    "for $t=1, ..., T$. This model carries out dimentionality reduction of binary observations $y_{n,k}$'s. Here, the dimention of $\\beta$ and $x_{n,t}$ is $D$.<br>\n",
    "As variational approximation of the posterior $p(z_n|y_n)$, we use $q(z_n)= N(z_n;\\mu_n, \\sigma_n^2)$."
   ]
  },
  {
   "cell_type": "markdown",
   "metadata": {},
   "source": [
    "To constrain the parameter $\\tau^2>0$, we parametrize $\\tau^2$ as $\\tau^2 = \\mathrm{softplus}(\\alpha)$, where $\\mathrm{softplus}(x) := \\log(1+\\exp(x))>0$."
   ]
  },
  {
   "cell_type": "markdown",
   "metadata": {},
   "source": [
    "##### Possible Extension:\n",
    "\n",
    "By adding $\\bar x_n=\\frac{1}{T}\\sum_t x_{n,t}$ to the predictors as \n",
    "<br>&nbsp;&nbsp;&nbsp;&nbsp;\n",
    "$Y_{n,t} \\sim \\text{Bernoulli}\\left(\\frac{1}{1+\\exp(- Z_n - \\beta_0 - \\beta^T x_{n,t}- \\gamma\\bar x_n)}\\right)$,\n",
    "<br>\n",
    "we can obtain correlated random effect models."
   ]
  },
  {
   "cell_type": "markdown",
   "metadata": {},
   "source": [
    "#### We do not consider the use of Renyi divergences"
   ]
  },
  {
   "cell_type": "markdown",
   "metadata": {},
   "source": [
    "## Import Packages"
   ]
  },
  {
   "cell_type": "code",
   "execution_count": 1,
   "metadata": {},
   "outputs": [],
   "source": [
    "# Turn GPUs off\n",
    "import os\n",
    "#os.environ[\"CUDA_VISIBLE_DEVICES\"] = \"-1\""
   ]
  },
  {
   "cell_type": "code",
   "execution_count": 2,
   "metadata": {},
   "outputs": [],
   "source": [
    "import tensorflow as tf\n",
    "import tensorflow_probability as tfp\n",
    "import numpy as np\n",
    "import pandas as pd\n",
    "from scipy.stats import bernoulli, norm\n",
    "from matplotlib import pyplot as plt"
   ]
  },
  {
   "cell_type": "code",
   "execution_count": 3,
   "metadata": {},
   "outputs": [
    {
     "name": "stdout",
     "output_type": "stream",
     "text": [
      "WARNING:tensorflow:From <ipython-input-3-17bb7203622b>:1: is_gpu_available (from tensorflow.python.framework.test_util) is deprecated and will be removed in a future version.\n",
      "Instructions for updating:\n",
      "Use `tf.config.list_physical_devices('GPU')` instead.\n"
     ]
    },
    {
     "data": {
      "text/plain": [
       "True"
      ]
     },
     "execution_count": 3,
     "metadata": {},
     "output_type": "execute_result"
    }
   ],
   "source": [
    "tf.test.is_gpu_available()"
   ]
  },
  {
   "cell_type": "markdown",
   "metadata": {},
   "source": [
    "## Utilities"
   ]
  },
  {
   "cell_type": "code",
   "execution_count": 4,
   "metadata": {},
   "outputs": [],
   "source": [
    "sigmoid = lambda x: 1/(1+np.exp(-x))\n",
    "softplus = lambda x: np.log(1+np.exp(x))\n",
    "as_tf_float = lambda x: tf.cast(x, tf.float64)\n",
    "\n",
    "def tf_logsumexp(ary, axis=1, keepdims=False):\n",
    "    return tf.math.reduce_logsumexp(ary, axis=axis, keepdims=keepdims)\n",
    "\n",
    "def tf_logmeanexp(ary, axis=1, keepdims=False):\n",
    "    return tf.math.reduce_logsumexp(ary, axis=axis, keepdims=keepdims) \\\n",
    "        - tf.math.log(as_tf_float(ary.shape[axis]))"
   ]
  },
  {
   "cell_type": "markdown",
   "metadata": {},
   "source": [
    "## Generate Toy Dataset"
   ]
  },
  {
   "cell_type": "code",
   "execution_count": 5,
   "metadata": {},
   "outputs": [],
   "source": [
    "N = 1000\n",
    "D = 3\n",
    "T = 2"
   ]
  },
  {
   "cell_type": "code",
   "execution_count": 6,
   "metadata": {},
   "outputs": [],
   "source": [
    "# data\n",
    "# We assume that we have infinite amount of data.\n",
    "# Thus, generator of the data is implemented.\n",
    "def generate_data(N, D, T, beta0, beta, ln_tau):\n",
    "    #z = np.random.randn(N) * np.exp(ln_tau)\n",
    "    z = np.random.randn(N) * softplus(ln_tau)**(1/2.)\n",
    "    x = np.random.randn(N*T*D).reshape([N,T,D])\n",
    "    y = bernoulli(p=sigmoid(beta0+x@beta+z.reshape([N,1]))).rvs()\n",
    "    return x,y,z"
   ]
  },
  {
   "cell_type": "markdown",
   "metadata": {},
   "source": [
    "To constrain the parameter $\\tau^2>0$, we parametrize $\\tau^2$ as $\\tau^2 = \\mathrm{softplus}(\\alpha)$, where $\\mathrm{softplus}(x) := \\log(1+\\exp(x))>0$."
   ]
  },
  {
   "cell_type": "code",
   "execution_count": 7,
   "metadata": {},
   "outputs": [],
   "source": [
    "# paramters\n",
    "ln_tau = np.float64(4.)\n",
    "#ln_tau = np.float64(0.7)\n",
    "beta0 = np.float64(0.)\n",
    "beta  = np.random.randn(D) / np.sqrt(D)\n",
    "param0 = {\n",
    "    'ln_tau': ln_tau,\n",
    "    'beta0': beta0,\n",
    "    'beta': beta\n",
    "}"
   ]
  },
  {
   "cell_type": "code",
   "execution_count": 8,
   "metadata": {
    "scrolled": true
   },
   "outputs": [],
   "source": [
    "x,y,z = generate_data(N, D, T, beta0, beta, ln_tau)"
   ]
  },
  {
   "cell_type": "markdown",
   "metadata": {},
   "source": [
    "## Sigmoid Normal Integral Approximation of Evidence\n",
    "\n",
    "Ref: Barber Bishop(1998), PRML(2006)"
   ]
  },
  {
   "cell_type": "code",
   "execution_count": 9,
   "metadata": {},
   "outputs": [],
   "source": [
    "def sigmoid_normal_prob(x, beta0, beta, ln_tau):\n",
    "    N, T, D  = x.shape\n",
    "    #kappa = 1 / (1 + np.pi*tf.exp(ln_tau*2)/8)**(1/2)\n",
    "    kappa = 1 / (1 + np.pi*tf.math.softplus(ln_tau)/8)**(1/2)\n",
    "    return tf.math.sigmoid( kappa * (beta0 + tf.reshape( x@tf.reshape(beta, [D,1]), [N, T])) )"
   ]
  },
  {
   "cell_type": "code",
   "execution_count": 10,
   "metadata": {},
   "outputs": [],
   "source": [
    "def sigmoid_normal_likelihood(x, y, beta0, beta, ln_tau):\n",
    "    pred_prob = sigmoid_normal_prob(x, beta0, beta, ln_tau)\n",
    "    score = tf.reduce_mean(tf.reduce_sum(\n",
    "        tf.math.log(pred_prob)*y + tf.math.log(1-pred_prob)*(1-y), \n",
    "        axis=1))\n",
    "    return score"
   ]
  },
  {
   "cell_type": "markdown",
   "metadata": {},
   "source": [
    "## Laplace Approximation of Posterior"
   ]
  },
  {
   "cell_type": "code",
   "execution_count": 11,
   "metadata": {},
   "outputs": [],
   "source": [
    "def laplace_approx(x, y, beta0, beta, ln_tau):\n",
    "    N, T, D  = x.shape\n",
    "    z = np.zeros([N, 1])\n",
    "    _sig = lambda z: sigmoid( z + beta0 + x@beta )\n",
    "    for i in range(10):\n",
    "        sig = _sig(z)\n",
    "        #hessian = 1/np.exp(ln_tau*2) + np.sum( sig*(1-sig), axis=1, keepdims=True)\n",
    "        #grad    = z/np.exp(ln_tau*2) + np.sum( sig - y,     axis=1, keepdims=True)\n",
    "        hessian = 1/softplus(ln_tau) + np.sum( sig*(1-sig), axis=1, keepdims=True)\n",
    "        grad    = z/softplus(ln_tau) + np.sum( sig - y,     axis=1, keepdims=True)\n",
    "        z -= grad / hessian\n",
    "    mu = z.reshape([N])\n",
    "    sigma = (1 / hessian).reshape([N])**(1/2)\n",
    "    return mu, sigma"
   ]
  },
  {
   "cell_type": "code",
   "execution_count": 12,
   "metadata": {},
   "outputs": [],
   "source": [
    "mu, sigma = laplace_approx(x, y, beta0, beta, ln_tau)"
   ]
  },
  {
   "cell_type": "code",
   "execution_count": 13,
   "metadata": {},
   "outputs": [
    {
     "data": {
      "text/plain": [
       "(4.077180659043433, 2.0246045072190673)"
      ]
     },
     "execution_count": 13,
     "metadata": {},
     "output_type": "execute_result"
    }
   ],
   "source": [
    "z.var(), (z-mu).var()"
   ]
  },
  {
   "cell_type": "markdown",
   "metadata": {},
   "source": [
    "## IWELBO approximation of Evidence"
   ]
  },
  {
   "cell_type": "code",
   "execution_count": 14,
   "metadata": {},
   "outputs": [],
   "source": [
    "def pointwise_IWELBO(x, y, z, beta0, beta, ln_tau, mu, sigma):\n",
    "    \"\"\"\n",
    "    Compute IWELBOs for i = 1,...,n using n_MC samples Zn. \n",
    "    Here, we assume that n<N where N is the size of data.\n",
    "    \n",
    "    Arguments:\n",
    "    x: 3-d array of size [N, T, D]\n",
    "    y: 2-d array of size [N, T]\n",
    "    z: 1-d array of size [n_MC, N]\n",
    "    beta: 1-d array of size [D]\n",
    "    mu: 1-d array of [N]\n",
    "    sigma**2: 1-d array of [N]\n",
    "    \n",
    "    Returns:\n",
    "    iwelbo: iwelbo, whose size is [N]\n",
    "    \"\"\"\n",
    "\n",
    "    (N, T, D), (n_MC, n) = x.shape, z.shape\n",
    "    y = as_tf_float( tf.reshape(y, [1,N,T]) )\n",
    "    mu = tf.reshape(mu, [1,N])\n",
    "    sigma = tf.reshape(sigma, [1,N])\n",
    "    \n",
    "    y_logits = tf.convert_to_tensor( beta0\\\n",
    "                                    + tf.reshape( x@tf.reshape(beta, [D,1]), [1, N, T])\\\n",
    "                                    + tf.reshape(z, [n_MC, N, 1]) \n",
    "                                   )\n",
    "    p_y = tfp.distributions.Bernoulli(logits=y_logits)\n",
    "    #p_z = tfp.distributions.Normal(loc=np.zeros([1, N]), scale=tf.exp(ln_tau))\n",
    "    p_z = tfp.distributions.Normal(loc=np.zeros([1, N]), scale=tf.math.softplus(ln_tau)**(1/2.))\n",
    "    q_z = tfp.distributions.Normal(loc=mu, scale=sigma)\n",
    "    \n",
    "    log_prob_ratio = \\\n",
    "        tf.reduce_sum( p_y.log_prob(y), axis=2)\\\n",
    "        + p_z.log_prob(z)\\\n",
    "        - q_z.log_prob(z)\n",
    "    \n",
    "    iwelbo = tf_logmeanexp(log_prob_ratio, axis=0)\n",
    "    return iwelbo"
   ]
  },
  {
   "cell_type": "code",
   "execution_count": 15,
   "metadata": {},
   "outputs": [],
   "source": [
    "def IWELBO(x, y, beta0, beta, ln_tau, mu, sigma, n_MC):\n",
    "    N, = mu.shape\n",
    "    z = norm(loc=mu, scale=sigma).rvs([n_MC, N])\n",
    "    iwelbo = tf.reduce_mean( pointwise_IWELBO(x, y, z, beta0, beta, ln_tau, mu, sigma) )\n",
    "    return iwelbo"
   ]
  },
  {
   "cell_type": "code",
   "execution_count": 16,
   "metadata": {},
   "outputs": [],
   "source": [
    "signorm_likelihood = sigmoid_normal_likelihood(x, y, beta0, beta, ln_tau).numpy()\n",
    "elbo_likelihood = IWELBO(x, y, beta0, beta, ln_tau, mu, sigma, n_MC=1).numpy()\n",
    "iwelbo_likelihood = IWELBO(x, y, beta0, beta, ln_tau, mu, sigma, n_MC=64).numpy()"
   ]
  },
  {
   "cell_type": "code",
   "execution_count": 17,
   "metadata": {},
   "outputs": [
    {
     "data": {
      "text/plain": [
       "(-1.3221548227263125, -1.2818780937712695, -1.2661132777588622)"
      ]
     },
     "execution_count": 17,
     "metadata": {},
     "output_type": "execute_result"
    }
   ],
   "source": [
    "signorm_likelihood, elbo_likelihood, iwelbo_likelihood"
   ]
  },
  {
   "cell_type": "markdown",
   "metadata": {},
   "source": [
    "## Maximum Likelihood by Different Approximation"
   ]
  },
  {
   "cell_type": "code",
   "execution_count": 18,
   "metadata": {},
   "outputs": [
    {
     "name": "stdout",
     "output_type": "stream",
     "text": [
      "training signorm...\n",
      "#iter: 0,\tloss: 1.3862943611198906\n",
      "#iter: 200,\tloss: 1.348260260354077\n",
      "#iter: 400,\tloss: 1.3375439744455444\n",
      "#iter: 600,\tloss: 1.3267028935774874\n",
      "#iter: 800,\tloss: 1.337053857990809\n",
      "#iter: 1000,\tloss: 1.3332193870716715\n",
      "#iter: 1200,\tloss: 1.3347526674168866\n",
      "#iter: 1400,\tloss: 1.3355521880592813\n",
      "#iter: 1600,\tloss: 1.3171721085315395\n",
      "#iter: 1800,\tloss: 1.3230176392480766\n",
      "#iter: 2000,\tloss: 1.3358715017989748\n",
      "\n",
      "training elbo...\n",
      "#iter: 0,\tloss: 1.3242489370505066\n",
      "#iter: 200,\tloss: 1.2750979001323135\n",
      "#iter: 400,\tloss: 1.2900663619358517\n",
      "#iter: 600,\tloss: 1.283265503447246\n",
      "#iter: 800,\tloss: 1.2865463536568027\n",
      "#iter: 1000,\tloss: 1.274465660258819\n",
      "#iter: 1200,\tloss: 1.2699327526234039\n",
      "#iter: 1400,\tloss: 1.280854789335008\n",
      "#iter: 1600,\tloss: 1.2796372191945666\n",
      "#iter: 1800,\tloss: 1.2667295121506847\n",
      "#iter: 2000,\tloss: 1.2695788820610137\n",
      "\n",
      "training iwelbo8...\n",
      "#iter: 0,\tloss: 1.3322687264803108\n",
      "#iter: 200,\tloss: 1.2794831747693625\n",
      "#iter: 400,\tloss: 1.2468005920801133\n",
      "#iter: 600,\tloss: 1.2753596133613538\n",
      "#iter: 800,\tloss: 1.2777123556008791\n",
      "#iter: 1000,\tloss: 1.2476131051155355\n",
      "#iter: 1200,\tloss: 1.2702448378931162\n",
      "#iter: 1400,\tloss: 1.2951434645249815\n",
      "#iter: 1600,\tloss: 1.2638835724046138\n",
      "#iter: 1800,\tloss: 1.2598931180475237\n",
      "#iter: 2000,\tloss: 1.2541802733543777\n",
      "\n",
      "training iwelbo64...\n",
      "#iter: 0,\tloss: 1.33664404712224\n",
      "#iter: 200,\tloss: 1.272293248855035\n",
      "#iter: 400,\tloss: 1.2693488005104823\n",
      "#iter: 600,\tloss: 1.274458138037697\n",
      "#iter: 800,\tloss: 1.2621097387851352\n",
      "#iter: 1000,\tloss: 1.2451779115244883\n",
      "#iter: 1200,\tloss: 1.2595365916842882\n",
      "#iter: 1400,\tloss: 1.2491541131980455\n",
      "#iter: 1600,\tloss: 1.237268168645778\n",
      "#iter: 1800,\tloss: 1.2490664163838907\n",
      "#iter: 2000,\tloss: 1.2477197367472561\n",
      "\n",
      "training iwelbo512...\n",
      "#iter: 0,\tloss: 1.3375826220826028\n",
      "#iter: 200,\tloss: 1.282209527787119\n",
      "#iter: 400,\tloss: 1.2296867181150755\n",
      "#iter: 600,\tloss: 1.263801825390792\n",
      "#iter: 800,\tloss: 1.2500304086459786\n",
      "#iter: 1000,\tloss: 1.2511165967672664\n",
      "#iter: 1200,\tloss: 1.2668157898221954\n",
      "#iter: 1400,\tloss: 1.2792330393709692\n",
      "#iter: 1600,\tloss: 1.2523723233154411\n",
      "#iter: 1800,\tloss: 1.2927233882888118\n",
      "#iter: 2000,\tloss: 1.2473634952042782\n",
      "\n"
     ]
    }
   ],
   "source": [
    "objectives = {\n",
    "    \"signorm\": lambda beta0, beta, ln_tau, mu, sigma: sigmoid_normal_likelihood(x, y, beta0, beta, ln_tau),\n",
    "    \"elbo\": lambda beta0, beta, ln_tau, mu, sigma: IWELBO(x, y, beta0, beta, ln_tau, mu, sigma, n_MC=1),\n",
    "    \"iwelbo8\": lambda beta0, beta, ln_tau, mu, sigma: IWELBO(x, y, beta0, beta, ln_tau, mu, sigma, n_MC=8),\n",
    "    \"iwelbo64\": lambda beta0, beta, ln_tau, mu, sigma: IWELBO(x, y, beta0, beta, ln_tau, mu, sigma, n_MC=64),\n",
    "    \"iwelbo512\": lambda beta0, beta, ln_tau, mu, sigma: IWELBO(x, y, beta0, beta, ln_tau, mu, sigma, n_MC=512)\n",
    "}\n",
    "params = {\"ground_truth\": param0}\n",
    "\n",
    "N,T,D = (1000, 2, 3) if tf.test.is_gpu_available() else (100, 2, 3)\n",
    "\n",
    "for obj_name, obj_func in objectives.items():\n",
    "    \n",
    "    print(\"training {}...\".format(obj_name))\n",
    "    \n",
    "    beta0_ = tf.Variable(0., dtype=tf.float64)\n",
    "    beta_  = tf.Variable(np.zeros([D]), dtype=tf.float64)\n",
    "    #ln_tau_   = tf.Variable(0., dtype=tf.float64)\n",
    "    ln_tau_   = tf.Variable(1., dtype=tf.float64)\n",
    "    \n",
    "    # Gradient Descent\n",
    "    for t in range(2001):\n",
    "        \n",
    "        rho_t = 0.5/(1+t)**0.7\n",
    "        x,y,_ = generate_data(N, D, T, beta0, beta, ln_tau)\n",
    "\n",
    "        with tf.GradientTape() as g:\n",
    "            g.watch([beta0_, beta_, ln_tau_])\n",
    "            mu, sigma = laplace_approx(x, y, beta0_.numpy(), beta_.numpy(), ln_tau_.numpy())\n",
    "            score = obj_func(beta0_, beta_, ln_tau_, mu, sigma)\n",
    "        dbeta0_, dbeta_, dln_tau_ = g.gradient(score, [beta0_, beta_, ln_tau_])\n",
    "\n",
    "        beta0_ = beta0_ + rho_t*dbeta0_\n",
    "        beta_ = beta_ + rho_t*dbeta_\n",
    "        ln_tau_ = ln_tau_ + dln_tau_\n",
    "        if t%200==0:\n",
    "            print(\"#iter: {},\\tloss: {}\".format(t, -score.numpy()))\n",
    "    \n",
    "    params[obj_name] = {\n",
    "        'ln_tau': ln_tau_.numpy(),\n",
    "        'beta0': beta0_.numpy(),\n",
    "        'beta': beta_.numpy()\n",
    "    }\n",
    "    print()"
   ]
  },
  {
   "cell_type": "code",
   "execution_count": 19,
   "metadata": {
    "scrolled": true
   },
   "outputs": [],
   "source": [
    "def expand(key, val):\n",
    "    # expand {\"name\":array([1,2,3,4,5])}\n",
    "    # into {\"name1\":1, \"name2\":2, ..., \"name5\":5}\n",
    "    if type(val)==np.ndarray:\n",
    "        return {key+str(i+1): x for i,x in enumerate(val)} \n",
    "    else:\n",
    "        return {key:val} \n",
    "\n",
    "def expand_param(param):\n",
    "    expanded_param = {}\n",
    "    for key, val in param.items():\n",
    "        expanded_param.update(expand(key,val))\n",
    "    return expanded_param"
   ]
  },
  {
   "cell_type": "code",
   "execution_count": 20,
   "metadata": {},
   "outputs": [
    {
     "data": {
      "text/html": [
       "<div>\n",
       "<style scoped>\n",
       "    .dataframe tbody tr th:only-of-type {\n",
       "        vertical-align: middle;\n",
       "    }\n",
       "\n",
       "    .dataframe tbody tr th {\n",
       "        vertical-align: top;\n",
       "    }\n",
       "\n",
       "    .dataframe thead th {\n",
       "        text-align: right;\n",
       "    }\n",
       "</style>\n",
       "<table border=\"1\" class=\"dataframe\">\n",
       "  <thead>\n",
       "    <tr style=\"text-align: right;\">\n",
       "      <th></th>\n",
       "      <th>ln_tau</th>\n",
       "      <th>beta0</th>\n",
       "      <th>beta1</th>\n",
       "      <th>beta2</th>\n",
       "      <th>beta3</th>\n",
       "    </tr>\n",
       "  </thead>\n",
       "  <tbody>\n",
       "    <tr>\n",
       "      <th>ground_truth</th>\n",
       "      <td>4.000000</td>\n",
       "      <td>0.000000</td>\n",
       "      <td>0.061249</td>\n",
       "      <td>0.461939</td>\n",
       "      <td>-0.643075</td>\n",
       "    </tr>\n",
       "    <tr>\n",
       "      <th>signorm</th>\n",
       "      <td>0.378514</td>\n",
       "      <td>0.001641</td>\n",
       "      <td>0.042315</td>\n",
       "      <td>0.329533</td>\n",
       "      <td>-0.457724</td>\n",
       "    </tr>\n",
       "    <tr>\n",
       "      <th>elbo</th>\n",
       "      <td>0.743640</td>\n",
       "      <td>-0.002171</td>\n",
       "      <td>0.045037</td>\n",
       "      <td>0.344039</td>\n",
       "      <td>-0.480620</td>\n",
       "    </tr>\n",
       "    <tr>\n",
       "      <th>iwelbo8</th>\n",
       "      <td>2.387775</td>\n",
       "      <td>0.001526</td>\n",
       "      <td>0.050559</td>\n",
       "      <td>0.394162</td>\n",
       "      <td>-0.547840</td>\n",
       "    </tr>\n",
       "    <tr>\n",
       "      <th>iwelbo64</th>\n",
       "      <td>3.402738</td>\n",
       "      <td>-0.001452</td>\n",
       "      <td>0.054671</td>\n",
       "      <td>0.413435</td>\n",
       "      <td>-0.573606</td>\n",
       "    </tr>\n",
       "    <tr>\n",
       "      <th>iwelbo512</th>\n",
       "      <td>3.661853</td>\n",
       "      <td>0.002176</td>\n",
       "      <td>0.057414</td>\n",
       "      <td>0.417788</td>\n",
       "      <td>-0.587914</td>\n",
       "    </tr>\n",
       "  </tbody>\n",
       "</table>\n",
       "</div>"
      ],
      "text/plain": [
       "                ln_tau     beta0     beta1     beta2     beta3\n",
       "ground_truth  4.000000  0.000000  0.061249  0.461939 -0.643075\n",
       "signorm       0.378514  0.001641  0.042315  0.329533 -0.457724\n",
       "elbo          0.743640 -0.002171  0.045037  0.344039 -0.480620\n",
       "iwelbo8       2.387775  0.001526  0.050559  0.394162 -0.547840\n",
       "iwelbo64      3.402738 -0.001452  0.054671  0.413435 -0.573606\n",
       "iwelbo512     3.661853  0.002176  0.057414  0.417788 -0.587914"
      ]
     },
     "execution_count": 20,
     "metadata": {},
     "output_type": "execute_result"
    }
   ],
   "source": [
    "pd.DataFrame({key: expand_param(param) for key,param in params.items()}).T"
   ]
  },
  {
   "cell_type": "markdown",
   "metadata": {},
   "source": [
    "##### Bottom Line: IWELBO gives better estiamte than elbo or sigmoid normal integral approximation, even for simple this model. "
   ]
  },
  {
   "cell_type": "code",
   "execution_count": 21,
   "metadata": {},
   "outputs": [],
   "source": [
    "class AdamOptimizer:\n",
    "    \n",
    "    def __init__(self, learning_rate=0.001, beta1=0.9, beta2=0.999, epsilon=1e-08):\n",
    "        self.learning_rate = learning_rate\n",
    "        self.beta1 = beta1\n",
    "        self.beta2 = beta2\n",
    "        self.epsilon = epsilon\n",
    "        self.ms_and_vs = 'uninitialized'\n",
    "        self.t = 1\n",
    "        \n",
    "    def apply_gradients(self, grads, weights):\n",
    "        \n",
    "        if self.ms_and_vs == 'uninitialized':\n",
    "            self.ms = [0 for _ in weights]\n",
    "            self.vs = [0 for _ in weights]\n",
    "\n",
    "        weights_new = []\n",
    "        ms_new = []\n",
    "        vs_new = []\n",
    "        \n",
    "        for g, w, m, v in zip(grads, weights, self.ms, self.vs):\n",
    "            m = self.beta1 * m + (1 - self.beta1) * g\n",
    "            v = self.beta2 * v + (1 - self.beta2) * np.power(g, 2)\n",
    "            m_hat = m / (1 - np.power(self.beta1, self.t))\n",
    "            v_hat = v / (1 - np.power(self.beta2, self.t))\n",
    "            w.assign_sub( self.learning_rate * m_hat / (np.sqrt(v_hat) + self.epsilon)  )\n",
    "            \n",
    "            ms_new.append(m)\n",
    "            vs_new.append(v)\n",
    "            weights_new.append(w)\n",
    "            \n",
    "        self.ms = ms_new\n",
    "        self.vs = vs_new\n",
    "        self.t += 1\n",
    "        return weights_new"
   ]
  },
  {
   "cell_type": "code",
   "execution_count": 22,
   "metadata": {},
   "outputs": [
    {
     "name": "stdout",
     "output_type": "stream",
     "text": [
      "training signorm...\n",
      "#iter: 0,\tloss: 1.3862943611198906\n",
      "#iter: 200,\tloss: 1.3707171055212053\n",
      "#iter: 400,\tloss: 1.3528428944021367\n",
      "#iter: 600,\tloss: 1.3312023945811176\n",
      "#iter: 800,\tloss: 1.3410623693954145\n",
      "#iter: 1000,\tloss: 1.3426938914094133\n",
      "#iter: 1200,\tloss: 1.3206564826611966\n",
      "#iter: 1400,\tloss: 1.3081351819534204\n",
      "#iter: 1600,\tloss: 1.31484663602539\n",
      "#iter: 1800,\tloss: 1.3416456382312112\n",
      "#iter: 2000,\tloss: 1.3290410778918562\n",
      "\n",
      "training elbo...\n",
      "#iter: 0,\tloss: 3.3410094907770027\n",
      "#iter: 200,\tloss: 3.023967484499803\n",
      "#iter: 400,\tloss: 3.177822596047671\n",
      "#iter: 600,\tloss: 2.7262216654215066\n",
      "#iter: 800,\tloss: 2.806871479394796\n",
      "#iter: 1000,\tloss: 2.6752930415700114\n",
      "#iter: 1200,\tloss: 2.631511068300235\n",
      "#iter: 1400,\tloss: 2.498154581635028\n",
      "#iter: 1600,\tloss: 2.4128848433718906\n",
      "#iter: 1800,\tloss: 2.4660048420646725\n",
      "#iter: 2000,\tloss: 2.3183719975211847\n",
      "\n",
      "training iwelbo8...\n",
      "#iter: 0,\tloss: 1.5089649011984525\n",
      "#iter: 200,\tloss: 1.489869569915107\n",
      "#iter: 400,\tloss: 1.437779595235428\n",
      "#iter: 600,\tloss: 1.4338701564206375\n",
      "#iter: 800,\tloss: 1.419377175049554\n",
      "#iter: 1000,\tloss: 1.4711629058618596\n",
      "#iter: 1200,\tloss: 1.4348586163479804\n",
      "#iter: 1400,\tloss: 1.4079456335433327\n",
      "#iter: 1600,\tloss: 1.3961482277443482\n",
      "#iter: 1800,\tloss: 1.4099463291335097\n",
      "#iter: 2000,\tloss: 1.4372897871476822\n",
      "\n",
      "training iwelbo64...\n",
      "#iter: 0,\tloss: 1.3696673473337828\n",
      "#iter: 200,\tloss: 1.3473858515708312\n",
      "#iter: 400,\tloss: 1.3125896717717016\n",
      "#iter: 600,\tloss: 1.3104061132973257\n",
      "#iter: 800,\tloss: 1.3132644678607945\n",
      "#iter: 1000,\tloss: 1.3023522540590957\n",
      "#iter: 1200,\tloss: 1.2886635523067957\n",
      "#iter: 1400,\tloss: 1.285808191123442\n",
      "#iter: 1600,\tloss: 1.2865496161682057\n",
      "#iter: 1800,\tloss: 1.332828824675963\n",
      "#iter: 2000,\tloss: 1.2833326983164561\n",
      "\n",
      "training iwelbo512...\n",
      "#iter: 0,\tloss: 1.3481658747252203\n",
      "#iter: 200,\tloss: 1.3325816268725212\n",
      "#iter: 400,\tloss: 1.3154004053289758\n",
      "#iter: 600,\tloss: 1.2951012207371577\n",
      "#iter: 800,\tloss: 1.2981253690185595\n",
      "#iter: 1000,\tloss: 1.281420411452527\n",
      "#iter: 1200,\tloss: 1.27171300762655\n",
      "#iter: 1400,\tloss: 1.2733316660434804\n",
      "#iter: 1600,\tloss: 1.2880863437404637\n",
      "#iter: 1800,\tloss: 1.2665102242848525\n",
      "#iter: 2000,\tloss: 1.2680700668367064\n",
      "\n"
     ]
    }
   ],
   "source": [
    "objectives = {\n",
    "    \"signorm\": lambda beta0, beta, ln_tau, mu, sigma: sigmoid_normal_likelihood(x, y, beta0, beta, ln_tau),\n",
    "    \"elbo\": lambda beta0, beta, ln_tau, mu, sigma: IWELBO(x, y, beta0, beta, ln_tau, mu, sigma, n_MC=1),\n",
    "    \"iwelbo8\": lambda beta0, beta, ln_tau, mu, sigma: IWELBO(x, y, beta0, beta, ln_tau, mu, sigma, n_MC=8),\n",
    "    \"iwelbo64\": lambda beta0, beta, ln_tau, mu, sigma: IWELBO(x, y, beta0, beta, ln_tau, mu, sigma, n_MC=64),\n",
    "    \"iwelbo512\": lambda beta0, beta, ln_tau, mu, sigma: IWELBO(x, y, beta0, beta, ln_tau, mu, sigma, n_MC=512)\n",
    "}\n",
    "params = {\"ground_truth\": param0}\n",
    "\n",
    "N,T,D = 1000 if tf.test.is_gpu_available() else 100, 2, 3\n",
    "\n",
    "for obj_name, obj_func in objectives.items():\n",
    "    \n",
    "    print(\"training {}...\".format(obj_name))\n",
    "    \n",
    "    beta0_ = tf.Variable(0, dtype=tf.float64)\n",
    "    beta_  = tf.Variable(np.zeros([D]), dtype=tf.float64)\n",
    "    ln_tau_   = tf.Variable(0, dtype=tf.float64)\n",
    "    \n",
    "    weights = [beta0_, beta_, ln_tau_]\n",
    "    \n",
    "    # Adam\n",
    "    optimizer = AdamOptimizer(learning_rate=0.0003)\n",
    "\n",
    "    for t in range(2001):\n",
    "        \n",
    "        x,y,_ = generate_data(N, D, T, beta0, beta, ln_tau)\n",
    "\n",
    "        with tf.GradientTape() as g:\n",
    "            g.watch(weights)\n",
    "            score = obj_func(*weights, mu, sigma)\n",
    "            loss = - score\n",
    "            \n",
    "        grads = g.gradient(loss, weights)\n",
    "        optimizer.apply_gradients(grads, weights)\n",
    "        \n",
    "        if t%200==0:\n",
    "            print(\"#iter: {},\\tloss: {}\".format(t, -score.numpy()))\n",
    "    \n",
    "    params[obj_name] = {\n",
    "        'ln_tau': ln_tau_.numpy(),\n",
    "        'beta0': beta0_.numpy(),\n",
    "        'beta': beta_.numpy()\n",
    "    }\n",
    "    print()"
   ]
  },
  {
   "cell_type": "code",
   "execution_count": 23,
   "metadata": {},
   "outputs": [
    {
     "data": {
      "text/html": [
       "<div>\n",
       "<style scoped>\n",
       "    .dataframe tbody tr th:only-of-type {\n",
       "        vertical-align: middle;\n",
       "    }\n",
       "\n",
       "    .dataframe tbody tr th {\n",
       "        vertical-align: top;\n",
       "    }\n",
       "\n",
       "    .dataframe thead th {\n",
       "        text-align: right;\n",
       "    }\n",
       "</style>\n",
       "<table border=\"1\" class=\"dataframe\">\n",
       "  <thead>\n",
       "    <tr style=\"text-align: right;\">\n",
       "      <th></th>\n",
       "      <th>ln_tau</th>\n",
       "      <th>beta0</th>\n",
       "      <th>beta1</th>\n",
       "      <th>beta2</th>\n",
       "      <th>beta3</th>\n",
       "    </tr>\n",
       "  </thead>\n",
       "  <tbody>\n",
       "    <tr>\n",
       "      <th>ground_truth</th>\n",
       "      <td>4.000000</td>\n",
       "      <td>0.000000</td>\n",
       "      <td>0.061249</td>\n",
       "      <td>0.461939</td>\n",
       "      <td>-0.643075</td>\n",
       "    </tr>\n",
       "    <tr>\n",
       "      <th>signorm</th>\n",
       "      <td>-0.448227</td>\n",
       "      <td>-0.000407</td>\n",
       "      <td>0.036280</td>\n",
       "      <td>0.306106</td>\n",
       "      <td>-0.436952</td>\n",
       "    </tr>\n",
       "    <tr>\n",
       "      <th>elbo</th>\n",
       "      <td>1.383611</td>\n",
       "      <td>0.000288</td>\n",
       "      <td>0.050738</td>\n",
       "      <td>0.425345</td>\n",
       "      <td>-0.592176</td>\n",
       "    </tr>\n",
       "    <tr>\n",
       "      <th>iwelbo8</th>\n",
       "      <td>0.620506</td>\n",
       "      <td>0.010779</td>\n",
       "      <td>0.047657</td>\n",
       "      <td>0.337367</td>\n",
       "      <td>-0.465715</td>\n",
       "    </tr>\n",
       "    <tr>\n",
       "      <th>iwelbo64</th>\n",
       "      <td>1.057014</td>\n",
       "      <td>0.002163</td>\n",
       "      <td>0.042973</td>\n",
       "      <td>0.353040</td>\n",
       "      <td>-0.495887</td>\n",
       "    </tr>\n",
       "    <tr>\n",
       "      <th>iwelbo512</th>\n",
       "      <td>1.383582</td>\n",
       "      <td>0.003989</td>\n",
       "      <td>0.040686</td>\n",
       "      <td>0.365589</td>\n",
       "      <td>-0.508970</td>\n",
       "    </tr>\n",
       "  </tbody>\n",
       "</table>\n",
       "</div>"
      ],
      "text/plain": [
       "                ln_tau     beta0     beta1     beta2     beta3\n",
       "ground_truth  4.000000  0.000000  0.061249  0.461939 -0.643075\n",
       "signorm      -0.448227 -0.000407  0.036280  0.306106 -0.436952\n",
       "elbo          1.383611  0.000288  0.050738  0.425345 -0.592176\n",
       "iwelbo8       0.620506  0.010779  0.047657  0.337367 -0.465715\n",
       "iwelbo64      1.057014  0.002163  0.042973  0.353040 -0.495887\n",
       "iwelbo512     1.383582  0.003989  0.040686  0.365589 -0.508970"
      ]
     },
     "execution_count": 23,
     "metadata": {},
     "output_type": "execute_result"
    }
   ],
   "source": [
    "pd.DataFrame({key: expand_param(param) for key,param in params.items()}).T"
   ]
  },
  {
   "cell_type": "markdown",
   "metadata": {},
   "source": [
    "#### Adam does not work well"
   ]
  },
  {
   "cell_type": "markdown",
   "metadata": {},
   "source": [
    "## MLMC"
   ]
  },
  {
   "cell_type": "code",
   "execution_count": 24,
   "metadata": {},
   "outputs": [],
   "source": [
    "def pointwise_dIWELBO(x, y, z, beta0, beta, ln_tau, mu, sigma):\n",
    "    \n",
    "    (N, T, D), (n_MC, N) = x.shape, z.shape\n",
    "    assert np.log2(n_MC)%1==0\n",
    "    \n",
    "    if n_MC == 1:\n",
    "        scores = pointwise_IWELBO(x, y, z, beta0, beta, ln_tau, mu, sigma)\n",
    "    else:\n",
    "        scores = pointwise_IWELBO(x, y, z, beta0, beta, ln_tau, mu, sigma)\n",
    "        scores -= (1/2.) * pointwise_IWELBO(x, y, z[:n_MC//2 ], beta0, beta, ln_tau, mu, sigma)\n",
    "        scores -= (1/2.) * pointwise_IWELBO(x, y, z[ n_MC//2:], beta0, beta, ln_tau, mu, sigma)\n",
    "    return scores"
   ]
  },
  {
   "cell_type": "code",
   "execution_count": 25,
   "metadata": {},
   "outputs": [],
   "source": [
    "def dIWELBO(x, y, beta0, beta, ln_tau, mu, sigma, level):\n",
    "    \n",
    "    N, = mu.shape\n",
    "    n_MC = 2**level\n",
    "    z = norm(loc=mu, scale=sigma).rvs([n_MC, N])\n",
    "    \n",
    "    diwelbo = tf.reduce_mean( pointwise_dIWELBO(x, y, z, beta0, beta, ln_tau, mu, sigma) )\n",
    "    return diwelbo"
   ]
  },
  {
   "cell_type": "code",
   "execution_count": 26,
   "metadata": {},
   "outputs": [],
   "source": [
    "def IWELBO_MLMC(x, y, beta0, beta, ln_tau, mu, sigma, max_level=8, w0=1-2.**(-3/2), b=2, randomize=False):\n",
    "    \n",
    "    N, T, D = x.shape\n",
    "\n",
    "    levels = np.arange(max_level)\n",
    "    weights = 2.**(-(b+1)/2*levels)\n",
    "    weights /= sum(weights)\n",
    "    weights = np.concatenate([[w0], (1-w0)*weights])\n",
    "    \n",
    "    if randomize==True:\n",
    "         Ns = np.random.multinomial(n=N, pvals=weights)\n",
    "        \n",
    "    elif randomize==False:\n",
    "        Ns = np.zeros_like(levels)\n",
    "        Ns = np.array([np.math.ceil(w*N) for w in weights], dtype=np.int)\n",
    "        Ns[0] = N - sum(Ns[1:])\n",
    "    \n",
    "    else:\n",
    "        raise(Exception(\"Invarid argument for 'randomize' of function IWELBO_MLMC. It must be True or False.\"))\n",
    "    \n",
    "    N_offset = 0\n",
    "    score = 0\n",
    "    for i, l in enumerate(levels):\n",
    "        if Ns[i]==0:\n",
    "            continue\n",
    "        x_tmp = x[N_offset:N_offset+Ns[i]]\n",
    "        y_tmp = y[N_offset:N_offset+Ns[i]]\n",
    "        mu_tmp = mu[N_offset:N_offset+Ns[i]]\n",
    "        sigma_tmp = sigma[N_offset:N_offset+Ns[i]]\n",
    "                       \n",
    "        if randomize==True:\n",
    "            score += dIWELBO(x_tmp, y_tmp, beta0, beta, ln_tau, mu_tmp, sigma_tmp, level=l) * Ns[i] / N / weights[i]   \n",
    "        elif randomize==False:\n",
    "            score += dIWELBO(x_tmp, y_tmp, beta0, beta, ln_tau, mu_tmp, sigma_tmp, level=l)\n",
    "        \n",
    "        N_offset += Ns[i]\n",
    "    return score"
   ]
  },
  {
   "cell_type": "code",
   "execution_count": 27,
   "metadata": {},
   "outputs": [],
   "source": [
    "x,y,_ = generate_data(N=10000, D=3, T=2, beta0=beta0, beta=beta, ln_tau=ln_tau)\n",
    "mu, sigma = laplace_approx(x, y, beta0, beta, ln_tau)    "
   ]
  },
  {
   "cell_type": "code",
   "execution_count": 28,
   "metadata": {},
   "outputs": [
    {
     "data": {
      "text/plain": [
       "<tf.Tensor: shape=(), dtype=float64, numpy=-1.2623518196950958>"
      ]
     },
     "execution_count": 28,
     "metadata": {},
     "output_type": "execute_result"
    }
   ],
   "source": [
    "IWELBO_MLMC(x, y, beta0, beta, ln_tau, mu, sigma, max_level=6, w0=0.9, randomize=True)"
   ]
  },
  {
   "cell_type": "code",
   "execution_count": 29,
   "metadata": {},
   "outputs": [
    {
     "data": {
      "text/plain": [
       "<tf.Tensor: shape=(), dtype=float64, numpy=-1.2644400108567964>"
      ]
     },
     "execution_count": 29,
     "metadata": {},
     "output_type": "execute_result"
    }
   ],
   "source": [
    "IWELBO(x, y, beta0, beta, ln_tau, mu, sigma, n_MC=64)"
   ]
  },
  {
   "cell_type": "markdown",
   "metadata": {},
   "source": [
    "## MLMC codition check for objective"
   ]
  },
  {
   "cell_type": "code",
   "execution_count": 30,
   "metadata": {},
   "outputs": [],
   "source": [
    "def conv_stats_dIWELBO(x, y, beta0, beta, ln_tau, mu, sigma, level=1):\n",
    "    \n",
    "    N, = mu.shape\n",
    "    n_MC = 2**level\n",
    "    z = norm(loc=mu, scale=sigma).rvs([n_MC, N])\n",
    "    \n",
    "    diwelbos = pointwise_dIWELBO(x, y, z, beta0, beta, ln_tau, mu, sigma).numpy()\n",
    "    iwelbos = pointwise_IWELBO(x, y, z, beta0, beta, ln_tau, mu, sigma).numpy()\n",
    "    \n",
    "    return {'mean_dIWELBO':np.mean(diwelbos), \n",
    "            'mean_abs_dIWELBO':np.mean(np.abs(diwelbos)), \n",
    "            'mean_squared_dIWELBO':np.mean(diwelbos**2),\n",
    "            'var_dIWELBO':np.var(diwelbos), \n",
    "            'var_IWELBO':np.var(iwelbos)}"
   ]
  },
  {
   "cell_type": "code",
   "execution_count": 31,
   "metadata": {},
   "outputs": [],
   "source": [
    "def tmp(l):\n",
    "    N0 = 2000000\n",
    "    x,y,_ = generate_data(N=N0//2**l, D=3, T=2, beta0=beta0, beta=beta, ln_tau=ln_tau)\n",
    "    mu, sigma = laplace_approx(x, y, beta0, beta, ln_tau)\n",
    "    return conv_stats_dIWELBO(x, y, beta0, beta, ln_tau, mu, sigma, level=l)\n",
    "L=10\n",
    "conv_stats = [tmp(l) for l in range(10)]\n",
    "conv_stats = pd.DataFrame(conv_stats)"
   ]
  },
  {
   "cell_type": "code",
   "execution_count": 32,
   "metadata": {},
   "outputs": [
    {
     "data": {
      "image/png": "[encoded data removed]",
      "text/plain": [
       "<Figure size 432x288 with 1 Axes>"
      ]
     },
     "metadata": {
      "needs_background": "light"
     },
     "output_type": "display_data"
    }
   ],
   "source": [
    "plt.plot(conv_stats[['mean_abs_dIWELBO', 'var_dIWELBO', 'var_IWELBO']])\n",
    "s,t = conv_stats[['mean_abs_dIWELBO', 'var_dIWELBO']].iloc[0]\n",
    "plt.plot(s*2.**(-np.arange(L)), c='grey')\n",
    "plt.plot(t*2.**(-np.arange(L)*2), c='grey')\n",
    "\n",
    "plt.legend([r'$\\mathrm{E} | \\Delta \\mathrm{IW}$-$\\mathrm{ELBO}|$', \n",
    "            r'$\\mathrm{Var}[\\Delta \\mathrm{IW}$-$\\mathrm{ELBO}]$', \n",
    "            r'$\\mathrm{Var}[\\mathrm{IW}$-$\\mathrm{ELBO}]$',\n",
    "            r'$O(2^{-\\ell}), O(2^{-2\\ell})$'])\n",
    "plt.yscale('log')"
   ]
  },
  {
   "cell_type": "code",
   "execution_count": 33,
   "metadata": {},
   "outputs": [
    {
     "data": {
      "text/html": [
       "<div>\n",
       "<style scoped>\n",
       "    .dataframe tbody tr th:only-of-type {\n",
       "        vertical-align: middle;\n",
       "    }\n",
       "\n",
       "    .dataframe tbody tr th {\n",
       "        vertical-align: top;\n",
       "    }\n",
       "\n",
       "    .dataframe thead th {\n",
       "        text-align: right;\n",
       "    }\n",
       "</style>\n",
       "<table border=\"1\" class=\"dataframe\">\n",
       "  <thead>\n",
       "    <tr style=\"text-align: right;\">\n",
       "      <th></th>\n",
       "      <th>mean_dIWELBO</th>\n",
       "      <th>mean_abs_dIWELBO</th>\n",
       "      <th>mean_squared_dIWELBO</th>\n",
       "      <th>var_dIWELBO</th>\n",
       "      <th>var_IWELBO</th>\n",
       "    </tr>\n",
       "  </thead>\n",
       "  <tbody>\n",
       "    <tr>\n",
       "      <th>0</th>\n",
       "      <td>-1.275703</td>\n",
       "      <td>1.277314</td>\n",
       "      <td>1.856386e+00</td>\n",
       "      <td>2.289688e-01</td>\n",
       "      <td>0.228969</td>\n",
       "    </tr>\n",
       "    <tr>\n",
       "      <th>1</th>\n",
       "      <td>0.006726</td>\n",
       "      <td>0.006726</td>\n",
       "      <td>7.071724e-04</td>\n",
       "      <td>6.619292e-04</td>\n",
       "      <td>0.219423</td>\n",
       "    </tr>\n",
       "    <tr>\n",
       "      <th>2</th>\n",
       "      <td>0.003940</td>\n",
       "      <td>0.003940</td>\n",
       "      <td>2.495505e-04</td>\n",
       "      <td>2.340271e-04</td>\n",
       "      <td>0.214770</td>\n",
       "    </tr>\n",
       "    <tr>\n",
       "      <th>3</th>\n",
       "      <td>0.002400</td>\n",
       "      <td>0.002400</td>\n",
       "      <td>1.029703e-04</td>\n",
       "      <td>9.720903e-05</td>\n",
       "      <td>0.209928</td>\n",
       "    </tr>\n",
       "    <tr>\n",
       "      <th>4</th>\n",
       "      <td>0.001419</td>\n",
       "      <td>0.001419</td>\n",
       "      <td>4.363170e-05</td>\n",
       "      <td>4.161684e-05</td>\n",
       "      <td>0.207385</td>\n",
       "    </tr>\n",
       "    <tr>\n",
       "      <th>5</th>\n",
       "      <td>0.000838</td>\n",
       "      <td>0.000838</td>\n",
       "      <td>2.844429e-05</td>\n",
       "      <td>2.774237e-05</td>\n",
       "      <td>0.206988</td>\n",
       "    </tr>\n",
       "    <tr>\n",
       "      <th>6</th>\n",
       "      <td>0.000442</td>\n",
       "      <td>0.000442</td>\n",
       "      <td>3.518712e-06</td>\n",
       "      <td>3.323145e-06</td>\n",
       "      <td>0.208311</td>\n",
       "    </tr>\n",
       "    <tr>\n",
       "      <th>7</th>\n",
       "      <td>0.000247</td>\n",
       "      <td>0.000247</td>\n",
       "      <td>1.256565e-06</td>\n",
       "      <td>1.195367e-06</td>\n",
       "      <td>0.203105</td>\n",
       "    </tr>\n",
       "    <tr>\n",
       "      <th>8</th>\n",
       "      <td>0.000127</td>\n",
       "      <td>0.000127</td>\n",
       "      <td>3.008163e-07</td>\n",
       "      <td>2.846336e-07</td>\n",
       "      <td>0.212216</td>\n",
       "    </tr>\n",
       "    <tr>\n",
       "      <th>9</th>\n",
       "      <td>0.000060</td>\n",
       "      <td>0.000060</td>\n",
       "      <td>4.929516e-08</td>\n",
       "      <td>4.567895e-08</td>\n",
       "      <td>0.201465</td>\n",
       "    </tr>\n",
       "  </tbody>\n",
       "</table>\n",
       "</div>"
      ],
      "text/plain": [
       "   mean_dIWELBO  mean_abs_dIWELBO  mean_squared_dIWELBO   var_dIWELBO  \\\n",
       "0     -1.275703          1.277314          1.856386e+00  2.289688e-01   \n",
       "1      0.006726          0.006726          7.071724e-04  6.619292e-04   \n",
       "2      0.003940          0.003940          2.495505e-04  2.340271e-04   \n",
       "3      0.002400          0.002400          1.029703e-04  9.720903e-05   \n",
       "4      0.001419          0.001419          4.363170e-05  4.161684e-05   \n",
       "5      0.000838          0.000838          2.844429e-05  2.774237e-05   \n",
       "6      0.000442          0.000442          3.518712e-06  3.323145e-06   \n",
       "7      0.000247          0.000247          1.256565e-06  1.195367e-06   \n",
       "8      0.000127          0.000127          3.008163e-07  2.846336e-07   \n",
       "9      0.000060          0.000060          4.929516e-08  4.567895e-08   \n",
       "\n",
       "   var_IWELBO  \n",
       "0    0.228969  \n",
       "1    0.219423  \n",
       "2    0.214770  \n",
       "3    0.209928  \n",
       "4    0.207385  \n",
       "5    0.206988  \n",
       "6    0.208311  \n",
       "7    0.203105  \n",
       "8    0.212216  \n",
       "9    0.201465  "
      ]
     },
     "execution_count": 33,
     "metadata": {},
     "output_type": "execute_result"
    }
   ],
   "source": [
    "conv_stats"
   ]
  },
  {
   "cell_type": "markdown",
   "metadata": {},
   "source": [
    "## MLMC codition check for gradients"
   ]
  },
  {
   "cell_type": "code",
   "execution_count": 34,
   "metadata": {},
   "outputs": [],
   "source": [
    "def conv_stats_grad_dIWELBO(x, y, beta0, beta, ln_tau, mu, sigma, level=1):\n",
    "    \n",
    "    N, = mu.shape\n",
    "    n_MC = 2**level\n",
    "    z = norm(loc=mu, scale=sigma).rvs([n_MC, N]).T\n",
    "    \n",
    "    param = tf.concat([beta, [beta0], [ln_tau]], axis=0)\n",
    "    param = tf.Variable(param, dtype=tf.float64)\n",
    "    params = tf.reshape(param, [1,D+2]) * np.ones([N,1])\n",
    "\n",
    "    mu, sigma = laplace_approx(x, y, beta0, beta, ln_tau)        \n",
    "    \n",
    "    def get_grad(args):\n",
    "        \n",
    "        param, x_, y_, z_, mu, sigma = args\n",
    "        z_ = tf.reshape(z_, [-1,1])\n",
    "        \n",
    "        with tf.GradientTape(persistent=True) as g:\n",
    "            g.watch(param)\n",
    "            beta_ = param[0,:D]\n",
    "            beta0_ = param[0,D]\n",
    "            ln_tau_ = param[0,D+1]\n",
    "            diwelbos = pointwise_dIWELBO(x_, y_, z_, beta0_, beta_, ln_tau_, mu, sigma)\n",
    "            iwelbos = pointwise_IWELBO(x_, y_, z_, beta0_, beta_, ln_tau_, mu, sigma)\n",
    "            \n",
    "        a = g.gradient(diwelbos, param)\n",
    "        b = g.gradient(iwelbos, param)\n",
    "        \n",
    "        del g\n",
    "        \n",
    "        return a,b\n",
    "    \n",
    "    args = [tf.expand_dims(arg, axis=1) for arg in [params, x, y, z, mu, sigma]]\n",
    "    grads = tf.vectorized_map(get_grad, args)\n",
    "    \n",
    "    grad_diwelbos = tf.squeeze(grads[0])\n",
    "    grad_iwelbos = tf.squeeze(grads[1])\n",
    "    \n",
    "    return {'norm_mean_grad_dIWELBO': np.linalg.norm(np.mean(grad_diwelbos, axis=0)), \n",
    "            'mean_norm_grad_dIWELBO': np.mean(np.linalg.norm(grad_diwelbos, axis=1)), \n",
    "            'mean_squared_norm_grad_dIWELBO': np.mean(np.linalg.norm(grad_diwelbos, axis=1)**2),\n",
    "            'trace_covariance_grad_dIWELBO': np.sum(np.var(grad_diwelbos, axis=0)), \n",
    "            'trace_covariance_grad_IWELBO': np.sum(np.var(grad_iwelbos, axis=0))}"
   ]
  },
  {
   "cell_type": "code",
   "execution_count": 35,
   "metadata": {},
   "outputs": [],
   "source": [
    "def tmp(l):\n",
    "    N0 = 2000000\n",
    "    x,y,_ = generate_data(N=N0//2**l, D=3, T=2, beta0=beta0, beta=beta, ln_tau=ln_tau)\n",
    "    mu, sigma = laplace_approx(x, y, beta0, beta, ln_tau)\n",
    "    return conv_stats_grad_dIWELBO(x, y, beta0, beta, ln_tau, mu, sigma, level=l)\n",
    "L=10\n",
    "conv_stats = [tmp(l) for l in range(L)]\n",
    "conv_stats = pd.DataFrame(conv_stats)"
   ]
  },
  {
   "cell_type": "code",
   "execution_count": 36,
   "metadata": {
    "scrolled": true
   },
   "outputs": [
    {
     "data": {
      "image/png": "[encoded data removed]",
      "text/plain": [
       "<Figure size 432x288 with 1 Axes>"
      ]
     },
     "metadata": {
      "needs_background": "light"
     },
     "output_type": "display_data"
    }
   ],
   "source": [
    "plt.plot(conv_stats[['norm_mean_grad_dIWELBO', 'trace_covariance_grad_dIWELBO', 'trace_covariance_grad_IWELBO']])\n",
    "s,t = conv_stats[['norm_mean_grad_dIWELBO', 'trace_covariance_grad_dIWELBO']].iloc[0]\n",
    "plt.plot(s*2.**(-np.arange(L)/2), c='grey')\n",
    "plt.plot(t*2.**(-np.arange(L)), c='grey')\n",
    "\n",
    "plt.legend([r'$||\\mathrm{E} [\\nabla (\\Delta \\mathrm{IW}$-$\\mathrm{ELBO})]||_2^2$', \n",
    "            r'$\\mathrm{tr}(\\mathrm{Cov}[\\Delta \\mathrm{IW}$-$\\mathrm{ELBO}])$', \n",
    "            r'$\\mathrm{tr}(\\mathrm{Cov}[\\Delta \\mathrm{IW}$-$\\mathrm{ELBO}])$',\n",
    "            r'$O(2^{-\\ell/2}), O(2^{-\\ell})$'])\n",
    "plt.yscale('log')"
   ]
  },
  {
   "cell_type": "markdown",
   "metadata": {},
   "source": [
    "When we take gradient w.r.t. $\\theta_1: \\ \\tau=\\exp\\theta_1$, $b\\approx1$ for $V_\\ell\\propto 2^{-b\\ell}$. \n",
    "<br>\n",
    "However, taking gradient w.r.t. $\\theta_2: \\ \\tau^2=:\\mathrm{softplus}(\\theta_2)$, we obtain $b\\gtrapprox1$ for $V_\\ell\\propto 2^{-b\\ell}$"
   ]
  },
  {
   "cell_type": "code",
   "execution_count": 37,
   "metadata": {},
   "outputs": [
    {
     "data": {
      "text/html": [
       "<div>\n",
       "<style scoped>\n",
       "    .dataframe tbody tr th:only-of-type {\n",
       "        vertical-align: middle;\n",
       "    }\n",
       "\n",
       "    .dataframe tbody tr th {\n",
       "        vertical-align: top;\n",
       "    }\n",
       "\n",
       "    .dataframe thead th {\n",
       "        text-align: right;\n",
       "    }\n",
       "</style>\n",
       "<table border=\"1\" class=\"dataframe\">\n",
       "  <thead>\n",
       "    <tr style=\"text-align: right;\">\n",
       "      <th></th>\n",
       "      <th>norm_mean_grad_dIWELBO</th>\n",
       "      <th>mean_norm_grad_dIWELBO</th>\n",
       "      <th>mean_squared_norm_grad_dIWELBO</th>\n",
       "      <th>trace_covariance_grad_dIWELBO</th>\n",
       "      <th>trace_covariance_grad_IWELBO</th>\n",
       "    </tr>\n",
       "  </thead>\n",
       "  <tbody>\n",
       "    <tr>\n",
       "      <th>0</th>\n",
       "      <td>0.022289</td>\n",
       "      <td>0.927296</td>\n",
       "      <td>1.253767e+00</td>\n",
       "      <td>1.253270e+00</td>\n",
       "      <td>1.253270</td>\n",
       "    </tr>\n",
       "    <tr>\n",
       "      <th>1</th>\n",
       "      <td>0.007841</td>\n",
       "      <td>0.035868</td>\n",
       "      <td>8.364518e-03</td>\n",
       "      <td>8.303031e-03</td>\n",
       "      <td>0.981630</td>\n",
       "    </tr>\n",
       "    <tr>\n",
       "      <th>2</th>\n",
       "      <td>0.005413</td>\n",
       "      <td>0.019061</td>\n",
       "      <td>2.011843e-03</td>\n",
       "      <td>1.982546e-03</td>\n",
       "      <td>0.861689</td>\n",
       "    </tr>\n",
       "    <tr>\n",
       "      <th>3</th>\n",
       "      <td>0.003692</td>\n",
       "      <td>0.010910</td>\n",
       "      <td>6.810848e-04</td>\n",
       "      <td>6.674574e-04</td>\n",
       "      <td>0.798844</td>\n",
       "    </tr>\n",
       "    <tr>\n",
       "      <th>4</th>\n",
       "      <td>0.002394</td>\n",
       "      <td>0.006241</td>\n",
       "      <td>2.523368e-04</td>\n",
       "      <td>2.466035e-04</td>\n",
       "      <td>0.765758</td>\n",
       "    </tr>\n",
       "    <tr>\n",
       "      <th>5</th>\n",
       "      <td>0.001415</td>\n",
       "      <td>0.003440</td>\n",
       "      <td>7.337997e-05</td>\n",
       "      <td>7.137805e-05</td>\n",
       "      <td>0.749882</td>\n",
       "    </tr>\n",
       "    <tr>\n",
       "      <th>6</th>\n",
       "      <td>0.000866</td>\n",
       "      <td>0.001928</td>\n",
       "      <td>3.263249e-05</td>\n",
       "      <td>3.188279e-05</td>\n",
       "      <td>0.744045</td>\n",
       "    </tr>\n",
       "    <tr>\n",
       "      <th>7</th>\n",
       "      <td>0.000511</td>\n",
       "      <td>0.001088</td>\n",
       "      <td>2.675640e-05</td>\n",
       "      <td>2.649523e-05</td>\n",
       "      <td>0.738173</td>\n",
       "    </tr>\n",
       "    <tr>\n",
       "      <th>8</th>\n",
       "      <td>0.000282</td>\n",
       "      <td>0.000566</td>\n",
       "      <td>6.761692e-06</td>\n",
       "      <td>6.682248e-06</td>\n",
       "      <td>0.730432</td>\n",
       "    </tr>\n",
       "    <tr>\n",
       "      <th>9</th>\n",
       "      <td>0.000124</td>\n",
       "      <td>0.000258</td>\n",
       "      <td>4.204475e-07</td>\n",
       "      <td>4.050188e-07</td>\n",
       "      <td>0.733965</td>\n",
       "    </tr>\n",
       "  </tbody>\n",
       "</table>\n",
       "</div>"
      ],
      "text/plain": [
       "   norm_mean_grad_dIWELBO  mean_norm_grad_dIWELBO  \\\n",
       "0                0.022289                0.927296   \n",
       "1                0.007841                0.035868   \n",
       "2                0.005413                0.019061   \n",
       "3                0.003692                0.010910   \n",
       "4                0.002394                0.006241   \n",
       "5                0.001415                0.003440   \n",
       "6                0.000866                0.001928   \n",
       "7                0.000511                0.001088   \n",
       "8                0.000282                0.000566   \n",
       "9                0.000124                0.000258   \n",
       "\n",
       "   mean_squared_norm_grad_dIWELBO  trace_covariance_grad_dIWELBO  \\\n",
       "0                    1.253767e+00                   1.253270e+00   \n",
       "1                    8.364518e-03                   8.303031e-03   \n",
       "2                    2.011843e-03                   1.982546e-03   \n",
       "3                    6.810848e-04                   6.674574e-04   \n",
       "4                    2.523368e-04                   2.466035e-04   \n",
       "5                    7.337997e-05                   7.137805e-05   \n",
       "6                    3.263249e-05                   3.188279e-05   \n",
       "7                    2.675640e-05                   2.649523e-05   \n",
       "8                    6.761692e-06                   6.682248e-06   \n",
       "9                    4.204475e-07                   4.050188e-07   \n",
       "\n",
       "   trace_covariance_grad_IWELBO  \n",
       "0                      1.253270  \n",
       "1                      0.981630  \n",
       "2                      0.861689  \n",
       "3                      0.798844  \n",
       "4                      0.765758  \n",
       "5                      0.749882  \n",
       "6                      0.744045  \n",
       "7                      0.738173  \n",
       "8                      0.730432  \n",
       "9                      0.733965  "
      ]
     },
     "execution_count": 37,
     "metadata": {},
     "output_type": "execute_result"
    }
   ],
   "source": [
    "conv_stats"
   ]
  },
  {
   "cell_type": "markdown",
   "metadata": {},
   "source": [
    "## Cost comparison of objective"
   ]
  },
  {
   "cell_type": "code",
   "execution_count": 38,
   "metadata": {},
   "outputs": [],
   "source": [
    "NMC_ests = []\n",
    "MLMC_ests = []\n",
    "RandMLMC_ests = []\n",
    "for i in range(100):\n",
    "    x,y,_ = generate_data(N=4000, D=3, T=2, beta0=beta0, beta=beta, ln_tau=ln_tau)\n",
    "    mu, sigma = laplace_approx(x, y, beta0, beta, ln_tau)\n",
    "    NMC_ests.append( IWELBO(x, y, beta0, beta, ln_tau, mu, sigma, n_MC=2**9).numpy() )\n",
    "    MLMC_ests.append( IWELBO_MLMC(x, y, beta0, beta, ln_tau, mu, sigma, max_level=9, w0=0.90, randomize=False).numpy() )\n",
    "    RandMLMC_ests.append( IWELBO_MLMC(x, y, beta0, beta, ln_tau, mu, sigma, max_level=9, w0=0.90, randomize=True).numpy() )"
   ]
  },
  {
   "cell_type": "code",
   "execution_count": 39,
   "metadata": {
    "scrolled": false
   },
   "outputs": [
    {
     "name": "stdout",
     "output_type": "stream",
     "text": [
      "std-div of NMC estimator:       0.0069707819566498744\n",
      "std-div of MLMC estimator:      0.008807950550722157\n",
      "std-div of RandMLMC estimator:  0.013472967429675764\n"
     ]
    }
   ],
   "source": [
    "print(\"std-div of NMC estimator:      \", np.std(NMC_ests))\n",
    "print(\"std-div of MLMC estimator:     \", np.std(MLMC_ests))\n",
    "print(\"std-div of RandMLMC estimator: \", np.std(RandMLMC_ests))"
   ]
  },
  {
   "cell_type": "code",
   "execution_count": 40,
   "metadata": {},
   "outputs": [
    {
     "name": "stdout",
     "output_type": "stream",
     "text": [
      "95 ms ± 94.6 µs per loop (mean ± std. dev. of 7 runs, 10 loops each)\n"
     ]
    }
   ],
   "source": [
    "%%timeit\n",
    "IWELBO(x, y, beta0, beta, ln_tau, mu, sigma, n_MC=2**9)"
   ]
  },
  {
   "cell_type": "code",
   "execution_count": 41,
   "metadata": {},
   "outputs": [
    {
     "name": "stdout",
     "output_type": "stream",
     "text": [
      "102 ms ± 1.05 ms per loop (mean ± std. dev. of 7 runs, 10 loops each)\n"
     ]
    }
   ],
   "source": [
    "%%timeit\n",
    "IWELBO_MLMC(x, y, beta0, beta, ln_tau, mu, sigma, max_level=9, w0=0.90, randomize=False)"
   ]
  },
  {
   "cell_type": "code",
   "execution_count": 42,
   "metadata": {},
   "outputs": [
    {
     "name": "stdout",
     "output_type": "stream",
     "text": [
      "84.3 ms ± 3.03 ms per loop (mean ± std. dev. of 7 runs, 10 loops each)\n"
     ]
    }
   ],
   "source": [
    "%%timeit\n",
    "IWELBO_MLMC(x, y, beta0, beta, ln_tau, mu, sigma, max_level=9, w0=0.90, randomize=True)"
   ]
  },
  {
   "cell_type": "markdown",
   "metadata": {},
   "source": [
    "## Cost comparison of gradients"
   ]
  },
  {
   "cell_type": "code",
   "execution_count": 43,
   "metadata": {},
   "outputs": [],
   "source": [
    "NMC_ests = []\n",
    "MLMC_ests = []\n",
    "RandMLMC_ests = []\n",
    "for i in range(100):\n",
    "    N0 = 2000\n",
    "    x,y,_ = generate_data(N=N0, D=3, T=2, beta0=beta0, beta=beta, ln_tau=ln_tau)\n",
    "    mu, sigma = laplace_approx(x, y, beta0, beta, ln_tau)\n",
    "    \n",
    "    param = tf.concat([beta, [beta0], [ln_tau]], axis=0)\n",
    "    param = tf.Variable(param, dtype=tf.float64)\n",
    "    \n",
    "    with tf.GradientTape(persistent=True) as g:\n",
    "        g.watch(param)\n",
    "        beta_ = param[:D]\n",
    "        beta0_ = param[D]\n",
    "        ln_tau_ = param[D+1]\n",
    "        nmc_est = IWELBO(x, y, beta0_, beta_, ln_tau_, mu, sigma, n_MC=2**12)\n",
    "        mlmc_est = IWELBO_MLMC(x, y, beta0_, beta_, ln_tau_, mu, sigma, max_level=12, w0=0.8, b=1,  randomize=False)\n",
    "        randmlmc_est = IWELBO_MLMC(x, y, beta0_, beta_, ln_tau_, mu, sigma, max_level=12, w0=0.8, b=1, randomize=True)\n",
    "            \n",
    "    nmc_est = g.gradient(nmc_est, param)\n",
    "    mlmc_est = g.gradient(mlmc_est, param)\n",
    "    randmlmc_est = g.gradient(randmlmc_est, param)\n",
    "    \n",
    "    del g\n",
    "        \n",
    "    NMC_ests.append( nmc_est )\n",
    "    MLMC_ests.append( mlmc_est )\n",
    "    RandMLMC_ests.append( randmlmc_est )"
   ]
  },
  {
   "cell_type": "code",
   "execution_count": 44,
   "metadata": {
    "scrolled": true
   },
   "outputs": [
    {
     "name": "stdout",
     "output_type": "stream",
     "text": [
      "E||grad||^2 of NMC estimator:       0.1826151595071211\n",
      "E||grad||^2 of MLMC estimator:      0.30859350412882297\n",
      "E||grad||^2 of RandMLMC estimator:  0.29205381966792004\n"
     ]
    }
   ],
   "source": [
    "print(\"E||grad||^2 of NMC estimator:      \", np.mean(np.linalg.norm(NMC_ests)))\n",
    "print(\"E||grad||^2 of MLMC estimator:     \", np.mean(np.linalg.norm(MLMC_ests)))\n",
    "print(\"E||grad||^2 of RandMLMC estimator: \", np.mean(np.linalg.norm(RandMLMC_ests)))"
   ]
  },
  {
   "cell_type": "code",
   "execution_count": 45,
   "metadata": {},
   "outputs": [
    {
     "name": "stdout",
     "output_type": "stream",
     "text": [
      "483 ms ± 671 µs per loop (mean ± std. dev. of 7 runs, 1 loop each)\n"
     ]
    }
   ],
   "source": [
    "%%timeit\n",
    "with tf.GradientTape(persistent=True) as g:\n",
    "    g.watch(param)\n",
    "    beta_ = param[:D]\n",
    "    beta0_ = param[D]\n",
    "    ln_tau_ = param[D+1]\n",
    "    nmc_est = IWELBO(x, y, beta0_, beta_, ln_tau_, mu, sigma, n_MC=2**12)\n",
    "\n",
    "nmc_est = g.gradient(nmc_est, param)"
   ]
  },
  {
   "cell_type": "code",
   "execution_count": 46,
   "metadata": {},
   "outputs": [
    {
     "name": "stdout",
     "output_type": "stream",
     "text": [
      "295 ms ± 2.07 ms per loop (mean ± std. dev. of 7 runs, 1 loop each)\n"
     ]
    }
   ],
   "source": [
    "%%timeit\n",
    "with tf.GradientTape(persistent=True) as g:\n",
    "    g.watch(param)\n",
    "    beta_ = param[:D]\n",
    "    beta0_ = param[D]\n",
    "    ln_tau_ = param[D+1]\n",
    "    mlmc_est = IWELBO_MLMC(x, y, beta0_, beta_, ln_tau_, mu, sigma, max_level=12, w0=0.8, b=1, randomize=False)\n",
    "\n",
    "mlmc_est = g.gradient(mlmc_est, param)"
   ]
  },
  {
   "cell_type": "code",
   "execution_count": 47,
   "metadata": {},
   "outputs": [
    {
     "name": "stdout",
     "output_type": "stream",
     "text": [
      "247 ms ± 8.24 ms per loop (mean ± std. dev. of 7 runs, 10 loops each)\n"
     ]
    }
   ],
   "source": [
    "%%timeit\n",
    "with tf.GradientTape(persistent=True) as g:\n",
    "    g.watch(param)\n",
    "    beta_ = param[:D]\n",
    "    beta0_ = param[D]\n",
    "    ln_tau_ = param[D+1]\n",
    "    randmlmc_est = IWELBO_MLMC(x, y, beta0_, beta_, ln_tau_, mu, sigma, max_level=12, w0=0.8, b=1, randomize=True)\n",
    "\n",
    "randmlmc_est = g.gradient(randmlmc_est, param)"
   ]
  },
  {
   "cell_type": "markdown",
   "metadata": {},
   "source": [
    "#### For finding nice configuration where MLMC wins NMC "
   ]
  },
  {
   "cell_type": "code",
   "execution_count": 48,
   "metadata": {},
   "outputs": [
    {
     "name": "stdout",
     "output_type": "stream",
     "text": [
      "1.3948243166288943 2.856998954028648\n",
      "0.45603794048099316 1.8214885064592938\n"
     ]
    }
   ],
   "source": [
    "N,_ = y.shape\n",
    "n_MC = 2\n",
    "z = norm(loc=mu, scale=sigma).rvs([n_MC, N])\n",
    "\n",
    "diwelbos = pointwise_dIWELBO(x, y, z, beta0, beta, ln_tau, mu, sigma).numpy()\n",
    "score1 = np.var(NMC_ests) / diwelbos.mean()**2\n",
    "score2 = np.var(MLMC_ests) / np.var(NMC_ests)\n",
    "print(score1, score2)\n",
    "\n",
    "print(np.std(x@beta, axis=1).mean(), z.std())"
   ]
  }
 ],
 "metadata": {
  "kernelspec": {
   "display_name": "Python 3",
   "language": "python",
   "name": "python3"
  },
  "language_info": {
   "codemirror_mode": {
    "name": "ipython",
    "version": 3
   },
   "file_extension": ".py",
   "mimetype": "text/x-python",
   "name": "python",
   "nbconvert_exporter": "python",
   "pygments_lexer": "ipython3",
   "version": "3.6.9"
  }
 },
 "nbformat": 4,
 "nbformat_minor": 4
}
