{
 "cells": [
  {
   "cell_type": "markdown",
   "metadata": {},
   "source": [
    "# Sparse GP Classification"
   ]
  },
  {
   "cell_type": "markdown",
   "metadata": {},
   "source": [
    "## Model Description"
   ]
  },
  {
   "cell_type": "markdown",
   "metadata": {},
   "source": [
    "&nbsp;&nbsp;&nbsp;&nbsp;&nbsp;\n",
    "$f \\sim\\mathcal{GP}_{\\text{FITC}}(K, z_{1:M})$\n",
    "<br>&nbsp;&nbsp;&nbsp;&nbsp;&nbsp;\n",
    "$Y_n \\sim \\mathrm{Bernoulli}(\\sigma(f))$,\n",
    "\n",
    "where $K(x_1,x_2) = \\exp\\left(\\beta - \\sum_{d=1,2}\\mathrm{softplus}({\\alpha_d})\\cdot(x_{1d} - x_{2d})^2\\right)$.\n",
    "<br>\n",
    "Here, latent process $f\\sim\\mathcal{GP}_{\\text{FITC}}(K, z_{1:M})$ is defined as:\n",
    "<br>&nbsp;&nbsp;&nbsp;&nbsp;&nbsp;\n",
    "$u=f_0\\small{(z_{1:M})}$ for $f_0\\sim\\mathcal{GP}(K)$\n",
    "<br>&nbsp;&nbsp;&nbsp;&nbsp;&nbsp;\n",
    "$f(x)\\sim\\mathcal{GP}(K| f\\small{(z_{1:M})}=u)$ <br>\n",
    "Additionally, conditional independence of process $f$ among any points given $u=f_0\\small{(z_{1:M})} = \\left(f_0(z_1), ..., f_0(z_M)\\right)$ is assumed. <br>\n",
    "That is, for any $n_1$ and $n_2$, $f(x_{n_1})\\perp \\!\\!\\! \\perp f(x_{n_1})|u$."
   ]
  },
  {
   "cell_type": "markdown",
   "metadata": {},
   "source": [
    "## Local Marginalization of Evidece Lower Bound\n",
    "By simplifying notation as $f_{1:N} = f(x_{1:N})$ and $u = f(z_{1:M})$, we can write evidence lower bound (ELBO) and locally margianlized likelihood (LM-ELBO)."
   ]
  },
  {
   "cell_type": "markdown",
   "metadata": {},
   "source": [
    "\\begin{align}\n",
    "\\mathrm{LM}\\text{-}\\mathrm{ELBO}\n",
    "&= \\log p(y_{1:N}) - \\mathrm{KL}\\left[\\ q(u)\\ ||\\ p(u|y_{1:N})\\ \\right] \\\\\n",
    "&= \\mathrm{E}_{u\\sim q}\\left[\\ \\log p(y_{1:N}|u)\\ \\right]\n",
    " - \\mathrm{KL}\\left[\\ q(u)\\ ||\\ p(u)\\ \\right] \\\\\n",
    "&\\geq \\mathrm{E}_{u\\sim q}\\left[\\ \\log p(y_{1:N}|u)\n",
    "- \\mathrm{KL}\\left[\\ p(f_{1:N}|u)\\ ||\\ p(f_{1:N}| y_{1:N}, u)\\ \\right]\\ \\right]\n",
    " - \\mathrm{KL}\\left[\\ q(u)\\ ||\\ p(u)\\ \\right] \\\\\n",
    "&= \\log p(y_{1:N}) - \\mathrm{KL}\\left[ p(f_{1:N}|u)q(u) || p(y_{1:N}, f_{1:N}, u) \\right]\\\\\n",
    "&= \\mathrm{E}_{u\\sim q} \\mathrm{E}_{f_{1:N}\\sim p(f_{1:N}|u)}\\left[\n",
    "\\log \\left(\\frac{p(y_{1:N}, f_{1:N}, u)}{p(f_{1:N}| u)q(u)}\\right) \n",
    "\\right] \\\\\n",
    "&= \\sum_{n=1}^N\\mathrm{E}_{u\\sim q} \\mathrm{E}_{f_n\\sim p(f_n|u)}\n",
    "\\left[ \\log p(y_n| f_n) \\right] \n",
    "- \\mathrm{KL}\\left[\\ q(u)\\ ||\\ p(u)\\ \\right] \\\\\n",
    "&= \\mathrm{ELBO}\n",
    "\\end{align}"
   ]
  },
  {
   "cell_type": "markdown",
   "metadata": {},
   "source": [
    "### Possible Datasets\n",
    "- http://archive.ics.uci.edu/ml/datasets/Adult\n",
    "- http://archive.ics.uci.edu/ml/datasets/Bar+Crawl%3A+Detecting+Heavy+Drinking\n",
    "- http://archive.ics.uci.edu/ml/datasets/Diabetes+130-US+hospitals+for+years+1999-2008\n",
    "- http://archive.ics.uci.edu/ml/datasets/Buzz+in+social+media+"
   ]
  },
  {
   "cell_type": "markdown",
   "metadata": {},
   "source": [
    "## Import Packages and Dataset"
   ]
  },
  {
   "cell_type": "code",
   "execution_count": 40,
   "metadata": {},
   "outputs": [],
   "source": [
    "# Turn GPUs off\n",
    "import os\n",
    "os.environ[\"CUDA_VISIBLE_DEVICES\"] = \"-1\""
   ]
  },
  {
   "cell_type": "code",
   "execution_count": 11,
   "metadata": {},
   "outputs": [],
   "source": [
    "import tensorflow as tf\n",
    "import numpy as np\n",
    "np.random.seed(0)\n",
    "\n",
    "from sklearn.datasets import load_breast_cancer\n",
    "from sklearn.linear_model import LogisticRegression\n",
    "import matplotlib\n",
    "from matplotlib import pyplot as plt\n",
    "import datetime\n",
    "\n",
    "from sklearn.datasets import load_breast_cancer\n",
    "data = load_breast_cancer()"
   ]
  },
  {
   "cell_type": "code",
   "execution_count": 42,
   "metadata": {},
   "outputs": [
    {
     "data": {
      "text/plain": [
       "False"
      ]
     },
     "execution_count": 42,
     "metadata": {},
     "output_type": "execute_result"
    }
   ],
   "source": [
    "tf.test.is_gpu_available()"
   ]
  },
  {
   "cell_type": "markdown",
   "metadata": {},
   "source": [
    "## Utilities"
   ]
  },
  {
   "cell_type": "code",
   "execution_count": 43,
   "metadata": {},
   "outputs": [],
   "source": [
    "sigmoid = lambda x: 1/(1+np.exp(-x))\n",
    "softplus = lambda x: np.log(1+np.exp(x))\n",
    "as_tf_float = lambda x: tf.cast(x, tf.float64)\n",
    "\n",
    "def tf_logsumexp(ary, axis=1, keepdims=False):\n",
    "    return tf.math.reduce_logsumexp(ary, axis=axis, keepdims=keepdims)\n",
    "\n",
    "def tf_logmeanexp(ary, axis=1, keepdims=False):\n",
    "    return tf.math.reduce_logsumexp(ary, axis=axis, keepdims=keepdims) \\\n",
    "        - tf.math.log(as_tf_float(ary.shape[axis]))\n",
    "\n",
    "def timestamp():\n",
    "    now = datetime.datetime.now()\n",
    "    return now.strftime(\"%Y%m%d%H%M%S\")  "
   ]
  },
  {
   "cell_type": "markdown",
   "metadata": {},
   "source": [
    "## Set Parameters"
   ]
  },
  {
   "cell_type": "code",
   "execution_count": 44,
   "metadata": {},
   "outputs": [],
   "source": [
    "x = data.data\n",
    "x = (x - x.mean(axis=0)) / x.std(axis=0) # standardization\n",
    "y = data.target"
   ]
  },
  {
   "cell_type": "code",
   "execution_count": 45,
   "metadata": {},
   "outputs": [],
   "source": [
    "N, D = x.shape\n",
    "M = 30"
   ]
  },
  {
   "cell_type": "code",
   "execution_count": 46,
   "metadata": {},
   "outputs": [],
   "source": [
    "def init_param(D, M):\n",
    "    theta = {\n",
    "    'z': tf.Variable(x[np.random.choice(np.arange(N), size=M, replace=False)]),\n",
    "    'alpha': tf.Variable(np.ones([D]), dtype=tf.float64),\n",
    "    'beta': tf.Variable(1., dtype=tf.float64)\n",
    "    }\n",
    "    phi = {\n",
    "        'm': tf.Variable(np.zeros([M]), dtype=tf.float64),\n",
    "        'CholS': tf.Variable(0.1*np.eye(M), dtype=tf.float64)\n",
    "    }\n",
    "    return theta, phi"
   ]
  },
  {
   "cell_type": "code",
   "execution_count": 47,
   "metadata": {},
   "outputs": [],
   "source": [
    "def get_K(alpha, beta):\n",
    "    # define Kernel\n",
    "    D = alpha.shape[0]\n",
    "    sp_alpha = tf.reshape( tf.math.softplus( alpha ), [1,1,D])\n",
    "    def K(x1,x2):\n",
    "        n1 = x1.shape[0]\n",
    "        n2 = x2.shape[0]\n",
    "        x1 = tf.reshape(x1, [n1, 1, D])\n",
    "        x2 = tf.reshape(x2, [1 ,n2, D])\n",
    "        return tf.exp(beta - tf.reduce_sum( sp_alpha*(x1-x2)**2, axis=2))\n",
    "    return K"
   ]
  },
  {
   "cell_type": "code",
   "execution_count": null,
   "metadata": {},
   "outputs": [],
   "source": [
    "def get_batch(batch_size=20):\n",
    "    return x"
   ]
  },
  {
   "cell_type": "markdown",
   "metadata": {},
   "source": [
    "## Logistic Regression as a Baseline "
   ]
  },
  {
   "cell_type": "code",
   "execution_count": 60,
   "metadata": {},
   "outputs": [
    {
     "data": {
      "text/plain": [
       "0.9876977152899824"
      ]
     },
     "execution_count": 60,
     "metadata": {},
     "output_type": "execute_result"
    }
   ],
   "source": [
    "model = LogisticRegression()\n",
    "model.fit(x,y)\n",
    "model.score(x,y)"
   ]
  },
  {
   "cell_type": "code",
   "execution_count": 61,
   "metadata": {},
   "outputs": [
    {
     "data": {
      "text/plain": [
       "-0.05339203990991728"
      ]
     },
     "execution_count": 61,
     "metadata": {},
     "output_type": "execute_result"
    }
   ],
   "source": [
    "p = model.predict_proba(x)[:,1]\n",
    "(y*np.log(p) + (1-y)*np.log(1-p)).mean()"
   ]
  },
  {
   "cell_type": "markdown",
   "metadata": {},
   "source": [
    "## ELBO"
   ]
  },
  {
   "cell_type": "code",
   "execution_count": 48,
   "metadata": {},
   "outputs": [],
   "source": [
    "def ELBO(x, y, theta, phi, N_total):\n",
    "    '''\n",
    "    Inputs:\n",
    "    x: 2-d array of shape [N,D]\n",
    "    y: 1-d array of shape [N]\n",
    "    theta: disctionary of model parameters\n",
    "    phi: disctionary of variational parameters\n",
    "    \n",
    "    Returns:\n",
    "    elbo: scalar\n",
    "    '''\n",
    "    \n",
    "    z = theta['z']\n",
    "    alpha = theta['alpha']\n",
    "    beta = theta['beta']\n",
    "    K = get_K(alpha, beta)\n",
    "    \n",
    "    N = y.shape[0]\n",
    "    M = z.shape[0]\n",
    "    \n",
    "    m = phi['m']\n",
    "    CholS = phi['CholS']\n",
    "    \n",
    "    # sample u = f_0(z_1,...,z_M) from q\n",
    "    K_mm = K(z, z) + 1e-6 * tf.eye(M, dtype=tf.float64)\n",
    "    CholK_mm = tf.linalg.cholesky(K_mm)\n",
    "    \n",
    "    p_u = tfp.distributions.MultivariateNormalTriL(loc=0., scale_tril=CholK_mm)\n",
    "    q_u = tfp.distributions.MultivariateNormalTriL(loc=m, scale_tril=CholS)\n",
    "    u = q_u.sample(N)\n",
    "    \n",
    "    \n",
    "    # sample f conditionally given u = f_0(z_1,...,z_M)\n",
    "    inv_CholK_mm = tf.linalg.inv(CholK_mm)\n",
    "    inv_K_mm = tf.transpose(inv_CholK_mm)@inv_CholK_mm\n",
    "    K_nm = K(x, z)\n",
    "    K_mn = tf.transpose(K_nm)\n",
    "    \n",
    "    mean_f = tf.linalg.einsum('ni,ij,nj->n', K_nm, inv_K_mm, u)\n",
    "    var_f = tf.vectorized_map(lambda x:K(x,x), tf.expand_dims(x, axis=1))\n",
    "    var_f = tf.reshape(var_f, [N])\n",
    "    var_f = var_f - tf.linalg.einsum('ni,ij,jn->n', K_nm, inv_K_mm, K_mn)\n",
    "    \n",
    "    q_f = tfp.distributions.Normal(loc=mean_f, scale=var_f)\n",
    "    f = q_f.sample()\n",
    "\n",
    "    # compute ELBO estimate\n",
    "    p_y = tfp.distributions.Bernoulli(logits=f)\n",
    "    kl_qu_pu = tfp.distributions.kl_divergence(q_u, p_u)\n",
    "    elbo = tf.reduce_mean(p_y.log_prob(y)) - kl_qu_pu / N_total\n",
    "    return elbo"
   ]
  },
  {
   "cell_type": "code",
   "execution_count": 49,
   "metadata": {},
   "outputs": [],
   "source": [
    "def LMELBO(x, y, theta, phi, N_total, n_MC):\n",
    "    \n",
    "    z = theta['z']\n",
    "    alpha = theta['alpha']\n",
    "    beta = theta['beta']\n",
    "    K = get_K(alpha, beta)\n",
    "    \n",
    "    N = y.shape[0]\n",
    "    M = z.shape[0]\n",
    "    \n",
    "    m = phi['m']\n",
    "    CholS = phi['CholS']\n",
    "    \n",
    "    # sample u = f_0(z_1,...,z_M) from q\n",
    "    K_mm = K(z, z) + 1e-6 * tf.eye(M, dtype=tf.float64)\n",
    "    CholK_mm = tf.linalg.cholesky(K_mm)\n",
    "    \n",
    "    p_u = tfp.distributions.MultivariateNormalTriL(loc=0., scale_tril=CholK_mm)\n",
    "    q_u = tfp.distributions.MultivariateNormalTriL(loc=m, scale_tril=CholS)\n",
    "    u = q_u.sample(N)\n",
    "    \n",
    "    \n",
    "    # sample f conditionally given u = f_0(z_1,...,z_M)\n",
    "    inv_CholK_mm = tf.linalg.inv(CholK_mm)\n",
    "    inv_K_mm = tf.transpose(inv_CholK_mm)@inv_CholK_mm\n",
    "    K_nm = K(x, z)\n",
    "    K_mn = tf.transpose(K_nm)\n",
    "    \n",
    "    mean_f = tf.linalg.einsum('ni,ij,nj->n', K_nm, inv_K_mm, u)\n",
    "    var_f = tf.vectorized_map(lambda x:K(x,x), tf.expand_dims(x, axis=1))\n",
    "    var_f = tf.reshape(var_f, [N])\n",
    "    var_f = var_f - tf.linalg.einsum('ni,ij,jn->n', K_nm, inv_K_mm, K_mn)\n",
    "    \n",
    "    q_f = tfp.distributions.Normal(loc=mean_f, scale=var_f)\n",
    "    f = q_f.sample(n_MC)\n",
    "\n",
    "    # compute LMELBO estimate\n",
    "    p_y = tfp.distributions.Bernoulli(logits=f)\n",
    "    log_prob_y = tf.reduce_mean( tf_logmeanexp( p_y.log_prob(y) , axis=0) ) \n",
    "    kl_qu_pu = tfp.distributions.kl_divergence(q_u, p_u)\n",
    "    lmelbo = log_prob_y - kl_qu_pu / N_total\n",
    "    return lmelbo"
   ]
  },
  {
   "cell_type": "code",
   "execution_count": 50,
   "metadata": {},
   "outputs": [],
   "source": [
    "def pointwise_dconditional_likelihood(x, y, theta, phi, level):\n",
    "    \n",
    "    z = theta['z']\n",
    "    alpha = theta['alpha']\n",
    "    beta = theta['beta']\n",
    "    K = get_K(alpha, beta)\n",
    "    \n",
    "    N = y.shape[0]\n",
    "    M = z.shape[0]\n",
    "    \n",
    "    m = phi['m']\n",
    "    CholS = phi['CholS']\n",
    "    \n",
    "    # sample u = f_0(z_1,...,z_M) from q\n",
    "    K_mm = K(z, z) + 1e-6 * tf.eye(M, dtype=tf.float64)\n",
    "    CholK_mm = tf.linalg.cholesky(K_mm)\n",
    "    \n",
    "    p_u = tfp.distributions.MultivariateNormalTriL(loc=0., scale_tril=CholK_mm)\n",
    "    q_u = tfp.distributions.MultivariateNormalTriL(loc=m, scale_tril=CholS)\n",
    "    u = q_u.sample(N)\n",
    "    \n",
    "    # sample f conditionally given u = f_0(z_1,...,z_M)\n",
    "    inv_CholK_mm = tf.linalg.inv(CholK_mm)\n",
    "    inv_K_mm = tf.transpose(inv_CholK_mm)@inv_CholK_mm\n",
    "    K_nm = K(x, z)\n",
    "    K_mn = tf.transpose(K_nm)\n",
    "    \n",
    "    mean_f = tf.linalg.einsum('ni,ij,nj->n', K_nm, inv_K_mm, u)\n",
    "    var_f = tf.vectorized_map(lambda x:K(x,x), tf.expand_dims(x, axis=1))\n",
    "    var_f = tf.reshape(var_f, [N])\n",
    "    var_f = var_f - tf.linalg.einsum('ni,ij,jn->n', K_nm, inv_K_mm, K_mn)\n",
    "    \n",
    "    q_f = tfp.distributions.Normal(loc=mean_f, scale=var_f)\n",
    "    n_MC = 2**level\n",
    "    f = q_f.sample(n_MC)\n",
    "\n",
    "    # compute ELBO estimate\n",
    "    p_y = tfp.distributions.Bernoulli(logits=f)\n",
    "    w = p_y.log_prob(y)\n",
    "    w = tf.reshape(w, [n_MC,N])\n",
    "    if level==0:\n",
    "        return tf_logmeanexp(w, axis=0) \n",
    "    else:\n",
    "        return tf_logmeanexp(w, axis=0)\\\n",
    "                - (1/2.) * tf_logmeanexp(w[:n_MC//2 ], axis=0)\\\n",
    "                - (1/2.) * tf_logmeanexp(w[ n_MC//2:], axis=0)"
   ]
  },
  {
   "cell_type": "code",
   "execution_count": 51,
   "metadata": {},
   "outputs": [],
   "source": [
    "theta, phi = init_param(D,M)"
   ]
  },
  {
   "cell_type": "code",
   "execution_count": 10,
   "metadata": {},
   "outputs": [
    {
     "ename": "NameError",
     "evalue": "name 'np' is not defined",
     "output_type": "error",
     "traceback": [
      "\u001b[0;31m---------------------------------------------------------------------------\u001b[0m",
      "\u001b[0;31mNameError\u001b[0m                                 Traceback (most recent call last)",
      "\u001b[0;32m<ipython-input-10-5b4366f3aac3>\u001b[0m in \u001b[0;36m<module>\u001b[0;34m\u001b[0m\n\u001b[0;32m----> 1\u001b[0;31m \u001b[0midx\u001b[0m \u001b[0;34m=\u001b[0m \u001b[0mnp\u001b[0m\u001b[0;34m.\u001b[0m\u001b[0mrepeat\u001b[0m\u001b[0;34m(\u001b[0m\u001b[0mnp\u001b[0m\u001b[0;34m.\u001b[0m\u001b[0marange\u001b[0m\u001b[0;34m(\u001b[0m\u001b[0mN\u001b[0m\u001b[0;34m)\u001b[0m\u001b[0;34m,\u001b[0m \u001b[0;36m10\u001b[0m\u001b[0;34m)\u001b[0m\u001b[0;34m\u001b[0m\u001b[0;34m\u001b[0m\u001b[0m\n\u001b[0m\u001b[1;32m      2\u001b[0m \u001b[0mx_repeated\u001b[0m \u001b[0;34m=\u001b[0m \u001b[0mx\u001b[0m\u001b[0;34m[\u001b[0m\u001b[0midx\u001b[0m\u001b[0;34m]\u001b[0m\u001b[0;34m\u001b[0m\u001b[0;34m\u001b[0m\u001b[0m\n\u001b[1;32m      3\u001b[0m \u001b[0my_repeated\u001b[0m \u001b[0;34m=\u001b[0m \u001b[0my\u001b[0m\u001b[0;34m[\u001b[0m\u001b[0midx\u001b[0m\u001b[0;34m]\u001b[0m\u001b[0;34m\u001b[0m\u001b[0;34m\u001b[0m\u001b[0m\n",
      "\u001b[0;31mNameError\u001b[0m: name 'np' is not defined"
     ]
    }
   ],
   "source": [
    "idx = np.repeat(np.arange(N), 10)\n",
    "x_repeated = x[idx]\n",
    "y_repeated = y[idx]"
   ]
  },
  {
   "cell_type": "code",
   "execution_count": 83,
   "metadata": {},
   "outputs": [
    {
     "data": {
      "text/plain": [
       "Text(0, 0.5, '$\\\\mathrm{E}||\\\\nabla\\\\ (\\\\Delta \\\\mathrm{LM}$-${ELBO})\\\\ ||_2^2$')"
      ]
     },
     "execution_count": 83,
     "metadata": {},
     "output_type": "execute_result"
    },
    {
     "data": {
      "image/png": "[encoded data removed]",
      "text/plain": [
       "<Figure size 432x288 with 1 Axes>"
      ]
     },
     "metadata": {
      "needs_background": "light"
     },
     "output_type": "display_data"
    }
   ],
   "source": [
    "var_dcond_L = lambda l: (pointwise_dconditional_likelihood(x_tmp, y_tmp, theta, phi, level=l).numpy()**2).mean()\n",
    "plt.plot([var_dcond_L(l) for l in range(10)])\n",
    "plt.yscale('log')\n",
    "plt.xlabel('level')\n",
    "plt.ylabel(r'$\\mathrm{E}||\\nabla\\ (\\Delta \\mathrm{LM}$-${ELBO})\\ ||_2^2$') "
   ]
  },
  {
   "cell_type": "code",
   "execution_count": 53,
   "metadata": {},
   "outputs": [],
   "source": [
    "def dconditional_likelihood(x, y, mean_f, var_f, level):\n",
    "    \n",
    "    N = y.shape[0]\n",
    "    # sample f_n's\n",
    "    q_f = tfp.distributions.Normal(loc=mean_f, scale=var_f)\n",
    "    n_MC = 2**level\n",
    "    f = q_f.sample(n_MC)\n",
    "    \n",
    "    # sample conditional likelihoods\n",
    "    p_y = tfp.distributions.Bernoulli(logits=f)\n",
    "    w = p_y.log_prob(y)\n",
    "    w = tf.reshape(w, [n_MC,N])\n",
    "    \n",
    "    if level==0:\n",
    "        dL = tf_logmeanexp(w, axis=0) \n",
    "    else:\n",
    "        dL = tf_logmeanexp(w, axis=0)\\\n",
    "                - (1/2.) * tf_logmeanexp(w[:n_MC//2 ], axis=0)\\\n",
    "                - (1/2.) * tf_logmeanexp(w[ n_MC//2:], axis=0)\n",
    "    return tf.reduce_mean( dL )"
   ]
  },
  {
   "cell_type": "code",
   "execution_count": 54,
   "metadata": {},
   "outputs": [],
   "source": [
    "def LMELBO_MLMC(x, y, theta, phi, N_total, max_level=8, w0=1-2.**(-3/2), b=2, randomize=False):\n",
    "    \"\"\"\n",
    "    Compute IWELBO by MLMC\n",
    "    \n",
    "    Arguments:\n",
    "    x: 3-d array of size [N, T, D]\n",
    "    y: 2-d array of size [N, T]\n",
    "    beta0: scalar\n",
    "    beta: 1-d array of size [D]\n",
    "    alpha: scalar\n",
    "    mu: 1-d array of size [N]\n",
    "    sigma: 1-d array of size [N]\n",
    "    max_level: integer\n",
    "    w0: the proportion of total samples in (x,y) used at the level 0.\n",
    "        in other words, 100*(1-w0) % of the total samples are used for estimating the correction term.\n",
    "    b: scalar. the second moment of the coupled difference estimator (dIWELBO) must decrease at a rate of O(2^(-b*level)).\n",
    "    randomize: whether to use randomization of MLMC.\n",
    "    \n",
    "    Returns:\n",
    "    iwelbo: scalar estimate of average iwelbo over sample points.\n",
    "    \"\"\"\n",
    "    # unpack parameters\n",
    "    z = theta['z']\n",
    "    alpha = theta['alpha']\n",
    "    beta = theta['beta']\n",
    "    K = get_K(alpha, beta)\n",
    "    \n",
    "    N = y.shape[0]\n",
    "    M = z.shape[0]\n",
    "    \n",
    "    m = phi['m']\n",
    "    CholS = phi['CholS']\n",
    "    \n",
    "    # calculate KL divergence of p(u) and q(u) of u = f_0(z_1,...,z_M)\n",
    "    K_mm = K(z, z) + 1e-6 * tf.eye(M, dtype=tf.float64)\n",
    "    CholK_mm = tf.linalg.cholesky(K_mm)\n",
    "    \n",
    "    p_u = tfp.distributions.MultivariateNormalTriL(loc=0., scale_tril=CholK_mm)\n",
    "    q_u = tfp.distributions.MultivariateNormalTriL(loc=m, scale_tril=CholS)\n",
    "    kl_qu_pu = tfp.distributions.kl_divergence(q_u, p_u)\n",
    "      \n",
    "    # calculate distribution of f conditionally on u = f_0(z_1,...,z_M)\n",
    "    u = q_u.sample(N)\n",
    "    inv_CholK_mm = tf.linalg.inv(CholK_mm)\n",
    "    inv_K_mm = tf.transpose(inv_CholK_mm)@inv_CholK_mm\n",
    "    K_nm = K(x, z)\n",
    "    K_mn = tf.transpose(K_nm)\n",
    "    \n",
    "    mean_f = tf.linalg.einsum('ni,ij,nj->n', K_nm, inv_K_mm, u)\n",
    "    var_f = tf.vectorized_map(lambda x:K(x,x), tf.expand_dims(x, axis=1))\n",
    "    var_f = tf.reshape(var_f, [N])\n",
    "    var_f = var_f - tf.linalg.einsum('ni,ij,jn->n', K_nm, inv_K_mm, K_mn)\n",
    "    \n",
    "    # determine proportions of the number of samples among levels\n",
    "    if max_level==0:\n",
    "        levels = np.array([0])\n",
    "        weights = np.array([1.])\n",
    "    else:\n",
    "        weights = 2.**(-(b+1)/2*np.arange(max_level))\n",
    "        weights /= sum(weights)\n",
    "        weights = np.concatenate([[w0], (1-w0)*weights])\n",
    "        levels = np.arange(max_level+1)\n",
    "    \n",
    "    # determine the N_l's\n",
    "    if randomize==True:\n",
    "        Ns = np.random.multinomial(n=N, pvals=weights)    \n",
    "    elif randomize==False:\n",
    "        Ns = np.array([np.math.ceil(w*N) for w in weights], dtype=np.int)\n",
    "        Ns[0] = N - sum(Ns[1:])\n",
    "    else:\n",
    "        raise(Exception(\"Invarid argument for 'randomize' of function IWELBO_MLMC. It must be True or False.\"))\n",
    "    \n",
    "    # compute dIWELBO's using disjoint samples at each level and sum them up\n",
    "    offset = 0\n",
    "    lmelbo = kl_qu_pu / N_total\n",
    "    for i, l in enumerate(levels):\n",
    "        if Ns[i]==0:\n",
    "            continue\n",
    "        x_tmp = x[offset:offset+Ns[i]]\n",
    "        y_tmp = y[offset:offset+Ns[i]]\n",
    "        mean_f_tmp = mean_f[offset:offset+Ns[i]]\n",
    "        var_f_tmp = var_f[offset:offset+Ns[i]]\n",
    "                       \n",
    "        if randomize==True:\n",
    "            lmelbo += dconditional_likelihood(x_tmp, y_tmp, mean_f_tmp, var_f_tmp, level=l) * Ns[i] / N / weights[i]   \n",
    "        elif randomize==False:\n",
    "            lmelbo += dconditional_likelihood(x_tmp, y_tmp, mean_f_tmp, var_f_tmp, level=l)\n",
    "    \n",
    "        offset += Ns[i]\n",
    "          \n",
    "    return lmelbo"
   ]
  },
  {
   "cell_type": "code",
   "execution_count": 55,
   "metadata": {},
   "outputs": [],
   "source": [
    "theta, phi = init_param(D, M)"
   ]
  },
  {
   "cell_type": "code",
   "execution_count": 56,
   "metadata": {},
   "outputs": [
    {
     "name": "stdout",
     "output_type": "stream",
     "text": [
      "#iter: 0-19\t0.9908756272218187\n",
      "#iter: 20-39\t0.6517295144114708\n",
      "#iter: 40-59\t0.29828040918023996\n",
      "#iter: 60-79\t0.09494809144607715\n",
      "#iter: 80-99\t0.07056335120254617\n",
      "#iter: 100-119\t0.06497747820095827\n",
      "#iter: 120-139\t0.06124926035556031\n",
      "#iter: 140-159\t0.057582189851525536\n",
      "#iter: 160-179\t0.054847835008618395\n",
      "#iter: 180-199\t0.051817219559358904\n",
      "#iter: 200-219\t0.050372678756501844\n",
      "#iter: 220-239\t0.04826687438747719\n",
      "#iter: 240-259\t0.046858965889722846\n",
      "#iter: 260-279\t0.04421599513253066\n",
      "#iter: 280-299\t0.04236061000524271\n",
      "#iter: 300-319\t0.041309560973935046\n",
      "#iter: 320-339\t0.040624248888638394\n",
      "#iter: 340-359\t0.03923069317480163\n",
      "#iter: 360-379\t0.03829192465332126\n",
      "#iter: 380-399\t0.03845082724451372\n"
     ]
    }
   ],
   "source": [
    "optimizer = tf.keras.optimizers.Adam(0.05)\n",
    "\n",
    "losses = []\n",
    "for t in range(401):\n",
    "\n",
    "    with tf.GradientTape() as g:\n",
    "        g.watch([theta, phi])\n",
    "        loss = - ELBO(x, y, theta, phi, 40000)\n",
    "    dtheta, dphi = g.gradient(loss, [theta, phi])\n",
    "    \n",
    "    gradients = list(dtheta.values()) + list(dphi.values())\n",
    "    variables = list(theta.values()) + list(phi.values())\n",
    "    optimizer.apply_gradients(zip(gradients, variables))\n",
    "    \n",
    "    losses.append(loss.numpy())\n",
    "    if t%20==19:\n",
    "        print('#iter: {}-{}\\t{}'.format(t-19,t, np.mean(losses)))\n",
    "        losses = []"
   ]
  },
  {
   "cell_type": "code",
   "execution_count": 57,
   "metadata": {},
   "outputs": [],
   "source": [
    "theta, phi = init_param(D, M)"
   ]
  },
  {
   "cell_type": "code",
   "execution_count": 58,
   "metadata": {},
   "outputs": [
    {
     "name": "stdout",
     "output_type": "stream",
     "text": [
      "#iter: 0-19\t0.6854190309795085\n",
      "#iter: 20-39\t0.5960468813278494\n",
      "#iter: 40-59\t0.2767951427118179\n",
      "#iter: 60-79\t0.08132688273993922\n",
      "#iter: 80-99\t0.048172801964581596\n",
      "#iter: 100-119\t0.03953503955640871\n",
      "#iter: 120-139\t0.03386698177437814\n",
      "#iter: 140-159\t0.031028669759984882\n",
      "#iter: 160-179\t0.028807662246323956\n",
      "#iter: 180-199\t0.026577446140311645\n",
      "#iter: 200-219\t0.02563881357130831\n",
      "#iter: 220-239\t0.02489525056327828\n",
      "#iter: 240-259\t0.02389808985647952\n",
      "#iter: 260-279\t0.022465886475968647\n",
      "#iter: 280-299\t0.02173163442931451\n",
      "#iter: 300-319\t0.021266342137426803\n",
      "#iter: 320-339\t0.020411976167229066\n",
      "#iter: 340-359\t0.01985767779640579\n",
      "#iter: 360-379\t0.01905878305407309\n",
      "#iter: 380-399\t0.01853264625626131\n"
     ]
    }
   ],
   "source": [
    "optimizer = tf.keras.optimizers.Adam(0.05)\n",
    "\n",
    "losses = []\n",
    "for t in range(401):\n",
    "\n",
    "    with tf.GradientTape() as g:\n",
    "        g.watch([theta, phi])\n",
    "        loss = - LMELBO(x, y, theta, phi, 40000, n_MC=512)\n",
    "    dtheta, dphi = g.gradient(loss, [theta, phi])\n",
    "    \n",
    "    gradients = list(dtheta.values()) + list(dphi.values())\n",
    "    variables = list(theta.values()) + list(phi.values())\n",
    "    optimizer.apply_gradients(zip(gradients, variables))\n",
    "    \n",
    "    losses.append(loss.numpy())\n",
    "    if t%20==19:\n",
    "        print('#iter: {}-{}\\t{}'.format(t-19,t, np.mean(losses)))\n",
    "        losses = []"
   ]
  },
  {
   "cell_type": "code",
   "execution_count": 59,
   "metadata": {},
   "outputs": [
    {
     "ename": "NameError",
     "evalue": "name 'generate_data' is not defined",
     "output_type": "error",
     "traceback": [
      "\u001b[0;31m---------------------------------------------------------------------------\u001b[0m",
      "\u001b[0;31mNameError\u001b[0m                                 Traceback (most recent call last)",
      "\u001b[0;32m<ipython-input-59-6f2788f1f955>\u001b[0m in \u001b[0;36m<module>\u001b[0;34m\u001b[0m\n\u001b[0;32m----> 1\u001b[0;31m \u001b[0mnp\u001b[0m\u001b[0;34m.\u001b[0m\u001b[0mvar\u001b[0m\u001b[0;34m(\u001b[0m\u001b[0;34m[\u001b[0m\u001b[0mELBO\u001b[0m\u001b[0;34m(\u001b[0m\u001b[0mx\u001b[0m\u001b[0;34m,\u001b[0m \u001b[0my\u001b[0m\u001b[0;34m,\u001b[0m \u001b[0mtheta\u001b[0m\u001b[0;34m,\u001b[0m \u001b[0mphi\u001b[0m\u001b[0;34m,\u001b[0m \u001b[0mN_total\u001b[0m\u001b[0;34m=\u001b[0m\u001b[0;36m10000\u001b[0m\u001b[0;34m)\u001b[0m \u001b[0;32mfor\u001b[0m \u001b[0mx\u001b[0m\u001b[0;34m,\u001b[0m\u001b[0my\u001b[0m\u001b[0;34m,\u001b[0m\u001b[0m_\u001b[0m \u001b[0;32min\u001b[0m \u001b[0;34m[\u001b[0m\u001b[0mgenerate_data\u001b[0m\u001b[0;34m(\u001b[0m\u001b[0mN\u001b[0m\u001b[0;34m,\u001b[0m \u001b[0mD\u001b[0m\u001b[0;34m,\u001b[0m \u001b[0mb0\u001b[0m\u001b[0;34m,\u001b[0m \u001b[0mb\u001b[0m\u001b[0;34m)\u001b[0m \u001b[0;32mfor\u001b[0m \u001b[0mi\u001b[0m \u001b[0;32min\u001b[0m \u001b[0mrange\u001b[0m\u001b[0;34m(\u001b[0m\u001b[0;36m100\u001b[0m\u001b[0;34m)\u001b[0m\u001b[0;34m]\u001b[0m\u001b[0;34m]\u001b[0m\u001b[0;34m)\u001b[0m\u001b[0;34m\u001b[0m\u001b[0;34m\u001b[0m\u001b[0m\n\u001b[0m",
      "\u001b[0;32m<ipython-input-59-6f2788f1f955>\u001b[0m in \u001b[0;36m<listcomp>\u001b[0;34m(.0)\u001b[0m\n\u001b[0;32m----> 1\u001b[0;31m \u001b[0mnp\u001b[0m\u001b[0;34m.\u001b[0m\u001b[0mvar\u001b[0m\u001b[0;34m(\u001b[0m\u001b[0;34m[\u001b[0m\u001b[0mELBO\u001b[0m\u001b[0;34m(\u001b[0m\u001b[0mx\u001b[0m\u001b[0;34m,\u001b[0m \u001b[0my\u001b[0m\u001b[0;34m,\u001b[0m \u001b[0mtheta\u001b[0m\u001b[0;34m,\u001b[0m \u001b[0mphi\u001b[0m\u001b[0;34m,\u001b[0m \u001b[0mN_total\u001b[0m\u001b[0;34m=\u001b[0m\u001b[0;36m10000\u001b[0m\u001b[0;34m)\u001b[0m \u001b[0;32mfor\u001b[0m \u001b[0mx\u001b[0m\u001b[0;34m,\u001b[0m\u001b[0my\u001b[0m\u001b[0;34m,\u001b[0m\u001b[0m_\u001b[0m \u001b[0;32min\u001b[0m \u001b[0;34m[\u001b[0m\u001b[0mgenerate_data\u001b[0m\u001b[0;34m(\u001b[0m\u001b[0mN\u001b[0m\u001b[0;34m,\u001b[0m \u001b[0mD\u001b[0m\u001b[0;34m,\u001b[0m \u001b[0mb0\u001b[0m\u001b[0;34m,\u001b[0m \u001b[0mb\u001b[0m\u001b[0;34m)\u001b[0m \u001b[0;32mfor\u001b[0m \u001b[0mi\u001b[0m \u001b[0;32min\u001b[0m \u001b[0mrange\u001b[0m\u001b[0;34m(\u001b[0m\u001b[0;36m100\u001b[0m\u001b[0;34m)\u001b[0m\u001b[0;34m]\u001b[0m\u001b[0;34m]\u001b[0m\u001b[0;34m)\u001b[0m\u001b[0;34m\u001b[0m\u001b[0;34m\u001b[0m\u001b[0m\n\u001b[0m",
      "\u001b[0;31mNameError\u001b[0m: name 'generate_data' is not defined"
     ]
    }
   ],
   "source": [
    "np.var([ELBO(x, y, theta, phi, N_total=10000) for x,y,_ in [generate_data(N, D, b0, b) for i in range(100)]])"
   ]
  },
  {
   "cell_type": "code",
   "execution_count": null,
   "metadata": {},
   "outputs": [],
   "source": [
    "np.var([LMELBO(x, y, theta, phi, N_total=10000, n_MC=2**10) for x,y,_ in [generate_data(N, D, b0, b) for i in range(100)]])"
   ]
  },
  {
   "cell_type": "code",
   "execution_count": null,
   "metadata": {},
   "outputs": [],
   "source": [
    "np.var([LMELBO_MLMC(x, y, theta, phi, N_total=10000, max_level=10) for x,y,_ in [generate_data(N, D, b0, b) for i in range(100)]])"
   ]
  },
  {
   "cell_type": "code",
   "execution_count": null,
   "metadata": {},
   "outputs": [],
   "source": [
    "np.mean([ELBO(x, y, theta, phi, N_total=10000) for x,y,_ in [generate_data(N, D, b0, b) for i in range(10)]])"
   ]
  },
  {
   "cell_type": "code",
   "execution_count": null,
   "metadata": {},
   "outputs": [],
   "source": [
    "np.mean([LMELBO(x, y, theta, phi, N_total=10000, n_MC=2**10) for x,y,_ in [generate_data(N, D, b0, b) for i in range(10)]])"
   ]
  },
  {
   "cell_type": "code",
   "execution_count": null,
   "metadata": {},
   "outputs": [],
   "source": [
    "np.mean([LMELBO_MLMC(x, y, theta, phi, N_total=10000, max_level=10) for x,y,_ in [generate_data(N, D, b0, b) for i in range(10)]])"
   ]
  },
  {
   "cell_type": "code",
   "execution_count": null,
   "metadata": {},
   "outputs": [],
   "source": [
    "%%timeit\n",
    "ELBO(x, y, theta, phi, N_total=10000)"
   ]
  },
  {
   "cell_type": "code",
   "execution_count": null,
   "metadata": {},
   "outputs": [],
   "source": [
    "%%timeit\n",
    "LMELBO(x, y, theta, phi, N_total=10000, n_MC=2**10)"
   ]
  },
  {
   "cell_type": "code",
   "execution_count": null,
   "metadata": {},
   "outputs": [],
   "source": [
    "%%timeit\n",
    "LMELBO_MLMC(x, y, theta, phi, N_total=10000, max_level=10, randomize=True)"
   ]
  },
  {
   "cell_type": "markdown",
   "metadata": {},
   "source": [
    "## Parameter Estimation"
   ]
  },
  {
   "cell_type": "code",
   "execution_count": null,
   "metadata": {},
   "outputs": [],
   "source": [
    "theta, phi = init_param(D, M)"
   ]
  },
  {
   "cell_type": "code",
   "execution_count": null,
   "metadata": {},
   "outputs": [],
   "source": [
    "optimizer = tf.keras.optimizers.Adam(0.05)\n",
    "\n",
    "losses = []\n",
    "for t in range(401):\n",
    "    x,y,_ = generate_data(N, D, b0, b)\n",
    "\n",
    "    with tf.GradientTape() as g:\n",
    "        g.watch([theta, phi])\n",
    "        loss = - ELBO(x, y, theta, phi, 40000)\n",
    "    dtheta, dphi = g.gradient(loss, [theta, phi])\n",
    "    \n",
    "    gradients = list(dtheta.values()) + list(dphi.values())\n",
    "    variables = list(theta.values()) + list(phi.values())\n",
    "    optimizer.apply_gradients(zip(gradients, variables))\n",
    "    \n",
    "    losses.append(loss.numpy())\n",
    "    if t%20==19:\n",
    "        print('#iter: {}-{}\\t{}'.format(t-19,t, np.mean(losses)))\n",
    "        losses = []"
   ]
  },
  {
   "cell_type": "code",
   "execution_count": null,
   "metadata": {},
   "outputs": [],
   "source": [
    "theta, phi = init_param(D, M)"
   ]
  },
  {
   "cell_type": "code",
   "execution_count": null,
   "metadata": {},
   "outputs": [],
   "source": [
    "optimizer = tf.keras.optimizers.Adam(0.05)\n",
    "\n",
    "losses = []\n",
    "for t in range(401):\n",
    "    x,y,_ = generate_data(N, D, b0, b)\n",
    "\n",
    "    with tf.GradientTape() as g:\n",
    "        g.watch([theta, phi])\n",
    "        loss = - LMELBO(x, y, theta, phi, 40000, n_MC=64)\n",
    "    dtheta, dphi = g.gradient(loss, [theta, phi])\n",
    "    \n",
    "    gradients = list(dtheta.values()) + list(dphi.values())\n",
    "    variables = list(theta.values()) + list(phi.values())\n",
    "    optimizer.apply_gradients(zip(gradients, variables))\n",
    "    \n",
    "    losses.append(loss.numpy())\n",
    "    if t%20==19:\n",
    "        print('#iter: {}-{}\\t{}'.format(t-19,t, np.mean(losses)))\n",
    "        losses = []"
   ]
  },
  {
   "cell_type": "markdown",
   "metadata": {},
   "source": [
    "## Learning Curve by Different Methods"
   ]
  },
  {
   "cell_type": "code",
   "execution_count": null,
   "metadata": {},
   "outputs": [],
   "source": [
    "lambda x1, x2 = (gamma * tf.reduce_sum(x1*x2) + coef0)^degree\n"
   ]
  },
  {
   "cell_type": "markdown",
   "metadata": {},
   "source": [
    "・Test LMELBO をプロットしないと意味ない<br>\n",
    "・<s>MNISTで、バッチサイズ小さめで検証</s>←カーネルの計算が重いと死ぬ<br>\n",
    "・潜在変数のサンプルは$\\mathcal{O}(1)$。各データ点の処理は$\\mathcal{O}(M^2)$という致命的な問題がある。<br>\n",
    "・MLMCは潜在変数のサンプリングコストが支配的なときに使うもの。<br>\n",
    "・かと言って、潜在変数の空間が複雑だと、カップリングしないという問題もある。"
   ]
  },
  {
   "cell_type": "markdown",
   "metadata": {},
   "source": [
    "結論…$M$を固定して、Small Dataでなんとか頑張って優位性を示す"
   ]
  },
  {
   "cell_type": "code",
   "execution_count": null,
   "metadata": {},
   "outputs": [],
   "source": [
    "def get_mlmc_cost(N, max_level, b, w0):\n",
    "    # compute the cost of MLMC estimation \n",
    "    # when the size of x (and that of y) is N\n",
    "    if max_level==0:\n",
    "        levels = np.array([0])\n",
    "        weights = np.array([1.])\n",
    "    else:\n",
    "        weights = 2.**(-(b+1)/2*np.arange(max_level))\n",
    "        weights /= sum(weights)\n",
    "        weights = np.concatenate([[w0], (1-w0)*weights])\n",
    "        levels = np.arange(max_level+1)\n",
    "    cost = np.ceil(N * weights[0])\\\n",
    "            + N * sum( np.ceil(weights[1:] * (2**levels[1:] + 2**(levels[1:]-1))) )\n",
    "    return cost"
   ]
  },
  {
   "cell_type": "code",
   "execution_count": null,
   "metadata": {},
   "outputs": [],
   "source": [
    "objectives = {\n",
    "    \"elbo\":      lambda x, y, theta, phi: ELBO(x, y, theta, phi, N_total=40000),\n",
    "    \"lmelbo8\":   lambda x, y, theta, phi: LMELBO(x, y, theta, phi, N_total=40000, n_MC=8),\n",
    "    \"lmelbo64\":  lambda x, y, theta, phi: LMELBO(x, y, theta, phi, N_total=40000, n_MC=64),\n",
    "    \"lmelbo512\": lambda x, y, theta, phi: LMELBO(x, y, theta, phi, N_total=40000, n_MC=512),\n",
    "    \"lmelbo512_mlmc\": lambda x, y, theta, phi: LMELBO(x, y, theta, phi, N_total=40000, n_MC=512),\n",
    "    \"lmelbo512_randmlmc\": lambda x, y, theta, phi: LMELBO(x, y, theta, phi, N_total=40000, n_MC=512),\n",
    "}\n",
    "\n",
    "n_repeat = 10\n",
    "results = {}\n",
    "\n",
    "for name, obj in objectives.items():\n",
    "    loss_seqs = []\n",
    "    for i in range(n_repeat):\n",
    "        print(\"training {}.... #iter:{} \".format(name,i))\n",
    "        optimizer = tf.keras.optimizers.Adam(0.05)\n",
    "        theta, phi = init_param(D,M)\n",
    "        loss_seq = []\n",
    "        \n",
    "        for t in range(400):\n",
    "            x,y,_ = generate_data(N, D, b0, b)\n",
    "\n",
    "            # balance the cost of mlmc and nmc when level=9 (n_MC=512)\n",
    "            if 'mlmc' in name:\n",
    "                cost_nmc  = N * 2**9\n",
    "                cost_mlmc = get_mlmc_cost(N, max_level=9, b=1.8, w0=0.9)\n",
    "                N_mlmc = np.math.ceil(N * (cost_nmc / cost_mlmc))\n",
    "                x,y,_ = generate_data(N_mlmc, D, b0, b)\n",
    "            \n",
    "            # Optimize\n",
    "            with tf.GradientTape() as g:\n",
    "                g.watch([theta, phi])\n",
    "                loss = - obj(x, y, theta, phi)\n",
    "            dtheta, dphi = g.gradient(loss, [theta, phi])\n",
    "            gradients = list(dtheta.values()) + list(dphi.values())\n",
    "            variables = list(theta.values()) + list(phi.values())\n",
    "            optimizer.apply_gradients(zip(gradients, variables))\n",
    "\n",
    "            loss_seq.append(loss.numpy())\n",
    "        loss_seqs.append(loss_seq) \n",
    "    results[name] = np.array(loss_seqs)\n",
    "    print()"
   ]
  },
  {
   "cell_type": "code",
   "execution_count": null,
   "metadata": {},
   "outputs": [],
   "source": [
    "import pickle"
   ]
  },
  {
   "cell_type": "code",
   "execution_count": null,
   "metadata": {},
   "outputs": [],
   "source": [
    "#with open('../out/gaussian_process_classification/train_log_{}.pickel'.format(timestamp()), 'wb') as file:\n",
    "#    pickle.dump(results, file)"
   ]
  },
  {
   "cell_type": "code",
   "execution_count": null,
   "metadata": {},
   "outputs": [],
   "source": [
    "plt.figure(figsize=[15,6])\n",
    "for logs in results.values():\n",
    "    plt.plot(logs.mean(axis=0), alpha=0.5)\n",
    "plt.legend([name for name in results])\n",
    "plt.ylim([0.54, 0.66])"
   ]
  },
  {
   "cell_type": "code",
   "execution_count": 2,
   "metadata": {},
   "outputs": [],
   "source": [
    "import sys\n",
    "sys.path.append('../')\n",
    "from sklearn.datasets import load_breast_cancer\n",
    "data = load_breast_cancer()\n",
    "x = data.data\n",
    "x = (x - x.mean(axis=0)) / x.std(axis=0) # standardization\n",
    "y = data.target"
   ]
  },
  {
   "cell_type": "code",
   "execution_count": 3,
   "metadata": {},
   "outputs": [],
   "source": [
    "import numpy as np"
   ]
  },
  {
   "cell_type": "code",
   "execution_count": 4,
   "metadata": {},
   "outputs": [],
   "source": [
    "idx = np.repeat(np.arange(x.shape[0]), 100)\n",
    "x_repeated = x[idx]\n",
    "y_repeated = y[idx]"
   ]
  },
  {
   "cell_type": "code",
   "execution_count": 5,
   "metadata": {},
   "outputs": [],
   "source": [
    "from src.models.gaussian_process_classification import gaussian_process_classification"
   ]
  },
  {
   "cell_type": "code",
   "execution_count": 20,
   "metadata": {},
   "outputs": [],
   "source": [
    "gpc = gaussian_process_classification(N_total=x.shape[0])"
   ]
  },
  {
   "cell_type": "markdown",
   "metadata": {},
   "source": [
    "gpc.fit(x,y, learning_rate=0.05, n_iter=401, objective='LMELBO', obj_param={'n_MC':512})"
   ]
  },
  {
   "cell_type": "code",
   "execution_count": 27,
   "metadata": {},
   "outputs": [],
   "source": [
    "gpc = gaussian_process_classification(N_total=x.shape[0])"
   ]
  },
  {
   "cell_type": "code",
   "execution_count": 28,
   "metadata": {},
   "outputs": [
    {
     "name": "stdout",
     "output_type": "stream",
     "text": [
      "#iter: 0-39\t0.9103086106193434\n",
      "#iter: 40-79\t0.3121191711189633\n",
      "#iter: 80-119\t0.1408094033981439\n",
      "#iter: 120-159\t0.11529590468374781\n",
      "#iter: 160-199\t0.10600360130249006\n",
      "#iter: 200-239\t0.10123168054719636\n",
      "#iter: 240-279\t0.09878783229470545\n",
      "#iter: 280-319\t0.09326860354120677\n",
      "#iter: 320-359\t0.0943860912112944\n",
      "#iter: 360-399\t0.09125513406476582\n",
      "#iter: 400-439\t0.09153052216153348\n",
      "#iter: 440-479\t0.09026237338266595\n",
      "#iter: 480-519\t0.08789725932350241\n",
      "#iter: 520-559\t0.0824310066834962\n",
      "#iter: 560-599\t0.09229420343429333\n",
      "#iter: 600-639\t0.08733396526812014\n",
      "#iter: 640-679\t0.08732555802368795\n",
      "#iter: 680-719\t0.09056797987932697\n",
      "#iter: 720-759\t0.08303010629177308\n",
      "#iter: 760-799\t0.0877699344604479\n"
     ]
    }
   ],
   "source": [
    "gpc.fit(x_repeated,y_repeated, learning_rate=0.05, n_iter=801, objective='LMELBO_MLMC', obj_param={'max_level':4})"
   ]
  },
  {
   "cell_type": "code",
   "execution_count": 44,
   "metadata": {},
   "outputs": [
    {
     "name": "stdout",
     "output_type": "stream",
     "text": [
      "#iter: 0-39\t0.08274774968376963\n",
      "#iter: 40-79\t0.07997856359173965\n",
      "#iter: 80-119\t0.08467681759755301\n",
      "#iter: 120-159\t0.08335285793519029\n",
      "#iter: 160-199\t0.08318149374294229\n",
      "#iter: 200-239\t0.08330375782456594\n",
      "#iter: 240-279\t0.08256526782674906\n",
      "#iter: 280-319\t0.08013478628508147\n",
      "#iter: 320-359\t0.07875466101493026\n",
      "#iter: 360-399\t0.08111813541810588\n",
      "#iter: 400-439\t0.07737263113508\n",
      "#iter: 440-479\t0.07685041294596309\n",
      "#iter: 480-519\t0.07893655498021808\n",
      "#iter: 520-559\t0.07721814839399085\n",
      "#iter: 560-599\t0.08038779611559896\n",
      "#iter: 600-639\t0.07904832126372296\n",
      "#iter: 640-679\t0.07754442940794096\n",
      "#iter: 680-719\t0.08025222145486971\n",
      "#iter: 720-759\t0.0774671159122188\n",
      "#iter: 760-799\t0.07573900150769121\n"
     ]
    }
   ],
   "source": [
    "gpc.fit(x_repeated,y_repeated, learning_rate=0.05, n_iter=801, objective='LMELBO_MLMC', obj_param={'max_level':4})"
   ]
  },
  {
   "cell_type": "code",
   "execution_count": 30,
   "metadata": {},
   "outputs": [
    {
     "data": {
      "text/plain": [
       "<tf.Tensor: shape=(), dtype=float64, numpy=-0.07471497931132799>"
      ]
     },
     "execution_count": 30,
     "metadata": {},
     "output_type": "execute_result"
    }
   ],
   "source": [
    "gpc.score(x_repeated,y_repeated,objective='LMELBO_MLMC', obj_param={'max_level':4})"
   ]
  },
  {
   "cell_type": "code",
   "execution_count": 31,
   "metadata": {},
   "outputs": [
    {
     "data": {
      "text/plain": [
       "<tf.Tensor: shape=(), dtype=float64, numpy=-0.08438146992660227>"
      ]
     },
     "execution_count": 31,
     "metadata": {},
     "output_type": "execute_result"
    }
   ],
   "source": [
    "gpc.score(x,y,objective='LMELBO', obj_param={'n_MC':16})"
   ]
  },
  {
   "cell_type": "code",
   "execution_count": 45,
   "metadata": {},
   "outputs": [
    {
     "data": {
      "text/plain": [
       "<tf.Tensor: shape=(), dtype=float64, numpy=-0.04782105083088791>"
      ]
     },
     "execution_count": 45,
     "metadata": {},
     "output_type": "execute_result"
    }
   ],
   "source": [
    "gpc.score(x_repeated,y_repeated)"
   ]
  },
  {
   "cell_type": "code",
   "execution_count": 10,
   "metadata": {},
   "outputs": [
    {
     "data": {
      "image/png": "[encoded data removed]",
      "text/plain": [
       "<Figure size 432x288 with 1 Axes>"
      ]
     },
     "metadata": {
      "needs_background": "light"
     },
     "output_type": "display_data"
    }
   ],
   "source": [
    "gpc.plot_convergence(x_repeated, y_repeated, max_level=10)"
   ]
  },
  {
   "cell_type": "code",
   "execution_count": null,
   "metadata": {},
   "outputs": [],
   "source": []
  }
 ],
 "metadata": {
  "kernelspec": {
   "display_name": "Python 3",
   "language": "python",
   "name": "python3"
  },
  "language_info": {
   "codemirror_mode": {
    "name": "ipython",
    "version": 3
   },
   "file_extension": ".py",
   "mimetype": "text/x-python",
   "name": "python",
   "nbconvert_exporter": "python",
   "pygments_lexer": "ipython3",
   "version": "3.6.9"
  }
 },
 "nbformat": 4,
 "nbformat_minor": 4
}
