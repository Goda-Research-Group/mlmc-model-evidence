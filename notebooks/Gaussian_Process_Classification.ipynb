{
 "cells": [
  {
   "cell_type": "markdown",
   "metadata": {},
   "source": [
    "# Sparse GP Classification"
   ]
  },
  {
   "cell_type": "markdown",
   "metadata": {},
   "source": [
    "## Model Description"
   ]
  },
  {
   "cell_type": "markdown",
   "metadata": {},
   "source": [
    "&nbsp;&nbsp;&nbsp;&nbsp;&nbsp;\n",
    "$f \\sim\\mathcal{GP}_{\\text{FITC}}(K, z_{1:M})$\n",
    "<br>&nbsp;&nbsp;&nbsp;&nbsp;&nbsp;\n",
    "$Y_n \\sim \\mathrm{Bernoulli}(\\sigma(f))$,\n",
    "\n",
    "where $K(x_1,x_2) = \\exp\\left(\\beta - \\sum_{d=1,2}\\mathrm{softplus}({\\alpha_d})\\cdot(x_{1d} - x_{2d})^2\\right)$.\n",
    "<br>\n",
    "Here, latent process $f\\sim\\mathcal{GP}_{\\text{FITC}}(K, z_{1:M})$ is defined as:\n",
    "<br>&nbsp;&nbsp;&nbsp;&nbsp;&nbsp;\n",
    "$u=f_0\\small{(z_{1:M})}$ for $f_0\\sim\\mathcal{GP}(K)$\n",
    "<br>&nbsp;&nbsp;&nbsp;&nbsp;&nbsp;\n",
    "$f(x)\\sim\\mathcal{GP}(K| f\\small{(z_{1:M})}=u)$ <br>\n",
    "Additionally, conditional independence of process $f$ among any points given $u=f_0\\small{(z_{1:M})} = \\left(f_0(z_1), ..., f_0(z_M)\\right)$ is assumed. <br>\n",
    "That is, for any $n_1$ and $n_2$, $f(x_{n_1})\\perp \\!\\!\\! \\perp f(x_{n_1})|u$."
   ]
  },
  {
   "cell_type": "markdown",
   "metadata": {},
   "source": [
    "## Local Marginalization of Evidece Lower Bound\n",
    "By simplifying notation as $f_{1:N} = f(x_{1:N})$ and $u = f(z_{1:M})$, we can write evidence lower bound (ELBO) and locally margianlized likelihood (LM-ELBO)."
   ]
  },
  {
   "cell_type": "markdown",
   "metadata": {},
   "source": [
    "\\begin{align}\n",
    "\\mathrm{LM}\\text{-}\\mathrm{ELBO}\n",
    "&= \\log p(y_{1:N}) - \\mathrm{KL}\\left[\\ q(u)\\ ||\\ p(u|y_{1:N})\\ \\right] \\\\\n",
    "&= \\mathrm{E}_{u\\sim q}\\left[\\ \\log p(y_{1:N}|u)\\ \\right]\n",
    " - \\mathrm{KL}\\left[\\ q(u)\\ ||\\ p(u)\\ \\right] \\\\\n",
    "&\\geq \\mathrm{E}_{u\\sim q}\\left[\\ \\log p(y_{1:N}|u)\n",
    "- \\mathrm{KL}\\left[\\ p(f_{1:N}|u)\\ ||\\ p(f_{1:N}| y_{1:N}, u)\\ \\right]\\ \\right]\n",
    " - \\mathrm{KL}\\left[\\ q(u)\\ ||\\ p(u)\\ \\right] \\\\\n",
    "&= \\log p(y_{1:N}) - \\mathrm{KL}\\left[ p(f_{1:N}|u)q(u) || p(y_{1:N}, f_{1:N}, u) \\right]\\\\\n",
    "&= \\mathrm{E}_{u\\sim q} \\mathrm{E}_{f_{1:N}\\sim p(f_{1:N}|u)}\\left[\n",
    "\\log \\left(\\frac{p(y_{1:N}, f_{1:N}, u)}{p(f_{1:N}| u)q(u)}\\right) \n",
    "\\right] \\\\\n",
    "&= \\sum_{n=1}^N\\mathrm{E}_{u\\sim q} \\mathrm{E}_{f_n\\sim p(f_n|u)}\n",
    "\\left[ \\log p(y_n| f_n) \\right] \n",
    "- \\mathrm{KL}\\left[\\ q(u)\\ ||\\ p(u)\\ \\right] \\\\\n",
    "&= \\mathrm{ELBO}\n",
    "\\end{align}"
   ]
  },
  {
   "cell_type": "markdown",
   "metadata": {},
   "source": [
    "### Possible Datasets\n",
    "- http://archive.ics.uci.edu/ml/datasets/Adult\n",
    "- http://archive.ics.uci.edu/ml/datasets/Bar+Crawl%3A+Detecting+Heavy+Drinking\n",
    "- http://archive.ics.uci.edu/ml/datasets/Diabetes+130-US+hospitals+for+years+1999-2008\n",
    "- http://archive.ics.uci.edu/ml/datasets/Buzz+in+social+media+"
   ]
  },
  {
   "cell_type": "markdown",
   "metadata": {},
   "source": [
    "## Import Packages"
   ]
  },
  {
   "cell_type": "code",
   "execution_count": 144,
   "metadata": {},
   "outputs": [],
   "source": [
    "# Turn GPUs off\n",
    "import os\n",
    "os.environ[\"CUDA_VISIBLE_DEVICES\"] = \"-1\""
   ]
  },
  {
   "cell_type": "code",
   "execution_count": 145,
   "metadata": {},
   "outputs": [],
   "source": [
    "import tensorflow as tf\n",
    "import tensorflow_probability as tfp\n",
    "import numpy as np\n",
    "import pandas as pd\n",
    "from scipy.stats import bernoulli, norm\n",
    "import matplotlib\n",
    "from matplotlib import pyplot as plt\n",
    "import time\n",
    "import datetime\n",
    "np.random.seed(0)"
   ]
  },
  {
   "cell_type": "code",
   "execution_count": 146,
   "metadata": {},
   "outputs": [
    {
     "data": {
      "text/plain": [
       "False"
      ]
     },
     "execution_count": 146,
     "metadata": {},
     "output_type": "execute_result"
    }
   ],
   "source": [
    "tf.test.is_gpu_available()"
   ]
  },
  {
   "cell_type": "markdown",
   "metadata": {},
   "source": [
    "## Utilities"
   ]
  },
  {
   "cell_type": "code",
   "execution_count": 147,
   "metadata": {},
   "outputs": [],
   "source": [
    "sigmoid = lambda x: 1/(1+np.exp(-x))\n",
    "softplus = lambda x: np.log(1+np.exp(x))\n",
    "as_tf_float = lambda x: tf.cast(x, tf.float64)\n",
    "\n",
    "def tf_logsumexp(ary, axis=1, keepdims=False):\n",
    "    return tf.math.reduce_logsumexp(ary, axis=axis, keepdims=keepdims)\n",
    "\n",
    "def tf_logmeanexp(ary, axis=1, keepdims=False):\n",
    "    return tf.math.reduce_logsumexp(ary, axis=axis, keepdims=keepdims) \\\n",
    "        - tf.math.log(as_tf_float(ary.shape[axis]))\n",
    "\n",
    "def timestamp():\n",
    "    now = datetime.datetime.now()\n",
    "    return now.strftime(\"%Y%m%d%H%M%S\")  "
   ]
  },
  {
   "cell_type": "markdown",
   "metadata": {},
   "source": [
    "## Generate Toy Dataset"
   ]
  },
  {
   "cell_type": "code",
   "execution_count": 224,
   "metadata": {},
   "outputs": [],
   "source": [
    "N = 1000\n",
    "D = 2"
   ]
  },
  {
   "cell_type": "code",
   "execution_count": 149,
   "metadata": {},
   "outputs": [],
   "source": [
    "# Paramters\n",
    "b0 = np.float64(0.)\n",
    "b  = np.random.randn(D) / np.sqrt(D)"
   ]
  },
  {
   "cell_type": "code",
   "execution_count": 150,
   "metadata": {},
   "outputs": [],
   "source": [
    "# We assume that we have infinite amount of data.\n",
    "# Thus, generator of the data is implemented.\n",
    "def generate_data(N, D, b0, b):\n",
    "    \"\"\"\n",
    "    Genarate N samples of data from the model with parameter [beta0, beta, alpha]. \n",
    "    Returns:\n",
    "    x: 3-d array of size [N, D]\n",
    "    y: 2-d array of size [N]\n",
    "    \"\"\"\n",
    "    x = np.random.randn(N*D).reshape([N,D])\n",
    "    logit = lambda x: b0+x@b\n",
    "    y = bernoulli(p=sigmoid(logit(x))).rvs()\n",
    "    likelihood = np.sum(y*np.log(sigmoid(logit(x))) + (1-y)*np.log(1-sigmoid(logit(x))))\n",
    "    print('test_likelihood: {}'.format( likelihood ) )\n",
    "    return x,y, logit"
   ]
  },
  {
   "cell_type": "code",
   "execution_count": 151,
   "metadata": {},
   "outputs": [
    {
     "name": "stdout",
     "output_type": "stream",
     "text": [
      "test_likelihood: -560.6633839821673\n"
     ]
    }
   ],
   "source": [
    "x,y,logit = generate_data(N, D, b0, b)"
   ]
  },
  {
   "cell_type": "code",
   "execution_count": 225,
   "metadata": {},
   "outputs": [],
   "source": [
    "M = 30\n",
    "theta = {\n",
    "    'z': tf.Variable(2.*np.random.randn(M*D).reshape([M,D])),\n",
    "    'alpha': tf.Variable(np.ones([D]), dtype=tf.float64),\n",
    "    'beta': tf.Variable(1., dtype=tf.float64)\n",
    "}\n",
    "phi = {\n",
    "    'm': tf.Variable(np.zeros([M]), dtype=tf.float64),\n",
    "    'S': tf.Variable(np.eye(M), dtype=tf.float64)\n",
    "}"
   ]
  },
  {
   "cell_type": "code",
   "execution_count": 153,
   "metadata": {},
   "outputs": [],
   "source": [
    "def get_K(alpha, beta):\n",
    "    # define Kernel\n",
    "    D = alpha.shape[0]\n",
    "    sp_alpha = tf.reshape( tf.math.softplus( alpha ), [1,1,D])\n",
    "    def K(x1,x2):\n",
    "        n1 = x1.shape[0]\n",
    "        n2 = x2.shape[0]\n",
    "        x1 = tf.reshape(x1, [n1, 1, 2])\n",
    "        x2 = tf.reshape(x2, [1 ,n2, 2])\n",
    "        return tf.exp(beta - tf.reduce_sum( sp_alpha*(x1-x2)**2, axis=2))\n",
    "    return K"
   ]
  },
  {
   "cell_type": "markdown",
   "metadata": {},
   "source": [
    "## ELBO"
   ]
  },
  {
   "cell_type": "code",
   "execution_count": 154,
   "metadata": {},
   "outputs": [],
   "source": [
    "def ELBO(x, y, theta, phi, N_total):\n",
    "    '''\n",
    "    Inputs:\n",
    "    x: 2-d array of shape [N,D]\n",
    "    y: 1-d array of shape [N]\n",
    "    theta: disctionary of model parameters\n",
    "    phi: disctionary of variational parameters\n",
    "    \n",
    "    Returns:\n",
    "    elbo: scalar\n",
    "    '''\n",
    "    \n",
    "    z = theta['z']\n",
    "    alpha = theta['alpha']\n",
    "    beta = theta['beta']\n",
    "    K = get_K(alpha, beta)\n",
    "    \n",
    "    N = y.shape[0]\n",
    "    M = z.shape[0]\n",
    "    \n",
    "    m = phi['m']\n",
    "    S = phi['S'] + 1e-6 * tf.eye(M, dtype=tf.float64)\n",
    "    CholS = tf.linalg.cholesky(S)\n",
    "    \n",
    "    # sample u = f_0(z_1,...,z_M) from q\n",
    "    K_mm = K(z, z) + 1e-6 * tf.eye(M, dtype=tf.float64)\n",
    "    CholK_mm = tf.linalg.cholesky(K_mm)\n",
    "    \n",
    "    p_u = tfp.distributions.MultivariateNormalTriL(loc=0., scale_tril=CholK_mm)\n",
    "    q_u = tfp.distributions.MultivariateNormalTriL(loc=m, scale_tril=CholS)\n",
    "    u = q_u.sample(N)\n",
    "    \n",
    "    \n",
    "    # sample f conditionally given u = f_0(z_1,...,z_M)\n",
    "    inv_CholK_mm = tf.linalg.inv(CholK_mm)\n",
    "    inv_K_mm = tf.transpose(inv_CholK_mm)@inv_CholK_mm\n",
    "    K_nm = K(x, z)\n",
    "    K_mn = tf.transpose(K_nm)\n",
    "    \n",
    "    mean_f = tf.linalg.einsum('ni,ij,nj->n', K_nm, inv_K_mm, u)\n",
    "    var_f = tf.vectorized_map(lambda x:K(x,x), tf.expand_dims(x, axis=1))\n",
    "    var_f = tf.reshape(var_f, [N])\n",
    "    var_f = var_f - tf.linalg.einsum('ni,ij,jn->n', K_nm, inv_K_mm, K_mn)\n",
    "    \n",
    "    q_f = tfp.distributions.Normal(loc=mean_f, scale=var_f)\n",
    "    f = q_f.sample()\n",
    "\n",
    "    # compute ELBO estimate\n",
    "    p_y = tfp.distributions.Bernoulli(logits=f)\n",
    "    kl_qu_pu = tfp.distributions.kl_divergence(q_u, p_u)\n",
    "    elbo = tf.reduce_mean(p_y.log_prob(y)) - kl_qu_pu / N_total\n",
    "    return elbo"
   ]
  },
  {
   "cell_type": "code",
   "execution_count": 170,
   "metadata": {},
   "outputs": [],
   "source": [
    "def LMELBO(x, y, theta, phi, N_total, n_MC):\n",
    "    \n",
    "    z = theta['z']\n",
    "    alpha = theta['alpha']\n",
    "    beta = theta['beta']\n",
    "    K = get_K(alpha, beta)\n",
    "    \n",
    "    N = y.shape[0]\n",
    "    M = z.shape[0]\n",
    "    \n",
    "    m = phi['m']\n",
    "    S = phi['S'] + 1e-6 * tf.eye(M, dtype=tf.float64)\n",
    "    CholS = tf.linalg.cholesky(S)\n",
    "    \n",
    "    # sample u = f_0(z_1,...,z_M) from q\n",
    "    K_mm = K(z, z) + 1e-6 * tf.eye(M, dtype=tf.float64)\n",
    "    CholK_mm = tf.linalg.cholesky(K_mm)\n",
    "    \n",
    "    p_u = tfp.distributions.MultivariateNormalTriL(loc=0., scale_tril=CholK_mm)\n",
    "    q_u = tfp.distributions.MultivariateNormalTriL(loc=m, scale_tril=CholS)\n",
    "    u = q_u.sample(N)\n",
    "    \n",
    "    \n",
    "    # sample f conditionally given u = f_0(z_1,...,z_M)\n",
    "    inv_CholK_mm = tf.linalg.inv(CholK_mm)\n",
    "    inv_K_mm = tf.transpose(inv_CholK_mm)@inv_CholK_mm\n",
    "    K_nm = K(x, z)\n",
    "    K_mn = tf.transpose(K_nm)\n",
    "    \n",
    "    mean_f = tf.linalg.einsum('ni,ij,nj->n', K_nm, inv_K_mm, u)\n",
    "    var_f = tf.vectorized_map(lambda x:K(x,x), tf.expand_dims(x, axis=1))\n",
    "    var_f = tf.reshape(var_f, [N])\n",
    "    var_f = var_f - tf.linalg.einsum('ni,ij,jn->n', K_nm, inv_K_mm, K_mn)\n",
    "    \n",
    "    q_f = tfp.distributions.Normal(loc=mean_f, scale=var_f)\n",
    "    f = q_f.sample(n_MC)\n",
    "\n",
    "    # compute LMELBO estimate\n",
    "    p_y = tfp.distributions.Bernoulli(logits=f)\n",
    "    log_prob_y = tf.reduce_mean( tf_logmeanexp( p_y.log_prob(y) , axis=0) ) \n",
    "    kl_qu_pu = tfp.distributions.kl_divergence(q_u, p_u)\n",
    "    lmelbo = log_prob_y - kl_qu_pu / N_total\n",
    "    return lmelbo"
   ]
  },
  {
   "cell_type": "code",
   "execution_count": 156,
   "metadata": {},
   "outputs": [],
   "source": [
    "def pointwise_dconditional_likelihood(x, y, theta, phi, level):\n",
    "    \n",
    "    z = theta['z']\n",
    "    alpha = theta['alpha']\n",
    "    beta = theta['beta']\n",
    "    K = get_K(alpha, beta)\n",
    "    \n",
    "    N = y.shape[0]\n",
    "    M = z.shape[0]\n",
    "    \n",
    "    m = phi['m']\n",
    "    S = phi['S'] + 1e-6 * tf.eye(M, dtype=tf.float64)\n",
    "    CholS = tf.linalg.cholesky(S)\n",
    "    \n",
    "    # sample u = f_0(z_1,...,z_M) from q\n",
    "    K_mm = K(z, z) + 1e-6 * tf.eye(M, dtype=tf.float64)\n",
    "    CholK_mm = tf.linalg.cholesky(K_mm)\n",
    "    \n",
    "    p_u = tfp.distributions.MultivariateNormalTriL(loc=0., scale_tril=CholK_mm)\n",
    "    q_u = tfp.distributions.MultivariateNormalTriL(loc=m, scale_tril=CholS)\n",
    "    u = q_u.sample(N)\n",
    "    \n",
    "    # sample f conditionally given u = f_0(z_1,...,z_M)\n",
    "    inv_CholK_mm = tf.linalg.inv(CholK_mm)\n",
    "    inv_K_mm = tf.transpose(inv_CholK_mm)@inv_CholK_mm\n",
    "    K_nm = K(x, z)\n",
    "    K_mn = tf.transpose(K_nm)\n",
    "    \n",
    "    mean_f = tf.linalg.einsum('ni,ij,nj->n', K_nm, inv_K_mm, u)\n",
    "    var_f = tf.vectorized_map(lambda x:K(x,x), tf.expand_dims(x, axis=1))\n",
    "    var_f = tf.reshape(var_f, [N])\n",
    "    var_f = var_f - tf.linalg.einsum('ni,ij,jn->n', K_nm, inv_K_mm, K_mn)\n",
    "    \n",
    "    q_f = tfp.distributions.Normal(loc=mean_f, scale=var_f)\n",
    "    n_MC = 2**level\n",
    "    f = q_f.sample(n_MC)\n",
    "\n",
    "    # compute ELBO estimate\n",
    "    p_y = tfp.distributions.Bernoulli(logits=f)\n",
    "    w = p_y.log_prob(y)\n",
    "    w = tf.reshape(w, [n_MC,N])\n",
    "    if level==0:\n",
    "        return tf_logmeanexp(w, axis=0) \n",
    "    else:\n",
    "        return tf_logmeanexp(w, axis=0)\\\n",
    "                - (1/2.) * tf_logmeanexp(w[:n_MC//2 ], axis=0)\\\n",
    "                - (1/2.) * tf_logmeanexp(w[ n_MC//2:], axis=0)"
   ]
  },
  {
   "cell_type": "code",
   "execution_count": 206,
   "metadata": {},
   "outputs": [
    {
     "data": {
      "image/png": "[encoded data removed]",
      "text/plain": [
       "<Figure size 432x288 with 1 Axes>"
      ]
     },
     "metadata": {
      "needs_background": "light"
     },
     "output_type": "display_data"
    }
   ],
   "source": [
    "get_var = lambda l: pointwise_dconditional_likelihood(x, y, theta, phi, level=l).numpy().var()\n",
    "plt.plot([get_var(l) for l in range(10)])\n",
    "plt.yscale('log')"
   ]
  },
  {
   "cell_type": "code",
   "execution_count": 158,
   "metadata": {},
   "outputs": [
    {
     "data": {
      "text/plain": [
       "0.03126870259468976"
      ]
     },
     "execution_count": 158,
     "metadata": {},
     "output_type": "execute_result"
    }
   ],
   "source": [
    "pointwise_dconditional_likelihood(x, y, theta, phi, level=1).numpy().var()"
   ]
  },
  {
   "cell_type": "code",
   "execution_count": 159,
   "metadata": {},
   "outputs": [
    {
     "data": {
      "text/plain": [
       "0.0041383015103111515"
      ]
     },
     "execution_count": 159,
     "metadata": {},
     "output_type": "execute_result"
    }
   ],
   "source": [
    "pointwise_dconditional_likelihood(x, y, theta, phi, level=2).numpy().var()"
   ]
  },
  {
   "cell_type": "code",
   "execution_count": 160,
   "metadata": {},
   "outputs": [
    {
     "data": {
      "text/plain": [
       "0.0013936474982571894"
      ]
     },
     "execution_count": 160,
     "metadata": {},
     "output_type": "execute_result"
    }
   ],
   "source": [
    "pointwise_dconditional_likelihood(x, y, theta, phi, level=3).numpy().var()"
   ]
  },
  {
   "cell_type": "code",
   "execution_count": 161,
   "metadata": {},
   "outputs": [
    {
     "data": {
      "text/plain": [
       "0.00012949616413605766"
      ]
     },
     "execution_count": 161,
     "metadata": {},
     "output_type": "execute_result"
    }
   ],
   "source": [
    "pointwise_dconditional_likelihood(x, y, theta, phi, level=4).numpy().var()"
   ]
  },
  {
   "cell_type": "code",
   "execution_count": 162,
   "metadata": {},
   "outputs": [],
   "source": [
    "def dconditional_likelihood(x, y, mean_f, var_f, level):\n",
    "    \n",
    "    N = y.shape[0]\n",
    "    # sample f_n's\n",
    "    q_f = tfp.distributions.Normal(loc=mean_f, scale=var_f)\n",
    "    n_MC = 2**level\n",
    "    f = q_f.sample(n_MC)\n",
    "    \n",
    "    # sample conditional likelihoods\n",
    "    p_y = tfp.distributions.Bernoulli(logits=f)\n",
    "    w = p_y.log_prob(y)\n",
    "    w = tf.reshape(w, [n_MC,N])\n",
    "    \n",
    "    if level==0:\n",
    "        dL = tf_logmeanexp(w, axis=0) \n",
    "    else:\n",
    "        dL = tf_logmeanexp(w, axis=0)\\\n",
    "                - (1/2.) * tf_logmeanexp(w[:n_MC//2 ], axis=0)\\\n",
    "                - (1/2.) * tf_logmeanexp(w[ n_MC//2:], axis=0)\n",
    "    return tf.reduce_mean( dL )"
   ]
  },
  {
   "cell_type": "code",
   "execution_count": 163,
   "metadata": {},
   "outputs": [],
   "source": [
    "def LMELBO_MLMC(x, y, theta, phi, N_total, max_level=8, w0=1-2.**(-3/2), b=2, randomize=False):\n",
    "    \"\"\"\n",
    "    Compute IWELBO by MLMC\n",
    "    \n",
    "    Arguments:\n",
    "    x: 3-d array of size [N, T, D]\n",
    "    y: 2-d array of size [N, T]\n",
    "    beta0: scalar\n",
    "    beta: 1-d array of size [D]\n",
    "    alpha: scalar\n",
    "    mu: 1-d array of size [N]\n",
    "    sigma: 1-d array of size [N]\n",
    "    max_level: integer\n",
    "    w0: the proportion of total samples in (x,y) used at the level 0.\n",
    "        in other words, 100*(1-w0) % of the total samples are used for estimating the correction term.\n",
    "    b: scalar. the second moment of the coupled difference estimator (dIWELBO) must decrease at a rate of O(2^(-b*level)).\n",
    "    randomize: whether to use randomization of MLMC.\n",
    "    \n",
    "    Returns:\n",
    "    iwelbo: scalar estimate of average iwelbo over sample points.\n",
    "    \"\"\"\n",
    "    # unpack parameters\n",
    "    z = theta['z']\n",
    "    alpha = theta['alpha']\n",
    "    beta = theta['beta']\n",
    "    K = get_K(alpha, beta)\n",
    "    \n",
    "    N = y.shape[0]\n",
    "    M = z.shape[0]\n",
    "    \n",
    "    m = phi['m']\n",
    "    S = phi['S'] + 1e-6 * tf.eye(M, dtype=tf.float64)\n",
    "    CholS = tf.linalg.cholesky(S)\n",
    "    \n",
    "    # calculate KL divergence of p(u) and q(u) of u = f_0(z_1,...,z_M)\n",
    "    K_mm = K(z, z) + 1e-6 * tf.eye(M, dtype=tf.float64)\n",
    "    CholK_mm = tf.linalg.cholesky(K_mm)\n",
    "    \n",
    "    p_u = tfp.distributions.MultivariateNormalTriL(loc=0., scale_tril=CholK_mm)\n",
    "    q_u = tfp.distributions.MultivariateNormalTriL(loc=m, scale_tril=CholS)\n",
    "    kl_qu_pu = tfp.distributions.kl_divergence(q_u, p_u)\n",
    "      \n",
    "    # calculate distribution of f conditionally on u = f_0(z_1,...,z_M)\n",
    "    u = q_u.sample(N)\n",
    "    inv_CholK_mm = tf.linalg.inv(CholK_mm)\n",
    "    inv_K_mm = tf.transpose(inv_CholK_mm)@inv_CholK_mm\n",
    "    K_nm = K(x, z)\n",
    "    K_mn = tf.transpose(K_nm)\n",
    "    \n",
    "    mean_f = tf.linalg.einsum('ni,ij,nj->n', K_nm, inv_K_mm, u)\n",
    "    var_f = tf.vectorized_map(lambda x:K(x,x), tf.expand_dims(x, axis=1))\n",
    "    var_f = tf.reshape(var_f, [N])\n",
    "    var_f = var_f - tf.linalg.einsum('ni,ij,jn->n', K_nm, inv_K_mm, K_mn)\n",
    "    \n",
    "    # determine proportions of the number of smaples among levels\n",
    "    if max_level==0:\n",
    "        levels = np.array([0])\n",
    "        weights = np.array([1.])\n",
    "    else:\n",
    "        weights = 2.**(-(b+1)/2*np.arange(max_level))\n",
    "        weights /= sum(weights)\n",
    "        weights = np.concatenate([[w0], (1-w0)*weights])\n",
    "        levels = np.arange(max_level+1)\n",
    "    \n",
    "    # determine the N_l's\n",
    "    if randomize==True:\n",
    "        Ns = np.random.multinomial(n=N, pvals=weights)    \n",
    "    elif randomize==False:\n",
    "        Ns = np.array([np.math.ceil(w*N) for w in weights], dtype=np.int)\n",
    "        Ns[0] = N - sum(Ns[1:])\n",
    "    else:\n",
    "        raise(Exception(\"Invarid argument for 'randomize' of function IWELBO_MLMC. It must be True or False.\"))\n",
    "    \n",
    "    # compute dIWELBO's using disjoint samples at each level and sum them up\n",
    "    offset = 0\n",
    "    lmelbo = kl_qu_pu / N_total\n",
    "    for i, l in enumerate(levels):\n",
    "        if Ns[i]==0:\n",
    "            continue\n",
    "        x_tmp = x[offset:offset+Ns[i]]\n",
    "        y_tmp = y[offset:offset+Ns[i]]\n",
    "        mean_f_tmp = mean_f[offset:offset+Ns[i]]\n",
    "        var_f_tmp = var_f[offset:offset+Ns[i]]\n",
    "                       \n",
    "        if randomize==True:\n",
    "            lmelbo += dconditional_likelihood(x_tmp, y_tmp, mean_f_tmp, var_f_tmp, level=l) * Ns[i] / N / weights[i]   \n",
    "        elif randomize==False:\n",
    "            lmelbo += dconditional_likelihood(x_tmp, y_tmp, mean_f_tmp, var_f_tmp, level=l)\n",
    "    \n",
    "        offset += Ns[i]\n",
    "          \n",
    "    return lmelbo"
   ]
  },
  {
   "cell_type": "code",
   "execution_count": 164,
   "metadata": {},
   "outputs": [
    {
     "data": {
      "text/plain": [
       "<tf.Tensor: shape=(), dtype=float64, numpy=-0.901020819650497>"
      ]
     },
     "execution_count": 164,
     "metadata": {},
     "output_type": "execute_result"
    }
   ],
   "source": [
    "ELBO(x, y, theta, phi, 10000)"
   ]
  },
  {
   "cell_type": "code",
   "execution_count": 221,
   "metadata": {},
   "outputs": [
    {
     "data": {
      "text/plain": [
       "<tf.Tensor: shape=(), dtype=float64, numpy=-0.8438692044035605>"
      ]
     },
     "execution_count": 221,
     "metadata": {},
     "output_type": "execute_result"
    }
   ],
   "source": [
    "LMELBO(x, y, theta, phi, 10000, n_MC=2**10)"
   ]
  },
  {
   "cell_type": "code",
   "execution_count": 218,
   "metadata": {},
   "outputs": [
    {
     "data": {
      "text/plain": [
       "<tf.Tensor: shape=(), dtype=float64, numpy=-0.8029116955270268>"
      ]
     },
     "execution_count": 218,
     "metadata": {},
     "output_type": "execute_result"
    }
   ],
   "source": [
    "LMELBO_MLMC(x, y, theta, phi, N_total=10000, max_level=10, w0=1-2.**(-3/2), b=2, randomize=False)"
   ]
  },
  {
   "cell_type": "markdown",
   "metadata": {},
   "source": [
    "## Parameter Estimation"
   ]
  },
  {
   "cell_type": "code",
   "execution_count": 245,
   "metadata": {},
   "outputs": [],
   "source": [
    "def apply_grad(param, dparam, learning_rate):\n",
    "    for p, dp in zip(param.values(), dparam.values()):\n",
    "        p.assign_add(- learning_rate * dp)"
   ]
  },
  {
   "cell_type": "code",
   "execution_count": 260,
   "metadata": {},
   "outputs": [],
   "source": [
    "def phi_to_eta(phi):\n",
    "    return {\n",
    "        'm': phi['m'],\n",
    "        'S': tf.einsum('i,j->ij', phi['m'], phi['m']) + phi['S']\n",
    "    }\n",
    "def eta_to_phi(eta):\n",
    "    return {\n",
    "        'm': eta['m'],\n",
    "        'S': eta['S'] - tf.einsum('i,j->ij', eta['m'], eta['m'])\n",
    "    }\n",
    "def deta_to_dphi(deta, phi):\n",
    "    m = phi['m']\n",
    "    S = phi['S']\n",
    "    deta_m = deta['m']\n",
    "    deta_S = deta['S']\n",
    "    return {\n",
    "        'm': tf.einsum('ni,i->n',S,deta_m),\n",
    "        'S': S@deta_S@S\n",
    "    }"
   ]
  },
  {
   "cell_type": "code",
   "execution_count": 280,
   "metadata": {},
   "outputs": [],
   "source": [
    "M = 30\n",
    "theta = {\n",
    "    'z': tf.Variable(2.*np.random.randn(M*D).reshape([M,D])),\n",
    "    'alpha': tf.Variable(np.ones([D]), dtype=tf.float64),\n",
    "    'beta': tf.Variable(1., dtype=tf.float64)\n",
    "}\n",
    "phi = {\n",
    "    'm': tf.Variable(np.zeros([M]), dtype=tf.float64),\n",
    "    'S': tf.Variable(np.eye(M), dtype=tf.float64)\n",
    "}"
   ]
  },
  {
   "cell_type": "code",
   "execution_count": 265,
   "metadata": {},
   "outputs": [
    {
     "name": "stdout",
     "output_type": "stream",
     "text": [
      "#iter: 0\t0.8027530159095813\n",
      "#iter: 20\t0.7209600389083066\n",
      "#iter: 40\t0.7032267542227282\n",
      "#iter: 60\t0.6714150648318016\n",
      "#iter: 80\t0.6680141767317862\n",
      "#iter: 100\t0.668125721379953\n",
      "#iter: 120\t0.6794591494062677\n",
      "#iter: 140\t0.6496476786171256\n",
      "#iter: 160\t0.6393760285648181\n",
      "#iter: 180\t0.647484061682403\n",
      "#iter: 200\t0.6454034829354133\n",
      "#iter: 220\t0.6403708484489458\n",
      "#iter: 240\t0.6353481453455491\n",
      "#iter: 260\t0.6329886468985767\n",
      "#iter: 280\t0.6556987677658255\n",
      "#iter: 300\t0.6340557230952818\n",
      "#iter: 320\t0.6308240106559245\n",
      "#iter: 340\t0.6160042958626935\n",
      "#iter: 360\t0.6191953296255317\n",
      "#iter: 380\t0.6266550595930078\n",
      "#iter: 400\t0.6214924248729439\n",
      "#iter: 420\t0.6450795147875993\n",
      "#iter: 440\t0.6175456457044403\n",
      "#iter: 460\t0.6307120024369601\n",
      "#iter: 480\t0.6200088954853369\n",
      "#iter: 500\t0.6240060344183631\n",
      "#iter: 520\t0.6334331399063401\n",
      "#iter: 540\t0.6296459262889758\n",
      "#iter: 560\t0.6338507978210729\n",
      "#iter: 580\t0.6228094272148483\n",
      "#iter: 600\t0.6238072385976351\n",
      "#iter: 620\t0.6174536083040771\n",
      "#iter: 640\t0.6273840109403475\n",
      "#iter: 660\t0.6175902470641227\n",
      "#iter: 680\t0.6154405106230425\n",
      "#iter: 700\t0.6122652802670479\n",
      "#iter: 720\t0.6123086056905269\n",
      "#iter: 740\t0.6196091021057943\n",
      "#iter: 760\t0.6230735831601323\n",
      "#iter: 780\t0.6043864507729361\n",
      "#iter: 800\t0.6172125797894316\n",
      "#iter: 820\t0.6185657278878859\n",
      "#iter: 840\t0.6115853892057787\n",
      "#iter: 860\t0.6192575164066461\n",
      "#iter: 880\t0.6217787491647604\n",
      "#iter: 900\t0.616976939072888\n",
      "#iter: 920\t0.616885006475919\n",
      "#iter: 940\t0.6015678685466965\n",
      "#iter: 960\t0.6136897110695327\n",
      "#iter: 980\t0.6161138234683101\n"
     ]
    }
   ],
   "source": [
    "for t in range(1000):\n",
    "    rho_t = 10/(10+t)**0.7\n",
    "    \n",
    "    with tf.GradientTape() as g:\n",
    "        eta = phi_to_eta(phi)\n",
    "        g.watch([theta, eta])\n",
    "        phi_tmp = eta_to_phi(eta)\n",
    "        loss = - LMELBO(x, y, theta, phi_tmp, 1000, n_MC=10)\n",
    "    dtheta, deta = g.gradient(loss, [theta, eta])\n",
    "    dphi = deta_to_dphi(deta, phi)\n",
    "    \n",
    "    apply_grad(theta, dtheta, rho_t)\n",
    "    apply_grad(phi, dphi, rho_t)\n",
    "    \n",
    "    if t%20==0:\n",
    "        print('#iter: {}\\t{}'.format(t, loss.numpy()))"
   ]
  },
  {
   "cell_type": "code",
   "execution_count": 278,
   "metadata": {},
   "outputs": [],
   "source": [
    "def _LMELBO(x, y, theta, phi, N_total, n_MC):\n",
    "    \n",
    "    z = theta['z']\n",
    "    alpha = theta['alpha']\n",
    "    beta = theta['beta']\n",
    "    K = get_K(alpha, beta)\n",
    "    \n",
    "    N = y.shape[0]\n",
    "    M = z.shape[0]\n",
    "    \n",
    "    m = phi['m']\n",
    "    #S = phi['S'] + 1e-6 * tf.eye(M, dtype=tf.float64)\n",
    "    CholS = phi['S']#tf.linalg.cholesky(S)\n",
    "    \n",
    "    # sample u = f_0(z_1,...,z_M) from q\n",
    "    K_mm = K(z, z) + 1e-6 * tf.eye(M, dtype=tf.float64)\n",
    "    CholK_mm = tf.linalg.cholesky(K_mm)\n",
    "    \n",
    "    p_u = tfp.distributions.MultivariateNormalTriL(loc=0., scale_tril=CholK_mm)\n",
    "    q_u = tfp.distributions.MultivariateNormalTriL(loc=m, scale_tril=CholS)\n",
    "    u = q_u.sample(N)\n",
    "    \n",
    "    \n",
    "    # sample f conditionally given u = f_0(z_1,...,z_M)\n",
    "    inv_CholK_mm = tf.linalg.inv(CholK_mm)\n",
    "    inv_K_mm = tf.transpose(inv_CholK_mm)@inv_CholK_mm\n",
    "    K_nm = K(x, z)\n",
    "    K_mn = tf.transpose(K_nm)\n",
    "    \n",
    "    mean_f = tf.linalg.einsum('ni,ij,nj->n', K_nm, inv_K_mm, u)\n",
    "    var_f = tf.vectorized_map(lambda x:K(x,x), tf.expand_dims(x, axis=1))\n",
    "    var_f = tf.reshape(var_f, [N])\n",
    "    var_f = var_f - tf.linalg.einsum('ni,ij,jn->n', K_nm, inv_K_mm, K_mn)\n",
    "    \n",
    "    q_f = tfp.distributions.Normal(loc=mean_f, scale=var_f)\n",
    "    f = q_f.sample(n_MC)\n",
    "\n",
    "    # compute LMELBO estimate\n",
    "    p_y = tfp.distributions.Bernoulli(logits=f)\n",
    "    log_prob_y = tf.reduce_mean( tf_logmeanexp( p_y.log_prob(y) , axis=0) ) \n",
    "    kl_qu_pu = tfp.distributions.kl_divergence(q_u, p_u)\n",
    "    lmelbo = log_prob_y - kl_qu_pu / N_total\n",
    "    return lmelbo"
   ]
  },
  {
   "cell_type": "code",
   "execution_count": 281,
   "metadata": {},
   "outputs": [
    {
     "name": "stdout",
     "output_type": "stream",
     "text": [
      "#iter: 0\t1.1202535375372762\n",
      "#iter: 20\t0.9467226748660393\n",
      "#iter: 40\t0.8604189114842937\n",
      "#iter: 60\t0.8380149457627317\n",
      "#iter: 80\t0.8213184355826852\n",
      "#iter: 100\t0.7676037667433054\n",
      "#iter: 120\t0.7663816292127975\n",
      "#iter: 140\t0.7541216055397393\n",
      "#iter: 160\t0.7445486292518756\n",
      "#iter: 180\t0.7313825794959726\n",
      "#iter: 200\t0.7359174879002544\n",
      "#iter: 220\t0.7167685470697222\n",
      "#iter: 240\t0.7217002198907755\n",
      "#iter: 260\t0.7198964257580126\n",
      "#iter: 280\t0.700759582104136\n",
      "#iter: 300\t0.7138522473924258\n",
      "#iter: 320\t0.6972961269768932\n",
      "#iter: 340\t0.6922164458570197\n",
      "#iter: 360\t0.6945976445822137\n",
      "#iter: 380\t0.687820592091976\n",
      "#iter: 400\t0.6875831843512047\n",
      "#iter: 420\t0.6697940786405593\n",
      "#iter: 440\t0.6738924211800924\n",
      "#iter: 460\t0.6939034725633315\n",
      "#iter: 480\t0.6618031235585022\n",
      "#iter: 500\t0.6522001771649084\n",
      "#iter: 520\t0.6585466037296563\n",
      "#iter: 540\t0.6444379220525908\n",
      "#iter: 560\t0.635730419515515\n",
      "#iter: 580\t0.6570175958469777\n",
      "#iter: 600\t0.6407195917817438\n",
      "#iter: 620\t0.6409770635940508\n",
      "#iter: 640\t0.6379251846021907\n",
      "#iter: 660\t0.6152375468162962\n",
      "#iter: 680\t0.6172675582106464\n",
      "#iter: 700\t0.6267771339051145\n",
      "#iter: 720\t0.6230513021774269\n",
      "#iter: 740\t0.6250594572379955\n",
      "#iter: 760\t0.6201048171978266\n",
      "#iter: 780\t0.627060645526571\n",
      "#iter: 800\t0.6125701527601763\n",
      "#iter: 820\t0.6149242955439107\n",
      "#iter: 840\t0.6153999477598788\n",
      "#iter: 860\t0.6148020229830266\n",
      "#iter: 880\t0.5977672307788745\n",
      "#iter: 900\t0.6078314513805437\n",
      "#iter: 920\t0.6071263907380858\n",
      "#iter: 940\t0.5925970490756394\n",
      "#iter: 960\t0.5976175248209264\n",
      "#iter: 980\t0.5956526936324101\n"
     ]
    }
   ],
   "source": [
    "optimizer = tf.keras.optimizers.RMSprop()\n",
    "\n",
    "for t in range(1000):\n",
    "    rho_t = 10/(10+t)**0.7\n",
    "    \n",
    "    with tf.GradientTape() as g:\n",
    "        g.watch([theta, phi])\n",
    "        loss = - _LMELBO(x, y, theta, phi, 1000, n_MC=10)\n",
    "    dtheta, dphi = g.gradient(loss, [theta, phi])\n",
    "    \n",
    "    gradients = list(dtheta.values()) + list(dphi.values())\n",
    "    variables = list(theta.values()) + list(phi.values())\n",
    "    optimizer.apply_gradients(zip(gradients, variables))\n",
    "    \n",
    "    if t%20==0:\n",
    "        print('#iter: {}\\t{}'.format(t, loss.numpy()))"
   ]
  },
  {
   "cell_type": "code",
   "execution_count": 277,
   "metadata": {},
   "outputs": [
    {
     "data": {
      "text/plain": [
       "array([-0.00973479,  0.08207746,  0.1575643 ,  0.31365348,  0.37259114,\n",
       "        0.47138114,  0.56190319,  0.60978471,  0.63316195,  0.70813019,\n",
       "        0.77591913,  0.82633881,  0.83827905,  0.89600121,  0.94312201,\n",
       "        0.9633664 ,  0.99759277,  1.02712709,  1.0587228 ,  1.07388804,\n",
       "        1.14069172,  1.17195223,  1.23402027,  1.35345627,  1.39983421,\n",
       "        1.49741377,  1.52221435,  1.62948601,  1.6648395 ,  1.71354758])"
      ]
     },
     "execution_count": 277,
     "metadata": {},
     "output_type": "execute_result"
    }
   ],
   "source": [
    "np.linalg.eigvalsh(phi['S'].numpy())"
   ]
  },
  {
   "cell_type": "markdown",
   "metadata": {},
   "source": [
    "## Visualize Prediction"
   ]
  },
  {
   "cell_type": "code",
   "execution_count": 241,
   "metadata": {},
   "outputs": [],
   "source": [
    "def get_logits(x, theta, phi):\n",
    "    \n",
    "    z = theta['z']\n",
    "    alpha = theta['alpha']\n",
    "    beta = theta['beta']\n",
    "    K = get_K(alpha, beta)\n",
    "    m = phi['m']\n",
    "    S = phi['S']\n",
    "    CholS = tf.linalg.cholesky(S)\n",
    "    \n",
    "    N = x.shape[0]\n",
    "    M = z.shape[0]\n",
    "    \n",
    "    K_mm = K(z, z) + 1e-6 * tf.eye(M, dtype=tf.float64)\n",
    "    CholK_mm = tf.linalg.cholesky(K_mm)\n",
    "    inv_CholK_mm = tf.linalg.inv(CholK_mm)\n",
    "    inv_K_mm = tf.transpose(inv_CholK_mm)@inv_CholK_mm\n",
    "    K_nm = K(x, z)\n",
    "    K_mn = tf.transpose(K_nm)\n",
    "    \n",
    "    mean_f = tf.linalg.einsum('ni,ij,j->n', K_nm, inv_K_mm, m)\n",
    "    var_f = tf.vectorized_map(lambda x:K(x,x), tf.expand_dims(x, axis=1))\n",
    "    var_f = tf.reshape(var_f, [N])\n",
    "    var_f = var_f - tf.linalg.einsum('ni,ij,jn->n', K_nm, inv_K_mm, K_mn)\n",
    "    \n",
    "    return mean_f, var_f"
   ]
  },
  {
   "cell_type": "code",
   "execution_count": 242,
   "metadata": {},
   "outputs": [],
   "source": [
    "x1_heat = (np.linspace(start=-4,stop=4).reshape([1,50])*np.ones([50,1])).reshape([2500])\n",
    "x2_heat = np.repeat(np.linspace(start=-4,stop=4), 50)\n",
    "x_heat = np.array([x1_heat, x2_heat]).T\n",
    "logits_heat = get_logits(x_heat, theta, phi)[0].numpy()"
   ]
  },
  {
   "cell_type": "code",
   "execution_count": 243,
   "metadata": {},
   "outputs": [],
   "source": [
    "def heatmap2d(arr: np.ndarray, cmap='viridis'):\n",
    "    plt.imshow(arr, cmap=cmap, extent=[-4,4,-4,4],origin='lower', alpha=1, vmin=0, vmax=1)\n",
    "    plt.colorbar()\n",
    "    #plt.show()"
   ]
  },
  {
   "cell_type": "code",
   "execution_count": 284,
   "metadata": {},
   "outputs": [
    {
     "data": {
      "image/png": "[encoded data removed]",
      "text/plain": [
       "<Figure size 1080x288 with 5 Axes>"
      ]
     },
     "metadata": {
      "needs_background": "light"
     },
     "output_type": "display_data"
    }
   ],
   "source": [
    "plt.figure(figsize=[15,4])\n",
    "cmap = matplotlib.cm.get_cmap('bwr')#('viridis')\n",
    "\n",
    "plt.subplot(1,3,1)\n",
    "plt.title('Observations')\n",
    "idx = (y==True)\n",
    "plt.scatter(x[idx,0], x[idx,1], s=2, alpha=0.5, marker='o', c=[cmap(1.)])\n",
    "plt.scatter(x[~idx,0], x[~idx,1], s=2, alpha=0.5, marker='o', c=[cmap(0.)])\n",
    "plt.scatter(theta['z'][:,0], theta['z'][:,1], s=4, alpha=1, marker='o', c='black')\n",
    "plt.legend(['y=1','y=0'])\n",
    "plt.xlim([-4,4])\n",
    "plt.ylim([-4,4])\n",
    "ax = plt.gca()\n",
    "ax.set_aspect('equal')\n",
    "\n",
    "plt.subplot(1,3,2)\n",
    "plt.title('Ground Truth p(y=1|x)')\n",
    "heatmap2d(sigmoid(logit(x_heat)).reshape([50,50]), 'bwr')\n",
    "\n",
    "plt.subplot(1,3,3)\n",
    "plt.title(r'Variational GP posterior $q(y=1|x)$')\n",
    "#plt.scatter(x[idx,0], x[idx,1], s=0.3, alpha=1, marker='x', c=[cmap(1.)])\n",
    "#plt.scatter(x[~idx,0], x[~idx,1], s=0.3, alpha=1, marker='x', c=[cmap(0.)])\n",
    "a = plt.scatter(theta['z'][:,0], theta['z'][:,1], s=4, alpha=1, marker='o', c='black')\n",
    "plt.legend([a],['pseudo inputs'])\n",
    "heatmap2d(sigmoid(logits_heat.reshape([50,50])), 'bwr')"
   ]
  },
  {
   "cell_type": "markdown",
   "metadata": {},
   "source": [
    "## IW-ELBO approximation of Evidence"
   ]
  },
  {
   "cell_type": "markdown",
   "metadata": {},
   "source": [
    "Importance weighted evidence lower bound (IW-ELBO) is an approximation of the evidence, and its Monte Carlo estimator is defined as:\n",
    "$$\\mathrm{IW}\\text{-}\\mathrm{ELBO}(x,z_{1:K}):=\\frac{1}{N}\\sum_{n=1}^{N}\\log \\frac{1}{K}\\sum_{k=1}^{K}\\left(\\frac{p(x_n,z_{nk})}{q(z_{nk};x_n)}\\right),$$\n",
    "where $z_{nk}$ is sampled as $z_{nk}\\sim q(z;x_n)$."
   ]
  },
  {
   "cell_type": "markdown",
   "metadata": {},
   "source": [
    "## Learning Curve by Different Methods"
   ]
  },
  {
   "cell_type": "code",
   "execution_count": null,
   "metadata": {},
   "outputs": [],
   "source": [
    "def get_mlmc_cost(N, max_level, b, w0):\n",
    "    # compute the cost of MLMC estimation \n",
    "    # when the size of x (and that of y) is N\n",
    "    if max_level==0:\n",
    "        levels = np.array([0])\n",
    "        weights = np.array([1.])\n",
    "    else:\n",
    "        weights = 2.**(-(b+1)/2*np.arange(max_level))\n",
    "        weights /= sum(weights)\n",
    "        weights = np.concatenate([[w0], (1-w0)*weights])\n",
    "        levels = np.arange(max_level+1)\n",
    "    cost = np.ceil(N * weights[0])\\\n",
    "            + N * sum( np.ceil(weights[1:] * (2**levels[1:] + 2**(levels[1:]-1))) )\n",
    "    return cost"
   ]
  },
  {
   "cell_type": "code",
   "execution_count": null,
   "metadata": {},
   "outputs": [],
   "source": [
    "objectives = {\n",
    "    \"elbo\":      lambda x, y, theta, phi: ELBO(x, y, theta, phi, N_total),\n",
    "    \"lmelbo8\":   lambda x, y, theta, phi: LMELBO(x, y, theta, phi, N_total, n_MC=8),\n",
    "    \"lmelbo64\":  lambda x, y, theta, phi: LMELBO(x, y, theta, phi, N_total, n_MC=64),\n",
    "    \"lmelbo512\": lambda x, y, theta, phi: LMELBO(x, y, theta, phi, N_total, n_MC=512),\n",
    "    \"lmelbo512_mlmc\": lambda x, y, theta, phi: LMELBO(x, y, theta, phi, N_total, n_MC=512),\n",
    "    \"lmelbo512_randmlmc\": lambda x, y, theta, phi: LMELBO(x, y, theta, phi, N_total, n_MC),\n",
    "}\n",
    "N,T,D = (1000, 2, 3) if tf.test.is_gpu_available() else (200, 2, 3)\n",
    "\n",
    "n_repeat = 10\n",
    "params_repeated = {name:[] for name in objectives.keys()}\n",
    "\n",
    "for name, obj in objectives.items():\n",
    "    alpha_s = []\n",
    "    beta0_s = []\n",
    "    beta_s = []\n",
    "    for i in range(n_repeat):\n",
    "        print(\"training {}.... #iter:{} \".format(name,i))\n",
    "\n",
    "        beta0_ = tf.Variable(0., dtype=tf.float64)\n",
    "        beta_  = tf.Variable(np.zeros([D]), dtype=tf.float64)\n",
    "        alpha_   = tf.Variable(1., dtype=tf.float64)\n",
    "\n",
    "        # Gradient Descent\n",
    "        for t in range(2001):\n",
    "\n",
    "            rho_t = 0.5/(1+t)**0.7\n",
    "            x,y,_ = generate_data(N, D, T, beta0, beta, alpha)\n",
    "            # balance the cost of mlmc and nmc when level=9 (n_MC=512)\n",
    "            if 'mlmc' in name:\n",
    "                cost_nmc  = N * 2**9\n",
    "                cost_mlmc = get_mlmc_cost(N, max_level=9, b=1.8, w0=0.9)\n",
    "                N_mlmc = np.math.ceil(N * (cost_nmc / cost_mlmc))\n",
    "                x,y,_ = generate_data(N_mlmc, D, T, beta0, beta, alpha)    \n",
    "\n",
    "            with tf.GradientTape() as g:\n",
    "                g.watch([beta0_, beta_, alpha_])\n",
    "                mu, sigma = laplace_approx(x, y, beta0_.numpy(), beta_.numpy(), alpha_.numpy())\n",
    "                score = obj(x, y, beta0_, beta_, alpha_, mu, sigma)\n",
    "            dbeta0_, dbeta_, dalpha_ = g.gradient(score, [beta0_, beta_, alpha_])\n",
    "\n",
    "            beta0_ = beta0_ + rho_t*dbeta0_\n",
    "            beta_ = beta_ + rho_t*dbeta_\n",
    "            alpha_ = alpha_ + dalpha_\n",
    "            if t%200==0 and i==0:\n",
    "                print(\"#iter: {},\\tloss: {}\".format(t, -score.numpy()))\n",
    "        alpha_s.append(alpha_.numpy())\n",
    "        beta0_s.append(beta0_.numpy())\n",
    "        beta_s.append(beta_.numpy())\n",
    "    print()\n",
    "    params_repeated[name] = {\n",
    "            'alpha': np.array(alpha_s),\n",
    "            'beta0': np.array(beta0_s),\n",
    "            'beta': np.array(beta_s)\n",
    "    }"
   ]
  },
  {
   "cell_type": "markdown",
   "metadata": {},
   "source": [
    "#### Bottom Line: \n",
    "- IWELBO with large number of inner MC samples gives better estiamte than ELBO or sigmoid normal integral approximation, even for this simple model. \n",
    "- MLMC is more effective than nested MC when used for maximum likelihood estimation."
   ]
  }
 ],
 "metadata": {
  "kernelspec": {
   "display_name": "Python 3",
   "language": "python",
   "name": "python3"
  },
  "language_info": {
   "codemirror_mode": {
    "name": "ipython",
    "version": 3
   },
   "file_extension": ".py",
   "mimetype": "text/x-python",
   "name": "python",
   "nbconvert_exporter": "python",
   "pygments_lexer": "ipython3",
   "version": "3.6.9"
  }
 },
 "nbformat": 4,
 "nbformat_minor": 4
}
