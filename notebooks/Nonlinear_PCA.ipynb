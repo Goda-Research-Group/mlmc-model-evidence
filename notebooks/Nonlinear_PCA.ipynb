{
 "cells": [
  {
   "cell_type": "markdown",
   "metadata": {},
   "source": [
    "# Model Description"
   ]
  },
  {
   "cell_type": "markdown",
   "metadata": {},
   "source": [
    "For $n=1,...,N$,\n",
    "\\begin{align}\n",
    "Z_n &\\sim N(0,I_d)\\\\ \n",
    "Y_{n,k} &\\sim \\text{Bernoulli}\\left(\\frac{1}{1+\\exp(- Z_n^T \\beta_k - \\beta_{k,0})}\\right)\n",
    "\\end{align}.\n",
    "This model carries out dimentionality reduction of binary observations $y_{n,k}$'s.<br>\n",
    "As variational approximation of the posterior $p(z_n|y_n)$, we use $q(z_n;y_n)= N(z_n;A_0 + A y_n,\\mathrm{diag}( \\mathrm{softplus}(B_0 + B y_n)))$"
   ]
  },
  {
   "cell_type": "markdown",
   "metadata": {},
   "source": [
    "## Why Renyi? -> Fast inference (Does not require fixed point iteration)"
   ]
  },
  {
   "cell_type": "markdown",
   "metadata": {},
   "source": [
    "# Import Packages"
   ]
  },
  {
   "cell_type": "code",
   "execution_count": 63,
   "metadata": {},
   "outputs": [],
   "source": [
    "import tensorflow as tf\n",
    "import tensorflow_probability as tfp"
   ]
  },
  {
   "cell_type": "code",
   "execution_count": 64,
   "metadata": {},
   "outputs": [],
   "source": [
    "import numpy as np\n",
    "import pandas as pd\n",
    "from scipy.stats import bernoulli\n",
    "from matplotlib import pyplot as plt"
   ]
  },
  {
   "cell_type": "markdown",
   "metadata": {},
   "source": [
    "# Utilities"
   ]
  },
  {
   "cell_type": "code",
   "execution_count": 65,
   "metadata": {},
   "outputs": [],
   "source": [
    "tf_float_type = tf.float64\n",
    "np_float_type = np.float64\n",
    "as_tf_float = lambda x: tf.cast(x, tf_float_type)"
   ]
  },
  {
   "cell_type": "code",
   "execution_count": 66,
   "metadata": {},
   "outputs": [],
   "source": [
    "def tf_logsumexp(ary, axis=1, keepdims=False):\n",
    "    return tf.math.reduce_logsumexp(ary, axis=axis, keepdims=keepdims)\n",
    "\n",
    "def tf_logmeanexp(ary, axis=1, keepdims=False):\n",
    "    return tf.math.reduce_logsumexp(ary, axis=axis, keepdims=keepdims) \\\n",
    "        - tf.math.log(as_tf_float(ary.shape[axis]))"
   ]
  },
  {
   "cell_type": "code",
   "execution_count": 67,
   "metadata": {},
   "outputs": [],
   "source": [
    "sigmoid = lambda x:1/(1+np.exp(-x))"
   ]
  },
  {
   "cell_type": "markdown",
   "metadata": {},
   "source": [
    "# Generate Toy Dataset"
   ]
  },
  {
   "cell_type": "code",
   "execution_count": 105,
   "metadata": {},
   "outputs": [],
   "source": [
    "n = 10000\n",
    "d = 1\n",
    "k = 10"
   ]
  },
  {
   "cell_type": "code",
   "execution_count": 118,
   "metadata": {},
   "outputs": [],
   "source": [
    "z  = np.random.randn(n*d).reshape([n,d])\n",
    "z_ = np.concatenate([z,np.ones([n,1])], axis=1)\n",
    "beta = np.random.randn(k*(d+1)).reshape([d+1,k])\n",
    "beta[-1]=0\n",
    "y = bernoulli(p=sigmoid(z_@beta)).rvs()"
   ]
  },
  {
   "cell_type": "markdown",
   "metadata": {},
   "source": [
    "## Variatioal Bayes by KL[q||p]"
   ]
  },
  {
   "cell_type": "code",
   "execution_count": 119,
   "metadata": {},
   "outputs": [],
   "source": [
    "def pointwise_ELBO(y, z, beta, A, B):\n",
    "    \"\"\"\n",
    "    Compute ELBO for n_MC samples of beta, where the shape of beta is [n_MC, dim_x].\n",
    "    \n",
    "    Arguments:\n",
    "    y: 2-d array of size [n, k]\n",
    "    z: 2-d array of size [n, d]\n",
    "    beta: 2-d array of size [d+1, k] \n",
    "    Theta_mean, Theta_var: 2-d array of size [k+1, d]\n",
    "    \n",
    "    Returns:\n",
    "    elbo: elbo, whose size is [n]\n",
    "    \"\"\"\n",
    "    n, d = z.shape\n",
    "    z_ = tf.concat([z, tf.ones([n,1], dtype=tf_float_type)], axis=1)\n",
    "    y_ = tf.concat([y, tf.ones([n,1], dtype=tf_float_type)], axis=1)\n",
    "    \n",
    "    p_y = tfp.distributions.Bernoulli(logits=tf.math.sigmoid(z_@beta))\n",
    "    p_z = tfp.distributions.Normal(loc=np.zeros([n, d]), scale=np.ones([n, d]))\n",
    "    q_z = tfp.distributions.Normal(loc=y_@A, scale=tf.math.softplus(y_@B))\n",
    "    elbo = tf.reduce_sum( p_y.log_prob(y), axis=1)\\\n",
    "        + tf.reduce_sum(p_z.log_prob(z), axis=1)\\\n",
    "        - tf.reduce_sum(q_z.log_prob(z), axis=1)\n",
    "    return elbo"
   ]
  },
  {
   "cell_type": "code",
   "execution_count": 120,
   "metadata": {},
   "outputs": [],
   "source": [
    "def ELBO(y, beta, A, B):\n",
    "    n, d = y.shape\n",
    "    y_ = tf.concat([y, tf.ones([n,1], dtype=tf_float_type)], axis=1)\n",
    "    q_z = tfp.distributions.Normal(loc=y_@A, scale=tf.math.softplus(y_@B))\n",
    "    z = q_z.sample()\n",
    "    elbo = tf.reduce_mean( pointwise_ELBO(y, z, beta, A, B) )\n",
    "    return elbo"
   ]
  },
  {
   "cell_type": "code",
   "execution_count": 121,
   "metadata": {
    "scrolled": true
   },
   "outputs": [
    {
     "name": "stdout",
     "output_type": "stream",
     "text": [
      "tf.Tensor(-7.347140122917891, shape=(), dtype=float64)\n",
      "tf.Tensor(-7.166115919205017, shape=(), dtype=float64)\n",
      "tf.Tensor(-7.108480618686251, shape=(), dtype=float64)\n",
      "tf.Tensor(-7.069074812501715, shape=(), dtype=float64)\n",
      "tf.Tensor(-7.040747536822327, shape=(), dtype=float64)\n",
      "tf.Tensor(-7.021609235771452, shape=(), dtype=float64)\n",
      "tf.Tensor(-7.007019565887407, shape=(), dtype=float64)\n",
      "tf.Tensor(-6.996164468448842, shape=(), dtype=float64)\n",
      "tf.Tensor(-6.98784052215251, shape=(), dtype=float64)\n",
      "tf.Tensor(-6.981341337966005, shape=(), dtype=float64)\n"
     ]
    }
   ],
   "source": [
    "A = tf.Variable(np.zeros([k+1, d]))\n",
    "B = tf.Variable(np.zeros([k+1, d]))\n",
    "beta_ = tf.Variable(np.zeros([d+1, k])) \n",
    "    \n",
    "for t in range(100):\n",
    "    rho_t = 1.5/(10+t)**0.7\n",
    "    \n",
    "    with tf.GradientTape() as g:\n",
    "        g.watch([A, B, beta_])\n",
    "        score = ELBO(y, beta_, A, B)\n",
    "    dA, dB, dbeta_ = g.gradient(score, [A, B, beta_])\n",
    "\n",
    "    A = A + rho_t*dA\n",
    "    B = B + rho_t*dB\n",
    "    beta_ = beta_ + dbeta_\n",
    "    if t%10==0:\n",
    "        print(score)"
   ]
  },
  {
   "cell_type": "code",
   "execution_count": 122,
   "metadata": {},
   "outputs": [],
   "source": [
    "y_ = tf.concat([y, tf.ones([n,1], dtype=tf_float_type)], axis=1)"
   ]
  },
  {
   "cell_type": "code",
   "execution_count": 123,
   "metadata": {},
   "outputs": [
    {
     "data": {
      "text/plain": [
       "<tf.Tensor: shape=(2, 10), dtype=float64, numpy=\n",
       "array([[-5.72232851e-03, -5.03886046e-03, -1.41861022e-02,\n",
       "         1.10092480e-03,  3.41613337e-03, -2.56629889e-03,\n",
       "        -1.99576413e-03, -2.56769837e-03, -4.45294576e-03,\n",
       "        -4.43395504e-03],\n",
       "       [-1.54963192e+00, -1.48436406e+00, -1.54652008e+00,\n",
       "        -1.44318472e+00, -1.51771987e+00, -1.39384479e+00,\n",
       "        -1.50630467e+00, -1.51875442e+00, -1.52702663e+00,\n",
       "        -1.50629802e+00]])>"
      ]
     },
     "execution_count": 123,
     "metadata": {},
     "output_type": "execute_result"
    }
   ],
   "source": [
    "beta_"
   ]
  },
  {
   "cell_type": "code",
   "execution_count": 112,
   "metadata": {},
   "outputs": [
    {
     "data": {
      "text/plain": [
       "array([[ 1.84503716, -0.58053618, -0.77640745, -1.35393944, -1.0406653 ,\n",
       "         0.37820293, -0.91373719,  0.76160462,  0.14653945,  1.11535518],\n",
       "       [ 0.        ,  0.        ,  0.        ,  0.        ,  0.        ,\n",
       "         0.        ,  0.        ,  0.        ,  0.        ,  0.        ]])"
      ]
     },
     "execution_count": 112,
     "metadata": {},
     "output_type": "execute_result"
    }
   ],
   "source": [
    "beta"
   ]
  },
  {
   "cell_type": "code",
   "execution_count": 113,
   "metadata": {
    "scrolled": true
   },
   "outputs": [
    {
     "data": {
      "text/plain": [
       "<tf.Tensor: shape=(10000, 1), dtype=float64, numpy=\n",
       "array([[-1.17752264e-03],\n",
       "       [-1.60777980e-03],\n",
       "       [ 3.71723633e-04],\n",
       "       ...,\n",
       "       [-5.74998117e-04],\n",
       "       [-3.18574246e-03],\n",
       "       [-8.23457843e-05]])>"
      ]
     },
     "execution_count": 113,
     "metadata": {},
     "output_type": "execute_result"
    }
   ],
   "source": [
    "y_@A"
   ]
  },
  {
   "cell_type": "code",
   "execution_count": 114,
   "metadata": {},
   "outputs": [
    {
     "data": {
      "text/plain": [
       "<tf.Tensor: shape=(10000, 1), dtype=float64, numpy=\n",
       "array([[1.02158727],\n",
       "       [1.01594493],\n",
       "       [0.96270775],\n",
       "       ...,\n",
       "       [1.0485849 ],\n",
       "       [1.01477606],\n",
       "       [0.87327838]])>"
      ]
     },
     "execution_count": 114,
     "metadata": {},
     "output_type": "execute_result"
    }
   ],
   "source": [
    "tf.math.softplus(y_@B)"
   ]
  },
  {
   "cell_type": "code",
   "execution_count": 76,
   "metadata": {},
   "outputs": [
    {
     "data": {
      "text/plain": [
       "array([[ 0.0955569 ,  0.64059843],\n",
       "       [ 0.3576199 , -0.10300578],\n",
       "       [-0.69971399, -0.03910733],\n",
       "       ...,\n",
       "       [-0.59912762, -0.30518316],\n",
       "       [-1.87704468,  0.44348144],\n",
       "       [ 0.13548086, -1.55734755]])"
      ]
     },
     "execution_count": 76,
     "metadata": {},
     "output_type": "execute_result"
    }
   ],
   "source": [
    "z"
   ]
  },
  {
   "cell_type": "markdown",
   "metadata": {},
   "source": [
    "## Variational Bayes by Renyi Divergence"
   ]
  },
  {
   "cell_type": "code",
   "execution_count": 77,
   "metadata": {},
   "outputs": [],
   "source": [
    "def pointwise_IWELBO(y, z, beta, A, B):\n",
    "    \"\"\"\n",
    "    Compute ELBO for n_MC samples of beta, where the shape of beta is [n_MC, dim_x].\n",
    "    \n",
    "    Arguments:\n",
    "    loc_beta: 1-d array of size [dim_x]\n",
    "    scale_beta: 1-d array of size [dim_x]\n",
    "    beta: 3-d array of size [n_MC_out, n_MC_in, dim_x] representing the n_MC samples of beta taken from q_beta\n",
    "    \n",
    "    Returns:\n",
    "    elbo: n_MC MC-samples of elbo\n",
    "    \"\"\"\n",
    "\n",
    "    n_MC, n, d = z.shape\n",
    "    z_ = tf.concat([z, tf.ones([n_MC, n,1], dtype=tf_float_type)], axis=2)\n",
    "    y_ = tf.concat([y, tf.ones([n,1], dtype=tf_float_type)], axis=1)\n",
    "    \n",
    "    p_y = tfp.distributions.Bernoulli(logits=tf.math.sigmoid(z_@beta))\n",
    "    p_z = tfp.distributions.Normal(loc=np.zeros([n, d]), scale=np.ones([n, d]))\n",
    "    q_z = tfp.distributions.Normal(loc=y_@A, scale=tf.math.softplus(y_@B))\n",
    "    log_prob_ratio = tf.reduce_sum( p_y.log_prob(y), axis=2)\\\n",
    "        + tf.reduce_sum(p_z.log_prob(z), axis=2)\\\n",
    "        - tf.reduce_sum(q_z.log_prob(z), axis=2)\n",
    "    \n",
    "    iwelbo = tf_logmeanexp(log_prob_ratio, axis=0)\n",
    "    return iwelbo"
   ]
  },
  {
   "cell_type": "code",
   "execution_count": 78,
   "metadata": {},
   "outputs": [],
   "source": [
    "def IWELBO(y, beta, A, B, n_MC=1):\n",
    "    n, d = y.shape\n",
    "    y_ = tf.concat([y, tf.ones([n,1], dtype=tf_float_type)], axis=1)\n",
    "    q_z = tfp.distributions.Normal(loc=y_@A, scale=tf.math.softplus(y_@B))\n",
    "    z = q_z.sample(n_MC)\n",
    "    iwelbo = tf.reduce_mean( pointwise_IWELBO(y, z, beta, A, B) )\n",
    "    return iwelbo"
   ]
  },
  {
   "cell_type": "code",
   "execution_count": 115,
   "metadata": {
    "scrolled": true
   },
   "outputs": [
    {
     "data": {
      "text/plain": [
       "<tf.Tensor: shape=(), dtype=float64, numpy=-6.9749455778699225>"
      ]
     },
     "execution_count": 115,
     "metadata": {},
     "output_type": "execute_result"
    }
   ],
   "source": [
    "IWELBO(y, beta_, A, B, n_MC=100)"
   ]
  },
  {
   "cell_type": "code",
   "execution_count": 116,
   "metadata": {
    "scrolled": true
   },
   "outputs": [
    {
     "data": {
      "text/plain": [
       "<tf.Tensor: shape=(), dtype=float64, numpy=-6.976345133768971>"
      ]
     },
     "execution_count": 116,
     "metadata": {},
     "output_type": "execute_result"
    }
   ],
   "source": [
    "ELBO(y, beta_, A, B)"
   ]
  },
  {
   "cell_type": "code",
   "execution_count": 20,
   "metadata": {},
   "outputs": [],
   "source": [
    "def pointwise_Renyi_Chi(loc_beta, scale_beta, beta, gamma):\n",
    "    \"\"\"\n",
    "    Compute ELBO for n_MC samples of beta, where the shape of beta is [n_MC, dim_x].\n",
    "    \n",
    "    Arguments:\n",
    "    loc_beta: 1-d array of size [dim_x]\n",
    "    scale_beta: 1-d array of size [dim_x]\n",
    "    beta: 3-d array of size [n_MC_out, n_MC_in, dim_x] representing the n_MC samples of beta taken from q_beta\n",
    "    \n",
    "    Returns:\n",
    "    elbo: n_MC MC-samples of elbo\n",
    "    \"\"\"\n",
    "\n",
    "    p_beta = tfp.distributions.Normal(loc=np.zeros([dim_x]), scale=np.ones([dim_x]))\n",
    "    q_beta = tfp.distributions.Normal(loc=loc_beta, scale=scale_beta)\n",
    "    z = beta @ x.T# of shape [n_MC_out, n_MC_in, n_train]\n",
    "    p_y = tfp.distributions.Bernoulli(logits=z)\n",
    "    log_prob_ratio = tf.reduce_sum( p_y.log_prob(y), axis=2)\\\n",
    "                    + tf.reduce_sum( p_beta.log_prob(beta), axis=2)\\\n",
    "                    - tf.reduce_sum( q_beta.log_prob(beta), axis=2)# of shape [n_MC_out, n_MC_in]\n",
    "    score = 1./gamma * tf_logmeanexp(gamma * log_prob_ratio, axis=1)\n",
    "    return score"
   ]
  },
  {
   "cell_type": "code",
   "execution_count": 21,
   "metadata": {},
   "outputs": [],
   "source": [
    "def Renyi_Chi(loc_beta, scale_beta, gamma, n_MC_out=1, n_MC_in=1):\n",
    "    q_beta = tfp.distributions.Normal(loc=loc_beta, scale=scale_beta)\n",
    "    beta = q_beta.sample([n_MC_out, n_MC_in])# of shape [n_MC_out, n_MC_in, dim_x]\n",
    "    score = tf.reduce_mean( pointwise_Renyi_Chi(loc_beta, scale_beta, beta, gamma) )\n",
    "    return score"
   ]
  },
  {
   "cell_type": "code",
   "execution_count": 22,
   "metadata": {
    "scrolled": false
   },
   "outputs": [
    {
     "data": {
      "text/plain": [
       "<tf.Tensor: shape=(), dtype=float64, numpy=-1936.1934821923628>"
      ]
     },
     "execution_count": 22,
     "metadata": {},
     "output_type": "execute_result"
    }
   ],
   "source": [
    "Renyi_Chi(loc, scale, gamma=1, n_MC_out=100, n_MC_in=100)"
   ]
  },
  {
   "cell_type": "code",
   "execution_count": 23,
   "metadata": {
    "scrolled": true
   },
   "outputs": [
    {
     "data": {
      "text/plain": [
       "<tf.Tensor: shape=(), dtype=float64, numpy=-1905.2577076402463>"
      ]
     },
     "execution_count": 23,
     "metadata": {},
     "output_type": "execute_result"
    }
   ],
   "source": [
    "IWELBO(loc, scale, n_MC_out=100, n_MC_in=100)"
   ]
  },
  {
   "cell_type": "code",
   "execution_count": 24,
   "metadata": {
    "scrolled": true
   },
   "outputs": [
    {
     "data": {
      "text/plain": [
       "<tf.Tensor: shape=(), dtype=float64, numpy=-1937.1951177488452>"
      ]
     },
     "execution_count": 24,
     "metadata": {},
     "output_type": "execute_result"
    }
   ],
   "source": [
    "Renyi_Chi(loc, scale, gamma=1./2, n_MC_out=100, n_MC_in=100)"
   ]
  },
  {
   "cell_type": "code",
   "execution_count": 125,
   "metadata": {
    "scrolled": true
   },
   "outputs": [
    {
     "name": "stdout",
     "output_type": "stream",
     "text": [
      "tf.Tensor(-1887.210214166803, shape=(), dtype=float64)\n"
     ]
    }
   ],
   "source": [
    "loc = tf.Variable(np.zeros([dim_x]))\n",
    "invSPscale = tf.Variable(np.ones([dim_x])) # defined as inv_softplus(scale) to keep the positive constraint of scale\n",
    "    \n",
    "for t in range(1000):\n",
    "    rho_t = 1e-4/(10+t)**0.7\n",
    "    \n",
    "    with tf.GradientTape() as g:\n",
    "        g.watch([loc, invSPscale])\n",
    "        scale = tf.math.softplus(invSPscale) \n",
    "        score = Renyi_Chi(loc, scale, gamma=1./2, n_MC_out=100, n_MC_in=20)\n",
    "    dloc, dinvSPscale = g.gradient(score, [loc, invSPscale])\n",
    "\n",
    "    loc = loc + rho_t*dloc\n",
    "    invSPscale = invSPscale + rho_t*dinvSPscale\n",
    "print(score)"
   ]
  },
  {
   "cell_type": "code",
   "execution_count": 126,
   "metadata": {
    "scrolled": false
   },
   "outputs": [
    {
     "data": {
      "text/plain": [
       "<tf.Tensor: shape=(30,), dtype=float64, numpy=\n",
       "array([ 2.21628609e-01,  2.45967245e-01,  1.23386155e+00,  2.95110075e-01,\n",
       "        1.73451594e-03, -2.40260286e-03, -6.06845408e-03, -2.49097358e-03,\n",
       "        3.36436528e-03,  1.48100510e-03,  1.64733933e-03,  1.80841380e-02,\n",
       "       -1.06237793e-02, -5.76759690e-01,  8.37194646e-05, -6.49210107e-04,\n",
       "       -9.58858897e-04, -1.72147152e-04,  2.35744129e-04,  8.35026991e-06,\n",
       "        2.37381676e-01,  2.78624125e-01,  1.21063063e+00, -5.30909769e-01,\n",
       "        1.93326405e-03, -9.37318865e-03, -1.48236552e-02, -3.64078289e-03,\n",
       "        3.63099417e-03,  9.33117975e-04])>"
      ]
     },
     "execution_count": 126,
     "metadata": {},
     "output_type": "execute_result"
    }
   ],
   "source": [
    "loc"
   ]
  },
  {
   "cell_type": "code",
   "execution_count": 127,
   "metadata": {
    "scrolled": true
   },
   "outputs": [
    {
     "data": {
      "text/plain": [
       "<tf.Tensor: shape=(30,), dtype=float64, numpy=\n",
       "array([1.29678817, 1.25171697, 1.13147767, 0.24372117, 1.31268097,\n",
       "       1.31265296, 1.31256969, 1.31270638, 1.31287437, 1.31274768,\n",
       "       1.3129729 , 1.31192692, 1.310455  , 0.9890234 , 1.31267484,\n",
       "       1.31266016, 1.31266588, 1.31265478, 1.31268882, 1.31267453,\n",
       "       1.30008895, 1.19207457, 0.88288035, 0.17526154, 1.31259064,\n",
       "       1.31284715, 1.3127023 , 1.3126452 , 1.31270243, 1.31275456])>"
      ]
     },
     "execution_count": 127,
     "metadata": {},
     "output_type": "execute_result"
    }
   ],
   "source": [
    "scale"
   ]
  },
  {
   "cell_type": "code",
   "execution_count": 128,
   "metadata": {},
   "outputs": [
    {
     "data": {
      "text/plain": [
       "0.9156414762741653"
      ]
     },
     "execution_count": 128,
     "metadata": {},
     "output_type": "execute_result"
    }
   ],
   "source": [
    "np.mean((x @ loc.numpy()>0)==y) # accuracy of binary prediction"
   ]
  },
  {
   "cell_type": "markdown",
   "metadata": {},
   "source": [
    "# MLMC codition check"
   ]
  },
  {
   "cell_type": "code",
   "execution_count": 32,
   "metadata": {},
   "outputs": [],
   "source": [
    "def pointwise_dRenyi_Chi(loc_beta, scale_beta, gamma, beta):\n",
    "    n_MC_in = beta.shape[1]\n",
    "    assert np.log2(n_MC_in)%1==0\n",
    "    if n_MC_in == 1:\n",
    "        scores = pointwise_Renyi_Chi(loc_beta, scale_beta, beta, gamma) \n",
    "    else:\n",
    "        scores = pointwise_Renyi_Chi(loc_beta, scale_beta, beta, gamma)\n",
    "        scores -= (1/2.) * pointwise_Renyi_Chi(loc_beta, scale_beta, beta[:,:n_MC_in//2 ,:], gamma)\n",
    "        scores -= (1/2.) * pointwise_Renyi_Chi(loc_beta, scale_beta, beta[:, n_MC_in//2:,:], gamma)\n",
    "    return scores"
   ]
  },
  {
   "cell_type": "code",
   "execution_count": 33,
   "metadata": {},
   "outputs": [],
   "source": [
    "def dRenyi_Chi(loc_beta, scale_beta, gamma, n_MC_out=1, level=1):\n",
    "    n_MC_in = 2**level\n",
    "    q_beta = tfp.distributions.Normal(loc=loc_beta, scale=scale_beta)\n",
    "    beta = q_beta.sample([n_MC_out, n_MC_in])# of shape [n_MC_out, n_MC_in, dim_x]\n",
    "    return tf.reduce_mean( pointwise_dRenyi_Chi(loc_beta, scale_beta, gamma, beta) )"
   ]
  },
  {
   "cell_type": "code",
   "execution_count": 108,
   "metadata": {},
   "outputs": [],
   "source": [
    "def conv_stats_dRenyi_Chi(loc_beta, scale_beta, gamma, n_MC_out=10, level=1):\n",
    "    n_MC_in = 2**level\n",
    "    q_beta = tfp.distributions.Normal(loc=loc_beta, scale=scale_beta)\n",
    "    beta = q_beta.sample([n_MC_out, n_MC_in])# of shape [n_MC_out, n_MC_in, dim_x]\n",
    "    scores = pointwise_dRenyi_Chi(loc_beta, scale_beta, gamma, beta).numpy()\n",
    "    mean = scores.mean()\n",
    "    abs_mean = np.abs(mean)\n",
    "    var = scores.var()\n",
    "    var_Renyi_Chi = pointwise_Renyi_Chi(loc_beta, scale_beta, beta, gamma).numpy().var()\n",
    "    return {'mean':mean, 'abs_mean':abs_mean, 'var':var, 'var_Renyi_Chi':var_Renyi_Chi}"
   ]
  },
  {
   "cell_type": "code",
   "execution_count": 109,
   "metadata": {
    "scrolled": false
   },
   "outputs": [],
   "source": [
    "conv_stats = [conv_stats_dRenyi_Chi(loc, scale, gamma=1, n_MC_out=10, level=level) for level in range(15)]\n",
    "conv_stats = pd.DataFrame(conv_stats)"
   ]
  },
  {
   "cell_type": "code",
   "execution_count": 111,
   "metadata": {
    "scrolled": false
   },
   "outputs": [
    {
     "data": {
      "image/png": "[encoded data removed]",
      "text/plain": [
       "<Figure size 432x288 with 1 Axes>"
      ]
     },
     "metadata": {
      "needs_background": "light"
     },
     "output_type": "display_data"
    }
   ],
   "source": [
    "plt.plot(conv_stats[['abs_mean', 'var', 'var_Renyi_Chi']])\n",
    "plt.yscale('log')"
   ]
  },
  {
   "cell_type": "code",
   "execution_count": 110,
   "metadata": {},
   "outputs": [
    {
     "data": {
      "text/html": [
       "<div>\n",
       "<style scoped>\n",
       "    .dataframe tbody tr th:only-of-type {\n",
       "        vertical-align: middle;\n",
       "    }\n",
       "\n",
       "    .dataframe tbody tr th {\n",
       "        vertical-align: top;\n",
       "    }\n",
       "\n",
       "    .dataframe thead th {\n",
       "        text-align: right;\n",
       "    }\n",
       "</style>\n",
       "<table border=\"1\" class=\"dataframe\">\n",
       "  <thead>\n",
       "    <tr style=\"text-align: right;\">\n",
       "      <th></th>\n",
       "      <th>mean</th>\n",
       "      <th>abs_mean</th>\n",
       "      <th>var</th>\n",
       "      <th>var_Renyi_Chi</th>\n",
       "    </tr>\n",
       "  </thead>\n",
       "  <tbody>\n",
       "    <tr>\n",
       "      <th>0</th>\n",
       "      <td>-56226.324106</td>\n",
       "      <td>56226.324106</td>\n",
       "      <td>5.423749e+08</td>\n",
       "      <td>5.423749e+08</td>\n",
       "    </tr>\n",
       "    <tr>\n",
       "      <th>1</th>\n",
       "      <td>37535.749629</td>\n",
       "      <td>37535.749629</td>\n",
       "      <td>4.217815e+08</td>\n",
       "      <td>2.286901e+08</td>\n",
       "    </tr>\n",
       "    <tr>\n",
       "      <th>2</th>\n",
       "      <td>16706.288095</td>\n",
       "      <td>16706.288095</td>\n",
       "      <td>1.717058e+08</td>\n",
       "      <td>5.200590e+07</td>\n",
       "    </tr>\n",
       "    <tr>\n",
       "      <th>3</th>\n",
       "      <td>3526.307061</td>\n",
       "      <td>3526.307061</td>\n",
       "      <td>6.221630e+06</td>\n",
       "      <td>1.237900e+08</td>\n",
       "    </tr>\n",
       "    <tr>\n",
       "      <th>4</th>\n",
       "      <td>1840.319791</td>\n",
       "      <td>1840.319791</td>\n",
       "      <td>3.621295e+06</td>\n",
       "      <td>2.986941e+05</td>\n",
       "    </tr>\n",
       "    <tr>\n",
       "      <th>5</th>\n",
       "      <td>765.727468</td>\n",
       "      <td>765.727468</td>\n",
       "      <td>4.735004e+05</td>\n",
       "      <td>9.843835e+05</td>\n",
       "    </tr>\n",
       "    <tr>\n",
       "      <th>6</th>\n",
       "      <td>222.248542</td>\n",
       "      <td>222.248542</td>\n",
       "      <td>3.130309e+04</td>\n",
       "      <td>9.134013e+04</td>\n",
       "    </tr>\n",
       "    <tr>\n",
       "      <th>7</th>\n",
       "      <td>225.117941</td>\n",
       "      <td>225.117941</td>\n",
       "      <td>1.643613e+04</td>\n",
       "      <td>1.643966e+04</td>\n",
       "    </tr>\n",
       "    <tr>\n",
       "      <th>8</th>\n",
       "      <td>142.679953</td>\n",
       "      <td>142.679953</td>\n",
       "      <td>1.101762e+04</td>\n",
       "      <td>2.671068e+04</td>\n",
       "    </tr>\n",
       "    <tr>\n",
       "      <th>9</th>\n",
       "      <td>86.741618</td>\n",
       "      <td>86.741618</td>\n",
       "      <td>4.160101e+03</td>\n",
       "      <td>1.802893e+04</td>\n",
       "    </tr>\n",
       "    <tr>\n",
       "      <th>10</th>\n",
       "      <td>97.292839</td>\n",
       "      <td>97.292839</td>\n",
       "      <td>2.428133e+03</td>\n",
       "      <td>3.508738e+03</td>\n",
       "    </tr>\n",
       "    <tr>\n",
       "      <th>11</th>\n",
       "      <td>54.953259</td>\n",
       "      <td>54.953259</td>\n",
       "      <td>2.613806e+03</td>\n",
       "      <td>2.473361e+04</td>\n",
       "    </tr>\n",
       "    <tr>\n",
       "      <th>12</th>\n",
       "      <td>60.313784</td>\n",
       "      <td>60.313784</td>\n",
       "      <td>1.506475e+03</td>\n",
       "      <td>3.650440e+03</td>\n",
       "    </tr>\n",
       "    <tr>\n",
       "      <th>13</th>\n",
       "      <td>47.483385</td>\n",
       "      <td>47.483385</td>\n",
       "      <td>2.123716e+03</td>\n",
       "      <td>7.780329e+03</td>\n",
       "    </tr>\n",
       "    <tr>\n",
       "      <th>14</th>\n",
       "      <td>45.081358</td>\n",
       "      <td>45.081358</td>\n",
       "      <td>7.233488e+02</td>\n",
       "      <td>5.044601e+03</td>\n",
       "    </tr>\n",
       "  </tbody>\n",
       "</table>\n",
       "</div>"
      ],
      "text/plain": [
       "            mean      abs_mean           var  var_Renyi_Chi\n",
       "0  -56226.324106  56226.324106  5.423749e+08   5.423749e+08\n",
       "1   37535.749629  37535.749629  4.217815e+08   2.286901e+08\n",
       "2   16706.288095  16706.288095  1.717058e+08   5.200590e+07\n",
       "3    3526.307061   3526.307061  6.221630e+06   1.237900e+08\n",
       "4    1840.319791   1840.319791  3.621295e+06   2.986941e+05\n",
       "5     765.727468    765.727468  4.735004e+05   9.843835e+05\n",
       "6     222.248542    222.248542  3.130309e+04   9.134013e+04\n",
       "7     225.117941    225.117941  1.643613e+04   1.643966e+04\n",
       "8     142.679953    142.679953  1.101762e+04   2.671068e+04\n",
       "9      86.741618     86.741618  4.160101e+03   1.802893e+04\n",
       "10     97.292839     97.292839  2.428133e+03   3.508738e+03\n",
       "11     54.953259     54.953259  2.613806e+03   2.473361e+04\n",
       "12     60.313784     60.313784  1.506475e+03   3.650440e+03\n",
       "13     47.483385     47.483385  2.123716e+03   7.780329e+03\n",
       "14     45.081358     45.081358  7.233488e+02   5.044601e+03"
      ]
     },
     "execution_count": 110,
     "metadata": {},
     "output_type": "execute_result"
    }
   ],
   "source": [
    "conv_stats"
   ]
  },
  {
   "cell_type": "markdown",
   "metadata": {},
   "source": [
    "# MLMC"
   ]
  },
  {
   "cell_type": "code",
   "execution_count": 80,
   "metadata": {},
   "outputs": [],
   "source": [
    "def Renyi_Chi_MLMC(loc_beta, scale_beta, gamma, n_MC_out=100, max_level=8, start_level=0):        \n",
    "    levels = np.arange(start_level, max_level+1)\n",
    "    weights = 2.**(-3/2*levels)\n",
    "    weights /= sum(weights)\n",
    "    Ns = np.zeros_like(levels)\n",
    "    Ns = np.array([np.math.ceil(w*n_MC_out) for w in weights], dtype=np.int)\n",
    "    Ns[0] = n_MC_out - sum(Ns[1:])\n",
    "    \n",
    "    score = Renyi_Chi(loc_beta, scale_beta, gamma, n_MC_out=Ns[0], n_MC_in=2**start_level)\n",
    "    for level, n_MC in zip(levels[1:], Ns[1:]):\n",
    "        score += dRenyi_Chi(loc_beta, scale_beta, gamma, n_MC_out=n_MC, level=level)\n",
    "    return score"
   ]
  },
  {
   "cell_type": "code",
   "execution_count": 88,
   "metadata": {
    "scrolled": true
   },
   "outputs": [
    {
     "data": {
      "text/plain": [
       "<tf.Tensor: shape=(), dtype=float64, numpy=-879.3426918453547>"
      ]
     },
     "execution_count": 88,
     "metadata": {},
     "output_type": "execute_result"
    }
   ],
   "source": [
    "Renyi_Chi(loc, scale, gamma=1/2., n_MC_out=100, n_MC_in=2**8)"
   ]
  },
  {
   "cell_type": "code",
   "execution_count": 99,
   "metadata": {},
   "outputs": [
    {
     "name": "stdout",
     "output_type": "stream",
     "text": [
      "2\n",
      "3\n",
      "4\n",
      "5\n",
      "6\n",
      "7\n",
      "8\n"
     ]
    },
    {
     "data": {
      "text/plain": [
       "<tf.Tensor: shape=(), dtype=float64, numpy=-763.5578446208564>"
      ]
     },
     "execution_count": 99,
     "metadata": {},
     "output_type": "execute_result"
    }
   ],
   "source": [
    "Renyi_Chi_MLMC(loc, scale, gamma=1/2., n_MC_out=100000, max_level=8, start_level=1)"
   ]
  }
 ],
 "metadata": {
  "kernelspec": {
   "display_name": "Python 3",
   "language": "python",
   "name": "python3"
  },
  "language_info": {
   "codemirror_mode": {
    "name": "ipython",
    "version": 3
   },
   "file_extension": ".py",
   "mimetype": "text/x-python",
   "name": "python",
   "nbconvert_exporter": "python",
   "pygments_lexer": "ipython3",
   "version": "3.6.9"
  }
 },
 "nbformat": 4,
 "nbformat_minor": 4
}
