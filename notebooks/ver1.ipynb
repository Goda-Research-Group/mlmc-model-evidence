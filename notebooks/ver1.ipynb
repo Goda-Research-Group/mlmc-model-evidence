{
 "cells": [
  {
   "cell_type": "code",
   "execution_count": 1,
   "metadata": {},
   "outputs": [],
   "source": [
    "import numpy as np"
   ]
  },
  {
   "cell_type": "code",
   "execution_count": 71,
   "metadata": {},
   "outputs": [],
   "source": [
    "import tensorflow as tf\n",
    "from tensorflow_probability import distributions as tfd"
   ]
  },
  {
   "cell_type": "code",
   "execution_count": 72,
   "metadata": {},
   "outputs": [],
   "source": [
    "tf_float_type = tf.float64\n",
    "np_float_type = np.float64\n",
    "as_tf_float = lambda x: tf.cast(x, tf_float_type)"
   ]
  },
  {
   "cell_type": "code",
   "execution_count": 73,
   "metadata": {},
   "outputs": [],
   "source": [
    "def tf_logsumexp(ary, axis=1, keepdims=False):\n",
    "    return tf.math.reduce_logsumexp(ary, axis=axis, keepdims=keepdims)\n",
    "\n",
    "def tf_logmeanexp(ary, axis=1, keepdims=False):\n",
    "    return tf.math.reduce_logsumexp(ary, axis=axis, keepdims=keepdims) \\\n",
    "        - tf.math.log(as_tf_float(ary.shape[axis]))"
   ]
  },
  {
   "cell_type": "markdown",
   "metadata": {},
   "source": [
    "# Model\n",
    "For $n=1,...,N$,\n",
    "\\begin{align}\n",
    "\\beta \\sim N(0,1)\\\\\n",
    "x_n \\sim N(\\beta, 1)\n",
    "\\end{align}"
   ]
  },
  {
   "cell_type": "code",
   "execution_count": 34,
   "metadata": {},
   "outputs": [],
   "source": [
    "def sample_beta():\n",
    "    beta = np.random.randn(1)\n",
    "    return beta"
   ]
  },
  {
   "cell_type": "code",
   "execution_count": 35,
   "metadata": {},
   "outputs": [],
   "source": [
    "def sample_x(beta, n_sample):\n",
    "    x = np.random.randn(n_sample) + beta\n",
    "    return x"
   ]
  },
  {
   "cell_type": "code",
   "execution_count": 125,
   "metadata": {},
   "outputs": [],
   "source": [
    "def likelihood(mu_beta, beta_sample, x_sample, N):\n",
    "    \"\"\"\n",
    "    Arguments:\n",
    "    mu_beta: scalar\n",
    "    beta: array of size [n_MC_out]\n",
    "    x: array of size [n_MC_out, n_MC_in]\n",
    "    \"\"\"\n",
    "    p_x = tfd.Normal(loc=beta, scale=1)\n",
    "    p_beta = tfd.Normal(loc=np.float64(0), scale=1)\n",
    "    q_beta = tfd.Normal(loc=mu_beta, scale=1)\n",
    "    log_prob_ratio = N*tf.reduce_mean(p_x.log_prob(x_sample), axis=1)\\\n",
    "                    + p_beta.log_prob(beta_sample)\\\n",
    "                    - q_beta.log_prob(beta_sample)\n",
    "    score = tf_logmeanexp(log_prob_ratio, axis=0)\n",
    "    return score"
   ]
  },
  {
   "cell_type": "code",
   "execution_count": 138,
   "metadata": {},
   "outputs": [],
   "source": [
    "beta = sample_beta()\n",
    "mu_beta=np.float64(1)\n",
    "N=100000"
   ]
  },
  {
   "cell_type": "code",
   "execution_count": 164,
   "metadata": {},
   "outputs": [],
   "source": [
    "def d_log_prob(n_MC_out, n_MC_in):\n",
    "    n_MC_out = 10\n",
    "    n_MC_in = 10\n",
    "    q_beta = tfd.Normal(loc=mu_beta, scale=1)\n",
    "    beta_sample = q_beta.sample([n_MC_out])\n",
    "    x_sample = sample_x(beta, 2*n_MC_out*n_MC_in).reshape([n_MC_out, 2*n_MC_in])\n",
    "    x_sample1 = x_sample[:,:n_MC_in ]\n",
    "    x_sample2 = x_sample[:, n_MC_in:]\n",
    "\n",
    "    a = likelihood(mu_beta, beta_sample, x_sample1, N)\n",
    "    b = likelihood(mu_beta, beta_sample, x_sample2, N)\n",
    "    c = likelihood(mu_beta, beta_sample, x_sample, N)\n",
    "    return c - 1/2. * (a+b), a, b, c"
   ]
  },
  {
   "cell_type": "code",
   "execution_count": 246,
   "metadata": {},
   "outputs": [
    {
     "data": {
      "text/plain": [
       "(<tf.Tensor: shape=(), dtype=float64, numpy=-2.9103830456733704e-11>,\n",
       " <tf.Tensor: shape=(), dtype=float64, numpy=-128472.92497394019>,\n",
       " <tf.Tensor: shape=(), dtype=float64, numpy=-103082.00833085031>,\n",
       " <tf.Tensor: shape=(), dtype=float64, numpy=-115777.46665239528>)"
      ]
     },
     "execution_count": 246,
     "metadata": {},
     "output_type": "execute_result"
    }
   ],
   "source": [
    "d_log_prob(10,1)"
   ]
  },
  {
   "cell_type": "markdown",
   "metadata": {},
   "source": [
    "## Thus, the coupling for stochastic VI using Renyi cannot be done by MLMC"
   ]
  }
 ],
 "metadata": {
  "kernelspec": {
   "display_name": "Python 3",
   "language": "python",
   "name": "python3"
  },
  "language_info": {
   "codemirror_mode": {
    "name": "ipython",
    "version": 3
   },
   "file_extension": ".py",
   "mimetype": "text/x-python",
   "name": "python",
   "nbconvert_exporter": "python",
   "pygments_lexer": "ipython3",
   "version": "3.6.9"
  }
 },
 "nbformat": 4,
 "nbformat_minor": 4
}
