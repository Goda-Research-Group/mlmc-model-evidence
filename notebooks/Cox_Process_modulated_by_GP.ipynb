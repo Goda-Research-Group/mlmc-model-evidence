{
 "cells": [
  {
   "cell_type": "markdown",
   "metadata": {},
   "source": [
    "## Model\n",
    "Cox Prosess model with latent GP intensity function is defined as:"
   ]
  },
  {
   "cell_type": "markdown",
   "metadata": {},
   "source": [
    "&nbsp;&nbsp;&nbsp;&nbsp;&nbsp;\n",
    "$f \\sim GP(0, K_\\theta)$\n",
    "<br>&nbsp;&nbsp;&nbsp;&nbsp;&nbsp;\n",
    "$Y_{1:N} \\sim Cox\\left(\\lambda(x) = \\lambda_0\\sigma(f(x))\\right)$,\n",
    "\n",
    "where $K_\\theta(x_1,x_2) = \\exp\\left(\\beta - \\sum_{d=1,2}(x_{1d} - x_{2d})^2/\\mathrm{softplus}({\\alpha_d})\\right)$, for $\\theta=(\\beta, \\alpha)$."
   ]
  },
  {
   "cell_type": "markdown",
   "metadata": {},
   "source": [
    "## Import"
   ]
  },
  {
   "cell_type": "code",
   "execution_count": 3,
   "metadata": {},
   "outputs": [],
   "source": [
    "# Turn GPUs off\n",
    "import os\n",
    "os.environ[\"CUDA_VISIBLE_DEVICES\"] = \"-1\""
   ]
  },
  {
   "cell_type": "code",
   "execution_count": 4,
   "metadata": {},
   "outputs": [],
   "source": [
    "import tensorflow as tf\n",
    "import tensorflow_probability as tfp\n",
    "import numpy as np\n",
    "import pandas as pd\n",
    "from scipy.stats import bernoulli, norm, expon\n",
    "from matplotlib import pyplot as plt\n",
    "import time\n",
    "np.random.seed(0)"
   ]
  },
  {
   "cell_type": "code",
   "execution_count": 5,
   "metadata": {},
   "outputs": [
    {
     "name": "stdout",
     "output_type": "stream",
     "text": [
      "WARNING:tensorflow:From <ipython-input-5-17bb7203622b>:1: is_gpu_available (from tensorflow.python.framework.test_util) is deprecated and will be removed in a future version.\n",
      "Instructions for updating:\n",
      "Use `tf.config.list_physical_devices('GPU')` instead.\n"
     ]
    },
    {
     "data": {
      "text/plain": [
       "False"
      ]
     },
     "execution_count": 5,
     "metadata": {},
     "output_type": "execute_result"
    }
   ],
   "source": [
    "tf.test.is_gpu_available()"
   ]
  },
  {
   "cell_type": "markdown",
   "metadata": {},
   "source": [
    "## Utilities"
   ]
  },
  {
   "cell_type": "code",
   "execution_count": 152,
   "metadata": {},
   "outputs": [],
   "source": [
    "sigmoid = lambda x: 1/(1+np.exp(-x))\n",
    "softplus = lambda x: np.log(1+np.exp(x))\n",
    "as_tf_float = lambda x: tf.cast(x, tf.float64)\n",
    "\n",
    "def tf_logsumexp(ary, axis=1, keepdims=False):\n",
    "    return tf.math.reduce_logsumexp(ary, axis=axis, keepdims=keepdims)\n",
    "\n",
    "def tf_logmeanexp(ary, axis=1, keepdims=False):\n",
    "    return tf.math.reduce_logsumexp(ary, axis=axis, keepdims=keepdims) \\\n",
    "        - tf.math.log(as_tf_float(ary.shape[axis]))\n",
    "\n",
    "def timestamp():\n",
    "    now = datetime.datetime.now()\n",
    "    return now.strftime(\"%Y%m%d%H%M%S\")  "
   ]
  },
  {
   "cell_type": "markdown",
   "metadata": {},
   "source": [
    "## Data"
   ]
  },
  {
   "cell_type": "code",
   "execution_count": 100,
   "metadata": {},
   "outputs": [],
   "source": [
    "def rejector(x):\n",
    "    cond = tf.math.logical_and(x>=-4, x<=+4)\n",
    "    cond = tf.math.logical_and(cond[:,0], cond[:,1])\n",
    "    return x[cond,:]"
   ]
  },
  {
   "cell_type": "code",
   "execution_count": 110,
   "metadata": {},
   "outputs": [],
   "source": [
    "def generate_data(N=10000, rejector=lambda x:x):\n",
    "    K = 10\n",
    "    np.random.seed(0)\n",
    "    mu = np.random.randn(K*2).reshape([K,2])\n",
    "    N0 = N\n",
    "    while True:\n",
    "        component = np.random.choice(np.arange(K), size=N)\n",
    "        x = 0.2*np.random.randn(2*N).reshape([N,2]) + mu[component]\n",
    "        x = rejector(x)\n",
    "        if x.shape[0]>=N0:\n",
    "            return x[:N0]\n",
    "        else:\n",
    "            N *= 2"
   ]
  },
  {
   "cell_type": "code",
   "execution_count": 126,
   "metadata": {},
   "outputs": [],
   "source": [
    "N = 400\n",
    "x = generate_data(N, rejector)"
   ]
  },
  {
   "cell_type": "code",
   "execution_count": 127,
   "metadata": {},
   "outputs": [
    {
     "data": {
      "text/plain": [
       "<matplotlib.collections.PathCollection at 0x7f01fdef7400>"
      ]
     },
     "execution_count": 127,
     "metadata": {},
     "output_type": "execute_result"
    },
    {
     "data": {
      "image/png": "[encoded data removed]",
      "text/plain": [
       "<Figure size 432x288 with 1 Axes>"
      ]
     },
     "metadata": {
      "needs_background": "light"
     },
     "output_type": "display_data"
    }
   ],
   "source": [
    "plt.scatter(x[:,0], x[:,1])"
   ]
  },
  {
   "cell_type": "markdown",
   "metadata": {},
   "source": [
    "## MC estimator of likelihood"
   ]
  },
  {
   "cell_type": "code",
   "execution_count": 303,
   "metadata": {},
   "outputs": [],
   "source": [
    "def ELBO(y, theta, phi):\n",
    "\n",
    "    x_i = phi['x_i']\n",
    "    m = phi['m']\n",
    "    cholS = phi['colS']\n",
    "    beta = theta['beta']\n",
    "    alpha = theta['alpha']\n",
    "    lambda0 = theta['lambda0']\n",
    "    sp_alpha = tf.math.softplus( tf.reshape(alpha, shape=[1,1,2]) )\n",
    "    x_sampler = theta['x_sampler']\n",
    "    area = theta['area']\n",
    "    \n",
    "    N = y.shape[0]\n",
    "    M = m.shape[0]\n",
    "    \n",
    "    def K(x1,x2):\n",
    "        n1 = x1.shape[0]\n",
    "        n2 = x2.shape[0]\n",
    "        x1 = tf.reshape(x1, [n1, 1, 2])\n",
    "        x2 = tf.reshape(x2, [1 ,n2, 2])\n",
    "        return tf.exp(beta - tf.reduce_sum((x1-x2)**2 / sp_alpha, axis=2))\n",
    "    \n",
    "    K_ii = K(x_i, x_i)\n",
    "    CholK_ii = tf.linalg.cholesky(K_ii)\n",
    "    inv_CholK_ii = tf.linalg.inv(CholK_ii)\n",
    "    inv_K_ii = tf.transpose(inv_CholK_ii)@inv_CholK_ii\n",
    "    \n",
    "    p_u = tfp.distributions.MultivariateNormalTriL(loc=0, scale_tril=CholK_ii)\n",
    "    q_u = tfp.distributions.MultivariateNormalTriL(loc=m, scale_tril=cholS)\n",
    "    u = q_u.sample(N)\n",
    "    \n",
    "    def sample_f(x_n):\n",
    "        K_ni = K(x_n, x_i)\n",
    "        K_in = tf.transpose(K_ni)\n",
    "        f_n_mean = tf.linalg.einsum('ni,ij,nj->n', K_ni, inv_K_ii, u)\n",
    "        f_n_var  = tf.vectorized_map(lambda x:K(x,x), tf.expand_dims(y, axis=1))\n",
    "        f_n_var = tf.reshape(f_n_var, [N])\n",
    "        f_n_var = f_n_var - tf.linalg.einsum('ni,ij,jn->n', K_ni, inv_K_ii, K_in)\n",
    "        p_f_n = tfp.distributions.Normal(loc=f_n_mean, scale=f_n_var)\n",
    "        f_n = p_f_n.sample()\n",
    "        return f_n\n",
    "    \n",
    "    x_t = x_sampler(N)\n",
    "    f_t = sample_f(x_t)\n",
    "    f_n = sample_f(y)\n",
    "    \n",
    "    p_y_log_prob = tf.reduce_sum(tf.math.log(lambda0) * (tf.math.log_sigmoid(f_n)))\\\n",
    "                    - area * tf.reduce_mean(tf.math.log(lambda0) * (tf.math.log_sigmoid(f_t)))\\\n",
    "                    - tfp.distributions.kl_divergence(q_u, p_u)\n",
    "    return p_y_log_prob"
   ]
  },
  {
   "cell_type": "code",
   "execution_count": 316,
   "metadata": {},
   "outputs": [],
   "source": [
    "phi = {\n",
    "    'x_i': tf.Variable(x_sampler(30)),\n",
    "    'm': tf.Variable(np.zeros([30])),\n",
    "    'colS': tf.Variable(np.eye(30, dtype=np.float64))\n",
    "}\n",
    "theta = {\n",
    "    'beta': tf.Variable(1., dtype=tf.float64),\n",
    "    'alpha': tf.Variable(np.ones([2]), dtype=tf.float64),\n",
    "    'beta': tf.Variable(1., dtype=tf.float64),\n",
    "    'lambda0': tf.Variable(5., dtype=tf.float64),\n",
    "    'x_sampler': (lambda n: np.random.uniform(low=-4,high=4, size=n*2).reshape([n,2])),\n",
    "    'area': 8*8\n",
    "}"
   ]
  },
  {
   "cell_type": "code",
   "execution_count": 317,
   "metadata": {},
   "outputs": [
    {
     "data": {
      "text/plain": [
       "<tf.Tensor: shape=(), dtype=float64, numpy=-622.5342804546192>"
      ]
     },
     "execution_count": 317,
     "metadata": {},
     "output_type": "execute_result"
    }
   ],
   "source": [
    "ELBO(x, theta, phi)"
   ]
  },
  {
   "cell_type": "code",
   "execution_count": null,
   "metadata": {},
   "outputs": [],
   "source": [
    "for i in range(100):\n",
    "    phi.values()"
   ]
  }
 ],
 "metadata": {
  "kernelspec": {
   "display_name": "Python 3",
   "language": "python",
   "name": "python3"
  },
  "language_info": {
   "codemirror_mode": {
    "name": "ipython",
    "version": 3
   },
   "file_extension": ".py",
   "mimetype": "text/x-python",
   "name": "python",
   "nbconvert_exporter": "python",
   "pygments_lexer": "ipython3",
   "version": "3.6.9"
  }
 },
 "nbformat": 4,
 "nbformat_minor": 4
}
