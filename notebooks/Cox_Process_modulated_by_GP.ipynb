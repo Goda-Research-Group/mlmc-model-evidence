{
 "cells": [
  {
   "cell_type": "markdown",
   "metadata": {},
   "source": [
    "## Model\n",
    "Cox Prosess model with latent GP intensity function is defined as:"
   ]
  },
  {
   "cell_type": "markdown",
   "metadata": {},
   "source": [
    "&nbsp;&nbsp;&nbsp;&nbsp;&nbsp;\n",
    "$f \\sim GP(0, K_\\theta)$\n",
    "<br>&nbsp;&nbsp;&nbsp;&nbsp;&nbsp;\n",
    "$Y_{1:N} \\sim Cox\\left(\\lambda(x) = \\exp(f(x))\\right)$,\n",
    "\n",
    "where $K_\\theta(x_1,x_2) = \\exp\\left(\\beta - \\sum_{d=1,2}(x_{1d} - x_{2d})^2/\\mathrm{softplus}({\\alpha})\\right)$, for $\\theta=(\\beta, \\alpha)$."
   ]
  },
  {
   "cell_type": "markdown",
   "metadata": {},
   "source": [
    "## Import"
   ]
  },
  {
   "cell_type": "code",
   "execution_count": 1,
   "metadata": {},
   "outputs": [],
   "source": [
    "# Turn GPUs off\n",
    "import os\n",
    "os.environ[\"CUDA_VISIBLE_DEVICES\"] = \"-1\""
   ]
  },
  {
   "cell_type": "code",
   "execution_count": 2,
   "metadata": {},
   "outputs": [],
   "source": [
    "import tensorflow as tf\n",
    "import tensorflow_probability as tfp\n",
    "import numpy as np\n",
    "import pandas as pd\n",
    "from scipy.stats import bernoulli, norm, expon\n",
    "from matplotlib import pyplot as plt\n",
    "import time\n",
    "np.random.seed(0)"
   ]
  },
  {
   "cell_type": "code",
   "execution_count": 3,
   "metadata": {},
   "outputs": [
    {
     "name": "stdout",
     "output_type": "stream",
     "text": [
      "WARNING:tensorflow:From <ipython-input-3-17bb7203622b>:1: is_gpu_available (from tensorflow.python.framework.test_util) is deprecated and will be removed in a future version.\n",
      "Instructions for updating:\n",
      "Use `tf.config.list_physical_devices('GPU')` instead.\n"
     ]
    },
    {
     "data": {
      "text/plain": [
       "False"
      ]
     },
     "execution_count": 3,
     "metadata": {},
     "output_type": "execute_result"
    }
   ],
   "source": [
    "tf.test.is_gpu_available()"
   ]
  },
  {
   "cell_type": "markdown",
   "metadata": {},
   "source": [
    "## Utilities"
   ]
  },
  {
   "cell_type": "code",
   "execution_count": 4,
   "metadata": {},
   "outputs": [],
   "source": [
    "sigmoid = lambda x: 1/(1+np.exp(-x))\n",
    "softplus = lambda x: np.log(1+np.exp(x))\n",
    "as_tf_float = lambda x: tf.cast(x, tf.float64)\n",
    "\n",
    "def tf_logsumexp(ary, axis=1, keepdims=False):\n",
    "    return tf.math.reduce_logsumexp(ary, axis=axis, keepdims=keepdims)\n",
    "\n",
    "def tf_logmeanexp(ary, axis=1, keepdims=False):\n",
    "    return tf.math.reduce_logsumexp(ary, axis=axis, keepdims=keepdims) \\\n",
    "        - tf.math.log(as_tf_float(ary.shape[axis]))\n",
    "\n",
    "def tf_reduce_and(ary, axis=1, keepdims=False):\n",
    "    return tf.logical_not(tf.reduce_any(tf.logical_not(ary), axis=axis, keepdims=keepdims))\n",
    "    \n",
    "def timestamp():\n",
    "    now = datetime.datetime.now()\n",
    "    return now.strftime(\"%Y%m%d%H%M%S\")  "
   ]
  },
  {
   "cell_type": "markdown",
   "metadata": {},
   "source": [
    "## Data"
   ]
  },
  {
   "cell_type": "code",
   "execution_count": 5,
   "metadata": {},
   "outputs": [],
   "source": [
    "def rejector(x):\n",
    "    cond = tf.math.logical_and(x>=-4, x<=+4)\n",
    "    cond = tf.math.logical_and(cond[:,0], cond[:,1])\n",
    "    return x[cond,:]"
   ]
  },
  {
   "cell_type": "code",
   "execution_count": 6,
   "metadata": {},
   "outputs": [],
   "source": [
    "def generate_data(N=10000, rejector=lambda x:x):\n",
    "    K = 10\n",
    "    np.random.seed(3)\n",
    "    mu = np.random.randn(K*2).reshape([K,2])*2\n",
    "    N0 = N\n",
    "    while True:\n",
    "        component = np.random.choice(np.arange(K), size=N)\n",
    "        x = 0.2*np.random.randn(2*N).reshape([N,2]) + mu[component]\n",
    "        x = rejector(x)\n",
    "        if x.shape[0]>=N0:\n",
    "            return x[:N0]\n",
    "        else:\n",
    "            N *= 2"
   ]
  },
  {
   "cell_type": "markdown",
   "metadata": {},
   "source": [
    "## MC estimator of likelihood"
   ]
  },
  {
   "cell_type": "code",
   "execution_count": 7,
   "metadata": {},
   "outputs": [],
   "source": [
    "def ELBO(y, theta, phi, config):\n",
    "\n",
    "    m = phi['m']\n",
    "    cholS = phi['colS']\n",
    "    x_i = theta['x_i']\n",
    "    beta = theta['beta']\n",
    "    alpha = theta['alpha']\n",
    "    sp_alpha = tf.math.softplus( alpha )\n",
    "    x_sampler = config['x_sampler']\n",
    "    area = config['area']\n",
    "    \n",
    "    N = y.shape[0]\n",
    "    M = m.shape[0]\n",
    "    \n",
    "    def K(x1,x2):\n",
    "        n1 = x1.shape[0]\n",
    "        n2 = x2.shape[0]\n",
    "        x1 = tf.reshape(x1, [n1, 1, 2])\n",
    "        x2 = tf.reshape(x2, [1 ,n2, 2])\n",
    "        return tf.exp(beta - tf.reduce_sum((x1-x2)**2, axis=2) / sp_alpha)\n",
    "    \n",
    "    K_ii = K(x_i, x_i) + 1e-2 * tf.eye(M, dtype=tf.float64)\n",
    "    CholK_ii = tf.linalg.cholesky(K_ii)\n",
    "    inv_CholK_ii = tf.linalg.inv(CholK_ii)\n",
    "    inv_K_ii = tf.transpose(inv_CholK_ii)@inv_CholK_ii\n",
    "    \n",
    "    p_u = tfp.distributions.MultivariateNormalTriL(loc=0, scale_tril=CholK_ii)\n",
    "    q_u = tfp.distributions.MultivariateNormalTriL(loc=m, scale_tril=cholS)\n",
    "    u = q_u.sample(N)\n",
    "    \n",
    "    def sample_f(x_n):\n",
    "        K_ni = K(x_n, x_i)\n",
    "        K_in = tf.transpose(K_ni)\n",
    "        f_n_mean = tf.linalg.einsum('ni,ij,nj->n', K_ni, inv_K_ii, u)\n",
    "        f_n_var  = tf.vectorized_map(lambda x:K(x,x), tf.expand_dims(y, axis=1))\n",
    "        f_n_var = tf.reshape(f_n_var, [N])\n",
    "        f_n_var = f_n_var - tf.linalg.einsum('ni,ij,jn->n', K_ni, inv_K_ii, K_in)\n",
    "        p_f_n = tfp.distributions.Normal(loc=f_n_mean, scale=f_n_var)\n",
    "        f_n = p_f_n.sample()\n",
    "        return f_n\n",
    "    \n",
    "    x_t = x_sampler(N)\n",
    "    f_t = sample_f(x_t)\n",
    "    f_n = sample_f(y)\n",
    "    \n",
    "    elbo = tf.reduce_sum(f_n)\\\n",
    "            - area * tf.reduce_mean(tf.math.exp(f_t))\\\n",
    "            - tfp.distributions.kl_divergence(q_u, p_u)\n",
    "    return elbo"
   ]
  },
  {
   "cell_type": "code",
   "execution_count": 8,
   "metadata": {},
   "outputs": [],
   "source": [
    "N = 400\n",
    "x = generate_data(N, rejector)"
   ]
  },
  {
   "cell_type": "code",
   "execution_count": 9,
   "metadata": {},
   "outputs": [],
   "source": [
    "x_sampler = lambda n: np.random.uniform(low=-4,high=4, size=n*2).reshape([n,2])\n",
    "D = 30\n",
    "phi = {\n",
    "    'm': tf.Variable(np.zeros([D])),\n",
    "    'colS': tf.Variable(np.eye(D, dtype=np.float64))\n",
    "}\n",
    "theta = {\n",
    "    'x_i': tf.Variable(x_sampler(D)),\n",
    "    'alpha': tf.Variable(1., dtype=tf.float64),\n",
    "    'beta': tf.Variable(-1., dtype=tf.float64),\n",
    "}\n",
    "config = {\n",
    "    'x_sampler': x_sampler,\n",
    "    'area': 8*8\n",
    "}"
   ]
  },
  {
   "cell_type": "code",
   "execution_count": 10,
   "metadata": {},
   "outputs": [],
   "source": [
    "def apply_grad(param, dparam, learning_rate):\n",
    "    for p, dp in zip(param.values(), dparam.values()):\n",
    "        p.assign_add(learning_rate * dp)"
   ]
  },
  {
   "cell_type": "code",
   "execution_count": 11,
   "metadata": {},
   "outputs": [
    {
     "data": {
      "text/plain": [
       "<matplotlib.collections.PathCollection at 0x7f96d841ea90>"
      ]
     },
     "execution_count": 11,
     "metadata": {},
     "output_type": "execute_result"
    },
    {
     "data": {
      "image/png": "[encoded data removed]",
      "text/plain": [
       "<Figure size 432x288 with 1 Axes>"
      ]
     },
     "metadata": {
      "needs_background": "light"
     },
     "output_type": "display_data"
    }
   ],
   "source": [
    "plt.scatter(theta['x_i'][:,0], theta['x_i'][:,1])"
   ]
  },
  {
   "cell_type": "code",
   "execution_count": 12,
   "metadata": {},
   "outputs": [
    {
     "name": "stdout",
     "output_type": "stream",
     "text": [
      "#iter: 0\t-240.42379195493214\n",
      "#iter: 20\t263.75825714663097\n",
      "#iter: 40\t236.02223764810674\n",
      "#iter: 60\t569.4067634855572\n",
      "#iter: 80\t640.292553210111\n",
      "#iter: 100\t787.5420929305968\n",
      "#iter: 120\t-141.69297863605783\n",
      "#iter: 140\t730.9263061710043\n",
      "#iter: 160\t949.4364095037905\n",
      "#iter: 180\t785.9448805010909\n",
      "#iter: 200\t882.0471718810215\n",
      "#iter: 220\t876.2047490108937\n",
      "#iter: 240\t874.4883461826348\n",
      "#iter: 260\t968.2832621134236\n",
      "#iter: 280\t960.0846196587813\n",
      "#iter: 300\t868.1579670952337\n",
      "#iter: 320\t1093.227450131745\n",
      "#iter: 340\t1022.2567527027842\n",
      "#iter: 360\t1007.0997902933846\n",
      "#iter: 380\t1052.7945853484066\n",
      "#iter: 400\t1044.333603750722\n",
      "#iter: 420\t990.2545184223941\n",
      "#iter: 440\t991.299923165404\n",
      "#iter: 460\t994.9292162421735\n",
      "#iter: 480\t958.8775867142472\n",
      "#iter: 500\t916.9981382156101\n",
      "#iter: 520\t991.5754924115221\n",
      "#iter: 540\t1050.4454117794157\n",
      "#iter: 560\t1009.9507482136103\n",
      "#iter: 580\t975.0549428612211\n",
      "#iter: 600\t1092.8709132978202\n",
      "#iter: 620\t941.309347964799\n",
      "#iter: 640\t944.1561803075577\n",
      "#iter: 660\t1004.7405094190433\n",
      "#iter: 680\t944.5940488518165\n",
      "#iter: 700\t1005.4604033492752\n",
      "#iter: 720\t450.7820986615284\n",
      "#iter: 740\t474.2046130950448\n",
      "#iter: 760\t514.9515252002593\n",
      "#iter: 780\t536.592169304922\n",
      "#iter: 800\t601.2070518817626\n",
      "#iter: 820\t625.9433077829262\n",
      "#iter: 840\t848.3894007533411\n",
      "#iter: 860\t912.6260387675763\n",
      "#iter: 880\t988.3357729900121\n",
      "#iter: 900\t1003.8409644484502\n",
      "#iter: 920\t913.4746351914807\n",
      "#iter: 940\t969.697282998436\n",
      "#iter: 960\t1027.672892494237\n",
      "#iter: 980\t999.8075443237663\n"
     ]
    }
   ],
   "source": [
    "for i in range(1000):\n",
    "    \n",
    "    with tf.GradientTape() as g:\n",
    "        g.watch([theta, phi])\n",
    "        elbo = ELBO(x, theta, phi, config)\n",
    "    dtheta, dphi = g.gradient(elbo, [theta, phi])\n",
    "    \n",
    "    apply_grad(theta, dtheta, 0.1/N)\n",
    "    apply_grad(phi, dphi, 0.2/N)\n",
    "    \n",
    "    if i%20==0:\n",
    "        print('#iter: {}\\t{}'.format(i,elbo.numpy()))"
   ]
  },
  {
   "cell_type": "code",
   "execution_count": 13,
   "metadata": {},
   "outputs": [
    {
     "data": {
      "text/plain": [
       "<matplotlib.collections.PathCollection at 0x7f96b84bb358>"
      ]
     },
     "execution_count": 13,
     "metadata": {},
     "output_type": "execute_result"
    },
    {
     "data": {
      "image/png": "[encoded data removed]",
      "text/plain": [
       "<Figure size 432x288 with 1 Axes>"
      ]
     },
     "metadata": {
      "needs_background": "light"
     },
     "output_type": "display_data"
    }
   ],
   "source": [
    "plt.scatter(theta['x_i'][:,0], theta['x_i'][:,1])"
   ]
  },
  {
   "cell_type": "code",
   "execution_count": 14,
   "metadata": {},
   "outputs": [],
   "source": [
    "def intensity(y, theta, phi, config):\n",
    "\n",
    "    m = phi['m']\n",
    "    cholS = phi['colS']\n",
    "    x_i = theta['x_i']\n",
    "    beta = theta['beta']\n",
    "    alpha = theta['alpha']\n",
    "    sp_alpha = tf.math.softplus( alpha )\n",
    "    x_sampler = config['x_sampler']\n",
    "    area = config['area']\n",
    "    \n",
    "    N = y.shape[0]\n",
    "    M = m.shape[0]\n",
    "    \n",
    "    def K(x1,x2):\n",
    "        n1 = x1.shape[0]\n",
    "        n2 = x2.shape[0]\n",
    "        x1 = tf.reshape(x1, [n1, 1, 2])\n",
    "        x2 = tf.reshape(x2, [1 ,n2, 2])\n",
    "        return tf.exp(beta - tf.reduce_sum((x1-x2)**2 / sp_alpha, axis=2))\n",
    "    \n",
    "    K_ii = K(x_i, x_i)\n",
    "    CholK_ii = tf.linalg.cholesky(K_ii)\n",
    "    inv_CholK_ii = tf.linalg.inv(CholK_ii)\n",
    "    inv_K_ii = tf.transpose(inv_CholK_ii)@inv_CholK_ii\n",
    "    \n",
    "    p_u = tfp.distributions.MultivariateNormalTriL(loc=0, scale_tril=CholK_ii)\n",
    "    q_u = tfp.distributions.MultivariateNormalTriL(loc=m, scale_tril=cholS)\n",
    "    u = q_u.sample(N)\n",
    "    \n",
    "    def sample_f(x_n):\n",
    "        K_ni = K(x_n, x_i)\n",
    "        K_in = tf.transpose(K_ni)\n",
    "        f_n_mean = tf.linalg.einsum('ni,ij,nj->n', K_ni, inv_K_ii, u)\n",
    "        f_n_var  = tf.vectorized_map(lambda x:K(x,x), tf.expand_dims(y, axis=1))\n",
    "        f_n_var = tf.reshape(f_n_var, [N])\n",
    "        f_n_var = f_n_var - tf.linalg.einsum('ni,ij,jn->n', K_ni, inv_K_ii, K_in)\n",
    "        p_f_n = tfp.distributions.Normal(loc=f_n_mean, scale=f_n_var)\n",
    "        f_n = p_f_n.sample()\n",
    "        return f_n\n",
    "    \n",
    "    x_t = x_sampler(N)\n",
    "    f_t = sample_f(x_t)\n",
    "    \n",
    "    K_ni = K(y, x_i)\n",
    "    K_in = tf.transpose(K_ni)\n",
    "    f_n_mean = tf.linalg.einsum('ni,ij,j->n', K_ni, inv_K_ii, m)\n",
    "    \n",
    "    intensity = tf.exp(f_n_mean)\n",
    "    return intensity"
   ]
  },
  {
   "cell_type": "code",
   "execution_count": 15,
   "metadata": {},
   "outputs": [],
   "source": [
    "x1_heat = (np.linspace(start=-4,stop=4).reshape([1,50])*np.ones([50,1])).reshape([2500])\n",
    "x2_heat = np.repeat(np.linspace(start=-4,stop=4), 50)\n",
    "x_heat = np.array([x1_heat, x2_heat]).T\n",
    "mean_intensity = intensity(x_heat, theta, phi, config).numpy()"
   ]
  },
  {
   "cell_type": "code",
   "execution_count": 16,
   "metadata": {},
   "outputs": [],
   "source": [
    "def heatmap2d(arr: np.ndarray):\n",
    "    plt.imshow(arr, cmap='Blues', extent=[-4,4,-4,4],origin='lower')#'viridis')\n",
    "    plt.colorbar()\n",
    "    plt.show()"
   ]
  },
  {
   "cell_type": "code",
   "execution_count": 28,
   "metadata": {},
   "outputs": [
    {
     "data": {
      "image/png": "[encoded data removed]",
      "text/plain": [
       "<Figure size 432x288 with 2 Axes>"
      ]
     },
     "metadata": {
      "needs_background": "light"
     },
     "output_type": "display_data"
    }
   ],
   "source": [
    "plt.scatter(theta['x_i'][:,0], theta['x_i'][:,1], alpha=0.5, marker='x', c=\"C1\")\n",
    "plt.scatter(x[:,0], x[:,1], alpha=0.1, marker='x', c='C0')\n",
    "heatmap2d(mean_intensity.reshape([50,50]))"
   ]
  },
  {
   "cell_type": "code",
   "execution_count": 18,
   "metadata": {},
   "outputs": [
    {
     "data": {
      "text/plain": [
       "89.4698693729064"
      ]
     },
     "execution_count": 18,
     "metadata": {},
     "output_type": "execute_result"
    }
   ],
   "source": [
    "mean_intensity.mean()*16"
   ]
  }
 ],
 "metadata": {
  "kernelspec": {
   "display_name": "Python 3",
   "language": "python",
   "name": "python3"
  },
  "language_info": {
   "codemirror_mode": {
    "name": "ipython",
    "version": 3
   },
   "file_extension": ".py",
   "mimetype": "text/x-python",
   "name": "python",
   "nbconvert_exporter": "python",
   "pygments_lexer": "ipython3",
   "version": "3.6.9"
  }
 },
 "nbformat": 4,
 "nbformat_minor": 4
}
