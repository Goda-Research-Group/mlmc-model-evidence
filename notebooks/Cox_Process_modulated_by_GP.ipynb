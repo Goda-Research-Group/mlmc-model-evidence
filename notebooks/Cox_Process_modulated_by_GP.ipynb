{
 "cells": [
  {
   "cell_type": "markdown",
   "metadata": {},
   "source": [
    "## Model\n",
    "Cox Prosess model with latent GP intensity function is defined as:"
   ]
  },
  {
   "cell_type": "markdown",
   "metadata": {},
   "source": [
    "&nbsp;&nbsp;&nbsp;&nbsp;&nbsp;\n",
    "$f \\sim\\mathcal{GP}(K)$\n",
    "<br>&nbsp;&nbsp;&nbsp;&nbsp;&nbsp;\n",
    "$Y_{1:N} \\sim Cox\\left(\\lambda(x) = \\exp(f(x))\\right)$,\n",
    "\n",
    "where $K(x_1,x_2) = \\exp\\left(\\beta - \\mathrm{softplus}({\\alpha}) \\sum_{d=1,2}(x_{1d} - x_{2d})^2\\right)$, for $\\theta=(\\beta, \\alpha)$."
   ]
  },
  {
   "cell_type": "markdown",
   "metadata": {},
   "source": [
    "## Import"
   ]
  },
  {
   "cell_type": "code",
   "execution_count": 1,
   "metadata": {},
   "outputs": [],
   "source": [
    "# Turn GPUs off\n",
    "import os\n",
    "os.environ[\"CUDA_VISIBLE_DEVICES\"] = \"-1\""
   ]
  },
  {
   "cell_type": "code",
   "execution_count": 2,
   "metadata": {},
   "outputs": [],
   "source": [
    "import tensorflow as tf\n",
    "import tensorflow_probability as tfp\n",
    "import numpy as np\n",
    "import pandas as pd\n",
    "from scipy.stats import bernoulli, norm, expon\n",
    "from matplotlib import pyplot as plt\n",
    "import time\n",
    "np.random.seed(0)"
   ]
  },
  {
   "cell_type": "code",
   "execution_count": 3,
   "metadata": {},
   "outputs": [
    {
     "name": "stdout",
     "output_type": "stream",
     "text": [
      "WARNING:tensorflow:From <ipython-input-3-17bb7203622b>:1: is_gpu_available (from tensorflow.python.framework.test_util) is deprecated and will be removed in a future version.\n",
      "Instructions for updating:\n",
      "Use `tf.config.list_physical_devices('GPU')` instead.\n"
     ]
    },
    {
     "data": {
      "text/plain": [
       "False"
      ]
     },
     "execution_count": 3,
     "metadata": {},
     "output_type": "execute_result"
    }
   ],
   "source": [
    "tf.test.is_gpu_available()"
   ]
  },
  {
   "cell_type": "markdown",
   "metadata": {},
   "source": [
    "## Utilities"
   ]
  },
  {
   "cell_type": "code",
   "execution_count": 4,
   "metadata": {},
   "outputs": [],
   "source": [
    "sigmoid = lambda x: 1/(1+np.exp(-x))\n",
    "softplus = lambda x: np.log(1+np.exp(x))\n",
    "as_tf_float = lambda x: tf.cast(x, tf.float64)\n",
    "\n",
    "def tf_logsumexp(ary, axis=1, keepdims=False):\n",
    "    return tf.math.reduce_logsumexp(ary, axis=axis, keepdims=keepdims)\n",
    "\n",
    "def tf_logmeanexp(ary, axis=1, keepdims=False):\n",
    "    return tf.math.reduce_logsumexp(ary, axis=axis, keepdims=keepdims) \\\n",
    "        - tf.math.log(as_tf_float(ary.shape[axis]))\n",
    "\n",
    "def tf_reduce_and(ary, axis=1, keepdims=False):\n",
    "    return tf.logical_not(tf.reduce_any(tf.logical_not(ary), axis=axis, keepdims=keepdims))\n",
    "    \n",
    "def timestamp():\n",
    "    now = datetime.datetime.now()\n",
    "    return now.strftime(\"%Y%m%d%H%M%S\")  "
   ]
  },
  {
   "cell_type": "markdown",
   "metadata": {},
   "source": [
    "## Data"
   ]
  },
  {
   "cell_type": "code",
   "execution_count": 5,
   "metadata": {},
   "outputs": [],
   "source": [
    "def rejector(x):\n",
    "    cond = tf.math.logical_and(x>=-4, x<=+4)\n",
    "    cond = tf.math.logical_and(cond[:,0], cond[:,1])\n",
    "    return x[cond,:]"
   ]
  },
  {
   "cell_type": "code",
   "execution_count": 6,
   "metadata": {},
   "outputs": [],
   "source": [
    "def generate_data(N=10000, rejector=lambda x:x):\n",
    "    K = 10\n",
    "    np.random.seed(3)\n",
    "    mu = np.random.randn(K*2).reshape([K,2])*2\n",
    "    N0 = N\n",
    "    while True:\n",
    "        component = np.random.choice(np.arange(K), size=N)\n",
    "        x = 0.2*np.random.randn(2*N).reshape([N,2]) + mu[component]\n",
    "        x = rejector(x)\n",
    "        if x.shape[0]>=N0:\n",
    "            return x[:N0]\n",
    "        else:\n",
    "            N *= 2"
   ]
  },
  {
   "cell_type": "markdown",
   "metadata": {},
   "source": [
    "## MC estimator of Lower Bound\n",
    "\\begin{align}\n",
    "\\log p(y)\n",
    "&\\geq \\log p(y) - \\mathrm{KL}[q(f_0)||p(f_0|y)] \\\\\n",
    "&= \\mathrm{E}_{q(f_0)}\\log p(y|f_0) - \\mathrm{KL}[q(f_0)||p(f_0)] \\\\\n",
    "&\\geq \\mathrm{E}_{q(f_0)} \\left[ \\log p(y|f_0) - \\mathrm{KL}[p(f|f_0)||p(f|f_0,y)] \\right]  - \\mathrm{KL}[q(f_0)||p(f_0)] \\\\\n",
    "&\\geq \\mathrm{E}_{q(f_0)} \\mathrm{E}_{p(f|f_0)}[\\log p(y|f)] - \\mathrm{KL}[q(f_0)||p(f_0)]\n",
    "\\end{align}"
   ]
  },
  {
   "cell_type": "code",
   "execution_count": 7,
   "metadata": {},
   "outputs": [],
   "source": [
    "def ELBO(y, theta, phi, config):\n",
    "\n",
    "    m = phi['m']\n",
    "    cholS = phi['colS']\n",
    "    x_i = theta['x_i']\n",
    "    beta = theta['beta']\n",
    "    alpha = theta['alpha']\n",
    "    sp_alpha = tf.math.softplus( alpha )\n",
    "    x_sampler = config['x_sampler']\n",
    "    area = config['area']\n",
    "    \n",
    "    N = y.shape[0]\n",
    "    M = m.shape[0]\n",
    "    \n",
    "    def K(x1,x2):\n",
    "        n1 = x1.shape[0]\n",
    "        n2 = x2.shape[0]\n",
    "        x1 = tf.reshape(x1, [n1, 1, 2])\n",
    "        x2 = tf.reshape(x2, [1 ,n2, 2])\n",
    "        return tf.exp(beta - tf.reduce_sum((x1-x2)**2, axis=2) * sp_alpha)\n",
    "    \n",
    "    K_ii = K(x_i, x_i) + 1e-2 * tf.eye(M, dtype=tf.float64)\n",
    "    CholK_ii = tf.linalg.cholesky(K_ii)\n",
    "    inv_CholK_ii = tf.linalg.inv(CholK_ii)\n",
    "    inv_K_ii = tf.transpose(inv_CholK_ii)@inv_CholK_ii\n",
    "    \n",
    "    p_u = tfp.distributions.MultivariateNormalTriL(loc=0, scale_tril=CholK_ii)\n",
    "    q_u = tfp.distributions.MultivariateNormalTriL(loc=m, scale_tril=cholS)\n",
    "    u = q_u.sample(N)\n",
    "    \n",
    "    def sample_f(x_n):\n",
    "        K_ni = K(x_n, x_i)\n",
    "        K_in = tf.transpose(K_ni)\n",
    "        f_n_mean = tf.linalg.einsum('ni,ij,nj->n', K_ni, inv_K_ii, u)\n",
    "        f_n_var  = tf.vectorized_map(lambda x:K(x,x), tf.expand_dims(y, axis=1))\n",
    "        f_n_var = tf.reshape(f_n_var, [N])\n",
    "        f_n_var = f_n_var - tf.linalg.einsum('ni,ij,jn->n', K_ni, inv_K_ii, K_in)\n",
    "        p_f_n = tfp.distributions.Normal(loc=f_n_mean, scale=f_n_var)\n",
    "        f_n = p_f_n.sample()\n",
    "        return f_n\n",
    "    \n",
    "    x_t = x_sampler(N)\n",
    "    f_t = sample_f(x_t)\n",
    "    f_n = sample_f(y)\n",
    "    \n",
    "    elbo = tf.reduce_sum(f_n)\\\n",
    "            - area * tf.reduce_mean(tf.math.exp(f_t))\\\n",
    "            - tfp.distributions.kl_divergence(q_u, p_u)\n",
    "    return elbo"
   ]
  },
  {
   "cell_type": "code",
   "execution_count": 8,
   "metadata": {},
   "outputs": [],
   "source": [
    "N = 400\n",
    "x = generate_data(N, rejector)"
   ]
  },
  {
   "cell_type": "code",
   "execution_count": 9,
   "metadata": {},
   "outputs": [],
   "source": [
    "x_sampler = lambda n: np.random.uniform(low=-4,high=4, size=n*2).reshape([n,2])\n",
    "D = 30\n",
    "phi = {\n",
    "    'm': tf.Variable(np.zeros([D])),\n",
    "    'colS': tf.Variable(np.eye(D, dtype=np.float64))\n",
    "}\n",
    "theta = {\n",
    "    'x_i': tf.Variable(x_sampler(D)),\n",
    "    'alpha': tf.Variable(1., dtype=tf.float64),\n",
    "    'beta': tf.Variable(-1., dtype=tf.float64),\n",
    "}\n",
    "config = {\n",
    "    'x_sampler': x_sampler,\n",
    "    'area': 8*8\n",
    "}"
   ]
  },
  {
   "cell_type": "code",
   "execution_count": 11,
   "metadata": {},
   "outputs": [
    {
     "data": {
      "text/plain": [
       "<matplotlib.collections.PathCollection at 0x7fd6506a0ac8>"
      ]
     },
     "execution_count": 11,
     "metadata": {},
     "output_type": "execute_result"
    },
    {
     "data": {
      "image/png": "[encoded data removed]",
      "text/plain": [
       "<Figure size 432x288 with 1 Axes>"
      ]
     },
     "metadata": {
      "needs_background": "light"
     },
     "output_type": "display_data"
    }
   ],
   "source": [
    "plt.scatter(theta['x_i'][:,0], theta['x_i'][:,1])"
   ]
  },
  {
   "cell_type": "code",
   "execution_count": 10,
   "metadata": {},
   "outputs": [],
   "source": [
    "def apply_grad(param, dparam, learning_rate):\n",
    "    for p, dp in zip(param.values(), dparam.values()):\n",
    "        p.assign_add(learning_rate * dp)"
   ]
  },
  {
   "cell_type": "code",
   "execution_count": 12,
   "metadata": {},
   "outputs": [
    {
     "name": "stdout",
     "output_type": "stream",
     "text": [
      "#iter: 0\t-129.48086058156525\n",
      "#iter: 20\t-45.87322011020093\n",
      "#iter: 40\t87.72647041844999\n",
      "#iter: 60\t280.40214223839405\n",
      "#iter: 80\t376.22207873864494\n",
      "#iter: 100\t594.3012911042596\n",
      "#iter: 120\t461.98808787582817\n",
      "#iter: 140\t584.4104748329618\n",
      "#iter: 160\t482.661054142447\n",
      "#iter: 180\t252.2861944961546\n",
      "#iter: 200\t693.7400037119039\n",
      "#iter: 220\t564.0935080513949\n",
      "#iter: 240\t747.9324610451707\n",
      "#iter: 260\t764.5872009057982\n",
      "#iter: 280\t709.7938615467466\n",
      "#iter: 300\t694.2059810095355\n",
      "#iter: 320\t837.9822506528253\n",
      "#iter: 340\t778.1885991970096\n",
      "#iter: 360\t877.9926097776124\n",
      "#iter: 380\t947.3433979858689\n",
      "#iter: 400\t930.221725982628\n",
      "#iter: 420\t818.4436286463705\n",
      "#iter: 440\t934.8030527369813\n",
      "#iter: 460\t901.4326993735283\n",
      "#iter: 480\t919.3965690914484\n",
      "#iter: 500\t873.8172114177623\n",
      "#iter: 520\t954.2922968560074\n",
      "#iter: 540\t960.1682797651606\n",
      "#iter: 560\t1013.2937464566959\n",
      "#iter: 580\t888.3067014676398\n",
      "#iter: 600\t994.1174758535628\n",
      "#iter: 620\t921.0874875994836\n",
      "#iter: 640\t918.4879110761008\n",
      "#iter: 660\t974.9227285868562\n",
      "#iter: 680\t921.572816412933\n",
      "#iter: 700\t980.7722730578969\n",
      "#iter: 720\t1010.9553829222731\n",
      "#iter: 740\t971.046727860125\n",
      "#iter: 760\t1076.6935921864454\n",
      "#iter: 780\t996.4013056461906\n",
      "#iter: 800\t982.3716823090573\n",
      "#iter: 820\t883.9272127170129\n",
      "#iter: 840\t1072.6824202608136\n",
      "#iter: 860\t976.0370112460241\n",
      "#iter: 880\t1044.342170327594\n",
      "#iter: 900\t1013.7428563659121\n",
      "#iter: 920\t900.2178506670891\n",
      "#iter: 940\t942.3079783802588\n",
      "#iter: 960\t1015.5710929430078\n",
      "#iter: 980\t959.9561579651951\n"
     ]
    }
   ],
   "source": [
    "for i in range(1000):\n",
    "    \n",
    "    with tf.GradientTape() as g:\n",
    "        g.watch([theta, phi])\n",
    "        elbo = ELBO(x, theta, phi, config)\n",
    "    dtheta, dphi = g.gradient(elbo, [theta, phi])\n",
    "    \n",
    "    apply_grad(theta, dtheta, 0.05/N)\n",
    "    apply_grad(phi, dphi, 0.1/N)\n",
    "    \n",
    "    if i%20==0:\n",
    "        print('#iter: {}\\t{}'.format(i,elbo.numpy()))"
   ]
  },
  {
   "cell_type": "code",
   "execution_count": 13,
   "metadata": {},
   "outputs": [
    {
     "data": {
      "text/plain": [
       "<matplotlib.collections.PathCollection at 0x7fd6445fdd68>"
      ]
     },
     "execution_count": 13,
     "metadata": {},
     "output_type": "execute_result"
    },
    {
     "data": {
      "image/png": "[encoded data removed]",
      "text/plain": [
       "<Figure size 432x288 with 1 Axes>"
      ]
     },
     "metadata": {
      "needs_background": "light"
     },
     "output_type": "display_data"
    }
   ],
   "source": [
    "plt.scatter(theta['x_i'][:,0], theta['x_i'][:,1])"
   ]
  },
  {
   "cell_type": "code",
   "execution_count": 14,
   "metadata": {},
   "outputs": [],
   "source": [
    "def intensity(y, theta, phi, config):\n",
    "\n",
    "    m = phi['m']\n",
    "    cholS = phi['colS']\n",
    "    x_i = theta['x_i']\n",
    "    beta = theta['beta']\n",
    "    alpha = theta['alpha']\n",
    "    sp_alpha = tf.math.softplus( alpha )\n",
    "    x_sampler = config['x_sampler']\n",
    "    area = config['area']\n",
    "    \n",
    "    N = y.shape[0]\n",
    "    M = m.shape[0]\n",
    "    \n",
    "    def K(x1,x2):\n",
    "        n1 = x1.shape[0]\n",
    "        n2 = x2.shape[0]\n",
    "        x1 = tf.reshape(x1, [n1, 1, 2])\n",
    "        x2 = tf.reshape(x2, [1 ,n2, 2])\n",
    "        return tf.exp(beta - tf.reduce_sum((x1-x2)**2 / sp_alpha, axis=2))\n",
    "    \n",
    "    K_ii = K(x_i, x_i)\n",
    "    CholK_ii = tf.linalg.cholesky(K_ii)\n",
    "    inv_CholK_ii = tf.linalg.inv(CholK_ii)\n",
    "    inv_K_ii = tf.transpose(inv_CholK_ii)@inv_CholK_ii\n",
    "    \n",
    "    p_u = tfp.distributions.MultivariateNormalTriL(loc=0, scale_tril=CholK_ii)\n",
    "    q_u = tfp.distributions.MultivariateNormalTriL(loc=m, scale_tril=cholS)\n",
    "    u = q_u.sample(N)\n",
    "    \n",
    "    def sample_f(x_n):\n",
    "        K_ni = K(x_n, x_i)\n",
    "        K_in = tf.transpose(K_ni)\n",
    "        f_n_mean = tf.linalg.einsum('ni,ij,nj->n', K_ni, inv_K_ii, u)\n",
    "        f_n_var  = tf.vectorized_map(lambda x:K(x,x), tf.expand_dims(y, axis=1))\n",
    "        f_n_var = tf.reshape(f_n_var, [N])\n",
    "        f_n_var = f_n_var - tf.linalg.einsum('ni,ij,jn->n', K_ni, inv_K_ii, K_in)\n",
    "        p_f_n = tfp.distributions.Normal(loc=f_n_mean, scale=f_n_var)\n",
    "        f_n = p_f_n.sample()\n",
    "        return f_n\n",
    "    \n",
    "    x_t = x_sampler(N)\n",
    "    f_t = sample_f(x_t)\n",
    "    \n",
    "    K_ni = K(y, x_i)\n",
    "    K_in = tf.transpose(K_ni)\n",
    "    f_n_mean = tf.linalg.einsum('ni,ij,j->n', K_ni, inv_K_ii, m)\n",
    "    \n",
    "    intensity = tf.exp(f_n_mean)\n",
    "    return intensity"
   ]
  },
  {
   "cell_type": "code",
   "execution_count": 15,
   "metadata": {},
   "outputs": [],
   "source": [
    "x1_heat = (np.linspace(start=-4,stop=4).reshape([1,50])*np.ones([50,1])).reshape([2500])\n",
    "x2_heat = np.repeat(np.linspace(start=-4,stop=4), 50)\n",
    "x_heat = np.array([x1_heat, x2_heat]).T\n",
    "mean_intensity = intensity(x_heat, theta, phi, config).numpy()"
   ]
  },
  {
   "cell_type": "code",
   "execution_count": 16,
   "metadata": {},
   "outputs": [],
   "source": [
    "def heatmap2d(arr: np.ndarray):\n",
    "    plt.imshow(arr, cmap='Blues', extent=[-4,4,-4,4],origin='lower')#'viridis')\n",
    "    plt.colorbar()\n",
    "    plt.show()"
   ]
  },
  {
   "cell_type": "code",
   "execution_count": 42,
   "metadata": {},
   "outputs": [
    {
     "data": {
      "image/png": "[encoded data removed]",
      "text/plain": [
       "<Figure size 720x288 with 3 Axes>"
      ]
     },
     "metadata": {
      "needs_background": "light"
     },
     "output_type": "display_data"
    }
   ],
   "source": [
    "plt.figure(figsize=[10,4])\n",
    "\n",
    "plt.subplot(1,2,1)\n",
    "plt.scatter(theta['x_i'][:,0], theta['x_i'][:,1], alpha=0.5, marker='x', c=\"C1\")\n",
    "plt.scatter(x[:,0], x[:,1], alpha=0.1, marker='x', c='C0')\n",
    "plt.xlim([-4,4])\n",
    "plt.ylim([-4,4])\n",
    "ax = plt.gca()\n",
    "ax.set_aspect('equal')\n",
    "\n",
    "plt.subplot(1,2,2)\n",
    "plt.scatter(theta['x_i'][:,0], theta['x_i'][:,1], alpha=0.5, marker='x', c=\"C1\")\n",
    "heatmap2d(mean_intensity.reshape([50,50]))"
   ]
  },
  {
   "cell_type": "code",
   "execution_count": 28,
   "metadata": {},
   "outputs": [
    {
     "data": {
      "text/plain": [
       "70.56880832365819"
      ]
     },
     "execution_count": 28,
     "metadata": {},
     "output_type": "execute_result"
    }
   ],
   "source": [
    "mean_intensity.mean()*16"
   ]
  },
  {
   "cell_type": "code",
   "execution_count": 44,
   "metadata": {},
   "outputs": [
    {
     "data": {
      "text/plain": [
       "(<tf.Variable 'Variable:0' shape=() dtype=float64, numpy=0.29252223593957005>,\n",
       " <tf.Variable 'Variable:0' shape=() dtype=float64, numpy=0.3883159769223331>)"
      ]
     },
     "execution_count": 44,
     "metadata": {},
     "output_type": "execute_result"
    }
   ],
   "source": [
    "theta['beta'], theta['alpha']"
   ]
  }
 ],
 "metadata": {
  "kernelspec": {
   "display_name": "Python 3",
   "language": "python",
   "name": "python3"
  },
  "language_info": {
   "codemirror_mode": {
    "name": "ipython",
    "version": 3
   },
   "file_extension": ".py",
   "mimetype": "text/x-python",
   "name": "python",
   "nbconvert_exporter": "python",
   "pygments_lexer": "ipython3",
   "version": "3.6.9"
  }
 },
 "nbformat": 4,
 "nbformat_minor": 4
}
