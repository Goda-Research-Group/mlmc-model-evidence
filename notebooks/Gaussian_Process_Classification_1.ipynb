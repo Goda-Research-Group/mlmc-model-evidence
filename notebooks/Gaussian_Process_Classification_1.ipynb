{
 "cells": [
  {
   "cell_type": "markdown",
   "metadata": {},
   "source": [
    "# Sparse GP Classification (On Toy dataset)"
   ]
  },
  {
   "cell_type": "markdown",
   "metadata": {},
   "source": [
    "## Model Description"
   ]
  },
  {
   "cell_type": "markdown",
   "metadata": {},
   "source": [
    "&nbsp;&nbsp;&nbsp;&nbsp;&nbsp;\n",
    "$f \\sim\\mathcal{GP}_{\\text{FITC}}(K, z_{1:M})$\n",
    "<br>&nbsp;&nbsp;&nbsp;&nbsp;&nbsp;\n",
    "$Y_n \\sim \\mathrm{Bernoulli}(\\sigma(f))$,\n",
    "\n",
    "where $K(x_1,x_2) = \\exp\\left(\\beta - \\sum_{d=1,2}\\mathrm{softplus}({\\alpha_d})\\cdot(x_{1d} - x_{2d})^2\\right)$.\n",
    "<br>\n",
    "Here, latent process $f\\sim\\mathcal{GP}_{\\text{FITC}}(K, z_{1:M})$ is defined as:\n",
    "<br>&nbsp;&nbsp;&nbsp;&nbsp;&nbsp;\n",
    "$u=f_0\\small{(z_{1:M})}$ for $f_0\\sim\\mathcal{GP}(K)$\n",
    "<br>&nbsp;&nbsp;&nbsp;&nbsp;&nbsp;\n",
    "$f(x)\\sim\\mathcal{GP}(K| f\\small{(z_{1:M})}=u)$ <br>\n",
    "Additionally, conditional independence of process $f$ among any points given $u=f_0\\small{(z_{1:M})} = \\left(f_0(z_1), ..., f_0(z_M)\\right)$ is assumed. <br>\n",
    "That is, for any $n_1$ and $n_2$, $f(x_{n_1})\\perp \\!\\!\\! \\perp f(x_{n_1})|u$."
   ]
  },
  {
   "cell_type": "markdown",
   "metadata": {},
   "source": [
    "## Local Marginalization of Evidece Lower Bound\n",
    "By simplifying notation as $f_{1:N} = f(x_{1:N})$ and $u = f(z_{1:M})$, we can write evidence lower bound (ELBO) and locally margianlized likelihood (LM-ELBO)."
   ]
  },
  {
   "cell_type": "markdown",
   "metadata": {},
   "source": [
    "\\begin{align}\n",
    "\\mathrm{LM}\\text{-}\\mathrm{ELBO}\n",
    "&= \\log p(y_{1:N}) - \\mathrm{KL}\\left[\\ q(u)\\ ||\\ p(u|y_{1:N})\\ \\right] \\\\\n",
    "&= \\mathrm{E}_{u\\sim q}\\left[\\ \\log p(y_{1:N}|u)\\ \\right]\n",
    " - \\mathrm{KL}\\left[\\ q(u)\\ ||\\ p(u)\\ \\right] \\\\\n",
    "&\\geq \\mathrm{E}_{u\\sim q}\\left[\\ \\log p(y_{1:N}|u)\n",
    "- \\mathrm{KL}\\left[\\ p(f_{1:N}|u)\\ ||\\ p(f_{1:N}| y_{1:N}, u)\\ \\right]\\ \\right]\n",
    " - \\mathrm{KL}\\left[\\ q(u)\\ ||\\ p(u)\\ \\right] \\\\\n",
    "&= \\log p(y_{1:N}) - \\mathrm{KL}\\left[ p(f_{1:N}|u)q(u) || p(y_{1:N}, f_{1:N}, u) \\right]\\\\\n",
    "&= \\mathrm{E}_{u\\sim q} \\mathrm{E}_{f_{1:N}\\sim p(f_{1:N}|u)}\\left[\n",
    "\\log \\left(\\frac{p(y_{1:N}, f_{1:N}, u)}{p(f_{1:N}| u)q(u)}\\right) \n",
    "\\right] \\\\\n",
    "&= \\sum_{n=1}^N\\mathrm{E}_{u\\sim q} \\mathrm{E}_{f_n\\sim p(f_n|u)}\n",
    "\\left[ \\log p(y_n| f_n) \\right] \n",
    "- \\mathrm{KL}\\left[\\ q(u)\\ ||\\ p(u)\\ \\right] \\\\\n",
    "&= \\mathrm{ELBO}\n",
    "\\end{align}"
   ]
  },
  {
   "cell_type": "markdown",
   "metadata": {},
   "source": [
    "### Possible Datasets\n",
    "- http://archive.ics.uci.edu/ml/datasets/Adult\n",
    "- http://archive.ics.uci.edu/ml/datasets/Bar+Crawl%3A+Detecting+Heavy+Drinking\n",
    "- http://archive.ics.uci.edu/ml/datasets/Diabetes+130-US+hospitals+for+years+1999-2008\n",
    "- http://archive.ics.uci.edu/ml/datasets/Buzz+in+social+media+"
   ]
  },
  {
   "cell_type": "markdown",
   "metadata": {},
   "source": [
    "## Import Packages"
   ]
  },
  {
   "cell_type": "code",
   "execution_count": 1,
   "metadata": {},
   "outputs": [],
   "source": [
    "# Turn GPUs off\n",
    "import os\n",
    "os.environ[\"CUDA_VISIBLE_DEVICES\"] = \"-1\""
   ]
  },
  {
   "cell_type": "code",
   "execution_count": 2,
   "metadata": {},
   "outputs": [],
   "source": [
    "import tensorflow as tf\n",
    "import tensorflow_probability as tfp\n",
    "import numpy as np\n",
    "import pandas as pd\n",
    "from scipy.stats import bernoulli, norm\n",
    "import matplotlib\n",
    "from matplotlib import pyplot as plt\n",
    "import time\n",
    "import datetime\n",
    "np.random.seed(0)"
   ]
  },
  {
   "cell_type": "code",
   "execution_count": 3,
   "metadata": {},
   "outputs": [
    {
     "name": "stdout",
     "output_type": "stream",
     "text": [
      "WARNING:tensorflow:From <ipython-input-3-17bb7203622b>:1: is_gpu_available (from tensorflow.python.framework.test_util) is deprecated and will be removed in a future version.\n",
      "Instructions for updating:\n",
      "Use `tf.config.list_physical_devices('GPU')` instead.\n"
     ]
    },
    {
     "data": {
      "text/plain": [
       "False"
      ]
     },
     "execution_count": 3,
     "metadata": {},
     "output_type": "execute_result"
    }
   ],
   "source": [
    "tf.test.is_gpu_available()"
   ]
  },
  {
   "cell_type": "markdown",
   "metadata": {},
   "source": [
    "## Utilities"
   ]
  },
  {
   "cell_type": "code",
   "execution_count": 45,
   "metadata": {},
   "outputs": [],
   "source": [
    "sigmoid = lambda x: 1/(1+np.exp(-x))\n",
    "softplus = lambda x: np.log(1+np.exp(x))\n",
    "as_tf_float = lambda x: tf.cast(x, tf.float64)\n",
    "\n",
    "def tf_logsumexp(ary, axis=1, keepdims=False):\n",
    "    return tf.math.reduce_logsumexp(ary, axis=axis, keepdims=keepdims)\n",
    "\n",
    "def tf_logmeanexp(ary, axis=1, keepdims=False):\n",
    "    return tf.math.reduce_logsumexp(ary, axis=axis, keepdims=keepdims) \\\n",
    "        - tf.math.log(as_tf_float(ary.shape[axis]))\n",
    "\n",
    "def timestamp():\n",
    "    now = datetime.datetime.now()\n",
    "    return now.strftime(\"%Y%m%d%H%M%S\")  "
   ]
  },
  {
   "cell_type": "markdown",
   "metadata": {},
   "source": [
    "## Generate Toy Dataset"
   ]
  },
  {
   "cell_type": "code",
   "execution_count": 46,
   "metadata": {},
   "outputs": [],
   "source": [
    "N = 1000\n",
    "D = 10\n",
    "M = 30"
   ]
  },
  {
   "cell_type": "code",
   "execution_count": 47,
   "metadata": {},
   "outputs": [],
   "source": [
    "# Paramters\n",
    "b0 = np.float64(0.)\n",
    "b  = np.random.randn(D) / np.sqrt(D)"
   ]
  },
  {
   "cell_type": "code",
   "execution_count": 48,
   "metadata": {},
   "outputs": [],
   "source": [
    "# We assume that we have infinite amount of data.\n",
    "# Thus, generator of the data is implemented.\n",
    "def generate_data(N, D, b0, b):\n",
    "    \"\"\"\n",
    "    Genarate N samples of data from the model with parameter [beta0, beta, alpha]. \n",
    "    Returns:\n",
    "    x: 3-d array of size [N, D]\n",
    "    y: 2-d array of size [N]\n",
    "    \"\"\"\n",
    "    x = np.random.randn(N*D).reshape([N,D])\n",
    "    logit = lambda x: (b0+x@b).reshape([N])\n",
    "    y = bernoulli(p=sigmoid(logit(x))).rvs()\n",
    "    y = np.reshape(y, [N])\n",
    "    return x,y, logit"
   ]
  },
  {
   "cell_type": "code",
   "execution_count": 54,
   "metadata": {},
   "outputs": [],
   "source": [
    "def init_param(D, M):\n",
    "    theta = {\n",
    "    'z': tf.Variable(2.*np.random.randn(M*D).reshape([M,D])),\n",
    "    'alpha': tf.Variable(np.ones([D]), dtype=tf.float64),\n",
    "    'beta': tf.Variable(1., dtype=tf.float64)\n",
    "    }\n",
    "    phi = {\n",
    "        'm': tf.Variable(np.zeros([M]), dtype=tf.float64),\n",
    "        'CholS': tf.Variable(np.eye(M), dtype=tf.float64)\n",
    "    }\n",
    "    return theta, phi"
   ]
  },
  {
   "cell_type": "code",
   "execution_count": 50,
   "metadata": {},
   "outputs": [],
   "source": [
    "def get_K(alpha, beta):\n",
    "    # define Kernel\n",
    "    D = alpha.shape[0]\n",
    "    sp_alpha = tf.reshape( tf.math.softplus( alpha ), [1,1,D])\n",
    "    def K(x1,x2):\n",
    "        n1 = x1.shape[0]\n",
    "        n2 = x2.shape[0]\n",
    "        x1 = tf.reshape(x1, [n1, 1, D])\n",
    "        x2 = tf.reshape(x2, [1 ,n2, D])\n",
    "        return tf.exp(beta - tf.reduce_sum( sp_alpha*(x1-x2)**2, axis=2))\n",
    "    return K"
   ]
  },
  {
   "cell_type": "code",
   "execution_count": 10,
   "metadata": {},
   "outputs": [],
   "source": [
    "theta, phi = init_param(D,M)"
   ]
  },
  {
   "cell_type": "code",
   "execution_count": 11,
   "metadata": {},
   "outputs": [
    {
     "name": "stdout",
     "output_type": "stream",
     "text": [
      "test_likelihood: -0.5586463571561856\n"
     ]
    }
   ],
   "source": [
    "x,y,logit = generate_data(N, D, b0, b)\n",
    "\n",
    "likelihood = np.mean(y*np.log(sigmoid(logit(x))) + (1-y)*np.log(1-sigmoid(logit(x))))\n",
    "print('test_likelihood: {}'.format( likelihood ) )    "
   ]
  },
  {
   "cell_type": "markdown",
   "metadata": {},
   "source": [
    "## ELBO"
   ]
  },
  {
   "cell_type": "code",
   "execution_count": 12,
   "metadata": {},
   "outputs": [],
   "source": [
    "def ELBO(x, y, theta, phi, N_total):\n",
    "    '''\n",
    "    Inputs:\n",
    "    x: 2-d array of shape [N,D]\n",
    "    y: 1-d array of shape [N]\n",
    "    theta: disctionary of model parameters\n",
    "    phi: disctionary of variational parameters\n",
    "    \n",
    "    Returns:\n",
    "    elbo: scalar\n",
    "    '''\n",
    "    \n",
    "    z = theta['z']\n",
    "    alpha = theta['alpha']\n",
    "    beta = theta['beta']\n",
    "    K = get_K(alpha, beta)\n",
    "    \n",
    "    N = y.shape[0]\n",
    "    M = z.shape[0]\n",
    "    \n",
    "    m = phi['m']\n",
    "    CholS = phi['CholS']\n",
    "    \n",
    "    # sample u = f_0(z_1,...,z_M) from q\n",
    "    K_mm = K(z, z) + 1e-6 * tf.eye(M, dtype=tf.float64)\n",
    "    CholK_mm = tf.linalg.cholesky(K_mm)\n",
    "    \n",
    "    p_u = tfp.distributions.MultivariateNormalTriL(loc=0., scale_tril=CholK_mm)\n",
    "    q_u = tfp.distributions.MultivariateNormalTriL(loc=m, scale_tril=CholS)\n",
    "    u = q_u.sample(N)\n",
    "    \n",
    "    \n",
    "    # sample f conditionally given u = f_0(z_1,...,z_M)\n",
    "    inv_CholK_mm = tf.linalg.inv(CholK_mm)\n",
    "    inv_K_mm = tf.transpose(inv_CholK_mm)@inv_CholK_mm\n",
    "    K_nm = K(x, z)\n",
    "    K_mn = tf.transpose(K_nm)\n",
    "    \n",
    "    mean_f = tf.linalg.einsum('ni,ij,nj->n', K_nm, inv_K_mm, u)\n",
    "    var_f = tf.vectorized_map(lambda x:K(x,x), tf.expand_dims(x, axis=1))\n",
    "    var_f = tf.reshape(var_f, [N])\n",
    "    var_f = var_f - tf.linalg.einsum('ni,ij,jn->n', K_nm, inv_K_mm, K_mn)\n",
    "    \n",
    "    q_f = tfp.distributions.Normal(loc=mean_f, scale=var_f)\n",
    "    f = q_f.sample()\n",
    "\n",
    "    # compute ELBO estimate\n",
    "    p_y = tfp.distributions.Bernoulli(logits=f)\n",
    "    kl_qu_pu = tfp.distributions.kl_divergence(q_u, p_u)\n",
    "    elbo = tf.reduce_mean(p_y.log_prob(y)) - kl_qu_pu / N_total\n",
    "    return elbo"
   ]
  },
  {
   "cell_type": "code",
   "execution_count": 13,
   "metadata": {},
   "outputs": [],
   "source": [
    "def LMELBO(x, y, theta, phi, N_total, n_MC):\n",
    "    \n",
    "    z = theta['z']\n",
    "    alpha = theta['alpha']\n",
    "    beta = theta['beta']\n",
    "    K = get_K(alpha, beta)\n",
    "    \n",
    "    N = y.shape[0]\n",
    "    M = z.shape[0]\n",
    "    \n",
    "    m = phi['m']\n",
    "    CholS = phi['CholS']\n",
    "    \n",
    "    # sample u = f_0(z_1,...,z_M) from q\n",
    "    K_mm = K(z, z) + 1e-6 * tf.eye(M, dtype=tf.float64)\n",
    "    CholK_mm = tf.linalg.cholesky(K_mm)\n",
    "    \n",
    "    p_u = tfp.distributions.MultivariateNormalTriL(loc=0., scale_tril=CholK_mm)\n",
    "    q_u = tfp.distributions.MultivariateNormalTriL(loc=m, scale_tril=CholS)\n",
    "    u = q_u.sample(N)\n",
    "    \n",
    "    \n",
    "    # sample f conditionally given u = f_0(z_1,...,z_M)\n",
    "    inv_CholK_mm = tf.linalg.inv(CholK_mm)\n",
    "    inv_K_mm = tf.transpose(inv_CholK_mm)@inv_CholK_mm\n",
    "    K_nm = K(x, z)\n",
    "    K_mn = tf.transpose(K_nm)\n",
    "    \n",
    "    mean_f = tf.linalg.einsum('ni,ij,nj->n', K_nm, inv_K_mm, u)\n",
    "    var_f = tf.vectorized_map(lambda x:K(x,x), tf.expand_dims(x, axis=1))\n",
    "    var_f = tf.reshape(var_f, [N])\n",
    "    var_f = var_f - tf.linalg.einsum('ni,ij,jn->n', K_nm, inv_K_mm, K_mn)\n",
    "    \n",
    "    q_f = tfp.distributions.Normal(loc=mean_f, scale=var_f)\n",
    "    f = q_f.sample(n_MC)\n",
    "\n",
    "    # compute LMELBO estimate\n",
    "    p_y = tfp.distributions.Bernoulli(logits=f)\n",
    "    log_prob_y = tf.reduce_mean( tf_logmeanexp( p_y.log_prob(y) , axis=0) ) \n",
    "    kl_qu_pu = tfp.distributions.kl_divergence(q_u, p_u)\n",
    "    lmelbo = log_prob_y - kl_qu_pu / N_total\n",
    "    return lmelbo"
   ]
  },
  {
   "cell_type": "code",
   "execution_count": 14,
   "metadata": {},
   "outputs": [],
   "source": [
    "def pointwise_dconditional_likelihood(x, y, theta, phi, level):\n",
    "    \n",
    "    z = theta['z']\n",
    "    alpha = theta['alpha']\n",
    "    beta = theta['beta']\n",
    "    K = get_K(alpha, beta)\n",
    "    \n",
    "    N = y.shape[0]\n",
    "    M = z.shape[0]\n",
    "    \n",
    "    m = phi['m']\n",
    "    CholS = phi['CholS']\n",
    "    \n",
    "    # sample u = f_0(z_1,...,z_M) from q\n",
    "    K_mm = K(z, z) + 1e-6 * tf.eye(M, dtype=tf.float64)\n",
    "    CholK_mm = tf.linalg.cholesky(K_mm)\n",
    "    \n",
    "    p_u = tfp.distributions.MultivariateNormalTriL(loc=0., scale_tril=CholK_mm)\n",
    "    q_u = tfp.distributions.MultivariateNormalTriL(loc=m, scale_tril=CholS)\n",
    "    u = q_u.sample(N)\n",
    "    \n",
    "    # sample f conditionally given u = f_0(z_1,...,z_M)\n",
    "    inv_CholK_mm = tf.linalg.inv(CholK_mm)\n",
    "    inv_K_mm = tf.transpose(inv_CholK_mm)@inv_CholK_mm\n",
    "    K_nm = K(x, z)\n",
    "    K_mn = tf.transpose(K_nm)\n",
    "    \n",
    "    mean_f = tf.linalg.einsum('ni,ij,nj->n', K_nm, inv_K_mm, u)\n",
    "    var_f = tf.vectorized_map(lambda x:K(x,x), tf.expand_dims(x, axis=1))\n",
    "    var_f = tf.reshape(var_f, [N])\n",
    "    var_f = var_f - tf.linalg.einsum('ni,ij,jn->n', K_nm, inv_K_mm, K_mn)\n",
    "    \n",
    "    q_f = tfp.distributions.Normal(loc=mean_f, scale=var_f)\n",
    "    n_MC = 2**level\n",
    "    f = q_f.sample(n_MC)\n",
    "\n",
    "    # compute ELBO estimate\n",
    "    p_y = tfp.distributions.Bernoulli(logits=f)\n",
    "    w = p_y.log_prob(y)\n",
    "    w = tf.reshape(w, [n_MC,N])\n",
    "    if level==0:\n",
    "        return tf_logmeanexp(w, axis=0) \n",
    "    else:\n",
    "        return tf_logmeanexp(w, axis=0)\\\n",
    "                - (1/2.) * tf_logmeanexp(w[:n_MC//2 ], axis=0)\\\n",
    "                - (1/2.) * tf_logmeanexp(w[ n_MC//2:], axis=0)"
   ]
  },
  {
   "cell_type": "code",
   "execution_count": 15,
   "metadata": {},
   "outputs": [
    {
     "data": {
      "image/png": "[encoded data removed]",
      "text/plain": [
       "<Figure size 432x288 with 1 Axes>"
      ]
     },
     "metadata": {
      "needs_background": "light"
     },
     "output_type": "display_data"
    }
   ],
   "source": [
    "var_dcond_L = lambda l: pointwise_dconditional_likelihood(x, y, theta, phi, level=l).numpy().var()\n",
    "plt.plot([var_dcond_L(l) for l in range(10)])\n",
    "plt.yscale('log')"
   ]
  },
  {
   "cell_type": "code",
   "execution_count": 16,
   "metadata": {},
   "outputs": [],
   "source": [
    "def dconditional_likelihood(x, y, mean_f, var_f, level):\n",
    "    \n",
    "    N = y.shape[0]\n",
    "    # sample f_n's\n",
    "    q_f = tfp.distributions.Normal(loc=mean_f, scale=var_f)\n",
    "    n_MC = 2**level\n",
    "    f = q_f.sample(n_MC)\n",
    "    \n",
    "    # sample conditional likelihoods\n",
    "    p_y = tfp.distributions.Bernoulli(logits=f)\n",
    "    w = p_y.log_prob(y)\n",
    "    w = tf.reshape(w, [n_MC,N])\n",
    "    \n",
    "    if level==0:\n",
    "        dL = tf_logmeanexp(w, axis=0) \n",
    "    else:\n",
    "        dL = tf_logmeanexp(w, axis=0)\\\n",
    "                - (1/2.) * tf_logmeanexp(w[:n_MC//2 ], axis=0)\\\n",
    "                - (1/2.) * tf_logmeanexp(w[ n_MC//2:], axis=0)\n",
    "    return tf.reduce_mean( dL )"
   ]
  },
  {
   "cell_type": "code",
   "execution_count": 17,
   "metadata": {},
   "outputs": [],
   "source": [
    "def LMELBO_MLMC(x, y, theta, phi, N_total, max_level=8, w0=1-2.**(-3/2), b=2, randomize=False):\n",
    "    \"\"\"\n",
    "    Compute IWELBO by MLMC\n",
    "    \n",
    "    Arguments:\n",
    "    x: 3-d array of size [N, T, D]\n",
    "    y: 2-d array of size [N, T]\n",
    "    beta0: scalar\n",
    "    beta: 1-d array of size [D]\n",
    "    alpha: scalar\n",
    "    mu: 1-d array of size [N]\n",
    "    sigma: 1-d array of size [N]\n",
    "    max_level: integer\n",
    "    w0: the proportion of total samples in (x,y) used at the level 0.\n",
    "        in other words, 100*(1-w0) % of the total samples are used for estimating the correction term.\n",
    "    b: scalar. the second moment of the coupled difference estimator (dIWELBO) must decrease at a rate of O(2^(-b*level)).\n",
    "    randomize: whether to use randomization of MLMC.\n",
    "    \n",
    "    Returns:\n",
    "    iwelbo: scalar estimate of average iwelbo over sample points.\n",
    "    \"\"\"\n",
    "    # unpack parameters\n",
    "    z = theta['z']\n",
    "    alpha = theta['alpha']\n",
    "    beta = theta['beta']\n",
    "    K = get_K(alpha, beta)\n",
    "    \n",
    "    N = y.shape[0]\n",
    "    M = z.shape[0]\n",
    "    \n",
    "    m = phi['m']\n",
    "    CholS = phi['CholS']\n",
    "    \n",
    "    # calculate KL divergence of p(u) and q(u) of u = f_0(z_1,...,z_M)\n",
    "    K_mm = K(z, z) + 1e-6 * tf.eye(M, dtype=tf.float64)\n",
    "    CholK_mm = tf.linalg.cholesky(K_mm)\n",
    "    \n",
    "    p_u = tfp.distributions.MultivariateNormalTriL(loc=0., scale_tril=CholK_mm)\n",
    "    q_u = tfp.distributions.MultivariateNormalTriL(loc=m, scale_tril=CholS)\n",
    "    kl_qu_pu = tfp.distributions.kl_divergence(q_u, p_u)\n",
    "      \n",
    "    # calculate distribution of f conditionally on u = f_0(z_1,...,z_M)\n",
    "    u = q_u.sample(N)\n",
    "    inv_CholK_mm = tf.linalg.inv(CholK_mm)\n",
    "    inv_K_mm = tf.transpose(inv_CholK_mm)@inv_CholK_mm\n",
    "    K_nm = K(x, z)\n",
    "    K_mn = tf.transpose(K_nm)\n",
    "    \n",
    "    mean_f = tf.linalg.einsum('ni,ij,nj->n', K_nm, inv_K_mm, u)\n",
    "    var_f = tf.vectorized_map(lambda x:K(x,x), tf.expand_dims(x, axis=1))\n",
    "    var_f = tf.reshape(var_f, [N])\n",
    "    var_f = var_f - tf.linalg.einsum('ni,ij,jn->n', K_nm, inv_K_mm, K_mn)\n",
    "    \n",
    "    # determine proportions of the number of samples among levels\n",
    "    if max_level==0:\n",
    "        levels = np.array([0])\n",
    "        weights = np.array([1.])\n",
    "    else:\n",
    "        weights = 2.**(-(b+1)/2*np.arange(max_level))\n",
    "        weights /= sum(weights)\n",
    "        weights = np.concatenate([[w0], (1-w0)*weights])\n",
    "        levels = np.arange(max_level+1)\n",
    "    \n",
    "    # determine the N_l's\n",
    "    if randomize==True:\n",
    "        Ns = np.random.multinomial(n=N, pvals=weights)    \n",
    "    elif randomize==False:\n",
    "        Ns = np.array([np.math.ceil(w*N) for w in weights], dtype=np.int)\n",
    "        Ns[0] = N - sum(Ns[1:])\n",
    "    else:\n",
    "        raise(Exception(\"Invarid argument for 'randomize' of function IWELBO_MLMC. It must be True or False.\"))\n",
    "    \n",
    "    # compute dIWELBO's using disjoint samples at each level and sum them up\n",
    "    offset = 0\n",
    "    lmelbo = kl_qu_pu / N_total\n",
    "    for i, l in enumerate(levels):\n",
    "        if Ns[i]==0:\n",
    "            continue\n",
    "        x_tmp = x[offset:offset+Ns[i]]\n",
    "        y_tmp = y[offset:offset+Ns[i]]\n",
    "        mean_f_tmp = mean_f[offset:offset+Ns[i]]\n",
    "        var_f_tmp = var_f[offset:offset+Ns[i]]\n",
    "                       \n",
    "        if randomize==True:\n",
    "            lmelbo += dconditional_likelihood(x_tmp, y_tmp, mean_f_tmp, var_f_tmp, level=l) * Ns[i] / N / weights[i]   \n",
    "        elif randomize==False:\n",
    "            lmelbo += dconditional_likelihood(x_tmp, y_tmp, mean_f_tmp, var_f_tmp, level=l)\n",
    "    \n",
    "        offset += Ns[i]\n",
    "          \n",
    "    return lmelbo"
   ]
  },
  {
   "cell_type": "code",
   "execution_count": 18,
   "metadata": {},
   "outputs": [],
   "source": [
    "theta, phi = init_param(D, M)"
   ]
  },
  {
   "cell_type": "code",
   "execution_count": 24,
   "metadata": {},
   "outputs": [
    {
     "name": "stdout",
     "output_type": "stream",
     "text": [
      "#iter: 0-19\t1.0233973737465296\n",
      "#iter: 20-39\t0.7795630044380056\n",
      "#iter: 40-59\t0.7304450452491353\n",
      "#iter: 60-79\t0.7158655762301155\n",
      "#iter: 80-99\t0.7109668472134784\n",
      "#iter: 100-119\t0.7052441786491701\n",
      "#iter: 120-139\t0.7010899485379822\n",
      "#iter: 140-159\t0.6492577319328683\n",
      "#iter: 160-179\t0.5932396098034849\n",
      "#iter: 180-199\t0.5883178076480846\n",
      "#iter: 200-219\t0.5837588467574177\n",
      "#iter: 220-239\t0.5827245690924876\n",
      "#iter: 240-259\t0.5832021887980583\n",
      "#iter: 260-279\t0.5845713707335128\n",
      "#iter: 280-299\t0.5768273161233404\n",
      "#iter: 300-319\t0.5783589226611902\n",
      "#iter: 320-339\t0.5765869219264509\n",
      "#iter: 340-359\t0.5749911953944069\n",
      "#iter: 360-379\t0.5729502452406581\n",
      "#iter: 380-399\t0.5728062044091426\n"
     ]
    }
   ],
   "source": [
    "optimizer = tf.keras.optimizers.Adam(0.05)\n",
    "\n",
    "losses = []\n",
    "for t in range(401):\n",
    "    x,y,_ = generate_data(N, D, b0, b)\n",
    "\n",
    "    with tf.GradientTape() as g:\n",
    "        g.watch([theta, phi])\n",
    "        loss = - ELBO(x, y, theta, phi, 40000)\n",
    "    dtheta, dphi = g.gradient(loss, [theta, phi])\n",
    "    \n",
    "    gradients = list(dtheta.values()) + list(dphi.values())\n",
    "    variables = list(theta.values()) + list(phi.values())\n",
    "    optimizer.apply_gradients(zip(gradients, variables))\n",
    "    \n",
    "    losses.append(loss.numpy())\n",
    "    if t%20==19:\n",
    "        print('#iter: {}-{}\\t{}'.format(t-19,t, np.mean(losses)))\n",
    "        losses = []"
   ]
  },
  {
   "cell_type": "code",
   "execution_count": 42,
   "metadata": {},
   "outputs": [
    {
     "name": "stdout",
     "output_type": "stream",
     "text": [
      "#iter: 0-19\t0.5717669341440976\n",
      "#iter: 20-39\t0.5733134123915106\n",
      "#iter: 40-59\t0.5705471602092815\n",
      "#iter: 60-79\t0.5692226711485961\n",
      "#iter: 80-99\t0.5689404211890854\n",
      "#iter: 100-119\t0.5662340493727335\n",
      "#iter: 120-139\t0.5752188638094785\n",
      "#iter: 140-159\t0.5683813467083699\n",
      "#iter: 160-179\t0.5707087305455907\n",
      "#iter: 180-199\t0.5710795646684903\n",
      "#iter: 200-219\t0.5739845298507148\n",
      "#iter: 220-239\t0.5651183834132241\n",
      "#iter: 240-259\t0.5676512272681203\n",
      "#iter: 260-279\t0.5733322943794763\n",
      "#iter: 280-299\t0.5697475846853143\n",
      "#iter: 300-319\t0.5694210693567914\n",
      "#iter: 320-339\t0.5638314441704704\n",
      "#iter: 340-359\t0.5717083719095889\n",
      "#iter: 360-379\t0.5654339055506082\n",
      "#iter: 380-399\t0.5730472231067\n"
     ]
    }
   ],
   "source": [
    "optimizer = tf.keras.optimizers.SGD(0.001)\n",
    "\n",
    "losses = []\n",
    "for t in range(401):\n",
    "    x,y,_ = generate_data(N, D, b0, b)\n",
    "\n",
    "    with tf.GradientTape() as g:\n",
    "        g.watch([theta, phi])\n",
    "        loss = - LMELBO(x, y, theta, phi, 40000, n_MC=512)\n",
    "    dtheta, dphi = g.gradient(loss, [theta, phi])\n",
    "    \n",
    "    gradients = list(dtheta.values()) + list(dphi.values())\n",
    "    variables = list(theta.values()) + list(phi.values())\n",
    "    optimizer.apply_gradients(zip(gradients, variables))\n",
    "    \n",
    "    losses.append(loss.numpy())\n",
    "    if t%20==19:\n",
    "        print('#iter: {}-{}\\t{}'.format(t-19,t, np.mean(losses)))\n",
    "        losses = []"
   ]
  },
  {
   "cell_type": "code",
   "execution_count": 25,
   "metadata": {},
   "outputs": [
    {
     "data": {
      "text/plain": [
       "0.0001697766302706839"
      ]
     },
     "execution_count": 25,
     "metadata": {},
     "output_type": "execute_result"
    }
   ],
   "source": [
    "np.var([ELBO(x, y, theta, phi, N_total=10000) for x,y,_ in [generate_data(N, D, b0, b) for i in range(100)]])"
   ]
  },
  {
   "cell_type": "code",
   "execution_count": 26,
   "metadata": {},
   "outputs": [
    {
     "data": {
      "text/plain": [
       "0.00019745998198914168"
      ]
     },
     "execution_count": 26,
     "metadata": {},
     "output_type": "execute_result"
    }
   ],
   "source": [
    "np.var([LMELBO(x, y, theta, phi, N_total=10000, n_MC=2**10) for x,y,_ in [generate_data(N, D, b0, b) for i in range(100)]])"
   ]
  },
  {
   "cell_type": "code",
   "execution_count": 27,
   "metadata": {},
   "outputs": [
    {
     "data": {
      "text/plain": [
       "0.00037614723366216884"
      ]
     },
     "execution_count": 27,
     "metadata": {},
     "output_type": "execute_result"
    }
   ],
   "source": [
    "np.var([LMELBO_MLMC(x, y, theta, phi, N_total=10000, max_level=10) for x,y,_ in [generate_data(N, D, b0, b) for i in range(100)]])"
   ]
  },
  {
   "cell_type": "code",
   "execution_count": 46,
   "metadata": {},
   "outputs": [
    {
     "data": {
      "text/plain": [
       "-0.5867034079861775"
      ]
     },
     "execution_count": 46,
     "metadata": {},
     "output_type": "execute_result"
    }
   ],
   "source": [
    "np.mean([ELBO(x, y, theta, phi, N_total=10000) for x,y,_ in [generate_data(N, D, b0, b) for i in range(10)]])"
   ]
  },
  {
   "cell_type": "code",
   "execution_count": 47,
   "metadata": {},
   "outputs": [
    {
     "data": {
      "text/plain": [
       "-0.566057397680685"
      ]
     },
     "execution_count": 47,
     "metadata": {},
     "output_type": "execute_result"
    }
   ],
   "source": [
    "np.mean([LMELBO(x, y, theta, phi, N_total=10000, n_MC=2**10) for x,y,_ in [generate_data(N, D, b0, b) for i in range(10)]])"
   ]
  },
  {
   "cell_type": "code",
   "execution_count": 48,
   "metadata": {},
   "outputs": [
    {
     "data": {
      "text/plain": [
       "-0.5626269070025722"
      ]
     },
     "execution_count": 48,
     "metadata": {},
     "output_type": "execute_result"
    }
   ],
   "source": [
    "np.mean([LMELBO_MLMC(x, y, theta, phi, N_total=10000, max_level=10) for x,y,_ in [generate_data(N, D, b0, b) for i in range(10)]])"
   ]
  },
  {
   "cell_type": "code",
   "execution_count": 31,
   "metadata": {},
   "outputs": [
    {
     "name": "stdout",
     "output_type": "stream",
     "text": [
      "test_likelihood: -0.5676172448577175\n"
     ]
    }
   ],
   "source": [
    "x,y,logit = generate_data(100000, D, b0, b)\n",
    "\n",
    "likelihood = np.mean(y*np.log(sigmoid(logit(x))) + (1-y)*np.log(1-sigmoid(logit(x))))\n",
    "print('test_likelihood: {}'.format( likelihood ) )    "
   ]
  },
  {
   "cell_type": "code",
   "execution_count": 32,
   "metadata": {},
   "outputs": [
    {
     "name": "stdout",
     "output_type": "stream",
     "text": [
      "280 ms ± 3.71 ms per loop (mean ± std. dev. of 7 runs, 1 loop each)\n"
     ]
    }
   ],
   "source": [
    "%%timeit\n",
    "ELBO(x, y, theta, phi, N_total=10000)"
   ]
  },
  {
   "cell_type": "code",
   "execution_count": 33,
   "metadata": {},
   "outputs": [
    {
     "name": "stdout",
     "output_type": "stream",
     "text": [
      "4.13 s ± 165 ms per loop (mean ± std. dev. of 7 runs, 1 loop each)\n"
     ]
    }
   ],
   "source": [
    "%%timeit\n",
    "LMELBO(x, y, theta, phi, N_total=10000, n_MC=2**10)"
   ]
  },
  {
   "cell_type": "code",
   "execution_count": 34,
   "metadata": {},
   "outputs": [
    {
     "name": "stdout",
     "output_type": "stream",
     "text": [
      "336 ms ± 3.25 ms per loop (mean ± std. dev. of 7 runs, 1 loop each)\n"
     ]
    }
   ],
   "source": [
    "%%timeit\n",
    "LMELBO_MLMC(x, y, theta, phi, N_total=10000, max_level=10, randomize=True)"
   ]
  },
  {
   "cell_type": "markdown",
   "metadata": {},
   "source": [
    "## Parameter Estimation"
   ]
  },
  {
   "cell_type": "code",
   "execution_count": 123,
   "metadata": {},
   "outputs": [],
   "source": [
    "theta, phi = init_param(D, M)"
   ]
  },
  {
   "cell_type": "code",
   "execution_count": 124,
   "metadata": {},
   "outputs": [
    {
     "name": "stdout",
     "output_type": "stream",
     "text": [
      "#iter: 0-19\t1.018710070237884\n",
      "#iter: 20-39\t0.773073031847605\n",
      "#iter: 40-59\t0.7289769968597667\n",
      "#iter: 60-79\t0.7155409761835736\n",
      "#iter: 80-99\t0.7066893741677387\n",
      "#iter: 100-119\t0.6369082341803793\n",
      "#iter: 120-139\t0.5908767362977156\n",
      "#iter: 140-159\t0.5863431592988616\n",
      "#iter: 160-179\t0.5767914242224543\n",
      "#iter: 180-199\t0.5821507376086883\n",
      "#iter: 200-219\t0.577908948588589\n",
      "#iter: 220-239\t0.5806179545297194\n",
      "#iter: 240-259\t0.5761532032127914\n",
      "#iter: 260-279\t0.5726980632952504\n",
      "#iter: 280-299\t0.5737477040279211\n",
      "#iter: 300-319\t0.5739096294220614\n",
      "#iter: 320-339\t0.5836058236946312\n",
      "#iter: 340-359\t0.5739776099685409\n",
      "#iter: 360-379\t0.5744089673336343\n",
      "#iter: 380-399\t0.5688255233926489\n"
     ]
    }
   ],
   "source": [
    "optimizer = tf.keras.optimizers.Adam(0.05)\n",
    "\n",
    "losses = []\n",
    "for t in range(401):\n",
    "    x,y,_ = generate_data(N, D, b0, b)\n",
    "\n",
    "    with tf.GradientTape() as g:\n",
    "        g.watch([theta, phi])\n",
    "        loss = - ELBO(x, y, theta, phi, 40000)\n",
    "    dtheta, dphi = g.gradient(loss, [theta, phi])\n",
    "    \n",
    "    gradients = list(dtheta.values()) + list(dphi.values())\n",
    "    variables = list(theta.values()) + list(phi.values())\n",
    "    optimizer.apply_gradients(zip(gradients, variables))\n",
    "    \n",
    "    losses.append(loss.numpy())\n",
    "    if t%20==19:\n",
    "        print('#iter: {}-{}\\t{}'.format(t-19,t, np.mean(losses)))\n",
    "        losses = []"
   ]
  },
  {
   "cell_type": "code",
   "execution_count": 125,
   "metadata": {},
   "outputs": [],
   "source": [
    "theta, phi = init_param(D, M)"
   ]
  },
  {
   "cell_type": "code",
   "execution_count": 126,
   "metadata": {},
   "outputs": [
    {
     "name": "stdout",
     "output_type": "stream",
     "text": [
      "#iter: 0-19\t0.6957926142057649\n",
      "#iter: 20-39\t0.6943251986199738\n",
      "#iter: 40-59\t0.6932672847201165\n",
      "#iter: 60-79\t0.6929880734820955\n",
      "#iter: 80-99\t0.6933136549594463\n",
      "#iter: 100-119\t0.685058562371937\n",
      "#iter: 120-139\t0.6090975214685137\n",
      "#iter: 140-159\t0.5827406616955532\n",
      "#iter: 160-179\t0.5832850474594143\n",
      "#iter: 180-199\t0.571913427216558\n",
      "#iter: 200-219\t0.5792077989702952\n",
      "#iter: 220-239\t0.5749212510247153\n",
      "#iter: 240-259\t0.5791959878578709\n",
      "#iter: 260-279\t0.5743867340787278\n",
      "#iter: 280-299\t0.5784488910472982\n",
      "#iter: 300-319\t0.5762827383392162\n",
      "#iter: 320-339\t0.5738592202424055\n",
      "#iter: 340-359\t0.572440713353842\n",
      "#iter: 360-379\t0.5784565077568601\n",
      "#iter: 380-399\t0.5824527096459136\n"
     ]
    }
   ],
   "source": [
    "optimizer = tf.keras.optimizers.Adam(0.05)\n",
    "\n",
    "losses = []\n",
    "for t in range(401):\n",
    "    x,y,_ = generate_data(N, D, b0, b)\n",
    "\n",
    "    with tf.GradientTape() as g:\n",
    "        g.watch([theta, phi])\n",
    "        loss = - LMELBO(x, y, theta, phi, 40000, n_MC=64)\n",
    "    dtheta, dphi = g.gradient(loss, [theta, phi])\n",
    "    \n",
    "    gradients = list(dtheta.values()) + list(dphi.values())\n",
    "    variables = list(theta.values()) + list(phi.values())\n",
    "    optimizer.apply_gradients(zip(gradients, variables))\n",
    "    \n",
    "    losses.append(loss.numpy())\n",
    "    if t%20==19:\n",
    "        print('#iter: {}-{}\\t{}'.format(t-19,t, np.mean(losses)))\n",
    "        losses = []"
   ]
  },
  {
   "cell_type": "markdown",
   "metadata": {},
   "source": [
    "## Visualize Prediction"
   ]
  },
  {
   "cell_type": "code",
   "execution_count": 42,
   "metadata": {},
   "outputs": [],
   "source": [
    "def get_logits(x, theta, phi):\n",
    "    \n",
    "    z = theta['z']\n",
    "    alpha = theta['alpha']\n",
    "    beta = theta['beta']\n",
    "    K = get_K(alpha, beta)\n",
    "    m = phi['m']\n",
    "    CholS = phi['CholS']\n",
    "\n",
    "    N = x.shape[0]\n",
    "    M = z.shape[0]\n",
    "    \n",
    "    K_mm = K(z, z) + 1e-6 * tf.eye(M, dtype=tf.float64)\n",
    "    CholK_mm = tf.linalg.cholesky(K_mm)\n",
    "    inv_CholK_mm = tf.linalg.inv(CholK_mm)\n",
    "    inv_K_mm = tf.transpose(inv_CholK_mm)@inv_CholK_mm\n",
    "    K_nm = K(x, z)\n",
    "    K_mn = tf.transpose(K_nm)\n",
    "    \n",
    "    mean_f = tf.linalg.einsum('ni,ij,j->n', K_nm, inv_K_mm, m)\n",
    "    var_f = tf.vectorized_map(lambda x:K(x,x), tf.expand_dims(x, axis=1))\n",
    "    var_f = tf.reshape(var_f, [N])\n",
    "    var_f = var_f - tf.linalg.einsum('ni,ij,jn->n', K_nm, inv_K_mm, K_mn)\n",
    "    \n",
    "    return mean_f, var_f"
   ]
  },
  {
   "cell_type": "code",
   "execution_count": 43,
   "metadata": {},
   "outputs": [],
   "source": [
    "def heatmap2d(arr: np.ndarray, cmap='viridis'):\n",
    "    plt.imshow(arr, cmap=cmap, extent=[-6,6,-6,6],origin='lower', alpha=1, vmin=0, vmax=1)\n",
    "    plt.colorbar()\n",
    "    #plt.show()"
   ]
  },
  {
   "cell_type": "code",
   "execution_count": 27,
   "metadata": {},
   "outputs": [],
   "source": [
    "x1_heat = (np.linspace(start=-6,stop=6).reshape([1,50])*np.ones([50,1])).reshape([2500])\n",
    "x2_heat = np.repeat(np.linspace(start=-6,stop=6), 50)\n",
    "x_heat = np.array([x1_heat, x2_heat]).T\n",
    "logits_heat = get_logits(x_heat, theta, phi)[0].numpy()"
   ]
  },
  {
   "cell_type": "code",
   "execution_count": 28,
   "metadata": {},
   "outputs": [
    {
     "data": {
      "image/png": "[encoded data removed]",
      "text/plain": [
       "<Figure size 1080x288 with 5 Axes>"
      ]
     },
     "metadata": {
      "needs_background": "light"
     },
     "output_type": "display_data"
    }
   ],
   "source": [
    "plt.figure(figsize=[15,4])\n",
    "cmap = matplotlib.cm.get_cmap('bwr')#('viridis')\n",
    "\n",
    "plt.subplot(1,3,1)\n",
    "plt.title('Observations')\n",
    "idx = (y==True)\n",
    "plt.scatter(x[idx,0], x[idx,1], s=2, alpha=0.5, marker='o', c=[cmap(1.)])\n",
    "plt.scatter(x[~idx,0], x[~idx,1], s=2, alpha=0.5, marker='o', c=[cmap(0.)])\n",
    "plt.scatter(theta['z'][:,0], theta['z'][:,1], s=4, alpha=1, marker='o', c='black')\n",
    "plt.legend(['y=1','y=0'])\n",
    "plt.xlim([-6,6])\n",
    "plt.ylim([-6,6])\n",
    "ax = plt.gca()\n",
    "ax.set_aspect('equal')\n",
    "\n",
    "plt.subplot(1,3,2)\n",
    "plt.title('Ground Truth p(y=1|x)')\n",
    "heatmap2d(sigmoid(logit(x_heat)).reshape([50,50]), 'bwr')\n",
    "\n",
    "plt.subplot(1,3,3)\n",
    "plt.title(r'Variational GP posterior $q(y=1|x)$')\n",
    "#plt.scatter(x[idx,0], x[idx,1], s=0.3, alpha=1, marker='x', c=[cmap(1.)])\n",
    "#plt.scatter(x[~idx,0], x[~idx,1], s=0.3, alpha=1, marker='x', c=[cmap(0.)])\n",
    "a = plt.scatter(theta['z'][:,0], theta['z'][:,1], s=4, alpha=1, marker='o', c='black')\n",
    "plt.legend([a],['pseudo inputs'])\n",
    "heatmap2d(sigmoid(logits_heat.reshape([50,50])), 'bwr')"
   ]
  },
  {
   "cell_type": "markdown",
   "metadata": {},
   "source": [
    "## Learning Curve by Different Methods"
   ]
  },
  {
   "cell_type": "code",
   "execution_count": null,
   "metadata": {},
   "outputs": [],
   "source": [
    "lambda x1, x2 = (gamma * tf.reduce_sum(x1*x2) + coef0)^degree\n"
   ]
  },
  {
   "cell_type": "markdown",
   "metadata": {},
   "source": [
    "・Test LMELBO をプロットしないと意味ない<br>\n",
    "・<s>MNISTで、バッチサイズ小さめで検証</s>←カーネルの計算が重いと死ぬ<br>\n",
    "・潜在変数のサンプルは$\\mathcal{O}(1)$。各データ点の処理は$\\mathcal{O}(M^2)$という致命的な問題がある。<br>\n",
    "・MLMCは潜在変数のサンプリングコストが支配的なときに使うもの。<br>\n",
    "・かと言って、潜在変数の空間が複雑だと、カップリングしないという問題もある。"
   ]
  },
  {
   "cell_type": "markdown",
   "metadata": {},
   "source": [
    "結論…$M$を固定して、Small Dataでなんとか頑張って優位性を示す"
   ]
  },
  {
   "cell_type": "code",
   "execution_count": 29,
   "metadata": {},
   "outputs": [],
   "source": [
    "def get_mlmc_cost(N, max_level, b, w0):\n",
    "    # compute the cost of MLMC estimation \n",
    "    # when the size of x (and that of y) is N\n",
    "    if max_level==0:\n",
    "        levels = np.array([0])\n",
    "        weights = np.array([1.])\n",
    "    else:\n",
    "        weights = 2.**(-(b+1)/2*np.arange(max_level))\n",
    "        weights /= sum(weights)\n",
    "        weights = np.concatenate([[w0], (1-w0)*weights])\n",
    "        levels = np.arange(max_level+1)\n",
    "    cost = np.ceil(N * weights[0])\\\n",
    "            + N * sum( np.ceil(weights[1:] * (2**levels[1:] + 2**(levels[1:]-1))) )\n",
    "    return cost"
   ]
  },
  {
   "cell_type": "code",
   "execution_count": 32,
   "metadata": {},
   "outputs": [
    {
     "name": "stdout",
     "output_type": "stream",
     "text": [
      "training elbo.... #iter:0 \n",
      "training elbo.... #iter:1 \n",
      "training elbo.... #iter:2 \n",
      "training elbo.... #iter:3 \n",
      "training elbo.... #iter:4 \n",
      "training elbo.... #iter:5 \n",
      "training elbo.... #iter:6 \n",
      "training elbo.... #iter:7 \n",
      "training elbo.... #iter:8 \n",
      "training elbo.... #iter:9 \n",
      "\n",
      "training lmelbo8.... #iter:0 \n",
      "training lmelbo8.... #iter:1 \n",
      "training lmelbo8.... #iter:2 \n",
      "training lmelbo8.... #iter:3 \n",
      "training lmelbo8.... #iter:4 \n",
      "training lmelbo8.... #iter:5 \n",
      "training lmelbo8.... #iter:6 \n",
      "training lmelbo8.... #iter:7 \n",
      "training lmelbo8.... #iter:8 \n",
      "training lmelbo8.... #iter:9 \n",
      "\n",
      "training lmelbo64.... #iter:0 \n",
      "training lmelbo64.... #iter:1 \n",
      "training lmelbo64.... #iter:2 \n",
      "training lmelbo64.... #iter:3 \n",
      "training lmelbo64.... #iter:4 \n",
      "training lmelbo64.... #iter:5 \n",
      "training lmelbo64.... #iter:6 \n",
      "training lmelbo64.... #iter:7 \n",
      "training lmelbo64.... #iter:8 \n",
      "training lmelbo64.... #iter:9 \n",
      "\n",
      "training lmelbo512.... #iter:0 \n",
      "training lmelbo512.... #iter:1 \n",
      "training lmelbo512.... #iter:2 \n",
      "training lmelbo512.... #iter:3 \n",
      "training lmelbo512.... #iter:4 \n",
      "training lmelbo512.... #iter:5 \n",
      "training lmelbo512.... #iter:6 \n",
      "training lmelbo512.... #iter:7 \n",
      "training lmelbo512.... #iter:8 \n",
      "training lmelbo512.... #iter:9 \n",
      "\n",
      "training lmelbo512_mlmc.... #iter:0 \n",
      "training lmelbo512_mlmc.... #iter:1 \n",
      "training lmelbo512_mlmc.... #iter:2 \n",
      "training lmelbo512_mlmc.... #iter:3 \n",
      "training lmelbo512_mlmc.... #iter:4 \n",
      "training lmelbo512_mlmc.... #iter:5 \n",
      "training lmelbo512_mlmc.... #iter:6 \n",
      "training lmelbo512_mlmc.... #iter:7 \n",
      "training lmelbo512_mlmc.... #iter:8 \n",
      "training lmelbo512_mlmc.... #iter:9 \n",
      "\n",
      "training lmelbo512_randmlmc.... #iter:0 \n",
      "training lmelbo512_randmlmc.... #iter:1 \n",
      "training lmelbo512_randmlmc.... #iter:2 \n",
      "training lmelbo512_randmlmc.... #iter:3 \n",
      "training lmelbo512_randmlmc.... #iter:4 \n",
      "training lmelbo512_randmlmc.... #iter:5 \n",
      "training lmelbo512_randmlmc.... #iter:6 \n",
      "training lmelbo512_randmlmc.... #iter:7 \n",
      "training lmelbo512_randmlmc.... #iter:8 \n",
      "training lmelbo512_randmlmc.... #iter:9 \n",
      "\n"
     ]
    }
   ],
   "source": [
    "objectives = {\n",
    "    \"elbo\":      lambda x, y, theta, phi: ELBO(x, y, theta, phi, N_total=40000),\n",
    "    \"lmelbo8\":   lambda x, y, theta, phi: LMELBO(x, y, theta, phi, N_total=40000, n_MC=8),\n",
    "    \"lmelbo64\":  lambda x, y, theta, phi: LMELBO(x, y, theta, phi, N_total=40000, n_MC=64),\n",
    "    \"lmelbo512\": lambda x, y, theta, phi: LMELBO(x, y, theta, phi, N_total=40000, n_MC=512),\n",
    "    \"lmelbo512_mlmc\": lambda x, y, theta, phi: LMELBO(x, y, theta, phi, N_total=40000, n_MC=512),\n",
    "    \"lmelbo512_randmlmc\": lambda x, y, theta, phi: LMELBO(x, y, theta, phi, N_total=40000, n_MC=512),\n",
    "}\n",
    "\n",
    "n_repeat = 10\n",
    "results = {}\n",
    "\n",
    "for name, obj in objectives.items():\n",
    "    loss_seqs = []\n",
    "    for i in range(n_repeat):\n",
    "        print(\"training {}.... #iter:{} \".format(name,i))\n",
    "        optimizer = tf.keras.optimizers.Adam(0.05)\n",
    "        theta, phi = init_param(D,M)\n",
    "        loss_seq = []\n",
    "        \n",
    "        for t in range(400):\n",
    "            x,y,_ = generate_data(N, D, b0, b)\n",
    "\n",
    "            # balance the cost of mlmc and nmc when level=9 (n_MC=512)\n",
    "            if 'mlmc' in name:\n",
    "                cost_nmc  = N * 2**9\n",
    "                cost_mlmc = get_mlmc_cost(N, max_level=9, b=1.8, w0=0.9)\n",
    "                N_mlmc = np.math.ceil(N * (cost_nmc / cost_mlmc))\n",
    "                x,y,_ = generate_data(N_mlmc, D, b0, b)\n",
    "            \n",
    "            # Optimize\n",
    "            with tf.GradientTape() as g:\n",
    "                g.watch([theta, phi])\n",
    "                loss = - obj(x, y, theta, phi)\n",
    "            dtheta, dphi = g.gradient(loss, [theta, phi])\n",
    "            gradients = list(dtheta.values()) + list(dphi.values())\n",
    "            variables = list(theta.values()) + list(phi.values())\n",
    "            optimizer.apply_gradients(zip(gradients, variables))\n",
    "\n",
    "            loss_seq.append(loss.numpy())\n",
    "        loss_seqs.append(loss_seq) \n",
    "    results[name] = np.array(loss_seqs)\n",
    "    print()"
   ]
  },
  {
   "cell_type": "code",
   "execution_count": 34,
   "metadata": {},
   "outputs": [],
   "source": [
    "import pickle"
   ]
  },
  {
   "cell_type": "code",
   "execution_count": 37,
   "metadata": {},
   "outputs": [],
   "source": [
    "#with open('../out/gaussian_process_classification/train_log_{}.pickel'.format(timestamp()), 'wb') as file:\n",
    "#    pickle.dump(results, file)"
   ]
  },
  {
   "cell_type": "code",
   "execution_count": 57,
   "metadata": {},
   "outputs": [
    {
     "data": {
      "text/plain": [
       "(0.54, 0.66)"
      ]
     },
     "execution_count": 57,
     "metadata": {},
     "output_type": "execute_result"
    },
    {
     "data": {
      "image/png": "[encoded data removed]",
      "text/plain": [
       "<Figure size 1080x432 with 1 Axes>"
      ]
     },
     "metadata": {
      "needs_background": "light"
     },
     "output_type": "display_data"
    }
   ],
   "source": [
    "plt.figure(figsize=[15,6])\n",
    "for logs in results.values():\n",
    "    plt.plot(logs.mean(axis=0), alpha=0.5)\n",
    "plt.legend([name for name in results])\n",
    "plt.ylim([0.54, 0.66])"
   ]
  }
 ],
 "metadata": {
  "kernelspec": {
   "display_name": "Python 3",
   "language": "python",
   "name": "python3"
  },
  "language_info": {
   "codemirror_mode": {
    "name": "ipython",
    "version": 3
   },
   "file_extension": ".py",
   "mimetype": "text/x-python",
   "name": "python",
   "nbconvert_exporter": "python",
   "pygments_lexer": "ipython3",
   "version": "3.6.9"
  }
 },
 "nbformat": 4,
 "nbformat_minor": 4
}
