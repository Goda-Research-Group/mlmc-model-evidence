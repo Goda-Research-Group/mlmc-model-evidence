{
 "cells": [
  {
   "cell_type": "markdown",
   "metadata": {},
   "source": [
    "**EDA for Chicago Crime data**\n",
    "\n",
    "This is an data exploration performed in the Chicago crime dataset, extracted from the Chicago Police Department's CLEAR (Citizen Law Enforcement Analysis and Reporting) system.\n",
    "\n",
    "**Note:**\n",
    "Please review my kernels and express your reviews or suggest your recommendation. I respect all the reviews and recommendations and it will be useful for my future works :)\n",
    "\n",
    "Let's jump into the explorations"
   ]
  },
  {
   "cell_type": "code",
   "execution_count": 2,
   "metadata": {
    "_cell_guid": "b1076dfc-b9ad-4769-8c92-a6c4dae69d19",
    "_uuid": "8f2839f25d086af736a60e9eeb907d3b93b6e0e5"
   },
   "outputs": [
    {
     "ename": "ModuleNotFoundError",
     "evalue": "No module named 'mpl_toolkits.basemap'",
     "output_type": "error",
     "traceback": [
      "\u001b[0;31m---------------------------------------------------------------------------\u001b[0m",
      "\u001b[0;31mModuleNotFoundError\u001b[0m                       Traceback (most recent call last)",
      "\u001b[0;32m<ipython-input-2-7b7acf0ab8e3>\u001b[0m in \u001b[0;36m<module>\u001b[0;34m\u001b[0m\n\u001b[1;32m      5\u001b[0m \u001b[0;32mimport\u001b[0m \u001b[0mmatplotlib\u001b[0m\u001b[0;34m.\u001b[0m\u001b[0mpyplot\u001b[0m \u001b[0;32mas\u001b[0m \u001b[0mplt\u001b[0m \u001b[0;31m# for data plotting and visualisations\u001b[0m\u001b[0;34m\u001b[0m\u001b[0;34m\u001b[0m\u001b[0m\n\u001b[1;32m      6\u001b[0m \u001b[0;32mfrom\u001b[0m \u001b[0mmatplotlib\u001b[0m\u001b[0;34m.\u001b[0m\u001b[0mpyplot\u001b[0m \u001b[0;32mimport\u001b[0m \u001b[0mfigure\u001b[0m\u001b[0;34m,\u001b[0m \u001b[0mpie\u001b[0m\u001b[0;34m\u001b[0m\u001b[0;34m\u001b[0m\u001b[0m\n\u001b[0;32m----> 7\u001b[0;31m \u001b[0;32mfrom\u001b[0m \u001b[0mmpl_toolkits\u001b[0m\u001b[0;34m.\u001b[0m\u001b[0mbasemap\u001b[0m \u001b[0;32mimport\u001b[0m \u001b[0mBasemap\u001b[0m\u001b[0;34m\u001b[0m\u001b[0;34m\u001b[0m\u001b[0m\n\u001b[0m\u001b[1;32m      8\u001b[0m \u001b[0;32mfrom\u001b[0m \u001b[0mmatplotlib\u001b[0m\u001b[0;34m.\u001b[0m\u001b[0mpatches\u001b[0m \u001b[0;32mimport\u001b[0m \u001b[0mPolygon\u001b[0m\u001b[0;34m\u001b[0m\u001b[0;34m\u001b[0m\u001b[0m\n\u001b[1;32m      9\u001b[0m \u001b[0;32mfrom\u001b[0m \u001b[0mmatplotlib\u001b[0m\u001b[0;34m.\u001b[0m\u001b[0mcollections\u001b[0m \u001b[0;32mimport\u001b[0m \u001b[0mPatchCollection\u001b[0m\u001b[0;34m\u001b[0m\u001b[0;34m\u001b[0m\u001b[0m\n",
      "\u001b[0;31mModuleNotFoundError\u001b[0m: No module named 'mpl_toolkits.basemap'"
     ]
    }
   ],
   "source": [
    "# Import all the libraries which will be used in the exploration process\n",
    "import numpy as np # linear algebra\n",
    "import pandas as pd # data processing, CSV file I/O (e.g. pd.read_csv)\n",
    "import seaborn as sns # for data visualisations\n",
    "import matplotlib.pyplot as plt # for data plotting and visualisations\n",
    "from matplotlib.pyplot import figure, pie\n",
    "from mpl_toolkits.basemap import Basemap\n",
    "from matplotlib.patches import Polygon\n",
    "from matplotlib.collections import PatchCollection\n",
    "from matplotlib.patches import PathPatch\n",
    "import math\n",
    "\n",
    "import bq_helper\n",
    "from bq_helper import BigQueryHelper\n",
    "\n",
    "# Input data files are available in the \"../input/\" directory.\n",
    "# For example, running this (by clicking run or pressing Shift+Enter) will list the files in the input directory\n",
    "\n",
    "import os\n",
    "print(os.listdir(\"../input\"))\n",
    "\n",
    "# Any results you write to the current directory are saved as output."
   ]
  },
  {
   "cell_type": "code",
   "execution_count": null,
   "metadata": {},
   "outputs": [],
   "source": [
    "from pylab import rcParams\n",
    "rcParams['figure.figsize'] = 40, 10"
   ]
  },
  {
   "cell_type": "markdown",
   "metadata": {},
   "source": [
    "Loading the reference of the Chicago crime dataset from the **BigQueryAPI**"
   ]
  },
  {
   "cell_type": "code",
   "execution_count": null,
   "metadata": {
    "_cell_guid": "79c7e3d0-c299-4dcb-8224-4455121ee9b0",
    "_uuid": "d629ff2d2480ee46fbb7e2d37f6b5fab8052498a"
   },
   "outputs": [],
   "source": [
    "chicago_crime = bq_helper.BigQueryHelper(active_project=\"bigquery-public-data\", dataset_name=\"chicago_crime\")\n",
    "bq_assistant = BigQueryHelper(\"bigquery-public-data\", \"chicago_crime\")"
   ]
  },
  {
   "cell_type": "markdown",
   "metadata": {},
   "source": [
    "Select the necessary columns from the dataset of the Chicago crime dataset.\n",
    "\n",
    "**Note**\n",
    "The limit is set to 300000 since loading the full dataset making my kernel suck."
   ]
  },
  {
   "cell_type": "code",
   "execution_count": null,
   "metadata": {},
   "outputs": [],
   "source": [
    "select_query = \"\"\"SELECT date,district,primary_type,location_description,ward,arrest,domestic,community_area,year,latitude,longitude,location\n",
    "            FROM `bigquery-public-data.chicago_crime.crime`\n",
    "            LIMIT 300000\"\"\"\n",
    "crime_data = chicago_crime.query_to_pandas_safe(select_query)"
   ]
  },
  {
   "cell_type": "markdown",
   "metadata": {},
   "source": [
    "**Heatmap** is used to observe the crime counts based on the month and the years. The month is extracted from the date column using the **datetime**"
   ]
  },
  {
   "cell_type": "code",
   "execution_count": null,
   "metadata": {},
   "outputs": [],
   "source": [
    "month_year_frame = pd.DataFrame(columns=[])\n",
    "\n",
    "for i in range(0,crime_data.shape[0]):\n",
    "    month = crime_data.iloc[i].date.strftime(\"%b\")\n",
    "    year = str(crime_data.iloc[i].year)\n",
    "        \n",
    "    try:\n",
    "        get_count = month_year_frame.at[month, year]\n",
    "        if np.isnan(get_count):\n",
    "            month_year_frame.at[month, year] = 1\n",
    "        else:\n",
    "            month_year_frame.at[month, year] = get_count+1\n",
    "    except (ValueError,KeyError):\n",
    "        month_year_frame.at[month, year] = 1\n",
    "\n",
    "month_year_frame.index = pd.CategoricalIndex(month_year_frame.index, \n",
    "                               categories=['Jan', 'Feb', 'Mar', 'Apr','May','Jun', 'Jul', 'Aug','Sep', 'Oct', 'Nov', 'Dec'])\n",
    "month_year_frame = month_year_frame.sort_index()\n",
    "month_year_frame = month_year_frame.reindex(sorted(month_year_frame.columns), axis=1)\n",
    "\n",
    "sns.heatmap(month_year_frame, cmap='gist_ncar')"
   ]
  },
  {
   "cell_type": "markdown",
   "metadata": {},
   "source": [
    "> The year 2001 has the highest crime count for the range 2001 to present. The crime count goes around 8000 to 12000\n",
    "\n",
    "> The crime rate has gone down from the May of 2002 and it's been decreased in the upcoming years, which indicates that the Police department has took necessary actions to control the crime rate in Chicago"
   ]
  },
  {
   "cell_type": "markdown",
   "metadata": {},
   "source": [
    "Let's extract the arrest made by the Police Department for the crime in the year 2001 to present and compare with the crime heatmap and the heatmap for the arrest made."
   ]
  },
  {
   "cell_type": "code",
   "execution_count": null,
   "metadata": {},
   "outputs": [],
   "source": [
    "corresponding_arrest = pd.DataFrame(columns=[])\n",
    "\n",
    "for i in range(0,crime_data.shape[0]):\n",
    "    month = crime_data.iloc[i].date.strftime(\"%b\")\n",
    "    year = str(crime_data.iloc[i].year)\n",
    "\n",
    "    if crime_data.iloc[i].arrest:        \n",
    "        try:\n",
    "            get_count = corresponding_arrest.at[month, year]\n",
    "\n",
    "            if np.isnan(get_count):\n",
    "                corresponding_arrest.at[month, year] = 1\n",
    "            else:\n",
    "                corresponding_arrest.at[month, year] = get_count+1\n",
    "        except (ValueError,KeyError):\n",
    "            corresponding_arrest.at[month, year] = 1\n",
    "            \n",
    "corresponding_arrest.index = pd.CategoricalIndex(corresponding_arrest.index, \n",
    "                               categories=['Jan', 'Feb', 'Mar', 'Apr','May','Jun', 'Jul', 'Aug','Sep', 'Oct', 'Nov', 'Dec'])\n",
    "corresponding_arrest = corresponding_arrest.sort_index()\n",
    "corresponding_arrest = corresponding_arrest.reindex(sorted(corresponding_arrest.columns), axis=1)"
   ]
  },
  {
   "cell_type": "code",
   "execution_count": null,
   "metadata": {},
   "outputs": [],
   "source": [
    "fig = plt.figure()\n",
    "ax1 = fig.add_subplot(121)\n",
    "ax2 = fig.add_subplot(122)\n",
    "\n",
    "sns.heatmap(month_year_frame, cmap=\"gist_ncar\",ax=ax1)\n",
    "sns.heatmap(corresponding_arrest, cmap=\"gist_ncar\",ax=ax2)"
   ]
  },
  {
   "cell_type": "markdown",
   "metadata": {},
   "source": [
    "> From the comparison, we can say that the department has maintained the crime rate by making the arrest for the crime, however there is a lack of actions for the crime during the year 2001 to 2012 which can be seen clearly from the heat trends above."
   ]
  },
  {
   "cell_type": "markdown",
   "metadata": {},
   "source": [
    "The district plays an important role in crime occurence. The plot will be made for the total crime occurs and the arrest made against the district."
   ]
  },
  {
   "cell_type": "code",
   "execution_count": null,
   "metadata": {},
   "outputs": [],
   "source": [
    "district_list = []\n",
    "\n",
    "for i in range(0,crime_data.shape[0]):\n",
    "    district = crime_data.iloc[i].district\n",
    "    arrest = crime_data.iloc[i].arrest\n",
    "    get_index = -1\n",
    "    \n",
    "    for j in range(0, len(district_list)):\n",
    "        if (district_list[j][0] == district):\n",
    "            get_index = j\n",
    "            if arrest:\n",
    "                district_list[j][1]+=1\n",
    "            else:\n",
    "                district_list[j][2]+=1\n",
    "    \n",
    "    if get_index == -1:\n",
    "        if arrest:\n",
    "            district_list.append([district, 1, 0])\n",
    "        else:\n",
    "            district_list.append([district, 0, 1])\n",
    "\n",
    "\n",
    "get_district = pd.DataFrame(columns=['district','arrest','not_arrest'], data=district_list) \n",
    "get_district['Total'] = get_district.apply(lambda x: x.arrest+x.not_arrest, axis=1)\n",
    "\n",
    "sns.set(style=\"whitegrid\")\n",
    "\n",
    "# Initialize the matplotlib figure\n",
    "f, ax = plt.subplots(figsize=(10, 15))\n",
    "\n",
    "# Load the example car crash dataset\n",
    "\n",
    "# Plot the total crashes\n",
    "sns.set_color_codes(\"pastel\")\n",
    "sns.barplot(x=\"Total\", y=\"district\", data=get_district,\n",
    "            label=\"Total\", color=\"b\", orient='h')\n",
    "\n",
    "sns.set_color_codes(\"muted\")\n",
    "sns.barplot(x=\"arrest\", y=\"district\", data=get_district,\n",
    "            label=\"Arrest\", color=\"b\", orient='h')\n",
    "\n",
    "ax.legend(ncol=2, loc=\"lower right\", frameon=True)\n",
    "ax.set(ylabel=\"\",\n",
    "       xlabel=\"Total cases vs arrest\")\n",
    "sns.despine(left=True, bottom=True)"
   ]
  },
  {
   "cell_type": "markdown",
   "metadata": {},
   "source": [
    "> The district 4 has the place where the highest crime (37834) taken place among all the district\n",
    "\n",
    "> The plot represents that the arrest has not made for most of the crime in all the district"
   ]
  },
  {
   "cell_type": "markdown",
   "metadata": {},
   "source": [
    "The Police department has categorised the crime into several types and Let's see which type of crime has been taken place the more."
   ]
  },
  {
   "cell_type": "code",
   "execution_count": null,
   "metadata": {},
   "outputs": [],
   "source": [
    "get_type = []\n",
    "\n",
    "for i in range(0,crime_data.shape[0]):\n",
    "    primary = crime_data.iloc[i].primary_type\n",
    "    get_index = -1\n",
    "    \n",
    "    for j in range(0, len(get_type)):\n",
    "        if (get_type[j][0] == primary):\n",
    "            get_index = j\n",
    "            get_type[j][1]+=1\n",
    "    \n",
    "    if get_index == -1:\n",
    "        get_type.append([primary, 1])\n",
    "\n",
    "type_data = pd.DataFrame(columns=['Type', 'count'], data=get_type)\n",
    "fig1, ax1 = plt.subplots()\n",
    "fig1.set_size_inches(18.5, 10.5)\n",
    "ax1.pie(type_data['count'], labels=type_data['Type'], autopct='%1.1f%%',startangle=90)\n",
    "ax1.axis('equal')  # Equal aspect ratio ensures that pie is drawn as a circle.\n",
    "\n",
    "plt.show()"
   ]
  },
  {
   "cell_type": "markdown",
   "metadata": {},
   "source": [
    "> The Theft occured over 20.3% around Chicago whereas Battery crime has covered around 18.4% and the third is the 13.1% of criminal damages"
   ]
  },
  {
   "cell_type": "markdown",
   "metadata": {},
   "source": [
    "Let's compare the crime rates based on the time duration. The data is transformed into four categories based on the years: 2001-2005, 2006-2010, 2011-2015, 2016-2020 and we will compare the crime count based on the year gaps."
   ]
  },
  {
   "cell_type": "code",
   "execution_count": null,
   "metadata": {},
   "outputs": [],
   "source": [
    "crime_data['month'] = crime_data.apply(lambda x: x.date.strftime(\"%b\"), axis=1)"
   ]
  },
  {
   "cell_type": "code",
   "execution_count": null,
   "metadata": {},
   "outputs": [],
   "source": [
    "year_range = {\n",
    "    1: [2001,2005],\n",
    "    2: [2006,2010],\n",
    "    3: [2011,2015],\n",
    "    4: [2016,2020]\n",
    "}\n",
    "\n",
    "def get_year_ref(year):\n",
    "    for index, dic in enumerate(year_range):\n",
    "        gap = year_range[dic]\n",
    "        if year >= gap[0] and year <= gap[1]:\n",
    "            return dic\n",
    "        \n",
    "get_month_year = []\n",
    "\n",
    "for i in range(0,crime_data.shape[0]):\n",
    "    row = crime_data.iloc[i]\n",
    "    get_index = -1\n",
    "    get_year_index = get_year_ref(row.year)\n",
    "    \n",
    "    for j in range(0, len(get_month_year)):\n",
    "        if get_month_year[j][0] == row.month:\n",
    "            get_index = j\n",
    "            get_month_year[j][get_year_index]+=1\n",
    "    \n",
    "    if get_index == -1:\n",
    "        create_arr = [0] * 5\n",
    "        create_arr[0] = row.month\n",
    "        create_arr[get_year_index] = 1\n",
    "        get_month_year.append(create_arr)\n",
    "\n",
    "month_wise_crime = pd.DataFrame(columns=['month','2001-2005','2006-2010','2011-2015','2016-2020'], data=get_month_year) \n",
    "months = [\"Jan\", \"Feb\", \"Mar\", \"Apr\", \"May\", \"Jun\", \n",
    "          \"Jul\", \"Aug\", \"Sep\", \"Oct\", \"Nov\", \"Dec\"]\n",
    "month_wise_crime['month'] = pd.Categorical(month_wise_crime['month'], categories=months, ordered=True)\n",
    "month_wise_crime.sort_values('month', inplace=True)"
   ]
  },
  {
   "cell_type": "code",
   "execution_count": null,
   "metadata": {},
   "outputs": [],
   "source": [
    "rcParams['figure.figsize'] = 20, 10\n",
    "sns.barplot(data=month_wise_crime)"
   ]
  },
  {
   "cell_type": "markdown",
   "metadata": {},
   "source": [
    "The graph shows that the crime rates has been reducing over the years. From the graph, the crime count of 2001-2005 is around 16000 and it gets decreased to around 1500 in the year 2016-2020. This shows that the police department has been taken several actions to reduce and control the crime rates"
   ]
  },
  {
   "cell_type": "markdown",
   "metadata": {},
   "source": [
    "Let's plot the data which are categoried separtely based on the year with respect to the month. The month is extracted from the date column and stored in a separte column in the crime_data"
   ]
  },
  {
   "cell_type": "code",
   "execution_count": null,
   "metadata": {},
   "outputs": [],
   "source": [
    "fig = plt.figure()\n",
    "ax1 = fig.add_subplot(221)\n",
    "ax2 = fig.add_subplot(222)\n",
    "ax3 = fig.add_subplot(223)\n",
    "ax4 = fig.add_subplot(224)\n",
    "\n",
    "sns.barplot(x='month',y='2001-2005', data=month_wise_crime, ax=ax1)\n",
    "sns.barplot(x='month',y='2006-2010', data=month_wise_crime, ax=ax2)\n",
    "sns.barplot(x='month',y='2011-2015', data=month_wise_crime, ax=ax3)\n",
    "sns.barplot(x='month',y='2016-2020', data=month_wise_crime, ax=ax4)"
   ]
  },
  {
   "cell_type": "markdown",
   "metadata": {},
   "source": [
    "It is seen that March to August is the month in all the year category data where the crime rate are high when compared to the rest of the months. One possibility would be the temperature of the month when the crime taken place. The temperature of Chicago on the month March to August varies around 12c to 27c which says that the frequency of people in the public place are very high whereas the rest of the month, the temperature is below 10c, so the frequency of people in the public place are very low"
   ]
  },
  {
   "cell_type": "markdown",
   "metadata": {},
   "source": [
    "Let's plot the crime rate based on the district of Chicago. To make this visualization, the shape file of the district is used which is available in the **data.cityofchicago**"
   ]
  },
  {
   "cell_type": "code",
   "execution_count": null,
   "metadata": {},
   "outputs": [],
   "source": [
    "fig = plt.figure(figsize=(22, 12))\n",
    "ax = fig.add_subplot(111)\n",
    "cm = plt.get_cmap('Reds')\n",
    "\n",
    "district_val = pd.DataFrame(crime_data.district.value_counts().reset_index().values, columns=[\"district\", \"count\"])\n",
    "\n",
    "m = Basemap(projection='lcc', resolution='l', \n",
    "            lat_0=41.867779, lon_0=-87.638403,\n",
    "            width=0.06E6, height=0.06E6)\n",
    "m.drawmapboundary()\n",
    "\n",
    "m.readshapefile('../input/geo_export_4ea0a4fd-5ba9-4f3f-bb35-ccd16bfc2ff9', \n",
    "                    name='world', \n",
    "                    drawbounds=True, \n",
    "                    color='gray')\n",
    "\n",
    "for info,shape in zip(m.world_info, m.world):\n",
    "    color = '#dddddd'\n",
    "    for i in range(0,len(district_val)):\n",
    "        if str(math.ceil(district_val.iloc[i].district)) == info['dist_num']:\n",
    "            color =  cm(district_val.iloc[i]['count'] / district_val['count'].sum())\n",
    "            break\n",
    "\n",
    "\n",
    "    patches = [Polygon(np.array(shape), True)]\n",
    "    pc = PatchCollection(patches)\n",
    "    pc.set_facecolor(color)\n",
    "    ax.add_collection(pc)"
   ]
  },
  {
   "cell_type": "markdown",
   "metadata": {},
   "source": [
    "> Based on the heat trend in the map, it is said that the south of Chicago which is district 4 has the high crime rate and the second would be district 24 followed by district 8.\n",
    "\n",
    "> The lower crime rate in Chicage are the district 31, followed by district 20 and district 1"
   ]
  },
  {
   "cell_type": "markdown",
   "metadata": {},
   "source": [
    "**Note**\n",
    "There will be future improvements in this kernel based on the reviews and the suggestions given for this kernel."
   ]
  },
  {
   "cell_type": "code",
   "execution_count": null,
   "metadata": {},
   "outputs": [],
   "source": []
  }
 ],
 "metadata": {
  "kernelspec": {
   "display_name": "Python 3",
   "language": "python",
   "name": "python3"
  },
  "language_info": {
   "codemirror_mode": {
    "name": "ipython",
    "version": 3
   },
   "file_extension": ".py",
   "mimetype": "text/x-python",
   "name": "python",
   "nbconvert_exporter": "python",
   "pygments_lexer": "ipython3",
   "version": "3.6.9"
  }
 },
 "nbformat": 4,
 "nbformat_minor": 1
}
