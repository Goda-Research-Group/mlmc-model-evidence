{
 "cells": [
  {
   "cell_type": "markdown",
   "metadata": {},
   "source": [
    "# Random Effect Logistic Regression by MLMC Variational Bayes"
   ]
  },
  {
   "cell_type": "markdown",
   "metadata": {},
   "source": [
    "## Model Description"
   ]
  },
  {
   "cell_type": "markdown",
   "metadata": {},
   "source": [
    "##### Random Effect Models:\n",
    "For $n=1,2,...$,\n",
    "<br>&nbsp;&nbsp;&nbsp;&nbsp;\n",
    "$Z_n \\sim N(0,\\tau^2)$\n",
    "<br>&nbsp;&nbsp;&nbsp;&nbsp;\n",
    "$Y_{n,t} \\sim \\text{Bernoulli}\\left(\\frac{1}{1+\\exp(- Z_n - \\beta_0 - \\beta^T x_{n,t})}\\right)$\n",
    "<br>\n",
    "for $t=1, ..., T$. This model carries out dimentionality reduction of binary observations $y_{n,k}$'s. Here, the dimention of $\\beta$ and $x_{n,t}$ is $D$.<br>\n",
    "As variational approximation of the posterior $p(z_n|y_n)$, we use $q(z_n)= N(z_n;\\mu_n, \\sigma_n^2)$."
   ]
  },
  {
   "cell_type": "markdown",
   "metadata": {},
   "source": [
    "To constrain the parameter $\\tau^2>0$, we parametrize $\\tau^2$ as $\\tau^2 = \\mathrm{softplus}(\\alpha)$, where $\\mathrm{softplus}(x) := \\log(1+\\exp(x))>0$."
   ]
  },
  {
   "cell_type": "markdown",
   "metadata": {},
   "source": [
    "##### Possible Extension:\n",
    "\n",
    "By adding $\\bar x_n=\\frac{1}{T}\\sum_t x_{n,t}$ to the predictors as \n",
    "<br>&nbsp;&nbsp;&nbsp;&nbsp;\n",
    "$Y_{n,t} \\sim \\text{Bernoulli}\\left(\\frac{1}{1+\\exp(- Z_n - \\beta_0 - \\beta^T x_{n,t}- \\gamma\\bar x_n)}\\right)$,\n",
    "<br>\n",
    "we can obtain correlated random effect models."
   ]
  },
  {
   "cell_type": "markdown",
   "metadata": {},
   "source": [
    "#### We do not consider the use of Renyi divergences"
   ]
  },
  {
   "cell_type": "markdown",
   "metadata": {},
   "source": [
    "## Import Packages"
   ]
  },
  {
   "cell_type": "code",
   "execution_count": 1,
   "metadata": {},
   "outputs": [],
   "source": [
    "# Turn GPUs off\n",
    "import os\n",
    "#os.environ[\"CUDA_VISIBLE_DEVICES\"] = \"-1\""
   ]
  },
  {
   "cell_type": "code",
   "execution_count": 2,
   "metadata": {},
   "outputs": [],
   "source": [
    "import tensorflow as tf\n",
    "import tensorflow_probability as tfp\n",
    "import numpy as np\n",
    "import pandas as pd\n",
    "from scipy.stats import bernoulli, norm\n",
    "from matplotlib import pyplot as plt\n",
    "import time\n",
    "import datetime\n",
    "np.random.seed(0)"
   ]
  },
  {
   "cell_type": "code",
   "execution_count": 3,
   "metadata": {
    "scrolled": true
   },
   "outputs": [
    {
     "name": "stdout",
     "output_type": "stream",
     "text": [
      "WARNING:tensorflow:From <ipython-input-3-17bb7203622b>:1: is_gpu_available (from tensorflow.python.framework.test_util) is deprecated and will be removed in a future version.\n",
      "Instructions for updating:\n",
      "Use `tf.config.list_physical_devices('GPU')` instead.\n"
     ]
    },
    {
     "data": {
      "text/plain": [
       "True"
      ]
     },
     "execution_count": 3,
     "metadata": {},
     "output_type": "execute_result"
    }
   ],
   "source": [
    "tf.test.is_gpu_available()"
   ]
  },
  {
   "cell_type": "code",
   "execution_count": 4,
   "metadata": {
    "scrolled": true
   },
   "outputs": [],
   "source": [
    "import sys\n",
    "sys.path.append('../')\n",
    "from src.models.random_effect_logistic_regression import random_effect_logistic_regression as RELR\n",
    "from src.models.random_effect_logistic_regression import bayesian_random_effect_logistic_regression as BRELR"
   ]
  },
  {
   "cell_type": "markdown",
   "metadata": {},
   "source": [
    "## Utilities"
   ]
  },
  {
   "cell_type": "code",
   "execution_count": 5,
   "metadata": {},
   "outputs": [],
   "source": [
    "sigmoid = lambda x: 1/(1+np.exp(-x))\n",
    "softplus = lambda x: np.log(1+np.exp(x))\n",
    "\n",
    "def timestamp():\n",
    "    now = datetime.datetime.now()\n",
    "    return now.strftime(\"%Y%m%d%H%M%S\")  "
   ]
  },
  {
   "cell_type": "markdown",
   "metadata": {},
   "source": [
    "## Generate Toy Dataset"
   ]
  },
  {
   "cell_type": "code",
   "execution_count": 6,
   "metadata": {},
   "outputs": [],
   "source": [
    "N = 1000\n",
    "D = 3\n",
    "T = 2"
   ]
  },
  {
   "cell_type": "code",
   "execution_count": 7,
   "metadata": {},
   "outputs": [],
   "source": [
    "# Paramters\n",
    "alpha = np.float64(1.)\n",
    "beta0 = np.float64(0.)\n",
    "beta  = np.array([0.25, 0.50, 0.75]) #np.random.randn(D) / np.sqrt(D)\n",
    "param0 = {\n",
    "    'alpha': alpha,\n",
    "    'beta0': beta0,\n",
    "    'beta': beta\n",
    "}"
   ]
  },
  {
   "cell_type": "code",
   "execution_count": 8,
   "metadata": {},
   "outputs": [],
   "source": [
    "# We assume that we have infinite amount of data.\n",
    "# Thus, generator of the data is implemented.\n",
    "def generate_data(N, D, T, beta0, beta, alpha):\n",
    "    \"\"\"\n",
    "    Genarate N samples of data from the model with parameter [beta0, beta, alpha]. \n",
    "    Returns:\n",
    "    x: 3-d array of size [N, T, D]\n",
    "    y: 2-d array of size [N, T]\n",
    "    z: 1-d array of size [n_MC, N]\n",
    "    \"\"\"\n",
    "\n",
    "    z = np.random.randn(N) * softplus(alpha)**(1/2.)\n",
    "    x = np.random.randn(N*T*D).reshape([N,T,D])\n",
    "    y = bernoulli(p=sigmoid(beta0+x@beta+z.reshape([N,1]))).rvs()\n",
    "    return x,y,z"
   ]
  },
  {
   "cell_type": "markdown",
   "metadata": {},
   "source": [
    "To constrain the parameter $\\tau^2>0$, we parametrize $\\tau^2$ as $\\tau^2 = \\mathrm{softplus}(\\alpha)$, where $\\mathrm{softplus}(x) := \\log(1+\\exp(x))>0$."
   ]
  },
  {
   "cell_type": "markdown",
   "metadata": {},
   "source": [
    "## Sigmoid Normal Integral Approximation of Evidence\n",
    "\n",
    "Ref: Barber Bishop(1998), PRML(2006)"
   ]
  },
  {
   "cell_type": "markdown",
   "metadata": {},
   "source": [
    "Sigmoid normal integral approximation is:\n",
    "$$\\int \\sigma(z + \\mu)N(z;0,\\tau^2)\\mathrm{d}z \n",
    "\\approx \\sigma(\\kappa \\mu) \\ \\ \\ \n",
    "\\text{where}\\ \\ \\ \n",
    "\\kappa = \\left(\\frac{1}{1 + \\pi\\tau^2/8}\\right)^{\\frac{1}{2}}$$\n",
    "This is applied to the probability of y: \n",
    "$$Pr(Y=1|X=x) = \\int \\sigma(z + \\beta_0 + \\beta^T x)N(z;0,\\tau^2)\\mathrm{d}z,$$\n",
    "where $\\tau^2 = \\mathrm{softmax}(\\alpha)$."
   ]
  },
  {
   "cell_type": "markdown",
   "metadata": {},
   "source": [
    "## Laplace Approximation of Posterior"
   ]
  },
  {
   "cell_type": "markdown",
   "metadata": {},
   "source": [
    "Laplace approximation of $p(z|x,y)$ is:\n",
    "$$p(z|x,y) \\approx \\exp\\left[\\frac{1}{2}\\left(\\frac{\\mathrm{d}^2}{\\mathrm{d}z^2}\\log p(\\hat z|x,y) \\right)(z - \\hat z)^2 + \\text{const.}\\right] = N\\left(z;\\hat z, \\left(-\\frac{\\mathrm{d}^2}{\\mathrm{d}z^2}\\log p(\\hat z|x,y) \\right)^{-1}\\right),$$\n",
    "where $\\hat z$ is the maximum a postriori (MAP), so that $\\hat z = \\arg\\max_{z}\\log p(z|x,y) = \\arg\\max_{z}\\log p(x,y|z)p(z)$"
   ]
  },
  {
   "cell_type": "markdown",
   "metadata": {},
   "source": [
    "## IW-ELBO approximation of Evidence"
   ]
  },
  {
   "cell_type": "markdown",
   "metadata": {},
   "source": [
    "Importance weighted evidence lower bound (IW-ELBO) is an approximation of the evidence, and its Monte Carlo estimator is defined as:\n",
    "$$\\mathrm{IW}\\text{-}\\mathrm{ELBO}(x,z_{1:K}):=\\frac{1}{N}\\sum_{n=1}^{N}\\log \\frac{1}{K}\\sum_{k=1}^{K}\\left(\\frac{p(x_n,z_{nk})}{q(z_{nk};x_n)}\\right),$$\n",
    "where $z_{nk}$ is sampled as $z_{nk}\\sim q(z;x_n)$."
   ]
  },
  {
   "cell_type": "markdown",
   "metadata": {},
   "source": [
    "## MLMC"
   ]
  },
  {
   "cell_type": "markdown",
   "metadata": {},
   "source": [
    "## SUMO"
   ]
  },
  {
   "cell_type": "markdown",
   "metadata": {},
   "source": [
    "#### Variance Analysis of SUMO:\n",
    "We assume that $\\mathbb{P}(k\\leq\\mathcal{K})=\\frac{1}{k}$ for $\\mathcal{K}\\leq K_{\\text{max}}$, and accordingly, $\\mathbb{P}(k=\\mathcal{K}<K_{\\text{max}})=\\frac{1}{k(k+1)}$. Also, we know convergence rate of $\\Delta_k:=\\mathrm{IWELBO(x,z_{1:k})} - \\mathrm{IWELBO(x,z_{1:k-1})}$ is as following:\n",
    "\n",
    "- $\\mathrm{E}|\\Delta_k| = \\mathcal{O}(1/k)$\n",
    "- $\\mathrm{E}|\\Delta_k|^2 = \\mathcal{O}(1/k^2) \\geq \\mathrm{Var}[\\Delta_k]$\n",
    "- $\\mathrm{E}[\\Delta_k] = \\mathcal{O}(1/k^2)$　　　←（∵$\\sum_{k=K+1}^{\\infty}\\mathrm{E}[\\Delta_k] = \\mathcal{O}(\\frac{1}{K})$ and $0\\leq\\mathrm{E}[\\Delta_k]$ for all $k$.）"
   ]
  },
  {
   "cell_type": "markdown",
   "metadata": {},
   "source": [
    "Using above properties, we can analyze the order of magnitude of the variance of SUMO as:\n",
    "\\begin{align}\n",
    "\\mathrm{Var}[SUMO_{\\leq K_{\\text{max}}}]\n",
    "&= \\mathrm{Var}_{\\mathcal{K}, \\Delta_{1:K_{\\text{max}}}} \n",
    "\\left( \\sum_{k=1}^{K_{\\text{max}}} \\frac { \\mathbb{1}_{(k\\leq\\mathcal{K})} } \n",
    "{ \\mathbb{P}(k\\leq\\mathcal{K}) } \\Delta_k \\right) \\\\\n",
    "&= \\mathrm{E}_{\\mathcal{K}}\\mathrm{Var}_{\\Delta_{1:K_{\\text{max}}}}\n",
    "\\left( \\sum_{k=1}^{\\mathcal{K}} k \\Delta_k | \\mathcal {K}\\right)\n",
    " + \\mathrm{Var}_{\\mathcal{K}}\\mathrm{E}_{\\Delta_{1:K_{\\text{max}}}}\n",
    "\\left( \\sum_{k=1}^{\\mathcal{K}} k \\Delta_k | \\mathcal {K}\\right) \\\\\n",
    "&= \\mathrm{E}_{\\mathcal{K}}\\sum_{k=1}^{\\mathcal{K}} k^2 \\mathrm{Var}_{\\Delta_{1:K_{\\text{max}}}}\n",
    "\\left( \\Delta_k | \\mathcal {K}\\right)\n",
    " + \\mathrm{Var}_{\\mathcal{K}} \\sum_{k=1}^{\\mathcal{K}} k \\mathrm{E}_{\\Delta_{1:K_{\\text{max}}}}\n",
    "\\left( \\Delta_k | \\mathcal {K}\\right) \\\\\n",
    "&= \\mathrm{E}_{\\mathcal{K}}\\sum_{k=1}^{\\mathcal{K}} k^2 \\mathcal{O}(1/k^2)\n",
    " + \\mathrm{Var}_{\\mathcal{K}} \\sum_{k=1}^{\\mathcal{K}} k \\mathcal{O}(1/k^2) \\\\\n",
    "&= \\mathrm{E}_{\\mathcal{K}} \\mathcal{O}(\\mathcal{K})\n",
    " + \\mathrm{Var}_{\\mathcal{K}}\\mathcal{O}(\\log \\mathcal{K}) \\\\\n",
    "&= \\mathcal{O}(\\log K_{\\text{max}}) + \\text{const.}\n",
    "\\end{align}"
   ]
  },
  {
   "cell_type": "markdown",
   "metadata": {},
   "source": [
    "Note that the expected complexity of SUMO is $\\mathrm{E}[\\mathcal{\\mathcal{K}}] = \\mathcal{O}(\\log K_{\\text{max}})$. Therefore, the \"variance per reciprocal complexity\" for SUMO is $\\mathcal{O}\\left((\\log K_{\\text{max}})^2\\right)$. Those for NMC and MLMC are $\\mathcal{O}(K_{\\text{max}})$ and $\\mathcal{O}(1)$ respectively."
   ]
  },
  {
   "cell_type": "markdown",
   "metadata": {},
   "source": [
    "## Make sure that implementations are consistent"
   ]
  },
  {
   "cell_type": "code",
   "execution_count": 19,
   "metadata": {
    "scrolled": false
   },
   "outputs": [],
   "source": [
    "x,y,_ = generate_data(N=10000, D=3, T=2, beta0=beta0, beta=beta, alpha=alpha)\n",
    "model = RELR(alpha, beta0, beta)\n",
    "q_param = model.laplace_approx(x, y)# q_params are mu and sigma of q(z|x,y)"
   ]
  },
  {
   "cell_type": "code",
   "execution_count": 20,
   "metadata": {
    "scrolled": true
   },
   "outputs": [
    {
     "data": {
      "text/plain": [
       "<tf.Tensor: shape=(), dtype=float64, numpy=-1.2660998714450986>"
      ]
     },
     "execution_count": 20,
     "metadata": {},
     "output_type": "execute_result"
    }
   ],
   "source": [
    "model.sigmoid_normal_likelihood(x,y)"
   ]
  },
  {
   "cell_type": "code",
   "execution_count": 21,
   "metadata": {
    "scrolled": false
   },
   "outputs": [],
   "source": [
    "signorm_likelihood = model.sigmoid_normal_likelihood(x, y).numpy()\n",
    "elbo_likelihood = model.IWELBO(x, y, n_MC=1).numpy()\n",
    "iwelbo_likelihood = model.IWELBO(x, y, n_MC=64).numpy()\n",
    "iwelbo_likelihood_mlmc = model.IWELBO_MLMC(x, y, max_level=6, w0=0.9, randomize=False).numpy()\n",
    "iwelbo_likelihood_randmlmc = model.IWELBO_MLMC(x, y, max_level=6, w0=0.9, randomize=True).numpy()\n",
    "iwelbo_likelihood_sumo = model.IWELBO_SUMO(x, y, K_max=10000).numpy()"
   ]
  },
  {
   "cell_type": "code",
   "execution_count": 17,
   "metadata": {},
   "outputs": [
    {
     "data": {
      "text/plain": [
       "(-1.5052238505286124, -1.4888339347512791, -1.4920839055360633)"
      ]
     },
     "execution_count": 17,
     "metadata": {},
     "output_type": "execute_result"
    }
   ],
   "source": [
    "signorm_likelihood, elbo_likelihood, iwelbo_likelihood"
   ]
  },
  {
   "cell_type": "code",
   "execution_count": 18,
   "metadata": {},
   "outputs": [
    {
     "data": {
      "text/plain": [
       "(-1.4909714271408958, -1.4830200214643448, -1.4706962448102772)"
      ]
     },
     "execution_count": 18,
     "metadata": {},
     "output_type": "execute_result"
    }
   ],
   "source": [
    "iwelbo_likelihood_mlmc, iwelbo_likelihood_randmlmc, iwelbo_likelihood_sumo "
   ]
  },
  {
   "cell_type": "code",
   "execution_count": 41,
   "metadata": {},
   "outputs": [
    {
     "name": "stdout",
     "output_type": "stream",
     "text": [
      "#iter: 0,\tloss: 1.3769848599921761\n",
      "#iter: 200,\tloss: 1.258286990687361\n",
      "#iter: 400,\tloss: 1.2322511901488136\n",
      "#iter: 600,\tloss: 1.2420620156603126\n",
      "#iter: 800,\tloss: 1.2525548976327252\n",
      "#iter: 1000,\tloss: 1.2374292298513128\n"
     ]
    }
   ],
   "source": [
    "# Gradient Descent\n",
    "N_total = 10000\n",
    "B = 1000 # batch size\n",
    "model = RELR(D=D)\n",
    "optimizer = tf.keras.optimizers.Adam(0.005)\n",
    "\n",
    "params = [\n",
    "    model.beta0, \n",
    "    model.beta,\n",
    "    model.alpha\n",
    "]\n",
    "X,Y,_ = generate_data(N_total, D, T, beta0, beta, alpha)\n",
    "\n",
    "for t in range(1001):\n",
    "\n",
    "    batch = np.random.choice(np.arange(N_total), B)\n",
    "    x = X[batch]\n",
    "    y = Y[batch]\n",
    "    with tf.GradientTape() as g:\n",
    "        g.watch(params)\n",
    "        # loss = - model.IWELBO_MLMC(x, y, max_level=9, w0=0.9, randomize=False)\n",
    "        loss = - model.IWELBO(x, y, n_MC=512)\n",
    "    dparams = g.gradient(loss, params)\n",
    "    optimizer.apply_gradients(zip(dparams, params))\n",
    "    if t%200==0:\n",
    "        print(\"#iter: {},\\tloss: {}\".format(t, loss.numpy()))"
   ]
  },
  {
   "cell_type": "code",
   "execution_count": 42,
   "metadata": {
    "scrolled": false
   },
   "outputs": [],
   "source": [
    "# softplus(model.inv_sp_stddev_beta.numpy()), softplus(model.inv_sp_stddev_beta0.numpy())"
   ]
  },
  {
   "cell_type": "code",
   "execution_count": 43,
   "metadata": {
    "scrolled": true
   },
   "outputs": [
    {
     "data": {
      "text/plain": [
       "<tf.Variable 'Variable:0' shape=(3,) dtype=float64, numpy=array([0.26991996, 0.52622521, 0.79936915])>"
      ]
     },
     "execution_count": 43,
     "metadata": {},
     "output_type": "execute_result"
    }
   ],
   "source": [
    "model.beta"
   ]
  },
  {
   "cell_type": "markdown",
   "metadata": {},
   "source": [
    "## Maximum Likelihood by Different Approximation Methods"
   ]
  },
  {
   "cell_type": "code",
   "execution_count": 23,
   "metadata": {
    "jupyter": {
     "source_hidden": true
    }
   },
   "outputs": [],
   "source": [
    "def get_mlmc_cost(N, max_level, b, w0):\n",
    "    # compute the cost of MLMC estimation \n",
    "    # when the size of x (and that of y) is N\n",
    "    if max_level==0:\n",
    "        levels = np.array([0])\n",
    "        weights = np.array([1.])\n",
    "    else:\n",
    "        weights = 2.**(-(b+1)/2*np.arange(max_level))\n",
    "        weights /= sum(weights)\n",
    "        weights = np.concatenate([[w0], (1-w0)*weights])\n",
    "        levels = np.arange(max_level+1)\n",
    "    cost = np.ceil(N * weights[0])\\\n",
    "            + N * sum( np.ceil(weights[1:] * (2**levels[1:] + 2**(levels[1:]-1))) )\n",
    "    return cost"
   ]
  },
  {
   "cell_type": "code",
   "execution_count": 31,
   "metadata": {
    "jupyter": {
     "outputs_hidden": true
    }
   },
   "outputs": [
    {
     "name": "stdout",
     "output_type": "stream",
     "text": [
      "training signorm.... #iter:0 \n",
      "#iter: 0,\tloss: 1.3862943611198906\n",
      "training signorm.... #iter:1 \n",
      "training signorm.... #iter:2 \n",
      "training signorm.... #iter:3 \n",
      "training signorm.... #iter:4 \n",
      "training signorm.... #iter:5 \n",
      "training signorm.... #iter:6 \n",
      "training signorm.... #iter:7 \n",
      "training signorm.... #iter:8 \n",
      "training signorm.... #iter:9 \n",
      "\n",
      "training elbo.... #iter:0 \n",
      "#iter: 0,\tloss: 1.3516018860376957\n",
      "training elbo.... #iter:1 \n",
      "training elbo.... #iter:2 \n",
      "training elbo.... #iter:3 \n",
      "training elbo.... #iter:4 \n",
      "training elbo.... #iter:5 \n",
      "training elbo.... #iter:6 \n",
      "training elbo.... #iter:7 \n",
      "training elbo.... #iter:8 \n",
      "training elbo.... #iter:9 \n",
      "\n",
      "training iwelbo8.... #iter:0 \n",
      "#iter: 0,\tloss: 1.336018206010259\n",
      "training iwelbo8.... #iter:1 \n",
      "training iwelbo8.... #iter:2 \n",
      "training iwelbo8.... #iter:3 \n",
      "training iwelbo8.... #iter:4 \n",
      "training iwelbo8.... #iter:5 \n",
      "training iwelbo8.... #iter:6 \n",
      "training iwelbo8.... #iter:7 \n",
      "training iwelbo8.... #iter:8 \n",
      "training iwelbo8.... #iter:9 \n",
      "\n",
      "training iwelbo64.... #iter:0 \n",
      "#iter: 0,\tloss: 1.3248001469565087\n",
      "training iwelbo64.... #iter:1 \n",
      "training iwelbo64.... #iter:2 \n",
      "training iwelbo64.... #iter:3 \n",
      "training iwelbo64.... #iter:4 \n",
      "training iwelbo64.... #iter:5 \n",
      "training iwelbo64.... #iter:6 \n",
      "training iwelbo64.... #iter:7 \n",
      "training iwelbo64.... #iter:8 \n",
      "training iwelbo64.... #iter:9 \n",
      "\n",
      "training iwelbo512.... #iter:0 \n",
      "#iter: 0,\tloss: 1.309564498536166\n",
      "training iwelbo512.... #iter:1 \n",
      "training iwelbo512.... #iter:2 \n",
      "training iwelbo512.... #iter:3 \n",
      "training iwelbo512.... #iter:4 \n",
      "training iwelbo512.... #iter:5 \n",
      "training iwelbo512.... #iter:6 \n",
      "training iwelbo512.... #iter:7 \n",
      "training iwelbo512.... #iter:8 \n",
      "training iwelbo512.... #iter:9 \n",
      "\n",
      "training iwelbo512_mlmc.... #iter:0 \n",
      "#iter: 0,\tloss: 1.2997727837922184\n",
      "training iwelbo512_mlmc.... #iter:1 \n",
      "training iwelbo512_mlmc.... #iter:2 \n",
      "training iwelbo512_mlmc.... #iter:3 \n",
      "training iwelbo512_mlmc.... #iter:4 \n",
      "training iwelbo512_mlmc.... #iter:5 \n",
      "training iwelbo512_mlmc.... #iter:6 \n",
      "training iwelbo512_mlmc.... #iter:7 \n",
      "training iwelbo512_mlmc.... #iter:8 \n",
      "training iwelbo512_mlmc.... #iter:9 \n",
      "\n",
      "training iwelbo512_randmlmc.... #iter:0 \n",
      "#iter: 0,\tloss: 1.2887666876829111\n",
      "training iwelbo512_randmlmc.... #iter:1 \n",
      "training iwelbo512_randmlmc.... #iter:2 \n",
      "training iwelbo512_randmlmc.... #iter:3 \n",
      "training iwelbo512_randmlmc.... #iter:4 \n",
      "training iwelbo512_randmlmc.... #iter:5 \n",
      "training iwelbo512_randmlmc.... #iter:6 \n",
      "training iwelbo512_randmlmc.... #iter:7 \n",
      "training iwelbo512_randmlmc.... #iter:8 \n",
      "training iwelbo512_randmlmc.... #iter:9 \n",
      "\n",
      "training iwelbo512_sumo.... #iter:0 \n",
      "#iter: 0,\tloss: 1.2875462077405613\n",
      "training iwelbo512_sumo.... #iter:1 \n",
      "training iwelbo512_sumo.... #iter:2 \n",
      "training iwelbo512_sumo.... #iter:3 \n",
      "training iwelbo512_sumo.... #iter:4 \n",
      "training iwelbo512_sumo.... #iter:5 \n",
      "training iwelbo512_sumo.... #iter:6 \n",
      "training iwelbo512_sumo.... #iter:7 \n",
      "training iwelbo512_sumo.... #iter:8 \n",
      "training iwelbo512_sumo.... #iter:9 \n",
      "\n"
     ]
    }
   ],
   "source": [
    "objectives = {\n",
    "    \"signorm\":   lambda x, y: model.sigmoid_normal_likelihood(x, y),\n",
    "    \"elbo\":      lambda x, y: model.IWELBO(x, y, n_MC=1),\n",
    "    \"iwelbo8\":   lambda x, y: model.IWELBO(x, y, n_MC=8),\n",
    "    \"iwelbo64\":  lambda x, y: model.IWELBO(x, y, n_MC=64),\n",
    "    \"iwelbo512\": lambda x, y: model.IWELBO(x, y, n_MC=512),\n",
    "    \"iwelbo512_mlmc\": lambda x, y: model.IWELBO_MLMC(x, y, max_level=6, w0=0.9, randomize=False),\n",
    "    \"iwelbo512_randmlmc\": lambda x, y: model.IWELBO_MLMC(x, y, max_level=6, w0=0.9, randomize=True),\n",
    "    \"iwelbo512_sumo\": lambda x, y: model.IWELBO_SUMO(x, y, K_max=512)\n",
    "}\n",
    "\n",
    "N_total = 10000\n",
    "B,T,D = (1000, 2, 3) if tf.test.is_gpu_available() else (200, 2, 3)\n",
    "model = RELR(D=D)\n",
    "optimizer = tf.keras.optimizers.Adam(0.005)\n",
    "params = [\n",
    "    model.beta0, \n",
    "    model.beta,\n",
    "    model.alpha\n",
    "]\n",
    "X,Y,_ = generate_data(N_total, D, T, beta0, beta, alpha)\n",
    "\n",
    "n_repeat = 10\n",
    "params_repeated = {name:[] for name in objectives.keys()}\n",
    "\n",
    "for name, obj in objectives.items():\n",
    "    alpha_s = []\n",
    "    beta0_s = []\n",
    "    beta_s = []\n",
    "    for i in range(n_repeat):\n",
    "        print(\"training {}.... #iter:{} \".format(name,i))\n",
    "\n",
    "        # Training\n",
    "        for t in range(1):\n",
    "\n",
    "            # Balance the cost of mlmc and nmc when level=9 (n_MC=512)\n",
    "            # by changing the batch size adoptively\n",
    "            if 'mlmc' in name:\n",
    "                cost_nmc  = B * 2**9\n",
    "                cost_mlmc = get_mlmc_cost(B, max_level=9, b=1.8, w0=0.9)\n",
    "                B_mlmc = np.math.ceil(B * (cost_nmc / cost_mlmc))\n",
    "                batch = np.random.choice(np.arange(N_total), B_mlmc)\n",
    "            else:\n",
    "                batch = np.random.choice(np.arange(N_total), B)\n",
    "            x = X[batch]\n",
    "            y = Y[batch]\n",
    "            \n",
    "            # Train step\n",
    "            with tf.GradientTape() as g:\n",
    "                g.watch(params)\n",
    "                loss = - obj(x, y)\n",
    "            dparams = g.gradient(loss, params)\n",
    "            optimizer.apply_gradients(zip(dparams, params))\n",
    "            \n",
    "            if t%200==0 and i == 0:\n",
    "                print(\"#iter: {},\\tloss: {}\".format(t, loss.numpy()))\n",
    "        \n",
    "        alpha_s.append(model.alpha.numpy())\n",
    "        beta0_s.append(model.beta0.numpy())\n",
    "        beta_s.append(model.beta.numpy())\n",
    "    print()\n",
    "    params_repeated[name] = {\n",
    "            'alpha': np.array(alpha_s),\n",
    "            'beta0': np.array(beta0_s),\n",
    "            'beta': np.array(beta_s)\n",
    "    }"
   ]
  },
  {
   "cell_type": "code",
   "execution_count": 32,
   "metadata": {
    "scrolled": true
   },
   "outputs": [],
   "source": [
    "def expand(key, val):\n",
    "    # expand {\"name\":array([1,2,3,4,5])}\n",
    "    # into {\"name1\":1, \"name2\":2, ..., \"name5\":5}\n",
    "    if type(val)==np.ndarray:\n",
    "        return {key+str(i+1): x for i,x in enumerate(val)} \n",
    "    else:\n",
    "        return {key:val} \n",
    "\n",
    "def expand_param(param):\n",
    "    expanded_param = {}\n",
    "    for key, val in param.items():\n",
    "        expanded_param.update(expand(key,val))\n",
    "    return expanded_param"
   ]
  },
  {
   "cell_type": "code",
   "execution_count": 33,
   "metadata": {
    "jupyter": {
     "source_hidden": true
    }
   },
   "outputs": [],
   "source": [
    "params = {'ground_truth': expand_param(param0)}\n",
    "params['ground_truth'].update({'MSE':0})\n",
    "for name in objectives.keys():\n",
    "    param_repeated = params_repeated[name]\n",
    "    param_mean   = expand_param({name: array.mean(axis=0) for name, array in  param_repeated.items()})\n",
    "    param_var = expand_param({name: array.std(axis=0) for name, array in  param_repeated.items()})\n",
    "    param = {name_:'{:.5f} ± {:.5f}'.format(mean,var**(1/2.)) \n",
    "             for name_, mean, var \n",
    "             in zip( param_mean.keys(), param_mean.values(), param_var.values() )}\n",
    "    error = [var+(mean-true_mean)**2 \n",
    "             for var, mean, true_mean \n",
    "             in zip( param_var.values(), param_mean.values(), params['ground_truth'].values() )]\n",
    "    MSE = sum(error)\n",
    "    param.update({'MSE':MSE})\n",
    "    params.update({name :param})"
   ]
  },
  {
   "cell_type": "code",
   "execution_count": 34,
   "metadata": {
    "jupyter": {
     "source_hidden": true
    }
   },
   "outputs": [
    {
     "data": {
      "text/html": [
       "<div>\n",
       "<style scoped>\n",
       "    .dataframe tbody tr th:only-of-type {\n",
       "        vertical-align: middle;\n",
       "    }\n",
       "\n",
       "    .dataframe tbody tr th {\n",
       "        vertical-align: top;\n",
       "    }\n",
       "\n",
       "    .dataframe thead th {\n",
       "        text-align: right;\n",
       "    }\n",
       "</style>\n",
       "<table border=\"1\" class=\"dataframe\">\n",
       "  <thead>\n",
       "    <tr style=\"text-align: right;\">\n",
       "      <th></th>\n",
       "      <th>alpha</th>\n",
       "      <th>beta0</th>\n",
       "      <th>beta1</th>\n",
       "      <th>beta2</th>\n",
       "      <th>beta3</th>\n",
       "      <th>MSE</th>\n",
       "    </tr>\n",
       "  </thead>\n",
       "  <tbody>\n",
       "    <tr>\n",
       "      <th>ground_truth</th>\n",
       "      <td>1</td>\n",
       "      <td>0</td>\n",
       "      <td>0.25</td>\n",
       "      <td>0.5</td>\n",
       "      <td>0.75</td>\n",
       "      <td>0</td>\n",
       "    </tr>\n",
       "    <tr>\n",
       "      <th>signorm</th>\n",
       "      <td>-0.01941 ± 0.11440</td>\n",
       "      <td>-0.01200 ± 0.06824</td>\n",
       "      <td>0.02701 ± 0.11790</td>\n",
       "      <td>0.02761 ± 0.12020</td>\n",
       "      <td>0.02736 ± 0.11929</td>\n",
       "      <td>1.89476</td>\n",
       "    </tr>\n",
       "    <tr>\n",
       "      <th>elbo</th>\n",
       "      <td>-0.05768 ± 0.09088</td>\n",
       "      <td>-0.02180 ± 0.03430</td>\n",
       "      <td>0.07304 ± 0.11027</td>\n",
       "      <td>0.07719 ± 0.11806</td>\n",
       "      <td>0.07658 ± 0.11857</td>\n",
       "      <td>1.83232</td>\n",
       "    </tr>\n",
       "    <tr>\n",
       "      <th>iwelbo8</th>\n",
       "      <td>-0.07760 ± 0.06011</td>\n",
       "      <td>-0.02837 ± 0.04880</td>\n",
       "      <td>0.11132 ± 0.10035</td>\n",
       "      <td>0.12414 ± 0.11499</td>\n",
       "      <td>0.12492 ± 0.11613</td>\n",
       "      <td>1.75602</td>\n",
       "    </tr>\n",
       "    <tr>\n",
       "      <th>iwelbo64</th>\n",
       "      <td>-0.08803 ± 0.04836</td>\n",
       "      <td>-0.03836 ± 0.05400</td>\n",
       "      <td>0.14055 ± 0.08351</td>\n",
       "      <td>0.16816 ± 0.11009</td>\n",
       "      <td>0.17089 ± 0.11365</td>\n",
       "      <td>1.68002</td>\n",
       "    </tr>\n",
       "    <tr>\n",
       "      <th>iwelbo512</th>\n",
       "      <td>-0.09417 ± 0.03748</td>\n",
       "      <td>-0.04678 ± 0.04239</td>\n",
       "      <td>0.16481 ± 0.07688</td>\n",
       "      <td>0.20856 ± 0.10416</td>\n",
       "      <td>0.21480 ± 0.11110</td>\n",
       "      <td>1.61034</td>\n",
       "    </tr>\n",
       "    <tr>\n",
       "      <th>iwelbo512_mlmc</th>\n",
       "      <td>-0.10038 ± 0.04676</td>\n",
       "      <td>-0.03685 ± 0.05074</td>\n",
       "      <td>0.17983 ± 0.05847</td>\n",
       "      <td>0.24448 ± 0.09871</td>\n",
       "      <td>0.25664 ± 0.10791</td>\n",
       "      <td>1.55538</td>\n",
       "    </tr>\n",
       "    <tr>\n",
       "      <th>iwelbo512_randmlmc</th>\n",
       "      <td>-0.10445 ± 0.01737</td>\n",
       "      <td>-0.03430 ± 0.02893</td>\n",
       "      <td>0.18937 ± 0.04296</td>\n",
       "      <td>0.27614 ± 0.09218</td>\n",
       "      <td>0.29582 ± 0.10423</td>\n",
       "      <td>1.50341</td>\n",
       "    </tr>\n",
       "    <tr>\n",
       "      <th>iwelbo512_sumo</th>\n",
       "      <td>-0.09233 ± 0.09863</td>\n",
       "      <td>-0.03796 ± 0.03214</td>\n",
       "      <td>0.19336 ± 0.02974</td>\n",
       "      <td>0.30287 ± 0.08343</td>\n",
       "      <td>0.33187 ± 0.09897</td>\n",
       "      <td>1.43994</td>\n",
       "    </tr>\n",
       "  </tbody>\n",
       "</table>\n",
       "</div>"
      ],
      "text/plain": [
       "                                 alpha               beta0              beta1  \\\n",
       "ground_truth                         1                   0               0.25   \n",
       "signorm             -0.01941 ± 0.11440  -0.01200 ± 0.06824  0.02701 ± 0.11790   \n",
       "elbo                -0.05768 ± 0.09088  -0.02180 ± 0.03430  0.07304 ± 0.11027   \n",
       "iwelbo8             -0.07760 ± 0.06011  -0.02837 ± 0.04880  0.11132 ± 0.10035   \n",
       "iwelbo64            -0.08803 ± 0.04836  -0.03836 ± 0.05400  0.14055 ± 0.08351   \n",
       "iwelbo512           -0.09417 ± 0.03748  -0.04678 ± 0.04239  0.16481 ± 0.07688   \n",
       "iwelbo512_mlmc      -0.10038 ± 0.04676  -0.03685 ± 0.05074  0.17983 ± 0.05847   \n",
       "iwelbo512_randmlmc  -0.10445 ± 0.01737  -0.03430 ± 0.02893  0.18937 ± 0.04296   \n",
       "iwelbo512_sumo      -0.09233 ± 0.09863  -0.03796 ± 0.03214  0.19336 ± 0.02974   \n",
       "\n",
       "                                beta2              beta3      MSE  \n",
       "ground_truth                      0.5               0.75        0  \n",
       "signorm             0.02761 ± 0.12020  0.02736 ± 0.11929  1.89476  \n",
       "elbo                0.07719 ± 0.11806  0.07658 ± 0.11857  1.83232  \n",
       "iwelbo8             0.12414 ± 0.11499  0.12492 ± 0.11613  1.75602  \n",
       "iwelbo64            0.16816 ± 0.11009  0.17089 ± 0.11365  1.68002  \n",
       "iwelbo512           0.20856 ± 0.10416  0.21480 ± 0.11110  1.61034  \n",
       "iwelbo512_mlmc      0.24448 ± 0.09871  0.25664 ± 0.10791  1.55538  \n",
       "iwelbo512_randmlmc  0.27614 ± 0.09218  0.29582 ± 0.10423  1.50341  \n",
       "iwelbo512_sumo      0.30287 ± 0.08343  0.33187 ± 0.09897  1.43994  "
      ]
     },
     "execution_count": 34,
     "metadata": {},
     "output_type": "execute_result"
    }
   ],
   "source": [
    "data = pd.DataFrame(params).T\n",
    "data"
   ]
  },
  {
   "cell_type": "code",
   "execution_count": null,
   "metadata": {
    "jupyter": {
     "source_hidden": true
    }
   },
   "outputs": [],
   "source": [
    "data.to_csv('../out/random_effect_logistic_regression/MLE_error_{}.csv'.format(timestamp()))"
   ]
  },
  {
   "cell_type": "markdown",
   "metadata": {},
   "source": [
    "#### Bottom Line: \n",
    "- IWELBO with large number of inner MC samples gives better estiamte than ELBO or sigmoid normal integral approximation, even for this simple model. \n",
    "- MLMC is more effective than nested MC when used for maximum likelihood estimation."
   ]
  },
  {
   "cell_type": "markdown",
   "metadata": {},
   "source": [
    "## MLMC codition check for objective"
   ]
  },
  {
   "cell_type": "code",
   "execution_count": 49,
   "metadata": {},
   "outputs": [],
   "source": [
    "def conv_stats_dIWELBO(level, model, beta0, beta, alpha):\n",
    "    # Compute dIWELBO (and IWELBO) for each sample and \n",
    "    # summarize them into several statistics.\n",
    "    N0 = 2000000\n",
    "    N = N0//2**level\n",
    "    n_MC = 2**level\n",
    "    x,y,_ = generate_data(N=N, D=3, T=2, beta0=beta0, beta=beta, alpha=alpha)\n",
    "    q_param = model.laplace_approx(x, y)\n",
    "    mu, sigma = q_param['mu'], q_param['sigma']\n",
    "    z = norm(loc=mu, scale=sigma).rvs([n_MC, N])\n",
    "    \n",
    "    diwelbos = model.pointwise_dIWELBO(x, y, z, q_param).numpy()\n",
    "    iwelbos = model.pointwise_IWELBO(x, y, z, q_param).numpy()\n",
    "    \n",
    "    return {'mean_dIWELBO':np.mean(diwelbos), \n",
    "            'mean_abs_dIWELBO':np.mean(np.abs(diwelbos)), \n",
    "            'mean_squared_dIWELBO':np.mean(diwelbos**2),\n",
    "            'var_dIWELBO':np.var(diwelbos), \n",
    "            'var_IWELBO':np.var(iwelbos)}\n",
    " "
   ]
  },
  {
   "cell_type": "code",
   "execution_count": 53,
   "metadata": {
    "scrolled": true
   },
   "outputs": [
    {
     "data": {
      "image/png": "[encoded data removed]",
      "text/plain": [
       "<Figure size 432x288 with 1 Axes>"
      ]
     },
     "metadata": {
      "needs_background": "light"
     },
     "output_type": "display_data"
    }
   ],
   "source": [
    "L=13\n",
    "conv_stats = [conv_stats_dIWELBO(l, model, beta0, beta, alpha) for l in range(L)]\n",
    "conv_stats = pd.DataFrame(conv_stats)\n",
    "\n",
    "# plot results\n",
    "plt.plot(conv_stats[['mean_abs_dIWELBO', 'var_dIWELBO']], linewidth=2)\n",
    "\n",
    "# plot O(2^{-l/2}), O(2^{-l}), O(2^{-2l})\n",
    "s,t = conv_stats[['mean_abs_dIWELBO', 'var_dIWELBO']].iloc[1]\n",
    "plt.plot(s*2.**(1-np.arange(L)), c='grey', linewidth=1)\n",
    "plt.plot(t*2.**(1-np.arange(L)*2), c='grey', linewidth=1)\n",
    "\n",
    "plt.legend([r'$\\mathrm{E} | \\Delta \\mathrm{IW}$-$\\mathrm{ELBO}|$', \n",
    "            r'$\\mathrm{Var}[\\Delta \\mathrm{IW}$-$\\mathrm{ELBO}]$', \n",
    "            r'$O(2^{-\\ell}), O(2^{-2\\ell})$'])\n",
    "plt.xlabel('Level')\n",
    "plt.yscale('log')"
   ]
  },
  {
   "cell_type": "code",
   "execution_count": 52,
   "metadata": {
    "jupyter": {
     "source_hidden": true
    }
   },
   "outputs": [],
   "source": [
    "# compute cost-variance efficiency of MLMC \n",
    "C = [1 if l==0 else 2**(l+1) for l in range(L)]\n",
    "V = conv_stats['var_dIWELBO']\n",
    "N = np.sqrt(V/C)\n",
    "cost_mlmc = [np.sum([np.sqrt(c*v) for c,v in zip(C[:l+1], V[:l+1])])**2  for l in range(L)]\n",
    "cost_nmc = [2**l * v for l,v in enumerate(conv_stats['var_IWELBO'])]"
   ]
  },
  {
   "cell_type": "code",
   "execution_count": 53,
   "metadata": {
    "jupyter": {
     "source_hidden": true
    },
    "scrolled": false
   },
   "outputs": [
    {
     "name": "stdout",
     "output_type": "stream",
     "text": [
      "(Theoretical) Variance per Reciprocal Complexity and N_l's for MLMC\n"
     ]
    },
    {
     "data": {
      "image/png": "[encoded data removed]",
      "text/plain": [
       "<Figure size 864x288 with 2 Axes>"
      ]
     },
     "metadata": {
      "needs_background": "light"
     },
     "output_type": "display_data"
    }
   ],
   "source": [
    "plt.figure(figsize=[12,4])\n",
    "# plot theoretical computational efficiency\n",
    "plt.subplot(1,2,1)\n",
    "plt.plot(cost_mlmc)\n",
    "plt.plot(cost_nmc)\n",
    "plt.yscale('log')\n",
    "plt.ylabel('Variance per Reciprocal Complexity')\n",
    "plt.xlabel('level')\n",
    "plt.legend(['MLMC', 'Nested MC'])\n",
    "# plot N_l's for MLMC\n",
    "plt.subplot(1,2,2)\n",
    "plt.plot(N)\n",
    "plt.yscale('log')\n",
    "plt.ylabel(r'$N_l$')\n",
    "plt.xlabel('level')\n",
    "print('(Theoretical) Variance per Reciprocal Complexity and N_l\\'s for MLMC')"
   ]
  },
  {
   "cell_type": "code",
   "execution_count": 54,
   "metadata": {
    "jupyter": {
     "source_hidden": true
    },
    "scrolled": true
   },
   "outputs": [
    {
     "data": {
      "text/html": [
       "<div>\n",
       "<style scoped>\n",
       "    .dataframe tbody tr th:only-of-type {\n",
       "        vertical-align: middle;\n",
       "    }\n",
       "\n",
       "    .dataframe tbody tr th {\n",
       "        vertical-align: top;\n",
       "    }\n",
       "\n",
       "    .dataframe thead th {\n",
       "        text-align: right;\n",
       "    }\n",
       "</style>\n",
       "<table border=\"1\" class=\"dataframe\">\n",
       "  <thead>\n",
       "    <tr style=\"text-align: right;\">\n",
       "      <th></th>\n",
       "      <th>mean_dIWELBO</th>\n",
       "      <th>mean_abs_dIWELBO</th>\n",
       "      <th>mean_squared_dIWELBO</th>\n",
       "      <th>var_dIWELBO</th>\n",
       "      <th>var_IWELBO</th>\n",
       "    </tr>\n",
       "  </thead>\n",
       "  <tbody>\n",
       "    <tr>\n",
       "      <th>0</th>\n",
       "      <td>-1.252914e+00</td>\n",
       "      <td>1.252959e+00</td>\n",
       "      <td>1.801901e+00</td>\n",
       "      <td>2.321084e-01</td>\n",
       "      <td>0.232108</td>\n",
       "    </tr>\n",
       "    <tr>\n",
       "      <th>1</th>\n",
       "      <td>7.659012e-04</td>\n",
       "      <td>7.659012e-04</td>\n",
       "      <td>1.928202e-05</td>\n",
       "      <td>1.869541e-05</td>\n",
       "      <td>0.230994</td>\n",
       "    </tr>\n",
       "    <tr>\n",
       "      <th>2</th>\n",
       "      <td>4.296648e-04</td>\n",
       "      <td>4.296648e-04</td>\n",
       "      <td>5.297300e-06</td>\n",
       "      <td>5.112689e-06</td>\n",
       "      <td>0.229762</td>\n",
       "    </tr>\n",
       "    <tr>\n",
       "      <th>3</th>\n",
       "      <td>2.353968e-04</td>\n",
       "      <td>2.353968e-04</td>\n",
       "      <td>1.215908e-06</td>\n",
       "      <td>1.160497e-06</td>\n",
       "      <td>0.228204</td>\n",
       "    </tr>\n",
       "    <tr>\n",
       "      <th>4</th>\n",
       "      <td>1.272100e-04</td>\n",
       "      <td>1.272100e-04</td>\n",
       "      <td>3.021725e-07</td>\n",
       "      <td>2.859902e-07</td>\n",
       "      <td>0.228002</td>\n",
       "    </tr>\n",
       "    <tr>\n",
       "      <th>5</th>\n",
       "      <td>6.391666e-05</td>\n",
       "      <td>6.391666e-05</td>\n",
       "      <td>3.656841e-08</td>\n",
       "      <td>3.248307e-08</td>\n",
       "      <td>0.229570</td>\n",
       "    </tr>\n",
       "    <tr>\n",
       "      <th>6</th>\n",
       "      <td>3.313349e-05</td>\n",
       "      <td>3.313349e-05</td>\n",
       "      <td>9.886079e-09</td>\n",
       "      <td>8.788250e-09</td>\n",
       "      <td>0.226590</td>\n",
       "    </tr>\n",
       "    <tr>\n",
       "      <th>7</th>\n",
       "      <td>1.687736e-05</td>\n",
       "      <td>1.687736e-05</td>\n",
       "      <td>1.686501e-09</td>\n",
       "      <td>1.401656e-09</td>\n",
       "      <td>0.230252</td>\n",
       "    </tr>\n",
       "    <tr>\n",
       "      <th>8</th>\n",
       "      <td>8.531222e-06</td>\n",
       "      <td>8.531222e-06</td>\n",
       "      <td>4.300854e-10</td>\n",
       "      <td>3.573037e-10</td>\n",
       "      <td>0.238437</td>\n",
       "    </tr>\n",
       "    <tr>\n",
       "      <th>9</th>\n",
       "      <td>4.047158e-06</td>\n",
       "      <td>4.047158e-06</td>\n",
       "      <td>6.894719e-11</td>\n",
       "      <td>5.256771e-11</td>\n",
       "      <td>0.235069</td>\n",
       "    </tr>\n",
       "    <tr>\n",
       "      <th>10</th>\n",
       "      <td>2.012522e-06</td>\n",
       "      <td>2.012522e-06</td>\n",
       "      <td>1.920669e-11</td>\n",
       "      <td>1.515645e-11</td>\n",
       "      <td>0.212308</td>\n",
       "    </tr>\n",
       "    <tr>\n",
       "      <th>11</th>\n",
       "      <td>9.972865e-07</td>\n",
       "      <td>9.972865e-07</td>\n",
       "      <td>3.899273e-12</td>\n",
       "      <td>2.904693e-12</td>\n",
       "      <td>0.212152</td>\n",
       "    </tr>\n",
       "    <tr>\n",
       "      <th>12</th>\n",
       "      <td>4.941445e-07</td>\n",
       "      <td>4.941445e-07</td>\n",
       "      <td>1.079534e-12</td>\n",
       "      <td>8.353553e-13</td>\n",
       "      <td>0.274542</td>\n",
       "    </tr>\n",
       "  </tbody>\n",
       "</table>\n",
       "</div>"
      ],
      "text/plain": [
       "    mean_dIWELBO  mean_abs_dIWELBO  mean_squared_dIWELBO   var_dIWELBO  \\\n",
       "0  -1.252914e+00      1.252959e+00          1.801901e+00  2.321084e-01   \n",
       "1   7.659012e-04      7.659012e-04          1.928202e-05  1.869541e-05   \n",
       "2   4.296648e-04      4.296648e-04          5.297300e-06  5.112689e-06   \n",
       "3   2.353968e-04      2.353968e-04          1.215908e-06  1.160497e-06   \n",
       "4   1.272100e-04      1.272100e-04          3.021725e-07  2.859902e-07   \n",
       "5   6.391666e-05      6.391666e-05          3.656841e-08  3.248307e-08   \n",
       "6   3.313349e-05      3.313349e-05          9.886079e-09  8.788250e-09   \n",
       "7   1.687736e-05      1.687736e-05          1.686501e-09  1.401656e-09   \n",
       "8   8.531222e-06      8.531222e-06          4.300854e-10  3.573037e-10   \n",
       "9   4.047158e-06      4.047158e-06          6.894719e-11  5.256771e-11   \n",
       "10  2.012522e-06      2.012522e-06          1.920669e-11  1.515645e-11   \n",
       "11  9.972865e-07      9.972865e-07          3.899273e-12  2.904693e-12   \n",
       "12  4.941445e-07      4.941445e-07          1.079534e-12  8.353553e-13   \n",
       "\n",
       "    var_IWELBO  \n",
       "0     0.232108  \n",
       "1     0.230994  \n",
       "2     0.229762  \n",
       "3     0.228204  \n",
       "4     0.228002  \n",
       "5     0.229570  \n",
       "6     0.226590  \n",
       "7     0.230252  \n",
       "8     0.238437  \n",
       "9     0.235069  \n",
       "10    0.212308  \n",
       "11    0.212152  \n",
       "12    0.274542  "
      ]
     },
     "execution_count": 54,
     "metadata": {},
     "output_type": "execute_result"
    }
   ],
   "source": [
    "conv_stats"
   ]
  },
  {
   "cell_type": "markdown",
   "metadata": {},
   "source": [
    "## MLMC codition check for gradients"
   ]
  },
  {
   "cell_type": "code",
   "execution_count": 99,
   "metadata": {
    "jupyter": {
     "source_hidden": true
    }
   },
   "outputs": [],
   "source": [
    "params = [\n",
    "    model.beta0, \n",
    "    model.beta,\n",
    "    model.alpha\n",
    "]\n",
    "\n",
    "def conv_stats_grad_dIWELBO(level, model, beta0, beta, alpha):\n",
    "    # Compute the gradient of dIWELBO (and IWELBO) for each sample and \n",
    "    # summarize them into several statistics.\n",
    "\n",
    "    print(\"evaluating the gradients of dIWELBO at level {}\".format(level))\n",
    "\n",
    "    N0 = 2000000\n",
    "    N = N0//2**level\n",
    "    n_MC = 2**level\n",
    "    x,y,_ = generate_data(N=N, D=3, T=2, beta0=beta0, beta=beta, alpha=alpha)\n",
    "    \n",
    "    q_param = model.laplace_approx(x, y)\n",
    "    mu  = q_param['mu']\n",
    "    sigma = q_param['sigma']\n",
    "    z = norm(loc=mu, scale=sigma).rvs([n_MC, N]).T\n",
    "\n",
    "    # Define a gradient function to be vectorized (vectorization for better performance)\n",
    "    def get_grad(args):\n",
    "        # get gradient of dIWELBO (and IWELBO) given one sample\n",
    "        x_, y_, z_, mu, sigma = args\n",
    "        q_param = {'mu':mu, 'sigma':sigma}\n",
    "        z_ = tf.reshape(z_, [-1,1])\n",
    "        with tf.GradientTape(persistent=True) as g:\n",
    "            g.watch(params)\n",
    "            diwelbos = model.pointwise_dIWELBO(x_, y_, z_, q_param)\n",
    "            iwelbos = model.pointwise_IWELBO(x_, y_, z_, q_param)    \n",
    "        a = g.gradient(diwelbos, params)\n",
    "        b = g.gradient(iwelbos, params)\n",
    "        del g\n",
    "        return a,b\n",
    "    \n",
    "    # Compute the gradient of dIWELBO (and IWELBO) for each sample\n",
    "    args = [tf.expand_dims(arg, axis=1) for arg in [x, y, z, mu, sigma]]\n",
    "    grads = tf.vectorized_map(get_grad, args)\n",
    "        \n",
    "    grad_diwelbos = tf.concat([\n",
    "        tf.expand_dims(g,1) if len(g.shape)<2 else g \n",
    "        for g in grads[0]\n",
    "    ], axis=1)#[:D+1]\n",
    "    grad_iwelbos = tf.concat([\n",
    "        tf.expand_dims(g,1) if len(g.shape)<2 else g \n",
    "        for g in grads[1]\n",
    "    ], axis=1)#[:D+1]\n",
    "    \n",
    "    # return summary statistics of the gradients\n",
    "    return {'norm_mean_grad_dIWELBO': np.linalg.norm(np.mean(grad_diwelbos, axis=0)), \n",
    "            'mean_norm_grad_dIWELBO': np.mean(np.linalg.norm(grad_diwelbos, axis=1)), \n",
    "            'mean_squared_norm_grad_dIWELBO': np.mean(np.linalg.norm(grad_diwelbos, axis=1)**2),\n",
    "            'trace_covariance_grad_dIWELBO': np.sum(np.var(grad_diwelbos, axis=0)), \n",
    "            'trace_covariance_grad_IWELBO': np.sum(np.var(grad_iwelbos, axis=0))}"
   ]
  },
  {
   "cell_type": "code",
   "execution_count": 100,
   "metadata": {
    "jupyter": {
     "source_hidden": true
    },
    "scrolled": true
   },
   "outputs": [
    {
     "name": "stdout",
     "output_type": "stream",
     "text": [
      "evaluating the gradients of dIWELBO at level 0\n",
      "evaluating the gradients of dIWELBO at level 1\n",
      "evaluating the gradients of dIWELBO at level 2\n",
      "evaluating the gradients of dIWELBO at level 3\n",
      "evaluating the gradients of dIWELBO at level 4\n",
      "evaluating the gradients of dIWELBO at level 5\n",
      "evaluating the gradients of dIWELBO at level 6\n",
      "evaluating the gradients of dIWELBO at level 7\n",
      "evaluating the gradients of dIWELBO at level 8\n",
      "evaluating the gradients of dIWELBO at level 9\n",
      "evaluating the gradients of dIWELBO at level 10\n",
      "evaluating the gradients of dIWELBO at level 11\n",
      "evaluating the gradients of dIWELBO at level 12\n"
     ]
    }
   ],
   "source": [
    "L=13\n",
    "conv_stats = [conv_stats_grad_dIWELBO(l, model, beta0, beta, alpha) for l in range(L)]\n",
    "conv_stats = pd.DataFrame(conv_stats)"
   ]
  },
  {
   "cell_type": "code",
   "execution_count": 104,
   "metadata": {
    "jupyter": {
     "source_hidden": true
    },
    "scrolled": true
   },
   "outputs": [
    {
     "data": {
      "image/png": "[encoded data removed]",
      "text/plain": [
       "<Figure size 432x288 with 1 Axes>"
      ]
     },
     "metadata": {
      "needs_background": "light"
     },
     "output_type": "display_data"
    }
   ],
   "source": [
    "# plot results\n",
    "plt.plot(conv_stats[['norm_mean_grad_dIWELBO', 'trace_covariance_grad_dIWELBO']], linewidth=2)\n",
    "\n",
    "# plot O(2^{-l/2}), O(2^{-l}), O(2^{-2l})\n",
    "s,t = conv_stats[['norm_mean_grad_dIWELBO', 'trace_covariance_grad_dIWELBO']].iloc[1]\n",
    "plt.plot(s*2.**(1-np.arange(L)), c='grey', linewidth=1)\n",
    "plt.plot(t*2.**(1-np.arange(L)*2), c='grey', linewidth=1)\n",
    "\n",
    "plt.legend([r'$||\\mathrm{E} [\\nabla (\\Delta \\mathrm{IW}$-$\\mathrm{ELBO})]||_2$', \n",
    "            r'$\\mathrm{tr}(\\mathrm{Cov}[\\nabla(\\Delta \\mathrm{IW}$-$\\mathrm{ELBO})])$',\n",
    "            r'$O(2^{-\\ell/2}), O(2^{-\\ell}), O(2^{-2\\ell})$'])\n",
    "plt.xlabel('Level')\n",
    "plt.yscale('log')"
   ]
  },
  {
   "cell_type": "code",
   "execution_count": null,
   "metadata": {
    "jupyter": {
     "source_hidden": true
    }
   },
   "outputs": [],
   "source": [
    "# compute cost-variance efficiency of MLMC \n",
    "C = [1 if l==0 else 2**(l+1) for l in range(L)]\n",
    "V = conv_stats['trace_covariance_grad_dIWELBO']\n",
    "N = np.sqrt(V/C)\n",
    "cost_mlmc = [np.sum([np.sqrt(c*v) for c,v in zip(C[:l+1], V[:l+1])])**2  for l in range(L)]\n",
    "cost_nmc = [2**l * v for l,v in enumerate(conv_stats['trace_covariance_grad_IWELBO'])]"
   ]
  },
  {
   "cell_type": "code",
   "execution_count": null,
   "metadata": {
    "jupyter": {
     "source_hidden": true
    }
   },
   "outputs": [],
   "source": [
    "plt.figure(figsize=[12,4])\n",
    "# plot theoretical computational efficiency\n",
    "plt.subplot(1,2,1)\n",
    "plt.plot(cost_mlmc)\n",
    "plt.plot(cost_nmc)\n",
    "plt.yscale('log')\n",
    "plt.ylabel('Variance per Reciprocal Complexity')\n",
    "plt.xlabel('level')\n",
    "plt.legend(['MLMC', 'Nested MC'])\n",
    "# plot N_l's for MLMC\n",
    "plt.subplot(1,2,2)\n",
    "plt.plot(N)\n",
    "plt.yscale('log')\n",
    "plt.ylabel(r'$N_l$')\n",
    "plt.xlabel('level')\n",
    "print('(Theoretical) Variance per Reciprocal Complexity and N_l\\'s for MLMC')"
   ]
  },
  {
   "cell_type": "code",
   "execution_count": null,
   "metadata": {
    "jupyter": {
     "source_hidden": true
    }
   },
   "outputs": [],
   "source": [
    "conv_stats"
   ]
  },
  {
   "cell_type": "code",
   "execution_count": null,
   "metadata": {
    "jupyter": {
     "source_hidden": true
    }
   },
   "outputs": [],
   "source": [
    "def conv_stats_dSUMO(x, y, beta0, beta, alpha, mu, sigma, level=1):\n",
    "    # Compute dIWELBO (and IWELBO) for each sample and \n",
    "    # summarize them into several statistics.\n",
    "\n",
    "    N, = mu.shape\n",
    "    n_MC = 2**level\n",
    "    z = norm(loc=mu, scale=sigma).rvs([n_MC, N])\n",
    "    \n",
    "    dsumos = 0\n",
    "    dsumos += pointwise_IWELBO(x, y, z[ :,:], beta0, beta, alpha, mu, sigma).numpy()\n",
    "    dsumos -= pointwise_IWELBO(x, y, z[1:,:], beta0, beta, alpha, mu, sigma).numpy()\n",
    "    \n",
    "    dN = N//10\n",
    "    var_sumos = dN * np.var([\n",
    "        IWELBO_SUMO(\n",
    "            x[dN*i:dN*(i+1)], y[dN*i:dN*(i+1)], beta0, beta, alpha,\n",
    "            mu[dN*i:dN*(i+1)], sigma[dN*i:dN*(i+1)], K_max=2**level\n",
    "            ) \n",
    "        for i in range(10)])\n",
    "    \n",
    "    return {'mean_dSUMO':np.mean(dsumos), \n",
    "            'mean_abs_dSUMO':np.mean(np.abs(dsumos)), \n",
    "            'mean_squared_dSUMO':np.mean(dsumos**2),\n",
    "            'var_dSUMO':np.var(dsumos),\n",
    "            'var_SUMO':var_sumos}"
   ]
  },
  {
   "cell_type": "code",
   "execution_count": null,
   "metadata": {
    "jupyter": {
     "source_hidden": true
    }
   },
   "outputs": [],
   "source": [
    "def tmp(l):\n",
    "    N0 = 2000000\n",
    "    x,y,_ = generate_data(N=N0//2**l, D=3, T=2, beta0=beta0, beta=beta, alpha=alpha)\n",
    "    mu, sigma = laplace_approx(x, y, beta0, beta, alpha)\n",
    "    return conv_stats_dSUMO(x, y, beta0, beta, alpha, mu, sigma, level=l)\n",
    "L=13\n",
    "conv_stats = [tmp(l) for l in range(L)]\n",
    "conv_stats = pd.DataFrame(conv_stats)"
   ]
  },
  {
   "cell_type": "code",
   "execution_count": null,
   "metadata": {
    "jupyter": {
     "source_hidden": true
    }
   },
   "outputs": [],
   "source": [
    "# plot results\n",
    "plt.plot(conv_stats[['mean_abs_dSUMO', 'var_dSUMO', 'var_SUMO']])\n",
    "\n",
    "# plot O(2^{-l/2}), O(2^{-l}), O(2^{-2l})\n",
    "s,t = conv_stats[['mean_abs_dSUMO', 'var_dSUMO']].iloc[1]\n",
    "plt.plot(s*2.**(-np.arange(L)), c='grey')\n",
    "plt.plot(t*2.**(-np.arange(L)*2), c='grey')\n",
    "\n",
    "plt.legend([r'$\\mathrm{E}  |\\Delta^{\\mathrm{SUMO}}_{2^{\\ell}}|$', \n",
    "            r'$\\mathrm{Var}[\\Delta^{\\mathrm{SUMO}}_{2^{\\ell}}]$', \n",
    "            r'$\\mathrm{Var}[\\mathrm{SUMO}_{2^{\\ell}}]$', \n",
    "            r'$O(2^{-\\ell}), O(2^{-2\\ell})$'])\n",
    "plt.xlabel('Level')\n",
    "plt.yscale('log')"
   ]
  },
  {
   "cell_type": "code",
   "execution_count": null,
   "metadata": {
    "jupyter": {
     "source_hidden": true
    }
   },
   "outputs": [],
   "source": [
    "conv_stats"
   ]
  },
  {
   "cell_type": "markdown",
   "metadata": {},
   "source": [
    "## Cost comparison of objective"
   ]
  },
  {
   "cell_type": "code",
   "execution_count": null,
   "metadata": {
    "jupyter": {
     "source_hidden": true
    }
   },
   "outputs": [],
   "source": [
    "L = 13\n",
    "objectives = {\n",
    "    'NMC':      lambda x,y,mu,sigma,level: IWELBO(x, y, beta0, beta, alpha, mu, sigma, n_MC=2**level),\n",
    "    'MLMC':     lambda x,y,mu,sigma,level: IWELBO_MLMC(x, y, beta0, beta, alpha, mu, sigma, max_level=level, w0=0.95, b=1.8, randomize=False),\n",
    "    'RandMLMC': lambda x,y,mu,sigma,level: IWELBO_MLMC(x, y, beta0, beta, alpha, mu, sigma, max_level=level, w0=0.95, b=1.8, randomize=True),\n",
    "    'SUMO':     lambda x,y,mu,sigma,level: IWELBO_SUMO(x, y, beta0, beta, alpha, mu, sigma, K_max=2**level)\n",
    "}\n",
    "results = {'NMC':[], 'MLMC':[], 'RandMLMC':[], 'SUMO':[]}\n",
    "runtime = {'NMC':[], 'MLMC':[], 'RandMLMC':[], 'SUMO':[]}\n",
    "\n",
    "for name, obj in objectives.items():\n",
    "    \n",
    "    # evaluate variance\n",
    "    for i in range(100):\n",
    "        results[name].append([])\n",
    "        x,y,_ = generate_data(N=4000, D=3, T=2, beta0=beta0, beta=beta, alpha=alpha)\n",
    "        mu, sigma = laplace_approx(x, y, beta0, beta, alpha)\n",
    "        for level in range(L):\n",
    "            results[name][i].append( obj(x,y,mu,sigma,level).numpy() )\n",
    "    \n",
    "    # evaluate runtime\n",
    "    x,y,_ = generate_data(N=20000, D=3, T=2, beta0=beta0, beta=beta, alpha=alpha)\n",
    "    mu, sigma = laplace_approx(x, y, beta0, beta, alpha)    \n",
    "    for level in range(L):\n",
    "        if level>10 and name=='NMC':\n",
    "            start = time.time()\n",
    "            obj(*[vec[:200] for vec in [x,y,mu,sigma]], level)\n",
    "            end = time.time()\n",
    "            runtime[name].append((end - start)*100)\n",
    "        else:\n",
    "            start = time.time()\n",
    "            obj(x,y,mu,sigma,level)\n",
    "            end = time.time()\n",
    "            runtime[name].append(end - start)"
   ]
  },
  {
   "cell_type": "code",
   "execution_count": null,
   "metadata": {
    "jupyter": {
     "source_hidden": true
    }
   },
   "outputs": [],
   "source": [
    "for ests, rtime in zip(results.values(), runtime.values()):\n",
    "    var_per_recip_runtime = np.array(ests).var(axis=0) * np.array(rtime)\n",
    "    plt.plot(var_per_recip_runtime)\n",
    "plt.legend([name for name in results.keys()])\n",
    "plt.xlabel('Level')\n",
    "plt.ylabel('Variance per Reciprocal Runtime')\n",
    "plt.yscale('log')"
   ]
  },
  {
   "cell_type": "markdown",
   "metadata": {},
   "source": [
    "Variance per \"reciprocal of the runtime\" is considered because the varince is propotional to the  \"reciprocal of the runtime\". As we increase the computational complexity (runtime), the decrease in varince is inversely propotional to the complexity. "
   ]
  },
  {
   "cell_type": "markdown",
   "metadata": {},
   "source": [
    "## Cost comparison of gradients"
   ]
  },
  {
   "cell_type": "code",
   "execution_count": 113,
   "metadata": {
    "jupyter": {
     "source_hidden": true
    }
   },
   "outputs": [],
   "source": [
    "L = 13\n",
    "objectives = {\n",
    "    'NMC':      lambda x,y,level: model.IWELBO(x, y, n_MC=2**level),\n",
    "    'MLMC':     lambda x,y,level: model.IWELBO_MLMC(x, y, max_level=level, randomize=False),\n",
    "    'RandMLMC': lambda x,y,level: model.IWELBO_MLMC(x, y, max_level=level, randomize=True),\n",
    "    'SUMO':     lambda x,y,level: model.IWELBO_SUMO(x, y, K_max=2**level)\n",
    "}\n",
    "\n",
    "def d(f):\n",
    "    # Take the derivative of f\n",
    "    # returned value is a function df/d[beta0, beta, alpha]\n",
    "    def df(x,y,level):\n",
    "        with tf.GradientTape(persistent=True) as g:\n",
    "            g.watch(params)\n",
    "            target = f(x,y,level)\n",
    "        est0 = g.gradient(target, params)\n",
    "        est = np.concatenate([e.numpy().reshape([-1]) for e in est0], axis=0)\n",
    "        return est\n",
    "    return df\n",
    "\n",
    "results = {'NMC':[], 'MLMC':[], 'RandMLMC':[], 'SUMO':[]}\n",
    "runtime = {'NMC':[], 'MLMC':[], 'RandMLMC':[], 'SUMO':[]}\n",
    "\n",
    "for name, obj in objectives.items():\n",
    "    \n",
    "    # evaluate variance\n",
    "    for i in range(100):\n",
    "        results[name].append([])\n",
    "        x,y,_ = generate_data(N=4000, D=3, T=2, beta0=beta0, beta=beta, alpha=alpha)\n",
    "        for level in range(L):\n",
    "            results[name][i].append( d(obj)(x,y,level) )\n",
    "    \n",
    "    # evaluate runtime\n",
    "    x,y,_ = generate_data(N=20000, D=3, T=2, beta0=beta0, beta=beta, alpha=alpha)\n",
    "    for level in range(L):\n",
    "        # Avoid the memery runout by \n",
    "        # manipulating the case of NMC with large n_MC (large level)\n",
    "        if level>10 and name=='NMC':\n",
    "            start = time.time()\n",
    "            d(obj)(*[vec[:200] for vec in [x,y]], level)\n",
    "            end = time.time()\n",
    "            runtime[name].append((end - start)*100)\n",
    "        else:\n",
    "            start = time.time()\n",
    "            d(obj)(x,y,level)\n",
    "            end = time.time()\n",
    "            runtime[name].append(end - start)"
   ]
  },
  {
   "cell_type": "code",
   "execution_count": 114,
   "metadata": {
    "jupyter": {
     "source_hidden": true
    }
   },
   "outputs": [
    {
     "data": {
      "image/png": "[encoded data removed]",
      "text/plain": [
       "<Figure size 432x288 with 1 Axes>"
      ]
     },
     "metadata": {
      "needs_background": "light"
     },
     "output_type": "display_data"
    }
   ],
   "source": [
    "for ests, rtime in zip(results.values(), runtime.values()):\n",
    "    var_per_recip_runtime = np.array(ests).var(axis=0).sum(axis=1) * np.array(rtime)\n",
    "    plt.plot(var_per_recip_runtime)\n",
    "plt.legend([name for name in results.keys()])\n",
    "plt.xlabel('Level')\n",
    "plt.ylabel(r'Variance ( tr(Cov) ) per Reciprocal Runtime')\n",
    "plt.yscale('log')"
   ]
  },
  {
   "cell_type": "code",
   "execution_count": null,
   "metadata": {},
   "outputs": [],
   "source": []
  }
 ],
 "metadata": {
  "kernelspec": {
   "display_name": "Python 3",
   "language": "python",
   "name": "python3"
  },
  "language_info": {
   "codemirror_mode": {
    "name": "ipython",
    "version": 3
   },
   "file_extension": ".py",
   "mimetype": "text/x-python",
   "name": "python",
   "nbconvert_exporter": "python",
   "pygments_lexer": "ipython3",
   "version": "3.6.9"
  }
 },
 "nbformat": 4,
 "nbformat_minor": 4
}
