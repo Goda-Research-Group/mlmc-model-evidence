{
 "cells": [
  {
   "cell_type": "markdown",
   "metadata": {
    "colab_type": "text",
    "id": "e1_Y75QXJS6h"
   },
   "source": [
    "## Import TensorFlow and other libraries"
   ]
  },
  {
   "cell_type": "code",
   "execution_count": 1,
   "metadata": {
    "colab": {},
    "colab_type": "code",
    "id": "YfIk2es3hJEd",
    "scrolled": true
   },
   "outputs": [],
   "source": [
    "import matplotlib.pyplot as plt\n",
    "import numpy as np\n",
    "import pandas as pd\n",
    "import tensorflow as tf\n",
    "import time\n",
    "from IPython import display"
   ]
  },
  {
   "cell_type": "code",
   "execution_count": 2,
   "metadata": {},
   "outputs": [],
   "source": [
    "import sys\n",
    "sys.path.append('../')\n",
    "from src.models.convolutional_variational_autoencoder import IWAE, IWAE_MLMC"
   ]
  },
  {
   "cell_type": "markdown",
   "metadata": {
    "colab_type": "text",
    "id": "iYn4MdZnKCey"
   },
   "source": [
    "## Load the MNIST dataset\n",
    "Each MNIST image is originally a vector of 784 integers, each of which is between 0-255 and represents the intensity of a pixel. We model each pixel with a Bernoulli distribution in our model, and we statically binarize the dataset."
   ]
  },
  {
   "cell_type": "code",
   "execution_count": 3,
   "metadata": {
    "colab": {},
    "colab_type": "code",
    "id": "a4fYMGxGhrna"
   },
   "outputs": [],
   "source": [
    "(train_images, _), (test_images, _) = tf.keras.datasets.mnist.load_data()"
   ]
  },
  {
   "cell_type": "code",
   "execution_count": 4,
   "metadata": {
    "colab": {},
    "colab_type": "code",
    "id": "NFC2ghIdiZYE"
   },
   "outputs": [],
   "source": [
    "def preprocess_images(images):\n",
    "    images = images.reshape((images.shape[0], 28, 28, 1)) / 255.\n",
    "    return np.where(images > .5, 1.0, 0.0).astype('float32')\n",
    "\n",
    "train_images = preprocess_images(train_images)\n",
    "test_images = preprocess_images(test_images)"
   ]
  },
  {
   "cell_type": "code",
   "execution_count": 5,
   "metadata": {
    "colab": {},
    "colab_type": "code",
    "id": "S4PIDhoDLbsZ"
   },
   "outputs": [],
   "source": [
    "train_size = 60000\n",
    "batch_size = 32\n",
    "test_size = 10000"
   ]
  },
  {
   "cell_type": "markdown",
   "metadata": {
    "colab_type": "text",
    "id": "PIGN6ouoQxt3"
   },
   "source": [
    "## Use *tf.data* to batch and shuffle the data"
   ]
  },
  {
   "cell_type": "code",
   "execution_count": 6,
   "metadata": {
    "colab": {},
    "colab_type": "code",
    "id": "-yKCCQOoJ7cn"
   },
   "outputs": [],
   "source": [
    "train_dataset = (tf.data.Dataset.from_tensor_slices(train_images)\n",
    "                 .shuffle(train_size).batch(batch_size))\n",
    "test_dataset = (tf.data.Dataset.from_tensor_slices(test_images)\n",
    "                .shuffle(test_size).batch(batch_size))"
   ]
  },
  {
   "cell_type": "markdown",
   "metadata": {},
   "source": [
    "## Training and visualization"
   ]
  },
  {
   "cell_type": "code",
   "execution_count": 58,
   "metadata": {},
   "outputs": [],
   "source": [
    "float_type = np.float32\n"
   ]
  },
  {
   "cell_type": "code",
   "execution_count": 7,
   "metadata": {},
   "outputs": [],
   "source": [
    "objectives = [\n",
    "    'iwelbo',\n",
    "    'pearson_ubo',\n",
    "    'hellinger_lbo',\n",
    "    'neyman_lbo',\n",
    "    'pearson_lbo',\n",
    "    'hellinger_ubo',\n",
    "    'neyman_ubo'\n",
    "]"
   ]
  },
  {
   "cell_type": "code",
   "execution_count": 8,
   "metadata": {
    "colab": {},
    "colab_type": "code",
    "id": "NS2GWywBbAWo"
   },
   "outputs": [],
   "source": [
    "def train_epoch(model, train_dataset, obj):\n",
    "    for train_x in train_dataset:\n",
    "        model.train_step(train_x, obj=obj)\n",
    "\n",
    "def generate_images(model, epoch, test_sample):\n",
    "    mean, logvar = model._encode(test_sample)\n",
    "    z = model._reparameterize(mean, logvar)\n",
    "    predictions = model._sample(z)\n",
    "    fig = plt.figure(figsize=(4, 4))\n",
    "\n",
    "    for i in range(predictions.shape[0]):\n",
    "        plt.subplot(4, 4, i + 1)\n",
    "        plt.imshow(predictions[i, :, :, 0], cmap='gray')\n",
    "        plt.axis('off')\n",
    "\n",
    "        \n",
    "def train_and_plot(model, train_dataset, test_dataset, epochs = 10, obj='elbo'):\n",
    "    num_examples_to_generate = 16\n",
    "\n",
    "    # keeping the random vector constant for generation (prediction) so\n",
    "    # it will be easier to see the improvement.\n",
    "    random_vector_for_generation = tf.random.normal(\n",
    "        shape=[num_examples_to_generate, latent_dim])\n",
    "\n",
    "    # Pick a sample of the test set for generating output images\n",
    "    assert batch_size >= num_examples_to_generate\n",
    "    for test_batch in test_dataset.take(1):\n",
    "        test_sample = test_batch[0:num_examples_to_generate, :, :, :]\n",
    "\n",
    "    generate_images(model, 0, test_sample)\n",
    "    plt.show()\n",
    "\n",
    "    for epoch in range(1, epochs + 1):\n",
    "        start_time = time.time()\n",
    "        train_epoch(model, train_dataset, obj)\n",
    "        end_time = time.time()\n",
    "\n",
    "        elbo = np.mean([model.compute_elbo(test_x) for test_x in test_dataset])\n",
    "        display.clear_output(wait=False)\n",
    "        print('Epoch: {}, Test set ELBO: {}, time elapse for current epoch: {}'\n",
    "                .format(epoch, elbo, end_time - start_time))\n",
    "        generate_images(model, epoch, test_sample)\n",
    "        # tight_layout minimizes the overlap between 2 sub-plots\n",
    "        #plt.savefig('image_at_epoch_{:04d}.png'.format(epoch))\n",
    "        plt.show()"
   ]
  },
  {
   "cell_type": "code",
   "execution_count": 9,
   "metadata": {},
   "outputs": [],
   "source": [
    "def _plot_convergence(model, test_dataset, obj, grad=False):\n",
    "    \n",
    "    tmp_dataset = (tf.data.Dataset.from_tensor_slices(test_images[:100])\n",
    "                    .shuffle(100).batch(1))\n",
    "    \n",
    "    def get_grad(x, K):\n",
    "        with tf.GradientTape() as tape:\n",
    "            _obj =  model._compute_dobjective(x, K, obj)\n",
    "            gradients = tape.gradient(_obj, model._decoder.trainable_variables)\n",
    "        gradients = tf.concat([tf.reshape(g,[-1]) for g in gradients], axis=0)\n",
    "        return gradients\n",
    "    \n",
    "    def get_L2_norm(L):\n",
    "        L2 = 0\n",
    "        for x in tmp_dataset:\n",
    "            if grad==False:  L2 += model._compute_dobjective(x, 2**L, obj)**2\n",
    "            elif grad==True: L2 += get_grad(x, 2**L)**2\n",
    "        return np.sum(L2/100)\n",
    "    \n",
    "    # evaluation of L2 norms\n",
    "    levels = np.arange(10)\n",
    "    res = [get_L2_norm(l) for l in levels]\n",
    "    \n",
    "    # plot\n",
    "    plt.plot([2**l for l in levels], res)\n",
    "    plt.plot([2**l for l in levels], [res[1]*2.**(1.5-l) for l in levels], c='gray')\n",
    "    plt.plot([2**l for l in levels], [res[1]*2.**(1.5-2*l) for l in levels], c='gray')\n",
    "    plt.yscale('log')\n",
    "    plt.xscale('log')\n",
    "    if grad==False: plt.legend([r'$\\sqrt{E[||\\Delta f||_2^2]}$', r'$O(2^{-\\ell})$', r'$O(2^{-2\\ell})$'])\n",
    "    elif grad==True: plt.legend([r'$\\sqrt{E[||\\Delta \\nabla f||_2^2]}$', r'$O(2^{-\\ell})$', r'$O(2^{-2\\ell})$'])\n",
    "    \n",
    "    return res\n",
    "        \n",
    "def plot_convergence(model, test_dataset, obj):\n",
    "    res = {}\n",
    "    plt.subplot(1,2,1)\n",
    "    res['obj'] = _plot_convergence(model, test_dataset, obj, grad=False)\n",
    "    plt.subplot(1,2,2)\n",
    "    res['grad'] = _plot_convergence(model, test_dataset, obj, grad=True)\n",
    "    return res"
   ]
  },
  {
   "cell_type": "code",
   "execution_count": 38,
   "metadata": {},
   "outputs": [],
   "source": [
    "def _plot_convergence_sumo(model, test_dataset, obj, grad=False, cross=False):\n",
    "    \n",
    "    def compute_dobjective_sumo(model, x, K):\n",
    "        prob_ratios = model._compute_prob_ratios(x, K)\n",
    "        _obj = tf.reduce_sum(model._compute_objectives(prob_ratios, obj))\n",
    "        _obj -= tf.reduce_sum(model._compute_objectives(prob_ratios[:,:K-1], obj))\n",
    "        return _obj\n",
    "    \n",
    "\n",
    "    def compute_cross_dobjective_sumo(model, x, K):\n",
    "        '''\n",
    "        Ad-hock implementaion for the evaluation of cross term. You can use this function by:\n",
    "\n",
    "        latent_dim = 3\n",
    "        model = IWAE_MLMC(latent_dim)\n",
    "        _ = _plot_convergence_sumo(model, test_dataset, obj, grad=False, cross=True)\n",
    "        '''\n",
    "        prob_ratios = model._compute_prob_ratios(x, K+5)\n",
    "        _obj1 = tf.reduce_sum(model._compute_objectives(prob_ratios, obj))\n",
    "        _obj1 -= tf.reduce_sum(model._compute_objectives(prob_ratios[:,:K+4], obj))\n",
    "        _obj2 = tf.reduce_sum(model._compute_objectives(prob_ratios[:,:K+1], obj))\n",
    "        _obj2 -= tf.reduce_sum(model._compute_objectives(prob_ratios[:,:K], obj))\n",
    "        return _obj1 * _obj2\n",
    "    \n",
    "    def get_grad(x, K):\n",
    "        with tf.GradientTape() as tape:\n",
    "            _obj = compute_dobjective_sumo(model, x, K)\n",
    "            gradients = tape.gradient(_obj, model._decoder.trainable_variables)\n",
    "        gradients = tf.concat([tf.reshape(g,[-1]) for g in gradients], axis=0)\n",
    "        return gradients\n",
    "    \n",
    "    def get_L2_norm(L):\n",
    "        L2 = 0\n",
    "        for x in tmp_dataset:\n",
    "            if cross==True:  L2 += np.abs(compute_cross_dobjective_sumo(model, x, 2**L))\n",
    "            if grad==False:  L2 += compute_dobjective_sumo(model, x, 2**L)**2\n",
    "            elif grad==True: L2 += get_grad(x, 2**L)**2\n",
    "        return np.sum(L2/100)\n",
    "    \n",
    "    tmp_dataset = (tf.data.Dataset.from_tensor_slices(test_images[:100])\n",
    "                    .shuffle(100).batch(1))\n",
    "    \n",
    "    # evaluation of L2 norms\n",
    "    levels = np.arange(10)\n",
    "    res = [get_L2_norm(l) for l in levels]\n",
    "    \n",
    "    # plot\n",
    "    plt.plot([2**l for l in levels], res)\n",
    "    plt.plot([2**l for l in levels], [res[1]*2.**(1.5-l) for l in levels], c='gray')\n",
    "    plt.plot([2**l for l in levels], [res[1]*2.**(1.5-2*l) for l in levels], c='gray')\n",
    "    plt.yscale('log')\n",
    "    plt.xscale('log')\n",
    "    if grad==False: plt.legend([r'$E[||\\Delta f||_2^2]$', r'$O(2^{-\\ell})$', r'$O(2^{-2\\ell})$'])\n",
    "    elif grad==True: plt.legend([r'$E[||\\Delta \\nabla f||_2^2]$', r'$O(2^{-\\ell})$', r'$O(2^{-2\\ell})$'])\n",
    "    \n",
    "    return res\n",
    "        \n",
    "def plot_convergence_sumo(model, test_dataset, obj):\n",
    "    res = {}\n",
    "    plt.subplot(1,2,1)\n",
    "    res['obj'] = _plot_convergence_sumo(model, test_dataset, obj, grad=False)\n",
    "    plt.subplot(1,2,2)\n",
    "    res['grad'] = _plot_convergence_sumo(model, test_dataset, obj, grad=True)\n",
    "    return res"
   ]
  },
  {
   "cell_type": "code",
   "execution_count": 104,
   "metadata": {},
   "outputs": [],
   "source": [
    "class IWELBO_SUMO(IWAE_MLMC):\n",
    "    \n",
    "    def compute_IWELBO_sumo(self, x, K_max=8):\n",
    "        N = x.shape[0]\n",
    "\n",
    "        Us = tf.random.uniform(shape=[N], dtype=tf.float64)\n",
    "        Ks = tf.minimum(1/Us, tf.cast(K_max, tf.float64))\n",
    "        Ks = tf.cast(tf.math.floor(Ks), tf.int64)\n",
    "        unique, _, counts =  tf.unique_with_counts(tf.sort(Ks))\n",
    "\n",
    "        offset = 0\n",
    "        iwelbo = 0\n",
    "        for K, cnt in zip(unique, counts):\n",
    "            x_tmp = x[offset:offset+cnt]\n",
    "            iwelbo += (1/N) * tf.reduce_sum( self.conditional_IWELBO_SUMO(x_tmp, K) ) \n",
    "            offset += cnt\n",
    "\n",
    "        return iwelbo\n",
    "\n",
    "    \n",
    "    def conditional_IWELBO_SUMO(self, x, K):\n",
    "        # compute SUMO est.\n",
    "        prob_ratios = self._compute_prob_ratios(x,K)\n",
    "        ks = tf.reshape( tf.cast( tf.range(0,K) + 1, float_type), [1,K])\n",
    "        cum_iwelbo = tf.math.cumulative_logsumexp(prob_ratios, axis=1) - tf.math.log(ks)\n",
    "        inv_weights = ks\n",
    "        iwelbo = cum_iwelbo[:,0] + tf.reduce_sum(inv_weights[:,1:] * (cum_iwelbo[:,1:] - cum_iwelbo[:,:K-1]), axis=1)\n",
    "        return iwelbo\n",
    "    "
   ]
  },
  {
   "cell_type": "code",
   "execution_count": 105,
   "metadata": {},
   "outputs": [],
   "source": [
    "model = IWELBO_SUMO(3)"
   ]
  },
  {
   "cell_type": "code",
   "execution_count": 112,
   "metadata": {},
   "outputs": [],
   "source": [
    "for i in range(7):\n",
    "    train_epoch(model, train_dataset, 'elbo')"
   ]
  },
  {
   "cell_type": "code",
   "execution_count": 135,
   "metadata": {},
   "outputs": [],
   "source": [
    "res = {'sumo':[],'mlmc':[],'nmc':[]}\n",
    "levels = [i for i in range(10)]\n",
    "for l in levels:\n",
    "    for train_x in train_dataset:\n",
    "        a = [model.compute_IWELBO_sumo(train_x, 2**l) for i in range(1000)]\n",
    "        b = [model.compute_objective_mlmc(train_x, max_level=l, obj='iwelbo', b=0.45, randomize=True) for i in range(10)]\n",
    "        c = [model.compute_objective(train_x[:8], K=2**l, obj='iwelbo') for i in range(10)]\n",
    "        res['sumo'].append(np.var(a))\n",
    "        res['mlmc'].append(np.var(b))\n",
    "        res['nmc'].append(np.var(c)/4)\n",
    "        break"
   ]
  },
  {
   "cell_type": "code",
   "execution_count": 136,
   "metadata": {
    "scrolled": false
   },
   "outputs": [
    {
     "data": {
      "image/png": "[encoded data removed]",
      "text/plain": [
       "<Figure size 432x288 with 1 Axes>"
      ]
     },
     "metadata": {
      "needs_background": "light"
     },
     "output_type": "display_data"
    }
   ],
   "source": [
    "# plot\n",
    "plt.plot(ks, res['sumo'])# V_sumo=O(log K) or O(K), C_sumo=O(log K)\n",
    "plt.plot(ks, res['mlmc'])# V_mlmc=O(K^0.475), C_mlmc=O(K^0.475), \n",
    "plt.plot(ks, res['nmc'])#  V_nmc =O(1), C_nmc=O(K)\n",
    "plt.yscale('log')\n",
    "plt.xscale('log')"
   ]
  },
  {
   "cell_type": "code",
   "execution_count": 140,
   "metadata": {
    "scrolled": false
   },
   "outputs": [],
   "source": [
    "res = {'sumo':[],'mlmc':[]}\n",
    "levels = [i for i in range(13)]\n",
    "for l in levels:\n",
    "    for train_x in train_dataset:\n",
    "        a = [model.compute_IWELBO_sumo(train_x, 2**l) for i in range(10000)]\n",
    "        b = [model.compute_objective_mlmc(train_x, max_level=l, obj='iwelbo', b=0.45, randomize=True) for i in range(10)]\n",
    "        res['sumo'].append(np.var(a))\n",
    "        res['mlmc'].append(np.var(b))\n",
    "        break"
   ]
  },
  {
   "cell_type": "code",
   "execution_count": 192,
   "metadata": {
    "scrolled": true
   },
   "outputs": [
    {
     "data": {
      "image/png": "[encoded data removed]",
      "text/plain": [
       "<Figure size 432x288 with 1 Axes>"
      ]
     },
     "metadata": {
      "needs_background": "light"
     },
     "output_type": "display_data"
    }
   ],
   "source": [
    "# plot\n",
    "ks = [2**l for l in range(13)]\n",
    "plt.plot(ks, res['sumo'])\n",
    "plt.plot(ks, res['mlmc'])\n",
    "plt.yscale('log')\n",
    "plt.xscale('log')"
   ]
  },
  {
   "cell_type": "code",
   "execution_count": 208,
   "metadata": {
    "scrolled": false
   },
   "outputs": [
    {
     "data": {
      "text/plain": [
       "<tf.Tensor: shape=(), dtype=float32, numpy=-142.46109>"
      ]
     },
     "execution_count": 208,
     "metadata": {},
     "output_type": "execute_result"
    }
   ],
   "source": [
    "model.compute_IWELBO_sumo(train_x, 2**10)"
   ]
  },
  {
   "cell_type": "code",
   "execution_count": 202,
   "metadata": {
    "scrolled": false
   },
   "outputs": [
    {
     "data": {
      "text/plain": [
       "<tf.Tensor: shape=(), dtype=float32, numpy=-142.37726>"
      ]
     },
     "execution_count": 202,
     "metadata": {},
     "output_type": "execute_result"
    }
   ],
   "source": [
    "model.compute_objective(train_x, 8, 'iwelbo')"
   ]
  },
  {
   "cell_type": "code",
   "execution_count": 221,
   "metadata": {
    "scrolled": true
   },
   "outputs": [
    {
     "data": {
      "text/plain": [
       "<tf.Tensor: shape=(), dtype=float32, numpy=-135.28893>"
      ]
     },
     "execution_count": 221,
     "metadata": {},
     "output_type": "execute_result"
    }
   ],
   "source": [
    "model.compute_objective_mlmc(train_x, max_level=1, obj='iwelbo', b=0.45, w0=1/(1+1), randomize=False)"
   ]
  },
  {
   "cell_type": "markdown",
   "metadata": {},
   "source": [
    "# The tragedic failure of MLMC coupling\n",
    "\n",
    "The LHS is 2nd moment of the difference of iwelbo and the RHS is that of its gradients (measured by L2 norm)."
   ]
  },
  {
   "cell_type": "code",
   "execution_count": 24,
   "metadata": {},
   "outputs": [],
   "source": [
    "latent_dim = 3\n",
    "model = IWAE_MLMC(latent_dim)"
   ]
  },
  {
   "cell_type": "code",
   "execution_count": 25,
   "metadata": {
    "scrolled": false
   },
   "outputs": [
    {
     "data": {
      "image/png": "[encoded data removed]",
      "text/plain": [
       "<Figure size 864x360 with 2 Axes>"
      ]
     },
     "metadata": {
      "needs_background": "light"
     },
     "output_type": "display_data"
    }
   ],
   "source": [
    "# before training\n",
    "plt.figure(figsize=[12,5])\n",
    "_ = plot_convergence(model, test_dataset, 'iwelbo')"
   ]
  },
  {
   "cell_type": "code",
   "execution_count": 26,
   "metadata": {},
   "outputs": [],
   "source": [
    "for i in range(7):\n",
    "    train_epoch(model, train_dataset, 'elbo')"
   ]
  },
  {
   "cell_type": "code",
   "execution_count": 27,
   "metadata": {
    "scrolled": false
   },
   "outputs": [
    {
     "data": {
      "image/png": "[encoded data removed]",
      "text/plain": [
       "<Figure size 864x360 with 2 Axes>"
      ]
     },
     "metadata": {
      "needs_background": "light"
     },
     "output_type": "display_data"
    }
   ],
   "source": [
    "# after training\n",
    "plt.figure(figsize=[12,5])\n",
    "_ = plot_convergence(model, test_dataset, 'iwelbo')"
   ]
  },
  {
   "cell_type": "code",
   "execution_count": 28,
   "metadata": {
    "scrolled": true
   },
   "outputs": [
    {
     "data": {
      "image/png": "[encoded data removed]",
      "text/plain": [
       "<Figure size 288x288 with 16 Axes>"
      ]
     },
     "metadata": {
      "needs_background": "light"
     },
     "output_type": "display_data"
    }
   ],
   "source": [
    "# visualize the learned model\n",
    "for test_batch in test_dataset.take(1):\n",
    "    test_sample = test_batch[0:16, :, :, :]\n",
    "\n",
    "generate_images(model, 0, test_sample)\n",
    "plt.show()"
   ]
  },
  {
   "cell_type": "markdown",
   "metadata": {},
   "source": [
    "# Experimenting coupling of various objectives\n",
    "Plots are output in the `../out/convolutional_variational_autoencoder/` as PNG files."
   ]
  },
  {
   "cell_type": "code",
   "execution_count": 21,
   "metadata": {},
   "outputs": [],
   "source": [
    "latent_dim = 3\n",
    "model = IWAE_MLMC(latent_dim)"
   ]
  },
  {
   "cell_type": "code",
   "execution_count": 22,
   "metadata": {
    "scrolled": true
   },
   "outputs": [
    {
     "name": "stdout",
     "output_type": "stream",
     "text": [
      "#epoch: 0, plotting convergence of iwelbo\n",
      "#epoch: 0, plotting convergence of pearson_ubo\n",
      "#epoch: 0, plotting convergence of hellinger_lbo\n",
      "#epoch: 0, plotting convergence of neyman_lbo\n",
      "#epoch: 0, plotting convergence of pearson_lbo\n",
      "#epoch: 0, plotting convergence of hellinger_ubo\n",
      "#epoch: 0, plotting convergence of neyman_ubo\n",
      "now training ... \n",
      "#epoch: 1, plotting convergence of iwelbo\n",
      "#epoch: 1, plotting convergence of pearson_ubo\n",
      "#epoch: 1, plotting convergence of hellinger_lbo\n",
      "#epoch: 1, plotting convergence of neyman_lbo\n",
      "#epoch: 1, plotting convergence of pearson_lbo\n",
      "#epoch: 1, plotting convergence of hellinger_ubo\n",
      "#epoch: 1, plotting convergence of neyman_ubo\n",
      "now training ... \n",
      "#epoch: 2, plotting convergence of iwelbo\n",
      "#epoch: 2, plotting convergence of pearson_ubo\n",
      "#epoch: 2, plotting convergence of hellinger_lbo\n",
      "#epoch: 2, plotting convergence of neyman_lbo\n",
      "#epoch: 2, plotting convergence of pearson_lbo\n",
      "#epoch: 2, plotting convergence of hellinger_ubo\n",
      "#epoch: 2, plotting convergence of neyman_ubo\n",
      "now training ... \n",
      "#epoch: 3, plotting convergence of iwelbo\n",
      "#epoch: 3, plotting convergence of pearson_ubo\n",
      "#epoch: 3, plotting convergence of hellinger_lbo\n",
      "#epoch: 3, plotting convergence of neyman_lbo\n",
      "#epoch: 3, plotting convergence of pearson_lbo\n",
      "#epoch: 3, plotting convergence of hellinger_ubo\n",
      "#epoch: 3, plotting convergence of neyman_ubo\n"
     ]
    }
   ],
   "source": [
    "# set the dimensionality of the latent space to a plane for visualization later\n",
    "res = {}\n",
    "res_sumo = {}\n",
    "n_epochs = 3\n",
    "for epoch in range(n_epochs+1):\n",
    "    for obj in objectives:\n",
    "        print('#epoch: {}, plotting convergence of {}'.format(epoch, obj))\n",
    "        # mlmc\n",
    "        plt.figure(figsize=[15,10])\n",
    "        res_tmp = plot_convergence(model, test_dataset, obj)\n",
    "        res['{}_{}'.format(obj, epoch)] = res_tmp['obj']\n",
    "        res['{}_grad_{}'.format(obj, epoch)] = res_tmp['grad']\n",
    "        plt.savefig('../out/convolutional_variational_autoencoder/convergence_mlmc_{}_{}_epoch(s).png'.format(obj, epoch))\n",
    "        plt.close('all')\n",
    "        #sumo\n",
    "        plt.figure(figsize=[15,10])\n",
    "        res_tmp = plot_convergence_sumo(model, test_dataset, obj)\n",
    "        res_sumo['{}_{}'.format(obj, epoch)] = res_tmp['obj']\n",
    "        res_sumo['{}_grad_{}'.format(obj, epoch)] = res_tmp['grad']\n",
    "        plt.savefig('../out/convolutional_variational_autoencoder/convergence_sumo_{}_{}_epoch(s).png'.format(obj, epoch))\n",
    "        plt.close('all')\n",
    "    if epoch==n_epochs: break\n",
    "    print('now training ... \\r'.format(epoch, obj))\n",
    "    train_epoch(model, train_dataset, 'elbo')\n",
    "# save results to the csv\n",
    "_hash = int(time.time())%10000000\n",
    "pd.DataFrame(res).to_csv('../out/convolutional_variational_autoencoder/mlmc_{}.csv'.format(_hash))\n",
    "pd.DataFrame(res_sumo).to_csv('../out/convolutional_variational_autoencoder/sumo_{}.csv'.format(_hash))"
   ]
  }
 ],
 "metadata": {
  "accelerator": "GPU",
  "colab": {
   "collapsed_sections": [],
   "name": "cvae.ipynb",
   "private_outputs": true,
   "provenance": [],
   "toc_visible": true
  },
  "kernelspec": {
   "display_name": "Python 3",
   "language": "python",
   "name": "python3"
  },
  "language_info": {
   "codemirror_mode": {
    "name": "ipython",
    "version": 3
   },
   "file_extension": ".py",
   "mimetype": "text/x-python",
   "name": "python",
   "nbconvert_exporter": "python",
   "pygments_lexer": "ipython3",
   "version": "3.6.9"
  }
 },
 "nbformat": 4,
 "nbformat_minor": 1
}
